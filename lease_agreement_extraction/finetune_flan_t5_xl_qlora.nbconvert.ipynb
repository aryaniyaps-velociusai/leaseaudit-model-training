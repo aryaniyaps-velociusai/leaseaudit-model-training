{
 "cells": [
  {
   "cell_type": "markdown",
   "metadata": {},
   "source": [
    "## Finetuning Flan T5 XL for lease agreement data extraction"
   ]
  },
  {
   "cell_type": "markdown",
   "metadata": {},
   "source": [
    "### Install dependencies"
   ]
  },
  {
   "cell_type": "code",
   "execution_count": 1,
   "metadata": {
    "execution": {
     "iopub.execute_input": "2024-09-01T02:33:50.990548Z",
     "iopub.status.busy": "2024-09-01T02:33:50.990126Z",
     "iopub.status.idle": "2024-09-01T02:33:54.030809Z",
     "shell.execute_reply": "2024-09-01T02:33:54.030321Z"
    }
   },
   "outputs": [
    {
     "name": "stdout",
     "output_type": "stream",
     "text": [
      "Note: you may need to restart the kernel to use updated packages.\n"
     ]
    }
   ],
   "source": [
    "%pip install pandas numpy peft scikit-learn transformers datasets torch accelerate bitsandbytes huggingface-hub -q"
   ]
  },
  {
   "cell_type": "markdown",
   "metadata": {},
   "source": [
    "### Define the extraction JSON schema"
   ]
  },
  {
   "cell_type": "code",
   "execution_count": 2,
   "metadata": {
    "execution": {
     "iopub.execute_input": "2024-09-01T02:33:54.068285Z",
     "iopub.status.busy": "2024-09-01T02:33:54.067906Z",
     "iopub.status.idle": "2024-09-01T02:33:54.075048Z",
     "shell.execute_reply": "2024-09-01T02:33:54.074657Z"
    }
   },
   "outputs": [],
   "source": [
    "import json\n",
    "\n",
    "extraction_json_schema = {\n",
    "  \"title\": \"ExtractedLeaseData\",\n",
    "  \"type\": \"object\",\n",
    "  \"properties\": {\n",
    "    \"tenant_name\": {\n",
    "      \"type\": [\"string\", \"null\"],\n",
    "      \"description\": \"The name of the tenant, found in the OCR text.\"\n",
    "    },\n",
    "    \"unit_address\": {\n",
    "      \"type\": [\"string\", \"null\"],\n",
    "      \"description\": \"The unit address found in the OCR text.\"\n",
    "    },\n",
    "    \"unit_number\": {\n",
    "      \"type\": [\"string\", \"null\"],\n",
    "      \"description\": \"The unit number found in the OCR text.\"\n",
    "    },\n",
    "    \"unit_type\": {\n",
    "      \"type\": [\"string\", \"null\"],\n",
    "      \"description\": \"The unit type found in the OCR text.\"\n",
    "    },\n",
    "    \"agreement_date\": {\n",
    "      \"type\": [\"string\", \"null\"],\n",
    "      \"format\": \"date\"\n",
    "    },\n",
    "    \"lease_start\": {\n",
    "      \"type\": [\"string\", \"null\"],\n",
    "      \"format\": \"date\",\n",
    "      \"description\": \"The date when the lease starts, found in the OCR text.\"\n",
    "    },\n",
    "    \"lease_end\": {\n",
    "      \"type\": [\"string\", \"null\"],\n",
    "      \"format\": \"date\",\n",
    "      \"description\": \"The date when the lease ends, found in the OCR text.\"\n",
    "    },\n",
    "    \"lease_auto_renew\": {\n",
    "      \"type\": [\"string\", \"null\"],\n",
    "      \"description\": \"The type of lease auto renewal, found in the OCR text.\"\n",
    "    },\n",
    "    \"hourly_rate\": {\n",
    "      \"type\": [\"number\", \"null\"],\n",
    "      \"description\": \"The hourly rate found in the OCR text.\"\n",
    "    },\n",
    "    \"monthly_rent\": {\n",
    "      \"type\": [\"number\", \"null\"],\n",
    "      \"description\": \"The monthly rent found in the OCR text.\"\n",
    "    },\n",
    "    \"prorated_rent\": {\n",
    "      \"type\": [\"number\", \"null\"],\n",
    "      \"description\": \"The prorated rent found in the OCR text.\"\n",
    "    },\n",
    "    \"security_deposit\": {\n",
    "      \"type\": [\"number\", \"null\"],\n",
    "      \"description\": \"The security deposit found in the OCR text.\"\n",
    "    },\n",
    "    \"lease_rent\": {\n",
    "      \"type\": [\"number\", \"null\"],\n",
    "      \"description\": \"The security deposit found in the OCR text.\"\n",
    "    },\n",
    "    \"monthly_payment_breakdown\": {\n",
    "      \"type\": [\"object\", \"null\"],\n",
    "      \"description\": \"The monthly payment breakdown data found in the OCR text.\",\n",
    "      \"additionalProperties\": {}\n",
    "    },\n",
    "    \"utility_charges\": {\n",
    "      \"type\": [\"object\", \"null\"],\n",
    "      \"description\": \"The utility charges found in the OCR text. This is a dictionary with utility charges as the key, and their price as the value.\",\n",
    "      \"additionalProperties\": {\n",
    "        \"type\": [\"number\", \"null\"]\n",
    "      }\n",
    "    }\n",
    "  },\n",
    "  \"required\": [\"tenant_name\", \"unit_address\", \"unit_number\", \"unit_type\", \"agreement_date\", \"lease_start\", \"lease_end\", \"lease_auto_renew\", \"hourly_rate\", \"monthly_rent\", \"prorated_rent\", \"security_deposit\", \"lease_rent\", \"monthly_payment_breakdown\", \"utility_charges\"]\n",
    "}\n",
    "\n",
    "extraction_json_schema_str = json.dumps(extraction_json_schema, indent=2)"
   ]
  },
  {
   "cell_type": "markdown",
   "metadata": {},
   "source": [
    "### Build the Dataset\n",
    "Build the dataset from the collected data in the Sqlite3 database"
   ]
  },
  {
   "cell_type": "code",
   "execution_count": 3,
   "metadata": {
    "execution": {
     "iopub.execute_input": "2024-09-01T02:33:54.076963Z",
     "iopub.status.busy": "2024-09-01T02:33:54.076665Z",
     "iopub.status.idle": "2024-09-01T02:33:54.378545Z",
     "shell.execute_reply": "2024-09-01T02:33:54.378145Z"
    }
   },
   "outputs": [
    {
     "data": {
      "text/html": [
       "<div>\n",
       "<style scoped>\n",
       "    .dataframe tbody tr th:only-of-type {\n",
       "        vertical-align: middle;\n",
       "    }\n",
       "\n",
       "    .dataframe tbody tr th {\n",
       "        vertical-align: top;\n",
       "    }\n",
       "\n",
       "    .dataframe thead th {\n",
       "        text-align: right;\n",
       "    }\n",
       "</style>\n",
       "<table border=\"1\" class=\"dataframe\">\n",
       "  <thead>\n",
       "    <tr style=\"text-align: right;\">\n",
       "      <th></th>\n",
       "      <th>extracted_text</th>\n",
       "      <th>extracted_fields</th>\n",
       "    </tr>\n",
       "    <tr>\n",
       "      <th>id</th>\n",
       "      <th></th>\n",
       "      <th></th>\n",
       "    </tr>\n",
       "  </thead>\n",
       "  <tbody>\n",
       "    <tr>\n",
       "      <th>1</th>\n",
       "      <td>22.PARKING. We may regulate the time, manner, ...</td>\n",
       "      <td>{\"tenant_name\": null, \"unit_address\": null, \"u...</td>\n",
       "    </tr>\n",
       "    <tr>\n",
       "      <th>2</th>\n",
       "      <td>38.MISCELLANEOUS.\\nA. Exercising one remedy wo...</td>\n",
       "      <td>{\"tenant_name\": null, \"unit_address\": null, \"u...</td>\n",
       "    </tr>\n",
       "    <tr>\n",
       "      <th>3</th>\n",
       "      <td>You'll pay for all other utilities, related de...</td>\n",
       "      <td>{\"tenant_name\": null, \"unit_address\": null, \"u...</td>\n",
       "    </tr>\n",
       "    <tr>\n",
       "      <th>4</th>\n",
       "      <td>Disposition or Sale. Except for animals and pr...</td>\n",
       "      <td>{\"tenant_name\": null, \"unit_address\": null, \"u...</td>\n",
       "    </tr>\n",
       "    <tr>\n",
       "      <th>5</th>\n",
       "      <td>dupusit: or 2) return the remaining portion (i...</td>\n",
       "      <td>{\"tenant_name\": \"Comunque Bolas\", \"unit_addres...</td>\n",
       "    </tr>\n",
       "    <tr>\n",
       "      <th>...</th>\n",
       "      <td>...</td>\n",
       "      <td>...</td>\n",
       "    </tr>\n",
       "    <tr>\n",
       "      <th>651</th>\n",
       "      <td>L HOUSING OPPORTUNITY\\nANIMAL ADDENDUM Becomes...</td>\n",
       "      <td>{\"tenant_name\": \"Novy Jezkova\", \"unit_address\"...</td>\n",
       "    </tr>\n",
       "    <tr>\n",
       "      <th>652</th>\n",
       "      <td>POURL HOUSIMO OPPORTUNITY\\nADDITIONAL SPECIAL ...</td>\n",
       "      <td>{\"tenant_name\": \"Novy Jezkova\", \"unit_address\"...</td>\n",
       "    </tr>\n",
       "    <tr>\n",
       "      <th>653</th>\n",
       "      <td>26.CONDITION OF THE PREMISES AND ALTERATIONS. ...</td>\n",
       "      <td>{\"tenant_name\": null, \"unit_address\": null, \"u...</td>\n",
       "    </tr>\n",
       "    <tr>\n",
       "      <th>654</th>\n",
       "      <td>Severability, Originals and Attachments, and S...</td>\n",
       "      <td>{\"tenant_name\": \"Novy Jezkova\", \"unit_address\"...</td>\n",
       "    </tr>\n",
       "    <tr>\n",
       "      <th>655</th>\n",
       "      <td>NAA NATIONAL APARTMENT ASSOCIATION We Lead the...</td>\n",
       "      <td>{\"tenant_name\": \"Novy Jezkova\", \"unit_address\"...</td>\n",
       "    </tr>\n",
       "  </tbody>\n",
       "</table>\n",
       "<p>655 rows × 2 columns</p>\n",
       "</div>"
      ],
      "text/plain": [
       "                                        extracted_text  \\\n",
       "id                                                       \n",
       "1    22.PARKING. We may regulate the time, manner, ...   \n",
       "2    38.MISCELLANEOUS.\\nA. Exercising one remedy wo...   \n",
       "3    You'll pay for all other utilities, related de...   \n",
       "4    Disposition or Sale. Except for animals and pr...   \n",
       "5    dupusit: or 2) return the remaining portion (i...   \n",
       "..                                                 ...   \n",
       "651  L HOUSING OPPORTUNITY\\nANIMAL ADDENDUM Becomes...   \n",
       "652  POURL HOUSIMO OPPORTUNITY\\nADDITIONAL SPECIAL ...   \n",
       "653  26.CONDITION OF THE PREMISES AND ALTERATIONS. ...   \n",
       "654  Severability, Originals and Attachments, and S...   \n",
       "655  NAA NATIONAL APARTMENT ASSOCIATION We Lead the...   \n",
       "\n",
       "                                      extracted_fields  \n",
       "id                                                      \n",
       "1    {\"tenant_name\": null, \"unit_address\": null, \"u...  \n",
       "2    {\"tenant_name\": null, \"unit_address\": null, \"u...  \n",
       "3    {\"tenant_name\": null, \"unit_address\": null, \"u...  \n",
       "4    {\"tenant_name\": null, \"unit_address\": null, \"u...  \n",
       "5    {\"tenant_name\": \"Comunque Bolas\", \"unit_addres...  \n",
       "..                                                 ...  \n",
       "651  {\"tenant_name\": \"Novy Jezkova\", \"unit_address\"...  \n",
       "652  {\"tenant_name\": \"Novy Jezkova\", \"unit_address\"...  \n",
       "653  {\"tenant_name\": null, \"unit_address\": null, \"u...  \n",
       "654  {\"tenant_name\": \"Novy Jezkova\", \"unit_address\"...  \n",
       "655  {\"tenant_name\": \"Novy Jezkova\", \"unit_address\"...  \n",
       "\n",
       "[655 rows x 2 columns]"
      ]
     },
     "execution_count": 3,
     "metadata": {},
     "output_type": "execute_result"
    }
   ],
   "source": [
    "import pandas as pd\n",
    "import sqlite3\n",
    "\n",
    "# Path to the SQLite database\n",
    "db_path = \"../output/extracted_lease_agreements.db\"\n",
    "\n",
    "# Connect to the SQLite database\n",
    "conn = sqlite3.connect(db_path)\n",
    "\n",
    "# Query to select all data from the extracted_data table\n",
    "query = \"SELECT * FROM extracted_data\"\n",
    "\n",
    "# Read the data into a DataFrame\n",
    "df = pd.read_sql_query(query, conn, index_col=\"id\")\n",
    "\n",
    "# Close the database connection\n",
    "conn.close()\n",
    "\n",
    "df"
   ]
  },
  {
   "cell_type": "markdown",
   "metadata": {},
   "source": [
    "#### Preprocess the dataset\n",
    "We need to add in missing fields in the dataset"
   ]
  },
  {
   "cell_type": "code",
   "execution_count": 4,
   "metadata": {
    "execution": {
     "iopub.execute_input": "2024-09-01T02:33:54.380699Z",
     "iopub.status.busy": "2024-09-01T02:33:54.380256Z",
     "iopub.status.idle": "2024-09-01T02:33:54.394893Z",
     "shell.execute_reply": "2024-09-01T02:33:54.394506Z"
    }
   },
   "outputs": [
    {
     "data": {
      "text/html": [
       "<div>\n",
       "<style scoped>\n",
       "    .dataframe tbody tr th:only-of-type {\n",
       "        vertical-align: middle;\n",
       "    }\n",
       "\n",
       "    .dataframe tbody tr th {\n",
       "        vertical-align: top;\n",
       "    }\n",
       "\n",
       "    .dataframe thead th {\n",
       "        text-align: right;\n",
       "    }\n",
       "</style>\n",
       "<table border=\"1\" class=\"dataframe\">\n",
       "  <thead>\n",
       "    <tr style=\"text-align: right;\">\n",
       "      <th></th>\n",
       "      <th>extracted_text</th>\n",
       "      <th>extracted_fields</th>\n",
       "    </tr>\n",
       "    <tr>\n",
       "      <th>id</th>\n",
       "      <th></th>\n",
       "      <th></th>\n",
       "    </tr>\n",
       "  </thead>\n",
       "  <tbody>\n",
       "    <tr>\n",
       "      <th>1</th>\n",
       "      <td>22.PARKING. We may regulate the time, manner, ...</td>\n",
       "      <td>{\"tenant_name\": null, \"unit_address\": null, \"u...</td>\n",
       "    </tr>\n",
       "    <tr>\n",
       "      <th>2</th>\n",
       "      <td>38.MISCELLANEOUS.\\nA. Exercising one remedy wo...</td>\n",
       "      <td>{\"tenant_name\": null, \"unit_address\": null, \"u...</td>\n",
       "    </tr>\n",
       "    <tr>\n",
       "      <th>3</th>\n",
       "      <td>You'll pay for all other utilities, related de...</td>\n",
       "      <td>{\"tenant_name\": null, \"unit_address\": null, \"u...</td>\n",
       "    </tr>\n",
       "    <tr>\n",
       "      <th>4</th>\n",
       "      <td>Disposition or Sale. Except for animals and pr...</td>\n",
       "      <td>{\"tenant_name\": null, \"unit_address\": null, \"u...</td>\n",
       "    </tr>\n",
       "    <tr>\n",
       "      <th>5</th>\n",
       "      <td>dupusit: or 2) return the remaining portion (i...</td>\n",
       "      <td>{\"tenant_name\": \"Comunque Bolas\", \"unit_addres...</td>\n",
       "    </tr>\n",
       "    <tr>\n",
       "      <th>...</th>\n",
       "      <td>...</td>\n",
       "      <td>...</td>\n",
       "    </tr>\n",
       "    <tr>\n",
       "      <th>651</th>\n",
       "      <td>L HOUSING OPPORTUNITY\\nANIMAL ADDENDUM Becomes...</td>\n",
       "      <td>{\"tenant_name\": \"Novy Jezkova\", \"unit_address\"...</td>\n",
       "    </tr>\n",
       "    <tr>\n",
       "      <th>652</th>\n",
       "      <td>POURL HOUSIMO OPPORTUNITY\\nADDITIONAL SPECIAL ...</td>\n",
       "      <td>{\"tenant_name\": \"Novy Jezkova\", \"unit_address\"...</td>\n",
       "    </tr>\n",
       "    <tr>\n",
       "      <th>653</th>\n",
       "      <td>26.CONDITION OF THE PREMISES AND ALTERATIONS. ...</td>\n",
       "      <td>{\"tenant_name\": null, \"unit_address\": null, \"u...</td>\n",
       "    </tr>\n",
       "    <tr>\n",
       "      <th>654</th>\n",
       "      <td>Severability, Originals and Attachments, and S...</td>\n",
       "      <td>{\"tenant_name\": \"Novy Jezkova\", \"unit_address\"...</td>\n",
       "    </tr>\n",
       "    <tr>\n",
       "      <th>655</th>\n",
       "      <td>NAA NATIONAL APARTMENT ASSOCIATION We Lead the...</td>\n",
       "      <td>{\"tenant_name\": \"Novy Jezkova\", \"unit_address\"...</td>\n",
       "    </tr>\n",
       "  </tbody>\n",
       "</table>\n",
       "<p>655 rows × 2 columns</p>\n",
       "</div>"
      ],
      "text/plain": [
       "                                        extracted_text  \\\n",
       "id                                                       \n",
       "1    22.PARKING. We may regulate the time, manner, ...   \n",
       "2    38.MISCELLANEOUS.\\nA. Exercising one remedy wo...   \n",
       "3    You'll pay for all other utilities, related de...   \n",
       "4    Disposition or Sale. Except for animals and pr...   \n",
       "5    dupusit: or 2) return the remaining portion (i...   \n",
       "..                                                 ...   \n",
       "651  L HOUSING OPPORTUNITY\\nANIMAL ADDENDUM Becomes...   \n",
       "652  POURL HOUSIMO OPPORTUNITY\\nADDITIONAL SPECIAL ...   \n",
       "653  26.CONDITION OF THE PREMISES AND ALTERATIONS. ...   \n",
       "654  Severability, Originals and Attachments, and S...   \n",
       "655  NAA NATIONAL APARTMENT ASSOCIATION We Lead the...   \n",
       "\n",
       "                                      extracted_fields  \n",
       "id                                                      \n",
       "1    {\"tenant_name\": null, \"unit_address\": null, \"u...  \n",
       "2    {\"tenant_name\": null, \"unit_address\": null, \"u...  \n",
       "3    {\"tenant_name\": null, \"unit_address\": null, \"u...  \n",
       "4    {\"tenant_name\": null, \"unit_address\": null, \"u...  \n",
       "5    {\"tenant_name\": \"Comunque Bolas\", \"unit_addres...  \n",
       "..                                                 ...  \n",
       "651  {\"tenant_name\": \"Novy Jezkova\", \"unit_address\"...  \n",
       "652  {\"tenant_name\": \"Novy Jezkova\", \"unit_address\"...  \n",
       "653  {\"tenant_name\": null, \"unit_address\": null, \"u...  \n",
       "654  {\"tenant_name\": \"Novy Jezkova\", \"unit_address\"...  \n",
       "655  {\"tenant_name\": \"Novy Jezkova\", \"unit_address\"...  \n",
       "\n",
       "[655 rows x 2 columns]"
      ]
     },
     "execution_count": 4,
     "metadata": {},
     "output_type": "execute_result"
    }
   ],
   "source": [
    "# Function to ensure all required fields are present in the extracted_fields column\n",
    "def ensure_all_fields(extracted_fields, required_fields):\n",
    "    # Convert the extracted_fields string to a dictionary\n",
    "    extracted_data = json.loads(extracted_fields)\n",
    "    \n",
    "    # Check and add any missing fields with a value of None\n",
    "    for field in required_fields:\n",
    "        if field not in extracted_data:\n",
    "            extracted_data[field] = None\n",
    "    \n",
    "    # Convert the dictionary back to a JSON string\n",
    "    return json.dumps(extracted_data)\n",
    "\n",
    "# List of required fields from the extraction_json_schema\n",
    "extraction_fields = list(extraction_json_schema['properties'].keys())\n",
    "\n",
    "# Apply the function to each row in the extracted_fields column\n",
    "df['extracted_fields'] = df['extracted_fields'].apply(ensure_all_fields, required_fields=extraction_fields)\n",
    "\n",
    "# Display the updated DataFrame\n",
    "df"
   ]
  },
  {
   "cell_type": "markdown",
   "metadata": {},
   "source": [
    "### Split the dataset"
   ]
  },
  {
   "cell_type": "code",
   "execution_count": 5,
   "metadata": {
    "execution": {
     "iopub.execute_input": "2024-09-01T02:33:54.396764Z",
     "iopub.status.busy": "2024-09-01T02:33:54.396503Z",
     "iopub.status.idle": "2024-09-01T02:33:54.738335Z",
     "shell.execute_reply": "2024-09-01T02:33:54.737916Z"
    }
   },
   "outputs": [
    {
     "name": "stdout",
     "output_type": "stream",
     "text": [
      "Training set size: 524\n",
      "Evaluation set size: 65\n",
      "Test set size: 66\n"
     ]
    }
   ],
   "source": [
    "from sklearn.model_selection import train_test_split\n",
    "\n",
    "# First split: 80% for training, 20% for temp (which will be split into eval and test)\n",
    "train_df, temp_df = train_test_split(df, test_size=0.2, random_state=42)\n",
    "\n",
    "# Second split: 50% of temp for eval and 50% for test (10% of the original data each)\n",
    "eval_df, test_df = train_test_split(temp_df, test_size=0.5, random_state=42)\n",
    "\n",
    "# Check the sizes of the splits\n",
    "print(f\"Training set size: {len(train_df)}\")\n",
    "print(f\"Evaluation set size: {len(eval_df)}\")\n",
    "print(f\"Test set size: {len(test_df)}\")\n"
   ]
  },
  {
   "cell_type": "markdown",
   "metadata": {},
   "source": [
    "### Load the base model"
   ]
  },
  {
   "cell_type": "code",
   "execution_count": 6,
   "metadata": {
    "execution": {
     "iopub.execute_input": "2024-09-01T02:33:54.740601Z",
     "iopub.status.busy": "2024-09-01T02:33:54.740119Z",
     "iopub.status.idle": "2024-09-01T02:33:57.036381Z",
     "shell.execute_reply": "2024-09-01T02:33:57.035927Z"
    }
   },
   "outputs": [],
   "source": [
    "from peft import LoraConfig, TaskType\n",
    "\n",
    "peft_config = LoraConfig(\n",
    "    lora_alpha=16, # Higher alpha to match larger model capacity\n",
    "    lora_dropout=0.1, # Consistent dropout rate to prevent overfitting\n",
    "    r=8, # Rank, kept the same for balance between performance and efficiency\n",
    "    task_type=TaskType.SEQ_2_SEQ_LM, # Change to SEQ_2_SEQ_LM for seq2seq models\n",
    "    bias=\"none\", # Keeping bias as none, similar to your original setup\n",
    "    target_modules=[\n",
    "        'q', 'v', 'k', 'o', # Attention layers (query, value, key, output projections)\n",
    "        'wi', 'wo', # Feedforward layers (input, output projections)\n",
    "        'wq', 'wv', 'wk', 'wo', # Additional T5-specific projection layers\n",
    "    ], # Target modules relevant to T5 architecture\n",
    ")\n"
   ]
  },
  {
   "cell_type": "code",
   "execution_count": 7,
   "metadata": {
    "execution": {
     "iopub.execute_input": "2024-09-01T02:33:57.038784Z",
     "iopub.status.busy": "2024-09-01T02:33:57.038392Z",
     "iopub.status.idle": "2024-09-01T02:34:01.325912Z",
     "shell.execute_reply": "2024-09-01T02:34:01.325471Z"
    }
   },
   "outputs": [
    {
     "data": {
      "application/vnd.jupyter.widget-view+json": {
       "model_id": "571263451e864a0bafb53c79d59946a4",
       "version_major": 2,
       "version_minor": 0
      },
      "text/plain": [
       "VBox(children=(HTML(value='<center> <img\\nsrc=https://huggingface.co/front/assets/huggingface_logo-noborder.sv…"
      ]
     },
     "metadata": {},
     "output_type": "display_data"
    },
    {
     "name": "stderr",
     "output_type": "stream",
     "text": [
      "/home/azureuser/py_envs/lib/python3.12/site-packages/transformers/tokenization_utils_base.py:1601: FutureWarning: `clean_up_tokenization_spaces` was not set. It will be set to `True` by default. This behavior will be depracted in transformers v4.45, and will be then set to `False` by default. For more details check this issue: https://github.com/huggingface/transformers/issues/31884\n",
      "  warnings.warn(\n"
     ]
    },
    {
     "name": "stderr",
     "output_type": "stream",
     "text": [
      "`low_cpu_mem_usage` was None, now set to True since model is quantized.\n"
     ]
    },
    {
     "data": {
      "application/vnd.jupyter.widget-view+json": {
       "model_id": "2b4f63fd78c942d6b3c26724f96e3bcc",
       "version_major": 2,
       "version_minor": 0
      },
      "text/plain": [
       "Loading checkpoint shards:   0%|          | 0/2 [00:00<?, ?it/s]"
      ]
     },
     "metadata": {},
     "output_type": "display_data"
    },
    {
     "name": "stdout",
     "output_type": "stream",
     "text": [
      "trainable params: 12,189,696 || all params: 2,861,946,880 || trainable%: 0.4259\n"
     ]
    }
   ],
   "source": [
    "\n",
    "from transformers import AutoTokenizer, AutoModelForSeq2SeqLM, BitsAndBytesConfig\n",
    "from huggingface_hub import notebook_login\n",
    "from peft import get_peft_model, prepare_model_for_kbit_training\n",
    "import torch\n",
    "\n",
    "# login to access gated model\n",
    "notebook_login()\n",
    "\n",
    "# Load the tokenizer and model\n",
    "model_id = \"google/flan-t5-xl\"\n",
    "\n",
    "bnb_config = BitsAndBytesConfig(\n",
    "    load_in_4bit=True,\n",
    "    bnb_4bit_quant_type=\"nf4\",\n",
    "    bnb_4bit_compute_dtype=torch.float16,\n",
    ")\n",
    "\n",
    "# empty GPU memory\n",
    "torch.cuda.empty_cache()\n",
    "\n",
    "tokenizer = AutoTokenizer.from_pretrained(model_id)\n",
    "tokenizer.pad_token = tokenizer.eos_token\n",
    "tokenizer.padding_side = 'right'\n",
    "\n",
    "model = AutoModelForSeq2SeqLM.from_pretrained(model_id, quantization_config=bnb_config)\n",
    "\n",
    "model = prepare_model_for_kbit_training(model)\n",
    "model = get_peft_model(model, peft_config)\n",
    "model.print_trainable_parameters()\n"
   ]
  },
  {
   "cell_type": "markdown",
   "metadata": {},
   "source": [
    "### Build the datasets"
   ]
  },
  {
   "cell_type": "code",
   "execution_count": 8,
   "metadata": {
    "execution": {
     "iopub.execute_input": "2024-09-01T02:34:01.328025Z",
     "iopub.status.busy": "2024-09-01T02:34:01.327703Z",
     "iopub.status.idle": "2024-09-01T02:34:01.330139Z",
     "shell.execute_reply": "2024-09-01T02:34:01.329745Z"
    }
   },
   "outputs": [],
   "source": [
    "prompt_template = \"\"\"\n",
    "### TASK:\n",
    "You are a specialized model for extracting specific information from lease agreement text. Your goal is to accurately extract data fields from the provided OCR text of a lease agreement. Additionally, correct any obvious OCR errors you encounter during extraction.\n",
    "\n",
    "### INPUT TEXT:\n",
    "Below is the OCR text extracted from a lease agreement. Carefully analyze this text, and extract the relevant data fields.\n",
    "\n",
    "OCR Text:\n",
    "```\n",
    "{extracted_text}\n",
    "```\n",
    "\n",
    "### RESPONSE FORMAT:\n",
    "Return the extracted data as a JSON object, adhering strictly to the following JSON schema:\n",
    "\n",
    "```json\n",
    "{extraction_json_schema_str}\n",
    "```\n",
    "\"\"\""
   ]
  },
  {
   "cell_type": "code",
   "execution_count": 9,
   "metadata": {
    "execution": {
     "iopub.execute_input": "2024-09-01T02:34:01.332070Z",
     "iopub.status.busy": "2024-09-01T02:34:01.331649Z",
     "iopub.status.idle": "2024-09-01T02:34:02.354448Z",
     "shell.execute_reply": "2024-09-01T02:34:02.354034Z"
    }
   },
   "outputs": [
    {
     "data": {
      "application/vnd.jupyter.widget-view+json": {
       "model_id": "797fd2fffe05493eb0b8cf7ce38ecb00",
       "version_major": 2,
       "version_minor": 0
      },
      "text/plain": [
       "Map:   0%|          | 0/524 [00:00<?, ? examples/s]"
      ]
     },
     "metadata": {},
     "output_type": "display_data"
    },
    {
     "data": {
      "application/vnd.jupyter.widget-view+json": {
       "model_id": "fe5d0c4d048342b5a5682683b5c22caf",
       "version_major": 2,
       "version_minor": 0
      },
      "text/plain": [
       "Map:   0%|          | 0/65 [00:00<?, ? examples/s]"
      ]
     },
     "metadata": {},
     "output_type": "display_data"
    },
    {
     "data": {
      "application/vnd.jupyter.widget-view+json": {
       "model_id": "abde03589de040698e6307418361cac6",
       "version_major": 2,
       "version_minor": 0
      },
      "text/plain": [
       "Map:   0%|          | 0/66 [00:00<?, ? examples/s]"
      ]
     },
     "metadata": {},
     "output_type": "display_data"
    },
    {
     "data": {
      "text/plain": [
       "Dataset({\n",
       "    features: ['extracted_text', 'extracted_fields', 'id'],\n",
       "    num_rows: 524\n",
       "})"
      ]
     },
     "execution_count": 9,
     "metadata": {},
     "output_type": "execute_result"
    }
   ],
   "source": [
    "from datasets import Dataset\n",
    "\n",
    "def preprocess_function(examples):\n",
    "    inputs = [prompt_template.format(extracted_text=extracted_text, extraction_json_schema_str=extraction_json_schema_str) for extracted_text in examples[\"extracted_text\"]]\n",
    "    model_inputs = tokenizer(inputs, max_length=512, truncation=True)\n",
    "\n",
    "    # The \"labels\" are the tokenized outputs:\n",
    "    labels = tokenizer(\n",
    "        text_target=examples[\"extracted_fields\"], \n",
    "        max_length=512,         \n",
    "        truncation=True\n",
    "    )\n",
    "\n",
    "    model_inputs[\"labels\"] = labels[\"input_ids\"]\n",
    "    return model_inputs\n",
    "\n",
    "# Create datasets with the extracted text and labels\n",
    "train_dataset = Dataset.from_pandas(train_df)\n",
    "tokenized_train_dataset = train_dataset.map(preprocess_function, batched=True)\n",
    "eval_dataset = Dataset.from_pandas(eval_df)\n",
    "tokenized_eval_dataset = eval_dataset.map(preprocess_function, batched=True)\n",
    "test_dataset = Dataset.from_pandas(test_df)\n",
    "tokenized_test_dataset = test_dataset.map(preprocess_function, batched=True)\n",
    "\n",
    "train_dataset\n"
   ]
  },
  {
   "cell_type": "markdown",
   "metadata": {},
   "source": [
    "### Train (fine tune) the base model"
   ]
  },
  {
   "cell_type": "code",
   "execution_count": 10,
   "metadata": {
    "execution": {
     "iopub.execute_input": "2024-09-01T02:34:02.357193Z",
     "iopub.status.busy": "2024-09-01T02:34:02.356802Z",
     "iopub.status.idle": "2024-09-02T20:57:11.356883Z",
     "shell.execute_reply": "2024-09-02T20:57:11.356474Z"
    }
   },
   "outputs": [
    {
     "name": "stderr",
     "output_type": "stream",
     "text": [
      "max_steps is given, it will override any value given in num_train_epochs\n"
     ]
    },
    {
     "name": "stderr",
     "output_type": "stream",
     "text": [
      "/home/azureuser/py_envs/lib/python3.12/site-packages/torch/_dynamo/eval_frame.py:600: UserWarning: torch.utils.checkpoint: the use_reentrant parameter should be passed explicitly. In version 2.4 we will raise an exception if use_reentrant is not passed. use_reentrant=False is recommended, but if you need to preserve the current default behavior, you can pass use_reentrant=True. Refer to docs for more details on the differences between the two variants.\n",
      "  return fn(*args, **kwargs)\n"
     ]
    },
    {
     "name": "stderr",
     "output_type": "stream",
     "text": [
      "/home/azureuser/py_envs/lib/python3.12/site-packages/torch/utils/checkpoint.py:295: FutureWarning: `torch.cpu.amp.autocast(args...)` is deprecated. Please use `torch.amp.autocast('cpu', args...)` instead.\n",
      "  with torch.enable_grad(), device_autocast_ctx, torch.cpu.amp.autocast(**ctx.cpu_autocast_kwargs):  # type: ignore[attr-defined]\n"
     ]
    },
    {
     "data": {
      "text/html": [
       "\n",
       "    <div>\n",
       "      \n",
       "      <progress value='2000' max='2000' style='width:300px; height:20px; vertical-align: middle;'></progress>\n",
       "      [2000/2000 42:21:58, Epoch 122/125]\n",
       "    </div>\n",
       "    <table border=\"1\" class=\"dataframe\">\n",
       "  <thead>\n",
       " <tr style=\"text-align: left;\">\n",
       "      <th>Step</th>\n",
       "      <th>Training Loss</th>\n",
       "      <th>Validation Loss</th>\n",
       "    </tr>\n",
       "  </thead>\n",
       "  <tbody>\n",
       "    <tr>\n",
       "      <td>10</td>\n",
       "      <td>1.093500</td>\n",
       "      <td>0.353971</td>\n",
       "    </tr>\n",
       "    <tr>\n",
       "      <td>20</td>\n",
       "      <td>0.325200</td>\n",
       "      <td>0.154096</td>\n",
       "    </tr>\n",
       "    <tr>\n",
       "      <td>30</td>\n",
       "      <td>0.174400</td>\n",
       "      <td>0.133578</td>\n",
       "    </tr>\n",
       "    <tr>\n",
       "      <td>40</td>\n",
       "      <td>0.160000</td>\n",
       "      <td>0.124584</td>\n",
       "    </tr>\n",
       "    <tr>\n",
       "      <td>50</td>\n",
       "      <td>0.131100</td>\n",
       "      <td>0.118901</td>\n",
       "    </tr>\n",
       "    <tr>\n",
       "      <td>60</td>\n",
       "      <td>0.124600</td>\n",
       "      <td>0.112071</td>\n",
       "    </tr>\n",
       "    <tr>\n",
       "      <td>70</td>\n",
       "      <td>0.117900</td>\n",
       "      <td>0.106649</td>\n",
       "    </tr>\n",
       "    <tr>\n",
       "      <td>80</td>\n",
       "      <td>0.112300</td>\n",
       "      <td>0.102662</td>\n",
       "    </tr>\n",
       "    <tr>\n",
       "      <td>90</td>\n",
       "      <td>0.092200</td>\n",
       "      <td>0.100231</td>\n",
       "    </tr>\n",
       "    <tr>\n",
       "      <td>100</td>\n",
       "      <td>0.098300</td>\n",
       "      <td>0.095224</td>\n",
       "    </tr>\n",
       "    <tr>\n",
       "      <td>110</td>\n",
       "      <td>0.084500</td>\n",
       "      <td>0.093849</td>\n",
       "    </tr>\n",
       "    <tr>\n",
       "      <td>120</td>\n",
       "      <td>0.081300</td>\n",
       "      <td>0.093598</td>\n",
       "    </tr>\n",
       "    <tr>\n",
       "      <td>130</td>\n",
       "      <td>0.087100</td>\n",
       "      <td>0.088823</td>\n",
       "    </tr>\n",
       "    <tr>\n",
       "      <td>140</td>\n",
       "      <td>0.070500</td>\n",
       "      <td>0.091156</td>\n",
       "    </tr>\n",
       "    <tr>\n",
       "      <td>150</td>\n",
       "      <td>0.077500</td>\n",
       "      <td>0.087669</td>\n",
       "    </tr>\n",
       "    <tr>\n",
       "      <td>160</td>\n",
       "      <td>0.063000</td>\n",
       "      <td>0.086902</td>\n",
       "    </tr>\n",
       "    <tr>\n",
       "      <td>170</td>\n",
       "      <td>0.058800</td>\n",
       "      <td>0.094411</td>\n",
       "    </tr>\n",
       "    <tr>\n",
       "      <td>180</td>\n",
       "      <td>0.058800</td>\n",
       "      <td>0.091861</td>\n",
       "    </tr>\n",
       "    <tr>\n",
       "      <td>190</td>\n",
       "      <td>0.050100</td>\n",
       "      <td>0.087402</td>\n",
       "    </tr>\n",
       "    <tr>\n",
       "      <td>200</td>\n",
       "      <td>0.052100</td>\n",
       "      <td>0.090368</td>\n",
       "    </tr>\n",
       "    <tr>\n",
       "      <td>210</td>\n",
       "      <td>0.045900</td>\n",
       "      <td>0.090715</td>\n",
       "    </tr>\n",
       "    <tr>\n",
       "      <td>220</td>\n",
       "      <td>0.045500</td>\n",
       "      <td>0.095804</td>\n",
       "    </tr>\n",
       "    <tr>\n",
       "      <td>230</td>\n",
       "      <td>0.040000</td>\n",
       "      <td>0.084620</td>\n",
       "    </tr>\n",
       "    <tr>\n",
       "      <td>240</td>\n",
       "      <td>0.035800</td>\n",
       "      <td>0.090873</td>\n",
       "    </tr>\n",
       "    <tr>\n",
       "      <td>250</td>\n",
       "      <td>0.036000</td>\n",
       "      <td>0.094937</td>\n",
       "    </tr>\n",
       "    <tr>\n",
       "      <td>260</td>\n",
       "      <td>0.035400</td>\n",
       "      <td>0.110966</td>\n",
       "    </tr>\n",
       "    <tr>\n",
       "      <td>270</td>\n",
       "      <td>0.028400</td>\n",
       "      <td>0.101425</td>\n",
       "    </tr>\n",
       "    <tr>\n",
       "      <td>280</td>\n",
       "      <td>0.030100</td>\n",
       "      <td>0.110697</td>\n",
       "    </tr>\n",
       "    <tr>\n",
       "      <td>290</td>\n",
       "      <td>0.027900</td>\n",
       "      <td>0.109704</td>\n",
       "    </tr>\n",
       "    <tr>\n",
       "      <td>300</td>\n",
       "      <td>0.028400</td>\n",
       "      <td>0.103174</td>\n",
       "    </tr>\n",
       "    <tr>\n",
       "      <td>310</td>\n",
       "      <td>0.025600</td>\n",
       "      <td>0.098987</td>\n",
       "    </tr>\n",
       "    <tr>\n",
       "      <td>320</td>\n",
       "      <td>0.023500</td>\n",
       "      <td>0.108245</td>\n",
       "    </tr>\n",
       "    <tr>\n",
       "      <td>330</td>\n",
       "      <td>0.022700</td>\n",
       "      <td>0.106847</td>\n",
       "    </tr>\n",
       "    <tr>\n",
       "      <td>340</td>\n",
       "      <td>0.019500</td>\n",
       "      <td>0.110168</td>\n",
       "    </tr>\n",
       "    <tr>\n",
       "      <td>350</td>\n",
       "      <td>0.023000</td>\n",
       "      <td>0.109761</td>\n",
       "    </tr>\n",
       "    <tr>\n",
       "      <td>360</td>\n",
       "      <td>0.020200</td>\n",
       "      <td>0.111505</td>\n",
       "    </tr>\n",
       "    <tr>\n",
       "      <td>370</td>\n",
       "      <td>0.016700</td>\n",
       "      <td>0.117340</td>\n",
       "    </tr>\n",
       "    <tr>\n",
       "      <td>380</td>\n",
       "      <td>0.017800</td>\n",
       "      <td>0.106633</td>\n",
       "    </tr>\n",
       "    <tr>\n",
       "      <td>390</td>\n",
       "      <td>0.018900</td>\n",
       "      <td>0.103629</td>\n",
       "    </tr>\n",
       "    <tr>\n",
       "      <td>400</td>\n",
       "      <td>0.015800</td>\n",
       "      <td>0.111860</td>\n",
       "    </tr>\n",
       "    <tr>\n",
       "      <td>410</td>\n",
       "      <td>0.015400</td>\n",
       "      <td>0.113728</td>\n",
       "    </tr>\n",
       "    <tr>\n",
       "      <td>420</td>\n",
       "      <td>0.013500</td>\n",
       "      <td>0.118646</td>\n",
       "    </tr>\n",
       "    <tr>\n",
       "      <td>430</td>\n",
       "      <td>0.014500</td>\n",
       "      <td>0.110609</td>\n",
       "    </tr>\n",
       "    <tr>\n",
       "      <td>440</td>\n",
       "      <td>0.011500</td>\n",
       "      <td>0.121773</td>\n",
       "    </tr>\n",
       "    <tr>\n",
       "      <td>450</td>\n",
       "      <td>0.013000</td>\n",
       "      <td>0.110626</td>\n",
       "    </tr>\n",
       "    <tr>\n",
       "      <td>460</td>\n",
       "      <td>0.011000</td>\n",
       "      <td>0.126358</td>\n",
       "    </tr>\n",
       "    <tr>\n",
       "      <td>470</td>\n",
       "      <td>0.011800</td>\n",
       "      <td>0.112147</td>\n",
       "    </tr>\n",
       "    <tr>\n",
       "      <td>480</td>\n",
       "      <td>0.010800</td>\n",
       "      <td>0.135442</td>\n",
       "    </tr>\n",
       "    <tr>\n",
       "      <td>490</td>\n",
       "      <td>0.009800</td>\n",
       "      <td>0.121326</td>\n",
       "    </tr>\n",
       "    <tr>\n",
       "      <td>500</td>\n",
       "      <td>0.008200</td>\n",
       "      <td>0.130185</td>\n",
       "    </tr>\n",
       "    <tr>\n",
       "      <td>510</td>\n",
       "      <td>0.010900</td>\n",
       "      <td>0.122762</td>\n",
       "    </tr>\n",
       "    <tr>\n",
       "      <td>520</td>\n",
       "      <td>0.009700</td>\n",
       "      <td>0.132252</td>\n",
       "    </tr>\n",
       "    <tr>\n",
       "      <td>530</td>\n",
       "      <td>0.009200</td>\n",
       "      <td>0.124224</td>\n",
       "    </tr>\n",
       "    <tr>\n",
       "      <td>540</td>\n",
       "      <td>0.008800</td>\n",
       "      <td>0.117601</td>\n",
       "    </tr>\n",
       "    <tr>\n",
       "      <td>550</td>\n",
       "      <td>0.008600</td>\n",
       "      <td>0.138446</td>\n",
       "    </tr>\n",
       "    <tr>\n",
       "      <td>560</td>\n",
       "      <td>0.007800</td>\n",
       "      <td>0.134582</td>\n",
       "    </tr>\n",
       "    <tr>\n",
       "      <td>570</td>\n",
       "      <td>0.007700</td>\n",
       "      <td>0.113754</td>\n",
       "    </tr>\n",
       "    <tr>\n",
       "      <td>580</td>\n",
       "      <td>0.008100</td>\n",
       "      <td>0.132451</td>\n",
       "    </tr>\n",
       "    <tr>\n",
       "      <td>590</td>\n",
       "      <td>0.008900</td>\n",
       "      <td>0.131921</td>\n",
       "    </tr>\n",
       "    <tr>\n",
       "      <td>600</td>\n",
       "      <td>0.007200</td>\n",
       "      <td>0.132492</td>\n",
       "    </tr>\n",
       "    <tr>\n",
       "      <td>610</td>\n",
       "      <td>0.006700</td>\n",
       "      <td>0.127293</td>\n",
       "    </tr>\n",
       "    <tr>\n",
       "      <td>620</td>\n",
       "      <td>0.007500</td>\n",
       "      <td>0.129613</td>\n",
       "    </tr>\n",
       "    <tr>\n",
       "      <td>630</td>\n",
       "      <td>0.004500</td>\n",
       "      <td>0.137311</td>\n",
       "    </tr>\n",
       "    <tr>\n",
       "      <td>640</td>\n",
       "      <td>0.007000</td>\n",
       "      <td>0.131268</td>\n",
       "    </tr>\n",
       "    <tr>\n",
       "      <td>650</td>\n",
       "      <td>0.005600</td>\n",
       "      <td>0.141892</td>\n",
       "    </tr>\n",
       "    <tr>\n",
       "      <td>660</td>\n",
       "      <td>0.005900</td>\n",
       "      <td>0.130012</td>\n",
       "    </tr>\n",
       "    <tr>\n",
       "      <td>670</td>\n",
       "      <td>0.005300</td>\n",
       "      <td>0.137784</td>\n",
       "    </tr>\n",
       "    <tr>\n",
       "      <td>680</td>\n",
       "      <td>0.005300</td>\n",
       "      <td>0.135026</td>\n",
       "    </tr>\n",
       "    <tr>\n",
       "      <td>690</td>\n",
       "      <td>0.005800</td>\n",
       "      <td>0.122897</td>\n",
       "    </tr>\n",
       "    <tr>\n",
       "      <td>700</td>\n",
       "      <td>0.005400</td>\n",
       "      <td>0.145577</td>\n",
       "    </tr>\n",
       "    <tr>\n",
       "      <td>710</td>\n",
       "      <td>0.005200</td>\n",
       "      <td>0.135664</td>\n",
       "    </tr>\n",
       "    <tr>\n",
       "      <td>720</td>\n",
       "      <td>0.005500</td>\n",
       "      <td>0.139825</td>\n",
       "    </tr>\n",
       "    <tr>\n",
       "      <td>730</td>\n",
       "      <td>0.004700</td>\n",
       "      <td>0.139648</td>\n",
       "    </tr>\n",
       "    <tr>\n",
       "      <td>740</td>\n",
       "      <td>0.004600</td>\n",
       "      <td>0.137426</td>\n",
       "    </tr>\n",
       "    <tr>\n",
       "      <td>750</td>\n",
       "      <td>0.004800</td>\n",
       "      <td>0.143546</td>\n",
       "    </tr>\n",
       "    <tr>\n",
       "      <td>760</td>\n",
       "      <td>0.004800</td>\n",
       "      <td>0.131232</td>\n",
       "    </tr>\n",
       "    <tr>\n",
       "      <td>770</td>\n",
       "      <td>0.005200</td>\n",
       "      <td>0.124214</td>\n",
       "    </tr>\n",
       "    <tr>\n",
       "      <td>780</td>\n",
       "      <td>0.004600</td>\n",
       "      <td>0.134545</td>\n",
       "    </tr>\n",
       "    <tr>\n",
       "      <td>790</td>\n",
       "      <td>0.003600</td>\n",
       "      <td>0.152520</td>\n",
       "    </tr>\n",
       "    <tr>\n",
       "      <td>800</td>\n",
       "      <td>0.004300</td>\n",
       "      <td>0.147663</td>\n",
       "    </tr>\n",
       "    <tr>\n",
       "      <td>810</td>\n",
       "      <td>0.004000</td>\n",
       "      <td>0.139111</td>\n",
       "    </tr>\n",
       "    <tr>\n",
       "      <td>820</td>\n",
       "      <td>0.004500</td>\n",
       "      <td>0.142200</td>\n",
       "    </tr>\n",
       "    <tr>\n",
       "      <td>830</td>\n",
       "      <td>0.004400</td>\n",
       "      <td>0.142478</td>\n",
       "    </tr>\n",
       "    <tr>\n",
       "      <td>840</td>\n",
       "      <td>0.004000</td>\n",
       "      <td>0.141811</td>\n",
       "    </tr>\n",
       "    <tr>\n",
       "      <td>850</td>\n",
       "      <td>0.004300</td>\n",
       "      <td>0.146772</td>\n",
       "    </tr>\n",
       "    <tr>\n",
       "      <td>860</td>\n",
       "      <td>0.003300</td>\n",
       "      <td>0.141507</td>\n",
       "    </tr>\n",
       "    <tr>\n",
       "      <td>870</td>\n",
       "      <td>0.004500</td>\n",
       "      <td>0.137471</td>\n",
       "    </tr>\n",
       "    <tr>\n",
       "      <td>880</td>\n",
       "      <td>0.003700</td>\n",
       "      <td>0.136255</td>\n",
       "    </tr>\n",
       "    <tr>\n",
       "      <td>890</td>\n",
       "      <td>0.003600</td>\n",
       "      <td>0.135377</td>\n",
       "    </tr>\n",
       "    <tr>\n",
       "      <td>900</td>\n",
       "      <td>0.004200</td>\n",
       "      <td>0.151031</td>\n",
       "    </tr>\n",
       "    <tr>\n",
       "      <td>910</td>\n",
       "      <td>0.002800</td>\n",
       "      <td>0.146258</td>\n",
       "    </tr>\n",
       "    <tr>\n",
       "      <td>920</td>\n",
       "      <td>0.003500</td>\n",
       "      <td>0.139454</td>\n",
       "    </tr>\n",
       "    <tr>\n",
       "      <td>930</td>\n",
       "      <td>0.003800</td>\n",
       "      <td>0.141482</td>\n",
       "    </tr>\n",
       "    <tr>\n",
       "      <td>940</td>\n",
       "      <td>0.003300</td>\n",
       "      <td>0.148038</td>\n",
       "    </tr>\n",
       "    <tr>\n",
       "      <td>950</td>\n",
       "      <td>0.002900</td>\n",
       "      <td>0.157316</td>\n",
       "    </tr>\n",
       "    <tr>\n",
       "      <td>960</td>\n",
       "      <td>0.003500</td>\n",
       "      <td>0.152866</td>\n",
       "    </tr>\n",
       "    <tr>\n",
       "      <td>970</td>\n",
       "      <td>0.002500</td>\n",
       "      <td>0.144171</td>\n",
       "    </tr>\n",
       "    <tr>\n",
       "      <td>980</td>\n",
       "      <td>0.003400</td>\n",
       "      <td>0.146484</td>\n",
       "    </tr>\n",
       "    <tr>\n",
       "      <td>990</td>\n",
       "      <td>0.003100</td>\n",
       "      <td>0.144557</td>\n",
       "    </tr>\n",
       "    <tr>\n",
       "      <td>1000</td>\n",
       "      <td>0.003500</td>\n",
       "      <td>0.144420</td>\n",
       "    </tr>\n",
       "    <tr>\n",
       "      <td>1010</td>\n",
       "      <td>0.003700</td>\n",
       "      <td>0.134410</td>\n",
       "    </tr>\n",
       "    <tr>\n",
       "      <td>1020</td>\n",
       "      <td>0.002900</td>\n",
       "      <td>0.139550</td>\n",
       "    </tr>\n",
       "    <tr>\n",
       "      <td>1030</td>\n",
       "      <td>0.003400</td>\n",
       "      <td>0.142746</td>\n",
       "    </tr>\n",
       "    <tr>\n",
       "      <td>1040</td>\n",
       "      <td>0.003700</td>\n",
       "      <td>0.144520</td>\n",
       "    </tr>\n",
       "    <tr>\n",
       "      <td>1050</td>\n",
       "      <td>0.002500</td>\n",
       "      <td>0.150193</td>\n",
       "    </tr>\n",
       "    <tr>\n",
       "      <td>1060</td>\n",
       "      <td>0.003200</td>\n",
       "      <td>0.140921</td>\n",
       "    </tr>\n",
       "    <tr>\n",
       "      <td>1070</td>\n",
       "      <td>0.003200</td>\n",
       "      <td>0.141848</td>\n",
       "    </tr>\n",
       "    <tr>\n",
       "      <td>1080</td>\n",
       "      <td>0.002700</td>\n",
       "      <td>0.151565</td>\n",
       "    </tr>\n",
       "    <tr>\n",
       "      <td>1090</td>\n",
       "      <td>0.002500</td>\n",
       "      <td>0.155957</td>\n",
       "    </tr>\n",
       "    <tr>\n",
       "      <td>1100</td>\n",
       "      <td>0.002700</td>\n",
       "      <td>0.150250</td>\n",
       "    </tr>\n",
       "    <tr>\n",
       "      <td>1110</td>\n",
       "      <td>0.002500</td>\n",
       "      <td>0.150472</td>\n",
       "    </tr>\n",
       "    <tr>\n",
       "      <td>1120</td>\n",
       "      <td>0.002500</td>\n",
       "      <td>0.152358</td>\n",
       "    </tr>\n",
       "    <tr>\n",
       "      <td>1130</td>\n",
       "      <td>0.002800</td>\n",
       "      <td>0.157366</td>\n",
       "    </tr>\n",
       "    <tr>\n",
       "      <td>1140</td>\n",
       "      <td>0.002200</td>\n",
       "      <td>0.152524</td>\n",
       "    </tr>\n",
       "    <tr>\n",
       "      <td>1150</td>\n",
       "      <td>0.002600</td>\n",
       "      <td>0.147532</td>\n",
       "    </tr>\n",
       "    <tr>\n",
       "      <td>1160</td>\n",
       "      <td>0.002600</td>\n",
       "      <td>0.145588</td>\n",
       "    </tr>\n",
       "    <tr>\n",
       "      <td>1170</td>\n",
       "      <td>0.002200</td>\n",
       "      <td>0.144222</td>\n",
       "    </tr>\n",
       "    <tr>\n",
       "      <td>1180</td>\n",
       "      <td>0.002400</td>\n",
       "      <td>0.151222</td>\n",
       "    </tr>\n",
       "    <tr>\n",
       "      <td>1190</td>\n",
       "      <td>0.001900</td>\n",
       "      <td>0.156545</td>\n",
       "    </tr>\n",
       "    <tr>\n",
       "      <td>1200</td>\n",
       "      <td>0.002600</td>\n",
       "      <td>0.152437</td>\n",
       "    </tr>\n",
       "    <tr>\n",
       "      <td>1210</td>\n",
       "      <td>0.002300</td>\n",
       "      <td>0.149092</td>\n",
       "    </tr>\n",
       "    <tr>\n",
       "      <td>1220</td>\n",
       "      <td>0.002400</td>\n",
       "      <td>0.153268</td>\n",
       "    </tr>\n",
       "    <tr>\n",
       "      <td>1230</td>\n",
       "      <td>0.001900</td>\n",
       "      <td>0.151208</td>\n",
       "    </tr>\n",
       "    <tr>\n",
       "      <td>1240</td>\n",
       "      <td>0.002000</td>\n",
       "      <td>0.153263</td>\n",
       "    </tr>\n",
       "    <tr>\n",
       "      <td>1250</td>\n",
       "      <td>0.002300</td>\n",
       "      <td>0.152713</td>\n",
       "    </tr>\n",
       "    <tr>\n",
       "      <td>1260</td>\n",
       "      <td>0.002000</td>\n",
       "      <td>0.157237</td>\n",
       "    </tr>\n",
       "    <tr>\n",
       "      <td>1270</td>\n",
       "      <td>0.001900</td>\n",
       "      <td>0.159401</td>\n",
       "    </tr>\n",
       "    <tr>\n",
       "      <td>1280</td>\n",
       "      <td>0.002200</td>\n",
       "      <td>0.158826</td>\n",
       "    </tr>\n",
       "    <tr>\n",
       "      <td>1290</td>\n",
       "      <td>0.002200</td>\n",
       "      <td>0.156361</td>\n",
       "    </tr>\n",
       "    <tr>\n",
       "      <td>1300</td>\n",
       "      <td>0.002300</td>\n",
       "      <td>0.154368</td>\n",
       "    </tr>\n",
       "    <tr>\n",
       "      <td>1310</td>\n",
       "      <td>0.001900</td>\n",
       "      <td>0.157519</td>\n",
       "    </tr>\n",
       "    <tr>\n",
       "      <td>1320</td>\n",
       "      <td>0.001900</td>\n",
       "      <td>0.162022</td>\n",
       "    </tr>\n",
       "    <tr>\n",
       "      <td>1330</td>\n",
       "      <td>0.001800</td>\n",
       "      <td>0.164392</td>\n",
       "    </tr>\n",
       "    <tr>\n",
       "      <td>1340</td>\n",
       "      <td>0.001900</td>\n",
       "      <td>0.159653</td>\n",
       "    </tr>\n",
       "    <tr>\n",
       "      <td>1350</td>\n",
       "      <td>0.001700</td>\n",
       "      <td>0.154166</td>\n",
       "    </tr>\n",
       "    <tr>\n",
       "      <td>1360</td>\n",
       "      <td>0.002000</td>\n",
       "      <td>0.154978</td>\n",
       "    </tr>\n",
       "    <tr>\n",
       "      <td>1370</td>\n",
       "      <td>0.002200</td>\n",
       "      <td>0.160502</td>\n",
       "    </tr>\n",
       "    <tr>\n",
       "      <td>1380</td>\n",
       "      <td>0.001900</td>\n",
       "      <td>0.159211</td>\n",
       "    </tr>\n",
       "    <tr>\n",
       "      <td>1390</td>\n",
       "      <td>0.001600</td>\n",
       "      <td>0.157488</td>\n",
       "    </tr>\n",
       "    <tr>\n",
       "      <td>1400</td>\n",
       "      <td>0.002200</td>\n",
       "      <td>0.155531</td>\n",
       "    </tr>\n",
       "    <tr>\n",
       "      <td>1410</td>\n",
       "      <td>0.001800</td>\n",
       "      <td>0.158195</td>\n",
       "    </tr>\n",
       "    <tr>\n",
       "      <td>1420</td>\n",
       "      <td>0.001900</td>\n",
       "      <td>0.157743</td>\n",
       "    </tr>\n",
       "    <tr>\n",
       "      <td>1430</td>\n",
       "      <td>0.001500</td>\n",
       "      <td>0.156508</td>\n",
       "    </tr>\n",
       "    <tr>\n",
       "      <td>1440</td>\n",
       "      <td>0.001900</td>\n",
       "      <td>0.155007</td>\n",
       "    </tr>\n",
       "    <tr>\n",
       "      <td>1450</td>\n",
       "      <td>0.001300</td>\n",
       "      <td>0.157190</td>\n",
       "    </tr>\n",
       "    <tr>\n",
       "      <td>1460</td>\n",
       "      <td>0.001700</td>\n",
       "      <td>0.161269</td>\n",
       "    </tr>\n",
       "    <tr>\n",
       "      <td>1470</td>\n",
       "      <td>0.001800</td>\n",
       "      <td>0.158915</td>\n",
       "    </tr>\n",
       "    <tr>\n",
       "      <td>1480</td>\n",
       "      <td>0.001900</td>\n",
       "      <td>0.158802</td>\n",
       "    </tr>\n",
       "    <tr>\n",
       "      <td>1490</td>\n",
       "      <td>0.001700</td>\n",
       "      <td>0.158013</td>\n",
       "    </tr>\n",
       "    <tr>\n",
       "      <td>1500</td>\n",
       "      <td>0.001500</td>\n",
       "      <td>0.160886</td>\n",
       "    </tr>\n",
       "    <tr>\n",
       "      <td>1510</td>\n",
       "      <td>0.001900</td>\n",
       "      <td>0.162734</td>\n",
       "    </tr>\n",
       "    <tr>\n",
       "      <td>1520</td>\n",
       "      <td>0.001800</td>\n",
       "      <td>0.164915</td>\n",
       "    </tr>\n",
       "    <tr>\n",
       "      <td>1530</td>\n",
       "      <td>0.001300</td>\n",
       "      <td>0.167467</td>\n",
       "    </tr>\n",
       "    <tr>\n",
       "      <td>1540</td>\n",
       "      <td>0.001700</td>\n",
       "      <td>0.166989</td>\n",
       "    </tr>\n",
       "    <tr>\n",
       "      <td>1550</td>\n",
       "      <td>0.001300</td>\n",
       "      <td>0.168527</td>\n",
       "    </tr>\n",
       "    <tr>\n",
       "      <td>1560</td>\n",
       "      <td>0.001700</td>\n",
       "      <td>0.169695</td>\n",
       "    </tr>\n",
       "    <tr>\n",
       "      <td>1570</td>\n",
       "      <td>0.001800</td>\n",
       "      <td>0.165975</td>\n",
       "    </tr>\n",
       "    <tr>\n",
       "      <td>1580</td>\n",
       "      <td>0.001800</td>\n",
       "      <td>0.168151</td>\n",
       "    </tr>\n",
       "    <tr>\n",
       "      <td>1590</td>\n",
       "      <td>0.001300</td>\n",
       "      <td>0.168659</td>\n",
       "    </tr>\n",
       "    <tr>\n",
       "      <td>1600</td>\n",
       "      <td>0.001500</td>\n",
       "      <td>0.168371</td>\n",
       "    </tr>\n",
       "    <tr>\n",
       "      <td>1610</td>\n",
       "      <td>0.001900</td>\n",
       "      <td>0.165632</td>\n",
       "    </tr>\n",
       "    <tr>\n",
       "      <td>1620</td>\n",
       "      <td>0.001600</td>\n",
       "      <td>0.161684</td>\n",
       "    </tr>\n",
       "    <tr>\n",
       "      <td>1630</td>\n",
       "      <td>0.001700</td>\n",
       "      <td>0.157623</td>\n",
       "    </tr>\n",
       "    <tr>\n",
       "      <td>1640</td>\n",
       "      <td>0.001600</td>\n",
       "      <td>0.156942</td>\n",
       "    </tr>\n",
       "    <tr>\n",
       "      <td>1650</td>\n",
       "      <td>0.001600</td>\n",
       "      <td>0.158910</td>\n",
       "    </tr>\n",
       "    <tr>\n",
       "      <td>1660</td>\n",
       "      <td>0.001700</td>\n",
       "      <td>0.160209</td>\n",
       "    </tr>\n",
       "    <tr>\n",
       "      <td>1670</td>\n",
       "      <td>0.001900</td>\n",
       "      <td>0.163180</td>\n",
       "    </tr>\n",
       "    <tr>\n",
       "      <td>1680</td>\n",
       "      <td>0.001700</td>\n",
       "      <td>0.161728</td>\n",
       "    </tr>\n",
       "    <tr>\n",
       "      <td>1690</td>\n",
       "      <td>0.001500</td>\n",
       "      <td>0.161171</td>\n",
       "    </tr>\n",
       "    <tr>\n",
       "      <td>1700</td>\n",
       "      <td>0.001600</td>\n",
       "      <td>0.162305</td>\n",
       "    </tr>\n",
       "    <tr>\n",
       "      <td>1710</td>\n",
       "      <td>0.001300</td>\n",
       "      <td>0.161797</td>\n",
       "    </tr>\n",
       "    <tr>\n",
       "      <td>1720</td>\n",
       "      <td>0.001400</td>\n",
       "      <td>0.163341</td>\n",
       "    </tr>\n",
       "    <tr>\n",
       "      <td>1730</td>\n",
       "      <td>0.001600</td>\n",
       "      <td>0.165793</td>\n",
       "    </tr>\n",
       "    <tr>\n",
       "      <td>1740</td>\n",
       "      <td>0.001200</td>\n",
       "      <td>0.166807</td>\n",
       "    </tr>\n",
       "    <tr>\n",
       "      <td>1750</td>\n",
       "      <td>0.001700</td>\n",
       "      <td>0.167185</td>\n",
       "    </tr>\n",
       "    <tr>\n",
       "      <td>1760</td>\n",
       "      <td>0.002000</td>\n",
       "      <td>0.167926</td>\n",
       "    </tr>\n",
       "    <tr>\n",
       "      <td>1770</td>\n",
       "      <td>0.001400</td>\n",
       "      <td>0.167629</td>\n",
       "    </tr>\n",
       "    <tr>\n",
       "      <td>1780</td>\n",
       "      <td>0.001700</td>\n",
       "      <td>0.166528</td>\n",
       "    </tr>\n",
       "    <tr>\n",
       "      <td>1790</td>\n",
       "      <td>0.001100</td>\n",
       "      <td>0.165683</td>\n",
       "    </tr>\n",
       "    <tr>\n",
       "      <td>1800</td>\n",
       "      <td>0.001400</td>\n",
       "      <td>0.166345</td>\n",
       "    </tr>\n",
       "    <tr>\n",
       "      <td>1810</td>\n",
       "      <td>0.001200</td>\n",
       "      <td>0.166609</td>\n",
       "    </tr>\n",
       "    <tr>\n",
       "      <td>1820</td>\n",
       "      <td>0.001400</td>\n",
       "      <td>0.166291</td>\n",
       "    </tr>\n",
       "    <tr>\n",
       "      <td>1830</td>\n",
       "      <td>0.001300</td>\n",
       "      <td>0.165472</td>\n",
       "    </tr>\n",
       "    <tr>\n",
       "      <td>1840</td>\n",
       "      <td>0.001300</td>\n",
       "      <td>0.165979</td>\n",
       "    </tr>\n",
       "    <tr>\n",
       "      <td>1850</td>\n",
       "      <td>0.001200</td>\n",
       "      <td>0.166849</td>\n",
       "    </tr>\n",
       "    <tr>\n",
       "      <td>1860</td>\n",
       "      <td>0.001600</td>\n",
       "      <td>0.167813</td>\n",
       "    </tr>\n",
       "    <tr>\n",
       "      <td>1870</td>\n",
       "      <td>0.001200</td>\n",
       "      <td>0.168642</td>\n",
       "    </tr>\n",
       "    <tr>\n",
       "      <td>1880</td>\n",
       "      <td>0.001100</td>\n",
       "      <td>0.169217</td>\n",
       "    </tr>\n",
       "    <tr>\n",
       "      <td>1890</td>\n",
       "      <td>0.001400</td>\n",
       "      <td>0.169373</td>\n",
       "    </tr>\n",
       "    <tr>\n",
       "      <td>1900</td>\n",
       "      <td>0.001500</td>\n",
       "      <td>0.169067</td>\n",
       "    </tr>\n",
       "    <tr>\n",
       "      <td>1910</td>\n",
       "      <td>0.001000</td>\n",
       "      <td>0.169042</td>\n",
       "    </tr>\n",
       "    <tr>\n",
       "      <td>1920</td>\n",
       "      <td>0.001200</td>\n",
       "      <td>0.169315</td>\n",
       "    </tr>\n",
       "    <tr>\n",
       "      <td>1930</td>\n",
       "      <td>0.001400</td>\n",
       "      <td>0.169823</td>\n",
       "    </tr>\n",
       "    <tr>\n",
       "      <td>1940</td>\n",
       "      <td>0.001500</td>\n",
       "      <td>0.170056</td>\n",
       "    </tr>\n",
       "    <tr>\n",
       "      <td>1950</td>\n",
       "      <td>0.001400</td>\n",
       "      <td>0.170202</td>\n",
       "    </tr>\n",
       "    <tr>\n",
       "      <td>1960</td>\n",
       "      <td>0.001600</td>\n",
       "      <td>0.170294</td>\n",
       "    </tr>\n",
       "    <tr>\n",
       "      <td>1970</td>\n",
       "      <td>0.001100</td>\n",
       "      <td>0.170420</td>\n",
       "    </tr>\n",
       "    <tr>\n",
       "      <td>1980</td>\n",
       "      <td>0.001100</td>\n",
       "      <td>0.170540</td>\n",
       "    </tr>\n",
       "    <tr>\n",
       "      <td>1990</td>\n",
       "      <td>0.001500</td>\n",
       "      <td>0.170515</td>\n",
       "    </tr>\n",
       "    <tr>\n",
       "      <td>2000</td>\n",
       "      <td>0.001300</td>\n",
       "      <td>0.170502</td>\n",
       "    </tr>\n",
       "  </tbody>\n",
       "</table><p>"
      ],
      "text/plain": [
       "<IPython.core.display.HTML object>"
      ]
     },
     "metadata": {},
     "output_type": "display_data"
    },
    {
     "name": "stderr",
     "output_type": "stream",
     "text": [
      "/home/azureuser/py_envs/lib/python3.12/site-packages/torch/_dynamo/eval_frame.py:600: UserWarning: torch.utils.checkpoint: the use_reentrant parameter should be passed explicitly. In version 2.4 we will raise an exception if use_reentrant is not passed. use_reentrant=False is recommended, but if you need to preserve the current default behavior, you can pass use_reentrant=True. Refer to docs for more details on the differences between the two variants.\n",
      "  return fn(*args, **kwargs)\n"
     ]
    },
    {
     "name": "stderr",
     "output_type": "stream",
     "text": [
      "/home/azureuser/py_envs/lib/python3.12/site-packages/torch/utils/checkpoint.py:295: FutureWarning: `torch.cpu.amp.autocast(args...)` is deprecated. Please use `torch.amp.autocast('cpu', args...)` instead.\n",
      "  with torch.enable_grad(), device_autocast_ctx, torch.cpu.amp.autocast(**ctx.cpu_autocast_kwargs):  # type: ignore[attr-defined]\n"
     ]
    },
    {
     "name": "stderr",
     "output_type": "stream",
     "text": [
      "/home/azureuser/py_envs/lib/python3.12/site-packages/torch/_dynamo/eval_frame.py:600: UserWarning: torch.utils.checkpoint: the use_reentrant parameter should be passed explicitly. In version 2.4 we will raise an exception if use_reentrant is not passed. use_reentrant=False is recommended, but if you need to preserve the current default behavior, you can pass use_reentrant=True. Refer to docs for more details on the differences between the two variants.\n",
      "  return fn(*args, **kwargs)\n"
     ]
    },
    {
     "name": "stderr",
     "output_type": "stream",
     "text": [
      "/home/azureuser/py_envs/lib/python3.12/site-packages/torch/utils/checkpoint.py:295: FutureWarning: `torch.cpu.amp.autocast(args...)` is deprecated. Please use `torch.amp.autocast('cpu', args...)` instead.\n",
      "  with torch.enable_grad(), device_autocast_ctx, torch.cpu.amp.autocast(**ctx.cpu_autocast_kwargs):  # type: ignore[attr-defined]\n"
     ]
    },
    {
     "name": "stderr",
     "output_type": "stream",
     "text": [
      "/home/azureuser/py_envs/lib/python3.12/site-packages/torch/_dynamo/eval_frame.py:600: UserWarning: torch.utils.checkpoint: the use_reentrant parameter should be passed explicitly. In version 2.4 we will raise an exception if use_reentrant is not passed. use_reentrant=False is recommended, but if you need to preserve the current default behavior, you can pass use_reentrant=True. Refer to docs for more details on the differences between the two variants.\n",
      "  return fn(*args, **kwargs)\n"
     ]
    },
    {
     "name": "stderr",
     "output_type": "stream",
     "text": [
      "/home/azureuser/py_envs/lib/python3.12/site-packages/torch/utils/checkpoint.py:295: FutureWarning: `torch.cpu.amp.autocast(args...)` is deprecated. Please use `torch.amp.autocast('cpu', args...)` instead.\n",
      "  with torch.enable_grad(), device_autocast_ctx, torch.cpu.amp.autocast(**ctx.cpu_autocast_kwargs):  # type: ignore[attr-defined]\n"
     ]
    },
    {
     "name": "stderr",
     "output_type": "stream",
     "text": [
      "/home/azureuser/py_envs/lib/python3.12/site-packages/torch/_dynamo/eval_frame.py:600: UserWarning: torch.utils.checkpoint: the use_reentrant parameter should be passed explicitly. In version 2.4 we will raise an exception if use_reentrant is not passed. use_reentrant=False is recommended, but if you need to preserve the current default behavior, you can pass use_reentrant=True. Refer to docs for more details on the differences between the two variants.\n",
      "  return fn(*args, **kwargs)\n"
     ]
    },
    {
     "name": "stderr",
     "output_type": "stream",
     "text": [
      "/home/azureuser/py_envs/lib/python3.12/site-packages/torch/utils/checkpoint.py:295: FutureWarning: `torch.cpu.amp.autocast(args...)` is deprecated. Please use `torch.amp.autocast('cpu', args...)` instead.\n",
      "  with torch.enable_grad(), device_autocast_ctx, torch.cpu.amp.autocast(**ctx.cpu_autocast_kwargs):  # type: ignore[attr-defined]\n"
     ]
    },
    {
     "name": "stderr",
     "output_type": "stream",
     "text": [
      "/home/azureuser/py_envs/lib/python3.12/site-packages/torch/_dynamo/eval_frame.py:600: UserWarning: torch.utils.checkpoint: the use_reentrant parameter should be passed explicitly. In version 2.4 we will raise an exception if use_reentrant is not passed. use_reentrant=False is recommended, but if you need to preserve the current default behavior, you can pass use_reentrant=True. Refer to docs for more details on the differences between the two variants.\n",
      "  return fn(*args, **kwargs)\n"
     ]
    },
    {
     "name": "stderr",
     "output_type": "stream",
     "text": [
      "/home/azureuser/py_envs/lib/python3.12/site-packages/torch/utils/checkpoint.py:295: FutureWarning: `torch.cpu.amp.autocast(args...)` is deprecated. Please use `torch.amp.autocast('cpu', args...)` instead.\n",
      "  with torch.enable_grad(), device_autocast_ctx, torch.cpu.amp.autocast(**ctx.cpu_autocast_kwargs):  # type: ignore[attr-defined]\n"
     ]
    },
    {
     "name": "stderr",
     "output_type": "stream",
     "text": [
      "/home/azureuser/py_envs/lib/python3.12/site-packages/torch/_dynamo/eval_frame.py:600: UserWarning: torch.utils.checkpoint: the use_reentrant parameter should be passed explicitly. In version 2.4 we will raise an exception if use_reentrant is not passed. use_reentrant=False is recommended, but if you need to preserve the current default behavior, you can pass use_reentrant=True. Refer to docs for more details on the differences between the two variants.\n",
      "  return fn(*args, **kwargs)\n"
     ]
    },
    {
     "name": "stderr",
     "output_type": "stream",
     "text": [
      "/home/azureuser/py_envs/lib/python3.12/site-packages/torch/utils/checkpoint.py:295: FutureWarning: `torch.cpu.amp.autocast(args...)` is deprecated. Please use `torch.amp.autocast('cpu', args...)` instead.\n",
      "  with torch.enable_grad(), device_autocast_ctx, torch.cpu.amp.autocast(**ctx.cpu_autocast_kwargs):  # type: ignore[attr-defined]\n"
     ]
    },
    {
     "name": "stderr",
     "output_type": "stream",
     "text": [
      "/home/azureuser/py_envs/lib/python3.12/site-packages/torch/_dynamo/eval_frame.py:600: UserWarning: torch.utils.checkpoint: the use_reentrant parameter should be passed explicitly. In version 2.4 we will raise an exception if use_reentrant is not passed. use_reentrant=False is recommended, but if you need to preserve the current default behavior, you can pass use_reentrant=True. Refer to docs for more details on the differences between the two variants.\n",
      "  return fn(*args, **kwargs)\n"
     ]
    },
    {
     "name": "stderr",
     "output_type": "stream",
     "text": [
      "/home/azureuser/py_envs/lib/python3.12/site-packages/torch/utils/checkpoint.py:295: FutureWarning: `torch.cpu.amp.autocast(args...)` is deprecated. Please use `torch.amp.autocast('cpu', args...)` instead.\n",
      "  with torch.enable_grad(), device_autocast_ctx, torch.cpu.amp.autocast(**ctx.cpu_autocast_kwargs):  # type: ignore[attr-defined]\n"
     ]
    },
    {
     "name": "stderr",
     "output_type": "stream",
     "text": [
      "/home/azureuser/py_envs/lib/python3.12/site-packages/torch/_dynamo/eval_frame.py:600: UserWarning: torch.utils.checkpoint: the use_reentrant parameter should be passed explicitly. In version 2.4 we will raise an exception if use_reentrant is not passed. use_reentrant=False is recommended, but if you need to preserve the current default behavior, you can pass use_reentrant=True. Refer to docs for more details on the differences between the two variants.\n",
      "  return fn(*args, **kwargs)\n"
     ]
    },
    {
     "name": "stderr",
     "output_type": "stream",
     "text": [
      "/home/azureuser/py_envs/lib/python3.12/site-packages/torch/utils/checkpoint.py:295: FutureWarning: `torch.cpu.amp.autocast(args...)` is deprecated. Please use `torch.amp.autocast('cpu', args...)` instead.\n",
      "  with torch.enable_grad(), device_autocast_ctx, torch.cpu.amp.autocast(**ctx.cpu_autocast_kwargs):  # type: ignore[attr-defined]\n"
     ]
    },
    {
     "name": "stderr",
     "output_type": "stream",
     "text": [
      "/home/azureuser/py_envs/lib/python3.12/site-packages/torch/_dynamo/eval_frame.py:600: UserWarning: torch.utils.checkpoint: the use_reentrant parameter should be passed explicitly. In version 2.4 we will raise an exception if use_reentrant is not passed. use_reentrant=False is recommended, but if you need to preserve the current default behavior, you can pass use_reentrant=True. Refer to docs for more details on the differences between the two variants.\n",
      "  return fn(*args, **kwargs)\n"
     ]
    },
    {
     "name": "stderr",
     "output_type": "stream",
     "text": [
      "/home/azureuser/py_envs/lib/python3.12/site-packages/torch/utils/checkpoint.py:295: FutureWarning: `torch.cpu.amp.autocast(args...)` is deprecated. Please use `torch.amp.autocast('cpu', args...)` instead.\n",
      "  with torch.enable_grad(), device_autocast_ctx, torch.cpu.amp.autocast(**ctx.cpu_autocast_kwargs):  # type: ignore[attr-defined]\n"
     ]
    },
    {
     "name": "stderr",
     "output_type": "stream",
     "text": [
      "/home/azureuser/py_envs/lib/python3.12/site-packages/torch/_dynamo/eval_frame.py:600: UserWarning: torch.utils.checkpoint: the use_reentrant parameter should be passed explicitly. In version 2.4 we will raise an exception if use_reentrant is not passed. use_reentrant=False is recommended, but if you need to preserve the current default behavior, you can pass use_reentrant=True. Refer to docs for more details on the differences between the two variants.\n",
      "  return fn(*args, **kwargs)\n"
     ]
    },
    {
     "name": "stderr",
     "output_type": "stream",
     "text": [
      "/home/azureuser/py_envs/lib/python3.12/site-packages/torch/utils/checkpoint.py:295: FutureWarning: `torch.cpu.amp.autocast(args...)` is deprecated. Please use `torch.amp.autocast('cpu', args...)` instead.\n",
      "  with torch.enable_grad(), device_autocast_ctx, torch.cpu.amp.autocast(**ctx.cpu_autocast_kwargs):  # type: ignore[attr-defined]\n"
     ]
    },
    {
     "name": "stderr",
     "output_type": "stream",
     "text": [
      "/home/azureuser/py_envs/lib/python3.12/site-packages/torch/_dynamo/eval_frame.py:600: UserWarning: torch.utils.checkpoint: the use_reentrant parameter should be passed explicitly. In version 2.4 we will raise an exception if use_reentrant is not passed. use_reentrant=False is recommended, but if you need to preserve the current default behavior, you can pass use_reentrant=True. Refer to docs for more details on the differences between the two variants.\n",
      "  return fn(*args, **kwargs)\n"
     ]
    },
    {
     "name": "stderr",
     "output_type": "stream",
     "text": [
      "/home/azureuser/py_envs/lib/python3.12/site-packages/torch/utils/checkpoint.py:295: FutureWarning: `torch.cpu.amp.autocast(args...)` is deprecated. Please use `torch.amp.autocast('cpu', args...)` instead.\n",
      "  with torch.enable_grad(), device_autocast_ctx, torch.cpu.amp.autocast(**ctx.cpu_autocast_kwargs):  # type: ignore[attr-defined]\n"
     ]
    },
    {
     "name": "stderr",
     "output_type": "stream",
     "text": [
      "/home/azureuser/py_envs/lib/python3.12/site-packages/torch/_dynamo/eval_frame.py:600: UserWarning: torch.utils.checkpoint: the use_reentrant parameter should be passed explicitly. In version 2.4 we will raise an exception if use_reentrant is not passed. use_reentrant=False is recommended, but if you need to preserve the current default behavior, you can pass use_reentrant=True. Refer to docs for more details on the differences between the two variants.\n",
      "  return fn(*args, **kwargs)\n"
     ]
    },
    {
     "name": "stderr",
     "output_type": "stream",
     "text": [
      "/home/azureuser/py_envs/lib/python3.12/site-packages/torch/utils/checkpoint.py:295: FutureWarning: `torch.cpu.amp.autocast(args...)` is deprecated. Please use `torch.amp.autocast('cpu', args...)` instead.\n",
      "  with torch.enable_grad(), device_autocast_ctx, torch.cpu.amp.autocast(**ctx.cpu_autocast_kwargs):  # type: ignore[attr-defined]\n"
     ]
    },
    {
     "name": "stderr",
     "output_type": "stream",
     "text": [
      "/home/azureuser/py_envs/lib/python3.12/site-packages/torch/_dynamo/eval_frame.py:600: UserWarning: torch.utils.checkpoint: the use_reentrant parameter should be passed explicitly. In version 2.4 we will raise an exception if use_reentrant is not passed. use_reentrant=False is recommended, but if you need to preserve the current default behavior, you can pass use_reentrant=True. Refer to docs for more details on the differences between the two variants.\n",
      "  return fn(*args, **kwargs)\n"
     ]
    },
    {
     "name": "stderr",
     "output_type": "stream",
     "text": [
      "/home/azureuser/py_envs/lib/python3.12/site-packages/torch/utils/checkpoint.py:295: FutureWarning: `torch.cpu.amp.autocast(args...)` is deprecated. Please use `torch.amp.autocast('cpu', args...)` instead.\n",
      "  with torch.enable_grad(), device_autocast_ctx, torch.cpu.amp.autocast(**ctx.cpu_autocast_kwargs):  # type: ignore[attr-defined]\n"
     ]
    },
    {
     "name": "stderr",
     "output_type": "stream",
     "text": [
      "/home/azureuser/py_envs/lib/python3.12/site-packages/torch/_dynamo/eval_frame.py:600: UserWarning: torch.utils.checkpoint: the use_reentrant parameter should be passed explicitly. In version 2.4 we will raise an exception if use_reentrant is not passed. use_reentrant=False is recommended, but if you need to preserve the current default behavior, you can pass use_reentrant=True. Refer to docs for more details on the differences between the two variants.\n",
      "  return fn(*args, **kwargs)\n"
     ]
    },
    {
     "name": "stderr",
     "output_type": "stream",
     "text": [
      "/home/azureuser/py_envs/lib/python3.12/site-packages/torch/utils/checkpoint.py:295: FutureWarning: `torch.cpu.amp.autocast(args...)` is deprecated. Please use `torch.amp.autocast('cpu', args...)` instead.\n",
      "  with torch.enable_grad(), device_autocast_ctx, torch.cpu.amp.autocast(**ctx.cpu_autocast_kwargs):  # type: ignore[attr-defined]\n"
     ]
    },
    {
     "name": "stderr",
     "output_type": "stream",
     "text": [
      "/home/azureuser/py_envs/lib/python3.12/site-packages/torch/_dynamo/eval_frame.py:600: UserWarning: torch.utils.checkpoint: the use_reentrant parameter should be passed explicitly. In version 2.4 we will raise an exception if use_reentrant is not passed. use_reentrant=False is recommended, but if you need to preserve the current default behavior, you can pass use_reentrant=True. Refer to docs for more details on the differences between the two variants.\n",
      "  return fn(*args, **kwargs)\n"
     ]
    },
    {
     "name": "stderr",
     "output_type": "stream",
     "text": [
      "/home/azureuser/py_envs/lib/python3.12/site-packages/torch/utils/checkpoint.py:295: FutureWarning: `torch.cpu.amp.autocast(args...)` is deprecated. Please use `torch.amp.autocast('cpu', args...)` instead.\n",
      "  with torch.enable_grad(), device_autocast_ctx, torch.cpu.amp.autocast(**ctx.cpu_autocast_kwargs):  # type: ignore[attr-defined]\n"
     ]
    },
    {
     "name": "stderr",
     "output_type": "stream",
     "text": [
      "/home/azureuser/py_envs/lib/python3.12/site-packages/torch/_dynamo/eval_frame.py:600: UserWarning: torch.utils.checkpoint: the use_reentrant parameter should be passed explicitly. In version 2.4 we will raise an exception if use_reentrant is not passed. use_reentrant=False is recommended, but if you need to preserve the current default behavior, you can pass use_reentrant=True. Refer to docs for more details on the differences between the two variants.\n",
      "  return fn(*args, **kwargs)\n"
     ]
    },
    {
     "name": "stderr",
     "output_type": "stream",
     "text": [
      "/home/azureuser/py_envs/lib/python3.12/site-packages/torch/utils/checkpoint.py:295: FutureWarning: `torch.cpu.amp.autocast(args...)` is deprecated. Please use `torch.amp.autocast('cpu', args...)` instead.\n",
      "  with torch.enable_grad(), device_autocast_ctx, torch.cpu.amp.autocast(**ctx.cpu_autocast_kwargs):  # type: ignore[attr-defined]\n"
     ]
    },
    {
     "name": "stderr",
     "output_type": "stream",
     "text": [
      "/home/azureuser/py_envs/lib/python3.12/site-packages/torch/_dynamo/eval_frame.py:600: UserWarning: torch.utils.checkpoint: the use_reentrant parameter should be passed explicitly. In version 2.4 we will raise an exception if use_reentrant is not passed. use_reentrant=False is recommended, but if you need to preserve the current default behavior, you can pass use_reentrant=True. Refer to docs for more details on the differences between the two variants.\n",
      "  return fn(*args, **kwargs)\n"
     ]
    },
    {
     "name": "stderr",
     "output_type": "stream",
     "text": [
      "/home/azureuser/py_envs/lib/python3.12/site-packages/torch/utils/checkpoint.py:295: FutureWarning: `torch.cpu.amp.autocast(args...)` is deprecated. Please use `torch.amp.autocast('cpu', args...)` instead.\n",
      "  with torch.enable_grad(), device_autocast_ctx, torch.cpu.amp.autocast(**ctx.cpu_autocast_kwargs):  # type: ignore[attr-defined]\n"
     ]
    },
    {
     "name": "stderr",
     "output_type": "stream",
     "text": [
      "/home/azureuser/py_envs/lib/python3.12/site-packages/torch/_dynamo/eval_frame.py:600: UserWarning: torch.utils.checkpoint: the use_reentrant parameter should be passed explicitly. In version 2.4 we will raise an exception if use_reentrant is not passed. use_reentrant=False is recommended, but if you need to preserve the current default behavior, you can pass use_reentrant=True. Refer to docs for more details on the differences between the two variants.\n",
      "  return fn(*args, **kwargs)\n"
     ]
    },
    {
     "name": "stderr",
     "output_type": "stream",
     "text": [
      "/home/azureuser/py_envs/lib/python3.12/site-packages/torch/utils/checkpoint.py:295: FutureWarning: `torch.cpu.amp.autocast(args...)` is deprecated. Please use `torch.amp.autocast('cpu', args...)` instead.\n",
      "  with torch.enable_grad(), device_autocast_ctx, torch.cpu.amp.autocast(**ctx.cpu_autocast_kwargs):  # type: ignore[attr-defined]\n"
     ]
    },
    {
     "name": "stderr",
     "output_type": "stream",
     "text": [
      "/home/azureuser/py_envs/lib/python3.12/site-packages/torch/_dynamo/eval_frame.py:600: UserWarning: torch.utils.checkpoint: the use_reentrant parameter should be passed explicitly. In version 2.4 we will raise an exception if use_reentrant is not passed. use_reentrant=False is recommended, but if you need to preserve the current default behavior, you can pass use_reentrant=True. Refer to docs for more details on the differences between the two variants.\n",
      "  return fn(*args, **kwargs)\n"
     ]
    },
    {
     "name": "stderr",
     "output_type": "stream",
     "text": [
      "/home/azureuser/py_envs/lib/python3.12/site-packages/torch/utils/checkpoint.py:295: FutureWarning: `torch.cpu.amp.autocast(args...)` is deprecated. Please use `torch.amp.autocast('cpu', args...)` instead.\n",
      "  with torch.enable_grad(), device_autocast_ctx, torch.cpu.amp.autocast(**ctx.cpu_autocast_kwargs):  # type: ignore[attr-defined]\n"
     ]
    },
    {
     "name": "stderr",
     "output_type": "stream",
     "text": [
      "/home/azureuser/py_envs/lib/python3.12/site-packages/torch/_dynamo/eval_frame.py:600: UserWarning: torch.utils.checkpoint: the use_reentrant parameter should be passed explicitly. In version 2.4 we will raise an exception if use_reentrant is not passed. use_reentrant=False is recommended, but if you need to preserve the current default behavior, you can pass use_reentrant=True. Refer to docs for more details on the differences between the two variants.\n",
      "  return fn(*args, **kwargs)\n"
     ]
    },
    {
     "name": "stderr",
     "output_type": "stream",
     "text": [
      "/home/azureuser/py_envs/lib/python3.12/site-packages/torch/utils/checkpoint.py:295: FutureWarning: `torch.cpu.amp.autocast(args...)` is deprecated. Please use `torch.amp.autocast('cpu', args...)` instead.\n",
      "  with torch.enable_grad(), device_autocast_ctx, torch.cpu.amp.autocast(**ctx.cpu_autocast_kwargs):  # type: ignore[attr-defined]\n"
     ]
    },
    {
     "name": "stderr",
     "output_type": "stream",
     "text": [
      "/home/azureuser/py_envs/lib/python3.12/site-packages/torch/_dynamo/eval_frame.py:600: UserWarning: torch.utils.checkpoint: the use_reentrant parameter should be passed explicitly. In version 2.4 we will raise an exception if use_reentrant is not passed. use_reentrant=False is recommended, but if you need to preserve the current default behavior, you can pass use_reentrant=True. Refer to docs for more details on the differences between the two variants.\n",
      "  return fn(*args, **kwargs)\n"
     ]
    },
    {
     "name": "stderr",
     "output_type": "stream",
     "text": [
      "/home/azureuser/py_envs/lib/python3.12/site-packages/torch/utils/checkpoint.py:295: FutureWarning: `torch.cpu.amp.autocast(args...)` is deprecated. Please use `torch.amp.autocast('cpu', args...)` instead.\n",
      "  with torch.enable_grad(), device_autocast_ctx, torch.cpu.amp.autocast(**ctx.cpu_autocast_kwargs):  # type: ignore[attr-defined]\n"
     ]
    },
    {
     "name": "stderr",
     "output_type": "stream",
     "text": [
      "/home/azureuser/py_envs/lib/python3.12/site-packages/torch/_dynamo/eval_frame.py:600: UserWarning: torch.utils.checkpoint: the use_reentrant parameter should be passed explicitly. In version 2.4 we will raise an exception if use_reentrant is not passed. use_reentrant=False is recommended, but if you need to preserve the current default behavior, you can pass use_reentrant=True. Refer to docs for more details on the differences between the two variants.\n",
      "  return fn(*args, **kwargs)\n"
     ]
    },
    {
     "name": "stderr",
     "output_type": "stream",
     "text": [
      "/home/azureuser/py_envs/lib/python3.12/site-packages/torch/utils/checkpoint.py:295: FutureWarning: `torch.cpu.amp.autocast(args...)` is deprecated. Please use `torch.amp.autocast('cpu', args...)` instead.\n",
      "  with torch.enable_grad(), device_autocast_ctx, torch.cpu.amp.autocast(**ctx.cpu_autocast_kwargs):  # type: ignore[attr-defined]\n"
     ]
    },
    {
     "name": "stderr",
     "output_type": "stream",
     "text": [
      "/home/azureuser/py_envs/lib/python3.12/site-packages/torch/_dynamo/eval_frame.py:600: UserWarning: torch.utils.checkpoint: the use_reentrant parameter should be passed explicitly. In version 2.4 we will raise an exception if use_reentrant is not passed. use_reentrant=False is recommended, but if you need to preserve the current default behavior, you can pass use_reentrant=True. Refer to docs for more details on the differences between the two variants.\n",
      "  return fn(*args, **kwargs)\n"
     ]
    },
    {
     "name": "stderr",
     "output_type": "stream",
     "text": [
      "/home/azureuser/py_envs/lib/python3.12/site-packages/torch/utils/checkpoint.py:295: FutureWarning: `torch.cpu.amp.autocast(args...)` is deprecated. Please use `torch.amp.autocast('cpu', args...)` instead.\n",
      "  with torch.enable_grad(), device_autocast_ctx, torch.cpu.amp.autocast(**ctx.cpu_autocast_kwargs):  # type: ignore[attr-defined]\n"
     ]
    },
    {
     "name": "stderr",
     "output_type": "stream",
     "text": [
      "/home/azureuser/py_envs/lib/python3.12/site-packages/torch/_dynamo/eval_frame.py:600: UserWarning: torch.utils.checkpoint: the use_reentrant parameter should be passed explicitly. In version 2.4 we will raise an exception if use_reentrant is not passed. use_reentrant=False is recommended, but if you need to preserve the current default behavior, you can pass use_reentrant=True. Refer to docs for more details on the differences between the two variants.\n",
      "  return fn(*args, **kwargs)\n"
     ]
    },
    {
     "name": "stderr",
     "output_type": "stream",
     "text": [
      "/home/azureuser/py_envs/lib/python3.12/site-packages/torch/utils/checkpoint.py:295: FutureWarning: `torch.cpu.amp.autocast(args...)` is deprecated. Please use `torch.amp.autocast('cpu', args...)` instead.\n",
      "  with torch.enable_grad(), device_autocast_ctx, torch.cpu.amp.autocast(**ctx.cpu_autocast_kwargs):  # type: ignore[attr-defined]\n"
     ]
    },
    {
     "name": "stderr",
     "output_type": "stream",
     "text": [
      "/home/azureuser/py_envs/lib/python3.12/site-packages/torch/_dynamo/eval_frame.py:600: UserWarning: torch.utils.checkpoint: the use_reentrant parameter should be passed explicitly. In version 2.4 we will raise an exception if use_reentrant is not passed. use_reentrant=False is recommended, but if you need to preserve the current default behavior, you can pass use_reentrant=True. Refer to docs for more details on the differences between the two variants.\n",
      "  return fn(*args, **kwargs)\n"
     ]
    },
    {
     "name": "stderr",
     "output_type": "stream",
     "text": [
      "/home/azureuser/py_envs/lib/python3.12/site-packages/torch/utils/checkpoint.py:295: FutureWarning: `torch.cpu.amp.autocast(args...)` is deprecated. Please use `torch.amp.autocast('cpu', args...)` instead.\n",
      "  with torch.enable_grad(), device_autocast_ctx, torch.cpu.amp.autocast(**ctx.cpu_autocast_kwargs):  # type: ignore[attr-defined]\n"
     ]
    },
    {
     "name": "stderr",
     "output_type": "stream",
     "text": [
      "/home/azureuser/py_envs/lib/python3.12/site-packages/torch/_dynamo/eval_frame.py:600: UserWarning: torch.utils.checkpoint: the use_reentrant parameter should be passed explicitly. In version 2.4 we will raise an exception if use_reentrant is not passed. use_reentrant=False is recommended, but if you need to preserve the current default behavior, you can pass use_reentrant=True. Refer to docs for more details on the differences between the two variants.\n",
      "  return fn(*args, **kwargs)\n"
     ]
    },
    {
     "name": "stderr",
     "output_type": "stream",
     "text": [
      "/home/azureuser/py_envs/lib/python3.12/site-packages/torch/utils/checkpoint.py:295: FutureWarning: `torch.cpu.amp.autocast(args...)` is deprecated. Please use `torch.amp.autocast('cpu', args...)` instead.\n",
      "  with torch.enable_grad(), device_autocast_ctx, torch.cpu.amp.autocast(**ctx.cpu_autocast_kwargs):  # type: ignore[attr-defined]\n"
     ]
    },
    {
     "name": "stderr",
     "output_type": "stream",
     "text": [
      "/home/azureuser/py_envs/lib/python3.12/site-packages/torch/_dynamo/eval_frame.py:600: UserWarning: torch.utils.checkpoint: the use_reentrant parameter should be passed explicitly. In version 2.4 we will raise an exception if use_reentrant is not passed. use_reentrant=False is recommended, but if you need to preserve the current default behavior, you can pass use_reentrant=True. Refer to docs for more details on the differences between the two variants.\n",
      "  return fn(*args, **kwargs)\n"
     ]
    },
    {
     "name": "stderr",
     "output_type": "stream",
     "text": [
      "/home/azureuser/py_envs/lib/python3.12/site-packages/torch/utils/checkpoint.py:295: FutureWarning: `torch.cpu.amp.autocast(args...)` is deprecated. Please use `torch.amp.autocast('cpu', args...)` instead.\n",
      "  with torch.enable_grad(), device_autocast_ctx, torch.cpu.amp.autocast(**ctx.cpu_autocast_kwargs):  # type: ignore[attr-defined]\n"
     ]
    },
    {
     "name": "stderr",
     "output_type": "stream",
     "text": [
      "/home/azureuser/py_envs/lib/python3.12/site-packages/torch/_dynamo/eval_frame.py:600: UserWarning: torch.utils.checkpoint: the use_reentrant parameter should be passed explicitly. In version 2.4 we will raise an exception if use_reentrant is not passed. use_reentrant=False is recommended, but if you need to preserve the current default behavior, you can pass use_reentrant=True. Refer to docs for more details on the differences between the two variants.\n",
      "  return fn(*args, **kwargs)\n"
     ]
    },
    {
     "name": "stderr",
     "output_type": "stream",
     "text": [
      "/home/azureuser/py_envs/lib/python3.12/site-packages/torch/utils/checkpoint.py:295: FutureWarning: `torch.cpu.amp.autocast(args...)` is deprecated. Please use `torch.amp.autocast('cpu', args...)` instead.\n",
      "  with torch.enable_grad(), device_autocast_ctx, torch.cpu.amp.autocast(**ctx.cpu_autocast_kwargs):  # type: ignore[attr-defined]\n"
     ]
    },
    {
     "name": "stderr",
     "output_type": "stream",
     "text": [
      "/home/azureuser/py_envs/lib/python3.12/site-packages/torch/_dynamo/eval_frame.py:600: UserWarning: torch.utils.checkpoint: the use_reentrant parameter should be passed explicitly. In version 2.4 we will raise an exception if use_reentrant is not passed. use_reentrant=False is recommended, but if you need to preserve the current default behavior, you can pass use_reentrant=True. Refer to docs for more details on the differences between the two variants.\n",
      "  return fn(*args, **kwargs)\n"
     ]
    },
    {
     "name": "stderr",
     "output_type": "stream",
     "text": [
      "/home/azureuser/py_envs/lib/python3.12/site-packages/torch/utils/checkpoint.py:295: FutureWarning: `torch.cpu.amp.autocast(args...)` is deprecated. Please use `torch.amp.autocast('cpu', args...)` instead.\n",
      "  with torch.enable_grad(), device_autocast_ctx, torch.cpu.amp.autocast(**ctx.cpu_autocast_kwargs):  # type: ignore[attr-defined]\n"
     ]
    },
    {
     "name": "stderr",
     "output_type": "stream",
     "text": [
      "/home/azureuser/py_envs/lib/python3.12/site-packages/torch/_dynamo/eval_frame.py:600: UserWarning: torch.utils.checkpoint: the use_reentrant parameter should be passed explicitly. In version 2.4 we will raise an exception if use_reentrant is not passed. use_reentrant=False is recommended, but if you need to preserve the current default behavior, you can pass use_reentrant=True. Refer to docs for more details on the differences between the two variants.\n",
      "  return fn(*args, **kwargs)\n"
     ]
    },
    {
     "name": "stderr",
     "output_type": "stream",
     "text": [
      "/home/azureuser/py_envs/lib/python3.12/site-packages/torch/utils/checkpoint.py:295: FutureWarning: `torch.cpu.amp.autocast(args...)` is deprecated. Please use `torch.amp.autocast('cpu', args...)` instead.\n",
      "  with torch.enable_grad(), device_autocast_ctx, torch.cpu.amp.autocast(**ctx.cpu_autocast_kwargs):  # type: ignore[attr-defined]\n"
     ]
    },
    {
     "name": "stderr",
     "output_type": "stream",
     "text": [
      "/home/azureuser/py_envs/lib/python3.12/site-packages/torch/_dynamo/eval_frame.py:600: UserWarning: torch.utils.checkpoint: the use_reentrant parameter should be passed explicitly. In version 2.4 we will raise an exception if use_reentrant is not passed. use_reentrant=False is recommended, but if you need to preserve the current default behavior, you can pass use_reentrant=True. Refer to docs for more details on the differences between the two variants.\n",
      "  return fn(*args, **kwargs)\n"
     ]
    },
    {
     "name": "stderr",
     "output_type": "stream",
     "text": [
      "/home/azureuser/py_envs/lib/python3.12/site-packages/torch/utils/checkpoint.py:295: FutureWarning: `torch.cpu.amp.autocast(args...)` is deprecated. Please use `torch.amp.autocast('cpu', args...)` instead.\n",
      "  with torch.enable_grad(), device_autocast_ctx, torch.cpu.amp.autocast(**ctx.cpu_autocast_kwargs):  # type: ignore[attr-defined]\n"
     ]
    },
    {
     "name": "stderr",
     "output_type": "stream",
     "text": [
      "/home/azureuser/py_envs/lib/python3.12/site-packages/torch/_dynamo/eval_frame.py:600: UserWarning: torch.utils.checkpoint: the use_reentrant parameter should be passed explicitly. In version 2.4 we will raise an exception if use_reentrant is not passed. use_reentrant=False is recommended, but if you need to preserve the current default behavior, you can pass use_reentrant=True. Refer to docs for more details on the differences between the two variants.\n",
      "  return fn(*args, **kwargs)\n"
     ]
    },
    {
     "name": "stderr",
     "output_type": "stream",
     "text": [
      "/home/azureuser/py_envs/lib/python3.12/site-packages/torch/utils/checkpoint.py:295: FutureWarning: `torch.cpu.amp.autocast(args...)` is deprecated. Please use `torch.amp.autocast('cpu', args...)` instead.\n",
      "  with torch.enable_grad(), device_autocast_ctx, torch.cpu.amp.autocast(**ctx.cpu_autocast_kwargs):  # type: ignore[attr-defined]\n"
     ]
    },
    {
     "name": "stderr",
     "output_type": "stream",
     "text": [
      "/home/azureuser/py_envs/lib/python3.12/site-packages/torch/_dynamo/eval_frame.py:600: UserWarning: torch.utils.checkpoint: the use_reentrant parameter should be passed explicitly. In version 2.4 we will raise an exception if use_reentrant is not passed. use_reentrant=False is recommended, but if you need to preserve the current default behavior, you can pass use_reentrant=True. Refer to docs for more details on the differences between the two variants.\n",
      "  return fn(*args, **kwargs)\n"
     ]
    },
    {
     "name": "stderr",
     "output_type": "stream",
     "text": [
      "/home/azureuser/py_envs/lib/python3.12/site-packages/torch/utils/checkpoint.py:295: FutureWarning: `torch.cpu.amp.autocast(args...)` is deprecated. Please use `torch.amp.autocast('cpu', args...)` instead.\n",
      "  with torch.enable_grad(), device_autocast_ctx, torch.cpu.amp.autocast(**ctx.cpu_autocast_kwargs):  # type: ignore[attr-defined]\n"
     ]
    },
    {
     "name": "stderr",
     "output_type": "stream",
     "text": [
      "/home/azureuser/py_envs/lib/python3.12/site-packages/torch/_dynamo/eval_frame.py:600: UserWarning: torch.utils.checkpoint: the use_reentrant parameter should be passed explicitly. In version 2.4 we will raise an exception if use_reentrant is not passed. use_reentrant=False is recommended, but if you need to preserve the current default behavior, you can pass use_reentrant=True. Refer to docs for more details on the differences between the two variants.\n",
      "  return fn(*args, **kwargs)\n"
     ]
    },
    {
     "name": "stderr",
     "output_type": "stream",
     "text": [
      "/home/azureuser/py_envs/lib/python3.12/site-packages/torch/utils/checkpoint.py:295: FutureWarning: `torch.cpu.amp.autocast(args...)` is deprecated. Please use `torch.amp.autocast('cpu', args...)` instead.\n",
      "  with torch.enable_grad(), device_autocast_ctx, torch.cpu.amp.autocast(**ctx.cpu_autocast_kwargs):  # type: ignore[attr-defined]\n"
     ]
    },
    {
     "name": "stderr",
     "output_type": "stream",
     "text": [
      "/home/azureuser/py_envs/lib/python3.12/site-packages/torch/_dynamo/eval_frame.py:600: UserWarning: torch.utils.checkpoint: the use_reentrant parameter should be passed explicitly. In version 2.4 we will raise an exception if use_reentrant is not passed. use_reentrant=False is recommended, but if you need to preserve the current default behavior, you can pass use_reentrant=True. Refer to docs for more details on the differences between the two variants.\n",
      "  return fn(*args, **kwargs)\n"
     ]
    },
    {
     "name": "stderr",
     "output_type": "stream",
     "text": [
      "/home/azureuser/py_envs/lib/python3.12/site-packages/torch/utils/checkpoint.py:295: FutureWarning: `torch.cpu.amp.autocast(args...)` is deprecated. Please use `torch.amp.autocast('cpu', args...)` instead.\n",
      "  with torch.enable_grad(), device_autocast_ctx, torch.cpu.amp.autocast(**ctx.cpu_autocast_kwargs):  # type: ignore[attr-defined]\n"
     ]
    },
    {
     "name": "stderr",
     "output_type": "stream",
     "text": [
      "/home/azureuser/py_envs/lib/python3.12/site-packages/torch/_dynamo/eval_frame.py:600: UserWarning: torch.utils.checkpoint: the use_reentrant parameter should be passed explicitly. In version 2.4 we will raise an exception if use_reentrant is not passed. use_reentrant=False is recommended, but if you need to preserve the current default behavior, you can pass use_reentrant=True. Refer to docs for more details on the differences between the two variants.\n",
      "  return fn(*args, **kwargs)\n"
     ]
    },
    {
     "name": "stderr",
     "output_type": "stream",
     "text": [
      "/home/azureuser/py_envs/lib/python3.12/site-packages/torch/utils/checkpoint.py:295: FutureWarning: `torch.cpu.amp.autocast(args...)` is deprecated. Please use `torch.amp.autocast('cpu', args...)` instead.\n",
      "  with torch.enable_grad(), device_autocast_ctx, torch.cpu.amp.autocast(**ctx.cpu_autocast_kwargs):  # type: ignore[attr-defined]\n"
     ]
    },
    {
     "name": "stderr",
     "output_type": "stream",
     "text": [
      "/home/azureuser/py_envs/lib/python3.12/site-packages/torch/_dynamo/eval_frame.py:600: UserWarning: torch.utils.checkpoint: the use_reentrant parameter should be passed explicitly. In version 2.4 we will raise an exception if use_reentrant is not passed. use_reentrant=False is recommended, but if you need to preserve the current default behavior, you can pass use_reentrant=True. Refer to docs for more details on the differences between the two variants.\n",
      "  return fn(*args, **kwargs)\n"
     ]
    },
    {
     "name": "stderr",
     "output_type": "stream",
     "text": [
      "/home/azureuser/py_envs/lib/python3.12/site-packages/torch/utils/checkpoint.py:295: FutureWarning: `torch.cpu.amp.autocast(args...)` is deprecated. Please use `torch.amp.autocast('cpu', args...)` instead.\n",
      "  with torch.enable_grad(), device_autocast_ctx, torch.cpu.amp.autocast(**ctx.cpu_autocast_kwargs):  # type: ignore[attr-defined]\n"
     ]
    },
    {
     "name": "stderr",
     "output_type": "stream",
     "text": [
      "/home/azureuser/py_envs/lib/python3.12/site-packages/torch/_dynamo/eval_frame.py:600: UserWarning: torch.utils.checkpoint: the use_reentrant parameter should be passed explicitly. In version 2.4 we will raise an exception if use_reentrant is not passed. use_reentrant=False is recommended, but if you need to preserve the current default behavior, you can pass use_reentrant=True. Refer to docs for more details on the differences between the two variants.\n",
      "  return fn(*args, **kwargs)\n"
     ]
    },
    {
     "name": "stderr",
     "output_type": "stream",
     "text": [
      "/home/azureuser/py_envs/lib/python3.12/site-packages/torch/utils/checkpoint.py:295: FutureWarning: `torch.cpu.amp.autocast(args...)` is deprecated. Please use `torch.amp.autocast('cpu', args...)` instead.\n",
      "  with torch.enable_grad(), device_autocast_ctx, torch.cpu.amp.autocast(**ctx.cpu_autocast_kwargs):  # type: ignore[attr-defined]\n"
     ]
    },
    {
     "name": "stderr",
     "output_type": "stream",
     "text": [
      "/home/azureuser/py_envs/lib/python3.12/site-packages/torch/_dynamo/eval_frame.py:600: UserWarning: torch.utils.checkpoint: the use_reentrant parameter should be passed explicitly. In version 2.4 we will raise an exception if use_reentrant is not passed. use_reentrant=False is recommended, but if you need to preserve the current default behavior, you can pass use_reentrant=True. Refer to docs for more details on the differences between the two variants.\n",
      "  return fn(*args, **kwargs)\n"
     ]
    },
    {
     "name": "stderr",
     "output_type": "stream",
     "text": [
      "/home/azureuser/py_envs/lib/python3.12/site-packages/torch/utils/checkpoint.py:295: FutureWarning: `torch.cpu.amp.autocast(args...)` is deprecated. Please use `torch.amp.autocast('cpu', args...)` instead.\n",
      "  with torch.enable_grad(), device_autocast_ctx, torch.cpu.amp.autocast(**ctx.cpu_autocast_kwargs):  # type: ignore[attr-defined]\n"
     ]
    },
    {
     "data": {
      "text/plain": [
       "TrainOutput(global_step=2000, training_loss=0.02121274389605969, metrics={'train_runtime': 152588.4045, 'train_samples_per_second': 0.419, 'train_steps_per_second': 0.013, 'total_flos': 5.49744808034304e+17, 'train_loss': 0.02121274389605969, 'epoch': 122.13740458015268})"
      ]
     },
     "execution_count": 10,
     "metadata": {},
     "output_type": "execute_result"
    }
   ],
   "source": [
    "from transformers import Seq2SeqTrainingArguments, DataCollatorForSeq2Seq, Seq2SeqTrainer\n",
    "\n",
    "training_args = Seq2SeqTrainingArguments(\n",
    "    output_dir=\"./results\",\n",
    "    eval_strategy=\"steps\",  # Changed to evaluate based on steps\n",
    "    eval_steps=10,  # Evaluate every 10 steps\n",
    "    learning_rate=1e-3,\n",
    "    lr_scheduler_type=\"linear\",\n",
    "    per_device_train_batch_size=4,\n",
    "    per_device_eval_batch_size=4,\n",
    "    gradient_accumulation_steps=8,\n",
    "    gradient_checkpointing=True,\n",
    "    logging_strategy=\"steps\",\n",
    "    logging_steps=10,\n",
    "    disable_tqdm=False,  # Ensure tqdm progress bar is enabled\n",
    "    max_steps = 2000, # increase max steps\n",
    "    save_strategy=\"steps\",\n",
    "    save_steps=50,  # Save a checkpoint every 10 steps\n",
    "    # predict_with_generate=True, # need this for ROUGE/ BLEU metrics\n",
    "    optim=\"paged_adamw_32bit\",\n",
    ")\n",
    "\n",
    "trainer = Seq2SeqTrainer(\n",
    "    model=model,\n",
    "    tokenizer=tokenizer,\n",
    "    train_dataset=tokenized_train_dataset,\n",
    "    eval_dataset=tokenized_eval_dataset,\n",
    "    args=training_args,\n",
    "    data_collator=DataCollatorForSeq2Seq(\n",
    "        tokenizer=tokenizer,\n",
    "        model=model,\n",
    "        return_tensors=\"pt\",  # Return PyTorch tensors\n",
    "    )\n",
    ")\n",
    "model.config.use_cache = False  # silence the warnings. Please re-enable for inference!\n",
    "trainer.train()"
   ]
  },
  {
   "cell_type": "markdown",
   "metadata": {},
   "source": [
    "### Save the model"
   ]
  },
  {
   "cell_type": "code",
   "execution_count": 11,
   "metadata": {
    "execution": {
     "iopub.execute_input": "2024-09-02T20:57:11.359103Z",
     "iopub.status.busy": "2024-09-02T20:57:11.358607Z",
     "iopub.status.idle": "2024-09-02T20:57:11.361034Z",
     "shell.execute_reply": "2024-09-02T20:57:11.360662Z"
    }
   },
   "outputs": [],
   "source": [
    "peft_model_repo_id = \"aryaniyaps/finetuned_flan_t5_xl_lease_data_extraction_40_deals\""
   ]
  },
  {
   "cell_type": "code",
   "execution_count": 12,
   "metadata": {
    "execution": {
     "iopub.execute_input": "2024-09-02T20:57:11.362806Z",
     "iopub.status.busy": "2024-09-02T20:57:11.362529Z",
     "iopub.status.idle": "2024-09-02T20:57:14.309305Z",
     "shell.execute_reply": "2024-09-02T20:57:14.308917Z"
    }
   },
   "outputs": [
    {
     "data": {
      "application/vnd.jupyter.widget-view+json": {
       "model_id": "7baf7085158f4a628da6a71fbf14b1e5",
       "version_major": 2,
       "version_minor": 0
      },
      "text/plain": [
       "README.md:   0%|          | 0.00/5.17k [00:00<?, ?B/s]"
      ]
     },
     "metadata": {},
     "output_type": "display_data"
    },
    {
     "data": {
      "application/vnd.jupyter.widget-view+json": {
       "model_id": "66c8843321674724a0f1e03903cf14a6",
       "version_major": 2,
       "version_minor": 0
      },
      "text/plain": [
       "adapter_model.safetensors:   0%|          | 0.00/48.9M [00:00<?, ?B/s]"
      ]
     },
     "metadata": {},
     "output_type": "display_data"
    },
    {
     "data": {
      "text/plain": [
       "CommitInfo(commit_url='https://huggingface.co/aryaniyaps/finetuned_flan_t5_xl_lease_data_extraction_40_deals/commit/b5c9e46b8e7aee048c5cf39fcaa7b00a4b0b062f', commit_message='Upload model', commit_description='', oid='b5c9e46b8e7aee048c5cf39fcaa7b00a4b0b062f', pr_url=None, pr_revision=None, pr_num=None)"
      ]
     },
     "execution_count": 12,
     "metadata": {},
     "output_type": "execute_result"
    }
   ],
   "source": [
    "# Push the PEFT model (LoRA adapters) to Hugging Face Hub\n",
    "trainer.model.save_pretrained(\"./saved_models/finetuned_flan_t5_xl_lease_data_extraction_40_deals\")\n",
    "\n",
    "trainer.model.push_to_hub(peft_model_repo_id)"
   ]
  },
  {
   "cell_type": "markdown",
   "metadata": {},
   "source": [
    "### Evaluate the model"
   ]
  },
  {
   "cell_type": "code",
   "execution_count": 13,
   "metadata": {
    "execution": {
     "iopub.execute_input": "2024-09-02T20:57:14.311386Z",
     "iopub.status.busy": "2024-09-02T20:57:14.311056Z",
     "iopub.status.idle": "2024-09-02T20:57:15.472800Z",
     "shell.execute_reply": "2024-09-02T20:57:15.472393Z"
    }
   },
   "outputs": [
    {
     "data": {
      "application/vnd.jupyter.widget-view+json": {
       "model_id": "2210ab8ea0724be6a2b0ea49952edf25",
       "version_major": 2,
       "version_minor": 0
      },
      "text/plain": [
       "adapter_config.json:   0%|          | 0.00/702 [00:00<?, ?B/s]"
      ]
     },
     "metadata": {},
     "output_type": "display_data"
    },
    {
     "data": {
      "application/vnd.jupyter.widget-view+json": {
       "model_id": "fe5e680b79734c3fabc1fb790b31afc7",
       "version_major": 2,
       "version_minor": 0
      },
      "text/plain": [
       "adapter_model.safetensors:   0%|          | 0.00/48.9M [00:00<?, ?B/s]"
      ]
     },
     "metadata": {},
     "output_type": "display_data"
    },
    {
     "name": "stdout",
     "output_type": "stream",
     "text": [
      "PEFT model loaded\n"
     ]
    }
   ],
   "source": [
    "from peft import PeftModel\n",
    " \n",
    "# Load the Lora model\n",
    "finetuned_model = PeftModel.from_pretrained(model, peft_model_repo_id, device_map={\"\":0})\n",
    "finetuned_model.eval()\n",
    " \n",
    "print(\"PEFT model loaded\")"
   ]
  },
  {
   "cell_type": "markdown",
   "metadata": {},
   "source": [
    "Let's try data extraction with a random sample"
   ]
  },
  {
   "cell_type": "code",
   "execution_count": 14,
   "metadata": {
    "execution": {
     "iopub.execute_input": "2024-09-02T20:57:15.474808Z",
     "iopub.status.busy": "2024-09-02T20:57:15.474532Z",
     "iopub.status.idle": "2024-09-02T20:57:49.039611Z",
     "shell.execute_reply": "2024-09-02T20:57:49.039173Z"
    }
   },
   "outputs": [],
   "source": [
    "from random import randrange\n",
    "from tabulate import tabulate\n",
    "\n",
    "sample = test_dataset[randrange(len(test_dataset))]\n",
    " \n",
    "input_ids = tokenizer(prompt_template.format(extracted_text=sample[\"extracted_text\"], extraction_json_schema_str=extraction_json_schema_str), return_tensors=\"pt\", truncation=True).input_ids.cuda()\n",
    "with torch.no_grad():\n",
    "    outputs = finetuned_model.generate(input_ids=input_ids, max_new_tokens=512)\n"
   ]
  },
  {
   "cell_type": "code",
   "execution_count": 15,
   "metadata": {
    "execution": {
     "iopub.execute_input": "2024-09-02T20:57:49.041859Z",
     "iopub.status.busy": "2024-09-02T20:57:49.041549Z",
     "iopub.status.idle": "2024-09-02T20:57:49.047168Z",
     "shell.execute_reply": "2024-09-02T20:57:49.046749Z"
    }
   },
   "outputs": [
    {
     "data": {
      "text/html": [
       "<table>\n",
       "<thead>\n",
       "<tr><th>OCR text  </th><th>Extracted data (Finetuned model)                                                                                                                                                                                                                                                                                                                                                                                                                                                                                                                                                                                                                                                                                                                                                                                                                                                                                                                                                                                                                                                                                                                                                                                                                                                                                                                                                                                                                                                                                                                                                                               </th></tr>\n",
       "</thead>\n",
       "<tbody>\n",
       "<tr><td>security deposit to:\n",
       "· Compensate us for your payment default; or breach of any other obligation under this Agreement, including the cost of recovering possession of the Residence, rental commissions, advertising expenses and other costs incurred because of your breach of the Agreement and the Rent and other amounts due through the end of the Agreement term, (including Rent due up through the date you vacate the Residence, Rent due through the date of judgment, and Rent due after the date of judgment through the end of the original Agreement term) and any other amount necessary to compensate us for your breach of the Agreement, minus amounts we reasonably could have avoided;\n",
       ". Clean the Residence at the termination of the tenancy, if not returned to us at the same level of cleanliness as received;\n",
       "· Remedy future defaults by you in any obligation to restore, replace or return personal property or appurtenances, exclusive of ordinary wear and tear; or\n",
       "· Repair damages to the Residence and Property, exclusive of ordinary wear and tear, caused by you or your Related Parties. Damage or deterioration of the Residence is not ordinary wear and tear if it could have been prevented by good maintenance practices by you, or if you failed to notify us of a maintenance issue in a timely fashion in writing so that we could prevent the damage or deterioration.\n",
       "You may not use the Security Deposit in lieu of last month&#x27;s Rent or other amounts due under this Agreement. If we apply any portion of your Security Deposit to amounts due during the term of this Agreement, you must replenish the full amount applied within three days of our demand.\n",
       "If we know you intend to vacate the Residence, we will give you written notice of your right to a pre-move out inspection as required by law. This inspection allows you to identify and correct any deficiencies in the Residence to avoid Security Deposit deductions. If you notify us that you want the inspection, we will inspect the Residence (no earlier than two weeks before termination of the tenancy) and provide you with an itemized statement specifying repairs or cleaning to be made at your expense. Except as otherwise specified in this Agreement, you may make these repairs yourself, or clean the Residence yourself, before you move out to avoid these deductions from your Security Deposit. You have the right to be present during the inspection.\n",
       "Within 21 days after you return possession of the Residence to us, we will refund amounts due to you from the Security Deposit, plus an accounting of how we have used any portion of the Security Deposit that we have retained. If the Security Deposit is insufficient to satisfy the total charges, we will send to you an itemized bill payable on demand. Any Security Deposit refund may be paid by one check jointly payable to all Residents but delivered to only one Resident at the last known address of any Resident. The refund and deductions will be calculated without regard to who paid the Security Deposit or whose conduct resulted in any deductions.\n",
       "4.4 LATE CHARGES AND DEFAULT INTEREST\n",
       "You will be obligated to pay to us the Late Charge if you fail to pay any amount due under this Agreement within the time specified in the Variable Lease Term section. You agree it would be impractical or extremely difficult to fix the actual damage to us and that the Late Charge is a reasonable estimate of the actual damages that the parties reasonably believe would occur as a result of late payment. In addition to the Late Charge, interest will accrue on any unpaid amount at the legal rate of ten percent (10%) per year beginning on the date on which the delinquent amount was due. Late Charges and interest due are in addition to, and not in lieu of, our other remedies.\n",
       "4.5 FAILURE TO MAKE ALL PAYMENTS DUE BEFORE THE COMMENCEMENT DATE\n",
       "If you fail to make all payments specified in the section entitled &quot;Initial Amounts Due&quot; before the specified date, or if you fail to provide us with proof that required utilities have been transferred into your name, or if you fail to provide us with proof that required utilities have been transferred into your name, or if you fail to provide proof of renter&#x27;s insurance (if required under this Agreement):\n",
       "· We have no obligation to give you possession of the Residence; and\n",
       ". We may rescind this Agreement and keep any portion of funds that you have paid (if any) necessary to\n",
       "10           </td><td>&lt;pad&gt; Security Deposit, Compensate, Remedy, Repair, Damage, Damages, Damages, Damages, Damages, Damages, Damages, Damages, Damages, Damages, Damages, Damages, Damages, Damages, Damages, Damages, Damages, Damages, Damages, Damages, Damages, Damages, Damages, Damages, Damages, Damages, Damages, Damages, Damages, Damages, Damages, Damages, Damages, Damages, Damages, Damages, Damages, Damages, Damages, Damages, Damages, Damages, Damages, Damages, Damages, Damages, Damages, Damages, Damages, Damages, Damages, Damages, Damages, Damages, Damages, Damages, Damages, Damages, Damages, Damages, Damages, Damages, Damages, Damages, Damages, Damages, Damages, Damages, Damages, Damages, Damages, Damages, Damages, Damages, Damages, Damages, Damages, Damages, Damages, Damages, Damages, Damages, Damages, Damages, Damages, Damages, Damages, Damages, Damages, Damages, Damages, Damages, Damages, Damages, Damages, Damages, Damages, Damages, Damages, Damages, Damages, Damages, Damages, Damages, Damages, Damages, Damages, Damages, Damages, Damages, Damages, Damages, Damages, Damages, Damages, Damages, Damages, Damages, Damages, Damages, Damages, Damages, Damages, Damages, Damages, Damages, Damages, Damages, Damages, Damages, Damages, Damages, Damages, Damages, Damages, Damages, Damages, Damages, Damages, Damages, Damages, Damages, Damages, Damages, Damages, Damages, Damages, Damages, Damages, Damages, Damages, Damages, Damages, Damages, Damages, Damages, Damages, Damages, Damages, Damages, Damages, Damages, Damages, Damages, Damages, Damages, Damage</td></tr>\n",
       "</tbody>\n",
       "</table>"
      ],
      "text/plain": [
       "'<table>\\n<thead>\\n<tr><th>OCR text  </th><th>Extracted data (Finetuned model)                                                                                                                                                                                                                                                                                                                                                                                                                                                                                                                                                                                                                                                                                                                                                                                                                                                                                                                                                                                                                                                                                                                                                                                                                                                                                                                                                                                                                                                                                                                                                                               </th></tr>\\n</thead>\\n<tbody>\\n<tr><td>security deposit to:\\n· Compensate us for your payment default; or breach of any other obligation under this Agreement, including the cost of recovering possession of the Residence, rental commissions, advertising expenses and other costs incurred because of your breach of the Agreement and the Rent and other amounts due through the end of the Agreement term, (including Rent due up through the date you vacate the Residence, Rent due through the date of judgment, and Rent due after the date of judgment through the end of the original Agreement term) and any other amount necessary to compensate us for your breach of the Agreement, minus amounts we reasonably could have avoided;\\n. Clean the Residence at the termination of the tenancy, if not returned to us at the same level of cleanliness as received;\\n· Remedy future defaults by you in any obligation to restore, replace or return personal property or appurtenances, exclusive of ordinary wear and tear; or\\n· Repair damages to the Residence and Property, exclusive of ordinary wear and tear, caused by you or your Related Parties. Damage or deterioration of the Residence is not ordinary wear and tear if it could have been prevented by good maintenance practices by you, or if you failed to notify us of a maintenance issue in a timely fashion in writing so that we could prevent the damage or deterioration.\\nYou may not use the Security Deposit in lieu of last month&#x27;s Rent or other amounts due under this Agreement. If we apply any portion of your Security Deposit to amounts due during the term of this Agreement, you must replenish the full amount applied within three days of our demand.\\nIf we know you intend to vacate the Residence, we will give you written notice of your right to a pre-move out inspection as required by law. This inspection allows you to identify and correct any deficiencies in the Residence to avoid Security Deposit deductions. If you notify us that you want the inspection, we will inspect the Residence (no earlier than two weeks before termination of the tenancy) and provide you with an itemized statement specifying repairs or cleaning to be made at your expense. Except as otherwise specified in this Agreement, you may make these repairs yourself, or clean the Residence yourself, before you move out to avoid these deductions from your Security Deposit. You have the right to be present during the inspection.\\nWithin 21 days after you return possession of the Residence to us, we will refund amounts due to you from the Security Deposit, plus an accounting of how we have used any portion of the Security Deposit that we have retained. If the Security Deposit is insufficient to satisfy the total charges, we will send to you an itemized bill payable on demand. Any Security Deposit refund may be paid by one check jointly payable to all Residents but delivered to only one Resident at the last known address of any Resident. The refund and deductions will be calculated without regard to who paid the Security Deposit or whose conduct resulted in any deductions.\\n4.4 LATE CHARGES AND DEFAULT INTEREST\\nYou will be obligated to pay to us the Late Charge if you fail to pay any amount due under this Agreement within the time specified in the Variable Lease Term section. You agree it would be impractical or extremely difficult to fix the actual damage to us and that the Late Charge is a reasonable estimate of the actual damages that the parties reasonably believe would occur as a result of late payment. In addition to the Late Charge, interest will accrue on any unpaid amount at the legal rate of ten percent (10%) per year beginning on the date on which the delinquent amount was due. Late Charges and interest due are in addition to, and not in lieu of, our other remedies.\\n4.5 FAILURE TO MAKE ALL PAYMENTS DUE BEFORE THE COMMENCEMENT DATE\\nIf you fail to make all payments specified in the section entitled &quot;Initial Amounts Due&quot; before the specified date, or if you fail to provide us with proof that required utilities have been transferred into your name, or if you fail to provide us with proof that required utilities have been transferred into your name, or if you fail to provide proof of renter&#x27;s insurance (if required under this Agreement):\\n· We have no obligation to give you possession of the Residence; and\\n. We may rescind this Agreement and keep any portion of funds that you have paid (if any) necessary to\\n10           </td><td>&lt;pad&gt; Security Deposit, Compensate, Remedy, Repair, Damage, Damages, Damages, Damages, Damages, Damages, Damages, Damages, Damages, Damages, Damages, Damages, Damages, Damages, Damages, Damages, Damages, Damages, Damages, Damages, Damages, Damages, Damages, Damages, Damages, Damages, Damages, Damages, Damages, Damages, Damages, Damages, Damages, Damages, Damages, Damages, Damages, Damages, Damages, Damages, Damages, Damages, Damages, Damages, Damages, Damages, Damages, Damages, Damages, Damages, Damages, Damages, Damages, Damages, Damages, Damages, Damages, Damages, Damages, Damages, Damages, Damages, Damages, Damages, Damages, Damages, Damages, Damages, Damages, Damages, Damages, Damages, Damages, Damages, Damages, Damages, Damages, Damages, Damages, Damages, Damages, Damages, Damages, Damages, Damages, Damages, Damages, Damages, Damages, Damages, Damages, Damages, Damages, Damages, Damages, Damages, Damages, Damages, Damages, Damages, Damages, Damages, Damages, Damages, Damages, Damages, Damages, Damages, Damages, Damages, Damages, Damages, Damages, Damages, Damages, Damages, Damages, Damages, Damages, Damages, Damages, Damages, Damages, Damages, Damages, Damages, Damages, Damages, Damages, Damages, Damages, Damages, Damages, Damages, Damages, Damages, Damages, Damages, Damages, Damages, Damages, Damages, Damages, Damages, Damages, Damages, Damages, Damages, Damages, Damages, Damages, Damages, Damages, Damages, Damages, Damages, Damages, Damages, Damages, Damages, Damages, Damages, Damages, Damages, Damages, Damages, Damage</td></tr>\\n</tbody>\\n</table>'"
      ]
     },
     "execution_count": 15,
     "metadata": {},
     "output_type": "execute_result"
    }
   ],
   "source": [
    "prediction = tokenizer.decode(outputs[0].detach().cpu().numpy())\n",
    "\n",
    "table_data = [[sample['extracted_text'], prediction]]\n",
    "\n",
    "# Define table headers\n",
    "headers = [\"OCR text\", \"Extracted data (Finetuned model)\"]\n",
    "\n",
    "# Display the table\n",
    "tabulate(table_data, headers=headers, tablefmt=\"html\", showindex=False)"
   ]
  },
  {
   "cell_type": "markdown",
   "metadata": {},
   "source": [
    "### Evaluate the model\n",
    "(Using F1 score and exact matches)"
   ]
  },
  {
   "cell_type": "code",
   "execution_count": 16,
   "metadata": {
    "execution": {
     "iopub.execute_input": "2024-09-02T20:57:49.049118Z",
     "iopub.status.busy": "2024-09-02T20:57:49.048765Z",
     "iopub.status.idle": "2024-09-02T21:18:58.119056Z",
     "shell.execute_reply": "2024-09-02T21:18:58.118636Z"
    }
   },
   "outputs": [
    {
     "name": "stderr",
     "output_type": "stream",
     "text": [
      "\r\n",
      "  0%|                                                                                            | 0/66 [00:00<?, ?it/s]"
     ]
    },
    {
     "name": "stderr",
     "output_type": "stream",
     "text": [
      "\r\n",
      "  2%|█▎                                                                                  | 1/66 [00:33<35:51, 33.10s/it]"
     ]
    },
    {
     "name": "stderr",
     "output_type": "stream",
     "text": [
      "\r\n",
      "  3%|██▌                                                                                 | 2/66 [00:34<15:38, 14.66s/it]"
     ]
    },
    {
     "name": "stderr",
     "output_type": "stream",
     "text": [
      "\r\n",
      "  5%|███▊                                                                                | 3/66 [00:44<13:12, 12.57s/it]"
     ]
    },
    {
     "name": "stderr",
     "output_type": "stream",
     "text": [
      "\r\n",
      "  6%|█████                                                                               | 4/66 [01:17<21:19, 20.63s/it]"
     ]
    },
    {
     "name": "stderr",
     "output_type": "stream",
     "text": [
      "\r\n",
      "  8%|██████▎                                                                             | 5/66 [01:50<25:30, 25.08s/it]"
     ]
    },
    {
     "name": "stderr",
     "output_type": "stream",
     "text": [
      "\r\n",
      "  9%|███████▋                                                                            | 6/66 [02:23<27:45, 27.76s/it]"
     ]
    },
    {
     "name": "stderr",
     "output_type": "stream",
     "text": [
      "\r\n",
      " 11%|████████▉                                                                           | 7/66 [02:56<28:57, 29.45s/it]"
     ]
    },
    {
     "name": "stderr",
     "output_type": "stream",
     "text": [
      "\r\n",
      " 12%|██████████▏                                                                         | 8/66 [02:59<20:10, 20.87s/it]"
     ]
    },
    {
     "name": "stderr",
     "output_type": "stream",
     "text": [
      "\r\n",
      " 14%|███████████▍                                                                        | 9/66 [03:22<20:38, 21.73s/it]"
     ]
    },
    {
     "name": "stderr",
     "output_type": "stream",
     "text": [
      "\r\n",
      " 15%|████████████▌                                                                      | 10/66 [03:55<23:31, 25.21s/it]"
     ]
    },
    {
     "name": "stderr",
     "output_type": "stream",
     "text": [
      "\r\n",
      " 17%|█████████████▊                                                                     | 11/66 [04:28<25:17, 27.59s/it]"
     ]
    },
    {
     "name": "stderr",
     "output_type": "stream",
     "text": [
      "\r\n",
      " 18%|███████████████                                                                    | 12/66 [05:01<26:17, 29.21s/it]"
     ]
    },
    {
     "name": "stderr",
     "output_type": "stream",
     "text": [
      "\r\n",
      " 20%|████████████████▎                                                                  | 13/66 [05:12<20:53, 23.65s/it]"
     ]
    },
    {
     "name": "stderr",
     "output_type": "stream",
     "text": [
      "\r\n",
      " 21%|█████████████████▌                                                                 | 14/66 [05:45<22:57, 26.49s/it]"
     ]
    },
    {
     "name": "stderr",
     "output_type": "stream",
     "text": [
      "\r\n",
      " 23%|██████████████████▊                                                                | 15/66 [06:18<24:10, 28.45s/it]"
     ]
    },
    {
     "name": "stderr",
     "output_type": "stream",
     "text": [
      "\r\n",
      " 24%|████████████████████                                                               | 16/66 [06:51<24:51, 29.83s/it]"
     ]
    },
    {
     "name": "stderr",
     "output_type": "stream",
     "text": [
      "\r\n",
      " 26%|█████████████████████▍                                                             | 17/66 [07:24<25:08, 30.79s/it]"
     ]
    },
    {
     "name": "stderr",
     "output_type": "stream",
     "text": [
      "\r\n",
      " 27%|██████████████████████▋                                                            | 18/66 [07:49<23:16, 29.09s/it]"
     ]
    },
    {
     "name": "stderr",
     "output_type": "stream",
     "text": [
      "\r\n",
      " 29%|███████████████████████▉                                                           | 19/66 [07:59<18:09, 23.19s/it]"
     ]
    },
    {
     "name": "stderr",
     "output_type": "stream",
     "text": [
      "\r\n",
      " 30%|█████████████████████████▏                                                         | 20/66 [08:15<16:10, 21.09s/it]"
     ]
    },
    {
     "name": "stderr",
     "output_type": "stream",
     "text": [
      "\r\n",
      " 32%|██████████████████████████▍                                                        | 21/66 [08:18<11:50, 15.80s/it]"
     ]
    },
    {
     "name": "stderr",
     "output_type": "stream",
     "text": [
      "\r\n",
      " 33%|███████████████████████████▋                                                       | 22/66 [08:45<14:01, 19.12s/it]"
     ]
    },
    {
     "name": "stderr",
     "output_type": "stream",
     "text": [
      "\r\n",
      " 35%|████████████████████████████▉                                                      | 23/66 [09:12<15:21, 21.43s/it]"
     ]
    },
    {
     "name": "stderr",
     "output_type": "stream",
     "text": [
      "\r\n",
      " 36%|██████████████████████████████▏                                                    | 24/66 [09:19<12:00, 17.17s/it]"
     ]
    },
    {
     "name": "stderr",
     "output_type": "stream",
     "text": [
      "\r\n",
      " 38%|███████████████████████████████▍                                                   | 25/66 [09:31<10:39, 15.60s/it]"
     ]
    },
    {
     "name": "stderr",
     "output_type": "stream",
     "text": [
      "\r\n",
      " 39%|████████████████████████████████▋                                                  | 26/66 [09:32<07:26, 11.16s/it]"
     ]
    },
    {
     "name": "stderr",
     "output_type": "stream",
     "text": [
      "\r\n",
      " 41%|█████████████████████████████████▉                                                 | 27/66 [09:35<05:36,  8.64s/it]"
     ]
    },
    {
     "name": "stderr",
     "output_type": "stream",
     "text": [
      "\r\n",
      " 42%|███████████████████████████████████▏                                               | 28/66 [10:02<08:55, 14.09s/it]"
     ]
    },
    {
     "name": "stderr",
     "output_type": "stream",
     "text": [
      "\r\n",
      " 44%|████████████████████████████████████▍                                              | 29/66 [10:28<10:52, 17.63s/it]"
     ]
    },
    {
     "name": "stderr",
     "output_type": "stream",
     "text": [
      "\r\n",
      " 45%|█████████████████████████████████████▋                                             | 30/66 [10:29<07:36, 12.67s/it]"
     ]
    },
    {
     "name": "stderr",
     "output_type": "stream",
     "text": [
      "\r\n",
      " 47%|██████████████████████████████████████▉                                            | 31/66 [10:50<08:49, 15.12s/it]"
     ]
    },
    {
     "name": "stderr",
     "output_type": "stream",
     "text": [
      "\r\n",
      " 48%|████████████████████████████████████████▏                                          | 32/66 [11:22<11:35, 20.47s/it]"
     ]
    },
    {
     "name": "stderr",
     "output_type": "stream",
     "text": [
      "\r\n",
      " 50%|█████████████████████████████████████████▌                                         | 33/66 [11:24<08:05, 14.70s/it]"
     ]
    },
    {
     "name": "stderr",
     "output_type": "stream",
     "text": [
      "\r\n",
      " 52%|██████████████████████████████████████████▊                                        | 34/66 [11:57<10:45, 20.16s/it]"
     ]
    },
    {
     "name": "stderr",
     "output_type": "stream",
     "text": [
      "\r\n",
      " 53%|████████████████████████████████████████████                                       | 35/66 [12:30<12:23, 24.00s/it]"
     ]
    },
    {
     "name": "stderr",
     "output_type": "stream",
     "text": [
      "\r\n",
      " 55%|█████████████████████████████████████████████▎                                     | 36/66 [12:34<09:01, 18.04s/it]"
     ]
    },
    {
     "name": "stderr",
     "output_type": "stream",
     "text": [
      "\r\n",
      " 56%|██████████████████████████████████████████████▌                                    | 37/66 [12:35<06:17, 13.02s/it]"
     ]
    },
    {
     "name": "stderr",
     "output_type": "stream",
     "text": [
      "\r\n",
      " 58%|███████████████████████████████████████████████▊                                   | 38/66 [12:46<05:46, 12.39s/it]"
     ]
    },
    {
     "name": "stderr",
     "output_type": "stream",
     "text": [
      "\r\n",
      " 59%|█████████████████████████████████████████████████                                  | 39/66 [13:19<08:20, 18.54s/it]"
     ]
    },
    {
     "name": "stderr",
     "output_type": "stream",
     "text": [
      "\r\n",
      " 61%|██████████████████████████████████████████████████▎                                | 40/66 [13:44<08:57, 20.66s/it]"
     ]
    },
    {
     "name": "stderr",
     "output_type": "stream",
     "text": [
      "\r\n",
      " 62%|███████████████████████████████████████████████████▌                               | 41/66 [14:17<10:08, 24.35s/it]"
     ]
    },
    {
     "name": "stderr",
     "output_type": "stream",
     "text": [
      "\r\n",
      " 64%|████████████████████████████████████████████████████▊                              | 42/66 [14:27<08:01, 20.06s/it]"
     ]
    },
    {
     "name": "stderr",
     "output_type": "stream",
     "text": [
      "\r\n",
      " 65%|██████████████████████████████████████████████████████                             | 43/66 [15:00<09:10, 23.93s/it]"
     ]
    },
    {
     "name": "stderr",
     "output_type": "stream",
     "text": [
      "\r\n",
      " 67%|███████████████████████████████████████████████████████▎                           | 44/66 [15:26<08:54, 24.30s/it]"
     ]
    },
    {
     "name": "stderr",
     "output_type": "stream",
     "text": [
      "\r\n",
      " 68%|████████████████████████████████████████████████████████▌                          | 45/66 [15:27<06:05, 17.40s/it]"
     ]
    },
    {
     "name": "stderr",
     "output_type": "stream",
     "text": [
      "\r\n",
      " 70%|█████████████████████████████████████████████████████████▊                         | 46/66 [15:28<04:09, 12.45s/it]"
     ]
    },
    {
     "name": "stderr",
     "output_type": "stream",
     "text": [
      "\r\n",
      " 71%|███████████████████████████████████████████████████████████                        | 47/66 [15:31<03:02,  9.60s/it]"
     ]
    },
    {
     "name": "stderr",
     "output_type": "stream",
     "text": [
      "\r\n",
      " 73%|████████████████████████████████████████████████████████████▎                      | 48/66 [15:53<04:01, 13.44s/it]"
     ]
    },
    {
     "name": "stderr",
     "output_type": "stream",
     "text": [
      "\r\n",
      " 74%|█████████████████████████████████████████████████████████████▌                     | 49/66 [16:15<04:30, 15.92s/it]"
     ]
    },
    {
     "name": "stderr",
     "output_type": "stream",
     "text": [
      "\r\n",
      " 76%|██████████████████████████████████████████████████████████████▉                    | 50/66 [16:16<03:02, 11.40s/it]"
     ]
    },
    {
     "name": "stderr",
     "output_type": "stream",
     "text": [
      "\r\n",
      " 77%|████████████████████████████████████████████████████████████████▏                  | 51/66 [16:16<02:02,  8.18s/it]"
     ]
    },
    {
     "name": "stderr",
     "output_type": "stream",
     "text": [
      "\r\n",
      " 79%|█████████████████████████████████████████████████████████████████▍                 | 52/66 [16:17<01:24,  6.04s/it]"
     ]
    },
    {
     "name": "stderr",
     "output_type": "stream",
     "text": [
      "\r\n",
      " 80%|██████████████████████████████████████████████████████████████████▋                | 53/66 [16:50<03:03, 14.09s/it]"
     ]
    },
    {
     "name": "stderr",
     "output_type": "stream",
     "text": [
      "\r\n",
      " 82%|███████████████████████████████████████████████████████████████████▉               | 54/66 [17:03<02:44, 13.69s/it]"
     ]
    },
    {
     "name": "stderr",
     "output_type": "stream",
     "text": [
      "\r\n",
      " 83%|█████████████████████████████████████████████████████████████████████▏             | 55/66 [17:36<03:34, 19.47s/it]"
     ]
    },
    {
     "name": "stderr",
     "output_type": "stream",
     "text": [
      "\r\n",
      " 85%|██████████████████████████████████████████████████████████████████████▍            | 56/66 [18:09<03:55, 23.51s/it]"
     ]
    },
    {
     "name": "stderr",
     "output_type": "stream",
     "text": [
      "\r\n",
      " 86%|███████████████████████████████████████████████████████████████████████▋           | 57/66 [18:15<02:45, 18.38s/it]"
     ]
    },
    {
     "name": "stderr",
     "output_type": "stream",
     "text": [
      "\r\n",
      " 88%|████████████████████████████████████████████████████████████████████████▉          | 58/66 [18:25<02:05, 15.70s/it]"
     ]
    },
    {
     "name": "stderr",
     "output_type": "stream",
     "text": [
      "\r\n",
      " 89%|██████████████████████████████████████████████████████████████████████████▏        | 59/66 [18:25<01:18, 11.18s/it]"
     ]
    },
    {
     "name": "stderr",
     "output_type": "stream",
     "text": [
      "\r\n",
      " 91%|███████████████████████████████████████████████████████████████████████████▍       | 60/66 [18:51<01:33, 15.55s/it]"
     ]
    },
    {
     "name": "stderr",
     "output_type": "stream",
     "text": [
      "\r\n",
      " 92%|████████████████████████████████████████████████████████████████████████████▋      | 61/66 [19:24<01:43, 20.75s/it]"
     ]
    },
    {
     "name": "stderr",
     "output_type": "stream",
     "text": [
      "\r\n",
      " 94%|█████████████████████████████████████████████████████████████████████████████▉     | 62/66 [19:31<01:07, 16.76s/it]"
     ]
    },
    {
     "name": "stderr",
     "output_type": "stream",
     "text": [
      "\r\n",
      " 95%|███████████████████████████████████████████████████████████████████████████████▏   | 63/66 [20:04<01:04, 21.58s/it]"
     ]
    },
    {
     "name": "stderr",
     "output_type": "stream",
     "text": [
      "\r\n",
      " 97%|████████████████████████████████████████████████████████████████████████████████▍  | 64/66 [20:29<00:45, 22.61s/it]"
     ]
    },
    {
     "name": "stderr",
     "output_type": "stream",
     "text": [
      "\r\n",
      " 98%|█████████████████████████████████████████████████████████████████████████████████▋ | 65/66 [21:02<00:25, 25.70s/it]"
     ]
    },
    {
     "name": "stderr",
     "output_type": "stream",
     "text": [
      "\r\n",
      "100%|███████████████████████████████████████████████████████████████████████████████████| 66/66 [21:09<00:00, 19.88s/it]"
     ]
    },
    {
     "name": "stderr",
     "output_type": "stream",
     "text": [
      "\r\n",
      "100%|███████████████████████████████████████████████████████████████████████████████████| 66/66 [21:09<00:00, 19.23s/it]"
     ]
    },
    {
     "name": "stderr",
     "output_type": "stream",
     "text": [
      "\n"
     ]
    }
   ],
   "source": [
    "from tqdm import tqdm\n",
    "\n",
    "def evaluate_peft_model(sample, max_target_length=512):\n",
    "    # Generate extracted data\n",
    "    input_ids = torch.tensor(sample[\"input_ids\"]).unsqueeze(0).cuda()\n",
    "    with torch.no_grad():\n",
    "        outputs = model.generate(input_ids=input_ids, max_new_tokens=max_target_length)\n",
    "    prediction = tokenizer.decode(outputs[0].detach().cpu().numpy())\n",
    "    \n",
    "    # Decode eval sample\n",
    "    labels = tokenizer.decode(sample['labels'])\n",
    " \n",
    "    return prediction, labels\n",
    "\n",
    "# Run predictions\n",
    "predictions, references = [], []\n",
    "for sample in tqdm(tokenized_test_dataset):\n",
    "    prediction, reference = evaluate_peft_model(sample)\n",
    "    predictions.append(prediction)\n",
    "    references.append(reference)"
   ]
  },
  {
   "cell_type": "code",
   "execution_count": 17,
   "metadata": {
    "execution": {
     "iopub.execute_input": "2024-09-02T21:18:58.120985Z",
     "iopub.status.busy": "2024-09-02T21:18:58.120685Z",
     "iopub.status.idle": "2024-09-02T21:18:58.201430Z",
     "shell.execute_reply": "2024-09-02T21:18:58.201028Z"
    }
   },
   "outputs": [
    {
     "data": {
      "text/html": [
       "<table>\n",
       "<thead>\n",
       "<tr><th style=\"text-align: right;\">  #</th><th>Reference data                                                                                                                                                                                                                                                                                                                                                                                                                                                                                                                                                                                                                                                                                                                                                                                                                                                                                            </th><th>Extracted data (Finetuned model)                                                                                                                                                                                                                                                                                                                                                                                                                                                                                                                                                                                                                                                                                                                                                                                                                                                                                                                                                                                                                                                                                                                                                                                                                                                                                                                                                                                                                                                                                                                                                                                                                                                                                                                                                                                                                                                                                                                                                                                                                                                                                                                                                                                                                                                                                                                                                                                     </th></tr>\n",
       "</thead>\n",
       "<tbody>\n",
       "<tr><td style=\"text-align: right;\">  1</td><td>&lt;unk&gt;&quot;tenant_name&quot;: &quot;Ricquan M Moore&quot;, &quot;unit_address&quot;: null, &quot;unit_number&quot;: null, &quot;unit_type&quot;: null, &quot;agreement_date&quot;: null, &quot;lease_start&quot;: null, &quot;lease_end&quot;: null, &quot;lease_auto_renew&quot;: null, &quot;hourly_rate&quot;: null, &quot;monthly_rent&quot;: null, &quot;prorated_rent&quot;: null, &quot;security_deposit&quot;: null, &quot;lease_rent&quot;: null, &quot;monthly_payment_breakdown&quot;: null, &quot;utility_charges&quot;: null&lt;unk&gt;&lt;/s&gt;                                                                                                                                                                                                                                                                                                                                                                                                                                                                                                                        </td><td>&lt;pad&gt; ANIMALS, ADDITIONAL_FEES, ADDITIONAL_RENT, ADDITIONAL_FEES_OR_CHARGES, ADDITIONAL_FEES_OR_CHARGES_TO_PAID, ADDITIONAL_FEES_OR_CHARGES_TO_PAID, ADDITIONAL_FEES_OR_CHARGES_TO_PAID, ADDITIONAL_FEES_OR_CHARGES_TO_PAID, ADDITIONAL_FEES_OR_CHARGES_TO_PAID, ADDITIONAL_FEES_OR_CHARGES_TO_PAID, ADDITIONAL_FEES_OR_CHARGES_TO_PAID, ADDITIONAL_FEES_OR_CHARGES_TO_PAID, ADDITIONAL_FEES_OR_CHARGES_TO_PAID, ADDITIONAL_FEES_OR_CHARGES_TO_PAID, ADDITIONAL_FEES_OR_CHARGES_TO_PAID, ADDITIONAL_FEES_OR_CHARGES_TO_PAID, ADDITIONAL_FEES_OR_CHARGES_TO_PAID, ADDITIONAL_FEES_OR_CHARGES_TO_PAID, ADDITIONAL_FEES_OR_CHARGES_TO_PAID, ADDITIONAL_FEES_OR_CHARGES_TO_PAID, ADDITIONAL_FEES_OR_CHARGES_TO_PAID, ADDITIONAL_FEES_OR_CHARGES_TO_PAID, ADDITIONAL_FEES_OR_CHARGES_TO_PAID, ADDITIONAL_FEES_OR_CHARGES_TO_PAID, ADDITIONAL_FEES_OR_CHARGES_TO_PAID, ADDITIONAL_FEES_OR_CHARGES_TO_PAID, ADDITIONAL_FEES_OR_CHARGES_TO_PAID, ADDITIONAL_FEES_OR_CHARGES_TO_PAID, ADDITIONAL_FEES_OR_CHARGES_TO_PAID, ADDITIONAL_FEES_OR_CHARGES_TO_PAID, ADDITIONAL_FEES_OR_                                                                                                                                                                                                                                                                                                                                                                                                                                                                                                                                                                                                                                                                                                                                                                                                                                                                                                                                                                                                                                                                                                                                                                                                                                                                                                                                             </td></tr>\n",
       "<tr><td style=\"text-align: right;\">  2</td><td>&lt;unk&gt;&quot;tenant_name&quot;: null, &quot;unit_address&quot;: null, &quot;unit_number&quot;: null, &quot;unit_type&quot;: null, &quot;agreement_date&quot;: null, &quot;lease_start&quot;: null, &quot;lease_end&quot;: null, &quot;lease_auto_renew&quot;: null, &quot;hourly_rate&quot;: null, &quot;monthly_rent&quot;: null, &quot;prorated_rent&quot;: null, &quot;security_deposit&quot;: null, &quot;lease_rent&quot;: null, &quot;monthly_payment_breakdown&quot;: null, &quot;utility_charges&quot;: null&lt;unk&gt;&lt;/s&gt;                                                                                                                                                                                                                                                                                                                                                                                                                                                                                                                                     </td><td>&lt;pad&gt; 26.CONDITION OF THE PREMISES AND ALTERATIONS, &lt;unk&gt;&lt;/s&gt;                                                                                                                                                                                                                                                                                                                                                                                                                                                                                                                                                                                                                                                                                                                                                                                                                                                                                                                                                                                                                                                                                                                                                                                                                                                                                                                                                                                                                                                                                                                                                                                                                                                                                                                                                                                                                                                                                                                                                                                                                                                                                                                                                                                                                                                                                                                                                        </td></tr>\n",
       "<tr><td style=\"text-align: right;\">  3</td><td>&lt;unk&gt;&quot;tenant_name&quot;: &quot;Samantha Putlak&quot;, &quot;unit_address&quot;: &quot;304 Stanhope St.&quot;, &quot;unit_number&quot;: &quot;#2L&quot;, &quot;unit_type&quot;: null, &quot;agreement_date&quot;: null, &quot;lease_start&quot;: &quot;2023-08-01&quot;, &quot;lease_end&quot;: &quot;2024-07-31&quot;, &quot;lease_auto_renew&quot;: null, &quot;hourly_rate&quot;: null, &quot;monthly_rent&quot;: 2800, &quot;prorated_rent&quot;: null, &quot;security_deposit&quot;: 2800, &quot;lease_rent&quot;: 33600, &quot;monthly_payment_breakdown&quot;: null, &quot;utility_charges&quot;: null&lt;unk&gt;&lt;/s&gt;                                                                                                                                                                                                                                                                                                                                                                                                                                                                                        </td><td>&lt;pad&gt; TERM: 12 Months MONTHLY_RENT: $2,800 BEGINNING: 8/1/2023 MONTHLY_RENT: $2,800 SECURITY_DEPOSIT: $2,800 TERM: 12 Months MONTHLY_RENT: $2,800 BEGINNING: 8/1/2023 MONTHLY_RENT: $2,800 SECURITY_DEPOSIT: $2,800 TERM: 12 Months MONTHLY_RENT: $2,800 BEGINNING: 8/1/2023 MONTHLY_RENT: $2,800 SECURITY_DEPOSIT: $2,800&lt;/s&gt;                                                                                                                                                                                                                                                                                                                                                                                                                                                                                                                                                                                                                                                                                                                                                                                                                                                                                                                                                                                                                                                                                                                                                                                                                                                                                                                                                                                                                                                                                                                                                                                                                                                                                                                                                                                                                                                                                                                                                                                                                                                                                       </td></tr>\n",
       "<tr><td style=\"text-align: right;\">  4</td><td>&lt;unk&gt;&quot;tenant_name&quot;: null, &quot;unit_address&quot;: null, &quot;unit_number&quot;: null, &quot;unit_type&quot;: null, &quot;agreement_date&quot;: null, &quot;lease_start&quot;: null, &quot;lease_end&quot;: null, &quot;lease_auto_renew&quot;: null, &quot;hourly_rate&quot;: null, &quot;monthly_rent&quot;: null, &quot;prorated_rent&quot;: null, &quot;security_deposit&quot;: null, &quot;lease_rent&quot;: null, &quot;monthly_payment_breakdown&quot;: null, &quot;utility_charges&quot;: null&lt;unk&gt;&lt;/s&gt;                                                                                                                                                                                                                                                                                                                                                                                                                                                                                                                                     </td><td>&lt;pad&gt; &lt;unk&gt;, &lt;unk&gt;, &lt;unk&gt;, &lt;unk&gt;, &lt;unk&gt;, &lt;unk&gt;, &lt;unk&gt;, &lt;unk&gt;, &lt;unk&gt;, &lt;unk&gt;, &lt;unk&gt;, &lt;unk&gt;, &lt;unk&gt;, &lt;unk&gt;, &lt;unk&gt;, &lt;unk&gt;, &lt;unk&gt;, &lt;unk&gt;, &lt;unk&gt;, &lt;unk&gt;, &lt;unk&gt;, &lt;unk&gt;, &lt;unk&gt;, &lt;unk&gt;, &lt;unk&gt;, &lt;unk&gt;, &lt;unk&gt;, &lt;unk&gt;, &lt;unk&gt;, &lt;unk&gt;, &lt;unk&gt;, &lt;unk&gt;, &lt;unk&gt;, &lt;unk&gt;, &lt;unk&gt;, &lt;unk&gt;, &lt;unk&gt;, &lt;unk&gt;, &lt;unk&gt;, &lt;unk&gt;, &lt;unk&gt;, &lt;unk&gt;, &lt;unk&gt;, &lt;unk&gt;, &lt;unk&gt;, &lt;unk&gt;, &lt;unk&gt;, &lt;unk&gt;, &lt;unk&gt;, &lt;unk&gt;, &lt;unk&gt;, &lt;unk&gt;, &lt;unk&gt;, &lt;unk&gt;, &lt;unk&gt;, &lt;unk&gt;, &lt;unk&gt;, &lt;unk&gt;, &lt;unk&gt;, &lt;unk&gt;, &lt;unk&gt;, &lt;unk&gt;, &lt;unk&gt;, &lt;unk&gt;, &lt;unk&gt;, &lt;unk&gt;, &lt;unk&gt;, &lt;unk&gt;, &lt;unk&gt;, &lt;unk&gt;, &lt;unk&gt;, &lt;unk&gt;, &lt;unk&gt;, &lt;unk&gt;, &lt;unk&gt;, &lt;unk&gt;, &lt;unk&gt;, &lt;unk&gt;, &lt;unk&gt;, &lt;unk&gt;, &lt;unk&gt;, &lt;unk&gt;, &lt;unk&gt;, &lt;unk&gt;, &lt;unk&gt;, &lt;unk&gt;, &lt;unk&gt;, &lt;unk&gt;, &lt;unk&gt;, &lt;unk&gt;, &lt;unk&gt;, &lt;unk&gt;, &lt;unk&gt;, &lt;unk&gt;, &lt;unk&gt;, &lt;unk&gt;, &lt;unk&gt;, &lt;unk&gt;, &lt;unk&gt;, &lt;unk&gt;, &lt;unk&gt;, &lt;unk&gt;, &lt;unk&gt;, &lt;unk&gt;, &lt;unk&gt;, &lt;unk&gt;, &lt;unk&gt;, &lt;unk&gt;, &lt;unk&gt;, &lt;unk&gt;, &lt;unk&gt;, &lt;unk&gt;, &lt;unk&gt;, &lt;unk&gt;, &lt;unk&gt;, &lt;unk&gt;, &lt;unk&gt;, &lt;unk&gt;, &lt;unk&gt;, &lt;unk&gt;, &lt;unk&gt;, &lt;unk&gt;, &lt;unk&gt;, &lt;unk&gt;, &lt;unk&gt;, &lt;unk&gt;, &lt;unk&gt;, &lt;unk&gt;, &lt;unk&gt;, &lt;unk&gt;, &lt;unk&gt;, &lt;unk&gt;, &lt;unk&gt;, &lt;unk&gt;, &lt;unk&gt;, &lt;unk&gt;, &lt;unk&gt;, &lt;unk&gt;, &lt;unk&gt;, &lt;unk&gt;, &lt;unk&gt;, &lt;unk&gt;, &lt;unk&gt;, &lt;unk&gt;, &lt;unk&gt;, &lt;unk&gt;, &lt;unk&gt;, &lt;unk&gt;, &lt;unk&gt;, &lt;unk&gt;, &lt;unk&gt;, &lt;unk&gt;, &lt;unk&gt;, &lt;unk&gt;, &lt;unk&gt;, &lt;unk&gt;, &lt;unk&gt;, &lt;unk&gt;, &lt;unk&gt;, &lt;unk&gt;, &lt;unk&gt;, &lt;unk&gt;, &lt;unk&gt;, &lt;unk&gt;, &lt;unk&gt;, &lt;unk&gt;, &lt;unk&gt;, &lt;unk&gt;, &lt;unk&gt;, &lt;unk&gt;, &lt;unk&gt;                                                                                                                                                                                                                                                                                                                                                                                                                                                                                                                                                                                                                                                                                                                                                                                                                                                                                                                                                                                                                                                                                                                                                                    </td></tr>\n",
       "<tr><td style=\"text-align: right;\">  5</td><td>&lt;unk&gt;&quot;tenant_name&quot;: null, &quot;unit_address&quot;: null, &quot;unit_number&quot;: null, &quot;unit_type&quot;: null, &quot;agreement_date&quot;: null, &quot;lease_start&quot;: null, &quot;lease_end&quot;: null, &quot;lease_auto_renew&quot;: null, &quot;hourly_rate&quot;: null, &quot;monthly_rent&quot;: null, &quot;prorated_rent&quot;: null, &quot;security_deposit&quot;: null, &quot;lease_rent&quot;: null, &quot;monthly_payment_breakdown&quot;: null, &quot;utility_charges&quot;: null&lt;unk&gt;&lt;/s&gt;                                                                                                                                                                                                                                                                                                                                                                                                                                                                                                                                     </td><td>&lt;pad&gt; Damage, Landlord, Damage, Tenant, Damage, Landlord, Damage, Tenant, Damage, Damage, Damage, Damage, Damage, Damage, Damage, Damage, Damage, Damage, Damage, Damage, Damage, Damage, Damage, Damage, Damage, Damage, Damage, Damage, Damage, Damage, Damage, Damage, Damage, Damage, Damage, Damage, Damage, Damage, Damage, Damage, Damage, Damage, Damage, Damage, Damage, Damage, Damage, Damage, Damage, Damage, Damage, Damage, Damage, Damage, Damage, Damage, Damage, Damage, Damage, Damage, Damage, Damage, Damage, Damage, Damage, Damage, Damage, Damage, Damage, Damage, Damage, Damage, Damage, Damage, Damage, Damage, Damage, Damage, Damage, Damage, Damage, Damage, Damage, Damage, Damage, Damage, Damage, Damage, Damage, Damage, Damage, Damage, Damage, Damage, Damage, Damage, Damage, Damage, Damage, Damage, Damage, Damage, Damage, Damage, Damage, Damage, Damage, Damage, Damage, Damage, Damage, Damage, Damage, Damage, Damage, Damage, Damage, Damage, Damage, Damage, Damage, Damage, Damage, Damage, Damage, Damage, Damage, Damage, Damage, Damage, Damage, Damage, Damage, Damage, Damage, Damage, Damage, Damage, Damage, Damage, Damage, Damage, Damage, Damage, Damage, Damage, Damage, Damage, Damage, Damage, Damage, Damage, Damage, Damage, Damage, Damage, Damage, Damage, Damage, Damage, Damage, Damage, Damage, Damage, Damage, Damage, Damage, Damage, Damage, Damage, Damage, Damage, Damage, Damage, Damage, Damage, Damage, Damage, Damage, Damage, Damage, Damage, Damage, Damage, Damage, Damage, Damage, Damage, Damage, Damage, Damage, Damage, Damage, Damage, Damage, Damage, Damage, Damage, Damage, Damage, Damage, Damage, Damage, Damage, Damage, Damage, Damage, Damage, Damage, Damage, Damage, Damage, Damage, Damage, Damage, Damage, Damage, Damage, Damage, Damage, Damage, Damage, Damage, Damage, Damage, Damage, Damage, Damage, Damage, Damage, Damage, Damage, Damage, Damage, Damage, Damage, Damage, Damage, Damage, Damage, Damage, Damage, Damage, Damage, Damage, Damage, Damage, Damage, Damage, Damage, Damage, Damage, Damage,                                                                                                                                                                                                                                                                                                    </td></tr>\n",
       "<tr><td style=\"text-align: right;\">  6</td><td>&lt;unk&gt;&quot;tenant_name&quot;: null, &quot;unit_address&quot;: null, &quot;unit_number&quot;: null, &quot;unit_type&quot;: null, &quot;agreement_date&quot;: null, &quot;lease_start&quot;: null, &quot;lease_end&quot;: null, &quot;lease_auto_renew&quot;: null, &quot;hourly_rate&quot;: null, &quot;monthly_rent&quot;: null, &quot;prorated_rent&quot;: null, &quot;security_deposit&quot;: null, &quot;lease_rent&quot;: null, &quot;monthly_payment_breakdown&quot;: null, &quot;utility_charges&quot;: null&lt;unk&gt;&lt;/s&gt;                                                                                                                                                                                                                                                                                                                                                                                                                                                                                                                                     </td><td>&lt;pad&gt; PART_A, PART_B, PART_C, PART_D, PART_A, PART_B, PART_C, PART_D, PART_A, PART_C, PART_D, PART_A, PART_C, PART_D, PART_A, PART_C, PART_D, PART_A, PART_C, PART_D, PART_A, PART_C, PART_D, PART_A, PART_C, PART_D, PART_A, PART_C, PART_D, PART_A, PART_C, PART_D, PART_A, PART_C, PART_D, PART_A, PART_C, PART_D, PART_A, PART_C, PART_D, PART_A, PART_C, PART_D, PART_A, PART_C, PART_D, PART_A, PART_C, PART_D, PART_A, PART_C, PART_D, PART_A, PART_C, PART_D, PART_A, PART_C, PART_D, PART_A, PART_C, PART_D, PART_A, PART_C, PART_D, PART_A, PART_C, PART_D, PART_A, PART_C, PART_D, PART_A, PART_C, PART_D, PART_C, PART_D, PART_A, PART_C, PART_D, PART_A, PART_C, PART_D, PART_C, PART_D, PART_A, PART_C, PART_D, PART_C, PART_D, PART_A, PART_C, PART_D, PART_C, PART_D, PART_A, PART_C, PART_D, PART_C, PART_D, PART_C, PART_D, PART_C, PART                                                                                                                                                                                                                                                                                                                                                                                                                                                                                                                                                                                                                                                                                                                                                                                                                                                                                                                                                                                                                                                                                                                                                                                                                                                                                                                                                                                                                                                                                                                                                           </td></tr>\n",
       "<tr><td style=\"text-align: right;\">  7</td><td>&lt;unk&gt;&quot;tenant_name&quot;: null, &quot;unit_address&quot;: null, &quot;unit_number&quot;: null, &quot;unit_type&quot;: null, &quot;agreement_date&quot;: null, &quot;lease_start&quot;: null, &quot;lease_end&quot;: null, &quot;lease_auto_renew&quot;: null, &quot;hourly_rate&quot;: null, &quot;monthly_rent&quot;: null, &quot;prorated_rent&quot;: null, &quot;security_deposit&quot;: null, &quot;lease_rent&quot;: null, &quot;monthly_payment_breakdown&quot;: null, &quot;utility_charges&quot;: null&lt;unk&gt;&lt;/s&gt;                                                                                                                                                                                                                                                                                                                                                                                                                                                                                                                                     </td><td>&lt;pad&gt; &lt;unk&gt;, &lt;unk&gt;, &lt;unk&gt;, &lt;unk&gt;, &lt;unk&gt;, &lt;unk&gt;, &lt;unk&gt;, &lt;unk&gt;, &lt;unk&gt;, &lt;unk&gt;, &lt;unk&gt;, &lt;unk&gt;, &lt;unk&gt;, &lt;unk&gt;, &lt;unk&gt;, &lt;unk&gt;, &lt;unk&gt;, &lt;unk&gt;, &lt;unk&gt;, &lt;unk&gt;, &lt;unk&gt;, &lt;unk&gt;, &lt;unk&gt;, &lt;unk&gt;, &lt;unk&gt;, &lt;unk&gt;, &lt;unk&gt;, &lt;unk&gt;, &lt;unk&gt;, &lt;unk&gt;, &lt;unk&gt;, &lt;unk&gt;, &lt;unk&gt;, &lt;unk&gt;, &lt;unk&gt;, &lt;unk&gt;, &lt;unk&gt;, &lt;unk&gt;, &lt;unk&gt;, &lt;unk&gt;, &lt;unk&gt;, &lt;unk&gt;, &lt;unk&gt;, &lt;unk&gt;, &lt;unk&gt;, &lt;unk&gt;, &lt;unk&gt;, &lt;unk&gt;, &lt;unk&gt;, &lt;unk&gt;, &lt;unk&gt;, &lt;unk&gt;, &lt;unk&gt;, &lt;unk&gt;, &lt;unk&gt;, &lt;unk&gt;, &lt;unk&gt;, &lt;unk&gt;, &lt;unk&gt;, &lt;unk&gt;, &lt;unk&gt;, &lt;unk&gt;, &lt;unk&gt;, &lt;unk&gt;, &lt;unk&gt;, &lt;unk&gt;, &lt;unk&gt;, &lt;unk&gt;, &lt;unk&gt;, &lt;unk&gt;, &lt;unk&gt;, &lt;unk&gt;, &lt;unk&gt;, &lt;unk&gt;, &lt;unk&gt;, &lt;unk&gt;, &lt;unk&gt;, &lt;unk&gt;, &lt;unk&gt;, &lt;unk&gt;, &lt;unk&gt;, &lt;unk&gt;, &lt;unk&gt;, &lt;unk&gt;, &lt;unk&gt;, &lt;unk&gt;, &lt;unk&gt;, &lt;unk&gt;, &lt;unk&gt;, &lt;unk&gt;, &lt;unk&gt;, &lt;unk&gt;, &lt;unk&gt;, &lt;unk&gt;, &lt;unk&gt;, &lt;unk&gt;, &lt;unk&gt;, &lt;unk&gt;, &lt;unk&gt;, &lt;unk&gt;, &lt;unk&gt;, &lt;unk&gt;, &lt;unk&gt;, &lt;unk&gt;, &lt;unk&gt;, &lt;unk&gt;, &lt;unk&gt;, &lt;unk&gt;, &lt;unk&gt;, &lt;unk&gt;, &lt;unk&gt;, &lt;unk&gt;, &lt;unk&gt;, &lt;unk&gt;, &lt;unk&gt;, &lt;unk&gt;, &lt;unk&gt;, &lt;unk&gt;, &lt;unk&gt;, &lt;unk&gt;, &lt;unk&gt;, &lt;unk&gt;, &lt;unk&gt;, &lt;unk&gt;, &lt;unk&gt;, &lt;unk&gt;, &lt;unk&gt;, &lt;unk&gt;, &lt;unk&gt;, &lt;unk&gt;, &lt;unk&gt;, &lt;unk&gt;, &lt;unk&gt;, &lt;unk&gt;, &lt;unk&gt;, &lt;unk&gt;, &lt;unk&gt;, &lt;unk&gt;, &lt;unk&gt;, &lt;unk&gt;, &lt;unk&gt;, &lt;unk&gt;, &lt;unk&gt;, &lt;unk&gt;, &lt;unk&gt;, &lt;unk&gt;, &lt;unk&gt;, &lt;unk&gt;, &lt;unk&gt;, &lt;unk&gt;, &lt;unk&gt;, &lt;unk&gt;, &lt;unk&gt;, &lt;unk&gt;, &lt;unk&gt;, &lt;unk&gt;, &lt;unk&gt;, &lt;unk&gt;, &lt;unk&gt;, &lt;unk&gt;, &lt;unk&gt;, &lt;unk&gt;, &lt;unk&gt;, &lt;unk&gt;, &lt;unk&gt;, &lt;unk&gt;, &lt;unk&gt;, &lt;unk&gt;, &lt;unk&gt;, &lt;unk&gt;, &lt;unk&gt;                                                                                                                                                                                                                                                                                                                                                                                                                                                                                                                                                                                                                                                                                                                                                                                                                                                                                                                                                                                                                                                                                                                                                                    </td></tr>\n",
       "<tr><td style=\"text-align: right;\">  8</td><td>&lt;unk&gt;&quot;tenant_name&quot;: null, &quot;unit_address&quot;: null, &quot;unit_number&quot;: null, &quot;unit_type&quot;: null, &quot;agreement_date&quot;: null, &quot;lease_start&quot;: null, &quot;lease_end&quot;: null, &quot;lease_auto_renew&quot;: &quot;month-to-month&quot;, &quot;hourly_rate&quot;: null, &quot;monthly_rent&quot;: null, &quot;prorated_rent&quot;: null, &quot;security_deposit&quot;: null, &quot;lease_rent&quot;: null, &quot;monthly_payment_breakdown&quot;: null, &quot;utility_charges&quot;: null&lt;unk&gt;&lt;/s&gt;                                                                                                                                                                                                                                                                                                                                                                                                                                                                                                                         </td><td>&lt;pad&gt; Lessee shall be responsible for the payment of all taxes, license fees, registration fees, insurance, and other assessments associated with the use of the Property.&lt;/s&gt;                                                                                                                                                                                                                                                                                                                                                                                                                                                                                                                                                                                                                                                                                                                                                                                                                                                                                                                                                                                                                                                                                                                                                                                                                                                                                                                                                                                                                                                                                                                                                                                                                                                                                                                                                                                                                                                                                                                                                                                                                                                                                                                                                                                                                                       </td></tr>\n",
       "<tr><td style=\"text-align: right;\">  9</td><td>&lt;unk&gt;&quot;tenant_name&quot;: null, &quot;unit_address&quot;: null, &quot;unit_number&quot;: null, &quot;unit_type&quot;: null, &quot;agreement_date&quot;: null, &quot;lease_start&quot;: null, &quot;lease_end&quot;: null, &quot;lease_auto_renew&quot;: null, &quot;hourly_rate&quot;: null, &quot;monthly_rent&quot;: null, &quot;prorated_rent&quot;: null, &quot;security_deposit&quot;: null, &quot;lease_rent&quot;: null, &quot;monthly_payment_breakdown&quot;: null, &quot;utility_charges&quot;: null&lt;unk&gt;&lt;/s&gt;                                                                                                                                                                                                                                                                                                                                                                                                                                                                                                                                     </td><td>&lt;pad&gt; &lt;unk&gt; Replacements 31.REPLACEMENTS AND SUBLETTING. Replacing a resident, subletting. assignment, or granting a right or license to occupy is allowed only when we expressly consent in writing. If departing or remaining residents find a replacement resident acceptable to us before moving out and we expressly consent, in writing, to the replacement, subletting, assignment, or granting a right or any license to occupy, then (1) a reletting charge will not be due; (2) a reasonable administrative (paperwork) and/or transfer fee will be due, and a rekeying fee is due if rekeying is requested or required; and (3) the departing and remaining residents will remain liable for all lease obligations for the rest of the original lease term. Procedures for Replacement. If we approve a replacement resident, then, at our option: (1) the replacement resident must sign this Lease Contract with or without an increase in the total security deposit; or (2) the remaining and replacement residents must sign an entirely new I.case Contract. Unless we agree otherwise in writing-even if a new L.case Contract is signed. Responsibilities of Owner and Resident 32.RESPONSIBILITIES OF OWNER. We&#x27;ll act with customary diligence to: (1) keep common areas reasonably clean, subject to paragraph 26 (Condition of the Premises and Alterations); (2) maintain fixtures, furniture, hot water, heating and A/C. equipment. (3) comply with applicable federal, state, and local laws regarding safety, sanitation, and fair housing; and (4) make all repairs and replacements as may be necessary.&lt;/s&gt;                                                                                                                                                                                                                                                                                                                                                                                                                                                                                                                                                                                                                                                                                                                                                                           </td></tr>\n",
       "<tr><td style=\"text-align: right;\"> 10</td><td>&lt;unk&gt;&quot;tenant_name&quot;: null, &quot;unit_address&quot;: null, &quot;unit_number&quot;: null, &quot;unit_type&quot;: null, &quot;agreement_date&quot;: null, &quot;lease_start&quot;: null, &quot;lease_end&quot;: null, &quot;lease_auto_renew&quot;: null, &quot;hourly_rate&quot;: null, &quot;monthly_rent&quot;: null, &quot;prorated_rent&quot;: null, &quot;security_deposit&quot;: null, &quot;lease_rent&quot;: null, &quot;monthly_payment_breakdown&quot;: null, &quot;utility_charges&quot;: null&lt;unk&gt;&lt;/s&gt;                                                                                                                                                                                                                                                                                                                                                                                                                                                                                                                                     </td><td>&lt;pad&gt; RESPONSIBILITIES OF OWNER, RESPONSIBILITIES OF OWNER, RESPONSIBILITIES OF OWNER, RESPONSIBILITIES OF OWNER, RESPONSIBILITIES OF OWNER, RESPONSIBILITIES OF OWNER, RESPONSIBILITIES OF OWNER, RESPONSIBILITIES OF OWNER, RESPONSIBILITIES OF OWNER, RESPONSIBILITIES OF OWNER, RESPONSIBILITIES OF OWNER, RESPONSIBILITIES OF OWNER, RESPONSIBILITIES OF OWNER, RESPONSIBILITIES OF OWNER, RESPONSIBILITIES OF OWNER, RESPONSIBILITIES OF OWNER, RESPONSIBILITIES OF OWNER, RESPONSIBILITIES OF OWNER, RESPONSIBILITIES OF OWNER, RESPONSIBILITIES OF OWNER, RESPONSIBILITIES OF OWNER, RESPONSIBILITIES OF OWNER, RESPONSIBILITIES OF OWNER, RESPONSIBILITIES OF OWNER, RESPONSIBILITIES OF OWNER, RESPONSIBILITIES OF OWNER, RESPONSIBILITIES OF OWNER, RESPONSIBILITIES OF OWNER, RESPONSIBILITIES OF OWNER, RESPONSIBILITIES OF OWNER, RESPONSIBILITIES OF OWNER, RESPONSIBILITIES OF OWNER, RESPONSIBILITIES OF OWNER, RESPONSIBILITIES OF OWNER, RESPONSIBILITIES OF OWNER, RESPONSIBILITIES OF OWNER, RESPONSIBILIT                                                                                                                                                                                                                                                                                                                                                                                                                                                                                                                                                                                                                                                                                                                                                                                                                                                                                                                                                                                                                                                                                                                                                                                                                                                                                                                                                                                      </td></tr>\n",
       "<tr><td style=\"text-align: right;\"> 11</td><td>&lt;unk&gt;&quot;tenant_name&quot;: null, &quot;unit_address&quot;: null, &quot;unit_number&quot;: null, &quot;unit_type&quot;: null, &quot;agreement_date&quot;: null, &quot;lease_start&quot;: null, &quot;lease_end&quot;: null, &quot;lease_auto_renew&quot;: null, &quot;hourly_rate&quot;: null, &quot;monthly_rent&quot;: null, &quot;prorated_rent&quot;: null, &quot;security_deposit&quot;: 500, &quot;lease_rent&quot;: null, &quot;monthly_payment_breakdown&quot;: null, &quot;utility_charges&quot;: null&lt;unk&gt;&lt;/s&gt;                                                                                                                                                                                                                                                                                                                                                                                                                                                                                                                                      </td><td>&lt;pad&gt; Tenant, Default, Default, Default, Default, Default, Default, Default, Default, Default, Default, Default, Default, Default, Default, Default, Default, Default, Default, Default, Default, Default, Default, Default, Default, Default, Default, Default, Default, Default, Default, Default, Default, Default, Default, Default, Default, Default, Default, Default, Default, Default, Default, Default, Default, Default, Default, Default, Default, Default, Default, Default, Default, Default, Default, Default, Default, Default, Default, Default, Default, Default, Default, Default, Default, Default, Default, Default, Default, Default, Default, Default, Default, Default, Default, Default, Default, Default, Default, Default, Default, Default, Default, Default, Default, Default, Default, Default, Default, Default, Default, Default, Default, Default, Default, Default, Default, Default, Default, Default, Default, Default, Default, Default, Default, Default, Default, Default, Default, Default, Default, Default, Default, Default, Default, Default, Default, Default, Default, Default, Default, Default, Default, Default, Default, Default, Default, Default, Default, Default, Default, Default, Default, Default, Default, Default, Default, Default, Default, Default, Default, Default, Default, Default, Default, Default, Default, Default, Default, Default, Default, Default, Default, Default, Default, Default, Default, Default, Default, Default, Default, Default, Default, Default, Default, Default, Default, Default, Default, Default, Default                                                                                                                                                                                                                                                                                                                                                                                                                                                                                                                                                                                                                                                                                                                                                                                                               </td></tr>\n",
       "<tr><td style=\"text-align: right;\"> 12</td><td>&lt;unk&gt;&quot;tenant_name&quot;: null, &quot;unit_address&quot;: null, &quot;unit_number&quot;: null, &quot;unit_type&quot;: null, &quot;agreement_date&quot;: null, &quot;lease_start&quot;: null, &quot;lease_end&quot;: null, &quot;lease_auto_renew&quot;: null, &quot;hourly_rate&quot;: null, &quot;monthly_rent&quot;: null, &quot;prorated_rent&quot;: null, &quot;security_deposit&quot;: null, &quot;lease_rent&quot;: null, &quot;monthly_payment_breakdown&quot;: null, &quot;utility_charges&quot;: null&lt;unk&gt;&lt;/s&gt;                                                                                                                                                                                                                                                                                                                                                                                                                                                                                                                                     </td><td>&lt;pad&gt; Casualty Loss, During freezing weather, You, You, You, You, You, You, You, You, You, You, You, You, You, You, You, You, You, You, You, You, You, You, You, You, You, You, You, You, You, You, You, You, You, You, You, You, You, You, You, You, You, You, You, You, You, You, You, You, You, You, You, You, You, You, You, You, You, You, You, You, You, You, You, You, You, You, You, You, You, You, You, You, You, You, You, You, You, You, You, You, You, You, You, You, You, You, You, You, You, You, You, You, You, You, You, You, You, You, You, You, You, You, You, You, You, You, You, You, You, You, You, You, You, You, You, You, You, You, You, You, You, You, You, You, You, You, You, You, You, You, You, You, You, You, You, You, You, You, You, You, You, You, You, You, You, You, You, You, You, You, You, You, You, You, You, You, You, You, You, You, You, You, You, You, You, You, You, You, You, You, You, You, You, You, You, You, You, You, You, You, You, You, You, You, You, You, You, You, You, You, You, You, You, You, You, You, You, You, You, You, You, You, You, You, You, You, You, You, You, You, You, You, You, You, You, You, You, You, You, You, You, You, You, You, You, You, You, You, You, You, You, You, You, You, You, You, You, You, You, You, You, You, You, You, You, You, You, You, You, You, You                                                                                                                                                                                                                                                                                                                                                                                                                                                                                                                                                                                                                                                                                                                                                                                                                                                                                                                                                                                                                                                                  </td></tr>\n",
       "<tr><td style=\"text-align: right;\"> 13</td><td>&lt;unk&gt;&quot;tenant_name&quot;: &quot;Gary Smith&quot;, &quot;unit_address&quot;: &quot;2557 Mountain Lodge Circle, Vestavia Hills, Alabama, 35216&quot;, &quot;unit_number&quot;: &quot;2557E&quot;, &quot;unit_type&quot;: null, &quot;agreement_date&quot;: &quot;2023-04-27&quot;, &quot;lease_start&quot;: null, &quot;lease_end&quot;: null, &quot;lease_auto_renew&quot;: null, &quot;hourly_rate&quot;: null, &quot;monthly_rent&quot;: null, &quot;prorated_rent&quot;: null, &quot;security_deposit&quot;: null, &quot;lease_rent&quot;: null, &quot;monthly_payment_breakdown&quot;: null, &quot;utility_charges&quot;: null&lt;unk&gt;&lt;/s&gt;                                                                                                                                                                                                                                                                                                                                                                                                                                                          </td><td>&lt;pad&gt; 1. DWELLING_UNIT_DESCRIPTION. Unit No. 2557E 2557 Mountain Lodge Circle (street address) in Vestavia Hills (city), Alabama, 35216.(zip code). 2. LEASE_CONTRACT_DESCRIPTION. Lease Contract Date: April 27, 2023 Owner&#x27;s name: Mountain BAL LLC Residents (list all residents): Gary Smith The term of this Addendum is as follows: Begins on and ends on This Addendum constitutes an Addendum to the above described Lease Contract for the above described premises, and is hereby incorporated into and made a part of such Lease Contract. 3. A. :unselected: NO APPROVED ANIMALS.&lt;/s&gt;                                                                                                                                                                                                                                                                                                                                                                                                                                                                                                                                                                                                                                                                                                                                                                                                                                                                                                                                                                                                                                                                                                                                                                                                                                                                                                                                                                                                                                                                                                                                                                                                                                                                                                                                                                                                                    </td></tr>\n",
       "<tr><td style=\"text-align: right;\"> 14</td><td>&lt;unk&gt;&quot;tenant_name&quot;: &quot;Taylor Whittle&quot;, &quot;unit_address&quot;: null, &quot;unit_number&quot;: null, &quot;unit_type&quot;: null, &quot;agreement_date&quot;: &quot;2023-02-27&quot;, &quot;lease_start&quot;: &quot;2023-02-27&quot;, &quot;lease_end&quot;: null, &quot;lease_auto_renew&quot;: null, &quot;hourly_rate&quot;: null, &quot;monthly_rent&quot;: 847.0, &quot;prorated_rent&quot;: 30.25, &quot;security_deposit&quot;: null, &quot;lease_rent&quot;: 10164.0, &quot;monthly_payment_breakdown&quot;: null, &quot;utility_charges&quot;: &lt;unk&gt;&quot;water&quot;: 25.0, &quot;garbage&quot;: 0.0, &quot;pest_control&quot;: 2.0&lt;unk&gt;&lt;/s&gt;                                                                                                                                                                                                                                                                                                                                                                                                                                                 </td><td>&lt;pad&gt; Month, Rent, LateFee, LateFee, TotalRent, Month, Months, Rent, TotalRent, Months, Months, Months, Months, Months, Months, Months, Months, Months, Months, Months, Months, Months, Months, Months, Months, Months, Months, Months, Months, Months, Months, Months, Months, Months, Months, Months, Months, Months, Months, Months, Months, Months, Months, Months, Months, Months, Months, Months, Months, Months, Months, Months, Months, Months, Months, Months, Months, Months, Months, Months, Months, Months, Months, Months, Months, Months, Months, Months, Months, Months, Months, Months, Months, Months, Months, Months, Months, Months, Months, Months, Months, Months, Months, Months, Months, Months, Months, Months, Months, Months, Months, Months, Months, Months, Months, Months, Months, Months, Months, Months, Months, Months, Months, Months, Months, Months, Months, Months, Months, Months, Months, Months, Months, Months, Months, Months, Months, Months, Months, Months, Months, Months, Months, Months, Months, Months, Months, Months, Months, Months, Months, Months, Months, Months, Months, Months, Months, Months, Months, Months, Months, Months, Months, Months, Months, Months, Months, Months, Months, Months, Months, Months, Months, Months, Months, Months, Months, Months, Months, Months, Months, Months, Months, Months, Months, Months, Months, Months, Months, Months,                                                                                                                                                                                                                                                                                                                                                                                                                                                                                                                                                                                                                                                                                                                                                                                                                                                                                                                                                                                              </td></tr>\n",
       "<tr><td style=\"text-align: right;\"> 15</td><td>&lt;unk&gt;&quot;tenant_name&quot;: null, &quot;unit_address&quot;: null, &quot;unit_number&quot;: null, &quot;unit_type&quot;: null, &quot;agreement_date&quot;: null, &quot;lease_start&quot;: null, &quot;lease_end&quot;: null, &quot;lease_auto_renew&quot;: null, &quot;hourly_rate&quot;: null, &quot;monthly_rent&quot;: null, &quot;prorated_rent&quot;: null, &quot;security_deposit&quot;: null, &quot;lease_rent&quot;: null, &quot;monthly_payment_breakdown&quot;: null, &quot;utility_charges&quot;: null&lt;unk&gt;&lt;/s&gt;                                                                                                                                                                                                                                                                                                                                                                                                                                                                                                                                     </td><td>&lt;pad&gt; Security Deposit, Compensate, Remedy, Repair, Damage, Damages, Damages, Damages, Damages, Damages, Damages, Damages, Damages, Damages, Damages, Damages, Damages, Damages, Damages, Damages, Damages, Damages, Damages, Damages, Damages, Damages, Damages, Damages, Damages, Damages, Damages, Damages, Damages, Damages, Damages, Damages, Damages, Damages, Damages, Damages, Damages, Damages, Damages, Damages, Damages, Damages, Damages, Damages, Damages, Damages, Damages, Damages, Damages, Damages, Damages, Damages, Damages, Damages, Damages, Damages, Damages, Damages, Damages, Damages, Damages, Damages, Damages, Damages, Damages, Damages, Damages, Damages, Damages, Damages, Damages, Damages, Damages, Damages, Damages, Damages, Damages, Damages, Damages, Damages, Damages, Damages, Damages, Damages, Damages, Damages, Damages, Damages, Damages, Damages, Damages, Damages, Damages, Damages, Damages, Damages, Damages, Damages, Damages, Damages, Damages, Damages, Damages, Damages, Damages, Damages, Damages, Damages, Damages, Damages, Damages, Damages, Damages, Damages, Damages, Damages, Damages, Damages, Damages, Damages, Damages, Damages, Damages, Damages, Damages, Damages, Damages, Damages, Damages, Damages, Damages, Damages, Damages, Damages, Damages, Damages, Damages, Damages, Damages, Damages, Damages, Damages, Damages, Damages, Damages, Damages, Damages, Damages, Damages, Damages, Damages, Damages, Damages, Damages, Damages, Damages, Damages, Damages, Damages, Damages, Damages, Damages, Damages, Damages, Damages, Damages, Damage                                                                                                                                                                                                                                                                                                                                                                                                                                                                                                                                                                                                                                                                                                                                                                                                      </td></tr>\n",
       "<tr><td style=\"text-align: right;\"> 16</td><td>&lt;unk&gt;&quot;tenant_name&quot;: &quot;Ricquan M Moore&quot;, &quot;unit_address&quot;: null, &quot;unit_number&quot;: null, &quot;unit_type&quot;: null, &quot;agreement_date&quot;: null, &quot;lease_start&quot;: null, &quot;lease_end&quot;: null, &quot;lease_auto_renew&quot;: null, &quot;hourly_rate&quot;: null, &quot;monthly_rent&quot;: null, &quot;prorated_rent&quot;: null, &quot;security_deposit&quot;: null, &quot;lease_rent&quot;: null, &quot;monthly_payment_breakdown&quot;: null, &quot;utility_charges&quot;: null&lt;unk&gt;&lt;/s&gt;                                                                                                                                                                                                                                                                                                                                                                                                                                                                                                                        </td><td>&lt;pad&gt; &lt;unk&gt; &lt;unk&gt; &lt;unk&gt; &lt;unk&gt; &lt;unk&gt; &lt;unk&gt; &lt;unk&gt; &lt;unk&gt; &lt;unk&gt; &lt;unk&gt; &lt;unk&gt; &lt;unk&gt; &lt;unk&gt; &lt;unk&gt; &lt;unk&gt; &lt;unk&gt; &lt;unk&gt; &lt;unk&gt; &lt;unk&gt; &lt;unk&gt; &lt;unk&gt; &lt;unk&gt; &lt;unk&gt; &lt;unk&gt; &lt;unk&gt; &lt;unk&gt; &lt;unk&gt; &lt;unk&gt; &lt;unk&gt; &lt;unk&gt; &lt;unk&gt; &lt;unk&gt; &lt;unk&gt; &lt;unk&gt; &lt;unk&gt; &lt;unk&gt; &lt;unk&gt; &lt;unk&gt; &lt;unk&gt; &lt;unk&gt; &lt;unk&gt; &lt;unk&gt; &lt;unk&gt; &lt;unk&gt; &lt;unk&gt; &lt;unk&gt; &lt;unk&gt; &lt;unk&gt; &lt;unk&gt; &lt;unk&gt; &lt;unk&gt; &lt;unk&gt; &lt;unk&gt; &lt;unk&gt; &lt;unk&gt; &lt;unk&gt; &lt;unk&gt; &lt;unk&gt; &lt;unk&gt; &lt;unk&gt; &lt;unk&gt; &lt;unk&gt; &lt;unk&gt; &lt;unk&gt; &lt;unk&gt; &lt;unk&gt; &lt;unk&gt; &lt;unk&gt; &lt;unk&gt; &lt;unk&gt; &lt;unk&gt; &lt;unk&gt; &lt;unk&gt; &lt;unk&gt; &lt;unk&gt; &lt;unk&gt; &lt;unk&gt; &lt;unk&gt; &lt;unk&gt; &lt;unk&gt; &lt;unk&gt; &lt;unk&gt; &lt;unk&gt; &lt;unk&gt; &lt;unk&gt; &lt;unk&gt; &lt;unk&gt; &lt;unk&gt; &lt;unk&gt; &lt;unk&gt; &lt;unk&gt; &lt;unk&gt; &lt;unk&gt; &lt;unk&gt; &lt;unk&gt; &lt;unk&gt; &lt;unk&gt; &lt;unk&gt; &lt;unk&gt; &lt;unk&gt; &lt;unk&gt; &lt;unk&gt; &lt;unk&gt; &lt;unk&gt; &lt;unk&gt; &lt;unk&gt; &lt;unk&gt; &lt;unk&gt; &lt;unk&gt; &lt;unk&gt; &lt;unk&gt; &lt;unk&gt; &lt;unk&gt; &lt;unk&gt; &lt;unk&gt; &lt;unk&gt; &lt;unk&gt; &lt;unk&gt; &lt;unk&gt; &lt;unk&gt; &lt;unk&gt; &lt;unk&gt; &lt;unk&gt; &lt;unk&gt; &lt;unk&gt; &lt;unk&gt; &lt;unk&gt; &lt;unk&gt; &lt;unk&gt; &lt;unk&gt; &lt;unk&gt; &lt;unk&gt; &lt;unk&gt; &lt;unk&gt; &lt;unk&gt; &lt;unk&gt; &lt;unk&gt; &lt;unk&gt; &lt;unk&gt; &lt;unk&gt; &lt;unk&gt; &lt;unk&gt; &lt;unk&gt; &lt;unk&gt; &lt;unk&gt; &lt;unk&gt; &lt;unk&gt; &lt;unk&gt; &lt;unk&gt; &lt;unk&gt; &lt;unk&gt; &lt;unk&gt; &lt;unk&gt; &lt;unk&gt; &lt;unk&gt; &lt;unk&gt; &lt;unk&gt; &lt;unk&gt; &lt;unk&gt; &lt;unk&gt; &lt;unk&gt; &lt;unk&gt; &lt;unk&gt; &lt;unk&gt; &lt;unk&gt; &lt;unk&gt; &lt;unk&gt; &lt;unk&gt; &lt;unk&gt; &lt;unk&gt; &lt;unk&gt; &lt;unk&gt; &lt;unk&gt; &lt;unk&gt; &lt;unk&gt; &lt;unk&gt; &lt;unk&gt; &lt;unk&gt; &lt;unk&gt; &lt;unk&gt; &lt;unk&gt; &lt;unk&gt; &lt;unk&gt; &lt;unk&gt; &lt;unk&gt; &lt;unk&gt; &lt;unk&gt; &lt;unk&gt; &lt;unk&gt; &lt;unk&gt; &lt;unk&gt; &lt;unk&gt; &lt;unk&gt; &lt;unk&gt; &lt;unk&gt; &lt;unk&gt; &lt;unk&gt; &lt;unk&gt; &lt;unk&gt; &lt;unk&gt; &lt;unk&gt; &lt;unk&gt; &lt;unk&gt; &lt;unk&gt; &lt;unk&gt; &lt;unk&gt; &lt;unk&gt; &lt;unk&gt; &lt;unk&gt; &lt;unk&gt; &lt;unk&gt; &lt;unk&gt; &lt;unk&gt; &lt;unk&gt; &lt;unk&gt; &lt;unk&gt; &lt;unk&gt; &lt;unk&gt; &lt;unk&gt; &lt;unk&gt; &lt;unk&gt; &lt;unk&gt; &lt;unk&gt; &lt;unk&gt; &lt;unk&gt; &lt;unk&gt; &lt;unk&gt; &lt;unk&gt; &lt;unk&gt; &lt;unk&gt; &lt;unk&gt; &lt;unk&gt; &lt;unk&gt; &lt;unk&gt; &lt;unk&gt; &lt;unk&gt; &lt;unk&gt; &lt;unk&gt; &lt;unk&gt; &lt;unk&gt; &lt;unk&gt; &lt;unk&gt; &lt;unk&gt; &lt;unk&gt; &lt;unk&gt; &lt;unk&gt; &lt;unk&gt; &lt;unk&gt; &lt;unk&gt; &lt;unk&gt; &lt;unk&gt; &lt;unk&gt; &lt;unk&gt; &lt;unk&gt; &lt;unk&gt; &lt;unk&gt;                                                                                                                                                                                                                                                                                                                                                                                                                                                                                                                                                                                                                                                                                                                                                                                                                </td></tr>\n",
       "<tr><td style=\"text-align: right;\"> 17</td><td>&lt;unk&gt;&quot;tenant_name&quot;: null, &quot;unit_address&quot;: null, &quot;unit_number&quot;: null, &quot;unit_type&quot;: null, &quot;agreement_date&quot;: null, &quot;lease_start&quot;: null, &quot;lease_end&quot;: null, &quot;lease_auto_renew&quot;: null, &quot;hourly_rate&quot;: null, &quot;monthly_rent&quot;: null, &quot;prorated_rent&quot;: null, &quot;security_deposit&quot;: null, &quot;lease_rent&quot;: null, &quot;monthly_payment_breakdown&quot;: null, &quot;utility_charges&quot;: null&lt;unk&gt;&lt;/s&gt;                                                                                                                                                                                                                                                                                                                                                                                                                                                                                                                                     </td><td>&lt;pad&gt; Casualty Loss, During freezing weather, You, You, You, You, You, You, You, You, You, You, You, You, You, You, You, You, You, You, You, You, You, You, You, You, You, You, You, You, You, You, You, You, You, You, You, You, You, You, You, You, You, You, You, You, You, You, You, You, You, You, You, You, You, You, You, You, You, You, You, You, You, You, You, You, You, You, You, You, You, You, You, You, You, You, You, You, You, You, You, You, You, You, You, You, You, You, You, You, You, You, You, You, You, You, You, You, You, You, You, You, You, You, You, You, You, You, You, You, You, You, You, You, You, You, You, You, You, You, You, You, You, You, You, You, You, You, You, You, You, You, You, You, You, You, You, You, You, You, You, You, You, You, You, You, You, You, You, You, You, You, You, You, You, You, You, You, You, You, You, You, You, You, You, You, You, You, You, You, You, You, You, You, You, You, You, You, You, You, You, You, You, You, You, You, You, You, You, You, You, You, You, You, You, You, You, You, You, You, You, You, You, You, You, You, You, You, You, You, You, You, You, You, You, You, You, You, You, You, You, You, You, You, You, You, You, You, You, You, You, You, You, You, You, You, You, You, You, You, You, You, You, You, You, You, You, You, You, You, You, You, You                                                                                                                                                                                                                                                                                                                                                                                                                                                                                                                                                                                                                                                                                                                                                                                                                                                                                                                                                                                                                                                                  </td></tr>\n",
       "<tr><td style=\"text-align: right;\"> 18</td><td>&lt;unk&gt;&quot;tenant_name&quot;: null, &quot;unit_address&quot;: null, &quot;unit_number&quot;: null, &quot;unit_type&quot;: null, &quot;agreement_date&quot;: null, &quot;lease_start&quot;: null, &quot;lease_end&quot;: null, &quot;lease_auto_renew&quot;: null, &quot;hourly_rate&quot;: null, &quot;monthly_rent&quot;: null, &quot;prorated_rent&quot;: null, &quot;security_deposit&quot;: null, &quot;lease_rent&quot;: null, &quot;monthly_payment_breakdown&quot;: null, &quot;utility_charges&quot;: null&lt;unk&gt;&lt;/s&gt;                                                                                                                                                                                                                                                                                                                                                                                                                                                                                                                                     </td><td>&lt;pad&gt; &lt;unk&gt; LESSEES_RESPONSIBILITY_AND_COSTS_TO_COVER_THE_INCOME_OF_THE_ANIMALS, if we allow an animal of any kind, you must sign a separate animal addendum, post a non-refundable animal deposit and pay pet rent in the amount to be determined by the LESSOR. We will authorize a service or companion animal for a disabled person but may require a written statement from a qualified professional verifying the need for the service animal. If you or any guest or occupant violates animal restrictions, you will be subject to charges, damages, and/or eviction, and such other remedies provided in this lease. If an animal has been in the residence at any time during your term of occupancy (with or without our consent), we&#x27;ll charge you for all necessary cleaning including but not limited to de-fleaing, deodorizing, and carpet shampooing. Initial and daily animal violation charges and animal-removal charges are liquidated damages for our inconvenience and overhead (except for attorney&#x27;s fees and litigation costs) in enforcing animal restrictions and rules. SM INITIALS LESSEE also agrees to carry insurance deemed appropriate by OWNER tBcover possible liability and damages that may be caused by such animals, if we allow an animal. SM INITIALS If the animal is creating a nuisance or damaging property, and LESSEE is unavailable or refuses to correct the problem, the LESSOR may keep of kennel the animal or turn the animal over to local animal control authorities at LESSEES expense. SM INITIALS LESSEEs are responsible for the pets of guests who visit their unit.&lt;/s&gt;                                                                                                                                                                                                                                                                                                                                                                                                                                                                                                                                                                                                                                                                                                                                                                                </td></tr>\n",
       "<tr><td style=\"text-align: right;\"> 19</td><td>&lt;unk&gt;&quot;tenant_name&quot;: null, &quot;unit_address&quot;: null, &quot;unit_number&quot;: null, &quot;unit_type&quot;: null, &quot;agreement_date&quot;: null, &quot;lease_start&quot;: null, &quot;lease_end&quot;: null, &quot;lease_auto_renew&quot;: null, &quot;hourly_rate&quot;: null, &quot;monthly_rent&quot;: null, &quot;prorated_rent&quot;: null, &quot;security_deposit&quot;: null, &quot;lease_rent&quot;: null, &quot;monthly_payment_breakdown&quot;: null, &quot;utility_charges&quot;: null&lt;unk&gt;&lt;/s&gt;                                                                                                                                                                                                                                                                                                                                                                                                                                                                                                                                     </td><td>&lt;pad&gt; &quot;, &quot;type&quot;: [ &quot;string&quot;, &quot;null&quot; ], &quot;description&quot;: &quot;The date when the lease ends, found in the OCR text.&quot; &lt;unk&gt;, &quot;lease_start&quot;: &lt;unk&gt; &quot;type&quot;: [ &quot;string&quot;, &quot;null&quot; ], &quot;format&quot;: &quot;date&quot; ], &quot;description&quot;: &quot;The date when the lease starts, found in the OCR text.&quot; &lt;unk&gt;, &quot;lease_end&quot;: &lt;unk&gt; &quot;type&quot;: [ &quot;string&quot;, &quot;null&quot; ], &quot;description&quot;: &quot;The date when the lease ends, found in the OCR text.&quot;&lt;/s&gt;                                                                                                                                                                                                                                                                                                                                                                                                                                                                                                                                                                                                                                                                                                                                                                                                                                                                                                                                                                                                                                                                                                                                                                                                                                                                                                                                                                                                                                                                                                                                                                                                                                                                                                                                                                                                                                                                                                                                                                                                                 </td></tr>\n",
       "<tr><td style=\"text-align: right;\"> 20</td><td>&lt;unk&gt;&quot;tenant_name&quot;: null, &quot;unit_address&quot;: null, &quot;unit_number&quot;: null, &quot;unit_type&quot;: null, &quot;agreement_date&quot;: null, &quot;lease_start&quot;: null, &quot;lease_end&quot;: null, &quot;lease_auto_renew&quot;: null, &quot;hourly_rate&quot;: null, &quot;monthly_rent&quot;: null, &quot;prorated_rent&quot;: null, &quot;security_deposit&quot;: null, &quot;lease_rent&quot;: null, &quot;monthly_payment_breakdown&quot;: null, &quot;utility_charges&quot;: &lt;unk&gt;&quot;gas&quot;: null, &quot;water&quot;: null, &quot;sewer&quot;: null, &quot;electricity&quot;: null, &quot;waste removal&quot;: null&lt;unk&gt;&lt;/s&gt;                                                                                                                                                                                                                                                                                                                                                                                                                                               </td><td>&lt;pad&gt; Lessor, CRIMINAL_ACTIVITY, if, during, or its, subsequent, renewals, Lessee or any regular occupant of leased premises is charged with an offense which may result in a felony conviction or which constitutes a crime against a person, or which involves use, manufacture or distribution of illegal drugs, Lessor may at his option terminate this lease, and seek such other remedies as may be available by law. By signing this lease, tenant agrees to this policy. 32. PARKING. Tenant is permitted to park one (1) vehicle only in the parking space provided next to the apartment. This includes vehicles owned by Occupants Other Than Tenant and any visiting guests. Any vehicles found parked in front (by the door) or behind (on the grass or dirt) or in excess of one (1) in number will be towed at the vehicle owner&#x27;s expense without warning. Any damages from the result of parking in undesignated parking areas (landscaping, underground utilities including, water, sewer, electric, etc.) will be repaired at tenant expense. By signing this lease, tenant agrees to this policy.&lt;/s&gt;                                                                                                                                                                                                                                                                                                                                                                                                                                                                                                                                                                                                                                                                                                                                                                                                                                                                                                                                                                                                                                                                                                                                                                                                                                                                                            </td></tr>\n",
       "<tr><td style=\"text-align: right;\"> 21</td><td>&lt;unk&gt;&quot;tenant_name&quot;: null, &quot;unit_address&quot;: null, &quot;unit_number&quot;: null, &quot;unit_type&quot;: null, &quot;agreement_date&quot;: null, &quot;lease_start&quot;: null, &quot;lease_end&quot;: null, &quot;lease_auto_renew&quot;: null, &quot;hourly_rate&quot;: null, &quot;monthly_rent&quot;: null, &quot;prorated_rent&quot;: null, &quot;security_deposit&quot;: null, &quot;lease_rent&quot;: null, &quot;monthly_payment_breakdown&quot;: null, &quot;utility_charges&quot;: null&lt;unk&gt;&lt;/s&gt;                                                                                                                                                                                                                                                                                                                                                                                                                                                                                                                                     </td><td>&lt;pad&gt; DAAF OLD!, EPA, United States Environmental Protection Agency, United States Consumer Product Safety Commission, DEPA, AND UR * USING L + MENT D, United States Department of Housing and Urban Development&lt;/s&gt;                                                                                                                                                                                                                                                                                                                                                                                                                                                                                                                                                                                                                                                                                                                                                                                                                                                                                                                                                                                                                                                                                                                                                                                                                                                                                                                                                                                                                                                                                                                                                                                                                                                                                                                                                                                                                                                                                                                                                                                                                                                                                                                                                                                                </td></tr>\n",
       "<tr><td style=\"text-align: right;\"> 22</td><td>&lt;unk&gt;&quot;tenant_name&quot;: null, &quot;unit_address&quot;: null, &quot;unit_number&quot;: null, &quot;unit_type&quot;: null, &quot;agreement_date&quot;: null, &quot;lease_start&quot;: null, &quot;lease_end&quot;: null, &quot;lease_auto_renew&quot;: null, &quot;hourly_rate&quot;: null, &quot;monthly_rent&quot;: null, &quot;prorated_rent&quot;: null, &quot;security_deposit&quot;: null, &quot;lease_rent&quot;: null, &quot;monthly_payment_breakdown&quot;: null, &quot;utility_charges&quot;: null&lt;unk&gt;&lt;/s&gt;                                                                                                                                                                                                                                                                                                                                                                                                                                                                                                                                     </td><td>&lt;pad&gt; &lt;unk&gt; 22. NOTICE TO TENANT. THIS LEASE CONTAINS WAIVERS OF CONSUMER RIGHTS. TENANT WAIVES CERTAIN RIGHTS BY SIGNING THIS LEASE. 23. NO JURY TRIAL. Landlord and Tenant waive and give up any right to any jury trial for any claim or matter concerning this Lease or the Leased Unit. 24. BANKRUPTCY. If Tenant files a petition in bankruptcy, rent and charges will be prorated for the month in which the bankruptcy petition is filed. The rent for the remainder of that month (prorated) is due and payable within two (2) days after the filing of the petition in bankruptcy. This paragraph does not change any other rights or obligations of Tenant. 25. INCORRECT INFORMATION IN APPLICATION. If Tenant provided incorrect information in the Application, it is a breach of this Lease. Landlord may end this Lease and/or sue Tenant for possession and/or any losses or money damages if the Application contained incorrect information. 26. JOINT AND SEVERAL. Each person who signs this Lease is fully responsible to do what is stated in the Lease. Each signer is responsible to pay the rent in full. 27. NOTICE TO CO-SIGNERS/GUARANTORS. Landlord has the right but not the obligation to contact any co-signer/guarantor and/or to provide notice to any co-signer/guarantor of any breach of this Lease by Tenant. 28. ADDITIONAL RENT. All payments due under this Lease are either rent (paragraph 3) or additional rent. 29. ADDITIONAL TERMS AND CONTITIONS. The Rules and Regulations that are attached are part of this Lease. Violation of any of the &quot;Rules and Regulations&quot; is a breach of this Lease.&lt;/s&gt;                                                                                                                                                                                                                                                                                                                                                                                                                                                                                                                                                                                                                                                                                                                                                                </td></tr>\n",
       "<tr><td style=\"text-align: right;\"> 23</td><td>&lt;unk&gt;&quot;tenant_name&quot;: null, &quot;unit_address&quot;: null, &quot;unit_number&quot;: null, &quot;unit_type&quot;: null, &quot;agreement_date&quot;: null, &quot;lease_start&quot;: &quot;2023-07-01&quot;, &quot;lease_end&quot;: &quot;2024-09-30&quot;, &quot;lease_auto_renew&quot;: &quot;12-month lease&quot;, &quot;hourly_rate&quot;: null, &quot;monthly_rent&quot;: 1400.0, &quot;prorated_rent&quot;: 46.0, &quot;security_deposit&quot;: null, &quot;lease_rent&quot;: null, &quot;monthly_payment_breakdown&quot;: null, &quot;utility_charges&quot;: &lt;unk&gt;&quot;utility_charge&quot;: null&lt;unk&gt;&lt;/s&gt;                                                                                                                                                                                                                                                                                                                                                                                                                                                                                </td><td>&lt;pad&gt; &lt;unk&gt; DOCUSIGNEVEL_ID: 7C1DBD69-95D2-41C3-ACDE-B64B897C3FEC Rev 10 22 persons who wish to reside on the premises must be named in this paragraph, be submitted to our screening and application process and, if over age 18, sign this lease. If any adults occupy the premises other than those listed herein, the LESSOR shall have the option of pursuing any remedies allowed by law, including terminating the lease, or increasing the rent in the amount of $ 1.400.00per additional adult. The provisions of this paragraph do not apply to the LESSEES minor children except that the total number of persons occupying the premises shall not exceed two per bedroom. (Sec. 441.060, R.S. Mo.) Upon request by the LESSOR, the LESSEE shall provide satisfactory proof of his familial relationship to other occupants of the premises or the name and address of any person visiting or temporarily residing on the premises. The LESSOR is not obliged to allow any other person access to the premises without the LESSEEs written instructions. 3. PREMISES, INITIAL TERM, AND RENEWAL. LESSOR does hereby lease to the LESSEE in its present condition the previously described premises for the initial term beginning 7/01/2023 and ending at 9/30/2024 midnight UNLESS terminated by either party in writing at least 60 days PRIOR to the expiration of the initial or successive terms. LESSEE shall deliver peaceful possession of unit to LESSOR upon termination hereof for any reason. If the LESSEE remains on the premises after the term of the lease it automatically renews into a 12-month lease and all terms of lease shall remain in effect. LESSEE must provide written notice of vacating 60 days in advance. 4. RENT, LATE CHAR&lt;/s&gt;                                                                                                                                                                                                                                                                                                                                                                                                                                                                                                                                                                                                                                        </td></tr>\n",
       "<tr><td style=\"text-align: right;\"> 24</td><td>&lt;unk&gt;&quot;tenant_name&quot;: null, &quot;unit_address&quot;: &quot;333 H Street, Ste. 5000, Chula Vista, CA 91910&quot;, &quot;unit_number&quot;: null, &quot;unit_type&quot;: null, &quot;agreement_date&quot;: null, &quot;lease_start&quot;: null, &quot;lease_end&quot;: &quot;2024-03-31&quot;, &quot;lease_auto_renew&quot;: null, &quot;hourly_rate&quot;: null, &quot;monthly_rent&quot;: 3350.0, &quot;prorated_rent&quot;: 2121.67, &quot;security_deposit&quot;: 2500.0, &quot;lease_rent&quot;: null, &quot;monthly_payment_breakdown&quot;: &lt;unk&gt;&quot;Liability to Landlord Insurance&quot;: 9.5, &quot;Admin Fee - Liability to Landlord Insurance&quot;: 3.0, &quot;Rent Income&quot;: 3350.0, &quot;Total&quot;: 3362.5&lt;unk&gt;, &quot;utility_charges&quot;: null&lt;unk&gt;&lt;/s&gt;                                                                                                                                                                                                                                                                                                                                  </td><td>&lt;pad&gt; MONTHLY_CHARGES, AdminFee, LiabilityToLandlord, RentIncome, Total, PRORATED_RENT, ADDITIONAL_CHARGES, LATE_CHARGE, SECURITY_DEPOSIT, PAYMENT_INSTRUCTIONS, 333H_STREET, STE. 5000, Chula Vista, CA 91910, (888)557-HEET (4338), &lt;unk&gt;&lt;/s&gt;                                                                                                                                                                                                                                                                                                                                                                                                                                                                                                                                                                                                                                                                                                                                                                                                                                                                                                                                                                                                                                                                                                                                                                                                                                                                                                                                                                                                                                                                                                                                                                                                                                                                                                                                                                                                                                                                                                                                                                                                                                                                                                                                                                      </td></tr>\n",
       "<tr><td style=\"text-align: right;\"> 25</td><td>&lt;unk&gt;&quot;tenant_name&quot;: &quot;Saray Ramos Gutierrez&quot;, &quot;unit_address&quot;: &quot;5010 N. 22nd Ave Phoenix 85015 Arizona&quot;, &quot;unit_number&quot;: &quot;100&quot;, &quot;unit_type&quot;: &quot;furnished unfurnished apartment&quot;, &quot;agreement_date&quot;: &quot;2021-11-01&quot;, &quot;lease_start&quot;: &quot;2021-11-01&quot;, &quot;lease_end&quot;: &quot;2022-10-31&quot;, &quot;lease_auto_renew&quot;: &quot;month-to-month&quot;, &quot;hourly_rate&quot;: null, &quot;monthly_rent&quot;: 1813.0, &quot;prorated_rent&quot;: null, &quot;security_deposit&quot;: 1300.0, &quot;lease_rent&quot;: 21756.0, &quot;monthly_payment_breakdown&quot;: &lt;unk&gt;&quot;Rent&quot;: 1813.0, &quot;City Sales Tax&quot;: 41.69, &quot;Utility Income (RUBS)&quot;: 100.0, &quot;TOTAL MONTHLY RENT&quot;: 1954.69&lt;unk&gt;, &quot;utility_charges&quot;: &lt;unk&gt;&quot;Natural Gas&quot;: null, &quot;Electricity&quot;: null, &quot;Water, sewer, trash&quot;: null&lt;unk&gt;&lt;/s&gt;                                                                                                                                                                                                                   </td><td>&lt;pad&gt; MONTHLY RENTAL OTHER CHARGES AND DEPOSIT(S) Security Deposit $ 1300 CHARGES Rent $1813.00 Pet Deposit $ n/a (Does not apply to assistance animals) Pet Rent $ or (Does not apply to assistive animals) City Sales Tax $41.69 (Applicable rate subject to change during lease term) Subtotal $ 1,854.69 Utility Income (RUBS) $ 100 or Adm. Fees $ n/a UTILITIES: Natural Gas Paid by: Resident Electricity Paid by: Resident Other WATER_, sewer, trashPaid by: Resident V (RUBS program in place, subject to change) TOTAL MONTHLY RENT $ 1.954.69 OTHER TERMS AND CONDIT&lt;/s&gt;                                                                                                                                                                                                                                                                                                                                                                                                                                                                                                                                                                                                                                                                                                                                                                                                                                                                                                                                                                                                                                                                                                                                                                                                                                                                                                                                                                                                                                                                                                                                                                                                                                                                                                                                                                                                                                 </td></tr>\n",
       "<tr><td style=\"text-align: right;\"> 26</td><td>&lt;unk&gt;&quot;tenant_name&quot;: null, &quot;unit_address&quot;: null, &quot;unit_number&quot;: null, &quot;unit_type&quot;: null, &quot;agreement_date&quot;: null, &quot;lease_start&quot;: null, &quot;lease_end&quot;: null, &quot;lease_auto_renew&quot;: null, &quot;hourly_rate&quot;: null, &quot;monthly_rent&quot;: 875.0, &quot;prorated_rent&quot;: null, &quot;security_deposit&quot;: null, &quot;lease_rent&quot;: null, &quot;monthly_payment_breakdown&quot;: &lt;unk&gt;&quot;Rent&quot;: 850.0, &quot;Pet Rent&quot;: 0.0, &quot;RUBS&quot;: 25.0, &quot;Parking&quot;: 0.0&lt;unk&gt;, &quot;utility_charges&quot;: null&lt;unk&gt;&lt;/s&gt;                                                                                                                                                                                                                                                                                                                                                                                                                                                                  </td><td>&lt;pad&gt; OCR text&quot;&lt;/s&gt;                                                                                                                                                                                                                                                                                                                                                                                                                                                                                                                                                                                                                                                                                                                                                                                                                                                                                                                                                                                                                                                                                                                                                                                                                                                                                                                                                                                                                                                                                                                                                                                                                                                                                                                                                                                                                                                                                                                                                                                                                                                                                                                                                                                                                                                                                                                                                                                                  </td></tr>\n",
       "<tr><td style=\"text-align: right;\"> 27</td><td>&lt;unk&gt;&quot;tenant_name&quot;: null, &quot;unit_address&quot;: null, &quot;unit_number&quot;: null, &quot;unit_type&quot;: null, &quot;agreement_date&quot;: null, &quot;lease_start&quot;: null, &quot;lease_end&quot;: null, &quot;lease_auto_renew&quot;: null, &quot;hourly_rate&quot;: null, &quot;monthly_rent&quot;: 2074.0, &quot;prorated_rent&quot;: 1404.97, &quot;security_deposit&quot;: null, &quot;lease_rent&quot;: null, &quot;monthly_payment_breakdown&quot;: null, &quot;utility_charges&quot;: null&lt;unk&gt;&lt;/s&gt;                                                                                                                                                                                                                                                                                                                                                                                                                                                                                                                                </td><td>&lt;pad&gt; &lt;unk&gt; Any security deposit or advance rent you paid is being held in one of the following three ways as indicated below [Landlord check one option]: X&lt;/s&gt;                                                                                                                                                                                                                                                                                                                                                                                                                                                                                                                                                                                                                                                                                                                                                                                                                                                                                                                                                                                                                                                                                                                                                                                                                                                                                                                                                                                                                                                                                                                                                                                                                                                                                                                                                                                                                                                                                                                                                                                                                                                                                                                                                                                                                                                     </td></tr>\n",
       "<tr><td style=\"text-align: right;\"> 28</td><td>&lt;unk&gt;&quot;tenant_name&quot;: null, &quot;unit_address&quot;: null, &quot;unit_number&quot;: null, &quot;unit_type&quot;: null, &quot;agreement_date&quot;: null, &quot;lease_start&quot;: &quot;2023-07-25&quot;, &quot;lease_end&quot;: &quot;2024-08-31&quot;, &quot;lease_auto_renew&quot;: &quot;12-month lease&quot;, &quot;hourly_rate&quot;: null, &quot;monthly_rent&quot;: 1200.0, &quot;prorated_rent&quot;: 288.0, &quot;security_deposit&quot;: null, &quot;lease_rent&quot;: 15750.0, &quot;monthly_payment_breakdown&quot;: &lt;unk&gt;&quot;rent&quot;: 1200.0, &quot;community charge&quot;: 75.0&lt;unk&gt;, &quot;utility_charges&quot;: null&lt;unk&gt;&lt;/s&gt;                                                                                                                                                                                                                                                                                                                                                                                                                                                     </td><td>&lt;pad&gt; &lt;unk&gt; DOCUSIGNEVEL_ID: 060DFDED-7A8C-48F3-88ED-4B88F3943AD4 Rev 10 22 persons who wish to reside on the premises must be named in this paragraph, be submitted to our screening and application process and, if over age 18, sign this lease. If any adults occupy the premises other than those listed herein, the LESSOR shall have the option of pursuing any remedies allowed by law, including terminating the lease, or increasing the rent in the amount of $ 1200.00 per additional adult. The provisions of this paragraph do not apply to the LESSEES minor children except that the total number of persons occupying the premises shall not exceed two per bedroom. (Sec. 441.060, R.S. Mo.) Upon request by the LESSOR, the LESSEE shall provide satisfactory proof of his familial relationship to other occupants of the premises or the name and address of any person visiting or temporarily residing on the premises. The LESSOR is not obliged to allow any other person access to the premises without the LESSEEs written instructions. 3. PREMISES, INITIAL TERM, AND RENEWAL. LESSOR does hereby lease to the LESSEE in its present condition the previously described premises for the initial term beginning 7/25/2023 and ending at 8/31/2024 midnight UNLESS terminated by either party in writing at least 60 days PRIOR to the expiration of the initial or successive terms. LESSEE shall deliver peaceful possession of unit to LESSOR upon termination hereof for any reason. If the LESSEE remains on the premises after the term of the lease it automatically renews into a 12-month lease and all terms of lease shall remain in effect. LESSEE must provide written notice of vacating 60 days in advance. 4. RENT, LATE CHARGES AND&lt;/s&gt;                                                                                                                                                                                                                                                                                                                                                                                                                                                                                                                                                                                                                                 </td></tr>\n",
       "<tr><td style=\"text-align: right;\"> 29</td><td>&lt;unk&gt;&quot;tenant_name&quot;: &quot;Alisher Rakhmonov&quot;, &quot;unit_address&quot;: null, &quot;unit_number&quot;: null, &quot;unit_type&quot;: null, &quot;agreement_date&quot;: null, &quot;lease_start&quot;: &quot;2022-03-27&quot;, &quot;lease_end&quot;: &quot;2037-03-27&quot;, &quot;lease_auto_renew&quot;: null, &quot;hourly_rate&quot;: null, &quot;monthly_rent&quot;: null, &quot;prorated_rent&quot;: null, &quot;security_deposit&quot;: null, &quot;lease_rent&quot;: null, &quot;monthly_payment_breakdown&quot;: null, &quot;utility_charges&quot;: null&lt;unk&gt;&lt;/s&gt;                                                                                                                                                                                                                                                                                                                                                                                                                                                                                                      </td><td>&lt;pad&gt; &lt;unk&gt; Ocean Drive &lt;unk&gt; 421-A PROVIDES THAT THE APARTMENT WILL BE SUBJECT TO THE RSL FOR FIFTEEN (15) YEARS, AND, UNLESS THE PRESENT LAWS ARE CHANGED, THE APARTMENT WILL ALSO BE SUBJECT TO STANDARD RENT INCREASES ON LEASE RENEWALS DURING SAID FIFTEEN (15) YEAR PERIOD, AS APPROVED BY THE RENT GUIDELINES BOARD. ANY INCREASES GRANTED BY THE RENT GUIDELINES BOARD SHALL BE MADE TO THE RENT SHOWN IN THE ORIGINAL LEASE OR THE MOST RECENT LEASE RENEWAL NOTICE AS APPLICABLE. OWNER IN GOOD FAITH BELIEVES THAT THE &lt;unk&gt; 421-A TAX BENEFITS WILL EXPIRE ON OR ABOUT JUNE 30, 2035. AFTER SUCH DATE, THE APARTMENT WILL NOT BE REGULATED AS TO THE AMOUNT OF RENT THAT MAY BE CHARGED FOR THE APARTMENT NOR WILL THE OWNER BE LEGALLY OBLIGATED TO RENEW THE LEASE. IF THE OWNER SHOULD ELECT TO RENEW THE LEASE AT THAT TIME, THE OWNER WILL NOT BE LEGALLY BOUND BY ANY GOVERNMENTAL RENT GUIDELINES AND MAY CHARGE AN UNREGULATED RENT. TENANT ACKNOWLEDGES THAT HE OR SHE HAS BEEN INFORMED OF OWNER&#x27;S RIGHT TO INCLUDE THIS PROVISION IN THE LEASE. II. YOUR CONFIRMATION&lt;/s&gt;                                                                                                                                                                                                                                                                                                                                                                                                                                                                                                                                                                                                                                                                                                                                                                                                                                                                                                                                                                                                                                                                                                                                                                                                                                                                                                                    </td></tr>\n",
       "<tr><td style=\"text-align: right;\"> 30</td><td>&lt;unk&gt;&quot;tenant_name&quot;: null, &quot;unit_address&quot;: &quot;8230 Monroe Dr.&quot;, &quot;unit_number&quot;: &quot;B&quot;, &quot;unit_type&quot;: null, &quot;agreement_date&quot;: null, &quot;lease_start&quot;: null, &quot;lease_end&quot;: null, &quot;lease_auto_renew&quot;: null, &quot;hourly_rate&quot;: null, &quot;monthly_rent&quot;: null, &quot;prorated_rent&quot;: null, &quot;security_deposit&quot;: 525.0, &quot;lease_rent&quot;: null, &quot;monthly_payment_breakdown&quot;: null, &quot;utility_charges&quot;: null&lt;unk&gt;&lt;/s&gt;                                                                                                                                                                                                                                                                                                                                                                                                                                                                                                                        </td><td>&lt;pad&gt; INTIALS BM DS 6.&lt;/s&gt;                                                                                                                                                                                                                                                                                                                                                                                                                                                                                                                                                                                                                                                                                                                                                                                                                                                                                                                                                                                                                                                                                                                                                                                                                                                                                                                                                                                                                                                                                                                                                                                                                                                                                                                                                                                                                                                                                                                                                                                                                                                                                                                                                                                                                                                                                                                                                                                           </td></tr>\n",
       "<tr><td style=\"text-align: right;\"> 31</td><td>&lt;unk&gt;&quot;tenant_name&quot;: &quot;Ricquan Moore&quot;, &quot;unit_address&quot;: &quot;7608 Pinery Way, Tampa, FL 33615&quot;, &quot;unit_number&quot;: &quot;02H&quot;, &quot;unit_type&quot;: null, &quot;agreement_date&quot;: &quot;2023-04-18&quot;, &quot;lease_start&quot;: &quot;2023-04-28&quot;, &quot;lease_end&quot;: &quot;2024-04-27&quot;, &quot;lease_auto_renew&quot;: &quot;month-to-month&quot;, &quot;hourly_rate&quot;: null, &quot;monthly_rent&quot;: null, &quot;prorated_rent&quot;: null, &quot;security_deposit&quot;: null, &quot;lease_rent&quot;: null, &quot;monthly_payment_breakdown&quot;: null, &quot;utility_charges&quot;: null&lt;unk&gt;&lt;/s&gt;                                                                                                                                                                                                                                                                                                                                                                                                                                                       </td><td>&lt;pad&gt; 1. PARTIES. Ricquan Moore and us, the owner: Meridian Luxury Condominiums (name of apartment community or title holder). You&#x27;ve agreed to rent Apartment No. 02H at 7608 PINERY WAY (street address) in Tampa (city), Florida,.... 33615.(zip code) (the &quot;dwelling unit&quot; or the &quot;premises&quot;) for use as a private residence only. The terms &quot;you&quot; and &quot;your&quot; refer to all residents listed above. The terms &quot;we,&quot; &quot;us,&quot; and &quot;our&quot; refer to the owner listed above (or any of owner&#x27;s successors&#x27; in interest or assigns). Written or electronic notice to or from our managers constitutes notice to or from us. If anyone else has guaranteed performance of this Lease Contract, a separate Lease Contract Guaranty for each guarantor is attached. The :unselected: Owner or X Manager of these apartments is LPC :selected: Southeast I, Inc. whose address is 7605 Pinery Way, Tampa, FL 33615 Such person or company is authorized to receive notices and demands in the landlord&#x27;s behalf. A lease termination notice must be given in writing. Notice to the landlord must be delivered to the management office at the apartment community or any other address designated by management as follows: 7605 Pinery Way, Tampa, FL 33615 Notice to the tenant must be delivered to the Resident&#x27;s address&lt;/s&gt;                                                                                                                                                                                                                                                                                                                                                                                                                                                                                                                                                                                                                                                                                                                                                                                                                                                                                                                                                                                                                                                                                             </td></tr>\n",
       "<tr><td style=\"text-align: right;\"> 32</td><td>&lt;unk&gt;&quot;tenant_name&quot;: null, &quot;unit_address&quot;: null, &quot;unit_number&quot;: null, &quot;unit_type&quot;: null, &quot;agreement_date&quot;: null, &quot;lease_start&quot;: null, &quot;lease_end&quot;: null, &quot;lease_auto_renew&quot;: null, &quot;hourly_rate&quot;: null, &quot;monthly_rent&quot;: null, &quot;prorated_rent&quot;: null, &quot;security_deposit&quot;: null, &quot;lease_rent&quot;: null, &quot;monthly_payment_breakdown&quot;: null, &quot;utility_charges&quot;: null&lt;unk&gt;&lt;/s&gt;                                                                                                                                                                                                                                                                                                                                                                                                                                                                                                                                     </td><td>&lt;pad&gt; Tenant, Smoking, Smoking of tobacco and/or other legal substances, Smoking of illegal substance, Smoking of tobacco and/or other legal substances, Smoking of tobacco and/or other legal substances, Smoking of tobacco and/or other legal substances, Smoking of tobacco and/or other legal substances, Smoking of tobacco and/or other legal substances, Smoking of tobacco and/or other legal substances, Smoking of tobacco and/or other legal substances, Smoking of tobacco and/or other legal substances, Smoking of tobacco and/or other legal substances, Smoking of tobacco and/or other legal substances, Smoking of tobacco and/or other legal substances, Smoking of tobacco and/or other legal substances, Smoking of tobacco and/or other legal substances, Smoking of tobacco and/or other legal substances, Smoking of tobacco and/or other legal substances, Smoking of tobacco and/or other legal substances, Smoking of tobacco and/or other legal substances, Smoking of tobacco and/or other legal substances, Smoking of tobacco and/or other legal substances, Smoking of tobacco and/or other legal substances, Smoking of tobacco and/or other legal substances, Smoking of tobacco and/or other legal substances, Smoking of tobacco and/or other legal substances, Smoking of tobacco and/or other legal substances, Smoking of tobacco and/or other legal substances, Smoking of tobacco and/or other legal substances, Smoking of tobacco and/or other legal substances, Smoking of tobacco and/or other legal substances, Smoking of tobacco and/or other legal substances, Smoking of tobacco and/or other legal substances, Smoking of tobacco and/or other legal substances, Smoking of tobacco and/or other legal substances, Smoking of tobacco and/or other legal substances, Smoking of tobacco and/or other legal substances, Smoking of tobacco and/or other legal substances, Smoking of tobacco and/or other legal substances, Smoking of tobacco and/or other legal substances, Smoking of tobacco and/or other legal substances, Smoking of tobacco and/or other legal substances, Smoking of tobacco and/or other legal substances, Smoking of tobacco and/or other legal substances, Smoking of tobacco and/or other legal substances, Smoking of tobacco and/or other legal substances, Smoking of tobacco and/or other legal substances, Smoking of tobacco and</td></tr>\n",
       "<tr><td style=\"text-align: right;\"> 33</td><td>&lt;unk&gt;&quot;tenant_name&quot;: null, &quot;unit_address&quot;: null, &quot;unit_number&quot;: null, &quot;unit_type&quot;: null, &quot;agreement_date&quot;: null, &quot;lease_start&quot;: null, &quot;lease_end&quot;: null, &quot;lease_auto_renew&quot;: null, &quot;hourly_rate&quot;: null, &quot;monthly_rent&quot;: null, &quot;prorated_rent&quot;: null, &quot;security_deposit&quot;: null, &quot;lease_rent&quot;: null, &quot;monthly_payment_breakdown&quot;: null, &quot;utility_charges&quot;: null&lt;unk&gt;&lt;/s&gt;                                                                                                                                                                                                                                                                                                                                                                                                                                                                                                                                     </td><td>&lt;pad&gt; LESSEES_ARE_RESPONSIBLE&lt;/s&gt;                                                                                                                                                                                                                                                                                                                                                                                                                                                                                                                                                                                                                                                                                                                                                                                                                                                                                                                                                                                                                                                                                                                                                                                                                                                                                                                                                                                                                                                                                                                                                                                                                                                                                                                                                                                                                                                                                                                                                                                                                                                                                                                                                                                                                                                                                                                                                                                    </td></tr>\n",
       "<tr><td style=\"text-align: right;\"> 34</td><td>&lt;unk&gt;&quot;tenant_name&quot;: &quot;Peter Mendes&quot;, &quot;unit_address&quot;: null, &quot;unit_number&quot;: null, &quot;unit_type&quot;: null, &quot;agreement_date&quot;: null, &quot;lease_start&quot;: null, &quot;lease_end&quot;: null, &quot;lease_auto_renew&quot;: null, &quot;hourly_rate&quot;: null, &quot;monthly_rent&quot;: null, &quot;prorated_rent&quot;: null, &quot;security_deposit&quot;: null, &quot;lease_rent&quot;: null, &quot;monthly_payment_breakdown&quot;: null, &quot;utility_charges&quot;: null&lt;unk&gt;&lt;/s&gt;                                                                                                                                                                                                                                                                                                                                                                                                                                                                                                                           </td><td>&lt;pad&gt; Casualty Loss, RESIDENT, GUEST, OR OCCUPIENT, PERSONAL_INJURY, PERSONAL_PROPERTY, PERSONAL_INJURY, PERSONAL_PROPERTY, PERSONAL_INJURY, PERSONAL_PROPERTY, PERSONAL_PROPERTY, PERSONAL_PROPERTY, PERSONAL_PROPERTY, PERSONAL_PROPERTY, PERSONAL_PROPERTY, PERSONAL_PROPERTY, PERSONAL_PROPERTY, PERSONAL_PROPERTY, PERSONAL_PROPERTY, PERSONAL_PROPERTY, PERSONAL_PROPERTY, PERSONAL_PROPERTY, PERSONAL_PROPERTY, PERSONAL_PROPERTY, PERSONAL_PROPERTY, PERSONAL_PROPERTY, PERSONAL_PROPERTY, PERSONAL_PROPERTY, PERSONAL_PROPERTY, PERSONAL_PROPERTY, PERSONAL_PROPERTY, PERSONAL_PROPERTY, PERSONAL_PROPERTY, PERSONAL_PROPERTY, PERSONAL_PROPERTY, PERSONAL_PROPERTY, PERSONAL_PROPERTY, PERSONAL_PROPERTY, PERSONAL_PROPERTY, PERSONAL_PROPERTY, PERSONAL_PROPERTY, PERSONAL_PROPERTY, PERSONAL_PROPERTY, PERSONAL_PROPERTY, PERSONAL_PROPERTY, PERSONAL_PROPERTY, PERSONAL_PROPERTY, PERSONAL_PROPERTY, PERSONAL_PROPERTY, PERSONAL_PROPERTY, PERSONAL_PROPERTY, PERSONAL_PROPERTY, PERSONAL_PROPERTY, PERSONAL_PROPERTY, PERSONAL_PROPERTY, PERSONAL_PROPERTY, PERSONAL_PROPERTY, PERSONAL_PROPERTY,                                                                                                                                                                                                                                                                                                                                                                                                                                                                                                                                                                                                                                                                                                                                                                                                                                                                                                                                                                                                                                                                                                                                                                                                                                                                                                      </td></tr>\n",
       "<tr><td style=\"text-align: right;\"> 35</td><td>&lt;unk&gt;&quot;tenant_name&quot;: null, &quot;unit_address&quot;: null, &quot;unit_number&quot;: null, &quot;unit_type&quot;: null, &quot;agreement_date&quot;: null, &quot;lease_start&quot;: null, &quot;lease_end&quot;: null, &quot;lease_auto_renew&quot;: null, &quot;hourly_rate&quot;: null, &quot;monthly_rent&quot;: null, &quot;prorated_rent&quot;: null, &quot;security_deposit&quot;: null, &quot;lease_rent&quot;: null, &quot;monthly_payment_breakdown&quot;: null, &quot;utility_charges&quot;: null&lt;unk&gt;&lt;/s&gt;                                                                                                                                                                                                                                                                                                                                                                                                                                                                                                                                     </td><td>&lt;pad&gt; &lt;unk&gt; Procedures for Replacement, &lt;unk&gt; Responsibillitetf Owner and Resident, &lt;unk&gt; Responsibillitetf Owner and Resident, &lt;unk&gt; Responsibillitetf Owner and Resident, &lt;unk&gt; Responsibillitetf Owner and Resident, &lt;unk&gt; Responsibillitetf Owner and Resident, &lt;unk&gt; Responsibillitetf Owner and Resident, &lt;unk&gt; Responsibillitetf Owner and Resident, &lt;unk&gt; Responsibillitetf Owner and Resident, &lt;unk&gt; Responsibillitetf Owner and Resident, &lt;unk&gt; Responsibillitetf Owner and Resident, &lt;unk&gt; Responsibillitetf Owner and Resident, &lt;unk&gt; Responsibillitetf Owner and Resident, &lt;unk&gt; Responsibillitetf Owner and Resident, &lt;unk&gt; Responsibillitetf Owner and Resident, &lt;unk&gt; Responsibillitetf Owner and Resident, &lt;unk&gt; Responsibillitetf Owner and Resident, &lt;unk&gt; Responsibillitetf Owner and Resident, &lt;unk&gt; Responsibillitetf Owner and Resident, &lt;unk&gt; Responsibillitetf Owner and Resident, &lt;unk&gt; Responsibillitetf Owner and Resident, &lt;unk&gt; Responsibillitetf Owner and Resident, &lt;unk&gt; Responsibillitetf Owner and Resident, &lt;unk&gt; Responsibillitetf Owner and Resident, &lt;unk&gt; Responsibillitetf Owner and Resident, &lt;unk&gt; Responsibillitetf Owner and Resident, &lt;unk&gt; Responsibillitetf Owner and Resident, &lt;unk&gt; Responsibillitetf Owner and Resident, &lt;unk&gt; Responsibillitetf Owner and Resident, &lt;unk&gt; Responsibillitetf Owner and Resident, &lt;unk&gt; Responsibillitetf Owner and Resident, &lt;unk&gt; Responsibillitetf Owner and Resident, &lt;unk&gt; Responsibillitetf Owner and Resident, &lt;unk&gt; Responsibillitetf Owner and Resident, &lt;unk&gt; Responsibillitetf Owner and Resident, &lt;unk&gt; Responsibillitetf Owner and Resident, &lt;unk&gt; Responsibillitetf Owner and Resident,                                                                                                                                                                                                                                                                                                                                                                                                                                                                                                                                                                                                                                                                                                                              </td></tr>\n",
       "<tr><td style=\"text-align: right;\"> 36</td><td>&lt;unk&gt;&quot;tenant_name&quot;: &quot;Cameron Maxwell&quot;, &quot;unit_address&quot;: &quot;107 Shoal Run Trail, Birmingham, Alabama, 35242&quot;, &quot;unit_number&quot;: &quot;0107&quot;, &quot;unit_type&quot;: null, &quot;agreement_date&quot;: &quot;2023-03-03&quot;, &quot;lease_start&quot;: &quot;2023-03-07&quot;, &quot;lease_end&quot;: &quot;2024-05-06&quot;, &quot;lease_auto_renew&quot;: &quot;month-to-month&quot;, &quot;hourly_rate&quot;: null, &quot;monthly_rent&quot;: 1076.0, &quot;prorated_rent&quot;: 867.74, &quot;security_deposit&quot;: 1111.0, &quot;lease_rent&quot;: 13988.0, &quot;monthly_payment_breakdown&quot;: null, &quot;utility_charges&quot;: null&lt;unk&gt;&lt;/s&gt;                                                                                                                                                                                                                                                                                                                                                                                                                            </td><td>&lt;pad&gt; by, Cameron Maxwell, Trisha Maxwell, Madalyn Carbonie, Madison BAL LLC, ApartmentNo., 0107, 1stMonth, 2ndMonth, 107 Shoal Run Trail, Birmingham, Alabama, 35242&lt;/s&gt;                                                                                                                                                                                                                                                                                                                                                                                                                                                                                                                                                                                                                                                                                                                                                                                                                                                                                                                                                                                                                                                                                                                                                                                                                                                                                                                                                                                                                                                                                                                                                                                                                                                                                                                                                                                                                                                                                                                                                                                                                                                                                                                                                                                                                                            </td></tr>\n",
       "<tr><td style=\"text-align: right;\"> 37</td><td>&lt;unk&gt;&quot;tenant_name&quot;: null, &quot;unit_address&quot;: null, &quot;unit_number&quot;: null, &quot;unit_type&quot;: null, &quot;agreement_date&quot;: null, &quot;lease_start&quot;: null, &quot;lease_end&quot;: null, &quot;lease_auto_renew&quot;: null, &quot;hourly_rate&quot;: null, &quot;monthly_rent&quot;: null, &quot;prorated_rent&quot;: null, &quot;security_deposit&quot;: null, &quot;lease_rent&quot;: null, &quot;monthly_payment_breakdown&quot;: null, &quot;utility_charges&quot;: null&lt;unk&gt;&lt;/s&gt;                                                                                                                                                                                                                                                                                                                                                                                                                                                                                                                                     </td><td>&lt;pad&gt; &lt;unk&gt; INSTRUCTIONS TO OWN TOR&lt;/s&gt;                                                                                                                                                                                                                                                                                                                                                                                                                                                                                                                                                                                                                                                                                                                                                                                                                                                                                                                                                                                                                                                                                                                                                                                                                                                                                                                                                                                                                                                                                                                                                                                                                                                                                                                                                                                                                                                                                                                                                                                                                                                                                                                                                                                                                                                                                                                                                                              </td></tr>\n",
       "<tr><td style=\"text-align: right;\"> 38</td><td>&lt;unk&gt;&quot;tenant_name&quot;: &quot;Novy Jezkova&quot;, &quot;unit_address&quot;: &quot;2501 Mountain Lodge Circle, Vestavia Hills, Alabama, 35216&quot;, &quot;unit_number&quot;: &quot;2501E&quot;, &quot;unit_type&quot;: null, &quot;agreement_date&quot;: &quot;2023-05-25&quot;, &quot;lease_start&quot;: null, &quot;lease_end&quot;: null, &quot;lease_auto_renew&quot;: null, &quot;hourly_rate&quot;: null, &quot;monthly_rent&quot;: null, &quot;prorated_rent&quot;: null, &quot;security_deposit&quot;: null, &quot;lease_rent&quot;: null, &quot;monthly_payment_breakdown&quot;: null, &quot;utility_charges&quot;: null&lt;unk&gt;&lt;/s&gt;                                                                                                                                                                                                                                                                                                                                                                                                                                                        </td><td>&lt;pad&gt; 1. DWELLING_UNIT_DESCRIPTION. Unit No. 2501E 2501 Mountain Lodge Circle (street address) in Vestavia Hills (city), Alabama, 35216 (zip code). 2. LEASE_CONTRACT_DESCRIPTION. Lease Contract Date: May 25, 2023 Owner&#x27;s name: Mountain BAL LLC Residents (list all residents): Novy Jezkova The term of this Addendum is as follows: Begins on and ends on This Addendum constitutes an Addendum to the above described Lease Contract for the above described premises, and is hereby incorporated into and made a part of such Lease Contract. 3. A. :unselected: NO APPROVED ANIMALS.&lt;/s&gt;                                                                                                                                                                                                                                                                                                                                                                                                                                                                                                                                                                                                                                                                                                                                                                                                                                                                                                                                                                                                                                                                                                                                                                                                                                                                                                                                                                                                                                                                                                                                                                                                                                                                                                                                                                                                                    </td></tr>\n",
       "<tr><td style=\"text-align: right;\"> 39</td><td>&lt;unk&gt;&quot;tenant_name&quot;: null, &quot;unit_address&quot;: null, &quot;unit_number&quot;: null, &quot;unit_type&quot;: null, &quot;agreement_date&quot;: &quot;2021-11-01&quot;, &quot;lease_start&quot;: null, &quot;lease_end&quot;: null, &quot;lease_auto_renew&quot;: null, &quot;hourly_rate&quot;: null, &quot;monthly_rent&quot;: null, &quot;prorated_rent&quot;: null, &quot;security_deposit&quot;: null, &quot;lease_rent&quot;: null, &quot;monthly_payment_breakdown&quot;: null, &quot;utility_charges&quot;: null&lt;unk&gt;&lt;/s&gt;                                                                                                                                                                                                                                                                                                                                                                                                                                                                                                                             </td><td>&lt;pad&gt; &lt;unk&gt; COMMUNITY RULES AND REGULATIONS, GARBAGE, PARKING/ VEHICLES, GARBAGE, GARBAGE, PARKING/ VEHICLES, GARBAGE, GARBAGE, PARKING/ VEHICLES, GARBAGE, GARBAGE, PARKING/ VEHICLES, GARBAGE, GARBAGE, PARKING/ VEHICLES, GARBAGE, GARBAGE, PARKING/ VEHICLES, GARBAGE, GARBAGE, PARKING/ VEHICLES, GARBAGE, GARBAGE, PARKING/ VEHICLES, GARBAGE, GARBAGE, PARKING/ VEHICLES, GARBAGE, GARBAGE, PARKING/ VEHICLES, GARBAGE, GARBAGE, PARKING/ VEHICLES, GARBAGE, GARBAGE, PARKING/ VEHICLES, GARBAGE, GARBAGE, PARKING/ VEHICLES, GARBAGE, GARBAGE, PARKING/ VEHICLES, GARBAGE, GARBAGE, PARKING/ VEHICLES, GARBAGE, GARBAGE, PARKING/ VEHICLES, GARBAGE, GARBAGE, PARKING/ VEHICLES, GARBAGE, GARBAGE, PARKING/ VEHICLES, GARBAGE, GARBAGE, PARKING/ VEHICLES, GARBAGE, GARBAGE, PARKING/ VEHICLES, GARBAGE, GARBAGE, PARKING/ VEHICLES, GARBAGE, GARBAGE, PARKING/ VEHICLES, GARBAGE, GARBAGE, PARKING/ VEHICLES, GARBAGE, GARBAGE, PARKING/ VEHICLES, GARBAGE, GARBAGE, PARKING/ VEHICLES, GARBAGE, GARBAGE, PARKING/ VEHICLES, GARBAGE,                                                                                                                                                                                                                                                                                                                                                                                                                                                                                                                                                                                                                                                                                                                                                                                                                                                                                                                                                                                                                                                                                                                                                                                                                                                                                                                                                                       </td></tr>\n",
       "<tr><td style=\"text-align: right;\"> 40</td><td>&lt;unk&gt;&quot;tenant_name&quot;: null, &quot;unit_address&quot;: null, &quot;unit_number&quot;: null, &quot;unit_type&quot;: null, &quot;agreement_date&quot;: null, &quot;lease_start&quot;: null, &quot;lease_end&quot;: null, &quot;lease_auto_renew&quot;: null, &quot;hourly_rate&quot;: null, &quot;monthly_rent&quot;: null, &quot;prorated_rent&quot;: null, &quot;security_deposit&quot;: null, &quot;lease_rent&quot;: null, &quot;monthly_payment_breakdown&quot;: null, &quot;utility_charges&quot;: &lt;unk&gt;&quot;Gas&quot;: null, &quot;Electricity&quot;: null, &quot;Water&quot;: 0, &quot;Sewer&quot;: 0, &quot;Trash&quot;: 0, &quot;Cable&quot;: 0&lt;unk&gt;&lt;/s&gt;                                                                                                                                                                                                                                                                                                                                                                                                                                                    </td><td>&lt;pad&gt; UTILITY/ SERVICE UTILITY&#x27;S CUSTOMER OF RECORD CHARGED TO RESIDENT? UTILITY/ SERVICE UTILITY&#x27;S CUSTOMER OF RECORD CHARGED TO RESIDENT? CALCULATION METHOD FOR CHARGES TO RESIDENT COMMON AREAS Gas :unselected: Landlord X :selected: Resident :selected: Yes :selected: No :selected: Direct billing from utility :selected: Sub-metering :selected: None - Landlord expense Are separately metered and are not charged to Resident Electricity :unselected: Landlord :selected: Resident :selected: Yes :selected: No :selected: Direct billing from utility :selected: Sub-metering :selected: None - Landlord expense Are separately metered and are not charged to Resident Water :unselected: Landlord :selected: Resident :selected: Yes :selected: No :selected: Direct billing from utility :selected: Formula (All water related charges assessed to the Landlord may be used to calculate the amount charged to each Resident. These may include, but not limited to, water related charges contained on tax bills, and all charges contained on utility bills received from the local water providers.) :unselected: Authorized occupant method :unselected: Sub-metering :unselected: Flat fee of $0.00 per month :selected: None - Landlord expense :selected: Are separately metered and are not charged to Resident :selected: Are not separately metered ]&lt;/s&gt;                                                                                                                                                                                                                                                                                                                                                                                                                                                                                                                                                                                                                                                                                                                                                                                                                                                                                                                                                                                                                                 </td></tr>\n",
       "<tr><td style=\"text-align: right;\"> 41</td><td>&lt;unk&gt;&quot;tenant_name&quot;: &quot;Cameron Maxwell&quot;, &quot;unit_address&quot;: &quot;107 Shoal Run Trail, Birmingham, Alabama, 35242&quot;, &quot;unit_number&quot;: &quot;0107&quot;, &quot;unit_type&quot;: null, &quot;agreement_date&quot;: &quot;2023-03-03&quot;, &quot;lease_start&quot;: null, &quot;lease_end&quot;: null, &quot;lease_auto_renew&quot;: null, &quot;hourly_rate&quot;: null, &quot;monthly_rent&quot;: null, &quot;prorated_rent&quot;: null, &quot;security_deposit&quot;: null, &quot;lease_rent&quot;: null, &quot;monthly_payment_breakdown&quot;: null, &quot;utility_charges&quot;: null&lt;unk&gt;&lt;/s&gt;                                                                                                                                                                                                                                                                                                                                                                                                                                                                 </td><td>&lt;pad&gt; DWELLING_UNIT_DESCRIPTION, LEASE_CONTRACT_DATE, RESIDENT&#x27;S_NAME, RESIDENT&#x27;S_PHONE, RESIDENT&#x27;S_WORK_PHONE, RESIDENT&#x27;S_HOME_PHONE, RESIDENT&#x27;S_WORK_PHONE, RESIDENT&#x27;S_HOME_PHONE, RESIDENT&#x27;S_WORK_PHONE, RESIDENT&#x27;S_HOME_PHONE, RESIDENT&#x27;S_WORK_PHONE, RESIDENT&#x27;S_HOME_PHONE, RESIDENT&#x27;S_WORK_PHONE, RESIDENT&#x27;S_HOME_PHONE, RESIDENT&#x27;S_WORK_PHONE, RESIDENT&#x27;S_WORK_PHONE, RESIDENT&#x27;S_WORK_PHONE, RESIDENT&#x27;S_WORK_PHONE, RESIDENT&#x27;S_WORK_PHONE, RESIDENT&#x27;S_WORK_PHONE, RESIDENT&#x27;S_WORK_PHONE, RESIDENT&#x27;S_WORK_PHONE, RESIDENT&#x27;S_WORK_PHONE, RESIDENT&#x27;S_WORK_PHONE, RESIDENT&#x27;S_WORK_PHONE, RESIDENT&#x27;S_WORK_PHONE, RESIDENT&#x27;S_WORK_PHONE, RESIDENT&#x27;S_WORK_PHONE, RESIDENT&#x27;S_WORK_PHONE, RESIDENT&#x27;S_WORK_PHONE, RESIDENT&#x27;S_WORK_PHONE, RESIDENT&#x27;S_WORK_PHONE, RESIDENT&#x27;S_WORK_PHONE, RESIDENT&#x27;S_WORK_PHONE, RESIDENT&#x27;S_WORK_PHONE, RESIDENT&#x27;S_WORK_PHONE, RESIDENT&#x27;S_WORK_PHONE, RESIDENT&#x27;S_WORK_PHONE, RESIDENT&#x27;S_WORK_PHONE, RESIDENT&#x27;S_WORK_PHONE, RESIDENT&#x27;S_WORK_PHONE, RESIDENT&#x27;S_WORK_PHONE, RESIDENT&#x27;S_WORK                                                                                                                                                                                                                                                                                                                                                                                                                                                                                                                                                                                                                                                                                                                                                                                                                                                                                                                                                                                                                                                                                                                                                                                                                                                                                                                                                                                                   </td></tr>\n",
       "<tr><td style=\"text-align: right;\"> 42</td><td>&lt;unk&gt;&quot;tenant_name&quot;: &quot;Samantha Putlak&quot;, &quot;unit_address&quot;: &quot;304 Stanhope St.&quot;, &quot;unit_number&quot;: &quot;#2L&quot;, &quot;unit_type&quot;: null, &quot;agreement_date&quot;: null, &quot;lease_start&quot;: &quot;2023-08-01&quot;, &quot;lease_end&quot;: &quot;2024-07-31&quot;, &quot;lease_auto_renew&quot;: null, &quot;hourly_rate&quot;: null, &quot;monthly_rent&quot;: 2800, &quot;prorated_rent&quot;: null, &quot;security_deposit&quot;: 2800, &quot;lease_rent&quot;: 33600, &quot;monthly_payment_breakdown&quot;: null, &quot;utility_charges&quot;: null&lt;unk&gt;&lt;/s&gt;                                                                                                                                                                                                                                                                                                                                                                                                                                                                                        </td><td>&lt;pad&gt; TERM: 12 Months MONTHLY_RENT: $2,800 BEGINNING: 8/1/2023 MONTHLY_RENT: $2,800 SECURITY_DEPOSIT: $2,800 TERM: 12 Months MONTHLY_RENT: $2,800 BEGINNING: 8/1/2023 MONTHLY_RENT: $2,800 SECURITY_DEPOSIT: $2,800 TERM: 12 Months MONTHLY_RENT: $2,800 BEGINNING: 8/1/2023 MONTHLY_RENT: $2,800 SECURITY_DEPOSIT: $2,800&lt;/s&gt;                                                                                                                                                                                                                                                                                                                                                                                                                                                                                                                                                                                                                                                                                                                                                                                                                                                                                                                                                                                                                                                                                                                                                                                                                                                                                                                                                                                                                                                                                                                                                                                                                                                                                                                                                                                                                                                                                                                                                                                                                                                                                       </td></tr>\n",
       "<tr><td style=\"text-align: right;\"> 43</td><td>&lt;unk&gt;&quot;tenant_name&quot;: null, &quot;unit_address&quot;: null, &quot;unit_number&quot;: null, &quot;unit_type&quot;: null, &quot;agreement_date&quot;: null, &quot;lease_start&quot;: null, &quot;lease_end&quot;: null, &quot;lease_auto_renew&quot;: null, &quot;hourly_rate&quot;: null, &quot;monthly_rent&quot;: null, &quot;prorated_rent&quot;: null, &quot;security_deposit&quot;: null, &quot;lease_rent&quot;: null, &quot;monthly_payment_breakdown&quot;: null, &quot;utility_charges&quot;: null&lt;unk&gt;&lt;/s&gt;                                                                                                                                                                                                                                                                                                                                                                                                                                                                                                                                     </td><td>&lt;pad&gt; Apartment, Term, Term_Start, Term_End, Term_Start, Term_End, Term_Start, Term_End, Term_Start, Term_End, Term_Start, Term_Start, Term_End, Term_Start, Term_Start, Term_End, Term_Start, Term_Start, Term_End, Term_Start, Term_End, Term_Start, Term_End, Term_Start, Term_End, Term_Start, Term_End, Term_Start, Term_End, Term_Start, Term_End, Term_Start, Term_End, Term_Start, Term_End, Term_Start, Term_End, Term_Start, Term_End, Term_Start, Term_End, Term_Start, Term_End, Term_Start, Term_Start, Term_End, Term_Start, Term_End, Term_Start, Term_End, Term_Start, Term_Start, Term_End, Term_Start, Term_End, Term_Start, Term_End, Term_Start, Term_Start, Term_End, Term_Start, Term_End, Term_Start, Term_End, Term_Start, Term_Start, Term_End, Term_Start, Term_End, Term_Start, Term_Start, Term_End, Term_Start, Term_End, Term_Start, Term_Start, Term_End, Term_Start, Term_End, Term_Start, Term_Start, Term_End, Term_Start, Term_Start, Term_End, Term_Start, Term_                                                                                                                                                                                                                                                                                                                                                                                                                                                                                                                                                                                                                                                                                                                                                                                                                                                                                                                                                                                                                                                                                                                                                                                                                                                                                                                                                                                                                 </td></tr>\n",
       "<tr><td style=\"text-align: right;\"> 44</td><td>&lt;unk&gt;&quot;tenant_name&quot;: &quot;Ricquan M Moore Clona Berry&quot;, &quot;unit_address&quot;: null, &quot;unit_number&quot;: null, &quot;unit_type&quot;: null, &quot;agreement_date&quot;: null, &quot;lease_start&quot;: null, &quot;lease_end&quot;: null, &quot;lease_auto_renew&quot;: null, &quot;hourly_rate&quot;: null, &quot;monthly_rent&quot;: null, &quot;prorated_rent&quot;: null, &quot;security_deposit&quot;: null, &quot;lease_rent&quot;: null, &quot;monthly_payment_breakdown&quot;: null, &quot;utility_charges&quot;: null&lt;unk&gt;&lt;/s&gt;                                                                                                                                                                                                                                                                                                                                                                                                                                                                                                            </td><td>&lt;pad&gt; &lt;unk&gt;us, you will be liable to us and others for any loss, actual damages, fines imposed by any state or local agencies or municipalities, attorney fees and costs. Casualty Loss. We&#x27;re not liable to any resident, guest, or occupant for personal injury or damage or loss of personal property from any cause, including but not limited to: fire, smoke, rain, flood, water and pipe leaks, hail, ice, snow, lightning, wind, explosions, earthquake, interruption of utilities, theft, or vandalism unless otherwise required by law. We have no duty to remove any ice, water, sleet, or snow but may remove any amount with or without notice. During freezing weather, you must ensure that the temperature in the apartment is sufficient to make sure that the pipes do not freeze (the appropriate temperature will depend upon weather conditions and the size and layout of your unit). If the pipes freeze or any other damage is caused by your failure to properly maintain the heat in your apartment, you&#x27;ll be liable for damage to our and other&#x27;s property. If you ask our representatives to perform services not contemplated in this Lease Contract, you will indemnify us and hold us harmless from all liability for those services. Crime or Emergency. Dial 911 or immediately call local medical emergency, fire, or police personnel in case of accident, fire, smoke, or suspected criminal activity or other emergency involving imminent harm. You should then contact our representative. Unless otherwise provided by law, we&#x27;re not liable to you or any guests or occupants for injury, damage, or loss to person or property caused by criminal conduct of other persons, including theft, burglary, assault, vandalism, or other crimes. If we provide any access control devices or security measures upon the property,&lt;/s&gt;                                                                                                                                                                                                                                                                                                                                                                                                                                                                                                                                          </td></tr>\n",
       "<tr><td style=\"text-align: right;\"> 45</td><td>&lt;unk&gt;&quot;tenant_name&quot;: null, &quot;unit_address&quot;: null, &quot;unit_number&quot;: null, &quot;unit_type&quot;: null, &quot;agreement_date&quot;: null, &quot;lease_start&quot;: null, &quot;lease_end&quot;: null, &quot;lease_auto_renew&quot;: null, &quot;hourly_rate&quot;: null, &quot;monthly_rent&quot;: null, &quot;prorated_rent&quot;: null, &quot;security_deposit&quot;: null, &quot;lease_rent&quot;: null, &quot;monthly_payment_breakdown&quot;: null, &quot;utility_charges&quot;: null&lt;unk&gt;&lt;/s&gt;                                                                                                                                                                                                                                                                                                                                                                                                                                                                                                                                     </td><td>&lt;pad&gt; COMMUNITY POLICIES OR RULES&lt;/s&gt;                                                                                                                                                                                                                                                                                                                                                                                                                                                                                                                                                                                                                                                                                                                                                                                                                                                                                                                                                                                                                                                                                                                                                                                                                                                                                                                                                                                                                                                                                                                                                                                                                                                                                                                                                                                                                                                                                                                                                                                                                                                                                                                                                                                                                                                                                                                                                                                </td></tr>\n",
       "<tr><td style=\"text-align: right;\"> 46</td><td>&lt;unk&gt;&quot;tenant_name&quot;: null, &quot;unit_address&quot;: null, &quot;unit_number&quot;: null, &quot;unit_type&quot;: null, &quot;agreement_date&quot;: null, &quot;lease_start&quot;: null, &quot;lease_end&quot;: null, &quot;lease_auto_renew&quot;: null, &quot;hourly_rate&quot;: null, &quot;monthly_rent&quot;: null, &quot;prorated_rent&quot;: null, &quot;security_deposit&quot;: null, &quot;lease_rent&quot;: null, &quot;monthly_payment_breakdown&quot;: null, &quot;utility_charges&quot;: null&lt;unk&gt;&lt;/s&gt;                                                                                                                                                                                                                                                                                                                                                                                                                                                                                                                                     </td><td>&lt;pad&gt; &lt;unk&gt; General Clauses&lt;/s&gt;                                                                                                                                                                                                                                                                                                                                                                                                                                                                                                                                                                                                                                                                                                                                                                                                                                                                                                                                                                                                                                                                                                                                                                                                                                                                                                                                                                                                                                                                                                                                                                                                                                                                                                                                                                                                                                                                                                                                                                                                                                                                                                                                                                                                                                                                                                                                                                                      </td></tr>\n",
       "<tr><td style=\"text-align: right;\"> 47</td><td>&lt;unk&gt;&quot;tenant_name&quot;: null, &quot;unit_address&quot;: null, &quot;unit_number&quot;: null, &quot;unit_type&quot;: null, &quot;agreement_date&quot;: &quot;2023-02-25&quot;, &quot;lease_start&quot;: null, &quot;lease_end&quot;: null, &quot;lease_auto_renew&quot;: &quot;month-to-month&quot;, &quot;hourly_rate&quot;: null, &quot;monthly_rent&quot;: null, &quot;prorated_rent&quot;: null, &quot;security_deposit&quot;: null, &quot;lease_rent&quot;: null, &quot;monthly_payment_breakdown&quot;: null, &quot;utility_charges&quot;: null&lt;unk&gt;&lt;/s&gt;                                                                                                                                                                                                                                                                                                                                                                                                                                                                                                                 </td><td>&lt;pad&gt; 15. REPRESENTATIONS IN RENTAL APPLICATION., FINANCIAL RESPONSIBILITY, NOTICES, MILITARY.&lt;/s&gt;                                                                                                                                                                                                                                                                                                                                                                                                                                                                                                                                                                                                                                                                                                                                                                                                                                                                                                                                                                                                                                                                                                                                                                                                                                                                                                                                                                                                                                                                                                                                                                                                                                                                                                                                                                                                                                                                                                                                                                                                                                                                                                                                                                                                                                                                                                                   </td></tr>\n",
       "<tr><td style=\"text-align: right;\"> 48</td><td>&lt;unk&gt;&quot;tenant_name&quot;: null, &quot;unit_address&quot;: null, &quot;unit_number&quot;: null, &quot;unit_type&quot;: null, &quot;agreement_date&quot;: null, &quot;lease_start&quot;: &quot;2023-02-25&quot;, &quot;lease_end&quot;: null, &quot;lease_auto_renew&quot;: null, &quot;hourly_rate&quot;: null, &quot;monthly_rent&quot;: null, &quot;prorated_rent&quot;: null, &quot;security_deposit&quot;: null, &quot;lease_rent&quot;: null, &quot;monthly_payment_breakdown&quot;: null, &quot;utility_charges&quot;: null&lt;unk&gt;&lt;/s&gt;                                                                                                                                                                                                                                                                                                                                                                                                                                                                                                                             </td><td>&lt;pad&gt; C. Returned Checks. Landlord reserves the right to require that all monthly installments be made by money order, or certified funds, and to impose a service charge of $35.00 on Tenant(s) for returned private party checks. D. Tenant Web Access. TWA provides the ability to pay your rent online and access/update your account information. To create an account, go to: https://hthproperties.com/portals 1. Click TENANTWebACCESS 2. On the Tenant Login screen, click Sign Up. 3. Enter your account number: 6227 4. Enter your email address.5. Create a username and password and click continue. While logged into TWA, click the tabs at the top of the page to: make a payment, display your transaction history, view open charge, or change your password/update personal info. Please contact the office at (540) 777-3711 to update your email if unsure or it does not verify during registration. To set up Auto Pay (Auto Pay Rent Online)-Login to TWA, Click the GEAR or drop-down menu (top right corner), Select Saved Payment Information, Click EDIT button at bottom of page, Enter ACCOUNT TYPE then other detailed information and SAVE. select Enable Automatic Payments and choose desired day, type, and amount. check the &quot;please be advised... &quot; button and select SAVE AUTO PAYMENT SETTINGS. NOTE: a convenience fee will be charged. ($2.95) fee) when using your bank account information or ($2.95+&lt;/s&gt;                                                                                                                                                                                                                                                                                                                                                                                                                                                                                                                                                                                                                                                                                                                                                                                                                                                                                                                                                                 </td></tr>\n",
       "<tr><td style=\"text-align: right;\"> 49</td><td>&lt;unk&gt;&quot;tenant_name&quot;: null, &quot;unit_address&quot;: null, &quot;unit_number&quot;: null, &quot;unit_type&quot;: null, &quot;agreement_date&quot;: null, &quot;lease_start&quot;: null, &quot;lease_end&quot;: null, &quot;lease_auto_renew&quot;: null, &quot;hourly_rate&quot;: null, &quot;monthly_rent&quot;: null, &quot;prorated_rent&quot;: null, &quot;security_deposit&quot;: null, &quot;lease_rent&quot;: null, &quot;monthly_payment_breakdown&quot;: null, &quot;utility_charges&quot;: null&lt;unk&gt;&lt;/s&gt;                                                                                                                                                                                                                                                                                                                                                                                                                                                                                                                                     </td><td>&lt;pad&gt; 22. WAIVING_OF_BREACH_NOT_GENERAL_WAIVER. If Landlord waives a noncompliance or breach by Tenant(s) with the Lease Agreement, or with the law, such waiver shall not be interpreted as a waiver of any subsequent breach of noncompliance or breach, and this Lease Agreement shall continue in full force and effect. 23. SUBORDINATION. Tenant(s) agree that this Lease Agreement is subordinate to the lien of any existing or future deeds of trust or mortgages placed on the premises, and Tenant(s) agree to execute whatever additional agreements may be required to so subordinate this Lease Agreement. Landlord reserves the right to assign any of Landlord&#x27;s rights under this Lease Agreement at any time. 24. SEVERABILITY. If any provisions of this Lease Agreement are violation of the law or equity, it is agreed that the remaining provisions are in full force and effect. 25. DISCRIMINATION. Landlord does not discriminate against Tenant(s) in the provision of services, or in any other manner, on the basis of race, color, religion, sex, national origin, familial status, elderliness, or handicap. 26. REASONABLE ATTORNEY&#x27;S FEES/COSTS OF COLLECTION. For purposes of this Lease Agreement, if Tenant(s)&#x27; noncompliance with the Lease Agreement, of the law, causes Landlord to employ&lt;/s&gt;                                                                                                                                                                                                                                                                                                                                                                                                                                                                                                                                                                                                                                                                                                                                                                                                                                                                                                                                                                                                                                                                                </td></tr>\n",
       "<tr><td style=\"text-align: right;\"> 50</td><td>&lt;unk&gt;&quot;tenant_name&quot;: &quot;Alejandro G&lt;unk&gt;u00f3mez Munoz&quot;, &quot;unit_address&quot;: &quot;6009 Antoine Dr #6009-A, Houston, TX 77088&quot;, &quot;unit_number&quot;: &quot;6009-A&quot;, &quot;unit_type&quot;: null, &quot;agreement_date&quot;: &quot;2022-10-24&quot;, &quot;lease_start&quot;: null, &quot;lease_end&quot;: null, &quot;lease_auto_renew&quot;: null, &quot;hourly_rate&quot;: null, &quot;monthly_rent&quot;: null, &quot;prorated_rent&quot;: null, &quot;security_deposit&quot;: null, &quot;lease_rent&quot;: null, &quot;monthly_payment_breakdown&quot;: null, &quot;utility_charges&quot;: null&lt;unk&gt;&lt;/s&gt;                                                                                                                                                                                                                                                                                                                                                                                                                                                     </td><td>&lt;pad&gt; &lt;unk&gt; For More Information&lt;/s&gt;                                                                                                                                                                                                                                                                                                                                                                                                                                                                                                                                                                                                                                                                                                                                                                                                                                                                                                                                                                                                                                                                                                                                                                                                                                                                                                                                                                                                                                                                                                                                                                                                                                                                                                                                                                                                                                                                                                                                                                                                                                                                                                                                                                                                                                                                                                                                                                                 </td></tr>\n",
       "<tr><td style=\"text-align: right;\"> 51</td><td>&lt;unk&gt;&quot;tenant_name&quot;: &quot;Peter Mendes&quot;, &quot;unit_address&quot;: null, &quot;unit_number&quot;: null, &quot;unit_type&quot;: null, &quot;agreement_date&quot;: null, &quot;lease_start&quot;: &quot;2022-10-01&quot;, &quot;lease_end&quot;: null, &quot;lease_auto_renew&quot;: null, &quot;hourly_rate&quot;: null, &quot;monthly_rent&quot;: 1758.0, &quot;prorated_rent&quot;: 0.0, &quot;security_deposit&quot;: null, &quot;lease_rent&quot;: null, &quot;monthly_payment_breakdown&quot;: null, &quot;utility_charges&quot;: null&lt;unk&gt;&lt;/s&gt;                                                                                                                                                                                                                                                                                                                                                                                                                                                                                                                  </td><td>&lt;pad&gt; X&lt;/s&gt;                                                                                                                                                                                                                                                                                                                                                                                                                                                                                                                                                                                                                                                                                                                                                                                                                                                                                                                                                                                                                                                                                                                                                                                                                                                                                                                                                                                                                                                                                                                                                                                                                                                                                                                                                                                                                                                                                                                                                                                                                                                                                                                                                                                                                                                                                                                                                                                                          </td></tr>\n",
       "<tr><td style=\"text-align: right;\"> 52</td><td>&lt;unk&gt;&quot;tenant_name&quot;: null, &quot;unit_address&quot;: null, &quot;unit_number&quot;: null, &quot;unit_type&quot;: null, &quot;agreement_date&quot;: null, &quot;lease_start&quot;: null, &quot;lease_end&quot;: null, &quot;lease_auto_renew&quot;: null, &quot;hourly_rate&quot;: null, &quot;monthly_rent&quot;: null, &quot;prorated_rent&quot;: null, &quot;security_deposit&quot;: null, &quot;lease_rent&quot;: null, &quot;monthly_payment_breakdown&quot;: null, &quot;utility_charges&quot;: null&lt;unk&gt;&lt;/s&gt;                                                                                                                                                                                                                                                                                                                                                                                                                                                                                                                                     </td><td>&lt;pad&gt; ACCESS BY LESSOR&lt;/s&gt;                                                                                                                                                                                                                                                                                                                                                                                                                                                                                                                                                                                                                                                                                                                                                                                                                                                                                                                                                                                                                                                                                                                                                                                                                                                                                                                                                                                                                                                                                                                                                                                                                                                                                                                                                                                                                                                                                                                                                                                                                                                                                                                                                                                                                                                                                                                                                                                           </td></tr>\n",
       "<tr><td style=\"text-align: right;\"> 53</td><td>&lt;unk&gt;&quot;tenant_name&quot;: null, &quot;unit_address&quot;: null, &quot;unit_number&quot;: null, &quot;unit_type&quot;: null, &quot;agreement_date&quot;: null, &quot;lease_start&quot;: null, &quot;lease_end&quot;: null, &quot;lease_auto_renew&quot;: null, &quot;hourly_rate&quot;: null, &quot;monthly_rent&quot;: null, &quot;prorated_rent&quot;: null, &quot;security_deposit&quot;: null, &quot;lease_rent&quot;: null, &quot;monthly_payment_breakdown&quot;: null, &quot;utility_charges&quot;: null&lt;unk&gt;&lt;/s&gt;                                                                                                                                                                                                                                                                                                                                                                                                                                                                                                                                     </td><td>&lt;pad&gt; &lt;unk&gt; Procedures for Replacement, &lt;unk&gt; Responsibillitetf Owner and Resident, &lt;unk&gt; Responsibillitetf Owner and Resident, &lt;unk&gt; Responsibillitetf Owner and Resident, &lt;unk&gt; Responsibillitetf Owner and Resident, &lt;unk&gt; Responsibillitetf Owner and Resident, &lt;unk&gt; Responsibillitetf Owner and Resident, &lt;unk&gt; Responsibillitetf Owner and Resident, &lt;unk&gt; Responsibillitetf Owner and Resident, &lt;unk&gt; Responsibillitetf Owner and Resident, &lt;unk&gt; Responsibillitetf Owner and Resident, &lt;unk&gt; Responsibillitetf Owner and Resident, &lt;unk&gt; Responsibillitetf Owner and Resident, &lt;unk&gt; Responsibillitetf Owner and Resident, &lt;unk&gt; Responsibillitetf Owner and Resident, &lt;unk&gt; Responsibillitetf Owner and Resident, &lt;unk&gt; Responsibillitetf Owner and Resident, &lt;unk&gt; Responsibillitetf Owner and Resident, &lt;unk&gt; Responsibillitetf Owner and Resident, &lt;unk&gt; Responsibillitetf Owner and Resident, &lt;unk&gt; Responsibillitetf Owner and Resident, &lt;unk&gt; Responsibillitetf Owner and Resident, &lt;unk&gt; Responsibillitetf Owner and Resident, &lt;unk&gt; Responsibillitetf Owner and Resident, &lt;unk&gt; Responsibillitetf Owner and Resident, &lt;unk&gt; Responsibillitetf Owner and Resident, &lt;unk&gt; Responsibillitetf Owner and Resident, &lt;unk&gt; Responsibillitetf Owner and Resident, &lt;unk&gt; Responsibillitetf Owner and Resident, &lt;unk&gt; Responsibillitetf Owner and Resident, &lt;unk&gt; Responsibillitetf Owner and Resident, &lt;unk&gt; Responsibillitetf Owner and Resident, &lt;unk&gt; Responsibillitetf Owner and Resident, &lt;unk&gt; Responsibillitetf Owner and Resident, &lt;unk&gt; Responsibillitetf Owner and Resident, &lt;unk&gt; Responsibillitetf Owner and Resident, &lt;unk&gt; Responsibillitetf Owner and Resident,                                                                                                                                                                                                                                                                                                                                                                                                                                                                                                                                                                                                                                                                                                                              </td></tr>\n",
       "<tr><td style=\"text-align: right;\"> 54</td><td>&lt;unk&gt;&quot;tenant_name&quot;: &quot;HOGAR INC.&quot;, &quot;unit_address&quot;: &quot;12 EAST 196&quot;, &quot;unit_number&quot;: &quot;1A&quot;, &quot;unit_type&quot;: null, &quot;agreement_date&quot;: &quot;2022-11-17&quot;, &quot;lease_start&quot;: &quot;2023-02-01&quot;, &quot;lease_end&quot;: &quot;2024-01-31&quot;, &quot;lease_auto_renew&quot;: null, &quot;hourly_rate&quot;: null, &quot;monthly_rent&quot;: 1695.71, &quot;prorated_rent&quot;: null, &quot;security_deposit&quot;: 1626.1, &quot;lease_rent&quot;: 20348.52, &quot;monthly_payment_breakdown&quot;: &lt;unk&gt;&quot;1 year renewal&quot;: 1695.71, &quot;2 year renewal&quot;: 1724.45&lt;unk&gt;, &quot;utility_charges&quot;: &lt;unk&gt;&quot;Air conditioner&quot;: 0.0, &quot;Appliances&quot;: 0.0, &quot;421a (2.2%)&quot;: 0.0, &quot;Other&quot;: 0.0&lt;unk&gt;&lt;/s&gt;                                                                                                                                                                                                                                                                                                                                             </td><td>&lt;pad&gt; 1. The owner hereby notifies you that your lease will expire on: 01/31/23 2. You may renew this lease, for one or two years, at your option, as follows: Column A Renewal Term Column B Legal Rent on Sept.30th Preceding Commencement Date of this Renewal Lease Column C Guideline % or Minimum $ Amount (If unknown, check box and see below)* :unselected: Column D Applicable Guideline Supplement, if any Column E Lawful Rent Increase, if any, Effective after Sept. 30th Column F New Legal Rent (If a lower rent is to be charged, check box and sce item 5 below) :selected: 1 Year $ 1,72.01 ( 3.25 %) $ 57.59 $ 0.00 S 0.00 $ 1.829.60 2 Years Same as 1 Year&lt;/s&gt;                                                                                                                                                                                                                                                                                                                                                                                                                                                                                                                                                                                                                                                                                                                                                                                                                                                                                                                                                                                                                                                                                                                                                                                                                                                                                                                                                                                                                                                                                                                                                                                                                                                                                                                                 </td></tr>\n",
       "<tr><td style=\"text-align: right;\"> 55</td><td>&lt;unk&gt;&quot;tenant_name&quot;: null, &quot;unit_address&quot;: null, &quot;unit_number&quot;: null, &quot;unit_type&quot;: null, &quot;agreement_date&quot;: null, &quot;lease_start&quot;: null, &quot;lease_end&quot;: null, &quot;lease_auto_renew&quot;: null, &quot;hourly_rate&quot;: null, &quot;monthly_rent&quot;: null, &quot;prorated_rent&quot;: null, &quot;security_deposit&quot;: null, &quot;lease_rent&quot;: null, &quot;monthly_payment_breakdown&quot;: null, &quot;utility_charges&quot;: null&lt;unk&gt;&lt;/s&gt;                                                                                                                                                                                                                                                                                                                                                                                                                                                                                                                                     </td><td>&lt;pad&gt; RESPONSIBILITIES OF OWNER, RESPONSIBILITIES OF OWNER, RESPONSIBILITIES OF OWNER, RESPONSIBILITIES OF OWNER, RESPONSIBILITIES OF OWNER, RESPONSIBILITIES OF OWNER, RESPONSIBILITIES OF OWNER, RESPONSIBILITIES OF OWNER, RESPONSIBILITIES OF OWNER, RESPONSIBILITIES OF OWNER, RESPONSIBILITIES OF OWNER, RESPONSIBILITIES OF OWNER, RESPONSIBILITIES OF OWNER, RESPONSIBILITIES OF OWNER, RESPONSIBILITIES OF OWNER, RESPONSIBILITIES OF OWNER, RESPONSIBILITIES OF OWNER, RESPONSIBILITIES OF OWNER, RESPONSIBILITIES OF OWNER, RESPONSIBILITIES OF OWNER, RESPONSIBILITIES OF OWNER, RESPONSIBILITIES OF OWNER, RESPONSIBILITIES OF OWNER, RESPONSIBILITIES OF OWNER, RESPONSIBILITIES OF OWNER, RESPONSIBILITIES OF OWNER, RESPONSIBILITIES OF OWNER, RESPONSIBILITIES OF OWNER, RESPONSIBILITIES OF OWNER, RESPONSIBILITIES OF OWNER, RESPONSIBILITIES OF OWNER, RESPONSIBILITIES OF OWNER, RESPONSIBILITIES OF OWNER, RESPONSIBILITIES OF OWNER, RESPONSIBILITIES OF OWNER, RESPONSIBILITIES OF OWNER, RESPONSIBILIT                                                                                                                                                                                                                                                                                                                                                                                                                                                                                                                                                                                                                                                                                                                                                                                                                                                                                                                                                                                                                                                                                                                                                                                                                                                                                                                                                                                      </td></tr>\n",
       "<tr><td style=\"text-align: right;\"> 56</td><td>&lt;unk&gt;&quot;tenant_name&quot;: &quot;Novy Jezkova&quot;, &quot;unit_address&quot;: &quot;2501 Mountain Lodge Circle, Vestavia Hills, Alabama, 35216&quot;, &quot;unit_number&quot;: &quot;2501E&quot;, &quot;unit_type&quot;: null, &quot;agreement_date&quot;: &quot;2023-05-25&quot;, &quot;lease_start&quot;: &quot;2023-05-25&quot;, &quot;lease_end&quot;: null, &quot;lease_auto_renew&quot;: &quot;month to month&quot;, &quot;hourly_rate&quot;: null, &quot;monthly_rent&quot;: null, &quot;prorated_rent&quot;: null, &quot;security_deposit&quot;: null, &quot;lease_rent&quot;: null, &quot;monthly_payment_breakdown&quot;: null, &quot;utility_charges&quot;: null&lt;unk&gt;&lt;/s&gt;                                                                                                                                                                                                                                                                                                                                                                                                                                    </td><td>&lt;pad&gt; DWELLING_UNIT_DESCRIPTION, GUEST, LEASE_END_DATE, GUEST, LEASE_ABANDONMENT, GUEST, LEASE_ABANDONMENT, GUEST, GUEST, GUEST, GUEST, GUEST, GUEST, GUEST, GUEST, GUEST, GUEST, GUEST, GUEST, GUEST, GUEST, GUEST, GUEST, GUEST, GUEST, GUEST, GUEST, GUEST, GUEST, GUEST, GUEST, GUEST, GUEST, GUEST, GUEST, GUEST, GUEST, GUEST, GUEST, GUEST, GUEST, GUEST, GUEST, GUEST, GUEST, GUEST, GUEST, GUEST, GUEST, GUEST, GUEST, GUEST, GUEST, GUEST, GUEST, GUEST, GUEST, GUEST, GUEST, GUEST, GUEST, GUEST, GUEST, GUEST, GUEST, GUEST, GUEST, GUEST, GUEST, GUEST, GUEST, GUEST, GUEST, GUEST, GUEST, GUEST, GUEST, GUEST, GUEST, GUEST, GUEST, GUEST, GUEST, GUEST, GUEST, GUEST, GUEST, GUEST, GUEST, GUEST, GUEST, GUEST, GUEST, GUEST, GUEST, GUEST, GUEST, GUEST, GUEST, GUEST, GUEST, GUEST, GUEST, GUEST, GUEST, GUEST, GUEST, GUEST, GUEST, GUEST, GUEST, GUEST, GUEST, GUEST, GUEST, GUEST, GUEST, GUEST, GUEST, GUEST, GUEST, GUEST, GUEST                                                                                                                                                                                                                                                                                                                                                                                                                                                                                                                                                                                                                                                                                                                                                                                                                                                                                                                                                                                                                                                                                                                                                                                                                                                                                                                                                                                                                                                               </td></tr>\n",
       "<tr><td style=\"text-align: right;\"> 57</td><td>&lt;unk&gt;&quot;tenant_name&quot;: &quot;Zoev Medina&quot;, &quot;unit_address&quot;: &quot;8030 E Lakeside Parkway, Tucson, AZ 85730&quot;, &quot;unit_number&quot;: &quot;01102&quot;, &quot;unit_type&quot;: &quot;unfurnished apartment&quot;, &quot;agreement_date&quot;: &quot;2023-03-06&quot;, &quot;lease_start&quot;: &quot;2023-03-06&quot;, &quot;lease_end&quot;: &quot;2023-09-05&quot;, &quot;lease_auto_renew&quot;: &quot;month-to-month&quot;, &quot;hourly_rate&quot;: null, &quot;monthly_rent&quot;: 993.7, &quot;prorated_rent&quot;: null, &quot;security_deposit&quot;: 500.0, &quot;lease_rent&quot;: 5962.2, &quot;monthly_payment_breakdown&quot;: &lt;unk&gt;&quot;Rent&quot;: 1046.0, &quot;Pet Rent&quot;: 0.0, &quot;Parking Rent, Garage, Storage&quot;: 0.0, &quot;Water, Sewer, and Trash Charge&quot;: 0.0, &quot;Furniture &amp; Utility Package&quot;: 0.0, &quot;Other Charges&quot;: 0.0, &quot;Other Discounts&quot;: -52.3, &quot;Subtotal&quot;: 993.7, &quot;City Sales Tax&quot;: &quot;N/A&quot;, &quot;TOTAL MONTHLY RENT&quot;: 993.7&lt;unk&gt;, &quot;utility_charges&quot;: &lt;unk&gt;&quot;Electricity&quot;: &quot;Paid By: Lessee&quot;, &quot;Water, sewer &amp; trash charges&quot;: &quot;Paid By: Lessee&quot;, &quot;Other: Telephone, Cable, etc.&quot;: &quot;Paid By: Lessee&quot;&lt;unk&gt;&lt;/s&gt;</td><td>&lt;pad&gt; 1. LEASE TERM: The initial term of the Lease Contract beginning March 06, 2023 and ending at midnight on September 05, 2023 (Initial Term) for an unfurnished apartment and Lessee(s) shall pay rent, tax, charges and deposits as set forth below. This Lease will automatically renew month-to-month unless either party gives at least sixty (60) days written notice of termination or intent&lt;/s&gt;                                                                                                                                                                                                                                                                                                                                                                                                                                                                                                                                                                                                                                                                                                                                                                                                                                                                                                                                                                                                                                                                                                                                                                                                                                                                                                                                                                                                                                                                                                                                                                                                                                                                                                                                                                                                                                                                                                                                                                                                          </td></tr>\n",
       "<tr><td style=\"text-align: right;\"> 58</td><td>&lt;unk&gt;&quot;tenant_name&quot;: null, &quot;unit_address&quot;: null, &quot;unit_number&quot;: null, &quot;unit_type&quot;: null, &quot;agreement_date&quot;: null, &quot;lease_start&quot;: null, &quot;lease_end&quot;: null, &quot;lease_auto_renew&quot;: null, &quot;hourly_rate&quot;: null, &quot;monthly_rent&quot;: null, &quot;prorated_rent&quot;: null, &quot;security_deposit&quot;: null, &quot;lease_rent&quot;: null, &quot;monthly_payment_breakdown&quot;: null, &quot;utility_charges&quot;: null&lt;unk&gt;&lt;/s&gt;                                                                                                                                                                                                                                                                                                                                                                                                                                                                                                                                     </td><td>&lt;pad&gt; &quot;, &quot;type&quot;: [ &quot;string&quot;, &quot;null&quot; ], &quot;description&quot;: &quot;The date when the lease ends, found in the OCR text.&quot; &lt;unk&gt;, &quot;lease_start&quot;: &lt;unk&gt; &quot;type&quot;: [ &quot;string&quot;, &quot;null&quot; ], &quot;format&quot;: &quot;date&quot; ], &quot;description&quot;: &quot;The date when the lease starts, found in the OCR text.&quot; &lt;unk&gt;, &quot;lease_end&quot;: &lt;unk&gt; &quot;type&quot;: [ &quot;string&quot;, &quot;null&quot; ], &quot;description&quot;: &quot;The date when the lease ends, found in the OCR text.&quot;&lt;/s&gt;                                                                                                                                                                                                                                                                                                                                                                                                                                                                                                                                                                                                                                                                                                                                                                                                                                                                                                                                                                                                                                                                                                                                                                                                                                                                                                                                                                                                                                                                                                                                                                                                                                                                                                                                                                                                                                                                                                                                                                                                                 </td></tr>\n",
       "<tr><td style=\"text-align: right;\"> 59</td><td>&lt;unk&gt;&quot;tenant_name&quot;: &quot;Trevor J. Breed&quot;, &quot;unit_address&quot;: &quot;2640 Woodridge Ct, Placerville, CA 95667&quot;, &quot;unit_number&quot;: &quot;24&quot;, &quot;unit_type&quot;: null, &quot;agreement_date&quot;: &quot;2023-08-07&quot;, &quot;lease_start&quot;: null, &quot;lease_end&quot;: null, &quot;lease_auto_renew&quot;: null, &quot;hourly_rate&quot;: null, &quot;monthly_rent&quot;: null, &quot;prorated_rent&quot;: null, &quot;security_deposit&quot;: null, &quot;lease_rent&quot;: null, &quot;monthly_payment_breakdown&quot;: null, &quot;utility_charges&quot;: null&lt;unk&gt;&lt;/s&gt;                                                                                                                                                                                                                                                                                                                                                                                                                                                                          </td><td>&lt;pad&gt; Tenant&lt;/s&gt;                                                                                                                                                                                                                                                                                                                                                                                                                                                                                                                                                                                                                                                                                                                                                                                                                                                                                                                                                                                                                                                                                                                                                                                                                                                                                                                                                                                                                                                                                                                                                                                                                                                                                                                                                                                                                                                                                                                                                                                                                                                                                                                                                                                                                                                                                                                                                                                                     </td></tr>\n",
       "<tr><td style=\"text-align: right;\"> 60</td><td>&lt;unk&gt;&quot;tenant_name&quot;: &quot;Leobouchereau&quot;, &quot;unit_address&quot;: null, &quot;unit_number&quot;: null, &quot;unit_type&quot;: null, &quot;agreement_date&quot;: &quot;2022-12-03&quot;, &quot;lease_start&quot;: null, &quot;lease_end&quot;: null, &quot;lease_auto_renew&quot;: null, &quot;hourly_rate&quot;: null, &quot;monthly_rent&quot;: null, &quot;prorated_rent&quot;: null, &quot;security_deposit&quot;: null, &quot;lease_rent&quot;: null, &quot;monthly_payment_breakdown&quot;: null, &quot;utility_charges&quot;: null&lt;unk&gt;&lt;/s&gt;                                                                                                                                                                                                                                                                                                                                                                                                                                                                                                                  </td><td>&lt;pad&gt; 13.7, Off-Limit Areas, Swimming-pool Areas, Laundry Rooms, Offices, Clubrooms, Other Recreational Facilities, or other dwelling units besides your own, except that search and rescue dogs shall be allowed to use areas of the property ac- cessible to the general public, such as the leasing office, Cer- tain service animals in training shall also be allowed to use those areas when accompanied by an approved trainer. 13.8 Food &amp; Water. Your animal must be fed and given water in- side the dwelling unit. You may not leave animal food or water outside the dwelling unit at any time, except in fenced yards (if any) for your exclusive use. 13.9 Leash. You must keep the animal on a leash and under your su- pervision when outside the dwelling or in any private fenced area. We or our representative may pick up unleashed animals, report them to the proper authorities, or do both. We&#x27;ll charge you a rea- sonable fee for picking up and keeping unleashed animals. 13.10Animal Waste. Unless we have designated a particular area in your dwelling unit or on the grounds for animal defecation and urination, you are prohibited from letting an animal defecate or urinate anywhere on our property and you must take the animal off our property for that purpose. If we allow animal defeca- tion inside the unit, you must ensure that it&#x27;s done in a litter box with a kitty-litter-type mix. If the animal defecates anywhere on our property (including in a fenced yard for your exclusive use), you must immediately remove the waste and repair any damage. In addition to the terms of this addendum, you must comply with all local&lt;/s&gt;                                                                                                                                                                                                                                                                                                                                                                                                                                                                                                                                                                                                                                                                                                                             </td></tr>\n",
       "<tr><td style=\"text-align: right;\"> 61</td><td>&lt;unk&gt;&quot;tenant_name&quot;: &quot;Peter Mendes Tony Diag&quot;, &quot;unit_address&quot;: null, &quot;unit_number&quot;: null, &quot;unit_type&quot;: null, &quot;agreement_date&quot;: null, &quot;lease_start&quot;: null, &quot;lease_end&quot;: null, &quot;lease_auto_renew&quot;: null, &quot;hourly_rate&quot;: null, &quot;monthly_rent&quot;: null, &quot;prorated_rent&quot;: null, &quot;security_deposit&quot;: null, &quot;lease_rent&quot;: null, &quot;monthly_payment_breakdown&quot;: null, &quot;utility_charges&quot;: null&lt;unk&gt;&lt;/s&gt;                                                                                                                                                                                                                                                                                                                                                                                                                                                                                                                 </td><td>&lt;pad&gt; &lt;unk&gt;, &lt;unk&gt;, &lt;unk&gt;, &lt;unk&gt;, &lt;unk&gt;, &lt;unk&gt;, &lt;unk&gt;, &lt;unk&gt;, &lt;unk&gt;, &lt;unk&gt;, &lt;unk&gt;, &lt;unk&gt;, &lt;unk&gt;, &lt;unk&gt;, &lt;unk&gt;, &lt;unk&gt;, &lt;unk&gt;, &lt;unk&gt;, &lt;unk&gt;, &lt;unk&gt;, &lt;unk&gt;, &lt;unk&gt;, &lt;unk&gt;, &lt;unk&gt;, &lt;unk&gt;, &lt;unk&gt;, &lt;unk&gt;, &lt;unk&gt;, &lt;unk&gt;, &lt;unk&gt;, &lt;unk&gt;, &lt;unk&gt;, &lt;unk&gt;, &lt;unk&gt;, &lt;unk&gt;, &lt;unk&gt;, &lt;unk&gt;, &lt;unk&gt;, &lt;unk&gt;, &lt;unk&gt;, &lt;unk&gt;, &lt;unk&gt;, &lt;unk&gt;, &lt;unk&gt;, &lt;unk&gt;, &lt;unk&gt;, &lt;unk&gt;, &lt;unk&gt;, &lt;unk&gt;, &lt;unk&gt;, &lt;unk&gt;, &lt;unk&gt;, &lt;unk&gt;, &lt;unk&gt;, &lt;unk&gt;, &lt;unk&gt;, &lt;unk&gt;, &lt;unk&gt;, &lt;unk&gt;, &lt;unk&gt;, &lt;unk&gt;, &lt;unk&gt;, &lt;unk&gt;, &lt;unk&gt;, &lt;unk&gt;, &lt;unk&gt;, &lt;unk&gt;, &lt;unk&gt;, &lt;unk&gt;, &lt;unk&gt;, &lt;unk&gt;, &lt;unk&gt;, &lt;unk&gt;, &lt;unk&gt;, &lt;unk&gt;, &lt;unk&gt;, &lt;unk&gt;, &lt;unk&gt;, &lt;unk&gt;, &lt;unk&gt;, &lt;unk&gt;, &lt;unk&gt;, &lt;unk&gt;, &lt;unk&gt;, &lt;unk&gt;, &lt;unk&gt;, &lt;unk&gt;, &lt;unk&gt;, &lt;unk&gt;, &lt;unk&gt;, &lt;unk&gt;, &lt;unk&gt;, &lt;unk&gt;, &lt;unk&gt;, &lt;unk&gt;, &lt;unk&gt;, &lt;unk&gt;, &lt;unk&gt;, &lt;unk&gt;, &lt;unk&gt;, &lt;unk&gt;, &lt;unk&gt;, &lt;unk&gt;, &lt;unk&gt;, &lt;unk&gt;, &lt;unk&gt;, &lt;unk&gt;, &lt;unk&gt;, &lt;unk&gt;, &lt;unk&gt;, &lt;unk&gt;, &lt;unk&gt;, &lt;unk&gt;, &lt;unk&gt;, &lt;unk&gt;, &lt;unk&gt;, &lt;unk&gt;, &lt;unk&gt;, &lt;unk&gt;, &lt;unk&gt;, &lt;unk&gt;, &lt;unk&gt;, &lt;unk&gt;, &lt;unk&gt;, &lt;unk&gt;, &lt;unk&gt;, &lt;unk&gt;, &lt;unk&gt;, &lt;unk&gt;, &lt;unk&gt;, &lt;unk&gt;, &lt;unk&gt;, &lt;unk&gt;, &lt;unk&gt;, &lt;unk&gt;, &lt;unk&gt;, &lt;unk&gt;, &lt;unk&gt;, &lt;unk&gt;, &lt;unk&gt;, &lt;unk&gt;, &lt;unk&gt;, &lt;unk&gt;, &lt;unk&gt;, &lt;unk&gt;, &lt;unk&gt;, &lt;unk&gt;, &lt;unk&gt;, &lt;unk&gt;, &lt;unk&gt;, &lt;unk&gt;, &lt;unk&gt;, &lt;unk&gt;, &lt;unk&gt;, &lt;unk&gt;, &lt;unk&gt;, &lt;unk&gt;, &lt;unk&gt;, &lt;unk&gt;, &lt;unk&gt;, &lt;unk&gt;, &lt;unk&gt;, &lt;unk&gt;, &lt;unk&gt;, &lt;unk&gt;, &lt;unk&gt;, &lt;unk&gt;, &lt;unk&gt;, &lt;unk&gt;, &lt;unk&gt;, &lt;unk&gt;                                                                                                                                                                                                                                                                                                                                                                                                                                                                                                                                                                                                                                                                                                                                                                                                                                                                                                                                                                                                                                                                                                                                                                    </td></tr>\n",
       "<tr><td style=\"text-align: right;\"> 62</td><td>&lt;unk&gt;&quot;tenant_name&quot;: &quot;Mariam M. Shamoun&quot;, &quot;unit_address&quot;: &quot;939 East Washington Ave&quot;, &quot;unit_number&quot;: null, &quot;unit_type&quot;: &quot;2 Bed / 1 Bath, 800 sq. ft.&quot;, &quot;agreement_date&quot;: &quot;2016-02-02&quot;, &quot;lease_start&quot;: &quot;2016-02-04&quot;, &quot;lease_end&quot;: null, &quot;lease_auto_renew&quot;: &quot;month-to-month&quot;, &quot;hourly_rate&quot;: null, &quot;monthly_rent&quot;: 1350.0, &quot;prorated_rent&quot;: null, &quot;security_deposit&quot;: 500.0, &quot;lease_rent&quot;: null, &quot;monthly_payment_breakdown&quot;: null, &quot;utility_charges&quot;: null&lt;unk&gt;&lt;/s&gt;                                                                                                                                                                                                                                                                                                                                                                                                                                         </td><td>&lt;pad&gt; Initial, Last): Mariam M. Shamoun NAME (First, Middle Initial, Last): Youland S. Yalda NAME (First, Middle Initial, Last): LIST OF ALL OCCUPANTS (Do not list any Residents from above): NAME (First, Middle Initial, Last): DATE OF BIRTH: NAME (First, Middle Initial, Last): DATE OF BIRTH: NAME (First, Middle Initial, Last):&lt;/s&gt;                                                                                                                                                                                                                                                                                                                                                                                                                                                                                                                                                                                                                                                                                                                                                                                                                                                                                                                                                                                                                                                                                                                                                                                                                                                                                                                                                                                                                                                                                                                                                                                                                                                                                                                                                                                                                                                                                                                                                                                                                                                                         </td></tr>\n",
       "<tr><td style=\"text-align: right;\"> 63</td><td>&lt;unk&gt;&quot;tenant_name&quot;: &quot;Leobouchereau&quot;, &quot;unit_address&quot;: null, &quot;unit_number&quot;: null, &quot;unit_type&quot;: null, &quot;agreement_date&quot;: &quot;2022-12-03&quot;, &quot;lease_start&quot;: null, &quot;lease_end&quot;: null, &quot;lease_auto_renew&quot;: &quot;Expired leases will automatically renew on a month-to-month basis at market rate plus a $250.00 month-to-month fee unless a lease renewal is fully executed.&quot;, &quot;hourly_rate&quot;: null, &quot;monthly_rent&quot;: 1250.0, &quot;prorated_rent&quot;: null, &quot;security_deposit&quot;: null, &quot;lease_rent&quot;: null, &quot;monthly_payment_breakdown&quot;: &lt;unk&gt;&quot;Total Monthly Payment&quot;: 1250.0, &quot;pet rent&quot;: null, &quot;reserved parking&quot;: null&lt;unk&gt;, &quot;utility_charges&quot;: null&lt;unk&gt;&lt;/s&gt;                                                                                                                                                                                                                                                                     </td><td>&lt;pad&gt; 26.2., Move-Out Inspection, Our, but, but are not obligated to, provide a joint move-out inspection, Our, but, but are not obligated to, provide a joint move-out inspection, Our, but, but are not obligated to, provide a joint move-out inspection, Our, but, but are not obligated to, provide a joint move-out inspection, Our, but, but are not obligated to, provide a joint move-out inspection, Our, but, but are not obligated to, provide a joint move-out inspection, Our, but, but are not obligated to, provide a joint move-out inspection, Our, but, but are not obligated to, provide a joint move-out inspection, Our, but, but are not obligated to, provide a joint move-out inspection, Our, but, but are not obligated to, provide a joint move-out inspection, Our, but, but are not obligated to, provide a joint move-out inspection, Our, but, but are not obligated to, provide a joint move-out inspection, Our, but, but are not obligated to, provide a joint move-out inspection, Our, but, but are not obligated to, provide a joint move-out inspection, Our, but, but are not obligated to, provide a joint move-out inspection, Our, but, but are not obligated to, provide a joint move-out inspection, Our, but, but are not obligated to, provide a joint move-out inspection, Our, but, but are not obligated to, provide a joint move-out inspection, Our, but, but are not obligated to, provide a joint move-out inspection, Our, but, but are not obligated to, provide a joint move-out inspection, Our, but, but are not obligated to, provide a joint move-out inspection, Our, but, but are not obligated to, provide a joint move-out inspection, Our, but, but are not obligated to, provide a joint move-out inspection, Our, but, but are not obligated to, provide a joint move-out inspection                                                                                                                                                                                                                                                                                                                                                                                                                                                                                                                                                             </td></tr>\n",
       "<tr><td style=\"text-align: right;\"> 64</td><td>&lt;unk&gt;&quot;tenant_name&quot;: null, &quot;unit_address&quot;: null, &quot;unit_number&quot;: null, &quot;unit_type&quot;: null, &quot;agreement_date&quot;: null, &quot;lease_start&quot;: null, &quot;lease_end&quot;: null, &quot;lease_auto_renew&quot;: null, &quot;hourly_rate&quot;: null, &quot;monthly_rent&quot;: null, &quot;prorated_rent&quot;: null, &quot;security_deposit&quot;: null, &quot;lease_rent&quot;: null, &quot;monthly_payment_breakdown&quot;: null, &quot;utility_charges&quot;: null&lt;unk&gt;&lt;/s&gt;                                                                                                                                                                                                                                                                                                                                                                                                                                                                                                                                     </td><td>&lt;pad&gt; &lt;unk&gt; LESSEES_RESPONSIBILITY_AND_COSTS_TO_COVER_THE_INCOME_OF_THE_ANIMALS, if we allow an animal of any kind, you must sign a separate animal addendum, post a non-refundable animal deposit and pay pet rent in the amount to be determined by the LESSOR. We will authorize a service or companion animal for a disabled person but may require a written statement from a qualified professional verifying the need for the service animal. If you or any guest or occupant violates animal restrictions, you will be subject to charges, damages, and/or eviction, and such other remedies provided in this lease. If an animal has been in the residence at any time during your term of occupancy (with or without our consent), we&#x27;ll charge you for all necessary cleaning including but not limited to de-fleaing, deodorizing, and carpet shampooing. Initial and daily animal violation charges and animal-removal charges are liquidated damages for our inconvenience and overhead (except for attorney&#x27;s fees and litigation costs) in enforcing animal restrictions and rules. SM INITIALS LESSEE also agrees to carry insurance deemed appropriate by OWNER tBcover possible liability and damages that may be caused by such animals, if we allow an animal. SM INITIALS If the animal is creating a nuisance or damaging property, and LESSEE is unavailable or refuses to correct the problem, the LESSOR may keep of kennel the animal or turn the animal over to local animal control authorities at LESSEES expense. SM INITIALS LESSEEs are responsible for the pets of guests who visit their unit.&lt;/s&gt;                                                                                                                                                                                                                                                                                                                                                                                                                                                                                                                                                                                                                                                                                                                                                                                </td></tr>\n",
       "<tr><td style=\"text-align: right;\"> 65</td><td>&lt;unk&gt;&quot;tenant_name&quot;: null, &quot;unit_address&quot;: null, &quot;unit_number&quot;: null, &quot;unit_type&quot;: null, &quot;agreement_date&quot;: null, &quot;lease_start&quot;: null, &quot;lease_end&quot;: null, &quot;lease_auto_renew&quot;: null, &quot;hourly_rate&quot;: null, &quot;monthly_rent&quot;: null, &quot;prorated_rent&quot;: null, &quot;security_deposit&quot;: null, &quot;lease_rent&quot;: null, &quot;monthly_payment_breakdown&quot;: null, &quot;utility_charges&quot;: null&lt;unk&gt;&lt;/s&gt;                                                                                                                                                                                                                                                                                                                                                                                                                                                                                                                                     </td><td>&lt;pad&gt; LESSOR, DS INITIALS. BM, TERM, MONTHLY, MONTHLY, MONTHLY, MONTHLY, MONTHLY, MONTHLY, MONTHLY, MONTHLY, MONTHLY, MONTHLY, MONTHLY, MONTHLY, MONTHLY, MONTHLY, MONTHLY, MONTHLY, MONTHLY, MONTHLY, MONTHLY, MONTHLY, MONTHLY, MONTHLY, MONTHLY, MONTHLY, MONTHLY, MONTHLY, MONTHLY, MONTHLY, MONTHLY, MONTHLY, MONTHLY, MONTHLY, MONTHLY, MONTHLY, MONTHLY, MONTHLY, MONTHLY, MONTHLY, MONTHLY, MONTHLY, MONTHLY, MONTHLY, MONTHLY, MONTHLY, MONTHLY, MONTHLY, MONTHLY, MONTHLY, MONTHLY, MONTHLY, MONTHLY, MONTHLY, MONTHLY, MONTHLY, MONTHLY, MONTHLY, MONTHLY, MONTHLY, MONTHLY, MONTHLY, MONTHLY, MONTHLY, MONTHLY, MONTHLY, MONTHLY, MONTHLY, MONTHLY, MONTHLY, MONTHLY, MONTHLY, MONTHLY, MONTHLY, MONTHLY, MONTHLY, MONTHLY, MONTHLY, MONTHLY, MONTHLY, MONTHLY, MONTHLY, MONTHLY, MONTHLY, MONTHLY, MONTHLY, MONTHLY, MONTHLY, MONTHLY, MONTHLY, MONTHLY, MONTHLY, MONTHLY, MONTHLY, MONTHLY, MONTHLY, MONTHLY, MONTHLY, MONTHLY, MONTHLY, MONTHLY                                                                                                                                                                                                                                                                                                                                                                                                                                                                                                                                                                                                                                                                                                                                                                                                                                                                                                                                                                                                                                                                                                                                                                                                                                                                                                                                                                                                                                                       </td></tr>\n",
       "<tr><td style=\"text-align: right;\"> 66</td><td>&lt;unk&gt;&quot;tenant_name&quot;: null, &quot;unit_address&quot;: null, &quot;unit_number&quot;: null, &quot;unit_type&quot;: null, &quot;agreement_date&quot;: null, &quot;lease_start&quot;: null, &quot;lease_end&quot;: null, &quot;lease_auto_renew&quot;: null, &quot;hourly_rate&quot;: null, &quot;monthly_rent&quot;: null, &quot;prorated_rent&quot;: null, &quot;security_deposit&quot;: null, &quot;lease_rent&quot;: null, &quot;monthly_payment_breakdown&quot;: null, &quot;utility_charges&quot;: null&lt;unk&gt;&lt;/s&gt;                                                                                                                                                                                                                                                                                                                                                                                                                                                                                                                                     </td><td>&lt;pad&gt; Default, F.S. 83.52, or material provisions of the lease, the rules and regulations, or any addenda (other than failure to pay rent due), and the non- compliance is of a nature that YOU SHOULD NOT BE GIVEN AN OPPORTUNITY TO CURE or if your non-compliance CONSTITUTES A SECOND OR CONTINUING Default&lt;/s&gt;                                                                                                                                                                                                                                                                                                                                                                                                                                                                                                                                                                                                                                                                                                                                                                                                                                                                                                                                                                                                                                                                                                                                                                                                                                                                                                                                                                                                                                                                                                                                                                                                                                                                                                                                                                                                                                                                                                                                                                                                                                                                                                  </td></tr>\n",
       "</tbody>\n",
       "</table>"
      ],
      "text/plain": [
       "'<table>\\n<thead>\\n<tr><th style=\"text-align: right;\">  #</th><th>Reference data                                                                                                                                                                                                                                                                                                                                                                                                                                                                                                                                                                                                                                                                                                                                                                                                                                                                                            </th><th>Extracted data (Finetuned model)                                                                                                                                                                                                                                                                                                                                                                                                                                                                                                                                                                                                                                                                                                                                                                                                                                                                                                                                                                                                                                                                                                                                                                                                                                                                                                                                                                                                                                                                                                                                                                                                                                                                                                                                                                                                                                                                                                                                                                                                                                                                                                                                                                                                                                                                                                                                                                                     </th></tr>\\n</thead>\\n<tbody>\\n<tr><td style=\"text-align: right;\">  1</td><td>&lt;unk&gt;&quot;tenant_name&quot;: &quot;Ricquan M Moore&quot;, &quot;unit_address&quot;: null, &quot;unit_number&quot;: null, &quot;unit_type&quot;: null, &quot;agreement_date&quot;: null, &quot;lease_start&quot;: null, &quot;lease_end&quot;: null, &quot;lease_auto_renew&quot;: null, &quot;hourly_rate&quot;: null, &quot;monthly_rent&quot;: null, &quot;prorated_rent&quot;: null, &quot;security_deposit&quot;: null, &quot;lease_rent&quot;: null, &quot;monthly_payment_breakdown&quot;: null, &quot;utility_charges&quot;: null&lt;unk&gt;&lt;/s&gt;                                                                                                                                                                                                                                                                                                                                                                                                                                                                                                                        </td><td>&lt;pad&gt; ANIMALS, ADDITIONAL_FEES, ADDITIONAL_RENT, ADDITIONAL_FEES_OR_CHARGES, ADDITIONAL_FEES_OR_CHARGES_TO_PAID, ADDITIONAL_FEES_OR_CHARGES_TO_PAID, ADDITIONAL_FEES_OR_CHARGES_TO_PAID, ADDITIONAL_FEES_OR_CHARGES_TO_PAID, ADDITIONAL_FEES_OR_CHARGES_TO_PAID, ADDITIONAL_FEES_OR_CHARGES_TO_PAID, ADDITIONAL_FEES_OR_CHARGES_TO_PAID, ADDITIONAL_FEES_OR_CHARGES_TO_PAID, ADDITIONAL_FEES_OR_CHARGES_TO_PAID, ADDITIONAL_FEES_OR_CHARGES_TO_PAID, ADDITIONAL_FEES_OR_CHARGES_TO_PAID, ADDITIONAL_FEES_OR_CHARGES_TO_PAID, ADDITIONAL_FEES_OR_CHARGES_TO_PAID, ADDITIONAL_FEES_OR_CHARGES_TO_PAID, ADDITIONAL_FEES_OR_CHARGES_TO_PAID, ADDITIONAL_FEES_OR_CHARGES_TO_PAID, ADDITIONAL_FEES_OR_CHARGES_TO_PAID, ADDITIONAL_FEES_OR_CHARGES_TO_PAID, ADDITIONAL_FEES_OR_CHARGES_TO_PAID, ADDITIONAL_FEES_OR_CHARGES_TO_PAID, ADDITIONAL_FEES_OR_CHARGES_TO_PAID, ADDITIONAL_FEES_OR_CHARGES_TO_PAID, ADDITIONAL_FEES_OR_CHARGES_TO_PAID, ADDITIONAL_FEES_OR_CHARGES_TO_PAID, ADDITIONAL_FEES_OR_CHARGES_TO_PAID, ADDITIONAL_FEES_OR_CHARGES_TO_PAID, ADDITIONAL_FEES_OR_                                                                                                                                                                                                                                                                                                                                                                                                                                                                                                                                                                                                                                                                                                                                                                                                                                                                                                                                                                                                                                                                                                                                                                                                                                                                                                                                             </td></tr>\\n<tr><td style=\"text-align: right;\">  2</td><td>&lt;unk&gt;&quot;tenant_name&quot;: null, &quot;unit_address&quot;: null, &quot;unit_number&quot;: null, &quot;unit_type&quot;: null, &quot;agreement_date&quot;: null, &quot;lease_start&quot;: null, &quot;lease_end&quot;: null, &quot;lease_auto_renew&quot;: null, &quot;hourly_rate&quot;: null, &quot;monthly_rent&quot;: null, &quot;prorated_rent&quot;: null, &quot;security_deposit&quot;: null, &quot;lease_rent&quot;: null, &quot;monthly_payment_breakdown&quot;: null, &quot;utility_charges&quot;: null&lt;unk&gt;&lt;/s&gt;                                                                                                                                                                                                                                                                                                                                                                                                                                                                                                                                     </td><td>&lt;pad&gt; 26.CONDITION OF THE PREMISES AND ALTERATIONS, &lt;unk&gt;&lt;/s&gt;                                                                                                                                                                                                                                                                                                                                                                                                                                                                                                                                                                                                                                                                                                                                                                                                                                                                                                                                                                                                                                                                                                                                                                                                                                                                                                                                                                                                                                                                                                                                                                                                                                                                                                                                                                                                                                                                                                                                                                                                                                                                                                                                                                                                                                                                                                                                                        </td></tr>\\n<tr><td style=\"text-align: right;\">  3</td><td>&lt;unk&gt;&quot;tenant_name&quot;: &quot;Samantha Putlak&quot;, &quot;unit_address&quot;: &quot;304 Stanhope St.&quot;, &quot;unit_number&quot;: &quot;#2L&quot;, &quot;unit_type&quot;: null, &quot;agreement_date&quot;: null, &quot;lease_start&quot;: &quot;2023-08-01&quot;, &quot;lease_end&quot;: &quot;2024-07-31&quot;, &quot;lease_auto_renew&quot;: null, &quot;hourly_rate&quot;: null, &quot;monthly_rent&quot;: 2800, &quot;prorated_rent&quot;: null, &quot;security_deposit&quot;: 2800, &quot;lease_rent&quot;: 33600, &quot;monthly_payment_breakdown&quot;: null, &quot;utility_charges&quot;: null&lt;unk&gt;&lt;/s&gt;                                                                                                                                                                                                                                                                                                                                                                                                                                                                                        </td><td>&lt;pad&gt; TERM: 12 Months MONTHLY_RENT: $2,800 BEGINNING: 8/1/2023 MONTHLY_RENT: $2,800 SECURITY_DEPOSIT: $2,800 TERM: 12 Months MONTHLY_RENT: $2,800 BEGINNING: 8/1/2023 MONTHLY_RENT: $2,800 SECURITY_DEPOSIT: $2,800 TERM: 12 Months MONTHLY_RENT: $2,800 BEGINNING: 8/1/2023 MONTHLY_RENT: $2,800 SECURITY_DEPOSIT: $2,800&lt;/s&gt;                                                                                                                                                                                                                                                                                                                                                                                                                                                                                                                                                                                                                                                                                                                                                                                                                                                                                                                                                                                                                                                                                                                                                                                                                                                                                                                                                                                                                                                                                                                                                                                                                                                                                                                                                                                                                                                                                                                                                                                                                                                                                       </td></tr>\\n<tr><td style=\"text-align: right;\">  4</td><td>&lt;unk&gt;&quot;tenant_name&quot;: null, &quot;unit_address&quot;: null, &quot;unit_number&quot;: null, &quot;unit_type&quot;: null, &quot;agreement_date&quot;: null, &quot;lease_start&quot;: null, &quot;lease_end&quot;: null, &quot;lease_auto_renew&quot;: null, &quot;hourly_rate&quot;: null, &quot;monthly_rent&quot;: null, &quot;prorated_rent&quot;: null, &quot;security_deposit&quot;: null, &quot;lease_rent&quot;: null, &quot;monthly_payment_breakdown&quot;: null, &quot;utility_charges&quot;: null&lt;unk&gt;&lt;/s&gt;                                                                                                                                                                                                                                                                                                                                                                                                                                                                                                                                     </td><td>&lt;pad&gt; &lt;unk&gt;, &lt;unk&gt;, &lt;unk&gt;, &lt;unk&gt;, &lt;unk&gt;, &lt;unk&gt;, &lt;unk&gt;, &lt;unk&gt;, &lt;unk&gt;, &lt;unk&gt;, &lt;unk&gt;, &lt;unk&gt;, &lt;unk&gt;, &lt;unk&gt;, &lt;unk&gt;, &lt;unk&gt;, &lt;unk&gt;, &lt;unk&gt;, &lt;unk&gt;, &lt;unk&gt;, &lt;unk&gt;, &lt;unk&gt;, &lt;unk&gt;, &lt;unk&gt;, &lt;unk&gt;, &lt;unk&gt;, &lt;unk&gt;, &lt;unk&gt;, &lt;unk&gt;, &lt;unk&gt;, &lt;unk&gt;, &lt;unk&gt;, &lt;unk&gt;, &lt;unk&gt;, &lt;unk&gt;, &lt;unk&gt;, &lt;unk&gt;, &lt;unk&gt;, &lt;unk&gt;, &lt;unk&gt;, &lt;unk&gt;, &lt;unk&gt;, &lt;unk&gt;, &lt;unk&gt;, &lt;unk&gt;, &lt;unk&gt;, &lt;unk&gt;, &lt;unk&gt;, &lt;unk&gt;, &lt;unk&gt;, &lt;unk&gt;, &lt;unk&gt;, &lt;unk&gt;, &lt;unk&gt;, &lt;unk&gt;, &lt;unk&gt;, &lt;unk&gt;, &lt;unk&gt;, &lt;unk&gt;, &lt;unk&gt;, &lt;unk&gt;, &lt;unk&gt;, &lt;unk&gt;, &lt;unk&gt;, &lt;unk&gt;, &lt;unk&gt;, &lt;unk&gt;, &lt;unk&gt;, &lt;unk&gt;, &lt;unk&gt;, &lt;unk&gt;, &lt;unk&gt;, &lt;unk&gt;, &lt;unk&gt;, &lt;unk&gt;, &lt;unk&gt;, &lt;unk&gt;, &lt;unk&gt;, &lt;unk&gt;, &lt;unk&gt;, &lt;unk&gt;, &lt;unk&gt;, &lt;unk&gt;, &lt;unk&gt;, &lt;unk&gt;, &lt;unk&gt;, &lt;unk&gt;, &lt;unk&gt;, &lt;unk&gt;, &lt;unk&gt;, &lt;unk&gt;, &lt;unk&gt;, &lt;unk&gt;, &lt;unk&gt;, &lt;unk&gt;, &lt;unk&gt;, &lt;unk&gt;, &lt;unk&gt;, &lt;unk&gt;, &lt;unk&gt;, &lt;unk&gt;, &lt;unk&gt;, &lt;unk&gt;, &lt;unk&gt;, &lt;unk&gt;, &lt;unk&gt;, &lt;unk&gt;, &lt;unk&gt;, &lt;unk&gt;, &lt;unk&gt;, &lt;unk&gt;, &lt;unk&gt;, &lt;unk&gt;, &lt;unk&gt;, &lt;unk&gt;, &lt;unk&gt;, &lt;unk&gt;, &lt;unk&gt;, &lt;unk&gt;, &lt;unk&gt;, &lt;unk&gt;, &lt;unk&gt;, &lt;unk&gt;, &lt;unk&gt;, &lt;unk&gt;, &lt;unk&gt;, &lt;unk&gt;, &lt;unk&gt;, &lt;unk&gt;, &lt;unk&gt;, &lt;unk&gt;, &lt;unk&gt;, &lt;unk&gt;, &lt;unk&gt;, &lt;unk&gt;, &lt;unk&gt;, &lt;unk&gt;, &lt;unk&gt;, &lt;unk&gt;, &lt;unk&gt;, &lt;unk&gt;, &lt;unk&gt;, &lt;unk&gt;, &lt;unk&gt;, &lt;unk&gt;, &lt;unk&gt;, &lt;unk&gt;, &lt;unk&gt;, &lt;unk&gt;, &lt;unk&gt;, &lt;unk&gt;, &lt;unk&gt;, &lt;unk&gt;, &lt;unk&gt;, &lt;unk&gt;, &lt;unk&gt;, &lt;unk&gt;, &lt;unk&gt;, &lt;unk&gt;, &lt;unk&gt;, &lt;unk&gt;, &lt;unk&gt;, &lt;unk&gt;, &lt;unk&gt;, &lt;unk&gt;, &lt;unk&gt;, &lt;unk&gt;, &lt;unk&gt;, &lt;unk&gt;, &lt;unk&gt;, &lt;unk&gt;                                                                                                                                                                                                                                                                                                                                                                                                                                                                                                                                                                                                                                                                                                                                                                                                                                                                                                                                                                                                                                                                                                                                                                    </td></tr>\\n<tr><td style=\"text-align: right;\">  5</td><td>&lt;unk&gt;&quot;tenant_name&quot;: null, &quot;unit_address&quot;: null, &quot;unit_number&quot;: null, &quot;unit_type&quot;: null, &quot;agreement_date&quot;: null, &quot;lease_start&quot;: null, &quot;lease_end&quot;: null, &quot;lease_auto_renew&quot;: null, &quot;hourly_rate&quot;: null, &quot;monthly_rent&quot;: null, &quot;prorated_rent&quot;: null, &quot;security_deposit&quot;: null, &quot;lease_rent&quot;: null, &quot;monthly_payment_breakdown&quot;: null, &quot;utility_charges&quot;: null&lt;unk&gt;&lt;/s&gt;                                                                                                                                                                                                                                                                                                                                                                                                                                                                                                                                     </td><td>&lt;pad&gt; Damage, Landlord, Damage, Tenant, Damage, Landlord, Damage, Tenant, Damage, Damage, Damage, Damage, Damage, Damage, Damage, Damage, Damage, Damage, Damage, Damage, Damage, Damage, Damage, Damage, Damage, Damage, Damage, Damage, Damage, Damage, Damage, Damage, Damage, Damage, Damage, Damage, Damage, Damage, Damage, Damage, Damage, Damage, Damage, Damage, Damage, Damage, Damage, Damage, Damage, Damage, Damage, Damage, Damage, Damage, Damage, Damage, Damage, Damage, Damage, Damage, Damage, Damage, Damage, Damage, Damage, Damage, Damage, Damage, Damage, Damage, Damage, Damage, Damage, Damage, Damage, Damage, Damage, Damage, Damage, Damage, Damage, Damage, Damage, Damage, Damage, Damage, Damage, Damage, Damage, Damage, Damage, Damage, Damage, Damage, Damage, Damage, Damage, Damage, Damage, Damage, Damage, Damage, Damage, Damage, Damage, Damage, Damage, Damage, Damage, Damage, Damage, Damage, Damage, Damage, Damage, Damage, Damage, Damage, Damage, Damage, Damage, Damage, Damage, Damage, Damage, Damage, Damage, Damage, Damage, Damage, Damage, Damage, Damage, Damage, Damage, Damage, Damage, Damage, Damage, Damage, Damage, Damage, Damage, Damage, Damage, Damage, Damage, Damage, Damage, Damage, Damage, Damage, Damage, Damage, Damage, Damage, Damage, Damage, Damage, Damage, Damage, Damage, Damage, Damage, Damage, Damage, Damage, Damage, Damage, Damage, Damage, Damage, Damage, Damage, Damage, Damage, Damage, Damage, Damage, Damage, Damage, Damage, Damage, Damage, Damage, Damage, Damage, Damage, Damage, Damage, Damage, Damage, Damage, Damage, Damage, Damage, Damage, Damage, Damage, Damage, Damage, Damage, Damage, Damage, Damage, Damage, Damage, Damage, Damage, Damage, Damage, Damage, Damage, Damage, Damage, Damage, Damage, Damage, Damage, Damage, Damage, Damage, Damage, Damage, Damage, Damage, Damage, Damage, Damage, Damage, Damage, Damage, Damage, Damage, Damage, Damage, Damage, Damage, Damage, Damage, Damage, Damage, Damage, Damage, Damage, Damage, Damage, Damage, Damage, Damage, Damage, Damage, Damage,                                                                                                                                                                                                                                                                                                    </td></tr>\\n<tr><td style=\"text-align: right;\">  6</td><td>&lt;unk&gt;&quot;tenant_name&quot;: null, &quot;unit_address&quot;: null, &quot;unit_number&quot;: null, &quot;unit_type&quot;: null, &quot;agreement_date&quot;: null, &quot;lease_start&quot;: null, &quot;lease_end&quot;: null, &quot;lease_auto_renew&quot;: null, &quot;hourly_rate&quot;: null, &quot;monthly_rent&quot;: null, &quot;prorated_rent&quot;: null, &quot;security_deposit&quot;: null, &quot;lease_rent&quot;: null, &quot;monthly_payment_breakdown&quot;: null, &quot;utility_charges&quot;: null&lt;unk&gt;&lt;/s&gt;                                                                                                                                                                                                                                                                                                                                                                                                                                                                                                                                     </td><td>&lt;pad&gt; PART_A, PART_B, PART_C, PART_D, PART_A, PART_B, PART_C, PART_D, PART_A, PART_C, PART_D, PART_A, PART_C, PART_D, PART_A, PART_C, PART_D, PART_A, PART_C, PART_D, PART_A, PART_C, PART_D, PART_A, PART_C, PART_D, PART_A, PART_C, PART_D, PART_A, PART_C, PART_D, PART_A, PART_C, PART_D, PART_A, PART_C, PART_D, PART_A, PART_C, PART_D, PART_A, PART_C, PART_D, PART_A, PART_C, PART_D, PART_A, PART_C, PART_D, PART_A, PART_C, PART_D, PART_A, PART_C, PART_D, PART_A, PART_C, PART_D, PART_A, PART_C, PART_D, PART_A, PART_C, PART_D, PART_A, PART_C, PART_D, PART_A, PART_C, PART_D, PART_A, PART_C, PART_D, PART_C, PART_D, PART_A, PART_C, PART_D, PART_A, PART_C, PART_D, PART_C, PART_D, PART_A, PART_C, PART_D, PART_C, PART_D, PART_A, PART_C, PART_D, PART_C, PART_D, PART_A, PART_C, PART_D, PART_C, PART_D, PART_C, PART_D, PART_C, PART                                                                                                                                                                                                                                                                                                                                                                                                                                                                                                                                                                                                                                                                                                                                                                                                                                                                                                                                                                                                                                                                                                                                                                                                                                                                                                                                                                                                                                                                                                                                                           </td></tr>\\n<tr><td style=\"text-align: right;\">  7</td><td>&lt;unk&gt;&quot;tenant_name&quot;: null, &quot;unit_address&quot;: null, &quot;unit_number&quot;: null, &quot;unit_type&quot;: null, &quot;agreement_date&quot;: null, &quot;lease_start&quot;: null, &quot;lease_end&quot;: null, &quot;lease_auto_renew&quot;: null, &quot;hourly_rate&quot;: null, &quot;monthly_rent&quot;: null, &quot;prorated_rent&quot;: null, &quot;security_deposit&quot;: null, &quot;lease_rent&quot;: null, &quot;monthly_payment_breakdown&quot;: null, &quot;utility_charges&quot;: null&lt;unk&gt;&lt;/s&gt;                                                                                                                                                                                                                                                                                                                                                                                                                                                                                                                                     </td><td>&lt;pad&gt; &lt;unk&gt;, &lt;unk&gt;, &lt;unk&gt;, &lt;unk&gt;, &lt;unk&gt;, &lt;unk&gt;, &lt;unk&gt;, &lt;unk&gt;, &lt;unk&gt;, &lt;unk&gt;, &lt;unk&gt;, &lt;unk&gt;, &lt;unk&gt;, &lt;unk&gt;, &lt;unk&gt;, &lt;unk&gt;, &lt;unk&gt;, &lt;unk&gt;, &lt;unk&gt;, &lt;unk&gt;, &lt;unk&gt;, &lt;unk&gt;, &lt;unk&gt;, &lt;unk&gt;, &lt;unk&gt;, &lt;unk&gt;, &lt;unk&gt;, &lt;unk&gt;, &lt;unk&gt;, &lt;unk&gt;, &lt;unk&gt;, &lt;unk&gt;, &lt;unk&gt;, &lt;unk&gt;, &lt;unk&gt;, &lt;unk&gt;, &lt;unk&gt;, &lt;unk&gt;, &lt;unk&gt;, &lt;unk&gt;, &lt;unk&gt;, &lt;unk&gt;, &lt;unk&gt;, &lt;unk&gt;, &lt;unk&gt;, &lt;unk&gt;, &lt;unk&gt;, &lt;unk&gt;, &lt;unk&gt;, &lt;unk&gt;, &lt;unk&gt;, &lt;unk&gt;, &lt;unk&gt;, &lt;unk&gt;, &lt;unk&gt;, &lt;unk&gt;, &lt;unk&gt;, &lt;unk&gt;, &lt;unk&gt;, &lt;unk&gt;, &lt;unk&gt;, &lt;unk&gt;, &lt;unk&gt;, &lt;unk&gt;, &lt;unk&gt;, &lt;unk&gt;, &lt;unk&gt;, &lt;unk&gt;, &lt;unk&gt;, &lt;unk&gt;, &lt;unk&gt;, &lt;unk&gt;, &lt;unk&gt;, &lt;unk&gt;, &lt;unk&gt;, &lt;unk&gt;, &lt;unk&gt;, &lt;unk&gt;, &lt;unk&gt;, &lt;unk&gt;, &lt;unk&gt;, &lt;unk&gt;, &lt;unk&gt;, &lt;unk&gt;, &lt;unk&gt;, &lt;unk&gt;, &lt;unk&gt;, &lt;unk&gt;, &lt;unk&gt;, &lt;unk&gt;, &lt;unk&gt;, &lt;unk&gt;, &lt;unk&gt;, &lt;unk&gt;, &lt;unk&gt;, &lt;unk&gt;, &lt;unk&gt;, &lt;unk&gt;, &lt;unk&gt;, &lt;unk&gt;, &lt;unk&gt;, &lt;unk&gt;, &lt;unk&gt;, &lt;unk&gt;, &lt;unk&gt;, &lt;unk&gt;, &lt;unk&gt;, &lt;unk&gt;, &lt;unk&gt;, &lt;unk&gt;, &lt;unk&gt;, &lt;unk&gt;, &lt;unk&gt;, &lt;unk&gt;, &lt;unk&gt;, &lt;unk&gt;, &lt;unk&gt;, &lt;unk&gt;, &lt;unk&gt;, &lt;unk&gt;, &lt;unk&gt;, &lt;unk&gt;, &lt;unk&gt;, &lt;unk&gt;, &lt;unk&gt;, &lt;unk&gt;, &lt;unk&gt;, &lt;unk&gt;, &lt;unk&gt;, &lt;unk&gt;, &lt;unk&gt;, &lt;unk&gt;, &lt;unk&gt;, &lt;unk&gt;, &lt;unk&gt;, &lt;unk&gt;, &lt;unk&gt;, &lt;unk&gt;, &lt;unk&gt;, &lt;unk&gt;, &lt;unk&gt;, &lt;unk&gt;, &lt;unk&gt;, &lt;unk&gt;, &lt;unk&gt;, &lt;unk&gt;, &lt;unk&gt;, &lt;unk&gt;, &lt;unk&gt;, &lt;unk&gt;, &lt;unk&gt;, &lt;unk&gt;, &lt;unk&gt;, &lt;unk&gt;, &lt;unk&gt;, &lt;unk&gt;, &lt;unk&gt;, &lt;unk&gt;, &lt;unk&gt;, &lt;unk&gt;, &lt;unk&gt;, &lt;unk&gt;, &lt;unk&gt;, &lt;unk&gt;, &lt;unk&gt;, &lt;unk&gt;, &lt;unk&gt;, &lt;unk&gt;, &lt;unk&gt;, &lt;unk&gt;, &lt;unk&gt;                                                                                                                                                                                                                                                                                                                                                                                                                                                                                                                                                                                                                                                                                                                                                                                                                                                                                                                                                                                                                                                                                                                                                                    </td></tr>\\n<tr><td style=\"text-align: right;\">  8</td><td>&lt;unk&gt;&quot;tenant_name&quot;: null, &quot;unit_address&quot;: null, &quot;unit_number&quot;: null, &quot;unit_type&quot;: null, &quot;agreement_date&quot;: null, &quot;lease_start&quot;: null, &quot;lease_end&quot;: null, &quot;lease_auto_renew&quot;: &quot;month-to-month&quot;, &quot;hourly_rate&quot;: null, &quot;monthly_rent&quot;: null, &quot;prorated_rent&quot;: null, &quot;security_deposit&quot;: null, &quot;lease_rent&quot;: null, &quot;monthly_payment_breakdown&quot;: null, &quot;utility_charges&quot;: null&lt;unk&gt;&lt;/s&gt;                                                                                                                                                                                                                                                                                                                                                                                                                                                                                                                         </td><td>&lt;pad&gt; Lessee shall be responsible for the payment of all taxes, license fees, registration fees, insurance, and other assessments associated with the use of the Property.&lt;/s&gt;                                                                                                                                                                                                                                                                                                                                                                                                                                                                                                                                                                                                                                                                                                                                                                                                                                                                                                                                                                                                                                                                                                                                                                                                                                                                                                                                                                                                                                                                                                                                                                                                                                                                                                                                                                                                                                                                                                                                                                                                                                                                                                                                                                                                                                       </td></tr>\\n<tr><td style=\"text-align: right;\">  9</td><td>&lt;unk&gt;&quot;tenant_name&quot;: null, &quot;unit_address&quot;: null, &quot;unit_number&quot;: null, &quot;unit_type&quot;: null, &quot;agreement_date&quot;: null, &quot;lease_start&quot;: null, &quot;lease_end&quot;: null, &quot;lease_auto_renew&quot;: null, &quot;hourly_rate&quot;: null, &quot;monthly_rent&quot;: null, &quot;prorated_rent&quot;: null, &quot;security_deposit&quot;: null, &quot;lease_rent&quot;: null, &quot;monthly_payment_breakdown&quot;: null, &quot;utility_charges&quot;: null&lt;unk&gt;&lt;/s&gt;                                                                                                                                                                                                                                                                                                                                                                                                                                                                                                                                     </td><td>&lt;pad&gt; &lt;unk&gt; Replacements 31.REPLACEMENTS AND SUBLETTING. Replacing a resident, subletting. assignment, or granting a right or license to occupy is allowed only when we expressly consent in writing. If departing or remaining residents find a replacement resident acceptable to us before moving out and we expressly consent, in writing, to the replacement, subletting, assignment, or granting a right or any license to occupy, then (1) a reletting charge will not be due; (2) a reasonable administrative (paperwork) and/or transfer fee will be due, and a rekeying fee is due if rekeying is requested or required; and (3) the departing and remaining residents will remain liable for all lease obligations for the rest of the original lease term. Procedures for Replacement. If we approve a replacement resident, then, at our option: (1) the replacement resident must sign this Lease Contract with or without an increase in the total security deposit; or (2) the remaining and replacement residents must sign an entirely new I.case Contract. Unless we agree otherwise in writing-even if a new L.case Contract is signed. Responsibilities of Owner and Resident 32.RESPONSIBILITIES OF OWNER. We&#x27;ll act with customary diligence to: (1) keep common areas reasonably clean, subject to paragraph 26 (Condition of the Premises and Alterations); (2) maintain fixtures, furniture, hot water, heating and A/C. equipment. (3) comply with applicable federal, state, and local laws regarding safety, sanitation, and fair housing; and (4) make all repairs and replacements as may be necessary.&lt;/s&gt;                                                                                                                                                                                                                                                                                                                                                                                                                                                                                                                                                                                                                                                                                                                                                                           </td></tr>\\n<tr><td style=\"text-align: right;\"> 10</td><td>&lt;unk&gt;&quot;tenant_name&quot;: null, &quot;unit_address&quot;: null, &quot;unit_number&quot;: null, &quot;unit_type&quot;: null, &quot;agreement_date&quot;: null, &quot;lease_start&quot;: null, &quot;lease_end&quot;: null, &quot;lease_auto_renew&quot;: null, &quot;hourly_rate&quot;: null, &quot;monthly_rent&quot;: null, &quot;prorated_rent&quot;: null, &quot;security_deposit&quot;: null, &quot;lease_rent&quot;: null, &quot;monthly_payment_breakdown&quot;: null, &quot;utility_charges&quot;: null&lt;unk&gt;&lt;/s&gt;                                                                                                                                                                                                                                                                                                                                                                                                                                                                                                                                     </td><td>&lt;pad&gt; RESPONSIBILITIES OF OWNER, RESPONSIBILITIES OF OWNER, RESPONSIBILITIES OF OWNER, RESPONSIBILITIES OF OWNER, RESPONSIBILITIES OF OWNER, RESPONSIBILITIES OF OWNER, RESPONSIBILITIES OF OWNER, RESPONSIBILITIES OF OWNER, RESPONSIBILITIES OF OWNER, RESPONSIBILITIES OF OWNER, RESPONSIBILITIES OF OWNER, RESPONSIBILITIES OF OWNER, RESPONSIBILITIES OF OWNER, RESPONSIBILITIES OF OWNER, RESPONSIBILITIES OF OWNER, RESPONSIBILITIES OF OWNER, RESPONSIBILITIES OF OWNER, RESPONSIBILITIES OF OWNER, RESPONSIBILITIES OF OWNER, RESPONSIBILITIES OF OWNER, RESPONSIBILITIES OF OWNER, RESPONSIBILITIES OF OWNER, RESPONSIBILITIES OF OWNER, RESPONSIBILITIES OF OWNER, RESPONSIBILITIES OF OWNER, RESPONSIBILITIES OF OWNER, RESPONSIBILITIES OF OWNER, RESPONSIBILITIES OF OWNER, RESPONSIBILITIES OF OWNER, RESPONSIBILITIES OF OWNER, RESPONSIBILITIES OF OWNER, RESPONSIBILITIES OF OWNER, RESPONSIBILITIES OF OWNER, RESPONSIBILITIES OF OWNER, RESPONSIBILITIES OF OWNER, RESPONSIBILITIES OF OWNER, RESPONSIBILIT                                                                                                                                                                                                                                                                                                                                                                                                                                                                                                                                                                                                                                                                                                                                                                                                                                                                                                                                                                                                                                                                                                                                                                                                                                                                                                                                                                                      </td></tr>\\n<tr><td style=\"text-align: right;\"> 11</td><td>&lt;unk&gt;&quot;tenant_name&quot;: null, &quot;unit_address&quot;: null, &quot;unit_number&quot;: null, &quot;unit_type&quot;: null, &quot;agreement_date&quot;: null, &quot;lease_start&quot;: null, &quot;lease_end&quot;: null, &quot;lease_auto_renew&quot;: null, &quot;hourly_rate&quot;: null, &quot;monthly_rent&quot;: null, &quot;prorated_rent&quot;: null, &quot;security_deposit&quot;: 500, &quot;lease_rent&quot;: null, &quot;monthly_payment_breakdown&quot;: null, &quot;utility_charges&quot;: null&lt;unk&gt;&lt;/s&gt;                                                                                                                                                                                                                                                                                                                                                                                                                                                                                                                                      </td><td>&lt;pad&gt; Tenant, Default, Default, Default, Default, Default, Default, Default, Default, Default, Default, Default, Default, Default, Default, Default, Default, Default, Default, Default, Default, Default, Default, Default, Default, Default, Default, Default, Default, Default, Default, Default, Default, Default, Default, Default, Default, Default, Default, Default, Default, Default, Default, Default, Default, Default, Default, Default, Default, Default, Default, Default, Default, Default, Default, Default, Default, Default, Default, Default, Default, Default, Default, Default, Default, Default, Default, Default, Default, Default, Default, Default, Default, Default, Default, Default, Default, Default, Default, Default, Default, Default, Default, Default, Default, Default, Default, Default, Default, Default, Default, Default, Default, Default, Default, Default, Default, Default, Default, Default, Default, Default, Default, Default, Default, Default, Default, Default, Default, Default, Default, Default, Default, Default, Default, Default, Default, Default, Default, Default, Default, Default, Default, Default, Default, Default, Default, Default, Default, Default, Default, Default, Default, Default, Default, Default, Default, Default, Default, Default, Default, Default, Default, Default, Default, Default, Default, Default, Default, Default, Default, Default, Default, Default, Default, Default, Default, Default, Default, Default, Default, Default, Default, Default, Default, Default, Default, Default, Default, Default, Default                                                                                                                                                                                                                                                                                                                                                                                                                                                                                                                                                                                                                                                                                                                                                                                                               </td></tr>\\n<tr><td style=\"text-align: right;\"> 12</td><td>&lt;unk&gt;&quot;tenant_name&quot;: null, &quot;unit_address&quot;: null, &quot;unit_number&quot;: null, &quot;unit_type&quot;: null, &quot;agreement_date&quot;: null, &quot;lease_start&quot;: null, &quot;lease_end&quot;: null, &quot;lease_auto_renew&quot;: null, &quot;hourly_rate&quot;: null, &quot;monthly_rent&quot;: null, &quot;prorated_rent&quot;: null, &quot;security_deposit&quot;: null, &quot;lease_rent&quot;: null, &quot;monthly_payment_breakdown&quot;: null, &quot;utility_charges&quot;: null&lt;unk&gt;&lt;/s&gt;                                                                                                                                                                                                                                                                                                                                                                                                                                                                                                                                     </td><td>&lt;pad&gt; Casualty Loss, During freezing weather, You, You, You, You, You, You, You, You, You, You, You, You, You, You, You, You, You, You, You, You, You, You, You, You, You, You, You, You, You, You, You, You, You, You, You, You, You, You, You, You, You, You, You, You, You, You, You, You, You, You, You, You, You, You, You, You, You, You, You, You, You, You, You, You, You, You, You, You, You, You, You, You, You, You, You, You, You, You, You, You, You, You, You, You, You, You, You, You, You, You, You, You, You, You, You, You, You, You, You, You, You, You, You, You, You, You, You, You, You, You, You, You, You, You, You, You, You, You, You, You, You, You, You, You, You, You, You, You, You, You, You, You, You, You, You, You, You, You, You, You, You, You, You, You, You, You, You, You, You, You, You, You, You, You, You, You, You, You, You, You, You, You, You, You, You, You, You, You, You, You, You, You, You, You, You, You, You, You, You, You, You, You, You, You, You, You, You, You, You, You, You, You, You, You, You, You, You, You, You, You, You, You, You, You, You, You, You, You, You, You, You, You, You, You, You, You, You, You, You, You, You, You, You, You, You, You, You, You, You, You, You, You, You, You, You, You, You, You, You, You, You, You, You, You, You, You, You, You, You, You, You                                                                                                                                                                                                                                                                                                                                                                                                                                                                                                                                                                                                                                                                                                                                                                                                                                                                                                                                                                                                                                                                  </td></tr>\\n<tr><td style=\"text-align: right;\"> 13</td><td>&lt;unk&gt;&quot;tenant_name&quot;: &quot;Gary Smith&quot;, &quot;unit_address&quot;: &quot;2557 Mountain Lodge Circle, Vestavia Hills, Alabama, 35216&quot;, &quot;unit_number&quot;: &quot;2557E&quot;, &quot;unit_type&quot;: null, &quot;agreement_date&quot;: &quot;2023-04-27&quot;, &quot;lease_start&quot;: null, &quot;lease_end&quot;: null, &quot;lease_auto_renew&quot;: null, &quot;hourly_rate&quot;: null, &quot;monthly_rent&quot;: null, &quot;prorated_rent&quot;: null, &quot;security_deposit&quot;: null, &quot;lease_rent&quot;: null, &quot;monthly_payment_breakdown&quot;: null, &quot;utility_charges&quot;: null&lt;unk&gt;&lt;/s&gt;                                                                                                                                                                                                                                                                                                                                                                                                                                                          </td><td>&lt;pad&gt; 1. DWELLING_UNIT_DESCRIPTION. Unit No. 2557E 2557 Mountain Lodge Circle (street address) in Vestavia Hills (city), Alabama, 35216.(zip code). 2. LEASE_CONTRACT_DESCRIPTION. Lease Contract Date: April 27, 2023 Owner&#x27;s name: Mountain BAL LLC Residents (list all residents): Gary Smith The term of this Addendum is as follows: Begins on and ends on This Addendum constitutes an Addendum to the above described Lease Contract for the above described premises, and is hereby incorporated into and made a part of such Lease Contract. 3. A. :unselected: NO APPROVED ANIMALS.&lt;/s&gt;                                                                                                                                                                                                                                                                                                                                                                                                                                                                                                                                                                                                                                                                                                                                                                                                                                                                                                                                                                                                                                                                                                                                                                                                                                                                                                                                                                                                                                                                                                                                                                                                                                                                                                                                                                                                                    </td></tr>\\n<tr><td style=\"text-align: right;\"> 14</td><td>&lt;unk&gt;&quot;tenant_name&quot;: &quot;Taylor Whittle&quot;, &quot;unit_address&quot;: null, &quot;unit_number&quot;: null, &quot;unit_type&quot;: null, &quot;agreement_date&quot;: &quot;2023-02-27&quot;, &quot;lease_start&quot;: &quot;2023-02-27&quot;, &quot;lease_end&quot;: null, &quot;lease_auto_renew&quot;: null, &quot;hourly_rate&quot;: null, &quot;monthly_rent&quot;: 847.0, &quot;prorated_rent&quot;: 30.25, &quot;security_deposit&quot;: null, &quot;lease_rent&quot;: 10164.0, &quot;monthly_payment_breakdown&quot;: null, &quot;utility_charges&quot;: &lt;unk&gt;&quot;water&quot;: 25.0, &quot;garbage&quot;: 0.0, &quot;pest_control&quot;: 2.0&lt;unk&gt;&lt;/s&gt;                                                                                                                                                                                                                                                                                                                                                                                                                                                 </td><td>&lt;pad&gt; Month, Rent, LateFee, LateFee, TotalRent, Month, Months, Rent, TotalRent, Months, Months, Months, Months, Months, Months, Months, Months, Months, Months, Months, Months, Months, Months, Months, Months, Months, Months, Months, Months, Months, Months, Months, Months, Months, Months, Months, Months, Months, Months, Months, Months, Months, Months, Months, Months, Months, Months, Months, Months, Months, Months, Months, Months, Months, Months, Months, Months, Months, Months, Months, Months, Months, Months, Months, Months, Months, Months, Months, Months, Months, Months, Months, Months, Months, Months, Months, Months, Months, Months, Months, Months, Months, Months, Months, Months, Months, Months, Months, Months, Months, Months, Months, Months, Months, Months, Months, Months, Months, Months, Months, Months, Months, Months, Months, Months, Months, Months, Months, Months, Months, Months, Months, Months, Months, Months, Months, Months, Months, Months, Months, Months, Months, Months, Months, Months, Months, Months, Months, Months, Months, Months, Months, Months, Months, Months, Months, Months, Months, Months, Months, Months, Months, Months, Months, Months, Months, Months, Months, Months, Months, Months, Months, Months, Months, Months, Months, Months, Months, Months, Months, Months, Months, Months, Months, Months, Months, Months, Months, Months, Months,                                                                                                                                                                                                                                                                                                                                                                                                                                                                                                                                                                                                                                                                                                                                                                                                                                                                                                                                                                                              </td></tr>\\n<tr><td style=\"text-align: right;\"> 15</td><td>&lt;unk&gt;&quot;tenant_name&quot;: null, &quot;unit_address&quot;: null, &quot;unit_number&quot;: null, &quot;unit_type&quot;: null, &quot;agreement_date&quot;: null, &quot;lease_start&quot;: null, &quot;lease_end&quot;: null, &quot;lease_auto_renew&quot;: null, &quot;hourly_rate&quot;: null, &quot;monthly_rent&quot;: null, &quot;prorated_rent&quot;: null, &quot;security_deposit&quot;: null, &quot;lease_rent&quot;: null, &quot;monthly_payment_breakdown&quot;: null, &quot;utility_charges&quot;: null&lt;unk&gt;&lt;/s&gt;                                                                                                                                                                                                                                                                                                                                                                                                                                                                                                                                     </td><td>&lt;pad&gt; Security Deposit, Compensate, Remedy, Repair, Damage, Damages, Damages, Damages, Damages, Damages, Damages, Damages, Damages, Damages, Damages, Damages, Damages, Damages, Damages, Damages, Damages, Damages, Damages, Damages, Damages, Damages, Damages, Damages, Damages, Damages, Damages, Damages, Damages, Damages, Damages, Damages, Damages, Damages, Damages, Damages, Damages, Damages, Damages, Damages, Damages, Damages, Damages, Damages, Damages, Damages, Damages, Damages, Damages, Damages, Damages, Damages, Damages, Damages, Damages, Damages, Damages, Damages, Damages, Damages, Damages, Damages, Damages, Damages, Damages, Damages, Damages, Damages, Damages, Damages, Damages, Damages, Damages, Damages, Damages, Damages, Damages, Damages, Damages, Damages, Damages, Damages, Damages, Damages, Damages, Damages, Damages, Damages, Damages, Damages, Damages, Damages, Damages, Damages, Damages, Damages, Damages, Damages, Damages, Damages, Damages, Damages, Damages, Damages, Damages, Damages, Damages, Damages, Damages, Damages, Damages, Damages, Damages, Damages, Damages, Damages, Damages, Damages, Damages, Damages, Damages, Damages, Damages, Damages, Damages, Damages, Damages, Damages, Damages, Damages, Damages, Damages, Damages, Damages, Damages, Damages, Damages, Damages, Damages, Damages, Damages, Damages, Damages, Damages, Damages, Damages, Damages, Damages, Damages, Damages, Damages, Damages, Damages, Damages, Damages, Damages, Damages, Damages, Damages, Damages, Damages, Damages, Damages, Damages, Damages, Damages, Damage                                                                                                                                                                                                                                                                                                                                                                                                                                                                                                                                                                                                                                                                                                                                                                                                      </td></tr>\\n<tr><td style=\"text-align: right;\"> 16</td><td>&lt;unk&gt;&quot;tenant_name&quot;: &quot;Ricquan M Moore&quot;, &quot;unit_address&quot;: null, &quot;unit_number&quot;: null, &quot;unit_type&quot;: null, &quot;agreement_date&quot;: null, &quot;lease_start&quot;: null, &quot;lease_end&quot;: null, &quot;lease_auto_renew&quot;: null, &quot;hourly_rate&quot;: null, &quot;monthly_rent&quot;: null, &quot;prorated_rent&quot;: null, &quot;security_deposit&quot;: null, &quot;lease_rent&quot;: null, &quot;monthly_payment_breakdown&quot;: null, &quot;utility_charges&quot;: null&lt;unk&gt;&lt;/s&gt;                                                                                                                                                                                                                                                                                                                                                                                                                                                                                                                        </td><td>&lt;pad&gt; &lt;unk&gt; &lt;unk&gt; &lt;unk&gt; &lt;unk&gt; &lt;unk&gt; &lt;unk&gt; &lt;unk&gt; &lt;unk&gt; &lt;unk&gt; &lt;unk&gt; &lt;unk&gt; &lt;unk&gt; &lt;unk&gt; &lt;unk&gt; &lt;unk&gt; &lt;unk&gt; &lt;unk&gt; &lt;unk&gt; &lt;unk&gt; &lt;unk&gt; &lt;unk&gt; &lt;unk&gt; &lt;unk&gt; &lt;unk&gt; &lt;unk&gt; &lt;unk&gt; &lt;unk&gt; &lt;unk&gt; &lt;unk&gt; &lt;unk&gt; &lt;unk&gt; &lt;unk&gt; &lt;unk&gt; &lt;unk&gt; &lt;unk&gt; &lt;unk&gt; &lt;unk&gt; &lt;unk&gt; &lt;unk&gt; &lt;unk&gt; &lt;unk&gt; &lt;unk&gt; &lt;unk&gt; &lt;unk&gt; &lt;unk&gt; &lt;unk&gt; &lt;unk&gt; &lt;unk&gt; &lt;unk&gt; &lt;unk&gt; &lt;unk&gt; &lt;unk&gt; &lt;unk&gt; &lt;unk&gt; &lt;unk&gt; &lt;unk&gt; &lt;unk&gt; &lt;unk&gt; &lt;unk&gt; &lt;unk&gt; &lt;unk&gt; &lt;unk&gt; &lt;unk&gt; &lt;unk&gt; &lt;unk&gt; &lt;unk&gt; &lt;unk&gt; &lt;unk&gt; &lt;unk&gt; &lt;unk&gt; &lt;unk&gt; &lt;unk&gt; &lt;unk&gt; &lt;unk&gt; &lt;unk&gt; &lt;unk&gt; &lt;unk&gt; &lt;unk&gt; &lt;unk&gt; &lt;unk&gt; &lt;unk&gt; &lt;unk&gt; &lt;unk&gt; &lt;unk&gt; &lt;unk&gt; &lt;unk&gt; &lt;unk&gt; &lt;unk&gt; &lt;unk&gt; &lt;unk&gt; &lt;unk&gt; &lt;unk&gt; &lt;unk&gt; &lt;unk&gt; &lt;unk&gt; &lt;unk&gt; &lt;unk&gt; &lt;unk&gt; &lt;unk&gt; &lt;unk&gt; &lt;unk&gt; &lt;unk&gt; &lt;unk&gt; &lt;unk&gt; &lt;unk&gt; &lt;unk&gt; &lt;unk&gt; &lt;unk&gt; &lt;unk&gt; &lt;unk&gt; &lt;unk&gt; &lt;unk&gt; &lt;unk&gt; &lt;unk&gt; &lt;unk&gt; &lt;unk&gt; &lt;unk&gt; &lt;unk&gt; &lt;unk&gt; &lt;unk&gt; &lt;unk&gt; &lt;unk&gt; &lt;unk&gt; &lt;unk&gt; &lt;unk&gt; &lt;unk&gt; &lt;unk&gt; &lt;unk&gt; &lt;unk&gt; &lt;unk&gt; &lt;unk&gt; &lt;unk&gt; &lt;unk&gt; &lt;unk&gt; &lt;unk&gt; &lt;unk&gt; &lt;unk&gt; &lt;unk&gt; &lt;unk&gt; &lt;unk&gt; &lt;unk&gt; &lt;unk&gt; &lt;unk&gt; &lt;unk&gt; &lt;unk&gt; &lt;unk&gt; &lt;unk&gt; &lt;unk&gt; &lt;unk&gt; &lt;unk&gt; &lt;unk&gt; &lt;unk&gt; &lt;unk&gt; &lt;unk&gt; &lt;unk&gt; &lt;unk&gt; &lt;unk&gt; &lt;unk&gt; &lt;unk&gt; &lt;unk&gt; &lt;unk&gt; &lt;unk&gt; &lt;unk&gt; &lt;unk&gt; &lt;unk&gt; &lt;unk&gt; &lt;unk&gt; &lt;unk&gt; &lt;unk&gt; &lt;unk&gt; &lt;unk&gt; &lt;unk&gt; &lt;unk&gt; &lt;unk&gt; &lt;unk&gt; &lt;unk&gt; &lt;unk&gt; &lt;unk&gt; &lt;unk&gt; &lt;unk&gt; &lt;unk&gt; &lt;unk&gt; &lt;unk&gt; &lt;unk&gt; &lt;unk&gt; &lt;unk&gt; &lt;unk&gt; &lt;unk&gt; &lt;unk&gt; &lt;unk&gt; &lt;unk&gt; &lt;unk&gt; &lt;unk&gt; &lt;unk&gt; &lt;unk&gt; &lt;unk&gt; &lt;unk&gt; &lt;unk&gt; &lt;unk&gt; &lt;unk&gt; &lt;unk&gt; &lt;unk&gt; &lt;unk&gt; &lt;unk&gt; &lt;unk&gt; &lt;unk&gt; &lt;unk&gt; &lt;unk&gt; &lt;unk&gt; &lt;unk&gt; &lt;unk&gt; &lt;unk&gt; &lt;unk&gt; &lt;unk&gt; &lt;unk&gt; &lt;unk&gt; &lt;unk&gt; &lt;unk&gt; &lt;unk&gt; &lt;unk&gt; &lt;unk&gt; &lt;unk&gt; &lt;unk&gt; &lt;unk&gt; &lt;unk&gt; &lt;unk&gt; &lt;unk&gt; &lt;unk&gt; &lt;unk&gt; &lt;unk&gt; &lt;unk&gt; &lt;unk&gt; &lt;unk&gt; &lt;unk&gt; &lt;unk&gt; &lt;unk&gt; &lt;unk&gt; &lt;unk&gt; &lt;unk&gt; &lt;unk&gt; &lt;unk&gt; &lt;unk&gt; &lt;unk&gt; &lt;unk&gt; &lt;unk&gt; &lt;unk&gt; &lt;unk&gt; &lt;unk&gt; &lt;unk&gt; &lt;unk&gt; &lt;unk&gt; &lt;unk&gt; &lt;unk&gt; &lt;unk&gt; &lt;unk&gt; &lt;unk&gt;                                                                                                                                                                                                                                                                                                                                                                                                                                                                                                                                                                                                                                                                                                                                                                                                                </td></tr>\\n<tr><td style=\"text-align: right;\"> 17</td><td>&lt;unk&gt;&quot;tenant_name&quot;: null, &quot;unit_address&quot;: null, &quot;unit_number&quot;: null, &quot;unit_type&quot;: null, &quot;agreement_date&quot;: null, &quot;lease_start&quot;: null, &quot;lease_end&quot;: null, &quot;lease_auto_renew&quot;: null, &quot;hourly_rate&quot;: null, &quot;monthly_rent&quot;: null, &quot;prorated_rent&quot;: null, &quot;security_deposit&quot;: null, &quot;lease_rent&quot;: null, &quot;monthly_payment_breakdown&quot;: null, &quot;utility_charges&quot;: null&lt;unk&gt;&lt;/s&gt;                                                                                                                                                                                                                                                                                                                                                                                                                                                                                                                                     </td><td>&lt;pad&gt; Casualty Loss, During freezing weather, You, You, You, You, You, You, You, You, You, You, You, You, You, You, You, You, You, You, You, You, You, You, You, You, You, You, You, You, You, You, You, You, You, You, You, You, You, You, You, You, You, You, You, You, You, You, You, You, You, You, You, You, You, You, You, You, You, You, You, You, You, You, You, You, You, You, You, You, You, You, You, You, You, You, You, You, You, You, You, You, You, You, You, You, You, You, You, You, You, You, You, You, You, You, You, You, You, You, You, You, You, You, You, You, You, You, You, You, You, You, You, You, You, You, You, You, You, You, You, You, You, You, You, You, You, You, You, You, You, You, You, You, You, You, You, You, You, You, You, You, You, You, You, You, You, You, You, You, You, You, You, You, You, You, You, You, You, You, You, You, You, You, You, You, You, You, You, You, You, You, You, You, You, You, You, You, You, You, You, You, You, You, You, You, You, You, You, You, You, You, You, You, You, You, You, You, You, You, You, You, You, You, You, You, You, You, You, You, You, You, You, You, You, You, You, You, You, You, You, You, You, You, You, You, You, You, You, You, You, You, You, You, You, You, You, You, You, You, You, You, You, You, You, You, You, You, You, You, You, You, You                                                                                                                                                                                                                                                                                                                                                                                                                                                                                                                                                                                                                                                                                                                                                                                                                                                                                                                                                                                                                                                                  </td></tr>\\n<tr><td style=\"text-align: right;\"> 18</td><td>&lt;unk&gt;&quot;tenant_name&quot;: null, &quot;unit_address&quot;: null, &quot;unit_number&quot;: null, &quot;unit_type&quot;: null, &quot;agreement_date&quot;: null, &quot;lease_start&quot;: null, &quot;lease_end&quot;: null, &quot;lease_auto_renew&quot;: null, &quot;hourly_rate&quot;: null, &quot;monthly_rent&quot;: null, &quot;prorated_rent&quot;: null, &quot;security_deposit&quot;: null, &quot;lease_rent&quot;: null, &quot;monthly_payment_breakdown&quot;: null, &quot;utility_charges&quot;: null&lt;unk&gt;&lt;/s&gt;                                                                                                                                                                                                                                                                                                                                                                                                                                                                                                                                     </td><td>&lt;pad&gt; &lt;unk&gt; LESSEES_RESPONSIBILITY_AND_COSTS_TO_COVER_THE_INCOME_OF_THE_ANIMALS, if we allow an animal of any kind, you must sign a separate animal addendum, post a non-refundable animal deposit and pay pet rent in the amount to be determined by the LESSOR. We will authorize a service or companion animal for a disabled person but may require a written statement from a qualified professional verifying the need for the service animal. If you or any guest or occupant violates animal restrictions, you will be subject to charges, damages, and/or eviction, and such other remedies provided in this lease. If an animal has been in the residence at any time during your term of occupancy (with or without our consent), we&#x27;ll charge you for all necessary cleaning including but not limited to de-fleaing, deodorizing, and carpet shampooing. Initial and daily animal violation charges and animal-removal charges are liquidated damages for our inconvenience and overhead (except for attorney&#x27;s fees and litigation costs) in enforcing animal restrictions and rules. SM INITIALS LESSEE also agrees to carry insurance deemed appropriate by OWNER tBcover possible liability and damages that may be caused by such animals, if we allow an animal. SM INITIALS If the animal is creating a nuisance or damaging property, and LESSEE is unavailable or refuses to correct the problem, the LESSOR may keep of kennel the animal or turn the animal over to local animal control authorities at LESSEES expense. SM INITIALS LESSEEs are responsible for the pets of guests who visit their unit.&lt;/s&gt;                                                                                                                                                                                                                                                                                                                                                                                                                                                                                                                                                                                                                                                                                                                                                                                </td></tr>\\n<tr><td style=\"text-align: right;\"> 19</td><td>&lt;unk&gt;&quot;tenant_name&quot;: null, &quot;unit_address&quot;: null, &quot;unit_number&quot;: null, &quot;unit_type&quot;: null, &quot;agreement_date&quot;: null, &quot;lease_start&quot;: null, &quot;lease_end&quot;: null, &quot;lease_auto_renew&quot;: null, &quot;hourly_rate&quot;: null, &quot;monthly_rent&quot;: null, &quot;prorated_rent&quot;: null, &quot;security_deposit&quot;: null, &quot;lease_rent&quot;: null, &quot;monthly_payment_breakdown&quot;: null, &quot;utility_charges&quot;: null&lt;unk&gt;&lt;/s&gt;                                                                                                                                                                                                                                                                                                                                                                                                                                                                                                                                     </td><td>&lt;pad&gt; &quot;, &quot;type&quot;: [ &quot;string&quot;, &quot;null&quot; ], &quot;description&quot;: &quot;The date when the lease ends, found in the OCR text.&quot; &lt;unk&gt;, &quot;lease_start&quot;: &lt;unk&gt; &quot;type&quot;: [ &quot;string&quot;, &quot;null&quot; ], &quot;format&quot;: &quot;date&quot; ], &quot;description&quot;: &quot;The date when the lease starts, found in the OCR text.&quot; &lt;unk&gt;, &quot;lease_end&quot;: &lt;unk&gt; &quot;type&quot;: [ &quot;string&quot;, &quot;null&quot; ], &quot;description&quot;: &quot;The date when the lease ends, found in the OCR text.&quot;&lt;/s&gt;                                                                                                                                                                                                                                                                                                                                                                                                                                                                                                                                                                                                                                                                                                                                                                                                                                                                                                                                                                                                                                                                                                                                                                                                                                                                                                                                                                                                                                                                                                                                                                                                                                                                                                                                                                                                                                                                                                                                                                                                                 </td></tr>\\n<tr><td style=\"text-align: right;\"> 20</td><td>&lt;unk&gt;&quot;tenant_name&quot;: null, &quot;unit_address&quot;: null, &quot;unit_number&quot;: null, &quot;unit_type&quot;: null, &quot;agreement_date&quot;: null, &quot;lease_start&quot;: null, &quot;lease_end&quot;: null, &quot;lease_auto_renew&quot;: null, &quot;hourly_rate&quot;: null, &quot;monthly_rent&quot;: null, &quot;prorated_rent&quot;: null, &quot;security_deposit&quot;: null, &quot;lease_rent&quot;: null, &quot;monthly_payment_breakdown&quot;: null, &quot;utility_charges&quot;: &lt;unk&gt;&quot;gas&quot;: null, &quot;water&quot;: null, &quot;sewer&quot;: null, &quot;electricity&quot;: null, &quot;waste removal&quot;: null&lt;unk&gt;&lt;/s&gt;                                                                                                                                                                                                                                                                                                                                                                                                                                               </td><td>&lt;pad&gt; Lessor, CRIMINAL_ACTIVITY, if, during, or its, subsequent, renewals, Lessee or any regular occupant of leased premises is charged with an offense which may result in a felony conviction or which constitutes a crime against a person, or which involves use, manufacture or distribution of illegal drugs, Lessor may at his option terminate this lease, and seek such other remedies as may be available by law. By signing this lease, tenant agrees to this policy. 32. PARKING. Tenant is permitted to park one (1) vehicle only in the parking space provided next to the apartment. This includes vehicles owned by Occupants Other Than Tenant and any visiting guests. Any vehicles found parked in front (by the door) or behind (on the grass or dirt) or in excess of one (1) in number will be towed at the vehicle owner&#x27;s expense without warning. Any damages from the result of parking in undesignated parking areas (landscaping, underground utilities including, water, sewer, electric, etc.) will be repaired at tenant expense. By signing this lease, tenant agrees to this policy.&lt;/s&gt;                                                                                                                                                                                                                                                                                                                                                                                                                                                                                                                                                                                                                                                                                                                                                                                                                                                                                                                                                                                                                                                                                                                                                                                                                                                                                            </td></tr>\\n<tr><td style=\"text-align: right;\"> 21</td><td>&lt;unk&gt;&quot;tenant_name&quot;: null, &quot;unit_address&quot;: null, &quot;unit_number&quot;: null, &quot;unit_type&quot;: null, &quot;agreement_date&quot;: null, &quot;lease_start&quot;: null, &quot;lease_end&quot;: null, &quot;lease_auto_renew&quot;: null, &quot;hourly_rate&quot;: null, &quot;monthly_rent&quot;: null, &quot;prorated_rent&quot;: null, &quot;security_deposit&quot;: null, &quot;lease_rent&quot;: null, &quot;monthly_payment_breakdown&quot;: null, &quot;utility_charges&quot;: null&lt;unk&gt;&lt;/s&gt;                                                                                                                                                                                                                                                                                                                                                                                                                                                                                                                                     </td><td>&lt;pad&gt; DAAF OLD!, EPA, United States Environmental Protection Agency, United States Consumer Product Safety Commission, DEPA, AND UR * USING L + MENT D, United States Department of Housing and Urban Development&lt;/s&gt;                                                                                                                                                                                                                                                                                                                                                                                                                                                                                                                                                                                                                                                                                                                                                                                                                                                                                                                                                                                                                                                                                                                                                                                                                                                                                                                                                                                                                                                                                                                                                                                                                                                                                                                                                                                                                                                                                                                                                                                                                                                                                                                                                                                                </td></tr>\\n<tr><td style=\"text-align: right;\"> 22</td><td>&lt;unk&gt;&quot;tenant_name&quot;: null, &quot;unit_address&quot;: null, &quot;unit_number&quot;: null, &quot;unit_type&quot;: null, &quot;agreement_date&quot;: null, &quot;lease_start&quot;: null, &quot;lease_end&quot;: null, &quot;lease_auto_renew&quot;: null, &quot;hourly_rate&quot;: null, &quot;monthly_rent&quot;: null, &quot;prorated_rent&quot;: null, &quot;security_deposit&quot;: null, &quot;lease_rent&quot;: null, &quot;monthly_payment_breakdown&quot;: null, &quot;utility_charges&quot;: null&lt;unk&gt;&lt;/s&gt;                                                                                                                                                                                                                                                                                                                                                                                                                                                                                                                                     </td><td>&lt;pad&gt; &lt;unk&gt; 22. NOTICE TO TENANT. THIS LEASE CONTAINS WAIVERS OF CONSUMER RIGHTS. TENANT WAIVES CERTAIN RIGHTS BY SIGNING THIS LEASE. 23. NO JURY TRIAL. Landlord and Tenant waive and give up any right to any jury trial for any claim or matter concerning this Lease or the Leased Unit. 24. BANKRUPTCY. If Tenant files a petition in bankruptcy, rent and charges will be prorated for the month in which the bankruptcy petition is filed. The rent for the remainder of that month (prorated) is due and payable within two (2) days after the filing of the petition in bankruptcy. This paragraph does not change any other rights or obligations of Tenant. 25. INCORRECT INFORMATION IN APPLICATION. If Tenant provided incorrect information in the Application, it is a breach of this Lease. Landlord may end this Lease and/or sue Tenant for possession and/or any losses or money damages if the Application contained incorrect information. 26. JOINT AND SEVERAL. Each person who signs this Lease is fully responsible to do what is stated in the Lease. Each signer is responsible to pay the rent in full. 27. NOTICE TO CO-SIGNERS/GUARANTORS. Landlord has the right but not the obligation to contact any co-signer/guarantor and/or to provide notice to any co-signer/guarantor of any breach of this Lease by Tenant. 28. ADDITIONAL RENT. All payments due under this Lease are either rent (paragraph 3) or additional rent. 29. ADDITIONAL TERMS AND CONTITIONS. The Rules and Regulations that are attached are part of this Lease. Violation of any of the &quot;Rules and Regulations&quot; is a breach of this Lease.&lt;/s&gt;                                                                                                                                                                                                                                                                                                                                                                                                                                                                                                                                                                                                                                                                                                                                                                </td></tr>\\n<tr><td style=\"text-align: right;\"> 23</td><td>&lt;unk&gt;&quot;tenant_name&quot;: null, &quot;unit_address&quot;: null, &quot;unit_number&quot;: null, &quot;unit_type&quot;: null, &quot;agreement_date&quot;: null, &quot;lease_start&quot;: &quot;2023-07-01&quot;, &quot;lease_end&quot;: &quot;2024-09-30&quot;, &quot;lease_auto_renew&quot;: &quot;12-month lease&quot;, &quot;hourly_rate&quot;: null, &quot;monthly_rent&quot;: 1400.0, &quot;prorated_rent&quot;: 46.0, &quot;security_deposit&quot;: null, &quot;lease_rent&quot;: null, &quot;monthly_payment_breakdown&quot;: null, &quot;utility_charges&quot;: &lt;unk&gt;&quot;utility_charge&quot;: null&lt;unk&gt;&lt;/s&gt;                                                                                                                                                                                                                                                                                                                                                                                                                                                                                </td><td>&lt;pad&gt; &lt;unk&gt; DOCUSIGNEVEL_ID: 7C1DBD69-95D2-41C3-ACDE-B64B897C3FEC Rev 10 22 persons who wish to reside on the premises must be named in this paragraph, be submitted to our screening and application process and, if over age 18, sign this lease. If any adults occupy the premises other than those listed herein, the LESSOR shall have the option of pursuing any remedies allowed by law, including terminating the lease, or increasing the rent in the amount of $ 1.400.00per additional adult. The provisions of this paragraph do not apply to the LESSEES minor children except that the total number of persons occupying the premises shall not exceed two per bedroom. (Sec. 441.060, R.S. Mo.) Upon request by the LESSOR, the LESSEE shall provide satisfactory proof of his familial relationship to other occupants of the premises or the name and address of any person visiting or temporarily residing on the premises. The LESSOR is not obliged to allow any other person access to the premises without the LESSEEs written instructions. 3. PREMISES, INITIAL TERM, AND RENEWAL. LESSOR does hereby lease to the LESSEE in its present condition the previously described premises for the initial term beginning 7/01/2023 and ending at 9/30/2024 midnight UNLESS terminated by either party in writing at least 60 days PRIOR to the expiration of the initial or successive terms. LESSEE shall deliver peaceful possession of unit to LESSOR upon termination hereof for any reason. If the LESSEE remains on the premises after the term of the lease it automatically renews into a 12-month lease and all terms of lease shall remain in effect. LESSEE must provide written notice of vacating 60 days in advance. 4. RENT, LATE CHAR&lt;/s&gt;                                                                                                                                                                                                                                                                                                                                                                                                                                                                                                                                                                                                                                        </td></tr>\\n<tr><td style=\"text-align: right;\"> 24</td><td>&lt;unk&gt;&quot;tenant_name&quot;: null, &quot;unit_address&quot;: &quot;333 H Street, Ste. 5000, Chula Vista, CA 91910&quot;, &quot;unit_number&quot;: null, &quot;unit_type&quot;: null, &quot;agreement_date&quot;: null, &quot;lease_start&quot;: null, &quot;lease_end&quot;: &quot;2024-03-31&quot;, &quot;lease_auto_renew&quot;: null, &quot;hourly_rate&quot;: null, &quot;monthly_rent&quot;: 3350.0, &quot;prorated_rent&quot;: 2121.67, &quot;security_deposit&quot;: 2500.0, &quot;lease_rent&quot;: null, &quot;monthly_payment_breakdown&quot;: &lt;unk&gt;&quot;Liability to Landlord Insurance&quot;: 9.5, &quot;Admin Fee - Liability to Landlord Insurance&quot;: 3.0, &quot;Rent Income&quot;: 3350.0, &quot;Total&quot;: 3362.5&lt;unk&gt;, &quot;utility_charges&quot;: null&lt;unk&gt;&lt;/s&gt;                                                                                                                                                                                                                                                                                                                                  </td><td>&lt;pad&gt; MONTHLY_CHARGES, AdminFee, LiabilityToLandlord, RentIncome, Total, PRORATED_RENT, ADDITIONAL_CHARGES, LATE_CHARGE, SECURITY_DEPOSIT, PAYMENT_INSTRUCTIONS, 333H_STREET, STE. 5000, Chula Vista, CA 91910, (888)557-HEET (4338), &lt;unk&gt;&lt;/s&gt;                                                                                                                                                                                                                                                                                                                                                                                                                                                                                                                                                                                                                                                                                                                                                                                                                                                                                                                                                                                                                                                                                                                                                                                                                                                                                                                                                                                                                                                                                                                                                                                                                                                                                                                                                                                                                                                                                                                                                                                                                                                                                                                                                                      </td></tr>\\n<tr><td style=\"text-align: right;\"> 25</td><td>&lt;unk&gt;&quot;tenant_name&quot;: &quot;Saray Ramos Gutierrez&quot;, &quot;unit_address&quot;: &quot;5010 N. 22nd Ave Phoenix 85015 Arizona&quot;, &quot;unit_number&quot;: &quot;100&quot;, &quot;unit_type&quot;: &quot;furnished unfurnished apartment&quot;, &quot;agreement_date&quot;: &quot;2021-11-01&quot;, &quot;lease_start&quot;: &quot;2021-11-01&quot;, &quot;lease_end&quot;: &quot;2022-10-31&quot;, &quot;lease_auto_renew&quot;: &quot;month-to-month&quot;, &quot;hourly_rate&quot;: null, &quot;monthly_rent&quot;: 1813.0, &quot;prorated_rent&quot;: null, &quot;security_deposit&quot;: 1300.0, &quot;lease_rent&quot;: 21756.0, &quot;monthly_payment_breakdown&quot;: &lt;unk&gt;&quot;Rent&quot;: 1813.0, &quot;City Sales Tax&quot;: 41.69, &quot;Utility Income (RUBS)&quot;: 100.0, &quot;TOTAL MONTHLY RENT&quot;: 1954.69&lt;unk&gt;, &quot;utility_charges&quot;: &lt;unk&gt;&quot;Natural Gas&quot;: null, &quot;Electricity&quot;: null, &quot;Water, sewer, trash&quot;: null&lt;unk&gt;&lt;/s&gt;                                                                                                                                                                                                                   </td><td>&lt;pad&gt; MONTHLY RENTAL OTHER CHARGES AND DEPOSIT(S) Security Deposit $ 1300 CHARGES Rent $1813.00 Pet Deposit $ n/a (Does not apply to assistance animals) Pet Rent $ or (Does not apply to assistive animals) City Sales Tax $41.69 (Applicable rate subject to change during lease term) Subtotal $ 1,854.69 Utility Income (RUBS) $ 100 or Adm. Fees $ n/a UTILITIES: Natural Gas Paid by: Resident Electricity Paid by: Resident Other WATER_, sewer, trashPaid by: Resident V (RUBS program in place, subject to change) TOTAL MONTHLY RENT $ 1.954.69 OTHER TERMS AND CONDIT&lt;/s&gt;                                                                                                                                                                                                                                                                                                                                                                                                                                                                                                                                                                                                                                                                                                                                                                                                                                                                                                                                                                                                                                                                                                                                                                                                                                                                                                                                                                                                                                                                                                                                                                                                                                                                                                                                                                                                                                 </td></tr>\\n<tr><td style=\"text-align: right;\"> 26</td><td>&lt;unk&gt;&quot;tenant_name&quot;: null, &quot;unit_address&quot;: null, &quot;unit_number&quot;: null, &quot;unit_type&quot;: null, &quot;agreement_date&quot;: null, &quot;lease_start&quot;: null, &quot;lease_end&quot;: null, &quot;lease_auto_renew&quot;: null, &quot;hourly_rate&quot;: null, &quot;monthly_rent&quot;: 875.0, &quot;prorated_rent&quot;: null, &quot;security_deposit&quot;: null, &quot;lease_rent&quot;: null, &quot;monthly_payment_breakdown&quot;: &lt;unk&gt;&quot;Rent&quot;: 850.0, &quot;Pet Rent&quot;: 0.0, &quot;RUBS&quot;: 25.0, &quot;Parking&quot;: 0.0&lt;unk&gt;, &quot;utility_charges&quot;: null&lt;unk&gt;&lt;/s&gt;                                                                                                                                                                                                                                                                                                                                                                                                                                                                  </td><td>&lt;pad&gt; OCR text&quot;&lt;/s&gt;                                                                                                                                                                                                                                                                                                                                                                                                                                                                                                                                                                                                                                                                                                                                                                                                                                                                                                                                                                                                                                                                                                                                                                                                                                                                                                                                                                                                                                                                                                                                                                                                                                                                                                                                                                                                                                                                                                                                                                                                                                                                                                                                                                                                                                                                                                                                                                                                  </td></tr>\\n<tr><td style=\"text-align: right;\"> 27</td><td>&lt;unk&gt;&quot;tenant_name&quot;: null, &quot;unit_address&quot;: null, &quot;unit_number&quot;: null, &quot;unit_type&quot;: null, &quot;agreement_date&quot;: null, &quot;lease_start&quot;: null, &quot;lease_end&quot;: null, &quot;lease_auto_renew&quot;: null, &quot;hourly_rate&quot;: null, &quot;monthly_rent&quot;: 2074.0, &quot;prorated_rent&quot;: 1404.97, &quot;security_deposit&quot;: null, &quot;lease_rent&quot;: null, &quot;monthly_payment_breakdown&quot;: null, &quot;utility_charges&quot;: null&lt;unk&gt;&lt;/s&gt;                                                                                                                                                                                                                                                                                                                                                                                                                                                                                                                                </td><td>&lt;pad&gt; &lt;unk&gt; Any security deposit or advance rent you paid is being held in one of the following three ways as indicated below [Landlord check one option]: X&lt;/s&gt;                                                                                                                                                                                                                                                                                                                                                                                                                                                                                                                                                                                                                                                                                                                                                                                                                                                                                                                                                                                                                                                                                                                                                                                                                                                                                                                                                                                                                                                                                                                                                                                                                                                                                                                                                                                                                                                                                                                                                                                                                                                                                                                                                                                                                                                     </td></tr>\\n<tr><td style=\"text-align: right;\"> 28</td><td>&lt;unk&gt;&quot;tenant_name&quot;: null, &quot;unit_address&quot;: null, &quot;unit_number&quot;: null, &quot;unit_type&quot;: null, &quot;agreement_date&quot;: null, &quot;lease_start&quot;: &quot;2023-07-25&quot;, &quot;lease_end&quot;: &quot;2024-08-31&quot;, &quot;lease_auto_renew&quot;: &quot;12-month lease&quot;, &quot;hourly_rate&quot;: null, &quot;monthly_rent&quot;: 1200.0, &quot;prorated_rent&quot;: 288.0, &quot;security_deposit&quot;: null, &quot;lease_rent&quot;: 15750.0, &quot;monthly_payment_breakdown&quot;: &lt;unk&gt;&quot;rent&quot;: 1200.0, &quot;community charge&quot;: 75.0&lt;unk&gt;, &quot;utility_charges&quot;: null&lt;unk&gt;&lt;/s&gt;                                                                                                                                                                                                                                                                                                                                                                                                                                                     </td><td>&lt;pad&gt; &lt;unk&gt; DOCUSIGNEVEL_ID: 060DFDED-7A8C-48F3-88ED-4B88F3943AD4 Rev 10 22 persons who wish to reside on the premises must be named in this paragraph, be submitted to our screening and application process and, if over age 18, sign this lease. If any adults occupy the premises other than those listed herein, the LESSOR shall have the option of pursuing any remedies allowed by law, including terminating the lease, or increasing the rent in the amount of $ 1200.00 per additional adult. The provisions of this paragraph do not apply to the LESSEES minor children except that the total number of persons occupying the premises shall not exceed two per bedroom. (Sec. 441.060, R.S. Mo.) Upon request by the LESSOR, the LESSEE shall provide satisfactory proof of his familial relationship to other occupants of the premises or the name and address of any person visiting or temporarily residing on the premises. The LESSOR is not obliged to allow any other person access to the premises without the LESSEEs written instructions. 3. PREMISES, INITIAL TERM, AND RENEWAL. LESSOR does hereby lease to the LESSEE in its present condition the previously described premises for the initial term beginning 7/25/2023 and ending at 8/31/2024 midnight UNLESS terminated by either party in writing at least 60 days PRIOR to the expiration of the initial or successive terms. LESSEE shall deliver peaceful possession of unit to LESSOR upon termination hereof for any reason. If the LESSEE remains on the premises after the term of the lease it automatically renews into a 12-month lease and all terms of lease shall remain in effect. LESSEE must provide written notice of vacating 60 days in advance. 4. RENT, LATE CHARGES AND&lt;/s&gt;                                                                                                                                                                                                                                                                                                                                                                                                                                                                                                                                                                                                                                 </td></tr>\\n<tr><td style=\"text-align: right;\"> 29</td><td>&lt;unk&gt;&quot;tenant_name&quot;: &quot;Alisher Rakhmonov&quot;, &quot;unit_address&quot;: null, &quot;unit_number&quot;: null, &quot;unit_type&quot;: null, &quot;agreement_date&quot;: null, &quot;lease_start&quot;: &quot;2022-03-27&quot;, &quot;lease_end&quot;: &quot;2037-03-27&quot;, &quot;lease_auto_renew&quot;: null, &quot;hourly_rate&quot;: null, &quot;monthly_rent&quot;: null, &quot;prorated_rent&quot;: null, &quot;security_deposit&quot;: null, &quot;lease_rent&quot;: null, &quot;monthly_payment_breakdown&quot;: null, &quot;utility_charges&quot;: null&lt;unk&gt;&lt;/s&gt;                                                                                                                                                                                                                                                                                                                                                                                                                                                                                                      </td><td>&lt;pad&gt; &lt;unk&gt; Ocean Drive &lt;unk&gt; 421-A PROVIDES THAT THE APARTMENT WILL BE SUBJECT TO THE RSL FOR FIFTEEN (15) YEARS, AND, UNLESS THE PRESENT LAWS ARE CHANGED, THE APARTMENT WILL ALSO BE SUBJECT TO STANDARD RENT INCREASES ON LEASE RENEWALS DURING SAID FIFTEEN (15) YEAR PERIOD, AS APPROVED BY THE RENT GUIDELINES BOARD. ANY INCREASES GRANTED BY THE RENT GUIDELINES BOARD SHALL BE MADE TO THE RENT SHOWN IN THE ORIGINAL LEASE OR THE MOST RECENT LEASE RENEWAL NOTICE AS APPLICABLE. OWNER IN GOOD FAITH BELIEVES THAT THE &lt;unk&gt; 421-A TAX BENEFITS WILL EXPIRE ON OR ABOUT JUNE 30, 2035. AFTER SUCH DATE, THE APARTMENT WILL NOT BE REGULATED AS TO THE AMOUNT OF RENT THAT MAY BE CHARGED FOR THE APARTMENT NOR WILL THE OWNER BE LEGALLY OBLIGATED TO RENEW THE LEASE. IF THE OWNER SHOULD ELECT TO RENEW THE LEASE AT THAT TIME, THE OWNER WILL NOT BE LEGALLY BOUND BY ANY GOVERNMENTAL RENT GUIDELINES AND MAY CHARGE AN UNREGULATED RENT. TENANT ACKNOWLEDGES THAT HE OR SHE HAS BEEN INFORMED OF OWNER&#x27;S RIGHT TO INCLUDE THIS PROVISION IN THE LEASE. II. YOUR CONFIRMATION&lt;/s&gt;                                                                                                                                                                                                                                                                                                                                                                                                                                                                                                                                                                                                                                                                                                                                                                                                                                                                                                                                                                                                                                                                                                                                                                                                                                                                                                                    </td></tr>\\n<tr><td style=\"text-align: right;\"> 30</td><td>&lt;unk&gt;&quot;tenant_name&quot;: null, &quot;unit_address&quot;: &quot;8230 Monroe Dr.&quot;, &quot;unit_number&quot;: &quot;B&quot;, &quot;unit_type&quot;: null, &quot;agreement_date&quot;: null, &quot;lease_start&quot;: null, &quot;lease_end&quot;: null, &quot;lease_auto_renew&quot;: null, &quot;hourly_rate&quot;: null, &quot;monthly_rent&quot;: null, &quot;prorated_rent&quot;: null, &quot;security_deposit&quot;: 525.0, &quot;lease_rent&quot;: null, &quot;monthly_payment_breakdown&quot;: null, &quot;utility_charges&quot;: null&lt;unk&gt;&lt;/s&gt;                                                                                                                                                                                                                                                                                                                                                                                                                                                                                                                        </td><td>&lt;pad&gt; INTIALS BM DS 6.&lt;/s&gt;                                                                                                                                                                                                                                                                                                                                                                                                                                                                                                                                                                                                                                                                                                                                                                                                                                                                                                                                                                                                                                                                                                                                                                                                                                                                                                                                                                                                                                                                                                                                                                                                                                                                                                                                                                                                                                                                                                                                                                                                                                                                                                                                                                                                                                                                                                                                                                                           </td></tr>\\n<tr><td style=\"text-align: right;\"> 31</td><td>&lt;unk&gt;&quot;tenant_name&quot;: &quot;Ricquan Moore&quot;, &quot;unit_address&quot;: &quot;7608 Pinery Way, Tampa, FL 33615&quot;, &quot;unit_number&quot;: &quot;02H&quot;, &quot;unit_type&quot;: null, &quot;agreement_date&quot;: &quot;2023-04-18&quot;, &quot;lease_start&quot;: &quot;2023-04-28&quot;, &quot;lease_end&quot;: &quot;2024-04-27&quot;, &quot;lease_auto_renew&quot;: &quot;month-to-month&quot;, &quot;hourly_rate&quot;: null, &quot;monthly_rent&quot;: null, &quot;prorated_rent&quot;: null, &quot;security_deposit&quot;: null, &quot;lease_rent&quot;: null, &quot;monthly_payment_breakdown&quot;: null, &quot;utility_charges&quot;: null&lt;unk&gt;&lt;/s&gt;                                                                                                                                                                                                                                                                                                                                                                                                                                                       </td><td>&lt;pad&gt; 1. PARTIES. Ricquan Moore and us, the owner: Meridian Luxury Condominiums (name of apartment community or title holder). You&#x27;ve agreed to rent Apartment No. 02H at 7608 PINERY WAY (street address) in Tampa (city), Florida,.... 33615.(zip code) (the &quot;dwelling unit&quot; or the &quot;premises&quot;) for use as a private residence only. The terms &quot;you&quot; and &quot;your&quot; refer to all residents listed above. The terms &quot;we,&quot; &quot;us,&quot; and &quot;our&quot; refer to the owner listed above (or any of owner&#x27;s successors&#x27; in interest or assigns). Written or electronic notice to or from our managers constitutes notice to or from us. If anyone else has guaranteed performance of this Lease Contract, a separate Lease Contract Guaranty for each guarantor is attached. The :unselected: Owner or X Manager of these apartments is LPC :selected: Southeast I, Inc. whose address is 7605 Pinery Way, Tampa, FL 33615 Such person or company is authorized to receive notices and demands in the landlord&#x27;s behalf. A lease termination notice must be given in writing. Notice to the landlord must be delivered to the management office at the apartment community or any other address designated by management as follows: 7605 Pinery Way, Tampa, FL 33615 Notice to the tenant must be delivered to the Resident&#x27;s address&lt;/s&gt;                                                                                                                                                                                                                                                                                                                                                                                                                                                                                                                                                                                                                                                                                                                                                                                                                                                                                                                                                                                                                                                                                             </td></tr>\\n<tr><td style=\"text-align: right;\"> 32</td><td>&lt;unk&gt;&quot;tenant_name&quot;: null, &quot;unit_address&quot;: null, &quot;unit_number&quot;: null, &quot;unit_type&quot;: null, &quot;agreement_date&quot;: null, &quot;lease_start&quot;: null, &quot;lease_end&quot;: null, &quot;lease_auto_renew&quot;: null, &quot;hourly_rate&quot;: null, &quot;monthly_rent&quot;: null, &quot;prorated_rent&quot;: null, &quot;security_deposit&quot;: null, &quot;lease_rent&quot;: null, &quot;monthly_payment_breakdown&quot;: null, &quot;utility_charges&quot;: null&lt;unk&gt;&lt;/s&gt;                                                                                                                                                                                                                                                                                                                                                                                                                                                                                                                                     </td><td>&lt;pad&gt; Tenant, Smoking, Smoking of tobacco and/or other legal substances, Smoking of illegal substance, Smoking of tobacco and/or other legal substances, Smoking of tobacco and/or other legal substances, Smoking of tobacco and/or other legal substances, Smoking of tobacco and/or other legal substances, Smoking of tobacco and/or other legal substances, Smoking of tobacco and/or other legal substances, Smoking of tobacco and/or other legal substances, Smoking of tobacco and/or other legal substances, Smoking of tobacco and/or other legal substances, Smoking of tobacco and/or other legal substances, Smoking of tobacco and/or other legal substances, Smoking of tobacco and/or other legal substances, Smoking of tobacco and/or other legal substances, Smoking of tobacco and/or other legal substances, Smoking of tobacco and/or other legal substances, Smoking of tobacco and/or other legal substances, Smoking of tobacco and/or other legal substances, Smoking of tobacco and/or other legal substances, Smoking of tobacco and/or other legal substances, Smoking of tobacco and/or other legal substances, Smoking of tobacco and/or other legal substances, Smoking of tobacco and/or other legal substances, Smoking of tobacco and/or other legal substances, Smoking of tobacco and/or other legal substances, Smoking of tobacco and/or other legal substances, Smoking of tobacco and/or other legal substances, Smoking of tobacco and/or other legal substances, Smoking of tobacco and/or other legal substances, Smoking of tobacco and/or other legal substances, Smoking of tobacco and/or other legal substances, Smoking of tobacco and/or other legal substances, Smoking of tobacco and/or other legal substances, Smoking of tobacco and/or other legal substances, Smoking of tobacco and/or other legal substances, Smoking of tobacco and/or other legal substances, Smoking of tobacco and/or other legal substances, Smoking of tobacco and/or other legal substances, Smoking of tobacco and/or other legal substances, Smoking of tobacco and/or other legal substances, Smoking of tobacco and/or other legal substances, Smoking of tobacco and/or other legal substances, Smoking of tobacco and/or other legal substances, Smoking of tobacco and/or other legal substances, Smoking of tobacco and/or other legal substances, Smoking of tobacco and</td></tr>\\n<tr><td style=\"text-align: right;\"> 33</td><td>&lt;unk&gt;&quot;tenant_name&quot;: null, &quot;unit_address&quot;: null, &quot;unit_number&quot;: null, &quot;unit_type&quot;: null, &quot;agreement_date&quot;: null, &quot;lease_start&quot;: null, &quot;lease_end&quot;: null, &quot;lease_auto_renew&quot;: null, &quot;hourly_rate&quot;: null, &quot;monthly_rent&quot;: null, &quot;prorated_rent&quot;: null, &quot;security_deposit&quot;: null, &quot;lease_rent&quot;: null, &quot;monthly_payment_breakdown&quot;: null, &quot;utility_charges&quot;: null&lt;unk&gt;&lt;/s&gt;                                                                                                                                                                                                                                                                                                                                                                                                                                                                                                                                     </td><td>&lt;pad&gt; LESSEES_ARE_RESPONSIBLE&lt;/s&gt;                                                                                                                                                                                                                                                                                                                                                                                                                                                                                                                                                                                                                                                                                                                                                                                                                                                                                                                                                                                                                                                                                                                                                                                                                                                                                                                                                                                                                                                                                                                                                                                                                                                                                                                                                                                                                                                                                                                                                                                                                                                                                                                                                                                                                                                                                                                                                                                    </td></tr>\\n<tr><td style=\"text-align: right;\"> 34</td><td>&lt;unk&gt;&quot;tenant_name&quot;: &quot;Peter Mendes&quot;, &quot;unit_address&quot;: null, &quot;unit_number&quot;: null, &quot;unit_type&quot;: null, &quot;agreement_date&quot;: null, &quot;lease_start&quot;: null, &quot;lease_end&quot;: null, &quot;lease_auto_renew&quot;: null, &quot;hourly_rate&quot;: null, &quot;monthly_rent&quot;: null, &quot;prorated_rent&quot;: null, &quot;security_deposit&quot;: null, &quot;lease_rent&quot;: null, &quot;monthly_payment_breakdown&quot;: null, &quot;utility_charges&quot;: null&lt;unk&gt;&lt;/s&gt;                                                                                                                                                                                                                                                                                                                                                                                                                                                                                                                           </td><td>&lt;pad&gt; Casualty Loss, RESIDENT, GUEST, OR OCCUPIENT, PERSONAL_INJURY, PERSONAL_PROPERTY, PERSONAL_INJURY, PERSONAL_PROPERTY, PERSONAL_INJURY, PERSONAL_PROPERTY, PERSONAL_PROPERTY, PERSONAL_PROPERTY, PERSONAL_PROPERTY, PERSONAL_PROPERTY, PERSONAL_PROPERTY, PERSONAL_PROPERTY, PERSONAL_PROPERTY, PERSONAL_PROPERTY, PERSONAL_PROPERTY, PERSONAL_PROPERTY, PERSONAL_PROPERTY, PERSONAL_PROPERTY, PERSONAL_PROPERTY, PERSONAL_PROPERTY, PERSONAL_PROPERTY, PERSONAL_PROPERTY, PERSONAL_PROPERTY, PERSONAL_PROPERTY, PERSONAL_PROPERTY, PERSONAL_PROPERTY, PERSONAL_PROPERTY, PERSONAL_PROPERTY, PERSONAL_PROPERTY, PERSONAL_PROPERTY, PERSONAL_PROPERTY, PERSONAL_PROPERTY, PERSONAL_PROPERTY, PERSONAL_PROPERTY, PERSONAL_PROPERTY, PERSONAL_PROPERTY, PERSONAL_PROPERTY, PERSONAL_PROPERTY, PERSONAL_PROPERTY, PERSONAL_PROPERTY, PERSONAL_PROPERTY, PERSONAL_PROPERTY, PERSONAL_PROPERTY, PERSONAL_PROPERTY, PERSONAL_PROPERTY, PERSONAL_PROPERTY, PERSONAL_PROPERTY, PERSONAL_PROPERTY, PERSONAL_PROPERTY, PERSONAL_PROPERTY, PERSONAL_PROPERTY, PERSONAL_PROPERTY, PERSONAL_PROPERTY, PERSONAL_PROPERTY,                                                                                                                                                                                                                                                                                                                                                                                                                                                                                                                                                                                                                                                                                                                                                                                                                                                                                                                                                                                                                                                                                                                                                                                                                                                                                                      </td></tr>\\n<tr><td style=\"text-align: right;\"> 35</td><td>&lt;unk&gt;&quot;tenant_name&quot;: null, &quot;unit_address&quot;: null, &quot;unit_number&quot;: null, &quot;unit_type&quot;: null, &quot;agreement_date&quot;: null, &quot;lease_start&quot;: null, &quot;lease_end&quot;: null, &quot;lease_auto_renew&quot;: null, &quot;hourly_rate&quot;: null, &quot;monthly_rent&quot;: null, &quot;prorated_rent&quot;: null, &quot;security_deposit&quot;: null, &quot;lease_rent&quot;: null, &quot;monthly_payment_breakdown&quot;: null, &quot;utility_charges&quot;: null&lt;unk&gt;&lt;/s&gt;                                                                                                                                                                                                                                                                                                                                                                                                                                                                                                                                     </td><td>&lt;pad&gt; &lt;unk&gt; Procedures for Replacement, &lt;unk&gt; Responsibillitetf Owner and Resident, &lt;unk&gt; Responsibillitetf Owner and Resident, &lt;unk&gt; Responsibillitetf Owner and Resident, &lt;unk&gt; Responsibillitetf Owner and Resident, &lt;unk&gt; Responsibillitetf Owner and Resident, &lt;unk&gt; Responsibillitetf Owner and Resident, &lt;unk&gt; Responsibillitetf Owner and Resident, &lt;unk&gt; Responsibillitetf Owner and Resident, &lt;unk&gt; Responsibillitetf Owner and Resident, &lt;unk&gt; Responsibillitetf Owner and Resident, &lt;unk&gt; Responsibillitetf Owner and Resident, &lt;unk&gt; Responsibillitetf Owner and Resident, &lt;unk&gt; Responsibillitetf Owner and Resident, &lt;unk&gt; Responsibillitetf Owner and Resident, &lt;unk&gt; Responsibillitetf Owner and Resident, &lt;unk&gt; Responsibillitetf Owner and Resident, &lt;unk&gt; Responsibillitetf Owner and Resident, &lt;unk&gt; Responsibillitetf Owner and Resident, &lt;unk&gt; Responsibillitetf Owner and Resident, &lt;unk&gt; Responsibillitetf Owner and Resident, &lt;unk&gt; Responsibillitetf Owner and Resident, &lt;unk&gt; Responsibillitetf Owner and Resident, &lt;unk&gt; Responsibillitetf Owner and Resident, &lt;unk&gt; Responsibillitetf Owner and Resident, &lt;unk&gt; Responsibillitetf Owner and Resident, &lt;unk&gt; Responsibillitetf Owner and Resident, &lt;unk&gt; Responsibillitetf Owner and Resident, &lt;unk&gt; Responsibillitetf Owner and Resident, &lt;unk&gt; Responsibillitetf Owner and Resident, &lt;unk&gt; Responsibillitetf Owner and Resident, &lt;unk&gt; Responsibillitetf Owner and Resident, &lt;unk&gt; Responsibillitetf Owner and Resident, &lt;unk&gt; Responsibillitetf Owner and Resident, &lt;unk&gt; Responsibillitetf Owner and Resident, &lt;unk&gt; Responsibillitetf Owner and Resident, &lt;unk&gt; Responsibillitetf Owner and Resident,                                                                                                                                                                                                                                                                                                                                                                                                                                                                                                                                                                                                                                                                                                                              </td></tr>\\n<tr><td style=\"text-align: right;\"> 36</td><td>&lt;unk&gt;&quot;tenant_name&quot;: &quot;Cameron Maxwell&quot;, &quot;unit_address&quot;: &quot;107 Shoal Run Trail, Birmingham, Alabama, 35242&quot;, &quot;unit_number&quot;: &quot;0107&quot;, &quot;unit_type&quot;: null, &quot;agreement_date&quot;: &quot;2023-03-03&quot;, &quot;lease_start&quot;: &quot;2023-03-07&quot;, &quot;lease_end&quot;: &quot;2024-05-06&quot;, &quot;lease_auto_renew&quot;: &quot;month-to-month&quot;, &quot;hourly_rate&quot;: null, &quot;monthly_rent&quot;: 1076.0, &quot;prorated_rent&quot;: 867.74, &quot;security_deposit&quot;: 1111.0, &quot;lease_rent&quot;: 13988.0, &quot;monthly_payment_breakdown&quot;: null, &quot;utility_charges&quot;: null&lt;unk&gt;&lt;/s&gt;                                                                                                                                                                                                                                                                                                                                                                                                                            </td><td>&lt;pad&gt; by, Cameron Maxwell, Trisha Maxwell, Madalyn Carbonie, Madison BAL LLC, ApartmentNo., 0107, 1stMonth, 2ndMonth, 107 Shoal Run Trail, Birmingham, Alabama, 35242&lt;/s&gt;                                                                                                                                                                                                                                                                                                                                                                                                                                                                                                                                                                                                                                                                                                                                                                                                                                                                                                                                                                                                                                                                                                                                                                                                                                                                                                                                                                                                                                                                                                                                                                                                                                                                                                                                                                                                                                                                                                                                                                                                                                                                                                                                                                                                                                            </td></tr>\\n<tr><td style=\"text-align: right;\"> 37</td><td>&lt;unk&gt;&quot;tenant_name&quot;: null, &quot;unit_address&quot;: null, &quot;unit_number&quot;: null, &quot;unit_type&quot;: null, &quot;agreement_date&quot;: null, &quot;lease_start&quot;: null, &quot;lease_end&quot;: null, &quot;lease_auto_renew&quot;: null, &quot;hourly_rate&quot;: null, &quot;monthly_rent&quot;: null, &quot;prorated_rent&quot;: null, &quot;security_deposit&quot;: null, &quot;lease_rent&quot;: null, &quot;monthly_payment_breakdown&quot;: null, &quot;utility_charges&quot;: null&lt;unk&gt;&lt;/s&gt;                                                                                                                                                                                                                                                                                                                                                                                                                                                                                                                                     </td><td>&lt;pad&gt; &lt;unk&gt; INSTRUCTIONS TO OWN TOR&lt;/s&gt;                                                                                                                                                                                                                                                                                                                                                                                                                                                                                                                                                                                                                                                                                                                                                                                                                                                                                                                                                                                                                                                                                                                                                                                                                                                                                                                                                                                                                                                                                                                                                                                                                                                                                                                                                                                                                                                                                                                                                                                                                                                                                                                                                                                                                                                                                                                                                                              </td></tr>\\n<tr><td style=\"text-align: right;\"> 38</td><td>&lt;unk&gt;&quot;tenant_name&quot;: &quot;Novy Jezkova&quot;, &quot;unit_address&quot;: &quot;2501 Mountain Lodge Circle, Vestavia Hills, Alabama, 35216&quot;, &quot;unit_number&quot;: &quot;2501E&quot;, &quot;unit_type&quot;: null, &quot;agreement_date&quot;: &quot;2023-05-25&quot;, &quot;lease_start&quot;: null, &quot;lease_end&quot;: null, &quot;lease_auto_renew&quot;: null, &quot;hourly_rate&quot;: null, &quot;monthly_rent&quot;: null, &quot;prorated_rent&quot;: null, &quot;security_deposit&quot;: null, &quot;lease_rent&quot;: null, &quot;monthly_payment_breakdown&quot;: null, &quot;utility_charges&quot;: null&lt;unk&gt;&lt;/s&gt;                                                                                                                                                                                                                                                                                                                                                                                                                                                        </td><td>&lt;pad&gt; 1. DWELLING_UNIT_DESCRIPTION. Unit No. 2501E 2501 Mountain Lodge Circle (street address) in Vestavia Hills (city), Alabama, 35216 (zip code). 2. LEASE_CONTRACT_DESCRIPTION. Lease Contract Date: May 25, 2023 Owner&#x27;s name: Mountain BAL LLC Residents (list all residents): Novy Jezkova The term of this Addendum is as follows: Begins on and ends on This Addendum constitutes an Addendum to the above described Lease Contract for the above described premises, and is hereby incorporated into and made a part of such Lease Contract. 3. A. :unselected: NO APPROVED ANIMALS.&lt;/s&gt;                                                                                                                                                                                                                                                                                                                                                                                                                                                                                                                                                                                                                                                                                                                                                                                                                                                                                                                                                                                                                                                                                                                                                                                                                                                                                                                                                                                                                                                                                                                                                                                                                                                                                                                                                                                                                    </td></tr>\\n<tr><td style=\"text-align: right;\"> 39</td><td>&lt;unk&gt;&quot;tenant_name&quot;: null, &quot;unit_address&quot;: null, &quot;unit_number&quot;: null, &quot;unit_type&quot;: null, &quot;agreement_date&quot;: &quot;2021-11-01&quot;, &quot;lease_start&quot;: null, &quot;lease_end&quot;: null, &quot;lease_auto_renew&quot;: null, &quot;hourly_rate&quot;: null, &quot;monthly_rent&quot;: null, &quot;prorated_rent&quot;: null, &quot;security_deposit&quot;: null, &quot;lease_rent&quot;: null, &quot;monthly_payment_breakdown&quot;: null, &quot;utility_charges&quot;: null&lt;unk&gt;&lt;/s&gt;                                                                                                                                                                                                                                                                                                                                                                                                                                                                                                                             </td><td>&lt;pad&gt; &lt;unk&gt; COMMUNITY RULES AND REGULATIONS, GARBAGE, PARKING/ VEHICLES, GARBAGE, GARBAGE, PARKING/ VEHICLES, GARBAGE, GARBAGE, PARKING/ VEHICLES, GARBAGE, GARBAGE, PARKING/ VEHICLES, GARBAGE, GARBAGE, PARKING/ VEHICLES, GARBAGE, GARBAGE, PARKING/ VEHICLES, GARBAGE, GARBAGE, PARKING/ VEHICLES, GARBAGE, GARBAGE, PARKING/ VEHICLES, GARBAGE, GARBAGE, PARKING/ VEHICLES, GARBAGE, GARBAGE, PARKING/ VEHICLES, GARBAGE, GARBAGE, PARKING/ VEHICLES, GARBAGE, GARBAGE, PARKING/ VEHICLES, GARBAGE, GARBAGE, PARKING/ VEHICLES, GARBAGE, GARBAGE, PARKING/ VEHICLES, GARBAGE, GARBAGE, PARKING/ VEHICLES, GARBAGE, GARBAGE, PARKING/ VEHICLES, GARBAGE, GARBAGE, PARKING/ VEHICLES, GARBAGE, GARBAGE, PARKING/ VEHICLES, GARBAGE, GARBAGE, PARKING/ VEHICLES, GARBAGE, GARBAGE, PARKING/ VEHICLES, GARBAGE, GARBAGE, PARKING/ VEHICLES, GARBAGE, GARBAGE, PARKING/ VEHICLES, GARBAGE, GARBAGE, PARKING/ VEHICLES, GARBAGE, GARBAGE, PARKING/ VEHICLES, GARBAGE, GARBAGE, PARKING/ VEHICLES, GARBAGE, GARBAGE, PARKING/ VEHICLES, GARBAGE,                                                                                                                                                                                                                                                                                                                                                                                                                                                                                                                                                                                                                                                                                                                                                                                                                                                                                                                                                                                                                                                                                                                                                                                                                                                                                                                                                                       </td></tr>\\n<tr><td style=\"text-align: right;\"> 40</td><td>&lt;unk&gt;&quot;tenant_name&quot;: null, &quot;unit_address&quot;: null, &quot;unit_number&quot;: null, &quot;unit_type&quot;: null, &quot;agreement_date&quot;: null, &quot;lease_start&quot;: null, &quot;lease_end&quot;: null, &quot;lease_auto_renew&quot;: null, &quot;hourly_rate&quot;: null, &quot;monthly_rent&quot;: null, &quot;prorated_rent&quot;: null, &quot;security_deposit&quot;: null, &quot;lease_rent&quot;: null, &quot;monthly_payment_breakdown&quot;: null, &quot;utility_charges&quot;: &lt;unk&gt;&quot;Gas&quot;: null, &quot;Electricity&quot;: null, &quot;Water&quot;: 0, &quot;Sewer&quot;: 0, &quot;Trash&quot;: 0, &quot;Cable&quot;: 0&lt;unk&gt;&lt;/s&gt;                                                                                                                                                                                                                                                                                                                                                                                                                                                    </td><td>&lt;pad&gt; UTILITY/ SERVICE UTILITY&#x27;S CUSTOMER OF RECORD CHARGED TO RESIDENT? UTILITY/ SERVICE UTILITY&#x27;S CUSTOMER OF RECORD CHARGED TO RESIDENT? CALCULATION METHOD FOR CHARGES TO RESIDENT COMMON AREAS Gas :unselected: Landlord X :selected: Resident :selected: Yes :selected: No :selected: Direct billing from utility :selected: Sub-metering :selected: None - Landlord expense Are separately metered and are not charged to Resident Electricity :unselected: Landlord :selected: Resident :selected: Yes :selected: No :selected: Direct billing from utility :selected: Sub-metering :selected: None - Landlord expense Are separately metered and are not charged to Resident Water :unselected: Landlord :selected: Resident :selected: Yes :selected: No :selected: Direct billing from utility :selected: Formula (All water related charges assessed to the Landlord may be used to calculate the amount charged to each Resident. These may include, but not limited to, water related charges contained on tax bills, and all charges contained on utility bills received from the local water providers.) :unselected: Authorized occupant method :unselected: Sub-metering :unselected: Flat fee of $0.00 per month :selected: None - Landlord expense :selected: Are separately metered and are not charged to Resident :selected: Are not separately metered ]&lt;/s&gt;                                                                                                                                                                                                                                                                                                                                                                                                                                                                                                                                                                                                                                                                                                                                                                                                                                                                                                                                                                                                                                 </td></tr>\\n<tr><td style=\"text-align: right;\"> 41</td><td>&lt;unk&gt;&quot;tenant_name&quot;: &quot;Cameron Maxwell&quot;, &quot;unit_address&quot;: &quot;107 Shoal Run Trail, Birmingham, Alabama, 35242&quot;, &quot;unit_number&quot;: &quot;0107&quot;, &quot;unit_type&quot;: null, &quot;agreement_date&quot;: &quot;2023-03-03&quot;, &quot;lease_start&quot;: null, &quot;lease_end&quot;: null, &quot;lease_auto_renew&quot;: null, &quot;hourly_rate&quot;: null, &quot;monthly_rent&quot;: null, &quot;prorated_rent&quot;: null, &quot;security_deposit&quot;: null, &quot;lease_rent&quot;: null, &quot;monthly_payment_breakdown&quot;: null, &quot;utility_charges&quot;: null&lt;unk&gt;&lt;/s&gt;                                                                                                                                                                                                                                                                                                                                                                                                                                                                 </td><td>&lt;pad&gt; DWELLING_UNIT_DESCRIPTION, LEASE_CONTRACT_DATE, RESIDENT&#x27;S_NAME, RESIDENT&#x27;S_PHONE, RESIDENT&#x27;S_WORK_PHONE, RESIDENT&#x27;S_HOME_PHONE, RESIDENT&#x27;S_WORK_PHONE, RESIDENT&#x27;S_HOME_PHONE, RESIDENT&#x27;S_WORK_PHONE, RESIDENT&#x27;S_HOME_PHONE, RESIDENT&#x27;S_WORK_PHONE, RESIDENT&#x27;S_HOME_PHONE, RESIDENT&#x27;S_WORK_PHONE, RESIDENT&#x27;S_HOME_PHONE, RESIDENT&#x27;S_WORK_PHONE, RESIDENT&#x27;S_WORK_PHONE, RESIDENT&#x27;S_WORK_PHONE, RESIDENT&#x27;S_WORK_PHONE, RESIDENT&#x27;S_WORK_PHONE, RESIDENT&#x27;S_WORK_PHONE, RESIDENT&#x27;S_WORK_PHONE, RESIDENT&#x27;S_WORK_PHONE, RESIDENT&#x27;S_WORK_PHONE, RESIDENT&#x27;S_WORK_PHONE, RESIDENT&#x27;S_WORK_PHONE, RESIDENT&#x27;S_WORK_PHONE, RESIDENT&#x27;S_WORK_PHONE, RESIDENT&#x27;S_WORK_PHONE, RESIDENT&#x27;S_WORK_PHONE, RESIDENT&#x27;S_WORK_PHONE, RESIDENT&#x27;S_WORK_PHONE, RESIDENT&#x27;S_WORK_PHONE, RESIDENT&#x27;S_WORK_PHONE, RESIDENT&#x27;S_WORK_PHONE, RESIDENT&#x27;S_WORK_PHONE, RESIDENT&#x27;S_WORK_PHONE, RESIDENT&#x27;S_WORK_PHONE, RESIDENT&#x27;S_WORK_PHONE, RESIDENT&#x27;S_WORK_PHONE, RESIDENT&#x27;S_WORK_PHONE, RESIDENT&#x27;S_WORK_PHONE, RESIDENT&#x27;S_WORK_PHONE, RESIDENT&#x27;S_WORK                                                                                                                                                                                                                                                                                                                                                                                                                                                                                                                                                                                                                                                                                                                                                                                                                                                                                                                                                                                                                                                                                                                                                                                                                                                                                                                                                                                                   </td></tr>\\n<tr><td style=\"text-align: right;\"> 42</td><td>&lt;unk&gt;&quot;tenant_name&quot;: &quot;Samantha Putlak&quot;, &quot;unit_address&quot;: &quot;304 Stanhope St.&quot;, &quot;unit_number&quot;: &quot;#2L&quot;, &quot;unit_type&quot;: null, &quot;agreement_date&quot;: null, &quot;lease_start&quot;: &quot;2023-08-01&quot;, &quot;lease_end&quot;: &quot;2024-07-31&quot;, &quot;lease_auto_renew&quot;: null, &quot;hourly_rate&quot;: null, &quot;monthly_rent&quot;: 2800, &quot;prorated_rent&quot;: null, &quot;security_deposit&quot;: 2800, &quot;lease_rent&quot;: 33600, &quot;monthly_payment_breakdown&quot;: null, &quot;utility_charges&quot;: null&lt;unk&gt;&lt;/s&gt;                                                                                                                                                                                                                                                                                                                                                                                                                                                                                        </td><td>&lt;pad&gt; TERM: 12 Months MONTHLY_RENT: $2,800 BEGINNING: 8/1/2023 MONTHLY_RENT: $2,800 SECURITY_DEPOSIT: $2,800 TERM: 12 Months MONTHLY_RENT: $2,800 BEGINNING: 8/1/2023 MONTHLY_RENT: $2,800 SECURITY_DEPOSIT: $2,800 TERM: 12 Months MONTHLY_RENT: $2,800 BEGINNING: 8/1/2023 MONTHLY_RENT: $2,800 SECURITY_DEPOSIT: $2,800&lt;/s&gt;                                                                                                                                                                                                                                                                                                                                                                                                                                                                                                                                                                                                                                                                                                                                                                                                                                                                                                                                                                                                                                                                                                                                                                                                                                                                                                                                                                                                                                                                                                                                                                                                                                                                                                                                                                                                                                                                                                                                                                                                                                                                                       </td></tr>\\n<tr><td style=\"text-align: right;\"> 43</td><td>&lt;unk&gt;&quot;tenant_name&quot;: null, &quot;unit_address&quot;: null, &quot;unit_number&quot;: null, &quot;unit_type&quot;: null, &quot;agreement_date&quot;: null, &quot;lease_start&quot;: null, &quot;lease_end&quot;: null, &quot;lease_auto_renew&quot;: null, &quot;hourly_rate&quot;: null, &quot;monthly_rent&quot;: null, &quot;prorated_rent&quot;: null, &quot;security_deposit&quot;: null, &quot;lease_rent&quot;: null, &quot;monthly_payment_breakdown&quot;: null, &quot;utility_charges&quot;: null&lt;unk&gt;&lt;/s&gt;                                                                                                                                                                                                                                                                                                                                                                                                                                                                                                                                     </td><td>&lt;pad&gt; Apartment, Term, Term_Start, Term_End, Term_Start, Term_End, Term_Start, Term_End, Term_Start, Term_End, Term_Start, Term_Start, Term_End, Term_Start, Term_Start, Term_End, Term_Start, Term_Start, Term_End, Term_Start, Term_End, Term_Start, Term_End, Term_Start, Term_End, Term_Start, Term_End, Term_Start, Term_End, Term_Start, Term_End, Term_Start, Term_End, Term_Start, Term_End, Term_Start, Term_End, Term_Start, Term_End, Term_Start, Term_End, Term_Start, Term_End, Term_Start, Term_Start, Term_End, Term_Start, Term_End, Term_Start, Term_End, Term_Start, Term_Start, Term_End, Term_Start, Term_End, Term_Start, Term_End, Term_Start, Term_Start, Term_End, Term_Start, Term_End, Term_Start, Term_End, Term_Start, Term_Start, Term_End, Term_Start, Term_End, Term_Start, Term_Start, Term_End, Term_Start, Term_End, Term_Start, Term_Start, Term_End, Term_Start, Term_End, Term_Start, Term_Start, Term_End, Term_Start, Term_Start, Term_End, Term_Start, Term_                                                                                                                                                                                                                                                                                                                                                                                                                                                                                                                                                                                                                                                                                                                                                                                                                                                                                                                                                                                                                                                                                                                                                                                                                                                                                                                                                                                                                 </td></tr>\\n<tr><td style=\"text-align: right;\"> 44</td><td>&lt;unk&gt;&quot;tenant_name&quot;: &quot;Ricquan M Moore Clona Berry&quot;, &quot;unit_address&quot;: null, &quot;unit_number&quot;: null, &quot;unit_type&quot;: null, &quot;agreement_date&quot;: null, &quot;lease_start&quot;: null, &quot;lease_end&quot;: null, &quot;lease_auto_renew&quot;: null, &quot;hourly_rate&quot;: null, &quot;monthly_rent&quot;: null, &quot;prorated_rent&quot;: null, &quot;security_deposit&quot;: null, &quot;lease_rent&quot;: null, &quot;monthly_payment_breakdown&quot;: null, &quot;utility_charges&quot;: null&lt;unk&gt;&lt;/s&gt;                                                                                                                                                                                                                                                                                                                                                                                                                                                                                                            </td><td>&lt;pad&gt; &lt;unk&gt;us, you will be liable to us and others for any loss, actual damages, fines imposed by any state or local agencies or municipalities, attorney fees and costs. Casualty Loss. We&#x27;re not liable to any resident, guest, or occupant for personal injury or damage or loss of personal property from any cause, including but not limited to: fire, smoke, rain, flood, water and pipe leaks, hail, ice, snow, lightning, wind, explosions, earthquake, interruption of utilities, theft, or vandalism unless otherwise required by law. We have no duty to remove any ice, water, sleet, or snow but may remove any amount with or without notice. During freezing weather, you must ensure that the temperature in the apartment is sufficient to make sure that the pipes do not freeze (the appropriate temperature will depend upon weather conditions and the size and layout of your unit). If the pipes freeze or any other damage is caused by your failure to properly maintain the heat in your apartment, you&#x27;ll be liable for damage to our and other&#x27;s property. If you ask our representatives to perform services not contemplated in this Lease Contract, you will indemnify us and hold us harmless from all liability for those services. Crime or Emergency. Dial 911 or immediately call local medical emergency, fire, or police personnel in case of accident, fire, smoke, or suspected criminal activity or other emergency involving imminent harm. You should then contact our representative. Unless otherwise provided by law, we&#x27;re not liable to you or any guests or occupants for injury, damage, or loss to person or property caused by criminal conduct of other persons, including theft, burglary, assault, vandalism, or other crimes. If we provide any access control devices or security measures upon the property,&lt;/s&gt;                                                                                                                                                                                                                                                                                                                                                                                                                                                                                                                                          </td></tr>\\n<tr><td style=\"text-align: right;\"> 45</td><td>&lt;unk&gt;&quot;tenant_name&quot;: null, &quot;unit_address&quot;: null, &quot;unit_number&quot;: null, &quot;unit_type&quot;: null, &quot;agreement_date&quot;: null, &quot;lease_start&quot;: null, &quot;lease_end&quot;: null, &quot;lease_auto_renew&quot;: null, &quot;hourly_rate&quot;: null, &quot;monthly_rent&quot;: null, &quot;prorated_rent&quot;: null, &quot;security_deposit&quot;: null, &quot;lease_rent&quot;: null, &quot;monthly_payment_breakdown&quot;: null, &quot;utility_charges&quot;: null&lt;unk&gt;&lt;/s&gt;                                                                                                                                                                                                                                                                                                                                                                                                                                                                                                                                     </td><td>&lt;pad&gt; COMMUNITY POLICIES OR RULES&lt;/s&gt;                                                                                                                                                                                                                                                                                                                                                                                                                                                                                                                                                                                                                                                                                                                                                                                                                                                                                                                                                                                                                                                                                                                                                                                                                                                                                                                                                                                                                                                                                                                                                                                                                                                                                                                                                                                                                                                                                                                                                                                                                                                                                                                                                                                                                                                                                                                                                                                </td></tr>\\n<tr><td style=\"text-align: right;\"> 46</td><td>&lt;unk&gt;&quot;tenant_name&quot;: null, &quot;unit_address&quot;: null, &quot;unit_number&quot;: null, &quot;unit_type&quot;: null, &quot;agreement_date&quot;: null, &quot;lease_start&quot;: null, &quot;lease_end&quot;: null, &quot;lease_auto_renew&quot;: null, &quot;hourly_rate&quot;: null, &quot;monthly_rent&quot;: null, &quot;prorated_rent&quot;: null, &quot;security_deposit&quot;: null, &quot;lease_rent&quot;: null, &quot;monthly_payment_breakdown&quot;: null, &quot;utility_charges&quot;: null&lt;unk&gt;&lt;/s&gt;                                                                                                                                                                                                                                                                                                                                                                                                                                                                                                                                     </td><td>&lt;pad&gt; &lt;unk&gt; General Clauses&lt;/s&gt;                                                                                                                                                                                                                                                                                                                                                                                                                                                                                                                                                                                                                                                                                                                                                                                                                                                                                                                                                                                                                                                                                                                                                                                                                                                                                                                                                                                                                                                                                                                                                                                                                                                                                                                                                                                                                                                                                                                                                                                                                                                                                                                                                                                                                                                                                                                                                                                      </td></tr>\\n<tr><td style=\"text-align: right;\"> 47</td><td>&lt;unk&gt;&quot;tenant_name&quot;: null, &quot;unit_address&quot;: null, &quot;unit_number&quot;: null, &quot;unit_type&quot;: null, &quot;agreement_date&quot;: &quot;2023-02-25&quot;, &quot;lease_start&quot;: null, &quot;lease_end&quot;: null, &quot;lease_auto_renew&quot;: &quot;month-to-month&quot;, &quot;hourly_rate&quot;: null, &quot;monthly_rent&quot;: null, &quot;prorated_rent&quot;: null, &quot;security_deposit&quot;: null, &quot;lease_rent&quot;: null, &quot;monthly_payment_breakdown&quot;: null, &quot;utility_charges&quot;: null&lt;unk&gt;&lt;/s&gt;                                                                                                                                                                                                                                                                                                                                                                                                                                                                                                                 </td><td>&lt;pad&gt; 15. REPRESENTATIONS IN RENTAL APPLICATION., FINANCIAL RESPONSIBILITY, NOTICES, MILITARY.&lt;/s&gt;                                                                                                                                                                                                                                                                                                                                                                                                                                                                                                                                                                                                                                                                                                                                                                                                                                                                                                                                                                                                                                                                                                                                                                                                                                                                                                                                                                                                                                                                                                                                                                                                                                                                                                                                                                                                                                                                                                                                                                                                                                                                                                                                                                                                                                                                                                                   </td></tr>\\n<tr><td style=\"text-align: right;\"> 48</td><td>&lt;unk&gt;&quot;tenant_name&quot;: null, &quot;unit_address&quot;: null, &quot;unit_number&quot;: null, &quot;unit_type&quot;: null, &quot;agreement_date&quot;: null, &quot;lease_start&quot;: &quot;2023-02-25&quot;, &quot;lease_end&quot;: null, &quot;lease_auto_renew&quot;: null, &quot;hourly_rate&quot;: null, &quot;monthly_rent&quot;: null, &quot;prorated_rent&quot;: null, &quot;security_deposit&quot;: null, &quot;lease_rent&quot;: null, &quot;monthly_payment_breakdown&quot;: null, &quot;utility_charges&quot;: null&lt;unk&gt;&lt;/s&gt;                                                                                                                                                                                                                                                                                                                                                                                                                                                                                                                             </td><td>&lt;pad&gt; C. Returned Checks. Landlord reserves the right to require that all monthly installments be made by money order, or certified funds, and to impose a service charge of $35.00 on Tenant(s) for returned private party checks. D. Tenant Web Access. TWA provides the ability to pay your rent online and access/update your account information. To create an account, go to: https://hthproperties.com/portals 1. Click TENANTWebACCESS 2. On the Tenant Login screen, click Sign Up. 3. Enter your account number: 6227 4. Enter your email address.5. Create a username and password and click continue. While logged into TWA, click the tabs at the top of the page to: make a payment, display your transaction history, view open charge, or change your password/update personal info. Please contact the office at (540) 777-3711 to update your email if unsure or it does not verify during registration. To set up Auto Pay (Auto Pay Rent Online)-Login to TWA, Click the GEAR or drop-down menu (top right corner), Select Saved Payment Information, Click EDIT button at bottom of page, Enter ACCOUNT TYPE then other detailed information and SAVE. select Enable Automatic Payments and choose desired day, type, and amount. check the &quot;please be advised... &quot; button and select SAVE AUTO PAYMENT SETTINGS. NOTE: a convenience fee will be charged. ($2.95) fee) when using your bank account information or ($2.95+&lt;/s&gt;                                                                                                                                                                                                                                                                                                                                                                                                                                                                                                                                                                                                                                                                                                                                                                                                                                                                                                                                                                 </td></tr>\\n<tr><td style=\"text-align: right;\"> 49</td><td>&lt;unk&gt;&quot;tenant_name&quot;: null, &quot;unit_address&quot;: null, &quot;unit_number&quot;: null, &quot;unit_type&quot;: null, &quot;agreement_date&quot;: null, &quot;lease_start&quot;: null, &quot;lease_end&quot;: null, &quot;lease_auto_renew&quot;: null, &quot;hourly_rate&quot;: null, &quot;monthly_rent&quot;: null, &quot;prorated_rent&quot;: null, &quot;security_deposit&quot;: null, &quot;lease_rent&quot;: null, &quot;monthly_payment_breakdown&quot;: null, &quot;utility_charges&quot;: null&lt;unk&gt;&lt;/s&gt;                                                                                                                                                                                                                                                                                                                                                                                                                                                                                                                                     </td><td>&lt;pad&gt; 22. WAIVING_OF_BREACH_NOT_GENERAL_WAIVER. If Landlord waives a noncompliance or breach by Tenant(s) with the Lease Agreement, or with the law, such waiver shall not be interpreted as a waiver of any subsequent breach of noncompliance or breach, and this Lease Agreement shall continue in full force and effect. 23. SUBORDINATION. Tenant(s) agree that this Lease Agreement is subordinate to the lien of any existing or future deeds of trust or mortgages placed on the premises, and Tenant(s) agree to execute whatever additional agreements may be required to so subordinate this Lease Agreement. Landlord reserves the right to assign any of Landlord&#x27;s rights under this Lease Agreement at any time. 24. SEVERABILITY. If any provisions of this Lease Agreement are violation of the law or equity, it is agreed that the remaining provisions are in full force and effect. 25. DISCRIMINATION. Landlord does not discriminate against Tenant(s) in the provision of services, or in any other manner, on the basis of race, color, religion, sex, national origin, familial status, elderliness, or handicap. 26. REASONABLE ATTORNEY&#x27;S FEES/COSTS OF COLLECTION. For purposes of this Lease Agreement, if Tenant(s)&#x27; noncompliance with the Lease Agreement, of the law, causes Landlord to employ&lt;/s&gt;                                                                                                                                                                                                                                                                                                                                                                                                                                                                                                                                                                                                                                                                                                                                                                                                                                                                                                                                                                                                                                                                                </td></tr>\\n<tr><td style=\"text-align: right;\"> 50</td><td>&lt;unk&gt;&quot;tenant_name&quot;: &quot;Alejandro G&lt;unk&gt;u00f3mez Munoz&quot;, &quot;unit_address&quot;: &quot;6009 Antoine Dr #6009-A, Houston, TX 77088&quot;, &quot;unit_number&quot;: &quot;6009-A&quot;, &quot;unit_type&quot;: null, &quot;agreement_date&quot;: &quot;2022-10-24&quot;, &quot;lease_start&quot;: null, &quot;lease_end&quot;: null, &quot;lease_auto_renew&quot;: null, &quot;hourly_rate&quot;: null, &quot;monthly_rent&quot;: null, &quot;prorated_rent&quot;: null, &quot;security_deposit&quot;: null, &quot;lease_rent&quot;: null, &quot;monthly_payment_breakdown&quot;: null, &quot;utility_charges&quot;: null&lt;unk&gt;&lt;/s&gt;                                                                                                                                                                                                                                                                                                                                                                                                                                                     </td><td>&lt;pad&gt; &lt;unk&gt; For More Information&lt;/s&gt;                                                                                                                                                                                                                                                                                                                                                                                                                                                                                                                                                                                                                                                                                                                                                                                                                                                                                                                                                                                                                                                                                                                                                                                                                                                                                                                                                                                                                                                                                                                                                                                                                                                                                                                                                                                                                                                                                                                                                                                                                                                                                                                                                                                                                                                                                                                                                                                 </td></tr>\\n<tr><td style=\"text-align: right;\"> 51</td><td>&lt;unk&gt;&quot;tenant_name&quot;: &quot;Peter Mendes&quot;, &quot;unit_address&quot;: null, &quot;unit_number&quot;: null, &quot;unit_type&quot;: null, &quot;agreement_date&quot;: null, &quot;lease_start&quot;: &quot;2022-10-01&quot;, &quot;lease_end&quot;: null, &quot;lease_auto_renew&quot;: null, &quot;hourly_rate&quot;: null, &quot;monthly_rent&quot;: 1758.0, &quot;prorated_rent&quot;: 0.0, &quot;security_deposit&quot;: null, &quot;lease_rent&quot;: null, &quot;monthly_payment_breakdown&quot;: null, &quot;utility_charges&quot;: null&lt;unk&gt;&lt;/s&gt;                                                                                                                                                                                                                                                                                                                                                                                                                                                                                                                  </td><td>&lt;pad&gt; X&lt;/s&gt;                                                                                                                                                                                                                                                                                                                                                                                                                                                                                                                                                                                                                                                                                                                                                                                                                                                                                                                                                                                                                                                                                                                                                                                                                                                                                                                                                                                                                                                                                                                                                                                                                                                                                                                                                                                                                                                                                                                                                                                                                                                                                                                                                                                                                                                                                                                                                                                                          </td></tr>\\n<tr><td style=\"text-align: right;\"> 52</td><td>&lt;unk&gt;&quot;tenant_name&quot;: null, &quot;unit_address&quot;: null, &quot;unit_number&quot;: null, &quot;unit_type&quot;: null, &quot;agreement_date&quot;: null, &quot;lease_start&quot;: null, &quot;lease_end&quot;: null, &quot;lease_auto_renew&quot;: null, &quot;hourly_rate&quot;: null, &quot;monthly_rent&quot;: null, &quot;prorated_rent&quot;: null, &quot;security_deposit&quot;: null, &quot;lease_rent&quot;: null, &quot;monthly_payment_breakdown&quot;: null, &quot;utility_charges&quot;: null&lt;unk&gt;&lt;/s&gt;                                                                                                                                                                                                                                                                                                                                                                                                                                                                                                                                     </td><td>&lt;pad&gt; ACCESS BY LESSOR&lt;/s&gt;                                                                                                                                                                                                                                                                                                                                                                                                                                                                                                                                                                                                                                                                                                                                                                                                                                                                                                                                                                                                                                                                                                                                                                                                                                                                                                                                                                                                                                                                                                                                                                                                                                                                                                                                                                                                                                                                                                                                                                                                                                                                                                                                                                                                                                                                                                                                                                                           </td></tr>\\n<tr><td style=\"text-align: right;\"> 53</td><td>&lt;unk&gt;&quot;tenant_name&quot;: null, &quot;unit_address&quot;: null, &quot;unit_number&quot;: null, &quot;unit_type&quot;: null, &quot;agreement_date&quot;: null, &quot;lease_start&quot;: null, &quot;lease_end&quot;: null, &quot;lease_auto_renew&quot;: null, &quot;hourly_rate&quot;: null, &quot;monthly_rent&quot;: null, &quot;prorated_rent&quot;: null, &quot;security_deposit&quot;: null, &quot;lease_rent&quot;: null, &quot;monthly_payment_breakdown&quot;: null, &quot;utility_charges&quot;: null&lt;unk&gt;&lt;/s&gt;                                                                                                                                                                                                                                                                                                                                                                                                                                                                                                                                     </td><td>&lt;pad&gt; &lt;unk&gt; Procedures for Replacement, &lt;unk&gt; Responsibillitetf Owner and Resident, &lt;unk&gt; Responsibillitetf Owner and Resident, &lt;unk&gt; Responsibillitetf Owner and Resident, &lt;unk&gt; Responsibillitetf Owner and Resident, &lt;unk&gt; Responsibillitetf Owner and Resident, &lt;unk&gt; Responsibillitetf Owner and Resident, &lt;unk&gt; Responsibillitetf Owner and Resident, &lt;unk&gt; Responsibillitetf Owner and Resident, &lt;unk&gt; Responsibillitetf Owner and Resident, &lt;unk&gt; Responsibillitetf Owner and Resident, &lt;unk&gt; Responsibillitetf Owner and Resident, &lt;unk&gt; Responsibillitetf Owner and Resident, &lt;unk&gt; Responsibillitetf Owner and Resident, &lt;unk&gt; Responsibillitetf Owner and Resident, &lt;unk&gt; Responsibillitetf Owner and Resident, &lt;unk&gt; Responsibillitetf Owner and Resident, &lt;unk&gt; Responsibillitetf Owner and Resident, &lt;unk&gt; Responsibillitetf Owner and Resident, &lt;unk&gt; Responsibillitetf Owner and Resident, &lt;unk&gt; Responsibillitetf Owner and Resident, &lt;unk&gt; Responsibillitetf Owner and Resident, &lt;unk&gt; Responsibillitetf Owner and Resident, &lt;unk&gt; Responsibillitetf Owner and Resident, &lt;unk&gt; Responsibillitetf Owner and Resident, &lt;unk&gt; Responsibillitetf Owner and Resident, &lt;unk&gt; Responsibillitetf Owner and Resident, &lt;unk&gt; Responsibillitetf Owner and Resident, &lt;unk&gt; Responsibillitetf Owner and Resident, &lt;unk&gt; Responsibillitetf Owner and Resident, &lt;unk&gt; Responsibillitetf Owner and Resident, &lt;unk&gt; Responsibillitetf Owner and Resident, &lt;unk&gt; Responsibillitetf Owner and Resident, &lt;unk&gt; Responsibillitetf Owner and Resident, &lt;unk&gt; Responsibillitetf Owner and Resident, &lt;unk&gt; Responsibillitetf Owner and Resident, &lt;unk&gt; Responsibillitetf Owner and Resident,                                                                                                                                                                                                                                                                                                                                                                                                                                                                                                                                                                                                                                                                                                                              </td></tr>\\n<tr><td style=\"text-align: right;\"> 54</td><td>&lt;unk&gt;&quot;tenant_name&quot;: &quot;HOGAR INC.&quot;, &quot;unit_address&quot;: &quot;12 EAST 196&quot;, &quot;unit_number&quot;: &quot;1A&quot;, &quot;unit_type&quot;: null, &quot;agreement_date&quot;: &quot;2022-11-17&quot;, &quot;lease_start&quot;: &quot;2023-02-01&quot;, &quot;lease_end&quot;: &quot;2024-01-31&quot;, &quot;lease_auto_renew&quot;: null, &quot;hourly_rate&quot;: null, &quot;monthly_rent&quot;: 1695.71, &quot;prorated_rent&quot;: null, &quot;security_deposit&quot;: 1626.1, &quot;lease_rent&quot;: 20348.52, &quot;monthly_payment_breakdown&quot;: &lt;unk&gt;&quot;1 year renewal&quot;: 1695.71, &quot;2 year renewal&quot;: 1724.45&lt;unk&gt;, &quot;utility_charges&quot;: &lt;unk&gt;&quot;Air conditioner&quot;: 0.0, &quot;Appliances&quot;: 0.0, &quot;421a (2.2%)&quot;: 0.0, &quot;Other&quot;: 0.0&lt;unk&gt;&lt;/s&gt;                                                                                                                                                                                                                                                                                                                                             </td><td>&lt;pad&gt; 1. The owner hereby notifies you that your lease will expire on: 01/31/23 2. You may renew this lease, for one or two years, at your option, as follows: Column A Renewal Term Column B Legal Rent on Sept.30th Preceding Commencement Date of this Renewal Lease Column C Guideline % or Minimum $ Amount (If unknown, check box and see below)* :unselected: Column D Applicable Guideline Supplement, if any Column E Lawful Rent Increase, if any, Effective after Sept. 30th Column F New Legal Rent (If a lower rent is to be charged, check box and sce item 5 below) :selected: 1 Year $ 1,72.01 ( 3.25 %) $ 57.59 $ 0.00 S 0.00 $ 1.829.60 2 Years Same as 1 Year&lt;/s&gt;                                                                                                                                                                                                                                                                                                                                                                                                                                                                                                                                                                                                                                                                                                                                                                                                                                                                                                                                                                                                                                                                                                                                                                                                                                                                                                                                                                                                                                                                                                                                                                                                                                                                                                                                 </td></tr>\\n<tr><td style=\"text-align: right;\"> 55</td><td>&lt;unk&gt;&quot;tenant_name&quot;: null, &quot;unit_address&quot;: null, &quot;unit_number&quot;: null, &quot;unit_type&quot;: null, &quot;agreement_date&quot;: null, &quot;lease_start&quot;: null, &quot;lease_end&quot;: null, &quot;lease_auto_renew&quot;: null, &quot;hourly_rate&quot;: null, &quot;monthly_rent&quot;: null, &quot;prorated_rent&quot;: null, &quot;security_deposit&quot;: null, &quot;lease_rent&quot;: null, &quot;monthly_payment_breakdown&quot;: null, &quot;utility_charges&quot;: null&lt;unk&gt;&lt;/s&gt;                                                                                                                                                                                                                                                                                                                                                                                                                                                                                                                                     </td><td>&lt;pad&gt; RESPONSIBILITIES OF OWNER, RESPONSIBILITIES OF OWNER, RESPONSIBILITIES OF OWNER, RESPONSIBILITIES OF OWNER, RESPONSIBILITIES OF OWNER, RESPONSIBILITIES OF OWNER, RESPONSIBILITIES OF OWNER, RESPONSIBILITIES OF OWNER, RESPONSIBILITIES OF OWNER, RESPONSIBILITIES OF OWNER, RESPONSIBILITIES OF OWNER, RESPONSIBILITIES OF OWNER, RESPONSIBILITIES OF OWNER, RESPONSIBILITIES OF OWNER, RESPONSIBILITIES OF OWNER, RESPONSIBILITIES OF OWNER, RESPONSIBILITIES OF OWNER, RESPONSIBILITIES OF OWNER, RESPONSIBILITIES OF OWNER, RESPONSIBILITIES OF OWNER, RESPONSIBILITIES OF OWNER, RESPONSIBILITIES OF OWNER, RESPONSIBILITIES OF OWNER, RESPONSIBILITIES OF OWNER, RESPONSIBILITIES OF OWNER, RESPONSIBILITIES OF OWNER, RESPONSIBILITIES OF OWNER, RESPONSIBILITIES OF OWNER, RESPONSIBILITIES OF OWNER, RESPONSIBILITIES OF OWNER, RESPONSIBILITIES OF OWNER, RESPONSIBILITIES OF OWNER, RESPONSIBILITIES OF OWNER, RESPONSIBILITIES OF OWNER, RESPONSIBILITIES OF OWNER, RESPONSIBILITIES OF OWNER, RESPONSIBILIT                                                                                                                                                                                                                                                                                                                                                                                                                                                                                                                                                                                                                                                                                                                                                                                                                                                                                                                                                                                                                                                                                                                                                                                                                                                                                                                                                                                      </td></tr>\\n<tr><td style=\"text-align: right;\"> 56</td><td>&lt;unk&gt;&quot;tenant_name&quot;: &quot;Novy Jezkova&quot;, &quot;unit_address&quot;: &quot;2501 Mountain Lodge Circle, Vestavia Hills, Alabama, 35216&quot;, &quot;unit_number&quot;: &quot;2501E&quot;, &quot;unit_type&quot;: null, &quot;agreement_date&quot;: &quot;2023-05-25&quot;, &quot;lease_start&quot;: &quot;2023-05-25&quot;, &quot;lease_end&quot;: null, &quot;lease_auto_renew&quot;: &quot;month to month&quot;, &quot;hourly_rate&quot;: null, &quot;monthly_rent&quot;: null, &quot;prorated_rent&quot;: null, &quot;security_deposit&quot;: null, &quot;lease_rent&quot;: null, &quot;monthly_payment_breakdown&quot;: null, &quot;utility_charges&quot;: null&lt;unk&gt;&lt;/s&gt;                                                                                                                                                                                                                                                                                                                                                                                                                                    </td><td>&lt;pad&gt; DWELLING_UNIT_DESCRIPTION, GUEST, LEASE_END_DATE, GUEST, LEASE_ABANDONMENT, GUEST, LEASE_ABANDONMENT, GUEST, GUEST, GUEST, GUEST, GUEST, GUEST, GUEST, GUEST, GUEST, GUEST, GUEST, GUEST, GUEST, GUEST, GUEST, GUEST, GUEST, GUEST, GUEST, GUEST, GUEST, GUEST, GUEST, GUEST, GUEST, GUEST, GUEST, GUEST, GUEST, GUEST, GUEST, GUEST, GUEST, GUEST, GUEST, GUEST, GUEST, GUEST, GUEST, GUEST, GUEST, GUEST, GUEST, GUEST, GUEST, GUEST, GUEST, GUEST, GUEST, GUEST, GUEST, GUEST, GUEST, GUEST, GUEST, GUEST, GUEST, GUEST, GUEST, GUEST, GUEST, GUEST, GUEST, GUEST, GUEST, GUEST, GUEST, GUEST, GUEST, GUEST, GUEST, GUEST, GUEST, GUEST, GUEST, GUEST, GUEST, GUEST, GUEST, GUEST, GUEST, GUEST, GUEST, GUEST, GUEST, GUEST, GUEST, GUEST, GUEST, GUEST, GUEST, GUEST, GUEST, GUEST, GUEST, GUEST, GUEST, GUEST, GUEST, GUEST, GUEST, GUEST, GUEST, GUEST, GUEST, GUEST, GUEST, GUEST, GUEST, GUEST, GUEST, GUEST, GUEST, GUEST, GUEST, GUEST                                                                                                                                                                                                                                                                                                                                                                                                                                                                                                                                                                                                                                                                                                                                                                                                                                                                                                                                                                                                                                                                                                                                                                                                                                                                                                                                                                                                                                                               </td></tr>\\n<tr><td style=\"text-align: right;\"> 57</td><td>&lt;unk&gt;&quot;tenant_name&quot;: &quot;Zoev Medina&quot;, &quot;unit_address&quot;: &quot;8030 E Lakeside Parkway, Tucson, AZ 85730&quot;, &quot;unit_number&quot;: &quot;01102&quot;, &quot;unit_type&quot;: &quot;unfurnished apartment&quot;, &quot;agreement_date&quot;: &quot;2023-03-06&quot;, &quot;lease_start&quot;: &quot;2023-03-06&quot;, &quot;lease_end&quot;: &quot;2023-09-05&quot;, &quot;lease_auto_renew&quot;: &quot;month-to-month&quot;, &quot;hourly_rate&quot;: null, &quot;monthly_rent&quot;: 993.7, &quot;prorated_rent&quot;: null, &quot;security_deposit&quot;: 500.0, &quot;lease_rent&quot;: 5962.2, &quot;monthly_payment_breakdown&quot;: &lt;unk&gt;&quot;Rent&quot;: 1046.0, &quot;Pet Rent&quot;: 0.0, &quot;Parking Rent, Garage, Storage&quot;: 0.0, &quot;Water, Sewer, and Trash Charge&quot;: 0.0, &quot;Furniture &amp; Utility Package&quot;: 0.0, &quot;Other Charges&quot;: 0.0, &quot;Other Discounts&quot;: -52.3, &quot;Subtotal&quot;: 993.7, &quot;City Sales Tax&quot;: &quot;N/A&quot;, &quot;TOTAL MONTHLY RENT&quot;: 993.7&lt;unk&gt;, &quot;utility_charges&quot;: &lt;unk&gt;&quot;Electricity&quot;: &quot;Paid By: Lessee&quot;, &quot;Water, sewer &amp; trash charges&quot;: &quot;Paid By: Lessee&quot;, &quot;Other: Telephone, Cable, etc.&quot;: &quot;Paid By: Lessee&quot;&lt;unk&gt;&lt;/s&gt;</td><td>&lt;pad&gt; 1. LEASE TERM: The initial term of the Lease Contract beginning March 06, 2023 and ending at midnight on September 05, 2023 (Initial Term) for an unfurnished apartment and Lessee(s) shall pay rent, tax, charges and deposits as set forth below. This Lease will automatically renew month-to-month unless either party gives at least sixty (60) days written notice of termination or intent&lt;/s&gt;                                                                                                                                                                                                                                                                                                                                                                                                                                                                                                                                                                                                                                                                                                                                                                                                                                                                                                                                                                                                                                                                                                                                                                                                                                                                                                                                                                                                                                                                                                                                                                                                                                                                                                                                                                                                                                                                                                                                                                                                          </td></tr>\\n<tr><td style=\"text-align: right;\"> 58</td><td>&lt;unk&gt;&quot;tenant_name&quot;: null, &quot;unit_address&quot;: null, &quot;unit_number&quot;: null, &quot;unit_type&quot;: null, &quot;agreement_date&quot;: null, &quot;lease_start&quot;: null, &quot;lease_end&quot;: null, &quot;lease_auto_renew&quot;: null, &quot;hourly_rate&quot;: null, &quot;monthly_rent&quot;: null, &quot;prorated_rent&quot;: null, &quot;security_deposit&quot;: null, &quot;lease_rent&quot;: null, &quot;monthly_payment_breakdown&quot;: null, &quot;utility_charges&quot;: null&lt;unk&gt;&lt;/s&gt;                                                                                                                                                                                                                                                                                                                                                                                                                                                                                                                                     </td><td>&lt;pad&gt; &quot;, &quot;type&quot;: [ &quot;string&quot;, &quot;null&quot; ], &quot;description&quot;: &quot;The date when the lease ends, found in the OCR text.&quot; &lt;unk&gt;, &quot;lease_start&quot;: &lt;unk&gt; &quot;type&quot;: [ &quot;string&quot;, &quot;null&quot; ], &quot;format&quot;: &quot;date&quot; ], &quot;description&quot;: &quot;The date when the lease starts, found in the OCR text.&quot; &lt;unk&gt;, &quot;lease_end&quot;: &lt;unk&gt; &quot;type&quot;: [ &quot;string&quot;, &quot;null&quot; ], &quot;description&quot;: &quot;The date when the lease ends, found in the OCR text.&quot;&lt;/s&gt;                                                                                                                                                                                                                                                                                                                                                                                                                                                                                                                                                                                                                                                                                                                                                                                                                                                                                                                                                                                                                                                                                                                                                                                                                                                                                                                                                                                                                                                                                                                                                                                                                                                                                                                                                                                                                                                                                                                                                                                                                 </td></tr>\\n<tr><td style=\"text-align: right;\"> 59</td><td>&lt;unk&gt;&quot;tenant_name&quot;: &quot;Trevor J. Breed&quot;, &quot;unit_address&quot;: &quot;2640 Woodridge Ct, Placerville, CA 95667&quot;, &quot;unit_number&quot;: &quot;24&quot;, &quot;unit_type&quot;: null, &quot;agreement_date&quot;: &quot;2023-08-07&quot;, &quot;lease_start&quot;: null, &quot;lease_end&quot;: null, &quot;lease_auto_renew&quot;: null, &quot;hourly_rate&quot;: null, &quot;monthly_rent&quot;: null, &quot;prorated_rent&quot;: null, &quot;security_deposit&quot;: null, &quot;lease_rent&quot;: null, &quot;monthly_payment_breakdown&quot;: null, &quot;utility_charges&quot;: null&lt;unk&gt;&lt;/s&gt;                                                                                                                                                                                                                                                                                                                                                                                                                                                                          </td><td>&lt;pad&gt; Tenant&lt;/s&gt;                                                                                                                                                                                                                                                                                                                                                                                                                                                                                                                                                                                                                                                                                                                                                                                                                                                                                                                                                                                                                                                                                                                                                                                                                                                                                                                                                                                                                                                                                                                                                                                                                                                                                                                                                                                                                                                                                                                                                                                                                                                                                                                                                                                                                                                                                                                                                                                                     </td></tr>\\n<tr><td style=\"text-align: right;\"> 60</td><td>&lt;unk&gt;&quot;tenant_name&quot;: &quot;Leobouchereau&quot;, &quot;unit_address&quot;: null, &quot;unit_number&quot;: null, &quot;unit_type&quot;: null, &quot;agreement_date&quot;: &quot;2022-12-03&quot;, &quot;lease_start&quot;: null, &quot;lease_end&quot;: null, &quot;lease_auto_renew&quot;: null, &quot;hourly_rate&quot;: null, &quot;monthly_rent&quot;: null, &quot;prorated_rent&quot;: null, &quot;security_deposit&quot;: null, &quot;lease_rent&quot;: null, &quot;monthly_payment_breakdown&quot;: null, &quot;utility_charges&quot;: null&lt;unk&gt;&lt;/s&gt;                                                                                                                                                                                                                                                                                                                                                                                                                                                                                                                  </td><td>&lt;pad&gt; 13.7, Off-Limit Areas, Swimming-pool Areas, Laundry Rooms, Offices, Clubrooms, Other Recreational Facilities, or other dwelling units besides your own, except that search and rescue dogs shall be allowed to use areas of the property ac- cessible to the general public, such as the leasing office, Cer- tain service animals in training shall also be allowed to use those areas when accompanied by an approved trainer. 13.8 Food &amp; Water. Your animal must be fed and given water in- side the dwelling unit. You may not leave animal food or water outside the dwelling unit at any time, except in fenced yards (if any) for your exclusive use. 13.9 Leash. You must keep the animal on a leash and under your su- pervision when outside the dwelling or in any private fenced area. We or our representative may pick up unleashed animals, report them to the proper authorities, or do both. We&#x27;ll charge you a rea- sonable fee for picking up and keeping unleashed animals. 13.10Animal Waste. Unless we have designated a particular area in your dwelling unit or on the grounds for animal defecation and urination, you are prohibited from letting an animal defecate or urinate anywhere on our property and you must take the animal off our property for that purpose. If we allow animal defeca- tion inside the unit, you must ensure that it&#x27;s done in a litter box with a kitty-litter-type mix. If the animal defecates anywhere on our property (including in a fenced yard for your exclusive use), you must immediately remove the waste and repair any damage. In addition to the terms of this addendum, you must comply with all local&lt;/s&gt;                                                                                                                                                                                                                                                                                                                                                                                                                                                                                                                                                                                                                                                                                                                             </td></tr>\\n<tr><td style=\"text-align: right;\"> 61</td><td>&lt;unk&gt;&quot;tenant_name&quot;: &quot;Peter Mendes Tony Diag&quot;, &quot;unit_address&quot;: null, &quot;unit_number&quot;: null, &quot;unit_type&quot;: null, &quot;agreement_date&quot;: null, &quot;lease_start&quot;: null, &quot;lease_end&quot;: null, &quot;lease_auto_renew&quot;: null, &quot;hourly_rate&quot;: null, &quot;monthly_rent&quot;: null, &quot;prorated_rent&quot;: null, &quot;security_deposit&quot;: null, &quot;lease_rent&quot;: null, &quot;monthly_payment_breakdown&quot;: null, &quot;utility_charges&quot;: null&lt;unk&gt;&lt;/s&gt;                                                                                                                                                                                                                                                                                                                                                                                                                                                                                                                 </td><td>&lt;pad&gt; &lt;unk&gt;, &lt;unk&gt;, &lt;unk&gt;, &lt;unk&gt;, &lt;unk&gt;, &lt;unk&gt;, &lt;unk&gt;, &lt;unk&gt;, &lt;unk&gt;, &lt;unk&gt;, &lt;unk&gt;, &lt;unk&gt;, &lt;unk&gt;, &lt;unk&gt;, &lt;unk&gt;, &lt;unk&gt;, &lt;unk&gt;, &lt;unk&gt;, &lt;unk&gt;, &lt;unk&gt;, &lt;unk&gt;, &lt;unk&gt;, &lt;unk&gt;, &lt;unk&gt;, &lt;unk&gt;, &lt;unk&gt;, &lt;unk&gt;, &lt;unk&gt;, &lt;unk&gt;, &lt;unk&gt;, &lt;unk&gt;, &lt;unk&gt;, &lt;unk&gt;, &lt;unk&gt;, &lt;unk&gt;, &lt;unk&gt;, &lt;unk&gt;, &lt;unk&gt;, &lt;unk&gt;, &lt;unk&gt;, &lt;unk&gt;, &lt;unk&gt;, &lt;unk&gt;, &lt;unk&gt;, &lt;unk&gt;, &lt;unk&gt;, &lt;unk&gt;, &lt;unk&gt;, &lt;unk&gt;, &lt;unk&gt;, &lt;unk&gt;, &lt;unk&gt;, &lt;unk&gt;, &lt;unk&gt;, &lt;unk&gt;, &lt;unk&gt;, &lt;unk&gt;, &lt;unk&gt;, &lt;unk&gt;, &lt;unk&gt;, &lt;unk&gt;, &lt;unk&gt;, &lt;unk&gt;, &lt;unk&gt;, &lt;unk&gt;, &lt;unk&gt;, &lt;unk&gt;, &lt;unk&gt;, &lt;unk&gt;, &lt;unk&gt;, &lt;unk&gt;, &lt;unk&gt;, &lt;unk&gt;, &lt;unk&gt;, &lt;unk&gt;, &lt;unk&gt;, &lt;unk&gt;, &lt;unk&gt;, &lt;unk&gt;, &lt;unk&gt;, &lt;unk&gt;, &lt;unk&gt;, &lt;unk&gt;, &lt;unk&gt;, &lt;unk&gt;, &lt;unk&gt;, &lt;unk&gt;, &lt;unk&gt;, &lt;unk&gt;, &lt;unk&gt;, &lt;unk&gt;, &lt;unk&gt;, &lt;unk&gt;, &lt;unk&gt;, &lt;unk&gt;, &lt;unk&gt;, &lt;unk&gt;, &lt;unk&gt;, &lt;unk&gt;, &lt;unk&gt;, &lt;unk&gt;, &lt;unk&gt;, &lt;unk&gt;, &lt;unk&gt;, &lt;unk&gt;, &lt;unk&gt;, &lt;unk&gt;, &lt;unk&gt;, &lt;unk&gt;, &lt;unk&gt;, &lt;unk&gt;, &lt;unk&gt;, &lt;unk&gt;, &lt;unk&gt;, &lt;unk&gt;, &lt;unk&gt;, &lt;unk&gt;, &lt;unk&gt;, &lt;unk&gt;, &lt;unk&gt;, &lt;unk&gt;, &lt;unk&gt;, &lt;unk&gt;, &lt;unk&gt;, &lt;unk&gt;, &lt;unk&gt;, &lt;unk&gt;, &lt;unk&gt;, &lt;unk&gt;, &lt;unk&gt;, &lt;unk&gt;, &lt;unk&gt;, &lt;unk&gt;, &lt;unk&gt;, &lt;unk&gt;, &lt;unk&gt;, &lt;unk&gt;, &lt;unk&gt;, &lt;unk&gt;, &lt;unk&gt;, &lt;unk&gt;, &lt;unk&gt;, &lt;unk&gt;, &lt;unk&gt;, &lt;unk&gt;, &lt;unk&gt;, &lt;unk&gt;, &lt;unk&gt;, &lt;unk&gt;, &lt;unk&gt;, &lt;unk&gt;, &lt;unk&gt;, &lt;unk&gt;, &lt;unk&gt;, &lt;unk&gt;, &lt;unk&gt;, &lt;unk&gt;, &lt;unk&gt;, &lt;unk&gt;, &lt;unk&gt;, &lt;unk&gt;, &lt;unk&gt;, &lt;unk&gt;, &lt;unk&gt;, &lt;unk&gt;, &lt;unk&gt;, &lt;unk&gt;, &lt;unk&gt;, &lt;unk&gt;, &lt;unk&gt;, &lt;unk&gt;                                                                                                                                                                                                                                                                                                                                                                                                                                                                                                                                                                                                                                                                                                                                                                                                                                                                                                                                                                                                                                                                                                                                                                    </td></tr>\\n<tr><td style=\"text-align: right;\"> 62</td><td>&lt;unk&gt;&quot;tenant_name&quot;: &quot;Mariam M. Shamoun&quot;, &quot;unit_address&quot;: &quot;939 East Washington Ave&quot;, &quot;unit_number&quot;: null, &quot;unit_type&quot;: &quot;2 Bed / 1 Bath, 800 sq. ft.&quot;, &quot;agreement_date&quot;: &quot;2016-02-02&quot;, &quot;lease_start&quot;: &quot;2016-02-04&quot;, &quot;lease_end&quot;: null, &quot;lease_auto_renew&quot;: &quot;month-to-month&quot;, &quot;hourly_rate&quot;: null, &quot;monthly_rent&quot;: 1350.0, &quot;prorated_rent&quot;: null, &quot;security_deposit&quot;: 500.0, &quot;lease_rent&quot;: null, &quot;monthly_payment_breakdown&quot;: null, &quot;utility_charges&quot;: null&lt;unk&gt;&lt;/s&gt;                                                                                                                                                                                                                                                                                                                                                                                                                                         </td><td>&lt;pad&gt; Initial, Last): Mariam M. Shamoun NAME (First, Middle Initial, Last): Youland S. Yalda NAME (First, Middle Initial, Last): LIST OF ALL OCCUPANTS (Do not list any Residents from above): NAME (First, Middle Initial, Last): DATE OF BIRTH: NAME (First, Middle Initial, Last): DATE OF BIRTH: NAME (First, Middle Initial, Last):&lt;/s&gt;                                                                                                                                                                                                                                                                                                                                                                                                                                                                                                                                                                                                                                                                                                                                                                                                                                                                                                                                                                                                                                                                                                                                                                                                                                                                                                                                                                                                                                                                                                                                                                                                                                                                                                                                                                                                                                                                                                                                                                                                                                                                         </td></tr>\\n<tr><td style=\"text-align: right;\"> 63</td><td>&lt;unk&gt;&quot;tenant_name&quot;: &quot;Leobouchereau&quot;, &quot;unit_address&quot;: null, &quot;unit_number&quot;: null, &quot;unit_type&quot;: null, &quot;agreement_date&quot;: &quot;2022-12-03&quot;, &quot;lease_start&quot;: null, &quot;lease_end&quot;: null, &quot;lease_auto_renew&quot;: &quot;Expired leases will automatically renew on a month-to-month basis at market rate plus a $250.00 month-to-month fee unless a lease renewal is fully executed.&quot;, &quot;hourly_rate&quot;: null, &quot;monthly_rent&quot;: 1250.0, &quot;prorated_rent&quot;: null, &quot;security_deposit&quot;: null, &quot;lease_rent&quot;: null, &quot;monthly_payment_breakdown&quot;: &lt;unk&gt;&quot;Total Monthly Payment&quot;: 1250.0, &quot;pet rent&quot;: null, &quot;reserved parking&quot;: null&lt;unk&gt;, &quot;utility_charges&quot;: null&lt;unk&gt;&lt;/s&gt;                                                                                                                                                                                                                                                                     </td><td>&lt;pad&gt; 26.2., Move-Out Inspection, Our, but, but are not obligated to, provide a joint move-out inspection, Our, but, but are not obligated to, provide a joint move-out inspection, Our, but, but are not obligated to, provide a joint move-out inspection, Our, but, but are not obligated to, provide a joint move-out inspection, Our, but, but are not obligated to, provide a joint move-out inspection, Our, but, but are not obligated to, provide a joint move-out inspection, Our, but, but are not obligated to, provide a joint move-out inspection, Our, but, but are not obligated to, provide a joint move-out inspection, Our, but, but are not obligated to, provide a joint move-out inspection, Our, but, but are not obligated to, provide a joint move-out inspection, Our, but, but are not obligated to, provide a joint move-out inspection, Our, but, but are not obligated to, provide a joint move-out inspection, Our, but, but are not obligated to, provide a joint move-out inspection, Our, but, but are not obligated to, provide a joint move-out inspection, Our, but, but are not obligated to, provide a joint move-out inspection, Our, but, but are not obligated to, provide a joint move-out inspection, Our, but, but are not obligated to, provide a joint move-out inspection, Our, but, but are not obligated to, provide a joint move-out inspection, Our, but, but are not obligated to, provide a joint move-out inspection, Our, but, but are not obligated to, provide a joint move-out inspection, Our, but, but are not obligated to, provide a joint move-out inspection, Our, but, but are not obligated to, provide a joint move-out inspection, Our, but, but are not obligated to, provide a joint move-out inspection, Our, but, but are not obligated to, provide a joint move-out inspection                                                                                                                                                                                                                                                                                                                                                                                                                                                                                                                                                             </td></tr>\\n<tr><td style=\"text-align: right;\"> 64</td><td>&lt;unk&gt;&quot;tenant_name&quot;: null, &quot;unit_address&quot;: null, &quot;unit_number&quot;: null, &quot;unit_type&quot;: null, &quot;agreement_date&quot;: null, &quot;lease_start&quot;: null, &quot;lease_end&quot;: null, &quot;lease_auto_renew&quot;: null, &quot;hourly_rate&quot;: null, &quot;monthly_rent&quot;: null, &quot;prorated_rent&quot;: null, &quot;security_deposit&quot;: null, &quot;lease_rent&quot;: null, &quot;monthly_payment_breakdown&quot;: null, &quot;utility_charges&quot;: null&lt;unk&gt;&lt;/s&gt;                                                                                                                                                                                                                                                                                                                                                                                                                                                                                                                                     </td><td>&lt;pad&gt; &lt;unk&gt; LESSEES_RESPONSIBILITY_AND_COSTS_TO_COVER_THE_INCOME_OF_THE_ANIMALS, if we allow an animal of any kind, you must sign a separate animal addendum, post a non-refundable animal deposit and pay pet rent in the amount to be determined by the LESSOR. We will authorize a service or companion animal for a disabled person but may require a written statement from a qualified professional verifying the need for the service animal. If you or any guest or occupant violates animal restrictions, you will be subject to charges, damages, and/or eviction, and such other remedies provided in this lease. If an animal has been in the residence at any time during your term of occupancy (with or without our consent), we&#x27;ll charge you for all necessary cleaning including but not limited to de-fleaing, deodorizing, and carpet shampooing. Initial and daily animal violation charges and animal-removal charges are liquidated damages for our inconvenience and overhead (except for attorney&#x27;s fees and litigation costs) in enforcing animal restrictions and rules. SM INITIALS LESSEE also agrees to carry insurance deemed appropriate by OWNER tBcover possible liability and damages that may be caused by such animals, if we allow an animal. SM INITIALS If the animal is creating a nuisance or damaging property, and LESSEE is unavailable or refuses to correct the problem, the LESSOR may keep of kennel the animal or turn the animal over to local animal control authorities at LESSEES expense. SM INITIALS LESSEEs are responsible for the pets of guests who visit their unit.&lt;/s&gt;                                                                                                                                                                                                                                                                                                                                                                                                                                                                                                                                                                                                                                                                                                                                                                                </td></tr>\\n<tr><td style=\"text-align: right;\"> 65</td><td>&lt;unk&gt;&quot;tenant_name&quot;: null, &quot;unit_address&quot;: null, &quot;unit_number&quot;: null, &quot;unit_type&quot;: null, &quot;agreement_date&quot;: null, &quot;lease_start&quot;: null, &quot;lease_end&quot;: null, &quot;lease_auto_renew&quot;: null, &quot;hourly_rate&quot;: null, &quot;monthly_rent&quot;: null, &quot;prorated_rent&quot;: null, &quot;security_deposit&quot;: null, &quot;lease_rent&quot;: null, &quot;monthly_payment_breakdown&quot;: null, &quot;utility_charges&quot;: null&lt;unk&gt;&lt;/s&gt;                                                                                                                                                                                                                                                                                                                                                                                                                                                                                                                                     </td><td>&lt;pad&gt; LESSOR, DS INITIALS. BM, TERM, MONTHLY, MONTHLY, MONTHLY, MONTHLY, MONTHLY, MONTHLY, MONTHLY, MONTHLY, MONTHLY, MONTHLY, MONTHLY, MONTHLY, MONTHLY, MONTHLY, MONTHLY, MONTHLY, MONTHLY, MONTHLY, MONTHLY, MONTHLY, MONTHLY, MONTHLY, MONTHLY, MONTHLY, MONTHLY, MONTHLY, MONTHLY, MONTHLY, MONTHLY, MONTHLY, MONTHLY, MONTHLY, MONTHLY, MONTHLY, MONTHLY, MONTHLY, MONTHLY, MONTHLY, MONTHLY, MONTHLY, MONTHLY, MONTHLY, MONTHLY, MONTHLY, MONTHLY, MONTHLY, MONTHLY, MONTHLY, MONTHLY, MONTHLY, MONTHLY, MONTHLY, MONTHLY, MONTHLY, MONTHLY, MONTHLY, MONTHLY, MONTHLY, MONTHLY, MONTHLY, MONTHLY, MONTHLY, MONTHLY, MONTHLY, MONTHLY, MONTHLY, MONTHLY, MONTHLY, MONTHLY, MONTHLY, MONTHLY, MONTHLY, MONTHLY, MONTHLY, MONTHLY, MONTHLY, MONTHLY, MONTHLY, MONTHLY, MONTHLY, MONTHLY, MONTHLY, MONTHLY, MONTHLY, MONTHLY, MONTHLY, MONTHLY, MONTHLY, MONTHLY, MONTHLY, MONTHLY, MONTHLY, MONTHLY, MONTHLY, MONTHLY, MONTHLY, MONTHLY, MONTHLY, MONTHLY                                                                                                                                                                                                                                                                                                                                                                                                                                                                                                                                                                                                                                                                                                                                                                                                                                                                                                                                                                                                                                                                                                                                                                                                                                                                                                                                                                                                                                                       </td></tr>\\n<tr><td style=\"text-align: right;\"> 66</td><td>&lt;unk&gt;&quot;tenant_name&quot;: null, &quot;unit_address&quot;: null, &quot;unit_number&quot;: null, &quot;unit_type&quot;: null, &quot;agreement_date&quot;: null, &quot;lease_start&quot;: null, &quot;lease_end&quot;: null, &quot;lease_auto_renew&quot;: null, &quot;hourly_rate&quot;: null, &quot;monthly_rent&quot;: null, &quot;prorated_rent&quot;: null, &quot;security_deposit&quot;: null, &quot;lease_rent&quot;: null, &quot;monthly_payment_breakdown&quot;: null, &quot;utility_charges&quot;: null&lt;unk&gt;&lt;/s&gt;                                                                                                                                                                                                                                                                                                                                                                                                                                                                                                                                     </td><td>&lt;pad&gt; Default, F.S. 83.52, or material provisions of the lease, the rules and regulations, or any addenda (other than failure to pay rent due), and the non- compliance is of a nature that YOU SHOULD NOT BE GIVEN AN OPPORTUNITY TO CURE or if your non-compliance CONSTITUTES A SECOND OR CONTINUING Default&lt;/s&gt;                                                                                                                                                                                                                                                                                                                                                                                                                                                                                                                                                                                                                                                                                                                                                                                                                                                                                                                                                                                                                                                                                                                                                                                                                                                                                                                                                                                                                                                                                                                                                                                                                                                                                                                                                                                                                                                                                                                                                                                                                                                                                                  </td></tr>\\n</tbody>\\n</table>'"
      ]
     },
     "execution_count": 17,
     "metadata": {},
     "output_type": "execute_result"
    }
   ],
   "source": [
    "from tabulate import tabulate\n",
    "\n",
    "# Prepare data for tabulation\n",
    "table_data = []\n",
    "for i, (pred, ref) in enumerate(zip(predictions, references), 1):\n",
    "    table_data.append([i, ref, pred])\n",
    "\n",
    "# Define table headers\n",
    "headers = [\"#\", \"Reference data\", \"Extracted data (Finetuned model)\"]\n",
    "\n",
    "# Display the table\n",
    "tabulate(table_data, headers=headers, tablefmt=\"html\", showindex=False)\n"
   ]
  },
  {
   "cell_type": "code",
   "execution_count": 18,
   "metadata": {
    "execution": {
     "iopub.execute_input": "2024-09-02T21:18:58.205915Z",
     "iopub.status.busy": "2024-09-02T21:18:58.205539Z",
     "iopub.status.idle": "2024-09-02T21:18:58.207658Z",
     "shell.execute_reply": "2024-09-02T21:18:58.207296Z"
    }
   },
   "outputs": [],
   "source": [
    "# TODO: calculate accuracy using metrics"
   ]
  }
 ],
 "metadata": {
  "kernelspec": {
   "display_name": ".venv",
   "language": "python",
   "name": "python3"
  },
  "language_info": {
   "codemirror_mode": {
    "name": "ipython",
    "version": 3
   },
   "file_extension": ".py",
   "mimetype": "text/x-python",
   "name": "python",
   "nbconvert_exporter": "python",
   "pygments_lexer": "ipython3",
   "version": "3.12.3"
  },
  "widgets": {
   "application/vnd.jupyter.widget-state+json": {
    "state": {
     "00f7927749c84139abe6d0204c0d2420": {
      "model_module": "@jupyter-widgets/controls",
      "model_module_version": "2.0.0",
      "model_name": "HTMLStyleModel",
      "state": {
       "_model_module": "@jupyter-widgets/controls",
       "_model_module_version": "2.0.0",
       "_model_name": "HTMLStyleModel",
       "_view_count": null,
       "_view_module": "@jupyter-widgets/base",
       "_view_module_version": "2.0.0",
       "_view_name": "StyleView",
       "background": null,
       "description_width": "",
       "font_size": null,
       "text_color": null
      }
     },
     "015f4236a26547bd98bc0869157cfe3b": {
      "model_module": "@jupyter-widgets/base",
      "model_module_version": "2.0.0",
      "model_name": "LayoutModel",
      "state": {
       "_model_module": "@jupyter-widgets/base",
       "_model_module_version": "2.0.0",
       "_model_name": "LayoutModel",
       "_view_count": null,
       "_view_module": "@jupyter-widgets/base",
       "_view_module_version": "2.0.0",
       "_view_name": "LayoutView",
       "align_content": null,
       "align_items": null,
       "align_self": null,
       "border_bottom": null,
       "border_left": null,
       "border_right": null,
       "border_top": null,
       "bottom": null,
       "display": null,
       "flex": null,
       "flex_flow": null,
       "grid_area": null,
       "grid_auto_columns": null,
       "grid_auto_flow": null,
       "grid_auto_rows": null,
       "grid_column": null,
       "grid_gap": null,
       "grid_row": null,
       "grid_template_areas": null,
       "grid_template_columns": null,
       "grid_template_rows": null,
       "height": null,
       "justify_content": null,
       "justify_items": null,
       "left": null,
       "margin": null,
       "max_height": null,
       "max_width": null,
       "min_height": null,
       "min_width": null,
       "object_fit": null,
       "object_position": null,
       "order": null,
       "overflow": null,
       "padding": null,
       "right": null,
       "top": null,
       "visibility": null,
       "width": null
      }
     },
     "0209faca083a4cf38839d9509a5efec7": {
      "model_module": "@jupyter-widgets/base",
      "model_module_version": "2.0.0",
      "model_name": "LayoutModel",
      "state": {
       "_model_module": "@jupyter-widgets/base",
       "_model_module_version": "2.0.0",
       "_model_name": "LayoutModel",
       "_view_count": null,
       "_view_module": "@jupyter-widgets/base",
       "_view_module_version": "2.0.0",
       "_view_name": "LayoutView",
       "align_content": null,
       "align_items": null,
       "align_self": null,
       "border_bottom": null,
       "border_left": null,
       "border_right": null,
       "border_top": null,
       "bottom": null,
       "display": null,
       "flex": null,
       "flex_flow": null,
       "grid_area": null,
       "grid_auto_columns": null,
       "grid_auto_flow": null,
       "grid_auto_rows": null,
       "grid_column": null,
       "grid_gap": null,
       "grid_row": null,
       "grid_template_areas": null,
       "grid_template_columns": null,
       "grid_template_rows": null,
       "height": null,
       "justify_content": null,
       "justify_items": null,
       "left": null,
       "margin": null,
       "max_height": null,
       "max_width": null,
       "min_height": null,
       "min_width": null,
       "object_fit": null,
       "object_position": null,
       "order": null,
       "overflow": null,
       "padding": null,
       "right": null,
       "top": null,
       "visibility": null,
       "width": null
      }
     },
     "021108e578de4bff97ee929e3511d412": {
      "model_module": "@jupyter-widgets/controls",
      "model_module_version": "2.0.0",
      "model_name": "HTMLStyleModel",
      "state": {
       "_model_module": "@jupyter-widgets/controls",
       "_model_module_version": "2.0.0",
       "_model_name": "HTMLStyleModel",
       "_view_count": null,
       "_view_module": "@jupyter-widgets/base",
       "_view_module_version": "2.0.0",
       "_view_name": "StyleView",
       "background": null,
       "description_width": "",
       "font_size": null,
       "text_color": null
      }
     },
     "07d22210870d474eae206caecce78016": {
      "model_module": "@jupyter-widgets/base",
      "model_module_version": "2.0.0",
      "model_name": "LayoutModel",
      "state": {
       "_model_module": "@jupyter-widgets/base",
       "_model_module_version": "2.0.0",
       "_model_name": "LayoutModel",
       "_view_count": null,
       "_view_module": "@jupyter-widgets/base",
       "_view_module_version": "2.0.0",
       "_view_name": "LayoutView",
       "align_content": null,
       "align_items": null,
       "align_self": null,
       "border_bottom": null,
       "border_left": null,
       "border_right": null,
       "border_top": null,
       "bottom": null,
       "display": null,
       "flex": null,
       "flex_flow": null,
       "grid_area": null,
       "grid_auto_columns": null,
       "grid_auto_flow": null,
       "grid_auto_rows": null,
       "grid_column": null,
       "grid_gap": null,
       "grid_row": null,
       "grid_template_areas": null,
       "grid_template_columns": null,
       "grid_template_rows": null,
       "height": null,
       "justify_content": null,
       "justify_items": null,
       "left": null,
       "margin": null,
       "max_height": null,
       "max_width": null,
       "min_height": null,
       "min_width": null,
       "object_fit": null,
       "object_position": null,
       "order": null,
       "overflow": null,
       "padding": null,
       "right": null,
       "top": null,
       "visibility": null,
       "width": null
      }
     },
     "08862e3581964e75bb15469b1199311c": {
      "model_module": "@jupyter-widgets/controls",
      "model_module_version": "2.0.0",
      "model_name": "HTMLStyleModel",
      "state": {
       "_model_module": "@jupyter-widgets/controls",
       "_model_module_version": "2.0.0",
       "_model_name": "HTMLStyleModel",
       "_view_count": null,
       "_view_module": "@jupyter-widgets/base",
       "_view_module_version": "2.0.0",
       "_view_name": "StyleView",
       "background": null,
       "description_width": "",
       "font_size": null,
       "text_color": null
      }
     },
     "103e5cdef787431dbe44f3441b37dd89": {
      "model_module": "@jupyter-widgets/controls",
      "model_module_version": "2.0.0",
      "model_name": "HTMLModel",
      "state": {
       "_dom_classes": [],
       "_model_module": "@jupyter-widgets/controls",
       "_model_module_version": "2.0.0",
       "_model_name": "HTMLModel",
       "_view_count": null,
       "_view_module": "@jupyter-widgets/controls",
       "_view_module_version": "2.0.0",
       "_view_name": "HTMLView",
       "description": "",
       "description_allow_html": false,
       "layout": "IPY_MODEL_f44f3a10a271422180240fe84440f226",
       "placeholder": "​",
       "style": "IPY_MODEL_78f16b5032754c7aa41cee6f488c2d12",
       "tabbable": null,
       "tooltip": null,
       "value": " 48.9M/48.9M [00:00&lt;00:00, 107MB/s]"
      }
     },
     "155c4fc646a146cca436ed261de732f9": {
      "model_module": "@jupyter-widgets/base",
      "model_module_version": "2.0.0",
      "model_name": "LayoutModel",
      "state": {
       "_model_module": "@jupyter-widgets/base",
       "_model_module_version": "2.0.0",
       "_model_name": "LayoutModel",
       "_view_count": null,
       "_view_module": "@jupyter-widgets/base",
       "_view_module_version": "2.0.0",
       "_view_name": "LayoutView",
       "align_content": null,
       "align_items": null,
       "align_self": null,
       "border_bottom": null,
       "border_left": null,
       "border_right": null,
       "border_top": null,
       "bottom": null,
       "display": null,
       "flex": null,
       "flex_flow": null,
       "grid_area": null,
       "grid_auto_columns": null,
       "grid_auto_flow": null,
       "grid_auto_rows": null,
       "grid_column": null,
       "grid_gap": null,
       "grid_row": null,
       "grid_template_areas": null,
       "grid_template_columns": null,
       "grid_template_rows": null,
       "height": null,
       "justify_content": null,
       "justify_items": null,
       "left": null,
       "margin": null,
       "max_height": null,
       "max_width": null,
       "min_height": null,
       "min_width": null,
       "object_fit": null,
       "object_position": null,
       "order": null,
       "overflow": null,
       "padding": null,
       "right": null,
       "top": null,
       "visibility": null,
       "width": null
      }
     },
     "1688e365f8bf4035abeb7d060c24cb3a": {
      "model_module": "@jupyter-widgets/base",
      "model_module_version": "2.0.0",
      "model_name": "LayoutModel",
      "state": {
       "_model_module": "@jupyter-widgets/base",
       "_model_module_version": "2.0.0",
       "_model_name": "LayoutModel",
       "_view_count": null,
       "_view_module": "@jupyter-widgets/base",
       "_view_module_version": "2.0.0",
       "_view_name": "LayoutView",
       "align_content": null,
       "align_items": null,
       "align_self": null,
       "border_bottom": null,
       "border_left": null,
       "border_right": null,
       "border_top": null,
       "bottom": null,
       "display": null,
       "flex": null,
       "flex_flow": null,
       "grid_area": null,
       "grid_auto_columns": null,
       "grid_auto_flow": null,
       "grid_auto_rows": null,
       "grid_column": null,
       "grid_gap": null,
       "grid_row": null,
       "grid_template_areas": null,
       "grid_template_columns": null,
       "grid_template_rows": null,
       "height": null,
       "justify_content": null,
       "justify_items": null,
       "left": null,
       "margin": null,
       "max_height": null,
       "max_width": null,
       "min_height": null,
       "min_width": null,
       "object_fit": null,
       "object_position": null,
       "order": null,
       "overflow": null,
       "padding": null,
       "right": null,
       "top": null,
       "visibility": null,
       "width": null
      }
     },
     "1a7be5e29af94b1bb1c44c94f23264a2": {
      "model_module": "@jupyter-widgets/controls",
      "model_module_version": "2.0.0",
      "model_name": "HTMLStyleModel",
      "state": {
       "_model_module": "@jupyter-widgets/controls",
       "_model_module_version": "2.0.0",
       "_model_name": "HTMLStyleModel",
       "_view_count": null,
       "_view_module": "@jupyter-widgets/base",
       "_view_module_version": "2.0.0",
       "_view_name": "StyleView",
       "background": null,
       "description_width": "",
       "font_size": null,
       "text_color": null
      }
     },
     "1d14f208f63549d8aed008f355149e71": {
      "model_module": "@jupyter-widgets/controls",
      "model_module_version": "2.0.0",
      "model_name": "HTMLStyleModel",
      "state": {
       "_model_module": "@jupyter-widgets/controls",
       "_model_module_version": "2.0.0",
       "_model_name": "HTMLStyleModel",
       "_view_count": null,
       "_view_module": "@jupyter-widgets/base",
       "_view_module_version": "2.0.0",
       "_view_name": "StyleView",
       "background": null,
       "description_width": "",
       "font_size": null,
       "text_color": null
      }
     },
     "1d397b6d39fc4baeba79f91c26f8b950": {
      "model_module": "@jupyter-widgets/controls",
      "model_module_version": "2.0.0",
      "model_name": "HTMLModel",
      "state": {
       "_dom_classes": [],
       "_model_module": "@jupyter-widgets/controls",
       "_model_module_version": "2.0.0",
       "_model_name": "HTMLModel",
       "_view_count": null,
       "_view_module": "@jupyter-widgets/controls",
       "_view_module_version": "2.0.0",
       "_view_name": "HTMLView",
       "description": "",
       "description_allow_html": false,
       "layout": "IPY_MODEL_73104becadd1453391619adb18e41258",
       "placeholder": "​",
       "style": "IPY_MODEL_bd44bd8c005b4fb2913e2546902b9f82",
       "tabbable": null,
       "tooltip": null,
       "value": " 5.17k/5.17k [00:00&lt;00:00, 1.05MB/s]"
      }
     },
     "2007f30f1e1c4e7baa67c3fe0dfaa6f0": {
      "model_module": "@jupyter-widgets/base",
      "model_module_version": "2.0.0",
      "model_name": "LayoutModel",
      "state": {
       "_model_module": "@jupyter-widgets/base",
       "_model_module_version": "2.0.0",
       "_model_name": "LayoutModel",
       "_view_count": null,
       "_view_module": "@jupyter-widgets/base",
       "_view_module_version": "2.0.0",
       "_view_name": "LayoutView",
       "align_content": null,
       "align_items": null,
       "align_self": null,
       "border_bottom": null,
       "border_left": null,
       "border_right": null,
       "border_top": null,
       "bottom": null,
       "display": null,
       "flex": null,
       "flex_flow": null,
       "grid_area": null,
       "grid_auto_columns": null,
       "grid_auto_flow": null,
       "grid_auto_rows": null,
       "grid_column": null,
       "grid_gap": null,
       "grid_row": null,
       "grid_template_areas": null,
       "grid_template_columns": null,
       "grid_template_rows": null,
       "height": null,
       "justify_content": null,
       "justify_items": null,
       "left": null,
       "margin": null,
       "max_height": null,
       "max_width": null,
       "min_height": null,
       "min_width": null,
       "object_fit": null,
       "object_position": null,
       "order": null,
       "overflow": null,
       "padding": null,
       "right": null,
       "top": null,
       "visibility": null,
       "width": null
      }
     },
     "2210ab8ea0724be6a2b0ea49952edf25": {
      "model_module": "@jupyter-widgets/controls",
      "model_module_version": "2.0.0",
      "model_name": "HBoxModel",
      "state": {
       "_dom_classes": [],
       "_model_module": "@jupyter-widgets/controls",
       "_model_module_version": "2.0.0",
       "_model_name": "HBoxModel",
       "_view_count": null,
       "_view_module": "@jupyter-widgets/controls",
       "_view_module_version": "2.0.0",
       "_view_name": "HBoxView",
       "box_style": "",
       "children": [
        "IPY_MODEL_5d258117f5e84fbb86b3aa8d1cab4ccc",
        "IPY_MODEL_25296034b78844f1a3e1d179124cbadc",
        "IPY_MODEL_4cc3ff5ce1254480a6fbbe96fd09c650"
       ],
       "layout": "IPY_MODEL_40cd2062ef5f4d159598fc6fff0ef728",
       "tabbable": null,
       "tooltip": null
      }
     },
     "22e64da8374c4d41b200153e35a7bda9": {
      "model_module": "@jupyter-widgets/base",
      "model_module_version": "2.0.0",
      "model_name": "LayoutModel",
      "state": {
       "_model_module": "@jupyter-widgets/base",
       "_model_module_version": "2.0.0",
       "_model_name": "LayoutModel",
       "_view_count": null,
       "_view_module": "@jupyter-widgets/base",
       "_view_module_version": "2.0.0",
       "_view_name": "LayoutView",
       "align_content": null,
       "align_items": null,
       "align_self": null,
       "border_bottom": null,
       "border_left": null,
       "border_right": null,
       "border_top": null,
       "bottom": null,
       "display": null,
       "flex": null,
       "flex_flow": null,
       "grid_area": null,
       "grid_auto_columns": null,
       "grid_auto_flow": null,
       "grid_auto_rows": null,
       "grid_column": null,
       "grid_gap": null,
       "grid_row": null,
       "grid_template_areas": null,
       "grid_template_columns": null,
       "grid_template_rows": null,
       "height": null,
       "justify_content": null,
       "justify_items": null,
       "left": null,
       "margin": null,
       "max_height": null,
       "max_width": null,
       "min_height": null,
       "min_width": null,
       "object_fit": null,
       "object_position": null,
       "order": null,
       "overflow": null,
       "padding": null,
       "right": null,
       "top": null,
       "visibility": null,
       "width": null
      }
     },
     "2501821258964a9c90560ba6376113ab": {
      "model_module": "@jupyter-widgets/base",
      "model_module_version": "2.0.0",
      "model_name": "LayoutModel",
      "state": {
       "_model_module": "@jupyter-widgets/base",
       "_model_module_version": "2.0.0",
       "_model_name": "LayoutModel",
       "_view_count": null,
       "_view_module": "@jupyter-widgets/base",
       "_view_module_version": "2.0.0",
       "_view_name": "LayoutView",
       "align_content": null,
       "align_items": null,
       "align_self": null,
       "border_bottom": null,
       "border_left": null,
       "border_right": null,
       "border_top": null,
       "bottom": null,
       "display": null,
       "flex": null,
       "flex_flow": null,
       "grid_area": null,
       "grid_auto_columns": null,
       "grid_auto_flow": null,
       "grid_auto_rows": null,
       "grid_column": null,
       "grid_gap": null,
       "grid_row": null,
       "grid_template_areas": null,
       "grid_template_columns": null,
       "grid_template_rows": null,
       "height": null,
       "justify_content": null,
       "justify_items": null,
       "left": null,
       "margin": null,
       "max_height": null,
       "max_width": null,
       "min_height": null,
       "min_width": null,
       "object_fit": null,
       "object_position": null,
       "order": null,
       "overflow": null,
       "padding": null,
       "right": null,
       "top": null,
       "visibility": null,
       "width": null
      }
     },
     "25296034b78844f1a3e1d179124cbadc": {
      "model_module": "@jupyter-widgets/controls",
      "model_module_version": "2.0.0",
      "model_name": "FloatProgressModel",
      "state": {
       "_dom_classes": [],
       "_model_module": "@jupyter-widgets/controls",
       "_model_module_version": "2.0.0",
       "_model_name": "FloatProgressModel",
       "_view_count": null,
       "_view_module": "@jupyter-widgets/controls",
       "_view_module_version": "2.0.0",
       "_view_name": "ProgressView",
       "bar_style": "success",
       "description": "",
       "description_allow_html": false,
       "layout": "IPY_MODEL_f0ab7c29d4444c0d9ec2e9ce823acd45",
       "max": 702,
       "min": 0,
       "orientation": "horizontal",
       "style": "IPY_MODEL_39345a55e7d149e8a9a2dc7984d827cb",
       "tabbable": null,
       "tooltip": null,
       "value": 702
      }
     },
     "258e10e0a23a43548eb110819cd7b142": {
      "model_module": "@jupyter-widgets/controls",
      "model_module_version": "2.0.0",
      "model_name": "FloatProgressModel",
      "state": {
       "_dom_classes": [],
       "_model_module": "@jupyter-widgets/controls",
       "_model_module_version": "2.0.0",
       "_model_name": "FloatProgressModel",
       "_view_count": null,
       "_view_module": "@jupyter-widgets/controls",
       "_view_module_version": "2.0.0",
       "_view_name": "ProgressView",
       "bar_style": "success",
       "description": "",
       "description_allow_html": false,
       "layout": "IPY_MODEL_bd404908633f4bd8a3362360d11a381a",
       "max": 5174,
       "min": 0,
       "orientation": "horizontal",
       "style": "IPY_MODEL_99dbd165d45c481bbfe1aaa319447a43",
       "tabbable": null,
       "tooltip": null,
       "value": 5174
      }
     },
     "27687b3dfa3a4ef59a9f861fa50f5fe7": {
      "model_module": "@jupyter-widgets/controls",
      "model_module_version": "2.0.0",
      "model_name": "HTMLModel",
      "state": {
       "_dom_classes": [],
       "_model_module": "@jupyter-widgets/controls",
       "_model_module_version": "2.0.0",
       "_model_name": "HTMLModel",
       "_view_count": null,
       "_view_module": "@jupyter-widgets/controls",
       "_view_module_version": "2.0.0",
       "_view_name": "HTMLView",
       "description": "",
       "description_allow_html": false,
       "layout": "IPY_MODEL_41e7a77443c640f19bb91f6c21107dd0",
       "placeholder": "​",
       "style": "IPY_MODEL_41c8957118e44c72b833ff55a55bedaf",
       "tabbable": null,
       "tooltip": null,
       "value": " 65/65 [00:00&lt;00:00, 743.16 examples/s]"
      }
     },
     "2919349f94bf48c0b82c535567f63ab8": {
      "model_module": "@jupyter-widgets/controls",
      "model_module_version": "2.0.0",
      "model_name": "FloatProgressModel",
      "state": {
       "_dom_classes": [],
       "_model_module": "@jupyter-widgets/controls",
       "_model_module_version": "2.0.0",
       "_model_name": "FloatProgressModel",
       "_view_count": null,
       "_view_module": "@jupyter-widgets/controls",
       "_view_module_version": "2.0.0",
       "_view_name": "ProgressView",
       "bar_style": "success",
       "description": "",
       "description_allow_html": false,
       "layout": "IPY_MODEL_f099a3f79db54e5dbacf61478ac8b22d",
       "max": 65,
       "min": 0,
       "orientation": "horizontal",
       "style": "IPY_MODEL_709779183ea34cf8830770ebd596b34d",
       "tabbable": null,
       "tooltip": null,
       "value": 65
      }
     },
     "2a0d8564b4ac4e4eb053536300700cd5": {
      "model_module": "@jupyter-widgets/controls",
      "model_module_version": "2.0.0",
      "model_name": "HTMLModel",
      "state": {
       "_dom_classes": [],
       "_model_module": "@jupyter-widgets/controls",
       "_model_module_version": "2.0.0",
       "_model_name": "HTMLModel",
       "_view_count": null,
       "_view_module": "@jupyter-widgets/controls",
       "_view_module_version": "2.0.0",
       "_view_name": "HTMLView",
       "description": "",
       "description_allow_html": false,
       "layout": "IPY_MODEL_db2e32239cc941af98077a64ebeb46c2",
       "placeholder": "​",
       "style": "IPY_MODEL_1d14f208f63549d8aed008f355149e71",
       "tabbable": null,
       "tooltip": null,
       "value": "adapter_model.safetensors: 100%"
      }
     },
     "2ababc7b6411480296717e86bacef55c": {
      "model_module": "@jupyter-widgets/base",
      "model_module_version": "2.0.0",
      "model_name": "LayoutModel",
      "state": {
       "_model_module": "@jupyter-widgets/base",
       "_model_module_version": "2.0.0",
       "_model_name": "LayoutModel",
       "_view_count": null,
       "_view_module": "@jupyter-widgets/base",
       "_view_module_version": "2.0.0",
       "_view_name": "LayoutView",
       "align_content": null,
       "align_items": null,
       "align_self": null,
       "border_bottom": null,
       "border_left": null,
       "border_right": null,
       "border_top": null,
       "bottom": null,
       "display": null,
       "flex": null,
       "flex_flow": null,
       "grid_area": null,
       "grid_auto_columns": null,
       "grid_auto_flow": null,
       "grid_auto_rows": null,
       "grid_column": null,
       "grid_gap": null,
       "grid_row": null,
       "grid_template_areas": null,
       "grid_template_columns": null,
       "grid_template_rows": null,
       "height": null,
       "justify_content": null,
       "justify_items": null,
       "left": null,
       "margin": null,
       "max_height": null,
       "max_width": null,
       "min_height": null,
       "min_width": null,
       "object_fit": null,
       "object_position": null,
       "order": null,
       "overflow": null,
       "padding": null,
       "right": null,
       "top": null,
       "visibility": null,
       "width": null
      }
     },
     "2b4f63fd78c942d6b3c26724f96e3bcc": {
      "model_module": "@jupyter-widgets/controls",
      "model_module_version": "2.0.0",
      "model_name": "HBoxModel",
      "state": {
       "_dom_classes": [],
       "_model_module": "@jupyter-widgets/controls",
       "_model_module_version": "2.0.0",
       "_model_name": "HBoxModel",
       "_view_count": null,
       "_view_module": "@jupyter-widgets/controls",
       "_view_module_version": "2.0.0",
       "_view_name": "HBoxView",
       "box_style": "",
       "children": [
        "IPY_MODEL_2c8013ccde794272a5c921c1697c8aeb",
        "IPY_MODEL_e3c2f9016369476fb3899bc7cab88bde",
        "IPY_MODEL_d210600f879f4027b5bc129c54dde72c"
       ],
       "layout": "IPY_MODEL_90f3cd8c991e4a5a88ad69522954d974",
       "tabbable": null,
       "tooltip": null
      }
     },
     "2c751f564451457f925e7ec33eea1047": {
      "model_module": "@jupyter-widgets/base",
      "model_module_version": "2.0.0",
      "model_name": "LayoutModel",
      "state": {
       "_model_module": "@jupyter-widgets/base",
       "_model_module_version": "2.0.0",
       "_model_name": "LayoutModel",
       "_view_count": null,
       "_view_module": "@jupyter-widgets/base",
       "_view_module_version": "2.0.0",
       "_view_name": "LayoutView",
       "align_content": null,
       "align_items": null,
       "align_self": null,
       "border_bottom": null,
       "border_left": null,
       "border_right": null,
       "border_top": null,
       "bottom": null,
       "display": null,
       "flex": null,
       "flex_flow": null,
       "grid_area": null,
       "grid_auto_columns": null,
       "grid_auto_flow": null,
       "grid_auto_rows": null,
       "grid_column": null,
       "grid_gap": null,
       "grid_row": null,
       "grid_template_areas": null,
       "grid_template_columns": null,
       "grid_template_rows": null,
       "height": null,
       "justify_content": null,
       "justify_items": null,
       "left": null,
       "margin": null,
       "max_height": null,
       "max_width": null,
       "min_height": null,
       "min_width": null,
       "object_fit": null,
       "object_position": null,
       "order": null,
       "overflow": null,
       "padding": null,
       "right": null,
       "top": null,
       "visibility": null,
       "width": null
      }
     },
     "2c8013ccde794272a5c921c1697c8aeb": {
      "model_module": "@jupyter-widgets/controls",
      "model_module_version": "2.0.0",
      "model_name": "HTMLModel",
      "state": {
       "_dom_classes": [],
       "_model_module": "@jupyter-widgets/controls",
       "_model_module_version": "2.0.0",
       "_model_name": "HTMLModel",
       "_view_count": null,
       "_view_module": "@jupyter-widgets/controls",
       "_view_module_version": "2.0.0",
       "_view_name": "HTMLView",
       "description": "",
       "description_allow_html": false,
       "layout": "IPY_MODEL_22e64da8374c4d41b200153e35a7bda9",
       "placeholder": "​",
       "style": "IPY_MODEL_b57abc3dc142420d82873b61ebc667be",
       "tabbable": null,
       "tooltip": null,
       "value": "Loading checkpoint shards: 100%"
      }
     },
     "2e2a1665bd27477c9e4a599e12cf82e7": {
      "model_module": "@jupyter-widgets/controls",
      "model_module_version": "2.0.0",
      "model_name": "FloatProgressModel",
      "state": {
       "_dom_classes": [],
       "_model_module": "@jupyter-widgets/controls",
       "_model_module_version": "2.0.0",
       "_model_name": "FloatProgressModel",
       "_view_count": null,
       "_view_module": "@jupyter-widgets/controls",
       "_view_module_version": "2.0.0",
       "_view_name": "ProgressView",
       "bar_style": "success",
       "description": "",
       "description_allow_html": false,
       "layout": "IPY_MODEL_ed2b1b546af2451b8e29a296af19618b",
       "max": 66,
       "min": 0,
       "orientation": "horizontal",
       "style": "IPY_MODEL_da5a8fae6af24c71b4fed4112cc61eee",
       "tabbable": null,
       "tooltip": null,
       "value": 66
      }
     },
     "32f392b803f84677bc4f2bb113643554": {
      "model_module": "@jupyter-widgets/controls",
      "model_module_version": "2.0.0",
      "model_name": "HTMLStyleModel",
      "state": {
       "_model_module": "@jupyter-widgets/controls",
       "_model_module_version": "2.0.0",
       "_model_name": "HTMLStyleModel",
       "_view_count": null,
       "_view_module": "@jupyter-widgets/base",
       "_view_module_version": "2.0.0",
       "_view_name": "StyleView",
       "background": null,
       "description_width": "",
       "font_size": null,
       "text_color": null
      }
     },
     "33b79e32276a418a898b41439d0514cc": {
      "model_module": "@jupyter-widgets/base",
      "model_module_version": "2.0.0",
      "model_name": "LayoutModel",
      "state": {
       "_model_module": "@jupyter-widgets/base",
       "_model_module_version": "2.0.0",
       "_model_name": "LayoutModel",
       "_view_count": null,
       "_view_module": "@jupyter-widgets/base",
       "_view_module_version": "2.0.0",
       "_view_name": "LayoutView",
       "align_content": null,
       "align_items": null,
       "align_self": null,
       "border_bottom": null,
       "border_left": null,
       "border_right": null,
       "border_top": null,
       "bottom": null,
       "display": null,
       "flex": null,
       "flex_flow": null,
       "grid_area": null,
       "grid_auto_columns": null,
       "grid_auto_flow": null,
       "grid_auto_rows": null,
       "grid_column": null,
       "grid_gap": null,
       "grid_row": null,
       "grid_template_areas": null,
       "grid_template_columns": null,
       "grid_template_rows": null,
       "height": null,
       "justify_content": null,
       "justify_items": null,
       "left": null,
       "margin": null,
       "max_height": null,
       "max_width": null,
       "min_height": null,
       "min_width": null,
       "object_fit": null,
       "object_position": null,
       "order": null,
       "overflow": null,
       "padding": null,
       "right": null,
       "top": null,
       "visibility": null,
       "width": null
      }
     },
     "36a59b34d483487fbd6d94d203c8d739": {
      "model_module": "@jupyter-widgets/controls",
      "model_module_version": "2.0.0",
      "model_name": "ButtonModel",
      "state": {
       "_dom_classes": [],
       "_model_module": "@jupyter-widgets/controls",
       "_model_module_version": "2.0.0",
       "_model_name": "ButtonModel",
       "_view_count": null,
       "_view_module": "@jupyter-widgets/controls",
       "_view_module_version": "2.0.0",
       "_view_name": "ButtonView",
       "button_style": "",
       "description": "Login",
       "disabled": false,
       "icon": "",
       "layout": "IPY_MODEL_56eaa69dd2274422876fec3d618f627d",
       "style": "IPY_MODEL_a4a5f6722f8c402680ec315dda46f5c0",
       "tabbable": null,
       "tooltip": null
      }
     },
     "384c3cf797b248218ea15f6f036b5970": {
      "model_module": "@jupyter-widgets/controls",
      "model_module_version": "2.0.0",
      "model_name": "HTMLModel",
      "state": {
       "_dom_classes": [],
       "_model_module": "@jupyter-widgets/controls",
       "_model_module_version": "2.0.0",
       "_model_name": "HTMLModel",
       "_view_count": null,
       "_view_module": "@jupyter-widgets/controls",
       "_view_module_version": "2.0.0",
       "_view_name": "HTMLView",
       "description": "",
       "description_allow_html": false,
       "layout": "IPY_MODEL_2ababc7b6411480296717e86bacef55c",
       "placeholder": "​",
       "style": "IPY_MODEL_32f392b803f84677bc4f2bb113643554",
       "tabbable": null,
       "tooltip": null,
       "value": "README.md: 100%"
      }
     },
     "39345a55e7d149e8a9a2dc7984d827cb": {
      "model_module": "@jupyter-widgets/controls",
      "model_module_version": "2.0.0",
      "model_name": "ProgressStyleModel",
      "state": {
       "_model_module": "@jupyter-widgets/controls",
       "_model_module_version": "2.0.0",
       "_model_name": "ProgressStyleModel",
       "_view_count": null,
       "_view_module": "@jupyter-widgets/base",
       "_view_module_version": "2.0.0",
       "_view_name": "StyleView",
       "bar_color": null,
       "description_width": ""
      }
     },
     "40cd2062ef5f4d159598fc6fff0ef728": {
      "model_module": "@jupyter-widgets/base",
      "model_module_version": "2.0.0",
      "model_name": "LayoutModel",
      "state": {
       "_model_module": "@jupyter-widgets/base",
       "_model_module_version": "2.0.0",
       "_model_name": "LayoutModel",
       "_view_count": null,
       "_view_module": "@jupyter-widgets/base",
       "_view_module_version": "2.0.0",
       "_view_name": "LayoutView",
       "align_content": null,
       "align_items": null,
       "align_self": null,
       "border_bottom": null,
       "border_left": null,
       "border_right": null,
       "border_top": null,
       "bottom": null,
       "display": null,
       "flex": null,
       "flex_flow": null,
       "grid_area": null,
       "grid_auto_columns": null,
       "grid_auto_flow": null,
       "grid_auto_rows": null,
       "grid_column": null,
       "grid_gap": null,
       "grid_row": null,
       "grid_template_areas": null,
       "grid_template_columns": null,
       "grid_template_rows": null,
       "height": null,
       "justify_content": null,
       "justify_items": null,
       "left": null,
       "margin": null,
       "max_height": null,
       "max_width": null,
       "min_height": null,
       "min_width": null,
       "object_fit": null,
       "object_position": null,
       "order": null,
       "overflow": null,
       "padding": null,
       "right": null,
       "top": null,
       "visibility": null,
       "width": null
      }
     },
     "41c8957118e44c72b833ff55a55bedaf": {
      "model_module": "@jupyter-widgets/controls",
      "model_module_version": "2.0.0",
      "model_name": "HTMLStyleModel",
      "state": {
       "_model_module": "@jupyter-widgets/controls",
       "_model_module_version": "2.0.0",
       "_model_name": "HTMLStyleModel",
       "_view_count": null,
       "_view_module": "@jupyter-widgets/base",
       "_view_module_version": "2.0.0",
       "_view_name": "StyleView",
       "background": null,
       "description_width": "",
       "font_size": null,
       "text_color": null
      }
     },
     "41e7a77443c640f19bb91f6c21107dd0": {
      "model_module": "@jupyter-widgets/base",
      "model_module_version": "2.0.0",
      "model_name": "LayoutModel",
      "state": {
       "_model_module": "@jupyter-widgets/base",
       "_model_module_version": "2.0.0",
       "_model_name": "LayoutModel",
       "_view_count": null,
       "_view_module": "@jupyter-widgets/base",
       "_view_module_version": "2.0.0",
       "_view_name": "LayoutView",
       "align_content": null,
       "align_items": null,
       "align_self": null,
       "border_bottom": null,
       "border_left": null,
       "border_right": null,
       "border_top": null,
       "bottom": null,
       "display": null,
       "flex": null,
       "flex_flow": null,
       "grid_area": null,
       "grid_auto_columns": null,
       "grid_auto_flow": null,
       "grid_auto_rows": null,
       "grid_column": null,
       "grid_gap": null,
       "grid_row": null,
       "grid_template_areas": null,
       "grid_template_columns": null,
       "grid_template_rows": null,
       "height": null,
       "justify_content": null,
       "justify_items": null,
       "left": null,
       "margin": null,
       "max_height": null,
       "max_width": null,
       "min_height": null,
       "min_width": null,
       "object_fit": null,
       "object_position": null,
       "order": null,
       "overflow": null,
       "padding": null,
       "right": null,
       "top": null,
       "visibility": null,
       "width": null
      }
     },
     "43b0e87c32da43e1aa2f18582195ac65": {
      "model_module": "@jupyter-widgets/base",
      "model_module_version": "2.0.0",
      "model_name": "LayoutModel",
      "state": {
       "_model_module": "@jupyter-widgets/base",
       "_model_module_version": "2.0.0",
       "_model_name": "LayoutModel",
       "_view_count": null,
       "_view_module": "@jupyter-widgets/base",
       "_view_module_version": "2.0.0",
       "_view_name": "LayoutView",
       "align_content": null,
       "align_items": null,
       "align_self": null,
       "border_bottom": null,
       "border_left": null,
       "border_right": null,
       "border_top": null,
       "bottom": null,
       "display": null,
       "flex": null,
       "flex_flow": null,
       "grid_area": null,
       "grid_auto_columns": null,
       "grid_auto_flow": null,
       "grid_auto_rows": null,
       "grid_column": null,
       "grid_gap": null,
       "grid_row": null,
       "grid_template_areas": null,
       "grid_template_columns": null,
       "grid_template_rows": null,
       "height": null,
       "justify_content": null,
       "justify_items": null,
       "left": null,
       "margin": null,
       "max_height": null,
       "max_width": null,
       "min_height": null,
       "min_width": null,
       "object_fit": null,
       "object_position": null,
       "order": null,
       "overflow": null,
       "padding": null,
       "right": null,
       "top": null,
       "visibility": null,
       "width": null
      }
     },
     "45b6e5c7a3a440d08e99817879d1da49": {
      "model_module": "@jupyter-widgets/controls",
      "model_module_version": "2.0.0",
      "model_name": "FloatProgressModel",
      "state": {
       "_dom_classes": [],
       "_model_module": "@jupyter-widgets/controls",
       "_model_module_version": "2.0.0",
       "_model_name": "FloatProgressModel",
       "_view_count": null,
       "_view_module": "@jupyter-widgets/controls",
       "_view_module_version": "2.0.0",
       "_view_name": "ProgressView",
       "bar_style": "success",
       "description": "",
       "description_allow_html": false,
       "layout": "IPY_MODEL_f576333a6ace46fea7aefb05c380ecbe",
       "max": 48854224,
       "min": 0,
       "orientation": "horizontal",
       "style": "IPY_MODEL_9b4c0e0832b74492a6e258285e7db3f6",
       "tabbable": null,
       "tooltip": null,
       "value": 48854224
      }
     },
     "4bb459236ea8485c934832b265953251": {
      "model_module": "@jupyter-widgets/base",
      "model_module_version": "2.0.0",
      "model_name": "LayoutModel",
      "state": {
       "_model_module": "@jupyter-widgets/base",
       "_model_module_version": "2.0.0",
       "_model_name": "LayoutModel",
       "_view_count": null,
       "_view_module": "@jupyter-widgets/base",
       "_view_module_version": "2.0.0",
       "_view_name": "LayoutView",
       "align_content": null,
       "align_items": null,
       "align_self": null,
       "border_bottom": null,
       "border_left": null,
       "border_right": null,
       "border_top": null,
       "bottom": null,
       "display": null,
       "flex": null,
       "flex_flow": null,
       "grid_area": null,
       "grid_auto_columns": null,
       "grid_auto_flow": null,
       "grid_auto_rows": null,
       "grid_column": null,
       "grid_gap": null,
       "grid_row": null,
       "grid_template_areas": null,
       "grid_template_columns": null,
       "grid_template_rows": null,
       "height": null,
       "justify_content": null,
       "justify_items": null,
       "left": null,
       "margin": null,
       "max_height": null,
       "max_width": null,
       "min_height": null,
       "min_width": null,
       "object_fit": null,
       "object_position": null,
       "order": null,
       "overflow": null,
       "padding": null,
       "right": null,
       "top": null,
       "visibility": null,
       "width": null
      }
     },
     "4be11bdc07e6472d89a56c36404f4bd4": {
      "model_module": "@jupyter-widgets/base",
      "model_module_version": "2.0.0",
      "model_name": "LayoutModel",
      "state": {
       "_model_module": "@jupyter-widgets/base",
       "_model_module_version": "2.0.0",
       "_model_name": "LayoutModel",
       "_view_count": null,
       "_view_module": "@jupyter-widgets/base",
       "_view_module_version": "2.0.0",
       "_view_name": "LayoutView",
       "align_content": null,
       "align_items": null,
       "align_self": null,
       "border_bottom": null,
       "border_left": null,
       "border_right": null,
       "border_top": null,
       "bottom": null,
       "display": null,
       "flex": null,
       "flex_flow": null,
       "grid_area": null,
       "grid_auto_columns": null,
       "grid_auto_flow": null,
       "grid_auto_rows": null,
       "grid_column": null,
       "grid_gap": null,
       "grid_row": null,
       "grid_template_areas": null,
       "grid_template_columns": null,
       "grid_template_rows": null,
       "height": null,
       "justify_content": null,
       "justify_items": null,
       "left": null,
       "margin": null,
       "max_height": null,
       "max_width": null,
       "min_height": null,
       "min_width": null,
       "object_fit": null,
       "object_position": null,
       "order": null,
       "overflow": null,
       "padding": null,
       "right": null,
       "top": null,
       "visibility": null,
       "width": null
      }
     },
     "4cc3ff5ce1254480a6fbbe96fd09c650": {
      "model_module": "@jupyter-widgets/controls",
      "model_module_version": "2.0.0",
      "model_name": "HTMLModel",
      "state": {
       "_dom_classes": [],
       "_model_module": "@jupyter-widgets/controls",
       "_model_module_version": "2.0.0",
       "_model_name": "HTMLModel",
       "_view_count": null,
       "_view_module": "@jupyter-widgets/controls",
       "_view_module_version": "2.0.0",
       "_view_name": "HTMLView",
       "description": "",
       "description_allow_html": false,
       "layout": "IPY_MODEL_76242718278e48d1a185f8530966eb17",
       "placeholder": "​",
       "style": "IPY_MODEL_8e9e2fe1ea984483a03385794ecdd953",
       "tabbable": null,
       "tooltip": null,
       "value": " 702/702 [00:00&lt;00:00, 153kB/s]"
      }
     },
     "4d5736c515c4432db0505c164e09e5af": {
      "model_module": "@jupyter-widgets/controls",
      "model_module_version": "2.0.0",
      "model_name": "HTMLModel",
      "state": {
       "_dom_classes": [],
       "_model_module": "@jupyter-widgets/controls",
       "_model_module_version": "2.0.0",
       "_model_name": "HTMLModel",
       "_view_count": null,
       "_view_module": "@jupyter-widgets/controls",
       "_view_module_version": "2.0.0",
       "_view_name": "HTMLView",
       "description": "",
       "description_allow_html": false,
       "layout": "IPY_MODEL_0209faca083a4cf38839d9509a5efec7",
       "placeholder": "​",
       "style": "IPY_MODEL_c3e86d4957a74a1d850e20579d486c63",
       "tabbable": null,
       "tooltip": null,
       "value": "Map: 100%"
      }
     },
     "56eaa69dd2274422876fec3d618f627d": {
      "model_module": "@jupyter-widgets/base",
      "model_module_version": "2.0.0",
      "model_name": "LayoutModel",
      "state": {
       "_model_module": "@jupyter-widgets/base",
       "_model_module_version": "2.0.0",
       "_model_name": "LayoutModel",
       "_view_count": null,
       "_view_module": "@jupyter-widgets/base",
       "_view_module_version": "2.0.0",
       "_view_name": "LayoutView",
       "align_content": null,
       "align_items": null,
       "align_self": null,
       "border_bottom": null,
       "border_left": null,
       "border_right": null,
       "border_top": null,
       "bottom": null,
       "display": null,
       "flex": null,
       "flex_flow": null,
       "grid_area": null,
       "grid_auto_columns": null,
       "grid_auto_flow": null,
       "grid_auto_rows": null,
       "grid_column": null,
       "grid_gap": null,
       "grid_row": null,
       "grid_template_areas": null,
       "grid_template_columns": null,
       "grid_template_rows": null,
       "height": null,
       "justify_content": null,
       "justify_items": null,
       "left": null,
       "margin": null,
       "max_height": null,
       "max_width": null,
       "min_height": null,
       "min_width": null,
       "object_fit": null,
       "object_position": null,
       "order": null,
       "overflow": null,
       "padding": null,
       "right": null,
       "top": null,
       "visibility": null,
       "width": null
      }
     },
     "571263451e864a0bafb53c79d59946a4": {
      "model_module": "@jupyter-widgets/controls",
      "model_module_version": "2.0.0",
      "model_name": "VBoxModel",
      "state": {
       "_dom_classes": [],
       "_model_module": "@jupyter-widgets/controls",
       "_model_module_version": "2.0.0",
       "_model_name": "VBoxModel",
       "_view_count": null,
       "_view_module": "@jupyter-widgets/controls",
       "_view_module_version": "2.0.0",
       "_view_name": "VBoxView",
       "box_style": "",
       "children": [
        "IPY_MODEL_73fe728765844562a305257ae8136cc5",
        "IPY_MODEL_ae0d09b7e6b9400684e830594ca08245",
        "IPY_MODEL_c2fbbdc053df42cbaff0a19225c17bb3",
        "IPY_MODEL_36a59b34d483487fbd6d94d203c8d739",
        "IPY_MODEL_ccaeba7907f94558bcfb2490fb148dba"
       ],
       "layout": "IPY_MODEL_be50538aff1b49b696b5e65aebb50ec3",
       "tabbable": null,
       "tooltip": null
      }
     },
     "5d258117f5e84fbb86b3aa8d1cab4ccc": {
      "model_module": "@jupyter-widgets/controls",
      "model_module_version": "2.0.0",
      "model_name": "HTMLModel",
      "state": {
       "_dom_classes": [],
       "_model_module": "@jupyter-widgets/controls",
       "_model_module_version": "2.0.0",
       "_model_name": "HTMLModel",
       "_view_count": null,
       "_view_module": "@jupyter-widgets/controls",
       "_view_module_version": "2.0.0",
       "_view_name": "HTMLView",
       "description": "",
       "description_allow_html": false,
       "layout": "IPY_MODEL_b2cd0f05dd794d1c9cbe116fe9635b6c",
       "placeholder": "​",
       "style": "IPY_MODEL_00f7927749c84139abe6d0204c0d2420",
       "tabbable": null,
       "tooltip": null,
       "value": "adapter_config.json: 100%"
      }
     },
     "6085ecd49b5148c6aa233862109ba18b": {
      "model_module": "@jupyter-widgets/controls",
      "model_module_version": "2.0.0",
      "model_name": "HTMLStyleModel",
      "state": {
       "_model_module": "@jupyter-widgets/controls",
       "_model_module_version": "2.0.0",
       "_model_name": "HTMLStyleModel",
       "_view_count": null,
       "_view_module": "@jupyter-widgets/base",
       "_view_module_version": "2.0.0",
       "_view_name": "StyleView",
       "background": null,
       "description_width": "",
       "font_size": null,
       "text_color": null
      }
     },
     "66c8843321674724a0f1e03903cf14a6": {
      "model_module": "@jupyter-widgets/controls",
      "model_module_version": "2.0.0",
      "model_name": "HBoxModel",
      "state": {
       "_dom_classes": [],
       "_model_module": "@jupyter-widgets/controls",
       "_model_module_version": "2.0.0",
       "_model_name": "HBoxModel",
       "_view_count": null,
       "_view_module": "@jupyter-widgets/controls",
       "_view_module_version": "2.0.0",
       "_view_name": "HBoxView",
       "box_style": "",
       "children": [
        "IPY_MODEL_2a0d8564b4ac4e4eb053536300700cd5",
        "IPY_MODEL_45b6e5c7a3a440d08e99817879d1da49",
        "IPY_MODEL_7d375bed7d294c91b30433b788e1c7d1"
       ],
       "layout": "IPY_MODEL_9505332078264668ad3317788e39fd66",
       "tabbable": null,
       "tooltip": null
      }
     },
     "6a4bb6eb0a25431e9c9743da248ffd75": {
      "model_module": "@jupyter-widgets/base",
      "model_module_version": "2.0.0",
      "model_name": "LayoutModel",
      "state": {
       "_model_module": "@jupyter-widgets/base",
       "_model_module_version": "2.0.0",
       "_model_name": "LayoutModel",
       "_view_count": null,
       "_view_module": "@jupyter-widgets/base",
       "_view_module_version": "2.0.0",
       "_view_name": "LayoutView",
       "align_content": null,
       "align_items": null,
       "align_self": null,
       "border_bottom": null,
       "border_left": null,
       "border_right": null,
       "border_top": null,
       "bottom": null,
       "display": null,
       "flex": null,
       "flex_flow": null,
       "grid_area": null,
       "grid_auto_columns": null,
       "grid_auto_flow": null,
       "grid_auto_rows": null,
       "grid_column": null,
       "grid_gap": null,
       "grid_row": null,
       "grid_template_areas": null,
       "grid_template_columns": null,
       "grid_template_rows": null,
       "height": null,
       "justify_content": null,
       "justify_items": null,
       "left": null,
       "margin": null,
       "max_height": null,
       "max_width": null,
       "min_height": null,
       "min_width": null,
       "object_fit": null,
       "object_position": null,
       "order": null,
       "overflow": null,
       "padding": null,
       "right": null,
       "top": null,
       "visibility": null,
       "width": null
      }
     },
     "709779183ea34cf8830770ebd596b34d": {
      "model_module": "@jupyter-widgets/controls",
      "model_module_version": "2.0.0",
      "model_name": "ProgressStyleModel",
      "state": {
       "_model_module": "@jupyter-widgets/controls",
       "_model_module_version": "2.0.0",
       "_model_name": "ProgressStyleModel",
       "_view_count": null,
       "_view_module": "@jupyter-widgets/base",
       "_view_module_version": "2.0.0",
       "_view_name": "StyleView",
       "bar_color": null,
       "description_width": ""
      }
     },
     "73104becadd1453391619adb18e41258": {
      "model_module": "@jupyter-widgets/base",
      "model_module_version": "2.0.0",
      "model_name": "LayoutModel",
      "state": {
       "_model_module": "@jupyter-widgets/base",
       "_model_module_version": "2.0.0",
       "_model_name": "LayoutModel",
       "_view_count": null,
       "_view_module": "@jupyter-widgets/base",
       "_view_module_version": "2.0.0",
       "_view_name": "LayoutView",
       "align_content": null,
       "align_items": null,
       "align_self": null,
       "border_bottom": null,
       "border_left": null,
       "border_right": null,
       "border_top": null,
       "bottom": null,
       "display": null,
       "flex": null,
       "flex_flow": null,
       "grid_area": null,
       "grid_auto_columns": null,
       "grid_auto_flow": null,
       "grid_auto_rows": null,
       "grid_column": null,
       "grid_gap": null,
       "grid_row": null,
       "grid_template_areas": null,
       "grid_template_columns": null,
       "grid_template_rows": null,
       "height": null,
       "justify_content": null,
       "justify_items": null,
       "left": null,
       "margin": null,
       "max_height": null,
       "max_width": null,
       "min_height": null,
       "min_width": null,
       "object_fit": null,
       "object_position": null,
       "order": null,
       "overflow": null,
       "padding": null,
       "right": null,
       "top": null,
       "visibility": null,
       "width": null
      }
     },
     "73fe728765844562a305257ae8136cc5": {
      "model_module": "@jupyter-widgets/controls",
      "model_module_version": "2.0.0",
      "model_name": "HTMLModel",
      "state": {
       "_dom_classes": [],
       "_model_module": "@jupyter-widgets/controls",
       "_model_module_version": "2.0.0",
       "_model_name": "HTMLModel",
       "_view_count": null,
       "_view_module": "@jupyter-widgets/controls",
       "_view_module_version": "2.0.0",
       "_view_name": "HTMLView",
       "description": "",
       "description_allow_html": false,
       "layout": "IPY_MODEL_4be11bdc07e6472d89a56c36404f4bd4",
       "placeholder": "​",
       "style": "IPY_MODEL_977bce45275b421db9680b0dad761047",
       "tabbable": null,
       "tooltip": null,
       "value": "<center> <img\nsrc=https://huggingface.co/front/assets/huggingface_logo-noborder.svg\nalt='Hugging Face'> <br> Copy a token from <a\nhref=\"https://huggingface.co/settings/tokens\" target=\"_blank\">your Hugging Face\ntokens page</a> and paste it below. <br> Immediately click login after copying\nyour token or it might be stored in plain text in this notebook file. </center>"
      }
     },
     "76242718278e48d1a185f8530966eb17": {
      "model_module": "@jupyter-widgets/base",
      "model_module_version": "2.0.0",
      "model_name": "LayoutModel",
      "state": {
       "_model_module": "@jupyter-widgets/base",
       "_model_module_version": "2.0.0",
       "_model_name": "LayoutModel",
       "_view_count": null,
       "_view_module": "@jupyter-widgets/base",
       "_view_module_version": "2.0.0",
       "_view_name": "LayoutView",
       "align_content": null,
       "align_items": null,
       "align_self": null,
       "border_bottom": null,
       "border_left": null,
       "border_right": null,
       "border_top": null,
       "bottom": null,
       "display": null,
       "flex": null,
       "flex_flow": null,
       "grid_area": null,
       "grid_auto_columns": null,
       "grid_auto_flow": null,
       "grid_auto_rows": null,
       "grid_column": null,
       "grid_gap": null,
       "grid_row": null,
       "grid_template_areas": null,
       "grid_template_columns": null,
       "grid_template_rows": null,
       "height": null,
       "justify_content": null,
       "justify_items": null,
       "left": null,
       "margin": null,
       "max_height": null,
       "max_width": null,
       "min_height": null,
       "min_width": null,
       "object_fit": null,
       "object_position": null,
       "order": null,
       "overflow": null,
       "padding": null,
       "right": null,
       "top": null,
       "visibility": null,
       "width": null
      }
     },
     "78f16b5032754c7aa41cee6f488c2d12": {
      "model_module": "@jupyter-widgets/controls",
      "model_module_version": "2.0.0",
      "model_name": "HTMLStyleModel",
      "state": {
       "_model_module": "@jupyter-widgets/controls",
       "_model_module_version": "2.0.0",
       "_model_name": "HTMLStyleModel",
       "_view_count": null,
       "_view_module": "@jupyter-widgets/base",
       "_view_module_version": "2.0.0",
       "_view_name": "StyleView",
       "background": null,
       "description_width": "",
       "font_size": null,
       "text_color": null
      }
     },
     "797fd2fffe05493eb0b8cf7ce38ecb00": {
      "model_module": "@jupyter-widgets/controls",
      "model_module_version": "2.0.0",
      "model_name": "HBoxModel",
      "state": {
       "_dom_classes": [],
       "_model_module": "@jupyter-widgets/controls",
       "_model_module_version": "2.0.0",
       "_model_name": "HBoxModel",
       "_view_count": null,
       "_view_module": "@jupyter-widgets/controls",
       "_view_module_version": "2.0.0",
       "_view_name": "HBoxView",
       "box_style": "",
       "children": [
        "IPY_MODEL_4d5736c515c4432db0505c164e09e5af",
        "IPY_MODEL_cf34793eb7a4408a9660b04db9b6374a",
        "IPY_MODEL_ea9722c5357d4a82abd157c13c9c6ed0"
       ],
       "layout": "IPY_MODEL_8c6551ad53ca4ffd936e1312909dfb06",
       "tabbable": null,
       "tooltip": null
      }
     },
     "7baf7085158f4a628da6a71fbf14b1e5": {
      "model_module": "@jupyter-widgets/controls",
      "model_module_version": "2.0.0",
      "model_name": "HBoxModel",
      "state": {
       "_dom_classes": [],
       "_model_module": "@jupyter-widgets/controls",
       "_model_module_version": "2.0.0",
       "_model_name": "HBoxModel",
       "_view_count": null,
       "_view_module": "@jupyter-widgets/controls",
       "_view_module_version": "2.0.0",
       "_view_name": "HBoxView",
       "box_style": "",
       "children": [
        "IPY_MODEL_384c3cf797b248218ea15f6f036b5970",
        "IPY_MODEL_258e10e0a23a43548eb110819cd7b142",
        "IPY_MODEL_1d397b6d39fc4baeba79f91c26f8b950"
       ],
       "layout": "IPY_MODEL_43b0e87c32da43e1aa2f18582195ac65",
       "tabbable": null,
       "tooltip": null
      }
     },
     "7d375bed7d294c91b30433b788e1c7d1": {
      "model_module": "@jupyter-widgets/controls",
      "model_module_version": "2.0.0",
      "model_name": "HTMLModel",
      "state": {
       "_dom_classes": [],
       "_model_module": "@jupyter-widgets/controls",
       "_model_module_version": "2.0.0",
       "_model_name": "HTMLModel",
       "_view_count": null,
       "_view_module": "@jupyter-widgets/controls",
       "_view_module_version": "2.0.0",
       "_view_name": "HTMLView",
       "description": "",
       "description_allow_html": false,
       "layout": "IPY_MODEL_07d22210870d474eae206caecce78016",
       "placeholder": "​",
       "style": "IPY_MODEL_a1b799a4a17d4b48a5dfb1ea2bc82ca5",
       "tabbable": null,
       "tooltip": null,
       "value": " 48.9M/48.9M [00:00&lt;00:00, 60.3MB/s]"
      }
     },
     "826680faac3a4920bd19c1b618f24a65": {
      "model_module": "@jupyter-widgets/controls",
      "model_module_version": "2.0.0",
      "model_name": "HTMLStyleModel",
      "state": {
       "_model_module": "@jupyter-widgets/controls",
       "_model_module_version": "2.0.0",
       "_model_name": "HTMLStyleModel",
       "_view_count": null,
       "_view_module": "@jupyter-widgets/base",
       "_view_module_version": "2.0.0",
       "_view_name": "StyleView",
       "background": null,
       "description_width": "",
       "font_size": null,
       "text_color": null
      }
     },
     "8bf4390200ef4020b203b719e1feed4f": {
      "model_module": "@jupyter-widgets/controls",
      "model_module_version": "2.0.0",
      "model_name": "HTMLModel",
      "state": {
       "_dom_classes": [],
       "_model_module": "@jupyter-widgets/controls",
       "_model_module_version": "2.0.0",
       "_model_name": "HTMLModel",
       "_view_count": null,
       "_view_module": "@jupyter-widgets/controls",
       "_view_module_version": "2.0.0",
       "_view_name": "HTMLView",
       "description": "",
       "description_allow_html": false,
       "layout": "IPY_MODEL_6a4bb6eb0a25431e9c9743da248ffd75",
       "placeholder": "​",
       "style": "IPY_MODEL_021108e578de4bff97ee929e3511d412",
       "tabbable": null,
       "tooltip": null,
       "value": "Map: 100%"
      }
     },
     "8c6551ad53ca4ffd936e1312909dfb06": {
      "model_module": "@jupyter-widgets/base",
      "model_module_version": "2.0.0",
      "model_name": "LayoutModel",
      "state": {
       "_model_module": "@jupyter-widgets/base",
       "_model_module_version": "2.0.0",
       "_model_name": "LayoutModel",
       "_view_count": null,
       "_view_module": "@jupyter-widgets/base",
       "_view_module_version": "2.0.0",
       "_view_name": "LayoutView",
       "align_content": null,
       "align_items": null,
       "align_self": null,
       "border_bottom": null,
       "border_left": null,
       "border_right": null,
       "border_top": null,
       "bottom": null,
       "display": null,
       "flex": null,
       "flex_flow": null,
       "grid_area": null,
       "grid_auto_columns": null,
       "grid_auto_flow": null,
       "grid_auto_rows": null,
       "grid_column": null,
       "grid_gap": null,
       "grid_row": null,
       "grid_template_areas": null,
       "grid_template_columns": null,
       "grid_template_rows": null,
       "height": null,
       "justify_content": null,
       "justify_items": null,
       "left": null,
       "margin": null,
       "max_height": null,
       "max_width": null,
       "min_height": null,
       "min_width": null,
       "object_fit": null,
       "object_position": null,
       "order": null,
       "overflow": null,
       "padding": null,
       "right": null,
       "top": null,
       "visibility": null,
       "width": null
      }
     },
     "8e9e2fe1ea984483a03385794ecdd953": {
      "model_module": "@jupyter-widgets/controls",
      "model_module_version": "2.0.0",
      "model_name": "HTMLStyleModel",
      "state": {
       "_model_module": "@jupyter-widgets/controls",
       "_model_module_version": "2.0.0",
       "_model_name": "HTMLStyleModel",
       "_view_count": null,
       "_view_module": "@jupyter-widgets/base",
       "_view_module_version": "2.0.0",
       "_view_name": "StyleView",
       "background": null,
       "description_width": "",
       "font_size": null,
       "text_color": null
      }
     },
     "90f3cd8c991e4a5a88ad69522954d974": {
      "model_module": "@jupyter-widgets/base",
      "model_module_version": "2.0.0",
      "model_name": "LayoutModel",
      "state": {
       "_model_module": "@jupyter-widgets/base",
       "_model_module_version": "2.0.0",
       "_model_name": "LayoutModel",
       "_view_count": null,
       "_view_module": "@jupyter-widgets/base",
       "_view_module_version": "2.0.0",
       "_view_name": "LayoutView",
       "align_content": null,
       "align_items": null,
       "align_self": null,
       "border_bottom": null,
       "border_left": null,
       "border_right": null,
       "border_top": null,
       "bottom": null,
       "display": null,
       "flex": null,
       "flex_flow": null,
       "grid_area": null,
       "grid_auto_columns": null,
       "grid_auto_flow": null,
       "grid_auto_rows": null,
       "grid_column": null,
       "grid_gap": null,
       "grid_row": null,
       "grid_template_areas": null,
       "grid_template_columns": null,
       "grid_template_rows": null,
       "height": null,
       "justify_content": null,
       "justify_items": null,
       "left": null,
       "margin": null,
       "max_height": null,
       "max_width": null,
       "min_height": null,
       "min_width": null,
       "object_fit": null,
       "object_position": null,
       "order": null,
       "overflow": null,
       "padding": null,
       "right": null,
       "top": null,
       "visibility": null,
       "width": null
      }
     },
     "91337c36a3b847819dc261215479fb1f": {
      "model_module": "@jupyter-widgets/controls",
      "model_module_version": "2.0.0",
      "model_name": "ProgressStyleModel",
      "state": {
       "_model_module": "@jupyter-widgets/controls",
       "_model_module_version": "2.0.0",
       "_model_name": "ProgressStyleModel",
       "_view_count": null,
       "_view_module": "@jupyter-widgets/base",
       "_view_module_version": "2.0.0",
       "_view_name": "StyleView",
       "bar_color": null,
       "description_width": ""
      }
     },
     "93e5b789de384cdbafb2d9c2331c4441": {
      "model_module": "@jupyter-widgets/controls",
      "model_module_version": "2.0.0",
      "model_name": "TextStyleModel",
      "state": {
       "_model_module": "@jupyter-widgets/controls",
       "_model_module_version": "2.0.0",
       "_model_name": "TextStyleModel",
       "_view_count": null,
       "_view_module": "@jupyter-widgets/base",
       "_view_module_version": "2.0.0",
       "_view_name": "StyleView",
       "background": null,
       "description_width": "",
       "font_size": null,
       "text_color": null
      }
     },
     "9505332078264668ad3317788e39fd66": {
      "model_module": "@jupyter-widgets/base",
      "model_module_version": "2.0.0",
      "model_name": "LayoutModel",
      "state": {
       "_model_module": "@jupyter-widgets/base",
       "_model_module_version": "2.0.0",
       "_model_name": "LayoutModel",
       "_view_count": null,
       "_view_module": "@jupyter-widgets/base",
       "_view_module_version": "2.0.0",
       "_view_name": "LayoutView",
       "align_content": null,
       "align_items": null,
       "align_self": null,
       "border_bottom": null,
       "border_left": null,
       "border_right": null,
       "border_top": null,
       "bottom": null,
       "display": null,
       "flex": null,
       "flex_flow": null,
       "grid_area": null,
       "grid_auto_columns": null,
       "grid_auto_flow": null,
       "grid_auto_rows": null,
       "grid_column": null,
       "grid_gap": null,
       "grid_row": null,
       "grid_template_areas": null,
       "grid_template_columns": null,
       "grid_template_rows": null,
       "height": null,
       "justify_content": null,
       "justify_items": null,
       "left": null,
       "margin": null,
       "max_height": null,
       "max_width": null,
       "min_height": null,
       "min_width": null,
       "object_fit": null,
       "object_position": null,
       "order": null,
       "overflow": null,
       "padding": null,
       "right": null,
       "top": null,
       "visibility": null,
       "width": null
      }
     },
     "969fda8561764d93a1834e20c4e43f46": {
      "model_module": "@jupyter-widgets/base",
      "model_module_version": "2.0.0",
      "model_name": "LayoutModel",
      "state": {
       "_model_module": "@jupyter-widgets/base",
       "_model_module_version": "2.0.0",
       "_model_name": "LayoutModel",
       "_view_count": null,
       "_view_module": "@jupyter-widgets/base",
       "_view_module_version": "2.0.0",
       "_view_name": "LayoutView",
       "align_content": null,
       "align_items": null,
       "align_self": null,
       "border_bottom": null,
       "border_left": null,
       "border_right": null,
       "border_top": null,
       "bottom": null,
       "display": null,
       "flex": null,
       "flex_flow": null,
       "grid_area": null,
       "grid_auto_columns": null,
       "grid_auto_flow": null,
       "grid_auto_rows": null,
       "grid_column": null,
       "grid_gap": null,
       "grid_row": null,
       "grid_template_areas": null,
       "grid_template_columns": null,
       "grid_template_rows": null,
       "height": null,
       "justify_content": null,
       "justify_items": null,
       "left": null,
       "margin": null,
       "max_height": null,
       "max_width": null,
       "min_height": null,
       "min_width": null,
       "object_fit": null,
       "object_position": null,
       "order": null,
       "overflow": null,
       "padding": null,
       "right": null,
       "top": null,
       "visibility": null,
       "width": null
      }
     },
     "977bce45275b421db9680b0dad761047": {
      "model_module": "@jupyter-widgets/controls",
      "model_module_version": "2.0.0",
      "model_name": "HTMLStyleModel",
      "state": {
       "_model_module": "@jupyter-widgets/controls",
       "_model_module_version": "2.0.0",
       "_model_name": "HTMLStyleModel",
       "_view_count": null,
       "_view_module": "@jupyter-widgets/base",
       "_view_module_version": "2.0.0",
       "_view_name": "StyleView",
       "background": null,
       "description_width": "",
       "font_size": null,
       "text_color": null
      }
     },
     "9952fa47da484652928d8a64ed62aee6": {
      "model_module": "@jupyter-widgets/controls",
      "model_module_version": "2.0.0",
      "model_name": "ProgressStyleModel",
      "state": {
       "_model_module": "@jupyter-widgets/controls",
       "_model_module_version": "2.0.0",
       "_model_name": "ProgressStyleModel",
       "_view_count": null,
       "_view_module": "@jupyter-widgets/base",
       "_view_module_version": "2.0.0",
       "_view_name": "StyleView",
       "bar_color": null,
       "description_width": ""
      }
     },
     "99dbd165d45c481bbfe1aaa319447a43": {
      "model_module": "@jupyter-widgets/controls",
      "model_module_version": "2.0.0",
      "model_name": "ProgressStyleModel",
      "state": {
       "_model_module": "@jupyter-widgets/controls",
       "_model_module_version": "2.0.0",
       "_model_name": "ProgressStyleModel",
       "_view_count": null,
       "_view_module": "@jupyter-widgets/base",
       "_view_module_version": "2.0.0",
       "_view_name": "StyleView",
       "bar_color": null,
       "description_width": ""
      }
     },
     "9b4c0e0832b74492a6e258285e7db3f6": {
      "model_module": "@jupyter-widgets/controls",
      "model_module_version": "2.0.0",
      "model_name": "ProgressStyleModel",
      "state": {
       "_model_module": "@jupyter-widgets/controls",
       "_model_module_version": "2.0.0",
       "_model_name": "ProgressStyleModel",
       "_view_count": null,
       "_view_module": "@jupyter-widgets/base",
       "_view_module_version": "2.0.0",
       "_view_name": "StyleView",
       "bar_color": null,
       "description_width": ""
      }
     },
     "a1b799a4a17d4b48a5dfb1ea2bc82ca5": {
      "model_module": "@jupyter-widgets/controls",
      "model_module_version": "2.0.0",
      "model_name": "HTMLStyleModel",
      "state": {
       "_model_module": "@jupyter-widgets/controls",
       "_model_module_version": "2.0.0",
       "_model_name": "HTMLStyleModel",
       "_view_count": null,
       "_view_module": "@jupyter-widgets/base",
       "_view_module_version": "2.0.0",
       "_view_name": "StyleView",
       "background": null,
       "description_width": "",
       "font_size": null,
       "text_color": null
      }
     },
     "a3307125715e4f09acbb44d8686d2011": {
      "model_module": "@jupyter-widgets/controls",
      "model_module_version": "2.0.0",
      "model_name": "CheckboxStyleModel",
      "state": {
       "_model_module": "@jupyter-widgets/controls",
       "_model_module_version": "2.0.0",
       "_model_name": "CheckboxStyleModel",
       "_view_count": null,
       "_view_module": "@jupyter-widgets/base",
       "_view_module_version": "2.0.0",
       "_view_name": "StyleView",
       "background": null,
       "description_width": ""
      }
     },
     "a4a5f6722f8c402680ec315dda46f5c0": {
      "model_module": "@jupyter-widgets/controls",
      "model_module_version": "2.0.0",
      "model_name": "ButtonStyleModel",
      "state": {
       "_model_module": "@jupyter-widgets/controls",
       "_model_module_version": "2.0.0",
       "_model_name": "ButtonStyleModel",
       "_view_count": null,
       "_view_module": "@jupyter-widgets/base",
       "_view_module_version": "2.0.0",
       "_view_name": "StyleView",
       "button_color": null,
       "font_family": null,
       "font_size": null,
       "font_style": null,
       "font_variant": null,
       "font_weight": null,
       "text_color": null,
       "text_decoration": null
      }
     },
     "abde03589de040698e6307418361cac6": {
      "model_module": "@jupyter-widgets/controls",
      "model_module_version": "2.0.0",
      "model_name": "HBoxModel",
      "state": {
       "_dom_classes": [],
       "_model_module": "@jupyter-widgets/controls",
       "_model_module_version": "2.0.0",
       "_model_name": "HBoxModel",
       "_view_count": null,
       "_view_module": "@jupyter-widgets/controls",
       "_view_module_version": "2.0.0",
       "_view_name": "HBoxView",
       "box_style": "",
       "children": [
        "IPY_MODEL_8bf4390200ef4020b203b719e1feed4f",
        "IPY_MODEL_2e2a1665bd27477c9e4a599e12cf82e7",
        "IPY_MODEL_ad0b30c92f174d98b662cace5818d239"
       ],
       "layout": "IPY_MODEL_ee98d2d5a7a34df89e0afd55e648a12b",
       "tabbable": null,
       "tooltip": null
      }
     },
     "ad0b30c92f174d98b662cace5818d239": {
      "model_module": "@jupyter-widgets/controls",
      "model_module_version": "2.0.0",
      "model_name": "HTMLModel",
      "state": {
       "_dom_classes": [],
       "_model_module": "@jupyter-widgets/controls",
       "_model_module_version": "2.0.0",
       "_model_name": "HTMLModel",
       "_view_count": null,
       "_view_module": "@jupyter-widgets/controls",
       "_view_module_version": "2.0.0",
       "_view_name": "HTMLView",
       "description": "",
       "description_allow_html": false,
       "layout": "IPY_MODEL_969fda8561764d93a1834e20c4e43f46",
       "placeholder": "​",
       "style": "IPY_MODEL_826680faac3a4920bd19c1b618f24a65",
       "tabbable": null,
       "tooltip": null,
       "value": " 66/66 [00:00&lt;00:00, 700.50 examples/s]"
      }
     },
     "ae0d09b7e6b9400684e830594ca08245": {
      "model_module": "@jupyter-widgets/controls",
      "model_module_version": "2.0.0",
      "model_name": "PasswordModel",
      "state": {
       "_dom_classes": [],
       "_model_module": "@jupyter-widgets/controls",
       "_model_module_version": "2.0.0",
       "_model_name": "PasswordModel",
       "_view_count": null,
       "_view_module": "@jupyter-widgets/controls",
       "_view_module_version": "2.0.0",
       "_view_name": "PasswordView",
       "continuous_update": true,
       "description": "Token:",
       "description_allow_html": false,
       "disabled": false,
       "layout": "IPY_MODEL_4bb459236ea8485c934832b265953251",
       "placeholder": "​",
       "style": "IPY_MODEL_93e5b789de384cdbafb2d9c2331c4441",
       "tabbable": null,
       "tooltip": null,
       "value": ""
      }
     },
     "b2cd0f05dd794d1c9cbe116fe9635b6c": {
      "model_module": "@jupyter-widgets/base",
      "model_module_version": "2.0.0",
      "model_name": "LayoutModel",
      "state": {
       "_model_module": "@jupyter-widgets/base",
       "_model_module_version": "2.0.0",
       "_model_name": "LayoutModel",
       "_view_count": null,
       "_view_module": "@jupyter-widgets/base",
       "_view_module_version": "2.0.0",
       "_view_name": "LayoutView",
       "align_content": null,
       "align_items": null,
       "align_self": null,
       "border_bottom": null,
       "border_left": null,
       "border_right": null,
       "border_top": null,
       "bottom": null,
       "display": null,
       "flex": null,
       "flex_flow": null,
       "grid_area": null,
       "grid_auto_columns": null,
       "grid_auto_flow": null,
       "grid_auto_rows": null,
       "grid_column": null,
       "grid_gap": null,
       "grid_row": null,
       "grid_template_areas": null,
       "grid_template_columns": null,
       "grid_template_rows": null,
       "height": null,
       "justify_content": null,
       "justify_items": null,
       "left": null,
       "margin": null,
       "max_height": null,
       "max_width": null,
       "min_height": null,
       "min_width": null,
       "object_fit": null,
       "object_position": null,
       "order": null,
       "overflow": null,
       "padding": null,
       "right": null,
       "top": null,
       "visibility": null,
       "width": null
      }
     },
     "b57abc3dc142420d82873b61ebc667be": {
      "model_module": "@jupyter-widgets/controls",
      "model_module_version": "2.0.0",
      "model_name": "HTMLStyleModel",
      "state": {
       "_model_module": "@jupyter-widgets/controls",
       "_model_module_version": "2.0.0",
       "_model_name": "HTMLStyleModel",
       "_view_count": null,
       "_view_module": "@jupyter-widgets/base",
       "_view_module_version": "2.0.0",
       "_view_name": "StyleView",
       "background": null,
       "description_width": "",
       "font_size": null,
       "text_color": null
      }
     },
     "bd404908633f4bd8a3362360d11a381a": {
      "model_module": "@jupyter-widgets/base",
      "model_module_version": "2.0.0",
      "model_name": "LayoutModel",
      "state": {
       "_model_module": "@jupyter-widgets/base",
       "_model_module_version": "2.0.0",
       "_model_name": "LayoutModel",
       "_view_count": null,
       "_view_module": "@jupyter-widgets/base",
       "_view_module_version": "2.0.0",
       "_view_name": "LayoutView",
       "align_content": null,
       "align_items": null,
       "align_self": null,
       "border_bottom": null,
       "border_left": null,
       "border_right": null,
       "border_top": null,
       "bottom": null,
       "display": null,
       "flex": null,
       "flex_flow": null,
       "grid_area": null,
       "grid_auto_columns": null,
       "grid_auto_flow": null,
       "grid_auto_rows": null,
       "grid_column": null,
       "grid_gap": null,
       "grid_row": null,
       "grid_template_areas": null,
       "grid_template_columns": null,
       "grid_template_rows": null,
       "height": null,
       "justify_content": null,
       "justify_items": null,
       "left": null,
       "margin": null,
       "max_height": null,
       "max_width": null,
       "min_height": null,
       "min_width": null,
       "object_fit": null,
       "object_position": null,
       "order": null,
       "overflow": null,
       "padding": null,
       "right": null,
       "top": null,
       "visibility": null,
       "width": null
      }
     },
     "bd44bd8c005b4fb2913e2546902b9f82": {
      "model_module": "@jupyter-widgets/controls",
      "model_module_version": "2.0.0",
      "model_name": "HTMLStyleModel",
      "state": {
       "_model_module": "@jupyter-widgets/controls",
       "_model_module_version": "2.0.0",
       "_model_name": "HTMLStyleModel",
       "_view_count": null,
       "_view_module": "@jupyter-widgets/base",
       "_view_module_version": "2.0.0",
       "_view_name": "StyleView",
       "background": null,
       "description_width": "",
       "font_size": null,
       "text_color": null
      }
     },
     "be50538aff1b49b696b5e65aebb50ec3": {
      "model_module": "@jupyter-widgets/base",
      "model_module_version": "2.0.0",
      "model_name": "LayoutModel",
      "state": {
       "_model_module": "@jupyter-widgets/base",
       "_model_module_version": "2.0.0",
       "_model_name": "LayoutModel",
       "_view_count": null,
       "_view_module": "@jupyter-widgets/base",
       "_view_module_version": "2.0.0",
       "_view_name": "LayoutView",
       "align_content": null,
       "align_items": "center",
       "align_self": null,
       "border_bottom": null,
       "border_left": null,
       "border_right": null,
       "border_top": null,
       "bottom": null,
       "display": "flex",
       "flex": null,
       "flex_flow": "column",
       "grid_area": null,
       "grid_auto_columns": null,
       "grid_auto_flow": null,
       "grid_auto_rows": null,
       "grid_column": null,
       "grid_gap": null,
       "grid_row": null,
       "grid_template_areas": null,
       "grid_template_columns": null,
       "grid_template_rows": null,
       "height": null,
       "justify_content": null,
       "justify_items": null,
       "left": null,
       "margin": null,
       "max_height": null,
       "max_width": null,
       "min_height": null,
       "min_width": null,
       "object_fit": null,
       "object_position": null,
       "order": null,
       "overflow": null,
       "padding": null,
       "right": null,
       "top": null,
       "visibility": null,
       "width": "50%"
      }
     },
     "bebac16ea3b64703994c2069f65df219": {
      "model_module": "@jupyter-widgets/controls",
      "model_module_version": "2.0.0",
      "model_name": "FloatProgressModel",
      "state": {
       "_dom_classes": [],
       "_model_module": "@jupyter-widgets/controls",
       "_model_module_version": "2.0.0",
       "_model_name": "FloatProgressModel",
       "_view_count": null,
       "_view_module": "@jupyter-widgets/controls",
       "_view_module_version": "2.0.0",
       "_view_name": "ProgressView",
       "bar_style": "success",
       "description": "",
       "description_allow_html": false,
       "layout": "IPY_MODEL_e71c490661dc4c68ac3a9fce8d97f89c",
       "max": 48854224,
       "min": 0,
       "orientation": "horizontal",
       "style": "IPY_MODEL_91337c36a3b847819dc261215479fb1f",
       "tabbable": null,
       "tooltip": null,
       "value": 48854224
      }
     },
     "c06469e917d248ebba1d1adbc4b6edaa": {
      "model_module": "@jupyter-widgets/base",
      "model_module_version": "2.0.0",
      "model_name": "LayoutModel",
      "state": {
       "_model_module": "@jupyter-widgets/base",
       "_model_module_version": "2.0.0",
       "_model_name": "LayoutModel",
       "_view_count": null,
       "_view_module": "@jupyter-widgets/base",
       "_view_module_version": "2.0.0",
       "_view_name": "LayoutView",
       "align_content": null,
       "align_items": null,
       "align_self": null,
       "border_bottom": null,
       "border_left": null,
       "border_right": null,
       "border_top": null,
       "bottom": null,
       "display": null,
       "flex": null,
       "flex_flow": null,
       "grid_area": null,
       "grid_auto_columns": null,
       "grid_auto_flow": null,
       "grid_auto_rows": null,
       "grid_column": null,
       "grid_gap": null,
       "grid_row": null,
       "grid_template_areas": null,
       "grid_template_columns": null,
       "grid_template_rows": null,
       "height": null,
       "justify_content": null,
       "justify_items": null,
       "left": null,
       "margin": null,
       "max_height": null,
       "max_width": null,
       "min_height": null,
       "min_width": null,
       "object_fit": null,
       "object_position": null,
       "order": null,
       "overflow": null,
       "padding": null,
       "right": null,
       "top": null,
       "visibility": null,
       "width": null
      }
     },
     "c2fbbdc053df42cbaff0a19225c17bb3": {
      "model_module": "@jupyter-widgets/controls",
      "model_module_version": "2.0.0",
      "model_name": "CheckboxModel",
      "state": {
       "_dom_classes": [],
       "_model_module": "@jupyter-widgets/controls",
       "_model_module_version": "2.0.0",
       "_model_name": "CheckboxModel",
       "_view_count": null,
       "_view_module": "@jupyter-widgets/controls",
       "_view_module_version": "2.0.0",
       "_view_name": "CheckboxView",
       "description": "Add token as git credential?",
       "description_allow_html": false,
       "disabled": false,
       "indent": true,
       "layout": "IPY_MODEL_155c4fc646a146cca436ed261de732f9",
       "style": "IPY_MODEL_a3307125715e4f09acbb44d8686d2011",
       "tabbable": null,
       "tooltip": null,
       "value": true
      }
     },
     "c3e86d4957a74a1d850e20579d486c63": {
      "model_module": "@jupyter-widgets/controls",
      "model_module_version": "2.0.0",
      "model_name": "HTMLStyleModel",
      "state": {
       "_model_module": "@jupyter-widgets/controls",
       "_model_module_version": "2.0.0",
       "_model_name": "HTMLStyleModel",
       "_view_count": null,
       "_view_module": "@jupyter-widgets/base",
       "_view_module_version": "2.0.0",
       "_view_name": "StyleView",
       "background": null,
       "description_width": "",
       "font_size": null,
       "text_color": null
      }
     },
     "ccaeba7907f94558bcfb2490fb148dba": {
      "model_module": "@jupyter-widgets/controls",
      "model_module_version": "2.0.0",
      "model_name": "HTMLModel",
      "state": {
       "_dom_classes": [],
       "_model_module": "@jupyter-widgets/controls",
       "_model_module_version": "2.0.0",
       "_model_name": "HTMLModel",
       "_view_count": null,
       "_view_module": "@jupyter-widgets/controls",
       "_view_module_version": "2.0.0",
       "_view_name": "HTMLView",
       "description": "",
       "description_allow_html": false,
       "layout": "IPY_MODEL_33b79e32276a418a898b41439d0514cc",
       "placeholder": "​",
       "style": "IPY_MODEL_ceda78a479784e13851e8f28bbc7dae3",
       "tabbable": null,
       "tooltip": null,
       "value": "\n<b>Pro Tip:</b> If you don't already have one, you can create a dedicated\n'notebooks' token with 'write' access, that you can then easily reuse for all\nnotebooks. </center>"
      }
     },
     "ceda78a479784e13851e8f28bbc7dae3": {
      "model_module": "@jupyter-widgets/controls",
      "model_module_version": "2.0.0",
      "model_name": "HTMLStyleModel",
      "state": {
       "_model_module": "@jupyter-widgets/controls",
       "_model_module_version": "2.0.0",
       "_model_name": "HTMLStyleModel",
       "_view_count": null,
       "_view_module": "@jupyter-widgets/base",
       "_view_module_version": "2.0.0",
       "_view_name": "StyleView",
       "background": null,
       "description_width": "",
       "font_size": null,
       "text_color": null
      }
     },
     "cf34793eb7a4408a9660b04db9b6374a": {
      "model_module": "@jupyter-widgets/controls",
      "model_module_version": "2.0.0",
      "model_name": "FloatProgressModel",
      "state": {
       "_dom_classes": [],
       "_model_module": "@jupyter-widgets/controls",
       "_model_module_version": "2.0.0",
       "_model_name": "FloatProgressModel",
       "_view_count": null,
       "_view_module": "@jupyter-widgets/controls",
       "_view_module_version": "2.0.0",
       "_view_name": "ProgressView",
       "bar_style": "success",
       "description": "",
       "description_allow_html": false,
       "layout": "IPY_MODEL_1688e365f8bf4035abeb7d060c24cb3a",
       "max": 524,
       "min": 0,
       "orientation": "horizontal",
       "style": "IPY_MODEL_e34d189b1e244ed3aefa828e9d38128f",
       "tabbable": null,
       "tooltip": null,
       "value": 524
      }
     },
     "d1120f326dab4d6b9cc548bd03999d3d": {
      "model_module": "@jupyter-widgets/base",
      "model_module_version": "2.0.0",
      "model_name": "LayoutModel",
      "state": {
       "_model_module": "@jupyter-widgets/base",
       "_model_module_version": "2.0.0",
       "_model_name": "LayoutModel",
       "_view_count": null,
       "_view_module": "@jupyter-widgets/base",
       "_view_module_version": "2.0.0",
       "_view_name": "LayoutView",
       "align_content": null,
       "align_items": null,
       "align_self": null,
       "border_bottom": null,
       "border_left": null,
       "border_right": null,
       "border_top": null,
       "bottom": null,
       "display": null,
       "flex": null,
       "flex_flow": null,
       "grid_area": null,
       "grid_auto_columns": null,
       "grid_auto_flow": null,
       "grid_auto_rows": null,
       "grid_column": null,
       "grid_gap": null,
       "grid_row": null,
       "grid_template_areas": null,
       "grid_template_columns": null,
       "grid_template_rows": null,
       "height": null,
       "justify_content": null,
       "justify_items": null,
       "left": null,
       "margin": null,
       "max_height": null,
       "max_width": null,
       "min_height": null,
       "min_width": null,
       "object_fit": null,
       "object_position": null,
       "order": null,
       "overflow": null,
       "padding": null,
       "right": null,
       "top": null,
       "visibility": null,
       "width": null
      }
     },
     "d210600f879f4027b5bc129c54dde72c": {
      "model_module": "@jupyter-widgets/controls",
      "model_module_version": "2.0.0",
      "model_name": "HTMLModel",
      "state": {
       "_dom_classes": [],
       "_model_module": "@jupyter-widgets/controls",
       "_model_module_version": "2.0.0",
       "_model_name": "HTMLModel",
       "_view_count": null,
       "_view_module": "@jupyter-widgets/controls",
       "_view_module_version": "2.0.0",
       "_view_name": "HTMLView",
       "description": "",
       "description_allow_html": false,
       "layout": "IPY_MODEL_2c751f564451457f925e7ec33eea1047",
       "placeholder": "​",
       "style": "IPY_MODEL_1a7be5e29af94b1bb1c44c94f23264a2",
       "tabbable": null,
       "tooltip": null,
       "value": " 2/2 [00:02&lt;00:00,  1.18s/it]"
      }
     },
     "d62738eddf014e37b024216fcea7623d": {
      "model_module": "@jupyter-widgets/base",
      "model_module_version": "2.0.0",
      "model_name": "LayoutModel",
      "state": {
       "_model_module": "@jupyter-widgets/base",
       "_model_module_version": "2.0.0",
       "_model_name": "LayoutModel",
       "_view_count": null,
       "_view_module": "@jupyter-widgets/base",
       "_view_module_version": "2.0.0",
       "_view_name": "LayoutView",
       "align_content": null,
       "align_items": null,
       "align_self": null,
       "border_bottom": null,
       "border_left": null,
       "border_right": null,
       "border_top": null,
       "bottom": null,
       "display": null,
       "flex": null,
       "flex_flow": null,
       "grid_area": null,
       "grid_auto_columns": null,
       "grid_auto_flow": null,
       "grid_auto_rows": null,
       "grid_column": null,
       "grid_gap": null,
       "grid_row": null,
       "grid_template_areas": null,
       "grid_template_columns": null,
       "grid_template_rows": null,
       "height": null,
       "justify_content": null,
       "justify_items": null,
       "left": null,
       "margin": null,
       "max_height": null,
       "max_width": null,
       "min_height": null,
       "min_width": null,
       "object_fit": null,
       "object_position": null,
       "order": null,
       "overflow": null,
       "padding": null,
       "right": null,
       "top": null,
       "visibility": null,
       "width": null
      }
     },
     "d97127ec645545db9e14f930ca113ed9": {
      "model_module": "@jupyter-widgets/controls",
      "model_module_version": "2.0.0",
      "model_name": "HTMLStyleModel",
      "state": {
       "_model_module": "@jupyter-widgets/controls",
       "_model_module_version": "2.0.0",
       "_model_name": "HTMLStyleModel",
       "_view_count": null,
       "_view_module": "@jupyter-widgets/base",
       "_view_module_version": "2.0.0",
       "_view_name": "StyleView",
       "background": null,
       "description_width": "",
       "font_size": null,
       "text_color": null
      }
     },
     "da5a8fae6af24c71b4fed4112cc61eee": {
      "model_module": "@jupyter-widgets/controls",
      "model_module_version": "2.0.0",
      "model_name": "ProgressStyleModel",
      "state": {
       "_model_module": "@jupyter-widgets/controls",
       "_model_module_version": "2.0.0",
       "_model_name": "ProgressStyleModel",
       "_view_count": null,
       "_view_module": "@jupyter-widgets/base",
       "_view_module_version": "2.0.0",
       "_view_name": "StyleView",
       "bar_color": null,
       "description_width": ""
      }
     },
     "db2e32239cc941af98077a64ebeb46c2": {
      "model_module": "@jupyter-widgets/base",
      "model_module_version": "2.0.0",
      "model_name": "LayoutModel",
      "state": {
       "_model_module": "@jupyter-widgets/base",
       "_model_module_version": "2.0.0",
       "_model_name": "LayoutModel",
       "_view_count": null,
       "_view_module": "@jupyter-widgets/base",
       "_view_module_version": "2.0.0",
       "_view_name": "LayoutView",
       "align_content": null,
       "align_items": null,
       "align_self": null,
       "border_bottom": null,
       "border_left": null,
       "border_right": null,
       "border_top": null,
       "bottom": null,
       "display": null,
       "flex": null,
       "flex_flow": null,
       "grid_area": null,
       "grid_auto_columns": null,
       "grid_auto_flow": null,
       "grid_auto_rows": null,
       "grid_column": null,
       "grid_gap": null,
       "grid_row": null,
       "grid_template_areas": null,
       "grid_template_columns": null,
       "grid_template_rows": null,
       "height": null,
       "justify_content": null,
       "justify_items": null,
       "left": null,
       "margin": null,
       "max_height": null,
       "max_width": null,
       "min_height": null,
       "min_width": null,
       "object_fit": null,
       "object_position": null,
       "order": null,
       "overflow": null,
       "padding": null,
       "right": null,
       "top": null,
       "visibility": null,
       "width": null
      }
     },
     "db53c9074e874aab9a8613e6b3f9b340": {
      "model_module": "@jupyter-widgets/controls",
      "model_module_version": "2.0.0",
      "model_name": "HTMLModel",
      "state": {
       "_dom_classes": [],
       "_model_module": "@jupyter-widgets/controls",
       "_model_module_version": "2.0.0",
       "_model_name": "HTMLModel",
       "_view_count": null,
       "_view_module": "@jupyter-widgets/controls",
       "_view_module_version": "2.0.0",
       "_view_name": "HTMLView",
       "description": "",
       "description_allow_html": false,
       "layout": "IPY_MODEL_015f4236a26547bd98bc0869157cfe3b",
       "placeholder": "​",
       "style": "IPY_MODEL_6085ecd49b5148c6aa233862109ba18b",
       "tabbable": null,
       "tooltip": null,
       "value": "Map: 100%"
      }
     },
     "e34d189b1e244ed3aefa828e9d38128f": {
      "model_module": "@jupyter-widgets/controls",
      "model_module_version": "2.0.0",
      "model_name": "ProgressStyleModel",
      "state": {
       "_model_module": "@jupyter-widgets/controls",
       "_model_module_version": "2.0.0",
       "_model_name": "ProgressStyleModel",
       "_view_count": null,
       "_view_module": "@jupyter-widgets/base",
       "_view_module_version": "2.0.0",
       "_view_name": "StyleView",
       "bar_color": null,
       "description_width": ""
      }
     },
     "e3c2f9016369476fb3899bc7cab88bde": {
      "model_module": "@jupyter-widgets/controls",
      "model_module_version": "2.0.0",
      "model_name": "FloatProgressModel",
      "state": {
       "_dom_classes": [],
       "_model_module": "@jupyter-widgets/controls",
       "_model_module_version": "2.0.0",
       "_model_name": "FloatProgressModel",
       "_view_count": null,
       "_view_module": "@jupyter-widgets/controls",
       "_view_module_version": "2.0.0",
       "_view_name": "ProgressView",
       "bar_style": "success",
       "description": "",
       "description_allow_html": false,
       "layout": "IPY_MODEL_2501821258964a9c90560ba6376113ab",
       "max": 2,
       "min": 0,
       "orientation": "horizontal",
       "style": "IPY_MODEL_9952fa47da484652928d8a64ed62aee6",
       "tabbable": null,
       "tooltip": null,
       "value": 2
      }
     },
     "e71c490661dc4c68ac3a9fce8d97f89c": {
      "model_module": "@jupyter-widgets/base",
      "model_module_version": "2.0.0",
      "model_name": "LayoutModel",
      "state": {
       "_model_module": "@jupyter-widgets/base",
       "_model_module_version": "2.0.0",
       "_model_name": "LayoutModel",
       "_view_count": null,
       "_view_module": "@jupyter-widgets/base",
       "_view_module_version": "2.0.0",
       "_view_name": "LayoutView",
       "align_content": null,
       "align_items": null,
       "align_self": null,
       "border_bottom": null,
       "border_left": null,
       "border_right": null,
       "border_top": null,
       "bottom": null,
       "display": null,
       "flex": null,
       "flex_flow": null,
       "grid_area": null,
       "grid_auto_columns": null,
       "grid_auto_flow": null,
       "grid_auto_rows": null,
       "grid_column": null,
       "grid_gap": null,
       "grid_row": null,
       "grid_template_areas": null,
       "grid_template_columns": null,
       "grid_template_rows": null,
       "height": null,
       "justify_content": null,
       "justify_items": null,
       "left": null,
       "margin": null,
       "max_height": null,
       "max_width": null,
       "min_height": null,
       "min_width": null,
       "object_fit": null,
       "object_position": null,
       "order": null,
       "overflow": null,
       "padding": null,
       "right": null,
       "top": null,
       "visibility": null,
       "width": null
      }
     },
     "ea9722c5357d4a82abd157c13c9c6ed0": {
      "model_module": "@jupyter-widgets/controls",
      "model_module_version": "2.0.0",
      "model_name": "HTMLModel",
      "state": {
       "_dom_classes": [],
       "_model_module": "@jupyter-widgets/controls",
       "_model_module_version": "2.0.0",
       "_model_name": "HTMLModel",
       "_view_count": null,
       "_view_module": "@jupyter-widgets/controls",
       "_view_module_version": "2.0.0",
       "_view_name": "HTMLView",
       "description": "",
       "description_allow_html": false,
       "layout": "IPY_MODEL_2007f30f1e1c4e7baa67c3fe0dfaa6f0",
       "placeholder": "​",
       "style": "IPY_MODEL_d97127ec645545db9e14f930ca113ed9",
       "tabbable": null,
       "tooltip": null,
       "value": " 524/524 [00:00&lt;00:00, 807.70 examples/s]"
      }
     },
     "ed2b1b546af2451b8e29a296af19618b": {
      "model_module": "@jupyter-widgets/base",
      "model_module_version": "2.0.0",
      "model_name": "LayoutModel",
      "state": {
       "_model_module": "@jupyter-widgets/base",
       "_model_module_version": "2.0.0",
       "_model_name": "LayoutModel",
       "_view_count": null,
       "_view_module": "@jupyter-widgets/base",
       "_view_module_version": "2.0.0",
       "_view_name": "LayoutView",
       "align_content": null,
       "align_items": null,
       "align_self": null,
       "border_bottom": null,
       "border_left": null,
       "border_right": null,
       "border_top": null,
       "bottom": null,
       "display": null,
       "flex": null,
       "flex_flow": null,
       "grid_area": null,
       "grid_auto_columns": null,
       "grid_auto_flow": null,
       "grid_auto_rows": null,
       "grid_column": null,
       "grid_gap": null,
       "grid_row": null,
       "grid_template_areas": null,
       "grid_template_columns": null,
       "grid_template_rows": null,
       "height": null,
       "justify_content": null,
       "justify_items": null,
       "left": null,
       "margin": null,
       "max_height": null,
       "max_width": null,
       "min_height": null,
       "min_width": null,
       "object_fit": null,
       "object_position": null,
       "order": null,
       "overflow": null,
       "padding": null,
       "right": null,
       "top": null,
       "visibility": null,
       "width": null
      }
     },
     "ee98d2d5a7a34df89e0afd55e648a12b": {
      "model_module": "@jupyter-widgets/base",
      "model_module_version": "2.0.0",
      "model_name": "LayoutModel",
      "state": {
       "_model_module": "@jupyter-widgets/base",
       "_model_module_version": "2.0.0",
       "_model_name": "LayoutModel",
       "_view_count": null,
       "_view_module": "@jupyter-widgets/base",
       "_view_module_version": "2.0.0",
       "_view_name": "LayoutView",
       "align_content": null,
       "align_items": null,
       "align_self": null,
       "border_bottom": null,
       "border_left": null,
       "border_right": null,
       "border_top": null,
       "bottom": null,
       "display": null,
       "flex": null,
       "flex_flow": null,
       "grid_area": null,
       "grid_auto_columns": null,
       "grid_auto_flow": null,
       "grid_auto_rows": null,
       "grid_column": null,
       "grid_gap": null,
       "grid_row": null,
       "grid_template_areas": null,
       "grid_template_columns": null,
       "grid_template_rows": null,
       "height": null,
       "justify_content": null,
       "justify_items": null,
       "left": null,
       "margin": null,
       "max_height": null,
       "max_width": null,
       "min_height": null,
       "min_width": null,
       "object_fit": null,
       "object_position": null,
       "order": null,
       "overflow": null,
       "padding": null,
       "right": null,
       "top": null,
       "visibility": null,
       "width": null
      }
     },
     "f099a3f79db54e5dbacf61478ac8b22d": {
      "model_module": "@jupyter-widgets/base",
      "model_module_version": "2.0.0",
      "model_name": "LayoutModel",
      "state": {
       "_model_module": "@jupyter-widgets/base",
       "_model_module_version": "2.0.0",
       "_model_name": "LayoutModel",
       "_view_count": null,
       "_view_module": "@jupyter-widgets/base",
       "_view_module_version": "2.0.0",
       "_view_name": "LayoutView",
       "align_content": null,
       "align_items": null,
       "align_self": null,
       "border_bottom": null,
       "border_left": null,
       "border_right": null,
       "border_top": null,
       "bottom": null,
       "display": null,
       "flex": null,
       "flex_flow": null,
       "grid_area": null,
       "grid_auto_columns": null,
       "grid_auto_flow": null,
       "grid_auto_rows": null,
       "grid_column": null,
       "grid_gap": null,
       "grid_row": null,
       "grid_template_areas": null,
       "grid_template_columns": null,
       "grid_template_rows": null,
       "height": null,
       "justify_content": null,
       "justify_items": null,
       "left": null,
       "margin": null,
       "max_height": null,
       "max_width": null,
       "min_height": null,
       "min_width": null,
       "object_fit": null,
       "object_position": null,
       "order": null,
       "overflow": null,
       "padding": null,
       "right": null,
       "top": null,
       "visibility": null,
       "width": null
      }
     },
     "f0a3d39e2f6a404086602a960bcb09f6": {
      "model_module": "@jupyter-widgets/controls",
      "model_module_version": "2.0.0",
      "model_name": "HTMLModel",
      "state": {
       "_dom_classes": [],
       "_model_module": "@jupyter-widgets/controls",
       "_model_module_version": "2.0.0",
       "_model_name": "HTMLModel",
       "_view_count": null,
       "_view_module": "@jupyter-widgets/controls",
       "_view_module_version": "2.0.0",
       "_view_name": "HTMLView",
       "description": "",
       "description_allow_html": false,
       "layout": "IPY_MODEL_c06469e917d248ebba1d1adbc4b6edaa",
       "placeholder": "​",
       "style": "IPY_MODEL_08862e3581964e75bb15469b1199311c",
       "tabbable": null,
       "tooltip": null,
       "value": "adapter_model.safetensors: 100%"
      }
     },
     "f0ab7c29d4444c0d9ec2e9ce823acd45": {
      "model_module": "@jupyter-widgets/base",
      "model_module_version": "2.0.0",
      "model_name": "LayoutModel",
      "state": {
       "_model_module": "@jupyter-widgets/base",
       "_model_module_version": "2.0.0",
       "_model_name": "LayoutModel",
       "_view_count": null,
       "_view_module": "@jupyter-widgets/base",
       "_view_module_version": "2.0.0",
       "_view_name": "LayoutView",
       "align_content": null,
       "align_items": null,
       "align_self": null,
       "border_bottom": null,
       "border_left": null,
       "border_right": null,
       "border_top": null,
       "bottom": null,
       "display": null,
       "flex": null,
       "flex_flow": null,
       "grid_area": null,
       "grid_auto_columns": null,
       "grid_auto_flow": null,
       "grid_auto_rows": null,
       "grid_column": null,
       "grid_gap": null,
       "grid_row": null,
       "grid_template_areas": null,
       "grid_template_columns": null,
       "grid_template_rows": null,
       "height": null,
       "justify_content": null,
       "justify_items": null,
       "left": null,
       "margin": null,
       "max_height": null,
       "max_width": null,
       "min_height": null,
       "min_width": null,
       "object_fit": null,
       "object_position": null,
       "order": null,
       "overflow": null,
       "padding": null,
       "right": null,
       "top": null,
       "visibility": null,
       "width": null
      }
     },
     "f44f3a10a271422180240fe84440f226": {
      "model_module": "@jupyter-widgets/base",
      "model_module_version": "2.0.0",
      "model_name": "LayoutModel",
      "state": {
       "_model_module": "@jupyter-widgets/base",
       "_model_module_version": "2.0.0",
       "_model_name": "LayoutModel",
       "_view_count": null,
       "_view_module": "@jupyter-widgets/base",
       "_view_module_version": "2.0.0",
       "_view_name": "LayoutView",
       "align_content": null,
       "align_items": null,
       "align_self": null,
       "border_bottom": null,
       "border_left": null,
       "border_right": null,
       "border_top": null,
       "bottom": null,
       "display": null,
       "flex": null,
       "flex_flow": null,
       "grid_area": null,
       "grid_auto_columns": null,
       "grid_auto_flow": null,
       "grid_auto_rows": null,
       "grid_column": null,
       "grid_gap": null,
       "grid_row": null,
       "grid_template_areas": null,
       "grid_template_columns": null,
       "grid_template_rows": null,
       "height": null,
       "justify_content": null,
       "justify_items": null,
       "left": null,
       "margin": null,
       "max_height": null,
       "max_width": null,
       "min_height": null,
       "min_width": null,
       "object_fit": null,
       "object_position": null,
       "order": null,
       "overflow": null,
       "padding": null,
       "right": null,
       "top": null,
       "visibility": null,
       "width": null
      }
     },
     "f576333a6ace46fea7aefb05c380ecbe": {
      "model_module": "@jupyter-widgets/base",
      "model_module_version": "2.0.0",
      "model_name": "LayoutModel",
      "state": {
       "_model_module": "@jupyter-widgets/base",
       "_model_module_version": "2.0.0",
       "_model_name": "LayoutModel",
       "_view_count": null,
       "_view_module": "@jupyter-widgets/base",
       "_view_module_version": "2.0.0",
       "_view_name": "LayoutView",
       "align_content": null,
       "align_items": null,
       "align_self": null,
       "border_bottom": null,
       "border_left": null,
       "border_right": null,
       "border_top": null,
       "bottom": null,
       "display": null,
       "flex": null,
       "flex_flow": null,
       "grid_area": null,
       "grid_auto_columns": null,
       "grid_auto_flow": null,
       "grid_auto_rows": null,
       "grid_column": null,
       "grid_gap": null,
       "grid_row": null,
       "grid_template_areas": null,
       "grid_template_columns": null,
       "grid_template_rows": null,
       "height": null,
       "justify_content": null,
       "justify_items": null,
       "left": null,
       "margin": null,
       "max_height": null,
       "max_width": null,
       "min_height": null,
       "min_width": null,
       "object_fit": null,
       "object_position": null,
       "order": null,
       "overflow": null,
       "padding": null,
       "right": null,
       "top": null,
       "visibility": null,
       "width": null
      }
     },
     "fe5d0c4d048342b5a5682683b5c22caf": {
      "model_module": "@jupyter-widgets/controls",
      "model_module_version": "2.0.0",
      "model_name": "HBoxModel",
      "state": {
       "_dom_classes": [],
       "_model_module": "@jupyter-widgets/controls",
       "_model_module_version": "2.0.0",
       "_model_name": "HBoxModel",
       "_view_count": null,
       "_view_module": "@jupyter-widgets/controls",
       "_view_module_version": "2.0.0",
       "_view_name": "HBoxView",
       "box_style": "",
       "children": [
        "IPY_MODEL_db53c9074e874aab9a8613e6b3f9b340",
        "IPY_MODEL_2919349f94bf48c0b82c535567f63ab8",
        "IPY_MODEL_27687b3dfa3a4ef59a9f861fa50f5fe7"
       ],
       "layout": "IPY_MODEL_d1120f326dab4d6b9cc548bd03999d3d",
       "tabbable": null,
       "tooltip": null
      }
     },
     "fe5e680b79734c3fabc1fb790b31afc7": {
      "model_module": "@jupyter-widgets/controls",
      "model_module_version": "2.0.0",
      "model_name": "HBoxModel",
      "state": {
       "_dom_classes": [],
       "_model_module": "@jupyter-widgets/controls",
       "_model_module_version": "2.0.0",
       "_model_name": "HBoxModel",
       "_view_count": null,
       "_view_module": "@jupyter-widgets/controls",
       "_view_module_version": "2.0.0",
       "_view_name": "HBoxView",
       "box_style": "",
       "children": [
        "IPY_MODEL_f0a3d39e2f6a404086602a960bcb09f6",
        "IPY_MODEL_bebac16ea3b64703994c2069f65df219",
        "IPY_MODEL_103e5cdef787431dbe44f3441b37dd89"
       ],
       "layout": "IPY_MODEL_d62738eddf014e37b024216fcea7623d",
       "tabbable": null,
       "tooltip": null
      }
     }
    },
    "version_major": 2,
    "version_minor": 0
   }
  }
 },
 "nbformat": 4,
 "nbformat_minor": 2
}
