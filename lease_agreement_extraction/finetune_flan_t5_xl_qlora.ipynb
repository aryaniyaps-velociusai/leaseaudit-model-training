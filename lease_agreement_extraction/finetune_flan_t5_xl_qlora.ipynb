{
 "cells": [
  {
   "cell_type": "markdown",
   "metadata": {},
   "source": [
    "## Finetuning Flan T5 XL for lease agreement data extraction"
   ]
  },
  {
   "cell_type": "markdown",
   "metadata": {},
   "source": [
    "### Install dependencies"
   ]
  },
  {
   "cell_type": "code",
   "execution_count": 1,
   "metadata": {},
   "outputs": [
    {
     "name": "stdout",
     "output_type": "stream",
     "text": [
      "Note: you may need to restart the kernel to use updated packages.\n"
     ]
    }
   ],
   "source": [
    "%pip install pandas numpy peft scikit-learn transformers datasets torch accelerate bitsandbytes huggingface-hub -q"
   ]
  },
  {
   "cell_type": "markdown",
   "metadata": {},
   "source": [
    "### Build the dataframe\n",
    "Build the dataframe from the collected data"
   ]
  },
  {
   "cell_type": "code",
   "execution_count": 2,
   "metadata": {},
   "outputs": [
    {
     "data": {
      "text/html": [
       "<div>\n",
       "<style scoped>\n",
       "    .dataframe tbody tr th:only-of-type {\n",
       "        vertical-align: middle;\n",
       "    }\n",
       "\n",
       "    .dataframe tbody tr th {\n",
       "        vertical-align: top;\n",
       "    }\n",
       "\n",
       "    .dataframe thead th {\n",
       "        text-align: right;\n",
       "    }\n",
       "</style>\n",
       "<table border=\"1\" class=\"dataframe\">\n",
       "  <thead>\n",
       "    <tr style=\"text-align: right;\">\n",
       "      <th></th>\n",
       "      <th>extracted_text</th>\n",
       "      <th>extracted_fields</th>\n",
       "    </tr>\n",
       "    <tr>\n",
       "      <th>id</th>\n",
       "      <th></th>\n",
       "      <th></th>\n",
       "    </tr>\n",
       "  </thead>\n",
       "  <tbody>\n",
       "    <tr>\n",
       "      <th>1</th>\n",
       "      <td>Name, address and phone number of managing age...</td>\n",
       "      <td>{'tenant_name': 'Yolanda Strobert', 'unit_addr...</td>\n",
       "    </tr>\n",
       "    <tr>\n",
       "      <th>2</th>\n",
       "      <td>dupusit: or 2) return the remaining portion (i...</td>\n",
       "      <td>{'tenant_name': 'Comunque Bolas', 'unit_addres...</td>\n",
       "    </tr>\n",
       "    <tr>\n",
       "      <th>3</th>\n",
       "      <td>You'll pay for all other utilities, related de...</td>\n",
       "      <td>{'tenant_name': None, 'unit_address': None, 'u...</td>\n",
       "    </tr>\n",
       "    <tr>\n",
       "      <th>4</th>\n",
       "      <td>APARTMENT LEASE CONTRACT\\nNAA NATIONAL APARTME...</td>\n",
       "      <td>{'tenant_name': 'Dominique Boles', 'unit_addre...</td>\n",
       "    </tr>\n",
       "    <tr>\n",
       "      <th>5</th>\n",
       "      <td>Disposition or Sale. Except for animals and pr...</td>\n",
       "      <td>{'tenant_name': None, 'unit_address': None, 'u...</td>\n",
       "    </tr>\n",
       "  </tbody>\n",
       "</table>\n",
       "</div>"
      ],
      "text/plain": [
       "                                       extracted_text  \\\n",
       "id                                                      \n",
       "1   Name, address and phone number of managing age...   \n",
       "2   dupusit: or 2) return the remaining portion (i...   \n",
       "3   You'll pay for all other utilities, related de...   \n",
       "4   APARTMENT LEASE CONTRACT\\nNAA NATIONAL APARTME...   \n",
       "5   Disposition or Sale. Except for animals and pr...   \n",
       "\n",
       "                                     extracted_fields  \n",
       "id                                                     \n",
       "1   {'tenant_name': 'Yolanda Strobert', 'unit_addr...  \n",
       "2   {'tenant_name': 'Comunque Bolas', 'unit_addres...  \n",
       "3   {'tenant_name': None, 'unit_address': None, 'u...  \n",
       "4   {'tenant_name': 'Dominique Boles', 'unit_addre...  \n",
       "5   {'tenant_name': None, 'unit_address': None, 'u...  "
      ]
     },
     "execution_count": 2,
     "metadata": {},
     "output_type": "execute_result"
    }
   ],
   "source": [
    "import pandas as pd\n",
    "import sqlite3\n",
    "\n",
    "# Path to the SQLite database\n",
    "db_path = \"../output/extracted_lease_agreements.db\"\n",
    "\n",
    "# Connect to the SQLite database\n",
    "conn = sqlite3.connect(db_path)\n",
    "\n",
    "# Query to select all data from the extracted_data table\n",
    "query = \"SELECT * FROM extracted_data\"\n",
    "\n",
    "# Read the data into a DataFrame\n",
    "df = pd.read_sql_query(query, conn, index_col=\"id\")\n",
    "\n",
    "# Close the database connection\n",
    "conn.close()\n",
    "\n",
    "df.head()"
   ]
  },
  {
   "cell_type": "markdown",
   "metadata": {},
   "source": [
    "### Split the dataset"
   ]
  },
  {
   "cell_type": "code",
   "execution_count": 3,
   "metadata": {},
   "outputs": [
    {
     "name": "stdout",
     "output_type": "stream",
     "text": [
      "Training set size: 205\n",
      "Evaluation set size: 26\n",
      "Test set size: 26\n"
     ]
    }
   ],
   "source": [
    "from sklearn.model_selection import train_test_split\n",
    "\n",
    "# First split: 80% for training, 20% for temp (which will be split into eval and test)\n",
    "train_df, temp_df = train_test_split(df, test_size=0.2, random_state=42)\n",
    "\n",
    "# Second split: 50% of temp for eval and 50% for test (10% of the original data each)\n",
    "eval_df, test_df = train_test_split(temp_df, test_size=0.5, random_state=42)\n",
    "\n",
    "# Check the sizes of the splits\n",
    "print(f\"Training set size: {len(train_df)}\")\n",
    "print(f\"Evaluation set size: {len(eval_df)}\")\n",
    "print(f\"Test set size: {len(test_df)}\")\n"
   ]
  },
  {
   "cell_type": "markdown",
   "metadata": {},
   "source": [
    "### Load the base model"
   ]
  },
  {
   "cell_type": "code",
   "execution_count": 4,
   "metadata": {},
   "outputs": [],
   "source": [
    "from peft import LoraConfig, TaskType\n",
    "\n",
    "peft_config = LoraConfig(\n",
    "    lora_alpha=16, # Higher alpha to match larger model capacity\n",
    "    lora_dropout=0.1, # Consistent dropout rate to prevent overfitting\n",
    "    r=8, # Rank, kept the same for balance between performance and efficiency\n",
    "    task_type=TaskType.SEQ_2_SEQ_LM, # Change to SEQ_2_SEQ_LM for seq2seq models\n",
    "    bias=\"none\", # Keeping bias as none, similar to your original setup\n",
    "    target_modules=[\n",
    "        'q', 'v', 'k', 'o', # Attention layers (query, value, key, output projections)\n",
    "        'wi', 'wo', # Feedforward layers (input, output projections)\n",
    "        'wq', 'wv', 'wk', 'wo', # Additional T5-specific projection layers\n",
    "    ], # Target modules relevant to T5 architecture\n",
    ")\n"
   ]
  },
  {
   "cell_type": "code",
   "execution_count": 5,
   "metadata": {},
   "outputs": [
    {
     "data": {
      "application/vnd.jupyter.widget-view+json": {
       "model_id": "d472caea2ef7422a95e2c16afddc4715",
       "version_major": 2,
       "version_minor": 0
      },
      "text/plain": [
       "VBox(children=(HTML(value='<center> <img\\nsrc=https://huggingface.co/front/assets/huggingface_logo-noborder.sv…"
      ]
     },
     "metadata": {},
     "output_type": "display_data"
    },
    {
     "name": "stderr",
     "output_type": "stream",
     "text": [
      "/home/aryaniyaps/velocius-ai/leaseaudit-model-training/.venv/lib/python3.12/site-packages/transformers/tokenization_utils_base.py:1601: FutureWarning: `clean_up_tokenization_spaces` was not set. It will be set to `True` by default. This behavior will be depracted in transformers v4.45, and will be then set to `False` by default. For more details check this issue: https://github.com/huggingface/transformers/issues/31884\n",
      "  warnings.warn(\n",
      "`low_cpu_mem_usage` was None, now set to True since model is quantized.\n"
     ]
    },
    {
     "data": {
      "application/vnd.jupyter.widget-view+json": {
       "model_id": "30f9247196194398bd955458be90614b",
       "version_major": 2,
       "version_minor": 0
      },
      "text/plain": [
       "Loading checkpoint shards:   0%|          | 0/2 [00:00<?, ?it/s]"
      ]
     },
     "metadata": {},
     "output_type": "display_data"
    },
    {
     "name": "stdout",
     "output_type": "stream",
     "text": [
      "trainable params: 12,189,696 || all params: 2,861,946,880 || trainable%: 0.4259\n"
     ]
    }
   ],
   "source": [
    "\n",
    "from transformers import AutoTokenizer, AutoModelForSeq2SeqLM, BitsAndBytesConfig\n",
    "from huggingface_hub import notebook_login\n",
    "from peft import get_peft_model, prepare_model_for_kbit_training\n",
    "import torch\n",
    "\n",
    "# login to access gated model\n",
    "notebook_login()\n",
    "\n",
    "# Load the tokenizer and model\n",
    "model_id = \"google/flan-t5-xl\"\n",
    "\n",
    "bnb_config = BitsAndBytesConfig(\n",
    "    load_in_4bit=True,\n",
    "    bnb_4bit_quant_type=\"nf4\",\n",
    "    bnb_4bit_compute_dtype=torch.float16,\n",
    ")\n",
    "\n",
    "# empty GPU memory\n",
    "torch.cuda.empty_cache()\n",
    "\n",
    "tokenizer = AutoTokenizer.from_pretrained(model_id)\n",
    "tokenizer.pad_token = tokenizer.eos_token\n",
    "tokenizer.padding_side = 'right'\n",
    "\n",
    "model = AutoModelForSeq2SeqLM.from_pretrained(model_id, quantization_config=bnb_config)  # Change num_labels based on your task\n",
    "\n",
    "model = prepare_model_for_kbit_training(model)\n",
    "model = get_peft_model(model, peft_config)\n",
    "model.print_trainable_parameters()\n"
   ]
  },
  {
   "cell_type": "markdown",
   "metadata": {},
   "source": [
    "### Build the datasets"
   ]
  },
  {
   "cell_type": "code",
   "execution_count": 6,
   "metadata": {},
   "outputs": [],
   "source": [
    "extraction_json_schema = {\n",
    "  \"title\": \"ExtractFieldsResult\",\n",
    "  \"type\": \"object\",\n",
    "  \"properties\": {\n",
    "    \"tenant_name\": {\n",
    "      \"type\": [\"string\", \"null\"],\n",
    "      \"description\": \"The name of the tenant, found in the OCR text.\"\n",
    "    },\n",
    "    \"unit_address\": {\n",
    "      \"type\": [\"string\", \"null\"],\n",
    "      \"description\": \"The unit address found in the OCR text.\"\n",
    "    },\n",
    "    \"unit_number\": {\n",
    "      \"type\": [\"string\", \"null\"],\n",
    "      \"description\": \"The unit number found in the OCR text.\"\n",
    "    },\n",
    "    \"unit_type\": {\n",
    "      \"type\": [\"string\", \"null\"],\n",
    "      \"description\": \"The unit type found in the OCR text.\"\n",
    "    },\n",
    "    \"agreement_date\": {\n",
    "      \"type\": [\"string\", \"null\"],\n",
    "      \"format\": \"date\"\n",
    "    },\n",
    "    \"lease_start\": {\n",
    "      \"type\": [\"string\", \"null\"],\n",
    "      \"format\": \"date\",\n",
    "      \"description\": \"The date when the lease starts, found in the OCR text.\"\n",
    "    },\n",
    "    \"lease_end\": {\n",
    "      \"type\": [\"string\", \"null\"],\n",
    "      \"format\": \"date\",\n",
    "      \"description\": \"The date when the lease ends, found in the OCR text.\"\n",
    "    },\n",
    "    \"lease_auto_renew\": {\n",
    "      \"type\": [\"string\", \"null\"],\n",
    "      \"description\": \"The type of lease auto renewal, found in the OCR text.\"\n",
    "    },\n",
    "    \"hourly_rate\": {\n",
    "      \"type\": [\"number\", \"null\"],\n",
    "      \"description\": \"The hourly rate found in the OCR text.\"\n",
    "    },\n",
    "    \"monthly_rent\": {\n",
    "      \"type\": [\"number\", \"null\"],\n",
    "      \"description\": \"The monthly rent found in the OCR text.\"\n",
    "    },\n",
    "    \"prorated_rent\": {\n",
    "      \"type\": [\"number\", \"null\"],\n",
    "      \"description\": \"The prorated rent found in the OCR text.\"\n",
    "    },\n",
    "    \"security_deposit\": {\n",
    "      \"type\": [\"number\", \"null\"],\n",
    "      \"description\": \"The security deposit found in the OCR text.\"\n",
    "    },\n",
    "    \"lease_rent\": {\n",
    "      \"type\": [\"number\", \"null\"],\n",
    "      \"description\": \"The security deposit found in the OCR text.\"\n",
    "    },\n",
    "    \"monthly_payment_breakdown\": {\n",
    "      \"type\": [\"object\", \"null\"],\n",
    "      \"description\": \"The monthly payment breakdown data found in the OCR text.\",\n",
    "      \"additionalProperties\": {}\n",
    "    },\n",
    "    \"utility_charges\": {\n",
    "      \"type\": [\"object\", \"null\"],\n",
    "      \"description\": \"The utility charges found in the OCR text. This is a dictionary with utility charges as the key, and their price as the value.\",\n",
    "      \"additionalProperties\": {\n",
    "        \"type\": [\"number\", \"null\"]\n",
    "      }\n",
    "    }\n",
    "  },\n",
    "  \"required\": []\n",
    "}\n"
   ]
  },
  {
   "cell_type": "code",
   "execution_count": 7,
   "metadata": {},
   "outputs": [
    {
     "data": {
      "application/vnd.jupyter.widget-view+json": {
       "model_id": "f863edf9abc048c3a10b4b554113a883",
       "version_major": 2,
       "version_minor": 0
      },
      "text/plain": [
       "Map:   0%|          | 0/205 [00:00<?, ? examples/s]"
      ]
     },
     "metadata": {},
     "output_type": "display_data"
    },
    {
     "data": {
      "application/vnd.jupyter.widget-view+json": {
       "model_id": "75450777e2e94e7e8738085fb27c6809",
       "version_major": 2,
       "version_minor": 0
      },
      "text/plain": [
       "Map:   0%|          | 0/26 [00:00<?, ? examples/s]"
      ]
     },
     "metadata": {},
     "output_type": "display_data"
    },
    {
     "data": {
      "application/vnd.jupyter.widget-view+json": {
       "model_id": "3c0f12b93dcb49619700264dc9a52e22",
       "version_major": 2,
       "version_minor": 0
      },
      "text/plain": [
       "Map:   0%|          | 0/26 [00:00<?, ? examples/s]"
      ]
     },
     "metadata": {},
     "output_type": "display_data"
    },
    {
     "data": {
      "text/plain": [
       "Dataset({\n",
       "    features: ['extracted_text', 'extracted_fields', 'id'],\n",
       "    num_rows: 205\n",
       "})"
      ]
     },
     "execution_count": 7,
     "metadata": {},
     "output_type": "execute_result"
    }
   ],
   "source": [
    "from datasets import Dataset\n",
    "\n",
    "prompt_template = \"\"\"\n",
    "### TASK:\n",
    "You are a data extraction model designed to parse and extract specific information from text. Your task is to extract relevant data fields from the following lease agreement document provided as OCR text.\n",
    "\n",
    "### INPUT TEXT:\n",
    "Below is the OCR text from a lease agreement. Use this text to extract the required data fields.\n",
    "\n",
    "OCR Text:\n",
    "{extracted_text}\n",
    "\n",
    "### RESPONSE FORMAT:\n",
    "The extracted data should be in JSON, adhering to the JSON schema below:\n",
    "\n",
    "```json\n",
    "{extraction_json_schema}\n",
    "```\n",
    "\n",
    "### REQUIRED OUTPUT:\n",
    "Provide the extracted data in JSON format, strictly following the schema above.\n",
    "\n",
    "### RESPONSE:        \n",
    "\"\"\"\n",
    "\n",
    "def preprocess_function(examples):\n",
    "    inputs = [prompt_template.format(extracted_text=extracted_text, extraction_json_schema=extraction_json_schema) for extracted_text in examples[\"extracted_text\"]]\n",
    "    model_inputs = tokenizer(inputs, max_length=512, truncation=True)\n",
    "\n",
    "    # The \"labels\" are the tokenized outputs:\n",
    "    labels = tokenizer(\n",
    "        text_target=examples[\"extracted_fields\"], \n",
    "        max_length=512,         \n",
    "        truncation=True\n",
    "    )\n",
    "\n",
    "    model_inputs[\"labels\"] = labels[\"input_ids\"]\n",
    "    return model_inputs\n",
    "\n",
    "# Create datasets with the extracted text and labels\n",
    "train_dataset = Dataset.from_pandas(train_df)\n",
    "tokenized_train_dataset = train_dataset.map(preprocess_function, batched=True)\n",
    "eval_dataset = Dataset.from_pandas(eval_df)\n",
    "tokenized_eval_dataset = eval_dataset.map(preprocess_function, batched=True)\n",
    "test_dataset = Dataset.from_pandas(test_df)\n",
    "tokenized_test_dataset = test_dataset.map(preprocess_function, batched=True)\n",
    "\n",
    "train_dataset\n"
   ]
  },
  {
   "cell_type": "markdown",
   "metadata": {},
   "source": [
    "### Train (fine tune) the base model"
   ]
  },
  {
   "cell_type": "code",
   "execution_count": 8,
   "metadata": {},
   "outputs": [
    {
     "name": "stderr",
     "output_type": "stream",
     "text": [
      "max_steps is given, it will override any value given in num_train_epochs\n",
      "/home/aryaniyaps/velocius-ai/leaseaudit-model-training/.venv/lib/python3.12/site-packages/torch/_dynamo/eval_frame.py:600: UserWarning: torch.utils.checkpoint: the use_reentrant parameter should be passed explicitly. In version 2.4 we will raise an exception if use_reentrant is not passed. use_reentrant=False is recommended, but if you need to preserve the current default behavior, you can pass use_reentrant=True. Refer to docs for more details on the differences between the two variants.\n",
      "  return fn(*args, **kwargs)\n",
      "/home/aryaniyaps/velocius-ai/leaseaudit-model-training/.venv/lib/python3.12/site-packages/torch/utils/checkpoint.py:295: FutureWarning: `torch.cpu.amp.autocast(args...)` is deprecated. Please use `torch.amp.autocast('cpu', args...)` instead.\n",
      "  with torch.enable_grad(), device_autocast_ctx, torch.cpu.amp.autocast(**ctx.cpu_autocast_kwargs):  # type: ignore[attr-defined]\n"
     ]
    },
    {
     "data": {
      "text/html": [
       "\n",
       "    <div>\n",
       "      \n",
       "      <progress value='10' max='10' style='width:300px; height:20px; vertical-align: middle;'></progress>\n",
       "      [10/10 5:01:36, Epoch 1/2]\n",
       "    </div>\n",
       "    <table border=\"1\" class=\"dataframe\">\n",
       "  <thead>\n",
       " <tr style=\"text-align: left;\">\n",
       "      <th>Step</th>\n",
       "      <th>Training Loss</th>\n",
       "      <th>Validation Loss</th>\n",
       "    </tr>\n",
       "  </thead>\n",
       "  <tbody>\n",
       "    <tr>\n",
       "      <td>1</td>\n",
       "      <td>No log</td>\n",
       "      <td>1.282624</td>\n",
       "    </tr>\n",
       "    <tr>\n",
       "      <td>2</td>\n",
       "      <td>1.433800</td>\n",
       "      <td>1.145782</td>\n",
       "    </tr>\n",
       "    <tr>\n",
       "      <td>3</td>\n",
       "      <td>1.433800</td>\n",
       "      <td>1.035312</td>\n",
       "    </tr>\n",
       "    <tr>\n",
       "      <td>4</td>\n",
       "      <td>1.246500</td>\n",
       "      <td>0.938740</td>\n",
       "    </tr>\n",
       "    <tr>\n",
       "      <td>5</td>\n",
       "      <td>1.246500</td>\n",
       "      <td>0.851025</td>\n",
       "    </tr>\n",
       "    <tr>\n",
       "      <td>6</td>\n",
       "      <td>1.069000</td>\n",
       "      <td>0.777541</td>\n",
       "    </tr>\n",
       "    <tr>\n",
       "      <td>7</td>\n",
       "      <td>1.069000</td>\n",
       "      <td>0.720084</td>\n",
       "    </tr>\n",
       "    <tr>\n",
       "      <td>8</td>\n",
       "      <td>0.934500</td>\n",
       "      <td>0.678166</td>\n",
       "    </tr>\n",
       "    <tr>\n",
       "      <td>9</td>\n",
       "      <td>0.934500</td>\n",
       "      <td>0.649756</td>\n",
       "    </tr>\n",
       "    <tr>\n",
       "      <td>10</td>\n",
       "      <td>0.787200</td>\n",
       "      <td>0.635124</td>\n",
       "    </tr>\n",
       "  </tbody>\n",
       "</table><p>"
      ],
      "text/plain": [
       "<IPython.core.display.HTML object>"
      ]
     },
     "metadata": {},
     "output_type": "display_data"
    },
    {
     "name": "stderr",
     "output_type": "stream",
     "text": [
      "/home/aryaniyaps/velocius-ai/leaseaudit-model-training/.venv/lib/python3.12/site-packages/torch/_dynamo/eval_frame.py:600: UserWarning: torch.utils.checkpoint: the use_reentrant parameter should be passed explicitly. In version 2.4 we will raise an exception if use_reentrant is not passed. use_reentrant=False is recommended, but if you need to preserve the current default behavior, you can pass use_reentrant=True. Refer to docs for more details on the differences between the two variants.\n",
      "  return fn(*args, **kwargs)\n",
      "/home/aryaniyaps/velocius-ai/leaseaudit-model-training/.venv/lib/python3.12/site-packages/torch/utils/checkpoint.py:295: FutureWarning: `torch.cpu.amp.autocast(args...)` is deprecated. Please use `torch.amp.autocast('cpu', args...)` instead.\n",
      "  with torch.enable_grad(), device_autocast_ctx, torch.cpu.amp.autocast(**ctx.cpu_autocast_kwargs):  # type: ignore[attr-defined]\n",
      "/home/aryaniyaps/velocius-ai/leaseaudit-model-training/.venv/lib/python3.12/site-packages/torch/_dynamo/eval_frame.py:600: UserWarning: torch.utils.checkpoint: the use_reentrant parameter should be passed explicitly. In version 2.4 we will raise an exception if use_reentrant is not passed. use_reentrant=False is recommended, but if you need to preserve the current default behavior, you can pass use_reentrant=True. Refer to docs for more details on the differences between the two variants.\n",
      "  return fn(*args, **kwargs)\n",
      "/home/aryaniyaps/velocius-ai/leaseaudit-model-training/.venv/lib/python3.12/site-packages/torch/utils/checkpoint.py:295: FutureWarning: `torch.cpu.amp.autocast(args...)` is deprecated. Please use `torch.amp.autocast('cpu', args...)` instead.\n",
      "  with torch.enable_grad(), device_autocast_ctx, torch.cpu.amp.autocast(**ctx.cpu_autocast_kwargs):  # type: ignore[attr-defined]\n",
      "/home/aryaniyaps/velocius-ai/leaseaudit-model-training/.venv/lib/python3.12/site-packages/torch/_dynamo/eval_frame.py:600: UserWarning: torch.utils.checkpoint: the use_reentrant parameter should be passed explicitly. In version 2.4 we will raise an exception if use_reentrant is not passed. use_reentrant=False is recommended, but if you need to preserve the current default behavior, you can pass use_reentrant=True. Refer to docs for more details on the differences between the two variants.\n",
      "  return fn(*args, **kwargs)\n",
      "/home/aryaniyaps/velocius-ai/leaseaudit-model-training/.venv/lib/python3.12/site-packages/torch/utils/checkpoint.py:295: FutureWarning: `torch.cpu.amp.autocast(args...)` is deprecated. Please use `torch.amp.autocast('cpu', args...)` instead.\n",
      "  with torch.enable_grad(), device_autocast_ctx, torch.cpu.amp.autocast(**ctx.cpu_autocast_kwargs):  # type: ignore[attr-defined]\n",
      "/home/aryaniyaps/velocius-ai/leaseaudit-model-training/.venv/lib/python3.12/site-packages/torch/_dynamo/eval_frame.py:600: UserWarning: torch.utils.checkpoint: the use_reentrant parameter should be passed explicitly. In version 2.4 we will raise an exception if use_reentrant is not passed. use_reentrant=False is recommended, but if you need to preserve the current default behavior, you can pass use_reentrant=True. Refer to docs for more details on the differences between the two variants.\n",
      "  return fn(*args, **kwargs)\n",
      "/home/aryaniyaps/velocius-ai/leaseaudit-model-training/.venv/lib/python3.12/site-packages/torch/utils/checkpoint.py:295: FutureWarning: `torch.cpu.amp.autocast(args...)` is deprecated. Please use `torch.amp.autocast('cpu', args...)` instead.\n",
      "  with torch.enable_grad(), device_autocast_ctx, torch.cpu.amp.autocast(**ctx.cpu_autocast_kwargs):  # type: ignore[attr-defined]\n",
      "/home/aryaniyaps/velocius-ai/leaseaudit-model-training/.venv/lib/python3.12/site-packages/torch/_dynamo/eval_frame.py:600: UserWarning: torch.utils.checkpoint: the use_reentrant parameter should be passed explicitly. In version 2.4 we will raise an exception if use_reentrant is not passed. use_reentrant=False is recommended, but if you need to preserve the current default behavior, you can pass use_reentrant=True. Refer to docs for more details on the differences between the two variants.\n",
      "  return fn(*args, **kwargs)\n",
      "/home/aryaniyaps/velocius-ai/leaseaudit-model-training/.venv/lib/python3.12/site-packages/torch/utils/checkpoint.py:295: FutureWarning: `torch.cpu.amp.autocast(args...)` is deprecated. Please use `torch.amp.autocast('cpu', args...)` instead.\n",
      "  with torch.enable_grad(), device_autocast_ctx, torch.cpu.amp.autocast(**ctx.cpu_autocast_kwargs):  # type: ignore[attr-defined]\n",
      "/home/aryaniyaps/velocius-ai/leaseaudit-model-training/.venv/lib/python3.12/site-packages/torch/_dynamo/eval_frame.py:600: UserWarning: torch.utils.checkpoint: the use_reentrant parameter should be passed explicitly. In version 2.4 we will raise an exception if use_reentrant is not passed. use_reentrant=False is recommended, but if you need to preserve the current default behavior, you can pass use_reentrant=True. Refer to docs for more details on the differences between the two variants.\n",
      "  return fn(*args, **kwargs)\n",
      "/home/aryaniyaps/velocius-ai/leaseaudit-model-training/.venv/lib/python3.12/site-packages/torch/utils/checkpoint.py:295: FutureWarning: `torch.cpu.amp.autocast(args...)` is deprecated. Please use `torch.amp.autocast('cpu', args...)` instead.\n",
      "  with torch.enable_grad(), device_autocast_ctx, torch.cpu.amp.autocast(**ctx.cpu_autocast_kwargs):  # type: ignore[attr-defined]\n",
      "/home/aryaniyaps/velocius-ai/leaseaudit-model-training/.venv/lib/python3.12/site-packages/torch/_dynamo/eval_frame.py:600: UserWarning: torch.utils.checkpoint: the use_reentrant parameter should be passed explicitly. In version 2.4 we will raise an exception if use_reentrant is not passed. use_reentrant=False is recommended, but if you need to preserve the current default behavior, you can pass use_reentrant=True. Refer to docs for more details on the differences between the two variants.\n",
      "  return fn(*args, **kwargs)\n",
      "/home/aryaniyaps/velocius-ai/leaseaudit-model-training/.venv/lib/python3.12/site-packages/torch/utils/checkpoint.py:295: FutureWarning: `torch.cpu.amp.autocast(args...)` is deprecated. Please use `torch.amp.autocast('cpu', args...)` instead.\n",
      "  with torch.enable_grad(), device_autocast_ctx, torch.cpu.amp.autocast(**ctx.cpu_autocast_kwargs):  # type: ignore[attr-defined]\n",
      "/home/aryaniyaps/velocius-ai/leaseaudit-model-training/.venv/lib/python3.12/site-packages/torch/_dynamo/eval_frame.py:600: UserWarning: torch.utils.checkpoint: the use_reentrant parameter should be passed explicitly. In version 2.4 we will raise an exception if use_reentrant is not passed. use_reentrant=False is recommended, but if you need to preserve the current default behavior, you can pass use_reentrant=True. Refer to docs for more details on the differences between the two variants.\n",
      "  return fn(*args, **kwargs)\n",
      "/home/aryaniyaps/velocius-ai/leaseaudit-model-training/.venv/lib/python3.12/site-packages/torch/utils/checkpoint.py:295: FutureWarning: `torch.cpu.amp.autocast(args...)` is deprecated. Please use `torch.amp.autocast('cpu', args...)` instead.\n",
      "  with torch.enable_grad(), device_autocast_ctx, torch.cpu.amp.autocast(**ctx.cpu_autocast_kwargs):  # type: ignore[attr-defined]\n",
      "/home/aryaniyaps/velocius-ai/leaseaudit-model-training/.venv/lib/python3.12/site-packages/torch/_dynamo/eval_frame.py:600: UserWarning: torch.utils.checkpoint: the use_reentrant parameter should be passed explicitly. In version 2.4 we will raise an exception if use_reentrant is not passed. use_reentrant=False is recommended, but if you need to preserve the current default behavior, you can pass use_reentrant=True. Refer to docs for more details on the differences between the two variants.\n",
      "  return fn(*args, **kwargs)\n",
      "/home/aryaniyaps/velocius-ai/leaseaudit-model-training/.venv/lib/python3.12/site-packages/torch/utils/checkpoint.py:295: FutureWarning: `torch.cpu.amp.autocast(args...)` is deprecated. Please use `torch.amp.autocast('cpu', args...)` instead.\n",
      "  with torch.enable_grad(), device_autocast_ctx, torch.cpu.amp.autocast(**ctx.cpu_autocast_kwargs):  # type: ignore[attr-defined]\n"
     ]
    },
    {
     "data": {
      "text/plain": [
       "TrainOutput(global_step=10, training_loss=1.0941948771476746, metrics={'train_runtime': 19618.0545, 'train_samples_per_second': 0.016, 'train_steps_per_second': 0.001, 'total_flos': 2722954752294912.0, 'train_loss': 1.0941948771476746, 'epoch': 1.5384615384615383})"
      ]
     },
     "execution_count": 8,
     "metadata": {},
     "output_type": "execute_result"
    }
   ],
   "source": [
    "from transformers import Seq2SeqTrainingArguments, DataCollatorForSeq2Seq, Seq2SeqTrainer\n",
    "\n",
    "training_args = Seq2SeqTrainingArguments(\n",
    "    output_dir=\"./results\",\n",
    "    eval_strategy=\"steps\",  # Changed to evaluate based on steps\n",
    "    eval_steps=1,  # Evaluate every 1 step\n",
    "    learning_rate=1e-3,\n",
    "    lr_scheduler_type=\"linear\",\n",
    "    per_device_train_batch_size=4,\n",
    "    per_device_eval_batch_size=4,\n",
    "    gradient_accumulation_steps=8,\n",
    "    gradient_checkpointing=True,\n",
    "    logging_strategy=\"steps\",\n",
    "    logging_steps=2,\n",
    "    disable_tqdm=False,  # Ensure tqdm progress bar is enabled\n",
    "    max_steps = 10,\n",
    "    use_cpu=True,\n",
    "    save_strategy=\"steps\",\n",
    "    save_steps=1,  # Save a checkpoint every 1 step\n",
    "    # predict_with_generate=True, # need this for ROUGE/ BLEU metrics\n",
    "    optim=\"paged_adamw_32bit\",\n",
    ")\n",
    "\n",
    "trainer = Seq2SeqTrainer(\n",
    "    model=model,\n",
    "    tokenizer=tokenizer,\n",
    "    train_dataset=tokenized_train_dataset,\n",
    "    eval_dataset=tokenized_eval_dataset,\n",
    "    args=training_args,\n",
    "    data_collator=DataCollatorForSeq2Seq(\n",
    "        tokenizer=tokenizer,\n",
    "        model=model,\n",
    "        return_tensors=\"pt\",  # Return PyTorch tensors\n",
    "    )\n",
    ")\n",
    "model.config.use_cache = False  # silence the warnings. Please re-enable for inference!\n",
    "trainer.train()"
   ]
  },
  {
   "cell_type": "markdown",
   "metadata": {},
   "source": [
    "### Save the model"
   ]
  },
  {
   "cell_type": "code",
   "execution_count": 9,
   "metadata": {},
   "outputs": [],
   "source": [
    "trainer.model.save_pretrained(\"./saved_models/finetuned_flan_t5_xl_lease_data_extraction\")"
   ]
  },
  {
   "cell_type": "markdown",
   "metadata": {},
   "source": [
    "### Evaluate the model"
   ]
  },
  {
   "cell_type": "code",
   "execution_count": 15,
   "metadata": {},
   "outputs": [
    {
     "name": "stderr",
     "output_type": "stream",
     "text": [
      "/home/aryaniyaps/velocius-ai/leaseaudit-model-training/.venv/lib/python3.12/site-packages/transformers/tokenization_utils_base.py:1601: FutureWarning: `clean_up_tokenization_spaces` was not set. It will be set to `True` by default. This behavior will be depracted in transformers v4.45, and will be then set to `False` by default. For more details check this issue: https://github.com/huggingface/transformers/issues/31884\n",
      "  warnings.warn(\n",
      "`low_cpu_mem_usage` was None, now set to True since model is quantized.\n"
     ]
    },
    {
     "data": {
      "application/vnd.jupyter.widget-view+json": {
       "model_id": "42bef78a151145968b4bb3bc4c4a575e",
       "version_major": 2,
       "version_minor": 0
      },
      "text/plain": [
       "Loading checkpoint shards:   0%|          | 0/2 [00:00<?, ?it/s]"
      ]
     },
     "metadata": {},
     "output_type": "display_data"
    },
    {
     "name": "stdout",
     "output_type": "stream",
     "text": [
      "Peft model loaded\n"
     ]
    }
   ],
   "source": [
    "from peft import PeftModel, PeftConfig\n",
    " \n",
    "# Load peft config for pre-trained checkpoint etc.\n",
    "tokenizer = AutoTokenizer.from_pretrained(model_id)\n",
    "tokenizer.pad_token = tokenizer.eos_token\n",
    "tokenizer.padding_side = 'right'\n",
    "\n",
    "model = AutoModelForSeq2SeqLM.from_pretrained(model_id, quantization_config=bnb_config)\n",
    "\n",
    "peft_model_id = \"./saved_models/finetuned_flan_t5_xl_lease_data_extraction\"\n",
    "config = PeftConfig.from_pretrained(peft_model_id)\n",
    " \n",
    "# Load the Lora model\n",
    "finetuned_model = PeftModel.from_pretrained(model, peft_model_id, device_map={\"\":0})\n",
    "finetuned_model.eval()\n",
    " \n",
    "print(\"Peft model loaded\")"
   ]
  },
  {
   "cell_type": "markdown",
   "metadata": {},
   "source": [
    "Let's try data extraction with a random sample"
   ]
  },
  {
   "cell_type": "code",
   "execution_count": 18,
   "metadata": {},
   "outputs": [
    {
     "name": "stdout",
     "output_type": "stream",
     "text": [
      "input OCR TEXT: concession amount of $3,350 will immediately become due back to Landlord.\n",
      "2\n",
      "------------------------------------------------------------\n",
      "Extracted data:\n",
      "'tenancy period': None, 'leaselength': None, 'leasepayment': None, 'leasepayment': None, 'leaserent': None, 'leasepayment': None, 'leasepayment': None, 'leasesettlement': None, 'leaserenewal': None, 'leaseupdate': None\n"
     ]
    }
   ],
   "source": [
    "from random import randrange\n",
    "\n",
    "sample = test_dataset[randrange(len(test_dataset))]\n",
    " \n",
    "input_ids = tokenizer(prompt_template.format(extracted_text=sample[\"extracted_text\"], extraction_json_schema=extraction_json_schema), return_tensors=\"pt\", truncation=True).input_ids.cuda()\n",
    "with torch.inference_mode():\n",
    "    outputs = finetuned_model.generate(input_ids=input_ids, max_new_tokens=512, do_sample=True)\n",
    "print(f\"input OCR TEXT: {sample['extracted_text'][-75:]}\\n{'---'* 20}\")\n",
    " \n",
    "print(f\"Extracted data:\\n{tokenizer.batch_decode(outputs.detach().cpu().numpy(), skip_special_tokens=True)[0]}\")"
   ]
  },
  {
   "cell_type": "markdown",
   "metadata": {},
   "source": [
    "### Evaluate the model\n",
    "(Using F1 score and exact matches)"
   ]
  },
  {
   "cell_type": "markdown",
   "metadata": {},
   "source": [
    "#### Install dependencies"
   ]
  },
  {
   "cell_type": "code",
   "execution_count": 33,
   "metadata": {},
   "outputs": [
    {
     "name": "stderr",
     "output_type": "stream",
     "text": [
      "huggingface/tokenizers: The current process just got forked, after parallelism has already been used. Disabling parallelism to avoid deadlocks...\n",
      "To disable this warning, you can either:\n",
      "\t- Avoid using `tokenizers` before the fork if possible\n",
      "\t- Explicitly set the environment variable TOKENIZERS_PARALLELISM=(true | false)\n"
     ]
    },
    {
     "name": "stdout",
     "output_type": "stream",
     "text": [
      "Note: you may need to restart the kernel to use updated packages.\n"
     ]
    }
   ],
   "source": [
    "%pip install evaluate tabulate -q"
   ]
  },
  {
   "cell_type": "code",
   "execution_count": 24,
   "metadata": {},
   "outputs": [
    {
     "name": "stderr",
     "output_type": "stream",
     "text": [
      "100%|██████████| 26/26 [18:11<00:00, 41.97s/it]\n"
     ]
    },
    {
     "ename": "ValueError",
     "evalue": "Predictions and/or references don't match the expected format.\nExpected format: {'predictions': Value(dtype='int32', id=None), 'references': Value(dtype='int32', id=None)},\nInput predictions: [[\"'\", 'l', 'e', 'a', 's', 'e', '_', 's', 't', 'a', 'r', 't', '_', 'd', 'a', 't', 'e', \"'\", ':', ' ', 'f', 'a', 'l', 's', 'e', ',', ' ', \"'\", 'l', 'e', 'a', 's', 'e', '_', 'e', 'n', 'd', '_', 'd', 'a', 't', 'e', \"'\", ':', ' ', 'f', 'a', 'l', 's', 'e', ',', ' ', \"'\", 'l', 'e', 'a', 's', 'e', '_', 'l', 'e', 'n', 'g', 't', 'h', '_', 's', 't', 'a', 'r', 't', \"'\", ':', ' ', 'f', 'a', 'l', 's', 'e', ',', ' ', \"'\", 'l', 'e', 'a', 's', 'e', '_', 'l', 'e', 'n', 'g', 't', 'h', '_', 'e', 'n', 'd', \"'\", ':', ' ', 'f', 'a', 'l', 's', 'e', ',', ' ', \"'\", 'l', 'e', 'a', 's', 'e', '_', 'l', 'e', 'n', 'g', 't', 'h', '_', 's', 't', 'a', 'r', 't', \"'\", ':', ' ', 'f', 'a', 'l', 's', 'e', ',', ' ', \"'\", 'l', 'e', 'a', 's', 'e', '_', 'l', 'e', 'n', 'g', 't', 'h', '_', 'e', 'n', 'd', \"'\", ':', ' ', 'f', 'a', 'l', 's', 'e', ',', ' ', \"'\", 'l', 'e', 'a', 's', 'e', '_', 'l', 'e', 'n', 'g', 't', 'h', '_', 's', 't', 'a', 'r', 't', \"'\", ':', ' ', 'f', 'a', 'l', 's', 'e', ',', ' ', \"'\", 'l', 'e', 'a', 's', 'e', '_', 'l', 'e', 'n', 'g', 't', 'h', '_', 'f', 'i', 'n', 'i', 's', 'h', \"'\", ':', ' ', 'f', 'a', 'l', 's', 'e', ',', ' ', \"'\", 'l', 'e', 'a', 's', 'e', '_', 'l', 'e', 'n', 'g', 't', 'h', '_', 'e', 'n', 'd', \"'\", ':', ' ', 'f', 'a', 'l', 's', 'e', ',', ' ', \"'\", 'l', 'e', 'a', 's', 'e', '_', 'l', 'e', 'n', 'g', 't', 'h', '_', 's', 't', 'a', 'r', 't', \"'\", ':', ' ', '[', 'F', 'a', 'l', 's', 'e', ',', ' ', 'F', 'a', 'l', 's', 'e', ',', ' ', 'F', 'a', 'l', 's', 'e', ',', ' ', 'F', 'a', 'l', 's', 'e', ',', ' ', 'F', 'a', 'l', 's', 'e', ']'], [\"'\", 'B', 'e', 'd', 'b', 'u', 'g', ' ', 'A', 'd', 'd', 'e', 'n', 'd', 'u', 'm', \"'\", ',', ' ', \"'\", 'A', 'd', 'd', 'i', 't', 'i', 'o', 'n', 'a', 'l', ' ', 'P', 'r', 'o', 'v', 'i', 's', 'i', 'o', 'n', 's', \"'\", ',', ' ', \"'\", 'U', 'n', 'i', 't', ' ', '#', \"'\", ',', ' ', \"'\", 'U', 'n', 'i', 't', ' ', '#', \"'\", ',', ' ', \"'\", 'D', 'a', 't', 'e', \"'\", ',', ' ', \"'\", 'L', 'e', 'a', 's', 'e', \"'\", ',', ' ', \"'\", 'L', 'a', 'n', 'd', 'l', 'o', 'r', 'd', \"'\", ',', ' ', \"'\", 'A', 'd', 'd', 'i', 't', 'i', 'o', 'n', 'a', 'l', ' ', 'P', 'r', 'o', 'v', 'i', 's', 'i', 'o', 'n', 's', \"'\", ',', ' ', \"'\", 'U', 'n', 'i', 't', ' ', '#', \"'\", ',', ' ', \"'\", 'U', 'n', 'i', 't', ' ', '#', \"'\", ',', ' ', \"'\", 'D', 'e', 'p', 'o', 's', 'i', 't', \"'\", ',', ' ', \"'\", 'U', 'n', 'i', 't', ' ', '#', \"'\", ',', ' ', \"'\", 'L', 'e', 'a', 's', 'e', ' ', 'R', 'e', 'q', 'u', 'i', 'r', 'e', 'm', 'e', 'n', 't', 's', \"'\"], [\"'\", 'A', 'p', 'a', 'r', 't', 'm', 'e', 'n', 't', \"'\", ':', ' ', '\"', '5', '6', '0', '4', 'E', '\"', ',', '\"', 'U', 'n', 'i', 't', 'T', 'y', 'p', 'e', '\"', ':', ' ', 'N', 'o', 'n', 'e', ',', '\"', 'C', 'a', 'r', 'S', 'p', 'a', 'c', 'e', '\"', ':', ' ', 'N', 'o', 'n', 'e', ',', '\"', 'L', 'o', 'c', 'a', 't', 'i', 'o', 'n', '\"', ':', ' ', 'N', 'o', 'n', 'e', ',', '\"', 'C', 'o', 'm', 'm', 'o', 'n', 'R', 'm', 'D', 'e', 'n', '\"', ':', ' ', 'N', 'o', 'n', 'e', ',', '\"', 'C', 'o', 'm', 'm', 'o', 'n', 'L', 'o', 'c', 'a', 't', 'i', 'o', 'n', '\"', ':', ' ', 'N', 'o', 'n', 'e', ',', '\"', 'L', 'e', 'a', 's', 'e', 'T', 'e', 'r', 'm', '\"', ':', ' ', 'N', 'o', 'n', 'e', ',', '\"', 'L', 'e', 'a', 's', 'e', 'P', 'r', 'i', 'c', 'e', '\"', ':', ' ', 'N', 'o', 'n', 'e', ',', '\"', 'B', 'e', 'n', 'e', 'f', 'i', 't', 's', '\"', ':', ' ', 'N', 'o', 'n', 'e', ' ', '\"', 'C', 'a', 'l', 'l', '\"', ':', ' ', 'N', 'o', 'n', 'e', ' ', '\"', 'C', 'o', 'm', 'm', 'o', 'n', 'L', 'o', 'c', 'a', 't', 'i', 'o', 'n', '\"', ':', ' ', 'N', 'o', 'n', 'e'], ..., [\"'\", 'L', 'e', 'a', 's', 'i', 'n', 'g', '_', 'C', 'o', 'm', 'm', 'u', 'n', 'i', 't', 'y', \"'\", ':', ' ', \"'\", 'M', 'e', 'r', 'i', 'd', 'i', 'a', 'n', ' ', 'L', 'u', 'x', 'u', 'r', 'y', ' ', 'C', 'o', 'n', 'd', 'o', 'm', 'i', 'n', 'i', 'u', 'm', 's', \"'\", ',', ' ', \"'\", 'L', 'e', 'a', 's', 'e', '_', 'F', 'i', 'l', 'i', 'n', 'g', '_', 'D', 'a', 't', 'e', \"'\", ':', ' ', \"'\", '1', '9', '8', '4', \"'\", ',', ' ', \"'\", 'R', 'o', 'o', 'm', '_', 'C', 'o', 'u', 'n', 't', \"'\", ':', ' ', \"'\", '6', '6', '9', '6', \"'\", ',', ' ', \"'\", 'A', 'p', 'a', 'r', 't', 'm', 'e', 'n', 't', '_', 'N', 'u', 'm', 'b', 'e', 'r', \"'\", ':', ' ', \"'\", '7', '5', '3', \"'\", ',', ' ', \"'\", 'L', 'e', 'a', 's', 'e', '_', 'S', 'u', 'm', 'm', 'a', 'r', 'y', \"'\", ':', ' ', \"'\", '$', '7', '6', '0', '0', '.', '0', '0', ',', \"'\", ' ', 'T', 'e', 'n', 'a', 'n', 't', '_', 'I', 'd', \"'\", ':', ' ', \"'\", '9', \"'\", ',', ' ', \"'\", 'L', 'e', 'a', 's', 'e', '_', 'R', 'e', 'n', 't', \"'\", ':', ' ', \"'\", '$', '6', '7', '9', '5', '.', '0', '0', ',', \"'\", ' ', 'P', 'a', 'y', 'm', 'e', 'n', 't', '_', 'P', 'a', 'i', 'd', '_', 'i', 'n', '_', 'F', 'i', 's', 'h', \"'\", ':', ' ', \"'\", '7', '0', '0', '.', '0', '0', ',', \"'\", ' ', \"'\", 'D', 'w', 'e', 'l', 'l', 'i', 'n', 'g', '_', 'U', 'n', 'i', 't', \"'\", ':', ' ', \"'\", '6', '9', '3', \"'\", ',', ' ', \"'\", 'L', 'e', 'a', 's', 'e', '_', 'L', 'i', 'm', 'i', 't', \"'\", ':', ' ', \"'\", '2', ' ', 'w', 'e', 'e', 'k', 's', \"'\"], [\"'\", 'L', 'o', 'c', 'a', 't', 'i', 'o', 'n', \"'\", ':', ' ', \"'\", 'A', 'r', 'l', 'i', 'n', 'g', 't', 'o', 'n', ' ', 'H', 'e', 'i', 'g', 'h', 't', 's', \"'\", ',', ' ', \"'\", 'U', 'n', 'i', 't', \"'\", ':', ' ', \"'\", 'A', 'r', 'l', 'i', 'n', 'g', 't', 'o', 'n', ' ', 'H', 'e', 'i', 'g', 'h', 't', 's', \"'\", ',', ' ', \"'\", 'D', 'e', 'p', 't', 'h', \"'\", ':', ' ', \"'\", '1', '0', '0', \"'\", ',', ' ', \"'\", 'L', 'e', 'a', 's', 'i', 'n', 'g', 'O', 'f', 'f', 'i', 'c', 'e', \"'\", ':', ' ', \"'\", '1', '0', '0', \"'\", ',', ' ', \"'\", 'M', 'i', 'c', 'r', 'o', 'b', 'e', \"'\", ':', ' ', \"'\", '1', '0', '0', \"'\", ',', ' ', \"'\", 'N', 'e', 't', \"'\", ':', ' ', \"'\", '1', '0', '0', \"'\", ',', ' ', \"'\", 'B', 'e', 'd', 'r', 'o', 'o', 'm', 's', \"'\", ':', ' ', \"'\", '1', '0', '0', \"'\", ',', ' ', \"'\", 'W', 'a', 'l', 'l', 'p', 'a', 'p', 'e', 'r', \"'\", ':', ' ', \"'\", '1', '0', '0', \"'\", ',', ' ', \"'\", 'L', 'i', 'v', 'i', 'n', 'g', 'R', 'o', 'o', 'm', 's', \"'\", ':', ' ', \"'\", '1', '0', '0', \"'\", ',', ' ', \"'\", 'E', 'n', 't', 'e', 'r', 't', 'a', 'i', 'n', 'm', 'e', 'n', 't', \"'\", ':', ' ', \"'\", '1', '0', '0', \"'\", ',', ' ', \"'\", 'L', 'a', 'u', 'n', 'd', 'r', 'y', \"'\", ':', ' ', \"'\", '1', '0', '0', \"'\"], [' ', ',', ',', ' ', ',', ' ', ' ', ' ', ' ']],\nInput references: [[\"'\", 't', 'e', 'n', 'a', 'n', 't', '_', 'n', 'a', 'm', 'e', \"'\", ':', ' ', 'N', 'o', 'n', 'e', ',', ' ', \"'\", 'u', 'n', 'i', 't', '_', 'a', 'd', 'd', 'r', 'e', 's', 's', \"'\", ':', ' ', \"'\", '3', '3', '3', ' ', 'H', ' ', 'S', 't', 'r', 'e', 'e', 't', ',', ' ', 'S', 't', 'e', '.', ' ', '5', '0', '0', '0', ',', ' ', 'C', 'h', 'u', 'l', 'a', ' ', 'V', 'i', 's', 't', 'a', ',', ' ', 'C', 'A', ' ', '9', '1', '9', '1', '0', \"'\", ',', ' ', \"'\", 'u', 'n', 'i', 't', '_', 'n', 'u', 'm', 'b', 'e', 'r', \"'\", ':', ' ', 'N', 'o', 'n', 'e', ',', ' ', \"'\", 'u', 'n', 'i', 't', '_', 't', 'y', 'p', 'e', \"'\", ':', ' ', 'N', 'o', 'n', 'e', ',', ' ', \"'\", 'a', 'g', 'r', 'e', 'e', 'm', 'e', 'n', 't', '_', 'd', 'a', 't', 'e', \"'\", ':', ' ', 'N', 'o', 'n', 'e', ',', ' ', \"'\", 'l', 'e', 'a', 's', 'e', '_', 's', 't', 'a', 'r', 't', \"'\", ':', ' ', 'N', 'o', 'n', 'e', ',', ' ', \"'\", 'l', 'e', 'a', 's', 'e', '_', 'e', 'n', 'd', \"'\", ':', ' ', \"'\", '2', '0', '2', '4', '-', '0', '3', '-', '3', '1', \"'\", ',', ' ', \"'\", 'l', 'e', 'a', 's', 'e', '_', 'a', 'u', 't', 'o', '_', 'r', 'e', 'n', 'e', 'w', \"'\", ':', ' ', 'N', 'o', 'n', 'e', ',', ' ', \"'\", 'h', 'o', 'u', 'r', 'l', 'y', '_', 'r', 'a', 't', 'e', \"'\", ':', ' ', 'N', 'o', 'n', 'e', ',', \"'\", 'm', 'o', 'n', 't', 'h', 'l', 'y', '_', 'r', 'e', 'n', 't', \"'\", ':', ' ', '3', '3', '5', '0', '.', '0', ',', ' ', \"'\", 'p', 'r', 'o', 'r', 'a', 't', 'e', 'd', '_', 'r', 'e', 'n', 't', \"'\", ':', ' ', '2', '1', '2', '1', '.', '6', '7', ',', \"'\", 's', 'e', 'c', 'u', 'r', 'i', 't', 'y', '_', 'd', 'e', 'p', 'o', 's', 'i', 't', \"'\", ':', ' ', '2', '5', '0', '0', '.', '0', ',', ' ', \"'\", 'l', 'e', 'a', 's', 'e', '_', 'r', 'e', 'n', 't', \"'\", ':', ' ', 'N', 'o', 'n', 'e', ',', \"'\", 'm', 'o', 'n', 't', 'h', 'l', 'y', '_', 'p', 'a', 'y', 'm', 'e', 'n', 't', '_', 'b', 'r', 'e', 'a', 'k', 'd', 'o', 'w', 'n', \"'\", ':', ' ', \"'\", 'L', 'i', 'a', 'b', 'i', 'l', 'i', 't', 'y', ' ', 't', 'o', ' ', 'L', 'a', 'n', 'd', 'l', 'o', 'r', 'd', ' ', 'I', 'n', 's', 'u', 'r', 'a', 'n', 'c', 'e', \"'\", ':', ' ', '9', '.', '5', ',', ' ', \"'\", 'A', 'd', 'm', 'i', 'n', ' ', 'F', 'e', 'e', ' ', '-', ' ', 'L', 'i', 'a', 'b', 'i', 'l', 'i', 't', 'y', ' ', 't', 'o', ' ', 'L', 'a', 'n', 'd', 'l', 'o', 'r', 'd', ' ', 'I', 'n', 's', 'u', 'r', 'a', 'n', 'c', 'e', \"'\", ':', ' ', '3', '.', '0', ',', ' ', \"'\", 'R', 'e', 'n', 't', ' ', 'I', 'n', 'c', 'o', 'm', 'e', \"'\", ':', ' ', '3', '3', '5', '0', '.', '0', ',', ' ', \"'\", 'T', 'o', 't', 'a', 'l', \"'\", ':', ' ', '3', '3', '6', '2', '.', '5', ',', ' ', \"'\", 'u', 't', 'i', 'l', 'i', 't', 'y', '_', 'c', 'h', 'a', 'r', 'g', 'e', 's', \"'\", ':', ' ', 'N', 'o', 'n', 'e'], [\"'\", 't', 'e', 'n', 'a', 'n', 't', '_', 'n', 'a', 'm', 'e', \"'\", ':', ' ', \"'\", 'S', 'a', 'r', 'a', 'y', ' ', 'R', 'a', 'm', 'o', 's', ' ', 'G', 'u', 't', 'i', 'e', 'r', 'r', 'e', 'z', \"'\", ',', ' ', \"'\", 'u', 'n', 'i', 't', '_', 'a', 'd', 'd', 'r', 'e', 's', 's', \"'\", ':', ' ', \"'\", 'C', 'r', 'y', 's', 't', 'a', 'l', ' ', 'T', 'e', 'r', 'r', 'a', 'c', 'e', \"'\", ',', ' ', \"'\", 'u', 'n', 'i', 't', '_', 'n', 'u', 'm', 'b', 'e', 'r', \"'\", ':', ' ', 'N', 'o', 'n', 'e', ',', ' ', \"'\", 'u', 'n', 'i', 't', '_', 't', 'y', 'p', 'e', \"'\", ':', ' ', 'N', 'o', 'n', 'e', ',', ' ', \"'\", 'a', 'g', 'r', 'e', 'e', 'm', 'e', 'n', 't', '_', 'd', 'a', 't', 'e', \"'\", ':', ' ', \"'\", '2', '0', '2', '1', '-', '1', '1', '-', '0', '1', \"'\", ',', ' ', \"'\", 'l', 'e', 'a', 's', 'e', '_', 's', 't', 'a', 'r', 't', \"'\", ':', ' ', 'N', 'o', 'n', 'e', ',', ' ', \"'\", 'l', 'e', 'a', 's', 'e', '_', 'e', 'n', 'd', \"'\", ':', ' ', 'N', 'o', 'n', 'e', ',', ' ', \"'\", 'l', 'e', 'a', 's', 'e', '_', 'a', 'u', 't', 'o', '_', 'r', 'e', 'n', 'e', 'w', \"'\", ':', ' ', 'N', 'o', 'n', 'e', ',', ' ', \"'\", 'h', 'o', 'u', 'r', 'l', 'y', '_', 'r', 'a', 't', 'e', \"'\", ':', ' ', 'N', 'o', 'n', 'e', ',', \"'\", 'm', 'o', 'n', 't', 'h', 'l', 'y', '_', 'r', 'e', 'n', 't', \"'\", ':', ' ', 'N', 'o', 'n', 'e', ',', ' ', \"'\", 'p', 'r', 'o', 'r', 'a', 't', 'e', 'd', '_', 'r', 'e', 'n', 't', \"'\", ':', ' ', 'N', 'o', 'n', 'e', ',', \"'\", 's', 'e', 'c', 'u', 'r', 'i', 't', 'y', '_', 'd', 'e', 'p', 'o', 's', 'i', 't', \"'\", ':', ' ', 'N', 'o', 'n', 'e', ',', ' ', \"'\", 'l', 'e', 'a', 's', 'e', '_', 'r', 'e', 'n', 't', \"'\", ':', ' ', 'N', 'o', 'n', 'e', ',', \"'\", 'm', 'o', 'n', 't', 'h', 'l', 'y', '_', 'p', 'a', 'y', 'm', 'e', 'n', 't', '_', 'b', 'r', 'e', 'a', 'k', 'd', 'o', 'w', 'n', \"'\", ':', ' ', 'N', 'o', 'n', 'e', ',', ' ', \"'\", 'u', 't', 'i', 'l', 'i', 't', 'y', '_', 'c', 'h', 'a', 'r', 'g', 'e', 's', \"'\", ':', ' ', 'N', 'o', 'n', 'e'], [\"'\", 't', 'e', 'n', 'a', 'n', 't', '_', 'n', 'a', 'm', 'e', \"'\", ':', ' ', \"'\", 'C', 'l', 'a', 'u', 'd', 'i', 'a', ' ', 'S', 'p', 'o', 'o', 'n', 'e', 'y', \"'\", ',', ' ', \"'\", 'u', 'n', 'i', 't', '_', 'a', 'd', 'd', 'r', 'e', 's', 's', \"'\", ':', ' ', \"'\", '5', '6', '0', '4', ' ', 'V', 'i', 'l', 'l', 'a', 's', ' ', 'C', 'i', 'r', ' ', 'A', 'p', 't', ' ', 'E', ',', ' ', 'M', 'o', 'n', 't', 'g', 'o', 'm', 'e', 'r', 'y', ',', ' ', 'A', 'L', \"'\", ',', ' ', \"'\", 'u', 'n', 'i', 't', '_', 'n', 'u', 'm', 'b', 'e', 'r', \"'\", ':', ' ', \"'\", '5', '6', '0', '4', 'E', \"'\", ',', ' ', \"'\", 'u', 'n', 'i', 't', '_', 't', 'y', 'p', 'e', \"'\", ':', ' ', 'N', 'o', 'n', 'e', ',', ' ', \"'\", 'a', 'g', 'r', 'e', 'e', 'm', 'e', 'n', 't', '_', 'd', 'a', 't', 'e', \"'\", ':', ' ', \"'\", '2', '0', '2', '3', '-', '0', '2', '-', '2', '1', \"'\", ',', ' ', \"'\", 'l', 'e', 'a', 's', 'e', '_', 's', 't', 'a', 'r', 't', \"'\", ':', ' ', \"'\", '2', '0', '2', '3', '-', '0', '2', '-', '2', '8', \"'\", ',', ' ', \"'\", 'l', 'e', 'a', 's', 'e', '_', 'e', 'n', 'd', \"'\", ':', ' ', \"'\", '2', '0', '2', '4', '-', '0', '2', '-', '2', '9', \"'\", ',', ' ', \"'\", 'l', 'e', 'a', 's', 'e', '_', 'a', 'u', 't', 'o', '_', 'r', 'e', 'n', 'e', 'w', \"'\", ':', ' ', 'N', 'o', 'n', 'e', ',', ' ', \"'\", 'h', 'o', 'u', 'r', 'l', 'y', '_', 'r', 'a', 't', 'e', \"'\", ':', ' ', 'N', 'o', 'n', 'e', ',', \"'\", 'm', 'o', 'n', 't', 'h', 'l', 'y', '_', 'r', 'e', 'n', 't', \"'\", ':', ' ', 'N', 'o', 'n', 'e', ',', ' ', \"'\", 'p', 'r', 'o', 'r', 'a', 't', 'e', 'd', '_', 'r', 'e', 'n', 't', \"'\", ':', ' ', 'N', 'o', 'n', 'e', ',', \"'\", 's', 'e', 'c', 'u', 'r', 'i', 't', 'y', '_', 'd', 'e', 'p', 'o', 's', 'i', 't', \"'\", ':', ' ', '0', '.', '0', ',', ' ', \"'\", 'l', 'e', 'a', 's', 'e', '_', 'r', 'e', 'n', 't', \"'\", ':', ' ', 'N', 'o', 'n', 'e', ',', \"'\", 'm', 'o', 'n', 't', 'h', 'l', 'y', '_', 'p', 'a', 'y', 'm', 'e', 'n', 't', '_', 'b', 'r', 'e', 'a', 'k', 'd', 'o', 'w', 'n', \"'\", ':', ' ', 'N', 'o', 'n', 'e', ',', ' ', \"'\", 'u', 't', 'i', 'l', 'i', 't', 'y', '_', 'c', 'h', 'a', 'r', 'g', 'e', 's', \"'\", ':', ' ', 'N', 'o', 'n', 'e'], ..., [\"'\", 't', 'e', 'n', 'a', 'n', 't', '_', 'n', 'a', 'm', 'e', \"'\", ':', ' ', \"'\", 'P', 'e', 't', 'e', 'r', ' ', 'M', 'e', 'n', 'd', 'e', 'z', \"'\", ',', ' ', \"'\", 'u', 'n', 'i', 't', '_', 'a', 'd', 'd', 'r', 'e', 's', 's', \"'\", ':', ' ', \"'\", '7', '6', '0', '3', ' ', 'T', 'i', 'm', 'b', 'e', 'r', 's', 't', 'o', 'n', 'e', ' ', 'D', 'r', ',', ' ', 'T', 'a', 'm', 'p', 'a', ',', ' ', 'F', 'l', 'o', 'r', 'i', 'd', 'a', ',', ' ', '3', '3', '6', '1', '5', \"'\", ',', ' ', \"'\", 'u', 'n', 'i', 't', '_', 'n', 'u', 'm', 'b', 'e', 'r', \"'\", ':', ' ', \"'\", '0', '9', 'C', \"'\", ',', ' ', \"'\", 'u', 'n', 'i', 't', '_', 't', 'y', 'p', 'e', \"'\", ':', ' ', 'N', 'o', 'n', 'e', ',', ' ', \"'\", 'a', 'g', 'r', 'e', 'e', 'm', 'e', 'n', 't', '_', 'd', 'a', 't', 'e', \"'\", ':', ' ', \"'\", '2', '0', '2', '2', '-', '0', '7', '-', '0', '6', \"'\", ',', ' ', \"'\", 'l', 'e', 'a', 's', 'e', '_', 's', 't', 'a', 'r', 't', \"'\", ':', ' ', \"'\", '2', '0', '2', '2', '-', '1', '0', '-', '0', '1', \"'\", ',', ' ', \"'\", 'l', 'e', 'a', 's', 'e', '_', 'e', 'n', 'd', \"'\", ':', ' ', \"'\", '2', '0', '2', '3', '-', '0', '9', '-', '3', '0', \"'\", ',', ' ', \"'\", 'l', 'e', 'a', 's', 'e', '_', 'a', 'u', 't', 'o', '_', 'r', 'e', 'n', 'e', 'w', \"'\", ':', \"'\", 'm', 'o', 'n', 't', 'h', '-', 't', 'o', '-', 'm', 'o', 'n', 't', 'h', \"'\", ',', ' ', \"'\", 'h', 'o', 'u', 'r', 'l', 'y', '_', 'r', 'a', 't', 'e', \"'\", ':', ' ', 'N', 'o', 'n', 'e', ',', \"'\", 'm', 'o', 'n', 't', 'h', 'l', 'y', '_', 'r', 'e', 'n', 't', \"'\", ':', ' ', '1', '7', '5', '8', '.', '0', ',', ' ', \"'\", 'p', 'r', 'o', 'r', 'a', 't', 'e', 'd', '_', 'r', 'e', 'n', 't', \"'\", ':', ' ', 'N', 'o', 'n', 'e', ',', \"'\", 's', 'e', 'c', 'u', 'r', 'i', 't', 'y', '_', 'd', 'e', 'p', 'o', 's', 'i', 't', \"'\", ':', ' ', '2', '0', '0', '.', '0', ',', ' ', \"'\", 'l', 'e', 'a', 's', 'e', '_', 'r', 'e', 'n', 't', \"'\", ':', ' ', '2', '1', '0', '9', '6', '.', '0', ',', \"'\", 'm', 'o', 'n', 't', 'h', 'l', 'y', '_', 'p', 'a', 'y', 'm', 'e', 'n', 't', '_', 'b', 'r', 'e', 'a', 'k', 'd', 'o', 'w', 'n', \"'\", ':', ' ', 'N', 'o', 'n', 'e', ',', ' ', \"'\", 'u', 't', 'i', 'l', 'i', 't', 'y', '_', 'c', 'h', 'a', 'r', 'g', 'e', 's', \"'\", ':', ' ', 'N', 'o', 'n', 'e'], [\"'\", 't', 'e', 'n', 'a', 'n', 't', '_', 'n', 'a', 'm', 'e', \"'\", ':', ' ', \"'\", 'L', 'e', 'o', 'b', 'o', 'u', 'c', 'h', 'e', 'r', 'e', 'a', 'u', \"'\", ',', ' ', \"'\", 'u', 'n', 'i', 't', '_', 'a', 'd', 'd', 'r', 'e', 's', 's', \"'\", ':', ' ', 'N', 'o', 'n', 'e', ',', ' ', \"'\", 'u', 'n', 'i', 't', '_', 'n', 'u', 'm', 'b', 'e', 'r', \"'\", ':', ' ', 'N', 'o', 'n', 'e', ',', ' ', \"'\", 'u', 'n', 'i', 't', '_', 't', 'y', 'p', 'e', \"'\", ':', ' ', 'N', 'o', 'n', 'e', ',', ' ', \"'\", 'a', 'g', 'r', 'e', 'e', 'm', 'e', 'n', 't', '_', 'd', 'a', 't', 'e', \"'\", ':', ' ', \"'\", '2', '0', '2', '2', '-', '1', '2', '-', '0', '3', \"'\", ',', ' ', \"'\", 'l', 'e', 'a', 's', 'e', '_', 's', 't', 'a', 'r', 't', \"'\", ':', ' ', 'N', 'o', 'n', 'e', ',', ' ', \"'\", 'l', 'e', 'a', 's', 'e', '_', 'e', 'n', 'd', \"'\", ':', ' ', 'N', 'o', 'n', 'e', ',', ' ', \"'\", 'l', 'e', 'a', 's', 'e', '_', 'a', 'u', 't', 'o', '_', 'r', 'e', 'n', 'e', 'w', \"'\", ':', ' ', 'N', 'o', 'n', 'e', ',', ' ', \"'\", 'h', 'o', 'u', 'r', 'l', 'y', '_', 'r', 'a', 't', 'e', \"'\", ':', ' ', 'N', 'o', 'n', 'e', ',', \"'\", 'm', 'o', 'n', 't', 'h', 'l', 'y', '_', 'r', 'e', 'n', 't', \"'\", ':', ' ', 'N', 'o', 'n', 'e', ',', ' ', \"'\", 'p', 'r', 'o', 'r', 'a', 't', 'e', 'd', '_', 'r', 'e', 'n', 't', \"'\", ':', ' ', 'N', 'o', 'n', 'e', ',', \"'\", 's', 'e', 'c', 'u', 'r', 'i', 't', 'y', '_', 'd', 'e', 'p', 'o', 's', 'i', 't', \"'\", ':', ' ', 'N', 'o', 'n', 'e', ',', ' ', \"'\", 'l', 'e', 'a', 's', 'e', '_', 'r', 'e', 'n', 't', \"'\", ':', ' ', 'N', 'o', 'n', 'e', ',', \"'\", 'm', 'o', 'n', 't', 'h', 'l', 'y', '_', 'p', 'a', 'y', 'm', 'e', 'n', 't', '_', 'b', 'r', 'e', 'a', 'k', 'd', 'o', 'w', 'n', \"'\", ':', ' ', 'N', 'o', 'n', 'e', ',', ' ', \"'\", 'u', 't', 'i', 'l', 'i', 't', 'y', '_', 'c', 'h', 'a', 'r', 'g', 'e', 's', \"'\", ':', ' ', 'N', 'o', 'n', 'e'], [\"'\", 't', 'e', 'n', 'a', 'n', 't', '_', 'n', 'a', 'm', 'e', \"'\", ':', ' ', 'N', 'o', 'n', 'e', ',', ' ', \"'\", 'u', 'n', 'i', 't', '_', 'a', 'd', 'd', 'r', 'e', 's', 's', \"'\", ':', ' ', 'N', 'o', 'n', 'e', ',', ' ', \"'\", 'u', 'n', 'i', 't', '_', 'n', 'u', 'm', 'b', 'e', 'r', \"'\", ':', ' ', 'N', 'o', 'n', 'e', ',', ' ', \"'\", 'u', 'n', 'i', 't', '_', 't', 'y', 'p', 'e', \"'\", ':', ' ', 'N', 'o', 'n', 'e', ',', ' ', \"'\", 'a', 'g', 'r', 'e', 'e', 'm', 'e', 'n', 't', '_', 'd', 'a', 't', 'e', \"'\", ':', ' ', 'N', 'o', 'n', 'e', ',', ' ', \"'\", 'l', 'e', 'a', 's', 'e', '_', 's', 't', 'a', 'r', 't', \"'\", ':', ' ', 'N', 'o', 'n', 'e', ',', ' ', \"'\", 'l', 'e', 'a', 's', 'e', '_', 'e', 'n', 'd', \"'\", ':', ' ', 'N', 'o', 'n', 'e', ',', ' ', \"'\", 'l', 'e', 'a', 's', 'e', '_', 'a', 'u', 't', 'o', '_', 'r', 'e', 'n', 'e', 'w', \"'\", ':', ' ', 'N', 'o', 'n', 'e', ',', ' ', \"'\", 'h', 'o', 'u', 'r', 'l', 'y', '_', 'r', 'a', 't', 'e', \"'\", ':', ' ', 'N', 'o', 'n', 'e', ',', \"'\", 'm', 'o', 'n', 't', 'h', 'l', 'y', '_', 'r', 'e', 'n', 't', \"'\", ':', ' ', 'N', 'o', 'n', 'e', ',', ' ', \"'\", 'p', 'r', 'o', 'r', 'a', 't', 'e', 'd', '_', 'r', 'e', 'n', 't', \"'\", ':', ' ', 'N', 'o', 'n', 'e', ',', \"'\", 's', 'e', 'c', 'u', 'r', 'i', 't', 'y', '_', 'd', 'e', 'p', 'o', 's', 'i', 't', \"'\", ':', ' ', 'N', 'o', 'n', 'e', ',', ' ', \"'\", 'l', 'e', 'a', 's', 'e', '_', 'r', 'e', 'n', 't', \"'\", ':', ' ', 'N', 'o', 'n', 'e', ',', \"'\", 'm', 'o', 'n', 't', 'h', 'l', 'y', '_', 'p', 'a', 'y', 'm', 'e', 'n', 't', '_', 'b', 'r', 'e', 'a', 'k', 'd', 'o', 'w', 'n', \"'\", ':', ' ', 'N', 'o', 'n', 'e', ',', ' ', \"'\", 'u', 't', 'i', 'l', 'i', 't', 'y', '_', 'c', 'h', 'a', 'r', 'g', 'e', 's', \"'\", ':', ' ', 'N', 'o', 'n', 'e']]",
     "output_type": "error",
     "traceback": [
      "\u001b[0;31m---------------------------------------------------------------------------\u001b[0m",
      "\u001b[0;31mValueError\u001b[0m                                Traceback (most recent call last)",
      "Cell \u001b[0;32mIn[24], line 32\u001b[0m\n\u001b[1;32m     29\u001b[0m ref_list \u001b[38;5;241m=\u001b[39m [\u001b[38;5;28mlist\u001b[39m(ref) \u001b[38;5;28;01mfor\u001b[39;00m ref \u001b[38;5;129;01min\u001b[39;00m references]\n\u001b[1;32m     31\u001b[0m \u001b[38;5;66;03m# Compute F1 score\u001b[39;00m\n\u001b[0;32m---> 32\u001b[0m f1_results \u001b[38;5;241m=\u001b[39m \u001b[43mf1_metric\u001b[49m\u001b[38;5;241;43m.\u001b[39;49m\u001b[43mcompute\u001b[49m\u001b[43m(\u001b[49m\u001b[43mpredictions\u001b[49m\u001b[38;5;241;43m=\u001b[39;49m\u001b[43mpred_list\u001b[49m\u001b[43m,\u001b[49m\u001b[43m \u001b[49m\u001b[43mreferences\u001b[49m\u001b[38;5;241;43m=\u001b[39;49m\u001b[43mref_list\u001b[49m\u001b[43m,\u001b[49m\u001b[43m \u001b[49m\u001b[43maverage\u001b[49m\u001b[38;5;241;43m=\u001b[39;49m\u001b[38;5;124;43m'\u001b[39;49m\u001b[38;5;124;43mmicro\u001b[39;49m\u001b[38;5;124;43m'\u001b[39;49m\u001b[43m)\u001b[49m\n\u001b[1;32m     34\u001b[0m \u001b[38;5;66;03m# Compute exact matches\u001b[39;00m\n\u001b[1;32m     35\u001b[0m exact_match_results \u001b[38;5;241m=\u001b[39m exact_match_metric\u001b[38;5;241m.\u001b[39mcompute(predictions\u001b[38;5;241m=\u001b[39mpredictions, references\u001b[38;5;241m=\u001b[39mreferences)\n",
      "File \u001b[0;32m~/velocius-ai/leaseaudit-model-training/.venv/lib/python3.12/site-packages/evaluate/module.py:455\u001b[0m, in \u001b[0;36mEvaluationModule.compute\u001b[0;34m(self, predictions, references, **kwargs)\u001b[0m\n\u001b[1;32m    452\u001b[0m compute_kwargs \u001b[38;5;241m=\u001b[39m {k: kwargs[k] \u001b[38;5;28;01mfor\u001b[39;00m k \u001b[38;5;129;01min\u001b[39;00m kwargs \u001b[38;5;28;01mif\u001b[39;00m k \u001b[38;5;129;01mnot\u001b[39;00m \u001b[38;5;129;01min\u001b[39;00m \u001b[38;5;28mself\u001b[39m\u001b[38;5;241m.\u001b[39m_feature_names()}\n\u001b[1;32m    454\u001b[0m \u001b[38;5;28;01mif\u001b[39;00m \u001b[38;5;28many\u001b[39m(v \u001b[38;5;129;01mis\u001b[39;00m \u001b[38;5;129;01mnot\u001b[39;00m \u001b[38;5;28;01mNone\u001b[39;00m \u001b[38;5;28;01mfor\u001b[39;00m v \u001b[38;5;129;01min\u001b[39;00m inputs\u001b[38;5;241m.\u001b[39mvalues()):\n\u001b[0;32m--> 455\u001b[0m     \u001b[38;5;28;43mself\u001b[39;49m\u001b[38;5;241;43m.\u001b[39;49m\u001b[43madd_batch\u001b[49m\u001b[43m(\u001b[49m\u001b[38;5;241;43m*\u001b[39;49m\u001b[38;5;241;43m*\u001b[39;49m\u001b[43minputs\u001b[49m\u001b[43m)\u001b[49m\n\u001b[1;32m    456\u001b[0m \u001b[38;5;28mself\u001b[39m\u001b[38;5;241m.\u001b[39m_finalize()\n\u001b[1;32m    458\u001b[0m \u001b[38;5;28mself\u001b[39m\u001b[38;5;241m.\u001b[39mcache_file_name \u001b[38;5;241m=\u001b[39m \u001b[38;5;28;01mNone\u001b[39;00m\n",
      "File \u001b[0;32m~/velocius-ai/leaseaudit-model-training/.venv/lib/python3.12/site-packages/evaluate/module.py:546\u001b[0m, in \u001b[0;36mEvaluationModule.add_batch\u001b[0;34m(self, predictions, references, **kwargs)\u001b[0m\n\u001b[1;32m    539\u001b[0m \u001b[38;5;28;01melse\u001b[39;00m:\n\u001b[1;32m    540\u001b[0m     error_msg \u001b[38;5;241m=\u001b[39m (\n\u001b[1;32m    541\u001b[0m         \u001b[38;5;124mf\u001b[39m\u001b[38;5;124m\"\u001b[39m\u001b[38;5;124mPredictions and/or references don\u001b[39m\u001b[38;5;124m'\u001b[39m\u001b[38;5;124mt match the expected format.\u001b[39m\u001b[38;5;130;01m\\n\u001b[39;00m\u001b[38;5;124m\"\u001b[39m\n\u001b[1;32m    542\u001b[0m         \u001b[38;5;124mf\u001b[39m\u001b[38;5;124m\"\u001b[39m\u001b[38;5;124mExpected format: \u001b[39m\u001b[38;5;132;01m{\u001b[39;00m\u001b[38;5;28mself\u001b[39m\u001b[38;5;241m.\u001b[39mselected_feature_format\u001b[38;5;250m \u001b[39m\u001b[38;5;132;01m}\u001b[39;00m\u001b[38;5;124m,\u001b[39m\u001b[38;5;130;01m\\n\u001b[39;00m\u001b[38;5;124m\"\u001b[39m\n\u001b[1;32m    543\u001b[0m         \u001b[38;5;124mf\u001b[39m\u001b[38;5;124m\"\u001b[39m\u001b[38;5;124mInput predictions: \u001b[39m\u001b[38;5;132;01m{\u001b[39;00msummarize_if_long_list(predictions)\u001b[38;5;132;01m}\u001b[39;00m\u001b[38;5;124m,\u001b[39m\u001b[38;5;130;01m\\n\u001b[39;00m\u001b[38;5;124m\"\u001b[39m\n\u001b[1;32m    544\u001b[0m         \u001b[38;5;124mf\u001b[39m\u001b[38;5;124m\"\u001b[39m\u001b[38;5;124mInput references: \u001b[39m\u001b[38;5;132;01m{\u001b[39;00msummarize_if_long_list(references)\u001b[38;5;132;01m}\u001b[39;00m\u001b[38;5;124m\"\u001b[39m\n\u001b[1;32m    545\u001b[0m     )\n\u001b[0;32m--> 546\u001b[0m \u001b[38;5;28;01mraise\u001b[39;00m \u001b[38;5;167;01mValueError\u001b[39;00m(error_msg) \u001b[38;5;28;01mfrom\u001b[39;00m \u001b[38;5;28;01mNone\u001b[39;00m\n",
      "\u001b[0;31mValueError\u001b[0m: Predictions and/or references don't match the expected format.\nExpected format: {'predictions': Value(dtype='int32', id=None), 'references': Value(dtype='int32', id=None)},\nInput predictions: [[\"'\", 'l', 'e', 'a', 's', 'e', '_', 's', 't', 'a', 'r', 't', '_', 'd', 'a', 't', 'e', \"'\", ':', ' ', 'f', 'a', 'l', 's', 'e', ',', ' ', \"'\", 'l', 'e', 'a', 's', 'e', '_', 'e', 'n', 'd', '_', 'd', 'a', 't', 'e', \"'\", ':', ' ', 'f', 'a', 'l', 's', 'e', ',', ' ', \"'\", 'l', 'e', 'a', 's', 'e', '_', 'l', 'e', 'n', 'g', 't', 'h', '_', 's', 't', 'a', 'r', 't', \"'\", ':', ' ', 'f', 'a', 'l', 's', 'e', ',', ' ', \"'\", 'l', 'e', 'a', 's', 'e', '_', 'l', 'e', 'n', 'g', 't', 'h', '_', 'e', 'n', 'd', \"'\", ':', ' ', 'f', 'a', 'l', 's', 'e', ',', ' ', \"'\", 'l', 'e', 'a', 's', 'e', '_', 'l', 'e', 'n', 'g', 't', 'h', '_', 's', 't', 'a', 'r', 't', \"'\", ':', ' ', 'f', 'a', 'l', 's', 'e', ',', ' ', \"'\", 'l', 'e', 'a', 's', 'e', '_', 'l', 'e', 'n', 'g', 't', 'h', '_', 'e', 'n', 'd', \"'\", ':', ' ', 'f', 'a', 'l', 's', 'e', ',', ' ', \"'\", 'l', 'e', 'a', 's', 'e', '_', 'l', 'e', 'n', 'g', 't', 'h', '_', 's', 't', 'a', 'r', 't', \"'\", ':', ' ', 'f', 'a', 'l', 's', 'e', ',', ' ', \"'\", 'l', 'e', 'a', 's', 'e', '_', 'l', 'e', 'n', 'g', 't', 'h', '_', 'f', 'i', 'n', 'i', 's', 'h', \"'\", ':', ' ', 'f', 'a', 'l', 's', 'e', ',', ' ', \"'\", 'l', 'e', 'a', 's', 'e', '_', 'l', 'e', 'n', 'g', 't', 'h', '_', 'e', 'n', 'd', \"'\", ':', ' ', 'f', 'a', 'l', 's', 'e', ',', ' ', \"'\", 'l', 'e', 'a', 's', 'e', '_', 'l', 'e', 'n', 'g', 't', 'h', '_', 's', 't', 'a', 'r', 't', \"'\", ':', ' ', '[', 'F', 'a', 'l', 's', 'e', ',', ' ', 'F', 'a', 'l', 's', 'e', ',', ' ', 'F', 'a', 'l', 's', 'e', ',', ' ', 'F', 'a', 'l', 's', 'e', ',', ' ', 'F', 'a', 'l', 's', 'e', ']'], [\"'\", 'B', 'e', 'd', 'b', 'u', 'g', ' ', 'A', 'd', 'd', 'e', 'n', 'd', 'u', 'm', \"'\", ',', ' ', \"'\", 'A', 'd', 'd', 'i', 't', 'i', 'o', 'n', 'a', 'l', ' ', 'P', 'r', 'o', 'v', 'i', 's', 'i', 'o', 'n', 's', \"'\", ',', ' ', \"'\", 'U', 'n', 'i', 't', ' ', '#', \"'\", ',', ' ', \"'\", 'U', 'n', 'i', 't', ' ', '#', \"'\", ',', ' ', \"'\", 'D', 'a', 't', 'e', \"'\", ',', ' ', \"'\", 'L', 'e', 'a', 's', 'e', \"'\", ',', ' ', \"'\", 'L', 'a', 'n', 'd', 'l', 'o', 'r', 'd', \"'\", ',', ' ', \"'\", 'A', 'd', 'd', 'i', 't', 'i', 'o', 'n', 'a', 'l', ' ', 'P', 'r', 'o', 'v', 'i', 's', 'i', 'o', 'n', 's', \"'\", ',', ' ', \"'\", 'U', 'n', 'i', 't', ' ', '#', \"'\", ',', ' ', \"'\", 'U', 'n', 'i', 't', ' ', '#', \"'\", ',', ' ', \"'\", 'D', 'e', 'p', 'o', 's', 'i', 't', \"'\", ',', ' ', \"'\", 'U', 'n', 'i', 't', ' ', '#', \"'\", ',', ' ', \"'\", 'L', 'e', 'a', 's', 'e', ' ', 'R', 'e', 'q', 'u', 'i', 'r', 'e', 'm', 'e', 'n', 't', 's', \"'\"], [\"'\", 'A', 'p', 'a', 'r', 't', 'm', 'e', 'n', 't', \"'\", ':', ' ', '\"', '5', '6', '0', '4', 'E', '\"', ',', '\"', 'U', 'n', 'i', 't', 'T', 'y', 'p', 'e', '\"', ':', ' ', 'N', 'o', 'n', 'e', ',', '\"', 'C', 'a', 'r', 'S', 'p', 'a', 'c', 'e', '\"', ':', ' ', 'N', 'o', 'n', 'e', ',', '\"', 'L', 'o', 'c', 'a', 't', 'i', 'o', 'n', '\"', ':', ' ', 'N', 'o', 'n', 'e', ',', '\"', 'C', 'o', 'm', 'm', 'o', 'n', 'R', 'm', 'D', 'e', 'n', '\"', ':', ' ', 'N', 'o', 'n', 'e', ',', '\"', 'C', 'o', 'm', 'm', 'o', 'n', 'L', 'o', 'c', 'a', 't', 'i', 'o', 'n', '\"', ':', ' ', 'N', 'o', 'n', 'e', ',', '\"', 'L', 'e', 'a', 's', 'e', 'T', 'e', 'r', 'm', '\"', ':', ' ', 'N', 'o', 'n', 'e', ',', '\"', 'L', 'e', 'a', 's', 'e', 'P', 'r', 'i', 'c', 'e', '\"', ':', ' ', 'N', 'o', 'n', 'e', ',', '\"', 'B', 'e', 'n', 'e', 'f', 'i', 't', 's', '\"', ':', ' ', 'N', 'o', 'n', 'e', ' ', '\"', 'C', 'a', 'l', 'l', '\"', ':', ' ', 'N', 'o', 'n', 'e', ' ', '\"', 'C', 'o', 'm', 'm', 'o', 'n', 'L', 'o', 'c', 'a', 't', 'i', 'o', 'n', '\"', ':', ' ', 'N', 'o', 'n', 'e'], ..., [\"'\", 'L', 'e', 'a', 's', 'i', 'n', 'g', '_', 'C', 'o', 'm', 'm', 'u', 'n', 'i', 't', 'y', \"'\", ':', ' ', \"'\", 'M', 'e', 'r', 'i', 'd', 'i', 'a', 'n', ' ', 'L', 'u', 'x', 'u', 'r', 'y', ' ', 'C', 'o', 'n', 'd', 'o', 'm', 'i', 'n', 'i', 'u', 'm', 's', \"'\", ',', ' ', \"'\", 'L', 'e', 'a', 's', 'e', '_', 'F', 'i', 'l', 'i', 'n', 'g', '_', 'D', 'a', 't', 'e', \"'\", ':', ' ', \"'\", '1', '9', '8', '4', \"'\", ',', ' ', \"'\", 'R', 'o', 'o', 'm', '_', 'C', 'o', 'u', 'n', 't', \"'\", ':', ' ', \"'\", '6', '6', '9', '6', \"'\", ',', ' ', \"'\", 'A', 'p', 'a', 'r', 't', 'm', 'e', 'n', 't', '_', 'N', 'u', 'm', 'b', 'e', 'r', \"'\", ':', ' ', \"'\", '7', '5', '3', \"'\", ',', ' ', \"'\", 'L', 'e', 'a', 's', 'e', '_', 'S', 'u', 'm', 'm', 'a', 'r', 'y', \"'\", ':', ' ', \"'\", '$', '7', '6', '0', '0', '.', '0', '0', ',', \"'\", ' ', 'T', 'e', 'n', 'a', 'n', 't', '_', 'I', 'd', \"'\", ':', ' ', \"'\", '9', \"'\", ',', ' ', \"'\", 'L', 'e', 'a', 's', 'e', '_', 'R', 'e', 'n', 't', \"'\", ':', ' ', \"'\", '$', '6', '7', '9', '5', '.', '0', '0', ',', \"'\", ' ', 'P', 'a', 'y', 'm', 'e', 'n', 't', '_', 'P', 'a', 'i', 'd', '_', 'i', 'n', '_', 'F', 'i', 's', 'h', \"'\", ':', ' ', \"'\", '7', '0', '0', '.', '0', '0', ',', \"'\", ' ', \"'\", 'D', 'w', 'e', 'l', 'l', 'i', 'n', 'g', '_', 'U', 'n', 'i', 't', \"'\", ':', ' ', \"'\", '6', '9', '3', \"'\", ',', ' ', \"'\", 'L', 'e', 'a', 's', 'e', '_', 'L', 'i', 'm', 'i', 't', \"'\", ':', ' ', \"'\", '2', ' ', 'w', 'e', 'e', 'k', 's', \"'\"], [\"'\", 'L', 'o', 'c', 'a', 't', 'i', 'o', 'n', \"'\", ':', ' ', \"'\", 'A', 'r', 'l', 'i', 'n', 'g', 't', 'o', 'n', ' ', 'H', 'e', 'i', 'g', 'h', 't', 's', \"'\", ',', ' ', \"'\", 'U', 'n', 'i', 't', \"'\", ':', ' ', \"'\", 'A', 'r', 'l', 'i', 'n', 'g', 't', 'o', 'n', ' ', 'H', 'e', 'i', 'g', 'h', 't', 's', \"'\", ',', ' ', \"'\", 'D', 'e', 'p', 't', 'h', \"'\", ':', ' ', \"'\", '1', '0', '0', \"'\", ',', ' ', \"'\", 'L', 'e', 'a', 's', 'i', 'n', 'g', 'O', 'f', 'f', 'i', 'c', 'e', \"'\", ':', ' ', \"'\", '1', '0', '0', \"'\", ',', ' ', \"'\", 'M', 'i', 'c', 'r', 'o', 'b', 'e', \"'\", ':', ' ', \"'\", '1', '0', '0', \"'\", ',', ' ', \"'\", 'N', 'e', 't', \"'\", ':', ' ', \"'\", '1', '0', '0', \"'\", ',', ' ', \"'\", 'B', 'e', 'd', 'r', 'o', 'o', 'm', 's', \"'\", ':', ' ', \"'\", '1', '0', '0', \"'\", ',', ' ', \"'\", 'W', 'a', 'l', 'l', 'p', 'a', 'p', 'e', 'r', \"'\", ':', ' ', \"'\", '1', '0', '0', \"'\", ',', ' ', \"'\", 'L', 'i', 'v', 'i', 'n', 'g', 'R', 'o', 'o', 'm', 's', \"'\", ':', ' ', \"'\", '1', '0', '0', \"'\", ',', ' ', \"'\", 'E', 'n', 't', 'e', 'r', 't', 'a', 'i', 'n', 'm', 'e', 'n', 't', \"'\", ':', ' ', \"'\", '1', '0', '0', \"'\", ',', ' ', \"'\", 'L', 'a', 'u', 'n', 'd', 'r', 'y', \"'\", ':', ' ', \"'\", '1', '0', '0', \"'\"], [' ', ',', ',', ' ', ',', ' ', ' ', ' ', ' ']],\nInput references: [[\"'\", 't', 'e', 'n', 'a', 'n', 't', '_', 'n', 'a', 'm', 'e', \"'\", ':', ' ', 'N', 'o', 'n', 'e', ',', ' ', \"'\", 'u', 'n', 'i', 't', '_', 'a', 'd', 'd', 'r', 'e', 's', 's', \"'\", ':', ' ', \"'\", '3', '3', '3', ' ', 'H', ' ', 'S', 't', 'r', 'e', 'e', 't', ',', ' ', 'S', 't', 'e', '.', ' ', '5', '0', '0', '0', ',', ' ', 'C', 'h', 'u', 'l', 'a', ' ', 'V', 'i', 's', 't', 'a', ',', ' ', 'C', 'A', ' ', '9', '1', '9', '1', '0', \"'\", ',', ' ', \"'\", 'u', 'n', 'i', 't', '_', 'n', 'u', 'm', 'b', 'e', 'r', \"'\", ':', ' ', 'N', 'o', 'n', 'e', ',', ' ', \"'\", 'u', 'n', 'i', 't', '_', 't', 'y', 'p', 'e', \"'\", ':', ' ', 'N', 'o', 'n', 'e', ',', ' ', \"'\", 'a', 'g', 'r', 'e', 'e', 'm', 'e', 'n', 't', '_', 'd', 'a', 't', 'e', \"'\", ':', ' ', 'N', 'o', 'n', 'e', ',', ' ', \"'\", 'l', 'e', 'a', 's', 'e', '_', 's', 't', 'a', 'r', 't', \"'\", ':', ' ', 'N', 'o', 'n', 'e', ',', ' ', \"'\", 'l', 'e', 'a', 's', 'e', '_', 'e', 'n', 'd', \"'\", ':', ' ', \"'\", '2', '0', '2', '4', '-', '0', '3', '-', '3', '1', \"'\", ',', ' ', \"'\", 'l', 'e', 'a', 's', 'e', '_', 'a', 'u', 't', 'o', '_', 'r', 'e', 'n', 'e', 'w', \"'\", ':', ' ', 'N', 'o', 'n', 'e', ',', ' ', \"'\", 'h', 'o', 'u', 'r', 'l', 'y', '_', 'r', 'a', 't', 'e', \"'\", ':', ' ', 'N', 'o', 'n', 'e', ',', \"'\", 'm', 'o', 'n', 't', 'h', 'l', 'y', '_', 'r', 'e', 'n', 't', \"'\", ':', ' ', '3', '3', '5', '0', '.', '0', ',', ' ', \"'\", 'p', 'r', 'o', 'r', 'a', 't', 'e', 'd', '_', 'r', 'e', 'n', 't', \"'\", ':', ' ', '2', '1', '2', '1', '.', '6', '7', ',', \"'\", 's', 'e', 'c', 'u', 'r', 'i', 't', 'y', '_', 'd', 'e', 'p', 'o', 's', 'i', 't', \"'\", ':', ' ', '2', '5', '0', '0', '.', '0', ',', ' ', \"'\", 'l', 'e', 'a', 's', 'e', '_', 'r', 'e', 'n', 't', \"'\", ':', ' ', 'N', 'o', 'n', 'e', ',', \"'\", 'm', 'o', 'n', 't', 'h', 'l', 'y', '_', 'p', 'a', 'y', 'm', 'e', 'n', 't', '_', 'b', 'r', 'e', 'a', 'k', 'd', 'o', 'w', 'n', \"'\", ':', ' ', \"'\", 'L', 'i', 'a', 'b', 'i', 'l', 'i', 't', 'y', ' ', 't', 'o', ' ', 'L', 'a', 'n', 'd', 'l', 'o', 'r', 'd', ' ', 'I', 'n', 's', 'u', 'r', 'a', 'n', 'c', 'e', \"'\", ':', ' ', '9', '.', '5', ',', ' ', \"'\", 'A', 'd', 'm', 'i', 'n', ' ', 'F', 'e', 'e', ' ', '-', ' ', 'L', 'i', 'a', 'b', 'i', 'l', 'i', 't', 'y', ' ', 't', 'o', ' ', 'L', 'a', 'n', 'd', 'l', 'o', 'r', 'd', ' ', 'I', 'n', 's', 'u', 'r', 'a', 'n', 'c', 'e', \"'\", ':', ' ', '3', '.', '0', ',', ' ', \"'\", 'R', 'e', 'n', 't', ' ', 'I', 'n', 'c', 'o', 'm', 'e', \"'\", ':', ' ', '3', '3', '5', '0', '.', '0', ',', ' ', \"'\", 'T', 'o', 't', 'a', 'l', \"'\", ':', ' ', '3', '3', '6', '2', '.', '5', ',', ' ', \"'\", 'u', 't', 'i', 'l', 'i', 't', 'y', '_', 'c', 'h', 'a', 'r', 'g', 'e', 's', \"'\", ':', ' ', 'N', 'o', 'n', 'e'], [\"'\", 't', 'e', 'n', 'a', 'n', 't', '_', 'n', 'a', 'm', 'e', \"'\", ':', ' ', \"'\", 'S', 'a', 'r', 'a', 'y', ' ', 'R', 'a', 'm', 'o', 's', ' ', 'G', 'u', 't', 'i', 'e', 'r', 'r', 'e', 'z', \"'\", ',', ' ', \"'\", 'u', 'n', 'i', 't', '_', 'a', 'd', 'd', 'r', 'e', 's', 's', \"'\", ':', ' ', \"'\", 'C', 'r', 'y', 's', 't', 'a', 'l', ' ', 'T', 'e', 'r', 'r', 'a', 'c', 'e', \"'\", ',', ' ', \"'\", 'u', 'n', 'i', 't', '_', 'n', 'u', 'm', 'b', 'e', 'r', \"'\", ':', ' ', 'N', 'o', 'n', 'e', ',', ' ', \"'\", 'u', 'n', 'i', 't', '_', 't', 'y', 'p', 'e', \"'\", ':', ' ', 'N', 'o', 'n', 'e', ',', ' ', \"'\", 'a', 'g', 'r', 'e', 'e', 'm', 'e', 'n', 't', '_', 'd', 'a', 't', 'e', \"'\", ':', ' ', \"'\", '2', '0', '2', '1', '-', '1', '1', '-', '0', '1', \"'\", ',', ' ', \"'\", 'l', 'e', 'a', 's', 'e', '_', 's', 't', 'a', 'r', 't', \"'\", ':', ' ', 'N', 'o', 'n', 'e', ',', ' ', \"'\", 'l', 'e', 'a', 's', 'e', '_', 'e', 'n', 'd', \"'\", ':', ' ', 'N', 'o', 'n', 'e', ',', ' ', \"'\", 'l', 'e', 'a', 's', 'e', '_', 'a', 'u', 't', 'o', '_', 'r', 'e', 'n', 'e', 'w', \"'\", ':', ' ', 'N', 'o', 'n', 'e', ',', ' ', \"'\", 'h', 'o', 'u', 'r', 'l', 'y', '_', 'r', 'a', 't', 'e', \"'\", ':', ' ', 'N', 'o', 'n', 'e', ',', \"'\", 'm', 'o', 'n', 't', 'h', 'l', 'y', '_', 'r', 'e', 'n', 't', \"'\", ':', ' ', 'N', 'o', 'n', 'e', ',', ' ', \"'\", 'p', 'r', 'o', 'r', 'a', 't', 'e', 'd', '_', 'r', 'e', 'n', 't', \"'\", ':', ' ', 'N', 'o', 'n', 'e', ',', \"'\", 's', 'e', 'c', 'u', 'r', 'i', 't', 'y', '_', 'd', 'e', 'p', 'o', 's', 'i', 't', \"'\", ':', ' ', 'N', 'o', 'n', 'e', ',', ' ', \"'\", 'l', 'e', 'a', 's', 'e', '_', 'r', 'e', 'n', 't', \"'\", ':', ' ', 'N', 'o', 'n', 'e', ',', \"'\", 'm', 'o', 'n', 't', 'h', 'l', 'y', '_', 'p', 'a', 'y', 'm', 'e', 'n', 't', '_', 'b', 'r', 'e', 'a', 'k', 'd', 'o', 'w', 'n', \"'\", ':', ' ', 'N', 'o', 'n', 'e', ',', ' ', \"'\", 'u', 't', 'i', 'l', 'i', 't', 'y', '_', 'c', 'h', 'a', 'r', 'g', 'e', 's', \"'\", ':', ' ', 'N', 'o', 'n', 'e'], [\"'\", 't', 'e', 'n', 'a', 'n', 't', '_', 'n', 'a', 'm', 'e', \"'\", ':', ' ', \"'\", 'C', 'l', 'a', 'u', 'd', 'i', 'a', ' ', 'S', 'p', 'o', 'o', 'n', 'e', 'y', \"'\", ',', ' ', \"'\", 'u', 'n', 'i', 't', '_', 'a', 'd', 'd', 'r', 'e', 's', 's', \"'\", ':', ' ', \"'\", '5', '6', '0', '4', ' ', 'V', 'i', 'l', 'l', 'a', 's', ' ', 'C', 'i', 'r', ' ', 'A', 'p', 't', ' ', 'E', ',', ' ', 'M', 'o', 'n', 't', 'g', 'o', 'm', 'e', 'r', 'y', ',', ' ', 'A', 'L', \"'\", ',', ' ', \"'\", 'u', 'n', 'i', 't', '_', 'n', 'u', 'm', 'b', 'e', 'r', \"'\", ':', ' ', \"'\", '5', '6', '0', '4', 'E', \"'\", ',', ' ', \"'\", 'u', 'n', 'i', 't', '_', 't', 'y', 'p', 'e', \"'\", ':', ' ', 'N', 'o', 'n', 'e', ',', ' ', \"'\", 'a', 'g', 'r', 'e', 'e', 'm', 'e', 'n', 't', '_', 'd', 'a', 't', 'e', \"'\", ':', ' ', \"'\", '2', '0', '2', '3', '-', '0', '2', '-', '2', '1', \"'\", ',', ' ', \"'\", 'l', 'e', 'a', 's', 'e', '_', 's', 't', 'a', 'r', 't', \"'\", ':', ' ', \"'\", '2', '0', '2', '3', '-', '0', '2', '-', '2', '8', \"'\", ',', ' ', \"'\", 'l', 'e', 'a', 's', 'e', '_', 'e', 'n', 'd', \"'\", ':', ' ', \"'\", '2', '0', '2', '4', '-', '0', '2', '-', '2', '9', \"'\", ',', ' ', \"'\", 'l', 'e', 'a', 's', 'e', '_', 'a', 'u', 't', 'o', '_', 'r', 'e', 'n', 'e', 'w', \"'\", ':', ' ', 'N', 'o', 'n', 'e', ',', ' ', \"'\", 'h', 'o', 'u', 'r', 'l', 'y', '_', 'r', 'a', 't', 'e', \"'\", ':', ' ', 'N', 'o', 'n', 'e', ',', \"'\", 'm', 'o', 'n', 't', 'h', 'l', 'y', '_', 'r', 'e', 'n', 't', \"'\", ':', ' ', 'N', 'o', 'n', 'e', ',', ' ', \"'\", 'p', 'r', 'o', 'r', 'a', 't', 'e', 'd', '_', 'r', 'e', 'n', 't', \"'\", ':', ' ', 'N', 'o', 'n', 'e', ',', \"'\", 's', 'e', 'c', 'u', 'r', 'i', 't', 'y', '_', 'd', 'e', 'p', 'o', 's', 'i', 't', \"'\", ':', ' ', '0', '.', '0', ',', ' ', \"'\", 'l', 'e', 'a', 's', 'e', '_', 'r', 'e', 'n', 't', \"'\", ':', ' ', 'N', 'o', 'n', 'e', ',', \"'\", 'm', 'o', 'n', 't', 'h', 'l', 'y', '_', 'p', 'a', 'y', 'm', 'e', 'n', 't', '_', 'b', 'r', 'e', 'a', 'k', 'd', 'o', 'w', 'n', \"'\", ':', ' ', 'N', 'o', 'n', 'e', ',', ' ', \"'\", 'u', 't', 'i', 'l', 'i', 't', 'y', '_', 'c', 'h', 'a', 'r', 'g', 'e', 's', \"'\", ':', ' ', 'N', 'o', 'n', 'e'], ..., [\"'\", 't', 'e', 'n', 'a', 'n', 't', '_', 'n', 'a', 'm', 'e', \"'\", ':', ' ', \"'\", 'P', 'e', 't', 'e', 'r', ' ', 'M', 'e', 'n', 'd', 'e', 'z', \"'\", ',', ' ', \"'\", 'u', 'n', 'i', 't', '_', 'a', 'd', 'd', 'r', 'e', 's', 's', \"'\", ':', ' ', \"'\", '7', '6', '0', '3', ' ', 'T', 'i', 'm', 'b', 'e', 'r', 's', 't', 'o', 'n', 'e', ' ', 'D', 'r', ',', ' ', 'T', 'a', 'm', 'p', 'a', ',', ' ', 'F', 'l', 'o', 'r', 'i', 'd', 'a', ',', ' ', '3', '3', '6', '1', '5', \"'\", ',', ' ', \"'\", 'u', 'n', 'i', 't', '_', 'n', 'u', 'm', 'b', 'e', 'r', \"'\", ':', ' ', \"'\", '0', '9', 'C', \"'\", ',', ' ', \"'\", 'u', 'n', 'i', 't', '_', 't', 'y', 'p', 'e', \"'\", ':', ' ', 'N', 'o', 'n', 'e', ',', ' ', \"'\", 'a', 'g', 'r', 'e', 'e', 'm', 'e', 'n', 't', '_', 'd', 'a', 't', 'e', \"'\", ':', ' ', \"'\", '2', '0', '2', '2', '-', '0', '7', '-', '0', '6', \"'\", ',', ' ', \"'\", 'l', 'e', 'a', 's', 'e', '_', 's', 't', 'a', 'r', 't', \"'\", ':', ' ', \"'\", '2', '0', '2', '2', '-', '1', '0', '-', '0', '1', \"'\", ',', ' ', \"'\", 'l', 'e', 'a', 's', 'e', '_', 'e', 'n', 'd', \"'\", ':', ' ', \"'\", '2', '0', '2', '3', '-', '0', '9', '-', '3', '0', \"'\", ',', ' ', \"'\", 'l', 'e', 'a', 's', 'e', '_', 'a', 'u', 't', 'o', '_', 'r', 'e', 'n', 'e', 'w', \"'\", ':', \"'\", 'm', 'o', 'n', 't', 'h', '-', 't', 'o', '-', 'm', 'o', 'n', 't', 'h', \"'\", ',', ' ', \"'\", 'h', 'o', 'u', 'r', 'l', 'y', '_', 'r', 'a', 't', 'e', \"'\", ':', ' ', 'N', 'o', 'n', 'e', ',', \"'\", 'm', 'o', 'n', 't', 'h', 'l', 'y', '_', 'r', 'e', 'n', 't', \"'\", ':', ' ', '1', '7', '5', '8', '.', '0', ',', ' ', \"'\", 'p', 'r', 'o', 'r', 'a', 't', 'e', 'd', '_', 'r', 'e', 'n', 't', \"'\", ':', ' ', 'N', 'o', 'n', 'e', ',', \"'\", 's', 'e', 'c', 'u', 'r', 'i', 't', 'y', '_', 'd', 'e', 'p', 'o', 's', 'i', 't', \"'\", ':', ' ', '2', '0', '0', '.', '0', ',', ' ', \"'\", 'l', 'e', 'a', 's', 'e', '_', 'r', 'e', 'n', 't', \"'\", ':', ' ', '2', '1', '0', '9', '6', '.', '0', ',', \"'\", 'm', 'o', 'n', 't', 'h', 'l', 'y', '_', 'p', 'a', 'y', 'm', 'e', 'n', 't', '_', 'b', 'r', 'e', 'a', 'k', 'd', 'o', 'w', 'n', \"'\", ':', ' ', 'N', 'o', 'n', 'e', ',', ' ', \"'\", 'u', 't', 'i', 'l', 'i', 't', 'y', '_', 'c', 'h', 'a', 'r', 'g', 'e', 's', \"'\", ':', ' ', 'N', 'o', 'n', 'e'], [\"'\", 't', 'e', 'n', 'a', 'n', 't', '_', 'n', 'a', 'm', 'e', \"'\", ':', ' ', \"'\", 'L', 'e', 'o', 'b', 'o', 'u', 'c', 'h', 'e', 'r', 'e', 'a', 'u', \"'\", ',', ' ', \"'\", 'u', 'n', 'i', 't', '_', 'a', 'd', 'd', 'r', 'e', 's', 's', \"'\", ':', ' ', 'N', 'o', 'n', 'e', ',', ' ', \"'\", 'u', 'n', 'i', 't', '_', 'n', 'u', 'm', 'b', 'e', 'r', \"'\", ':', ' ', 'N', 'o', 'n', 'e', ',', ' ', \"'\", 'u', 'n', 'i', 't', '_', 't', 'y', 'p', 'e', \"'\", ':', ' ', 'N', 'o', 'n', 'e', ',', ' ', \"'\", 'a', 'g', 'r', 'e', 'e', 'm', 'e', 'n', 't', '_', 'd', 'a', 't', 'e', \"'\", ':', ' ', \"'\", '2', '0', '2', '2', '-', '1', '2', '-', '0', '3', \"'\", ',', ' ', \"'\", 'l', 'e', 'a', 's', 'e', '_', 's', 't', 'a', 'r', 't', \"'\", ':', ' ', 'N', 'o', 'n', 'e', ',', ' ', \"'\", 'l', 'e', 'a', 's', 'e', '_', 'e', 'n', 'd', \"'\", ':', ' ', 'N', 'o', 'n', 'e', ',', ' ', \"'\", 'l', 'e', 'a', 's', 'e', '_', 'a', 'u', 't', 'o', '_', 'r', 'e', 'n', 'e', 'w', \"'\", ':', ' ', 'N', 'o', 'n', 'e', ',', ' ', \"'\", 'h', 'o', 'u', 'r', 'l', 'y', '_', 'r', 'a', 't', 'e', \"'\", ':', ' ', 'N', 'o', 'n', 'e', ',', \"'\", 'm', 'o', 'n', 't', 'h', 'l', 'y', '_', 'r', 'e', 'n', 't', \"'\", ':', ' ', 'N', 'o', 'n', 'e', ',', ' ', \"'\", 'p', 'r', 'o', 'r', 'a', 't', 'e', 'd', '_', 'r', 'e', 'n', 't', \"'\", ':', ' ', 'N', 'o', 'n', 'e', ',', \"'\", 's', 'e', 'c', 'u', 'r', 'i', 't', 'y', '_', 'd', 'e', 'p', 'o', 's', 'i', 't', \"'\", ':', ' ', 'N', 'o', 'n', 'e', ',', ' ', \"'\", 'l', 'e', 'a', 's', 'e', '_', 'r', 'e', 'n', 't', \"'\", ':', ' ', 'N', 'o', 'n', 'e', ',', \"'\", 'm', 'o', 'n', 't', 'h', 'l', 'y', '_', 'p', 'a', 'y', 'm', 'e', 'n', 't', '_', 'b', 'r', 'e', 'a', 'k', 'd', 'o', 'w', 'n', \"'\", ':', ' ', 'N', 'o', 'n', 'e', ',', ' ', \"'\", 'u', 't', 'i', 'l', 'i', 't', 'y', '_', 'c', 'h', 'a', 'r', 'g', 'e', 's', \"'\", ':', ' ', 'N', 'o', 'n', 'e'], [\"'\", 't', 'e', 'n', 'a', 'n', 't', '_', 'n', 'a', 'm', 'e', \"'\", ':', ' ', 'N', 'o', 'n', 'e', ',', ' ', \"'\", 'u', 'n', 'i', 't', '_', 'a', 'd', 'd', 'r', 'e', 's', 's', \"'\", ':', ' ', 'N', 'o', 'n', 'e', ',', ' ', \"'\", 'u', 'n', 'i', 't', '_', 'n', 'u', 'm', 'b', 'e', 'r', \"'\", ':', ' ', 'N', 'o', 'n', 'e', ',', ' ', \"'\", 'u', 'n', 'i', 't', '_', 't', 'y', 'p', 'e', \"'\", ':', ' ', 'N', 'o', 'n', 'e', ',', ' ', \"'\", 'a', 'g', 'r', 'e', 'e', 'm', 'e', 'n', 't', '_', 'd', 'a', 't', 'e', \"'\", ':', ' ', 'N', 'o', 'n', 'e', ',', ' ', \"'\", 'l', 'e', 'a', 's', 'e', '_', 's', 't', 'a', 'r', 't', \"'\", ':', ' ', 'N', 'o', 'n', 'e', ',', ' ', \"'\", 'l', 'e', 'a', 's', 'e', '_', 'e', 'n', 'd', \"'\", ':', ' ', 'N', 'o', 'n', 'e', ',', ' ', \"'\", 'l', 'e', 'a', 's', 'e', '_', 'a', 'u', 't', 'o', '_', 'r', 'e', 'n', 'e', 'w', \"'\", ':', ' ', 'N', 'o', 'n', 'e', ',', ' ', \"'\", 'h', 'o', 'u', 'r', 'l', 'y', '_', 'r', 'a', 't', 'e', \"'\", ':', ' ', 'N', 'o', 'n', 'e', ',', \"'\", 'm', 'o', 'n', 't', 'h', 'l', 'y', '_', 'r', 'e', 'n', 't', \"'\", ':', ' ', 'N', 'o', 'n', 'e', ',', ' ', \"'\", 'p', 'r', 'o', 'r', 'a', 't', 'e', 'd', '_', 'r', 'e', 'n', 't', \"'\", ':', ' ', 'N', 'o', 'n', 'e', ',', \"'\", 's', 'e', 'c', 'u', 'r', 'i', 't', 'y', '_', 'd', 'e', 'p', 'o', 's', 'i', 't', \"'\", ':', ' ', 'N', 'o', 'n', 'e', ',', ' ', \"'\", 'l', 'e', 'a', 's', 'e', '_', 'r', 'e', 'n', 't', \"'\", ':', ' ', 'N', 'o', 'n', 'e', ',', \"'\", 'm', 'o', 'n', 't', 'h', 'l', 'y', '_', 'p', 'a', 'y', 'm', 'e', 'n', 't', '_', 'b', 'r', 'e', 'a', 'k', 'd', 'o', 'w', 'n', \"'\", ':', ' ', 'N', 'o', 'n', 'e', ',', ' ', \"'\", 'u', 't', 'i', 'l', 'i', 't', 'y', '_', 'c', 'h', 'a', 'r', 'g', 'e', 's', \"'\", ':', ' ', 'N', 'o', 'n', 'e']]"
     ]
    }
   ],
   "source": [
    "import evaluate\n",
    "from tqdm import tqdm\n",
    "\n",
    "# Metrics\n",
    "f1_metric = evaluate.load(\"f1\")\n",
    "exact_match_metric = evaluate.load(\"accuracy\")\n",
    "\n",
    "def evaluate_peft_model(sample, max_target_length=512):\n",
    "    # Generate extracted data\n",
    "    input_ids = torch.tensor(sample[\"input_ids\"]).unsqueeze(0).cuda()\n",
    "    outputs = model.generate(input_ids=input_ids, do_sample=True, max_new_tokens=max_target_length)\n",
    "    prediction = tokenizer.decode(outputs[0].detach().cpu().numpy(), skip_special_tokens=True)\n",
    "    \n",
    "    # Decode eval sample\n",
    "    labels = tokenizer.decode(sample['labels'], skip_special_tokens=True)\n",
    " \n",
    "    return prediction, labels\n",
    "\n",
    "# Run predictions\n",
    "predictions, references = [], []\n",
    "for sample in tqdm(tokenized_test_dataset):\n",
    "    prediction, reference = evaluate_peft_model(sample)\n",
    "    predictions.append(prediction)\n",
    "    references.append(reference)\n",
    "\n"
   ]
  },
  {
   "cell_type": "code",
   "execution_count": 38,
   "metadata": {},
   "outputs": [
    {
     "name": "stdout",
     "output_type": "stream",
     "text": [
      "╒═════╤═══════════════════════════════════════════════════════════════════════════════════════════════════════════════════════════════════════════════════════════════════════════════════════════════════════════════════════════════════════════════════════════════════════════════════════════════════════════════════════════════════════════════════════════════════════════════════════════════════════════════════════════════════════════════════════════════════════════════════════════════════════════════════════════════════════════════╤════════════════════════════════════════════════════════════════════════════════════════════════════════════════════════════════════════════════════════════════════════════════════════════════════════════════════════════════════════════════════════════════════════════════════════════════════════════════════════════════════════════════════════════════════════════════════════════════════════════════════════════════════════════════════════════════════════════════════════════════════════════════════════════════════════════════════════════════════════════════════════════════════════════════════════════════════════════════════════════════════════════════════════════════════════════════════════════════════════════════════════════════════════════════════════════════════════════════════════════════════════════════════════════════════════════════════════════════════════════════════════════════════════════════════════════════════════════════════════════════════════════════════════════════════════════════════════════╕\n",
      "│   # │ Reference                                                                                                                                                                                                                                                                                                                                                                                                                                                                                                                                     │ Prediction                                                                                                                                                                                                                                                                                                                                                                                                                                                                                                                                                                                                                                                                                                                                                                                                                                                                                                                                                                                                                                                 │\n",
      "╞═════╪═══════════════════════════════════════════════════════════════════════════════════════════════════════════════════════════════════════════════════════════════════════════════════════════════════════════════════════════════════════════════════════════════════════════════════════════════════════════════════════════════════════════════════════════════════════════════════════════════════════════════════════════════════════════════════════════════════════════════════════════════════════════════════════════════════════════════╪════════════════════════════════════════════════════════════════════════════════════════════════════════════════════════════════════════════════════════════════════════════════════════════════════════════════════════════════════════════════════════════════════════════════════════════════════════════════════════════════════════════════════════════════════════════════════════════════════════════════════════════════════════════════════════════════════════════════════════════════════════════════════════════════════════════════════════════════════════════════════════════════════════════════════════════════════════════════════════════════════════════════════════════════════════════════════════════════════════════════════════════════════════════════════════════════════════════════════════════════════════════════════════════════════════════════════════════════════════════════════════════════════════════════════════════════════════════════════════════════════════════════════════════════════════════════════════════╡\n",
      "│   1 │ 'tenant_name': None, 'unit_address': '333 H Street, Ste. 5000, Chula Vista, CA 91910', 'unit_number': None, 'unit_type': None, 'agreement_date': None, 'lease_start': None, 'lease_end': '2024-03-31', 'lease_auto_renew': None, 'hourly_rate': None,'monthly_rent': 3350.0, 'prorated_rent': 2121.67,'security_deposit': 2500.0, 'lease_rent': None,'monthly_payment_breakdown': 'Liability to Landlord Insurance': 9.5, 'Admin Fee - Liability to Landlord Insurance': 3.0, 'Rent Income': 3350.0, 'Total': 3362.5, 'utility_charges': None │ 'lease_start_date': false, 'lease_end_date': false, 'lease_length_start': false, 'lease_length_end': false, 'lease_length_start': false, 'lease_length_end': false, 'lease_length_start': false, 'lease_length_finish': false, 'lease_length_end': false, 'lease_length_start': [False, False, False, False, False]                                                                                                                                                                                                                                                                                                                                                                                                                                                                                                                                                                                                                                                                                                                                        │\n",
      "├─────┼───────────────────────────────────────────────────────────────────────────────────────────────────────────────────────────────────────────────────────────────────────────────────────────────────────────────────────────────────────────────────────────────────────────────────────────────────────────────────────────────────────────────────────────────────────────────────────────────────────────────────────────────────────────────────────────────────────────────────────────────────────────────────────────────────────────────┼────────────────────────────────────────────────────────────────────────────────────────────────────────────────────────────────────────────────────────────────────────────────────────────────────────────────────────────────────────────────────────────────────────────────────────────────────────────────────────────────────────────────────────────────────────────────────────────────────────────────────────────────────────────────────────────────────────────────────────────────────────────────────────────────────────────────────────────────────────────────────────────────────────────────────────────────────────────────────────────────────────────────────────────────────────────────────────────────────────────────────────────────────────────────────────────────────────────────────────────────────────────────────────────────────────────────────────────────────────────────────────────────────────────────────────────────────────────────────────────────────────────────────────────────────────────────────────────┤\n",
      "│   2 │ 'tenant_name': 'Saray Ramos Gutierrez', 'unit_address': 'Crystal Terrace', 'unit_number': None, 'unit_type': None, 'agreement_date': '2021-11-01', 'lease_start': None, 'lease_end': None, 'lease_auto_renew': None, 'hourly_rate': None,'monthly_rent': None, 'prorated_rent': None,'security_deposit': None, 'lease_rent': None,'monthly_payment_breakdown': None, 'utility_charges': None                                                                                                                                                  │ 'Bedbug Addendum', 'Additional Provisions', 'Unit #', 'Unit #', 'Date', 'Lease', 'Landlord', 'Additional Provisions', 'Unit #', 'Unit #', 'Deposit', 'Unit #', 'Lease Requirements'                                                                                                                                                                                                                                                                                                                                                                                                                                                                                                                                                                                                                                                                                                                                                                                                                                                                        │\n",
      "├─────┼───────────────────────────────────────────────────────────────────────────────────────────────────────────────────────────────────────────────────────────────────────────────────────────────────────────────────────────────────────────────────────────────────────────────────────────────────────────────────────────────────────────────────────────────────────────────────────────────────────────────────────────────────────────────────────────────────────────────────────────────────────────────────────────────────────────────┼────────────────────────────────────────────────────────────────────────────────────────────────────────────────────────────────────────────────────────────────────────────────────────────────────────────────────────────────────────────────────────────────────────────────────────────────────────────────────────────────────────────────────────────────────────────────────────────────────────────────────────────────────────────────────────────────────────────────────────────────────────────────────────────────────────────────────────────────────────────────────────────────────────────────────────────────────────────────────────────────────────────────────────────────────────────────────────────────────────────────────────────────────────────────────────────────────────────────────────────────────────────────────────────────────────────────────────────────────────────────────────────────────────────────────────────────────────────────────────────────────────────────────────────────────────────────────────────┤\n",
      "│   3 │ 'tenant_name': 'Claudia Spooney', 'unit_address': '5604 Villas Cir Apt E, Montgomery, AL', 'unit_number': '5604E', 'unit_type': None, 'agreement_date': '2023-02-21', 'lease_start': '2023-02-28', 'lease_end': '2024-02-29', 'lease_auto_renew': None, 'hourly_rate': None,'monthly_rent': None, 'prorated_rent': None,'security_deposit': 0.0, 'lease_rent': None,'monthly_payment_breakdown': None, 'utility_charges': None                                                                                                                │ 'Apartment': \"5604E\",\"UnitType\": None,\"CarSpace\": None,\"Location\": None,\"CommonRmDen\": None,\"CommonLocation\": None,\"LeaseTerm\": None,\"LeasePrice\": None,\"Benefits\": None \"Call\": None \"CommonLocation\": None                                                                                                                                                                                                                                                                                                                                                                                                                                                                                                                                                                                                                                                                                                                                                                                                                                               │\n",
      "├─────┼───────────────────────────────────────────────────────────────────────────────────────────────────────────────────────────────────────────────────────────────────────────────────────────────────────────────────────────────────────────────────────────────────────────────────────────────────────────────────────────────────────────────────────────────────────────────────────────────────────────────────────────────────────────────────────────────────────────────────────────────────────────────────────────────────────────────┼────────────────────────────────────────────────────────────────────────────────────────────────────────────────────────────────────────────────────────────────────────────────────────────────────────────────────────────────────────────────────────────────────────────────────────────────────────────────────────────────────────────────────────────────────────────────────────────────────────────────────────────────────────────────────────────────────────────────────────────────────────────────────────────────────────────────────────────────────────────────────────────────────────────────────────────────────────────────────────────────────────────────────────────────────────────────────────────────────────────────────────────────────────────────────────────────────────────────────────────────────────────────────────────────────────────────────────────────────────────────────────────────────────────────────────────────────────────────────────────────────────────────────────────────────────────────────────────┤\n",
      "│   4 │ 'tenant_name': None, 'unit_address': None, 'unit_number': None, 'unit_type': None, 'agreement_date': None, 'lease_start': None, 'lease_end': None, 'lease_auto_renew': None, 'hourly_rate': None,'monthly_rent': 1046.0, 'prorated_rent': None,'security_deposit': None, 'lease_rent': None,'monthly_payment_breakdown': None, 'utility_charges': 'electric_service': None, 'water_and_sewer': None, 'gas': None, 'trash': None, 'common_area_electric': None,'monthly_billing_fee': 4.99                                                     │ 'UnitType': 'Units', 'Leaseperiod': '10 Months', 'Leaselength': '10 Months', 'Leaseterm': '10 Months', 'Leasecost': '1 Month', 'Leasemonth': '1 Month', 'Leaselength': '10 Months', 'Leasetype': 'Lease/Leases', 'Rent': '1 Month', 'Leasecount': '1 Month', 'Term': '10 Months', 'Leaseterm': '10 Months'                                                                                                                                                                                                                                                                                                                                                                                                                                                                                                                                                                                                                                                                                                                                                 │\n",
      "├─────┼───────────────────────────────────────────────────────────────────────────────────────────────────────────────────────────────────────────────────────────────────────────────────────────────────────────────────────────────────────────────────────────────────────────────────────────────────────────────────────────────────────────────────────────────────────────────────────────────────────────────────────────────────────────────────────────────────────────────────────────────────────────────────────────────────────────────┼────────────────────────────────────────────────────────────────────────────────────────────────────────────────────────────────────────────────────────────────────────────────────────────────────────────────────────────────────────────────────────────────────────────────────────────────────────────────────────────────────────────────────────────────────────────────────────────────────────────────────────────────────────────────────────────────────────────────────────────────────────────────────────────────────────────────────────────────────────────────────────────────────────────────────────────────────────────────────────────────────────────────────────────────────────────────────────────────────────────────────────────────────────────────────────────────────────────────────────────────────────────────────────────────────────────────────────────────────────────────────────────────────────────────────────────────────────────────────────────────────────────────────────────────────────────────────────────┤\n",
      "│   5 │ 'tenant_name': None, 'unit_address': None, 'unit_number': None, 'unit_type': None, 'agreement_date': None, 'lease_start': None, 'lease_end': None, 'lease_auto_renew': None, 'hourly_rate': None,'monthly_rent': None, 'prorated_rent': None,'security_deposit': None, 'lease_rent': None,'monthly_payment_breakdown': None, 'utility_charges': None                                                                                                                                                                                          │ 'Leasant_name', 'Lease_end', 'Lease_start', 'Lease_end', 'Lease_acceptance', 'Lease_security_payment', 'Lease_security_rent' 'Agreement_Length'                                                                                                                                                                                                                                                                                                                                                                                                                                                                                                                                                                                                                                                                                                                                                                                                                                                                                                            │\n",
      "├─────┼───────────────────────────────────────────────────────────────────────────────────────────────────────────────────────────────────────────────────────────────────────────────────────────────────────────────────────────────────────────────────────────────────────────────────────────────────────────────────────────────────────────────────────────────────────────────────────────────────────────────────────────────────────────────────────────────────────────────────────────────────────────────────────────────────────────────┼────────────────────────────────────────────────────────────────────────────────────────────────────────────────────────────────────────────────────────────────────────────────────────────────────────────────────────────────────────────────────────────────────────────────────────────────────────────────────────────────────────────────────────────────────────────────────────────────────────────────────────────────────────────────────────────────────────────────────────────────────────────────────────────────────────────────────────────────────────────────────────────────────────────────────────────────────────────────────────────────────────────────────────────────────────────────────────────────────────────────────────────────────────────────────────────────────────────────────────────────────────────────────────────────────────────────────────────────────────────────────────────────────────────────────────────────────────────────────────────────────────────────────────────────────────────────────────────┤\n",
      "│   6 │ 'tenant_name': None, 'unit_address': None, 'unit_number': None, 'unit_type': None, 'agreement_date': None, 'lease_start': None, 'lease_end': None, 'lease_auto_renew': None, 'hourly_rate': None,'monthly_rent': None, 'prorated_rent': None,'security_deposit': None, 'lease_rent': None,'monthly_payment_breakdown': None, 'utility_charges': None                                                                                                                                                                                          │ 'agreement_date':'start_month':'start_month', 'end_month': 'end_month', 'numeric_agreement_number': 'numeric_agreement_number', 'lease_start':'month', 'lease_end':'month', 'cease_payment': $_____', 'lease_start': $____''lease_start':'month''exit_date': 'break', 'vacation_start': $____'lease_start': $___'move_in': $___''a_lease_start': $___                                                                                                                                                                                                                                                                                                                                                                                                                                                                                                                                                                                                                                                                                                      │\n",
      "├─────┼───────────────────────────────────────────────────────────────────────────────────────────────────────────────────────────────────────────────────────────────────────────────────────────────────────────────────────────────────────────────────────────────────────────────────────────────────────────────────────────────────────────────────────────────────────────────────────────────────────────────────────────────────────────────────────────────────────────────────────────────────────────────────────────────────────────────┼────────────────────────────────────────────────────────────────────────────────────────────────────────────────────────────────────────────────────────────────────────────────────────────────────────────────────────────────────────────────────────────────────────────────────────────────────────────────────────────────────────────────────────────────────────────────────────────────────────────────────────────────────────────────────────────────────────────────────────────────────────────────────────────────────────────────────────────────────────────────────────────────────────────────────────────────────────────────────────────────────────────────────────────────────────────────────────────────────────────────────────────────────────────────────────────────────────────────────────────────────────────────────────────────────────────────────────────────────────────────────────────────────────────────────────────────────────────────────────────────────────────────────────────────────────────────────────────┤\n",
      "│   7 │ 'tenant_name': 'Benjamin Breier', 'unit_address': '1722 Greene Ave, Queens, New York 11385', 'unit_number': '1-L', 'unit_type': 'Apartment', 'agreement_date': '2022-08-08', 'lease_start': '2022-10-01', 'lease_end': '2023-09-30', 'lease_auto_renew': None, 'hourly_rate': None,'monthly_rent': 2581.25, 'prorated_rent': None,'security_deposit': 2581.25, 'lease_rent': 30975,'monthly_payment_breakdown': None, 'utility_charges': None                                                                                                 │ 'Lander': None, 'Lander_Number': None, 'Lander_Street_Identifier': None, 'Lander_Number': None, 'Lander_Building': None, 'Lander_Building_Location': None, 'Lander_Number': None, 'Lander_Name': None, 'Lander_Property_Price': None, 'Lander_Perimeter': None, 'Lander_Self_Identify': None, 'Landmark': None, 'Landmark_Field': None, 'Lander_Lay_Out': None, 'Landmark_Self_Renewal': None, 'Landmark_Lease': None, 'Landmark_Options': None, 'Landmark_Renew': None, 'Landmark_Renew': None, 'Landmark_Self_Renew': None, 'Lander_Self_Renew': None, 'Landmark_Renew': None, 'Landmark_Path': None, 'Landmark_Self_Renew': None, 'Landmark_Self_Renew': None, 'Landmark_Self_Renew': None 'Landlord': None, 'Person': None, 'Tenant': None, 'Room_Size': None, 'Payable_amount': None, 'End_Date': None, 'Devictee_Date': None'Transfer_Payment': None'Lease_Term': None'Leases_Term': None'Term_End': None'End_Date': None'Lease_Term': None                                                                                                          │\n",
      "├─────┼───────────────────────────────────────────────────────────────────────────────────────────────────────────────────────────────────────────────────────────────────────────────────────────────────────────────────────────────────────────────────────────────────────────────────────────────────────────────────────────────────────────────────────────────────────────────────────────────────────────────────────────────────────────────────────────────────────────────────────────────────────────────────────────────────────────────┼────────────────────────────────────────────────────────────────────────────────────────────────────────────────────────────────────────────────────────────────────────────────────────────────────────────────────────────────────────────────────────────────────────────────────────────────────────────────────────────────────────────────────────────────────────────────────────────────────────────────────────────────────────────────────────────────────────────────────────────────────────────────────────────────────────────────────────────────────────────────────────────────────────────────────────────────────────────────────────────────────────────────────────────────────────────────────────────────────────────────────────────────────────────────────────────────────────────────────────────────────────────────────────────────────────────────────────────────────────────────────────────────────────────────────────────────────────────────────────────────────────────────────────────────────────────────────────────┤\n",
      "│   8 │ 'tenant_name': 'Taylor Whittle', 'unit_address': None, 'unit_number': None, 'unit_type': None, 'agreement_date': '2023-02-27', 'lease_start': None, 'lease_end': None, 'lease_auto_renew': None, 'hourly_rate': None,'monthly_rent': None, 'prorated_rent': None,'security_deposit': None, 'lease_rent': None,'monthly_payment_breakdown': None, 'utility_charges': None                                                                                                                                                                      │ ['First Month', 'Common Area', 'Unit', 'Lease Start', 'Lease Rent', 'Lease Price', 'Lease Rent'], ['Lease, Ground, Rent, Gas and Electric', 'Lease Rent', 'Holiday, Ground, Rent']                                                                                                                                                                                                                                                                                                                                                                                                                                                                                                                                                                                                                                                                                                                                                                                                                                                                         │\n",
      "├─────┼───────────────────────────────────────────────────────────────────────────────────────────────────────────────────────────────────────────────────────────────────────────────────────────────────────────────────────────────────────────────────────────────────────────────────────────────────────────────────────────────────────────────────────────────────────────────────────────────────────────────────────────────────────────────────────────────────────────────────────────────────────────────────────────────────────────────┼────────────────────────────────────────────────────────────────────────────────────────────────────────────────────────────────────────────────────────────────────────────────────────────────────────────────────────────────────────────────────────────────────────────────────────────────────────────────────────────────────────────────────────────────────────────────────────────────────────────────────────────────────────────────────────────────────────────────────────────────────────────────────────────────────────────────────────────────────────────────────────────────────────────────────────────────────────────────────────────────────────────────────────────────────────────────────────────────────────────────────────────────────────────────────────────────────────────────────────────────────────────────────────────────────────────────────────────────────────────────────────────────────────────────────────────────────────────────────────────────────────────────────────────────────────────────────────────┤\n",
      "│   9 │ 'tenant_name': 'Zoey Medina', 'unit_address': 'SPRINGHILL APARTMENTS', 'unit_number': '01102', 'unit_type': None, 'agreement_date': '2023-03-06', 'lease_start': '2023-03-06', 'lease_end': None, 'lease_auto_renew': None, 'hourly_rate': None,'monthly_rent': None, 'prorated_rent': None,'security_deposit': None, 'lease_rent': None,'monthly_payment_breakdown': None, 'utility_charges': None                                                                                                                                           │ - Tenant's_name - Tenant's_Location - Address - Tenant's_Location - City - Trash-Receipts - Maintenance-Resident_Summary - Location - Access - Services - Tenant's_UnitType - Tenant_Statement - Tenant_StatementRange - Tenant_Resident_Range - Tenant_Statement - Tenant_Statement - UnitCount - LeaseTerm - Units - Terms - Tenant_Statement - Tenant_Options - Tenant_ReservedOptions                                                                                                                                                                                                                                                                                                                                                                                                                                                                                                                                                                                                                                                                  │\n",
      "├─────┼───────────────────────────────────────────────────────────────────────────────────────────────────────────────────────────────────────────────────────────────────────────────────────────────────────────────────────────────────────────────────────────────────────────────────────────────────────────────────────────────────────────────────────────────────────────────────────────────────────────────────────────────────────────────────────────────────────────────────────────────────────────────────────────────────────────────┼────────────────────────────────────────────────────────────────────────────────────────────────────────────────────────────────────────────────────────────────────────────────────────────────────────────────────────────────────────────────────────────────────────────────────────────────────────────────────────────────────────────────────────────────────────────────────────────────────────────────────────────────────────────────────────────────────────────────────────────────────────────────────────────────────────────────────────────────────────────────────────────────────────────────────────────────────────────────────────────────────────────────────────────────────────────────────────────────────────────────────────────────────────────────────────────────────────────────────────────────────────────────────────────────────────────────────────────────────────────────────────────────────────────────────────────────────────────────────────────────────────────────────────────────────────────────────────────┤\n",
      "│  10 │ 'tenant_name': None, 'unit_address': None, 'unit_number': None, 'unit_type': None, 'agreement_date': None, 'lease_start': None, 'lease_end': None, 'lease_auto_renew': None, 'hourly_rate': None,'monthly_rent': None, 'prorated_rent': None,'security_deposit': None, 'lease_rent': None,'monthly_payment_breakdown': None, 'utility_charges': None                                                                                                                                                                                          │ 'lease_date': 'April 15','rent_per_month': '$900', 'tenant_name': '1', 'dwelling_name': '2', 'unit_number_of_a_unit': '8', 'lease_start': '15', 'lease_termination': '21', 'deposit_required_date': '5','remainder_rent': '$300','rent_amt'(unit_type): '3', 'guarantee': '3,500']                                                                                                                                                                                                                                                                                                                                                                                                                                                                                                                                                                                                                                                                                                                                                                         │\n",
      "├─────┼───────────────────────────────────────────────────────────────────────────────────────────────────────────────────────────────────────────────────────────────────────────────────────────────────────────────────────────────────────────────────────────────────────────────────────────────────────────────────────────────────────────────────────────────────────────────────────────────────────────────────────────────────────────────────────────────────────────────────────────────────────────────────────────────────────────────┼────────────────────────────────────────────────────────────────────────────────────────────────────────────────────────────────────────────────────────────────────────────────────────────────────────────────────────────────────────────────────────────────────────────────────────────────────────────────────────────────────────────────────────────────────────────────────────────────────────────────────────────────────────────────────────────────────────────────────────────────────────────────────────────────────────────────────────────────────────────────────────────────────────────────────────────────────────────────────────────────────────────────────────────────────────────────────────────────────────────────────────────────────────────────────────────────────────────────────────────────────────────────────────────────────────────────────────────────────────────────────────────────────────────────────────────────────────────────────────────────────────────────────────────────────────────────────────────┤\n",
      "│  11 │ 'tenant_name': 'Mac', 'unit_address': '850 Shoal Run Trail, Birmingham, AL', 'unit_number': None, 'unit_type': None, 'agreement_date': None, 'lease_start': None, 'lease_end': None, 'lease_auto_renew': None, 'hourly_rate': None,'monthly_rent': None, 'prorated_rent': None,'security_deposit': None, 'lease_rent': None,'monthly_payment_breakdown': None, 'utility_charges': None                                                                                                                                                        │ ']                                                                                                                                                                                                                                                                                                                                                                                                                                                                                                                                                                                                                                                                                                                                                                                                                                                                                                                                                                                                                                                         │\n",
      "├─────┼───────────────────────────────────────────────────────────────────────────────────────────────────────────────────────────────────────────────────────────────────────────────────────────────────────────────────────────────────────────────────────────────────────────────────────────────────────────────────────────────────────────────────────────────────────────────────────────────────────────────────────────────────────────────────────────────────────────────────────────────────────────────────────────────────────────────┼────────────────────────────────────────────────────────────────────────────────────────────────────────────────────────────────────────────────────────────────────────────────────────────────────────────────────────────────────────────────────────────────────────────────────────────────────────────────────────────────────────────────────────────────────────────────────────────────────────────────────────────────────────────────────────────────────────────────────────────────────────────────────────────────────────────────────────────────────────────────────────────────────────────────────────────────────────────────────────────────────────────────────────────────────────────────────────────────────────────────────────────────────────────────────────────────────────────────────────────────────────────────────────────────────────────────────────────────────────────────────────────────────────────────────────────────────────────────────────────────────────────────────────────────────────────────────────────┤\n",
      "│  12 │ 'tenant_name': None, 'unit_address': None, 'unit_number': None, 'unit_type': None, 'agreement_date': None, 'lease_start': None, 'lease_end': None, 'lease_auto_renew': None, 'hourly_rate': None,'monthly_rent': None, 'prorated_rent': None,'security_deposit': None, 'lease_rent': None,'monthly_payment_breakdown': None, 'utility_charges': None                                                                                                                                                                                          │ 'Units': 0, 'Location': 0, 'Units_in': 0, 'Units_out': 0, 'Venue_type': 0, 'Rental_price': 0, 'Value': 0, 'RentRate': 0, 'Remainder_Amount': 0                                                                                                                                                                                                                                                                                                                                                                                                                                                                                                                                                                                                                                                                                                                                                                                                                                                                                                             │\n",
      "├─────┼───────────────────────────────────────────────────────────────────────────────────────────────────────────────────────────────────────────────────────────────────────────────────────────────────────────────────────────────────────────────────────────────────────────────────────────────────────────────────────────────────────────────────────────────────────────────────────────────────────────────────────────────────────────────────────────────────────────────────────────────────────────────────────────────────────────────┼────────────────────────────────────────────────────────────────────────────────────────────────────────────────────────────────────────────────────────────────────────────────────────────────────────────────────────────────────────────────────────────────────────────────────────────────────────────────────────────────────────────────────────────────────────────────────────────────────────────────────────────────────────────────────────────────────────────────────────────────────────────────────────────────────────────────────────────────────────────────────────────────────────────────────────────────────────────────────────────────────────────────────────────────────────────────────────────────────────────────────────────────────────────────────────────────────────────────────────────────────────────────────────────────────────────────────────────────────────────────────────────────────────────────────────────────────────────────────────────────────────────────────────────────────────────────────────────┤\n",
      "│  13 │ 'tenant_name': None, 'unit_address': None, 'unit_number': None, 'unit_type': None, 'agreement_date': None, 'lease_start': None, 'lease_end': None, 'lease_auto_renew': None, 'hourly_rate': None,'monthly_rent': None, 'prorated_rent': None,'security_deposit': None, 'lease_rent': None,'monthly_payment_breakdown': None, 'utility_charges': None                                                                                                                                                                                          │ 'Tenant': none, 'Landlord': none, 'Assignee': none, 'Site': None, 'Units': None, 'Operating Expenses': None, 'Units': None, 'Two-Tank': None, 'Units': None, 'Third Party Items': None, 'Certificates': None, 'Units': None, 'Waste Removal': None                                                                                                                                                                                                                                                                                                                                                                                                                                                                                                                                                                                                                                                                                                                                                                                                         │\n",
      "├─────┼───────────────────────────────────────────────────────────────────────────────────────────────────────────────────────────────────────────────────────────────────────────────────────────────────────────────────────────────────────────────────────────────────────────────────────────────────────────────────────────────────────────────────────────────────────────────────────────────────────────────────────────────────────────────────────────────────────────────────────────────────────────────────────────────────────────────┼────────────────────────────────────────────────────────────────────────────────────────────────────────────────────────────────────────────────────────────────────────────────────────────────────────────────────────────────────────────────────────────────────────────────────────────────────────────────────────────────────────────────────────────────────────────────────────────────────────────────────────────────────────────────────────────────────────────────────────────────────────────────────────────────────────────────────────────────────────────────────────────────────────────────────────────────────────────────────────────────────────────────────────────────────────────────────────────────────────────────────────────────────────────────────────────────────────────────────────────────────────────────────────────────────────────────────────────────────────────────────────────────────────────────────────────────────────────────────────────────────────────────────────────────────────────────────────────┤\n",
      "│  14 │ 'tenant_name': None, 'unit_address': None, 'unit_number': None, 'unit_type': None, 'agreement_date': None, 'lease_start': None, 'lease_end': None, 'lease_auto_renew': None, 'hourly_rate': None,'monthly_rent': None, 'prorated_rent': None,'security_deposit': None, 'lease_rent': None,'monthly_payment_breakdown': None, 'utility_charges': 'gas': None, 'electricity': None, 'telephone': None, 'cable television': None                                                                                                                 │ 'BuildING_NUMBER': None, 'Location': None, 'CommercialLease': None, 'Lease_TERM': None, 'Lease_FEE': None, 'Service_DOCUMENT': None, 'Lease_TENANT_AID': None, 'Lease_AMOUNT': None, 'Lease_MONTHLY_RENT': None, 'Lease_FEES': None, 'Lease_RENT': None, 'Lease_FEES': None, 'Lease_TERM': None, 'Lease_PLAN': None, 'Lease_REQUIRED_COSTS': None, 'Lease_RENTAL': None, 'Lease_INSURANCE': None, 'Lease_Waiver': None, 'Lease_TERMINATION': None, 'Special_Operating_Caution': None, 'Lease_CONDITIONS': None, 'Lease_TERM_LOCATION_FEES': None, 'Lease_TERMINATION_COSTS': None, 'Lease_TERMINATION_COSTS': None, 'Lease_DEPOSIT': None, 'Lease_DEPARTMENT_FEES': None, 'Lease_TENANT_ADMINISTRATIVE_FEES': None, 'Lease_TERMINATION_CHARGES': None.                                                                                                                                                                                                                                                                                                     │\n",
      "├─────┼───────────────────────────────────────────────────────────────────────────────────────────────────────────────────────────────────────────────────────────────────────────────────────────────────────────────────────────────────────────────────────────────────────────────────────────────────────────────────────────────────────────────────────────────────────────────────────────────────────────────────────────────────────────────────────────────────────────────────────────────────────────────────────────────────────────────┼────────────────────────────────────────────────────────────────────────────────────────────────────────────────────────────────────────────────────────────────────────────────────────────────────────────────────────────────────────────────────────────────────────────────────────────────────────────────────────────────────────────────────────────────────────────────────────────────────────────────────────────────────────────────────────────────────────────────────────────────────────────────────────────────────────────────────────────────────────────────────────────────────────────────────────────────────────────────────────────────────────────────────────────────────────────────────────────────────────────────────────────────────────────────────────────────────────────────────────────────────────────────────────────────────────────────────────────────────────────────────────────────────────────────────────────────────────────────────────────────────────────────────────────────────────────────────────────┤\n",
      "│  15 │ 'tenant_name': 'Benjamin Breier', 'unit_address': '1722 Greene Ave, Queens, New York 11385', 'unit_number': '1-L', 'unit_type': 'Apartment', 'agreement_date': '2022-08-08', 'lease_start': '2022-10-01', 'lease_end': '2023-09-30', 'lease_auto_renew': None, 'hourly_rate': None,'monthly_rent': 2581.25, 'prorated_rent': None,'security_deposit': 2581.25, 'lease_rent': 30975,'monthly_payment_breakdown': None, 'utility_charges': None                                                                                                 │ 'apt_number': None, 'unit_rent': None, 'address': None, 'unit_name': None, 'unit_type': None, 'lease_period': None, 'payment_period': None, 'lease_year': None,'monthly_rent': None, 'prorated_rent': None, 'election_period': None, 'tenant_deposit': None,'monthly_rent': None, 'lease_monthly_remainder': None, 'lease_amount': None, 'lease_security': None, 'lease_lease_end': None,'monthly_rent_total': None,'monthly_payment_scheme': None,'security_deposit': None, 'lease_breakdown': None,'rent_termination': None, 'lease_end': None                                                                                                                                                                                                                                                                                                                                                                                                                                                                                                           │\n",
      "├─────┼───────────────────────────────────────────────────────────────────────────────────────────────────────────────────────────────────────────────────────────────────────────────────────────────────────────────────────────────────────────────────────────────────────────────────────────────────────────────────────────────────────────────────────────────────────────────────────────────────────────────────────────────────────────────────────────────────────────────────────────────────────────────────────────────────────────────┼────────────────────────────────────────────────────────────────────────────────────────────────────────────────────────────────────────────────────────────────────────────────────────────────────────────────────────────────────────────────────────────────────────────────────────────────────────────────────────────────────────────────────────────────────────────────────────────────────────────────────────────────────────────────────────────────────────────────────────────────────────────────────────────────────────────────────────────────────────────────────────────────────────────────────────────────────────────────────────────────────────────────────────────────────────────────────────────────────────────────────────────────────────────────────────────────────────────────────────────────────────────────────────────────────────────────────────────────────────────────────────────────────────────────────────────────────────────────────────────────────────────────────────────────────────────────────────────┤\n",
      "│  16 │ 'tenant_name': None, 'unit_address': None, 'unit_number': None, 'unit_type': None, 'agreement_date': None, 'lease_start': None, 'lease_end': None, 'lease_auto_renew': None, 'hourly_rate': None,'monthly_rent': None, 'prorated_rent': None,'security_deposit': 550.0, 'lease_rent': None,'monthly_payment_breakdown': None, 'utility_charges': None                                                                                                                                                                                         │ -units, -length, -tenant, -lease_length, -lease_period, -tenant_name, -tenant_first_floor, -tenant_last_floor, -lease_amount, -lease_spread, -lease_monthly, -lease_prorated, -lease_returnable, -lease_end_date, -lease_end_date_returnable,                                                                                                                                                                                                                                                                                                                                                                                                                                                                                                                                                                                                                                                                                                                                                                                                              │\n",
      "├─────┼───────────────────────────────────────────────────────────────────────────────────────────────────────────────────────────────────────────────────────────────────────────────────────────────────────────────────────────────────────────────────────────────────────────────────────────────────────────────────────────────────────────────────────────────────────────────────────────────────────────────────────────────────────────────────────────────────────────────────────────────────────────────────────────────────────────────┼────────────────────────────────────────────────────────────────────────────────────────────────────────────────────────────────────────────────────────────────────────────────────────────────────────────────────────────────────────────────────────────────────────────────────────────────────────────────────────────────────────────────────────────────────────────────────────────────────────────────────────────────────────────────────────────────────────────────────────────────────────────────────────────────────────────────────────────────────────────────────────────────────────────────────────────────────────────────────────────────────────────────────────────────────────────────────────────────────────────────────────────────────────────────────────────────────────────────────────────────────────────────────────────────────────────────────────────────────────────────────────────────────────────────────────────────────────────────────────────────────────────────────────────────────────────────────────────┤\n",
      "│  17 │ 'tenant_name': None, 'unit_address': None, 'unit_number': None, 'unit_type': None, 'agreement_date': None, 'lease_start': None, 'lease_end': None, 'lease_auto_renew': None, 'hourly_rate': None,'monthly_rent': None, 'prorated_rent': None,'security_deposit': None, 'lease_rent': None,'monthly_payment_breakdown': None, 'utility_charges': None                                                                                                                                                                                          │ Landlord, Address, Landlord_Building, None                                                                                                                                                                                                                                                                                                                                                                                                                                                                                                                                                                                                                                                                                                                                                                                                                                                                                                                                                                                                                 │\n",
      "├─────┼───────────────────────────────────────────────────────────────────────────────────────────────────────────────────────────────────────────────────────────────────────────────────────────────────────────────────────────────────────────────────────────────────────────────────────────────────────────────────────────────────────────────────────────────────────────────────────────────────────────────────────────────────────────────────────────────────────────────────────────────────────────────────────────────────────────────┼────────────────────────────────────────────────────────────────────────────────────────────────────────────────────────────────────────────────────────────────────────────────────────────────────────────────────────────────────────────────────────────────────────────────────────────────────────────────────────────────────────────────────────────────────────────────────────────────────────────────────────────────────────────────────────────────────────────────────────────────────────────────────────────────────────────────────────────────────────────────────────────────────────────────────────────────────────────────────────────────────────────────────────────────────────────────────────────────────────────────────────────────────────────────────────────────────────────────────────────────────────────────────────────────────────────────────────────────────────────────────────────────────────────────────────────────────────────────────────────────────────────────────────────────────────────────────────────┤\n",
      "│  18 │ 'tenant_name': None, 'unit_address': None, 'unit_number': None, 'unit_type': None, 'agreement_date': None, 'lease_start': '2023-02-25', 'lease_end': None, 'lease_auto_renew': None, 'hourly_rate': None,'monthly_rent': None, 'prorated_rent': None,'security_deposit': None, 'lease_rent': None,'monthly_payment_breakdown': None, 'utility_charges': None                                                                                                                                                                                  │ \"Unit_address,\",\"Unit_unit_count,\",\"Unit_location,\",\"Unit_type,\".\",\"Unit_floor_count,\",\"Unit_height,\",\"Unit_lease_term,\",\"Unit_lease_amount,\",\"Unit_lease_length,\",\"Unit_lease_term \",\"Unit_lease_amount,\",\"Unit_lease_payment,\",\"Unit_lease_payment_amount,\",\"Unit_lease_term,\",\"Unit_lease_review,\" \"Unit_lease_amount,\",\"Unit_lease_payment_amount,\",\"Unit_lease_rent,\",\"Unit_lease_payment_review,\"                                                                                                                                                                                                                                                                                                                                                                                                                                                                                                                                                                                                                                                    │\n",
      "├─────┼───────────────────────────────────────────────────────────────────────────────────────────────────────────────────────────────────────────────────────────────────────────────────────────────────────────────────────────────────────────────────────────────────────────────────────────────────────────────────────────────────────────────────────────────────────────────────────────────────────────────────────────────────────────────────────────────────────────────────────────────────────────────────────────────────────────────┼────────────────────────────────────────────────────────────────────────────────────────────────────────────────────────────────────────────────────────────────────────────────────────────────────────────────────────────────────────────────────────────────────────────────────────────────────────────────────────────────────────────────────────────────────────────────────────────────────────────────────────────────────────────────────────────────────────────────────────────────────────────────────────────────────────────────────────────────────────────────────────────────────────────────────────────────────────────────────────────────────────────────────────────────────────────────────────────────────────────────────────────────────────────────────────────────────────────────────────────────────────────────────────────────────────────────────────────────────────────────────────────────────────────────────────────────────────────────────────────────────────────────────────────────────────────────────────────┤\n",
      "│  19 │ 'tenant_name': None, 'unit_address': None, 'unit_number': None, 'unit_type': None, 'agreement_date': None, 'lease_start': None, 'lease_end': None, 'lease_auto_renew': None, 'hourly_rate': None,'monthly_rent': None, 'prorated_rent': None,'security_deposit': None, 'lease_rent': None,'monthly_payment_breakdown': None, 'utility_charges': None                                                                                                                                                                                          │ 'Area_Units': None,'Units_type': None,'Units_no_acceptance': None,'Units_no_lease_required': None,'Units_lease_paid': None,'Units_lease_paid': None,'Units_rent': None,'Units_remainder_rent': None,'Units_lease_pay': None,'Units_rent_paid': None,'Units_lease_paid': None,'Units_rent_paid': None,'Units_rent = None': None,'Units_rent_paid\": None,'Units_rent_paid': None,'Units_rent_paid': None,'Units_rent_paid': None                                                                                                                                                                                                                                                                                                                                                                                                                                                                                                                                                                                                                             │\n",
      "├─────┼───────────────────────────────────────────────────────────────────────────────────────────────────────────────────────────────────────────────────────────────────────────────────────────────────────────────────────────────────────────────────────────────────────────────────────────────────────────────────────────────────────────────────────────────────────────────────────────────────────────────────────────────────────────────────────────────────────────────────────────────────────────────────────────────────────────────┼────────────────────────────────────────────────────────────────────────────────────────────────────────────────────────────────────────────────────────────────────────────────────────────────────────────────────────────────────────────────────────────────────────────────────────────────────────────────────────────────────────────────────────────────────────────────────────────────────────────────────────────────────────────────────────────────────────────────────────────────────────────────────────────────────────────────────────────────────────────────────────────────────────────────────────────────────────────────────────────────────────────────────────────────────────────────────────────────────────────────────────────────────────────────────────────────────────────────────────────────────────────────────────────────────────────────────────────────────────────────────────────────────────────────────────────────────────────────────────────────────────────────────────────────────────────────────────────┤\n",
      "│  20 │ 'tenant_name': None, 'unit_address': None, 'unit_number': None, 'unit_type': None, 'agreement_date': '2023-02-27', 'lease_start': None, 'lease_end': None, 'lease_auto_renew': None, 'hourly_rate': None,'monthly_rent': None, 'prorated_rent': None,'security_deposit': None, 'lease_rent': None,'monthly_payment_breakdown': None, 'utility_charges': None                                                                                                                                                                                  │ 'lease_start', 'lease_end', 'lease_new', 'lease_start', 'lease_end', 'lease_new', 'lease_new', 'lease_close', 'lease_expire', 'lease_close', 'lease_close', 'lease_new', 'lease_new', 'lease_new', 'lease_close', 'lease_close', 'lease_new', 'lease_close', 'lease_close', 'lease_close', 'lease_close', 'lease_close', 'lease_close', 'lease_close', 'lease_close', 'lease_close', 'lease_close', 'lease_close', 'lease_close', 'lease_close', 'lease_close', 'lease_close'                                                                                                                                                                                                                                                                                                                                                                                                                                                                                                                                                                              │\n",
      "├─────┼───────────────────────────────────────────────────────────────────────────────────────────────────────────────────────────────────────────────────────────────────────────────────────────────────────────────────────────────────────────────────────────────────────────────────────────────────────────────────────────────────────────────────────────────────────────────────────────────────────────────────────────────────────────────────────────────────────────────────────────────────────────────────────────────────────────────┼────────────────────────────────────────────────────────────────────────────────────────────────────────────────────────────────────────────────────────────────────────────────────────────────────────────────────────────────────────────────────────────────────────────────────────────────────────────────────────────────────────────────────────────────────────────────────────────────────────────────────────────────────────────────────────────────────────────────────────────────────────────────────────────────────────────────────────────────────────────────────────────────────────────────────────────────────────────────────────────────────────────────────────────────────────────────────────────────────────────────────────────────────────────────────────────────────────────────────────────────────────────────────────────────────────────────────────────────────────────────────────────────────────────────────────────────────────────────────────────────────────────────────────────────────────────────────────────┤\n",
      "│  21 │ 'tenant_name': 'Moises Martinez', 'unit_address': '8230 Monroe Dr Kansas City 66112-1803', 'unit_number': 'B', 'unit_type': None, 'agreement_date': '2022-11-21', 'lease_start': None, 'lease_end': None, 'lease_auto_renew': None, 'hourly_rate': None,'monthly_rent': None, 'prorated_rent': None,'security_deposit': None, 'lease_rent': None,'monthly_payment_breakdown': None, 'utility_charges': None                                                                                                                                   │ 'unit': \"Unit B,\"'lease_start', 'lease_end': \"Cease to Rent,\"'unit': \"Unit B,\"'tenant_select', 'unit_cleaning_deposit', 'lease_termination','rents_monthly': \"$250.00 per month\"                                                                                                                                                                                                                                                                                                                                                                                                                                                                                                                                                                                                                                                                                                                                                                                                                                                                           │\n",
      "├─────┼───────────────────────────────────────────────────────────────────────────────────────────────────────────────────────────────────────────────────────────────────────────────────────────────────────────────────────────────────────────────────────────────────────────────────────────────────────────────────────────────────────────────────────────────────────────────────────────────────────────────────────────────────────────────────────────────────────────────────────────────────────────────────────────────────────────────┼────────────────────────────────────────────────────────────────────────────────────────────────────────────────────────────────────────────────────────────────────────────────────────────────────────────────────────────────────────────────────────────────────────────────────────────────────────────────────────────────────────────────────────────────────────────────────────────────────────────────────────────────────────────────────────────────────────────────────────────────────────────────────────────────────────────────────────────────────────────────────────────────────────────────────────────────────────────────────────────────────────────────────────────────────────────────────────────────────────────────────────────────────────────────────────────────────────────────────────────────────────────────────────────────────────────────────────────────────────────────────────────────────────────────────────────────────────────────────────────────────────────────────────────────────────────────────────────┤\n",
      "│  22 │ 'tenant_name': None, 'unit_address': None, 'unit_number': None, 'unit_type': None, 'agreement_date': None, 'lease_start': None, 'lease_end': None, 'lease_auto_renew': None, 'hourly_rate': None,'monthly_rent': None, 'prorated_rent': None,'security_deposit': None, 'lease_rent': None,'monthly_payment_breakdown': None, 'utility_charges': None                                                                                                                                                                                          │ id, unit.lst, building.lst, address, lease_term, id_start, id_end, id_end_date, lease_type, lease_security, lease_end_cause, lease_leaseTerm, lease_term_agreement_suspense, lease_lease_restriction                                                                                                                                                                                                                                                                                                                                                                                                                                                                                                                                                                                                                                                                                                                                                                                                                                                       │\n",
      "├─────┼───────────────────────────────────────────────────────────────────────────────────────────────────────────────────────────────────────────────────────────────────────────────────────────────────────────────────────────────────────────────────────────────────────────────────────────────────────────────────────────────────────────────────────────────────────────────────────────────────────────────────────────────────────────────────────────────────────────────────────────────────────────────────────────────────────────────┼────────────────────────────────────────────────────────────────────────────────────────────────────────────────────────────────────────────────────────────────────────────────────────────────────────────────────────────────────────────────────────────────────────────────────────────────────────────────────────────────────────────────────────────────────────────────────────────────────────────────────────────────────────────────────────────────────────────────────────────────────────────────────────────────────────────────────────────────────────────────────────────────────────────────────────────────────────────────────────────────────────────────────────────────────────────────────────────────────────────────────────────────────────────────────────────────────────────────────────────────────────────────────────────────────────────────────────────────────────────────────────────────────────────────────────────────────────────────────────────────────────────────────────────────────────────────────────────┤\n",
      "│  23 │ 'tenant_name': None, 'unit_address': None, 'unit_number': None, 'unit_type': None, 'agreement_date': None, 'lease_start': None, 'lease_end': None, 'lease_auto_renew': None, 'hourly_rate': None,'monthly_rent': None, 'prorated_rent': None,'security_deposit': None, 'lease_rent': None,'monthly_payment_breakdown': None, 'utility_charges': None                                                                                                                                                                                          │ 'lodging', 'units': None,'state': None, 'lease': None, 'address': None, 'lease': None, 'gcd': None, 'phone': None, 'utility': None,'security_deposit': None, 'lawyers_cost_notice': None,'residence_defects': None, 'lease_termination_rent': None, 'electricity_cost_not_paid_by_your_unit_of_occupancy': None, 'payment_method': None, 'utility_deposit_maximum': None, 'district_taxes_not_paid_by_your_unit_of_occupancy': None,'suspension_rent': None, 'lease_late_payment_due_date': None, 'lease_tenant_guarantee': None, 'lease_termination_rent': None, 'notice_required': None, 'term_of_rent': None,'security_charge': None, 'first_month_rent': None,'rent': None, 'lease_reinstatement': None,'rent_reduction_payment': None,'rent_refund_deposit_balance': None, 'addition_checks_to_security_deposit': None,'security_deposit_return_check': None,'rent_refund_deposit_balance': None,'security_deposit': None, 'lease_fees': None,'rent_renovations': None, 'tenants_vacation_rent': None,'rent_reserve': None, 'negotiations_fee': None. │\n",
      "├─────┼───────────────────────────────────────────────────────────────────────────────────────────────────────────────────────────────────────────────────────────────────────────────────────────────────────────────────────────────────────────────────────────────────────────────────────────────────────────────────────────────────────────────────────────────────────────────────────────────────────────────────────────────────────────────────────────────────────────────────────────────────────────────────────────────────────────────┼────────────────────────────────────────────────────────────────────────────────────────────────────────────────────────────────────────────────────────────────────────────────────────────────────────────────────────────────────────────────────────────────────────────────────────────────────────────────────────────────────────────────────────────────────────────────────────────────────────────────────────────────────────────────────────────────────────────────────────────────────────────────────────────────────────────────────────────────────────────────────────────────────────────────────────────────────────────────────────────────────────────────────────────────────────────────────────────────────────────────────────────────────────────────────────────────────────────────────────────────────────────────────────────────────────────────────────────────────────────────────────────────────────────────────────────────────────────────────────────────────────────────────────────────────────────────────────────┤\n",
      "│  24 │ 'tenant_name': 'Peter Mendez', 'unit_address': '7603 Timberstone Dr, Tampa, Florida, 33615', 'unit_number': '09C', 'unit_type': None, 'agreement_date': '2022-07-06', 'lease_start': '2022-10-01', 'lease_end': '2023-09-30', 'lease_auto_renew':'month-to-month', 'hourly_rate': None,'monthly_rent': 1758.0, 'prorated_rent': None,'security_deposit': 200.0, 'lease_rent': 21096.0,'monthly_payment_breakdown': None, 'utility_charges': None                                                                                              │ 'Leasing_Community': 'Meridian Luxury Condominiums', 'Lease_Filing_Date': '1984', 'Room_Count': '6696', 'Apartment_Number': '753', 'Lease_Summary': '$7600.00,' Tenant_Id': '9', 'Lease_Rent': '$6795.00,' Payment_Paid_in_Fish': '700.00,' 'Dwelling_Unit': '693', 'Lease_Limit': '2 weeks'                                                                                                                                                                                                                                                                                                                                                                                                                                                                                                                                                                                                                                                                                                                                                               │\n",
      "├─────┼───────────────────────────────────────────────────────────────────────────────────────────────────────────────────────────────────────────────────────────────────────────────────────────────────────────────────────────────────────────────────────────────────────────────────────────────────────────────────────────────────────────────────────────────────────────────────────────────────────────────────────────────────────────────────────────────────────────────────────────────────────────────────────────────────────────────┼────────────────────────────────────────────────────────────────────────────────────────────────────────────────────────────────────────────────────────────────────────────────────────────────────────────────────────────────────────────────────────────────────────────────────────────────────────────────────────────────────────────────────────────────────────────────────────────────────────────────────────────────────────────────────────────────────────────────────────────────────────────────────────────────────────────────────────────────────────────────────────────────────────────────────────────────────────────────────────────────────────────────────────────────────────────────────────────────────────────────────────────────────────────────────────────────────────────────────────────────────────────────────────────────────────────────────────────────────────────────────────────────────────────────────────────────────────────────────────────────────────────────────────────────────────────────────────────┤\n",
      "│  25 │ 'tenant_name': 'Leobouchereau', 'unit_address': None, 'unit_number': None, 'unit_type': None, 'agreement_date': '2022-12-03', 'lease_start': None, 'lease_end': None, 'lease_auto_renew': None, 'hourly_rate': None,'monthly_rent': None, 'prorated_rent': None,'security_deposit': None, 'lease_rent': None,'monthly_payment_breakdown': None, 'utility_charges': None                                                                                                                                                                       │ 'Location': 'Arlington Heights', 'Unit': 'Arlington Heights', 'Depth': '100', 'LeasingOffice': '100', 'Microbe': '100', 'Net': '100', 'Bedrooms': '100', 'Wallpaper': '100', 'LivingRooms': '100', 'Entertainment': '100', 'Laundry': '100'                                                                                                                                                                                                                                                                                                                                                                                                                                                                                                                                                                                                                                                                                                                                                                                                                │\n",
      "├─────┼───────────────────────────────────────────────────────────────────────────────────────────────────────────────────────────────────────────────────────────────────────────────────────────────────────────────────────────────────────────────────────────────────────────────────────────────────────────────────────────────────────────────────────────────────────────────────────────────────────────────────────────────────────────────────────────────────────────────────────────────────────────────────────────────────────────────┼────────────────────────────────────────────────────────────────────────────────────────────────────────────────────────────────────────────────────────────────────────────────────────────────────────────────────────────────────────────────────────────────────────────────────────────────────────────────────────────────────────────────────────────────────────────────────────────────────────────────────────────────────────────────────────────────────────────────────────────────────────────────────────────────────────────────────────────────────────────────────────────────────────────────────────────────────────────────────────────────────────────────────────────────────────────────────────────────────────────────────────────────────────────────────────────────────────────────────────────────────────────────────────────────────────────────────────────────────────────────────────────────────────────────────────────────────────────────────────────────────────────────────────────────────────────────────────────┤\n",
      "│  26 │ 'tenant_name': None, 'unit_address': None, 'unit_number': None, 'unit_type': None, 'agreement_date': None, 'lease_start': None, 'lease_end': None, 'lease_auto_renew': None, 'hourly_rate': None,'monthly_rent': None, 'prorated_rent': None,'security_deposit': None, 'lease_rent': None,'monthly_payment_breakdown': None, 'utility_charges': None                                                                                                                                                                                          │ ,, ,                                                                                                                                                                                                                                                                                                                                                                                                                                                                                                                                                                                                                                                                                                                                                                                                                                                                                                                                                                                                                                                       │\n",
      "╘═════╧═══════════════════════════════════════════════════════════════════════════════════════════════════════════════════════════════════════════════════════════════════════════════════════════════════════════════════════════════════════════════════════════════════════════════════════════════════════════════════════════════════════════════════════════════════════════════════════════════════════════════════════════════════════════════════════════════════════════════════════════════════════════════════════════════════════════════╧════════════════════════════════════════════════════════════════════════════════════════════════════════════════════════════════════════════════════════════════════════════════════════════════════════════════════════════════════════════════════════════════════════════════════════════════════════════════════════════════════════════════════════════════════════════════════════════════════════════════════════════════════════════════════════════════════════════════════════════════════════════════════════════════════════════════════════════════════════════════════════════════════════════════════════════════════════════════════════════════════════════════════════════════════════════════════════════════════════════════════════════════════════════════════════════════════════════════════════════════════════════════════════════════════════════════════════════════════════════════════════════════════════════════════════════════════════════════════════════════════════════════════════════════════════════════════════════╛\n"
     ]
    }
   ],
   "source": [
    "from tabulate import tabulate\n",
    "\n",
    "# Prepare data for tabulation\n",
    "table_data = []\n",
    "for i, (pred, ref) in enumerate(zip(predictions, references), 1):\n",
    "    table_data.append([i, ref, pred])\n",
    "\n",
    "# Define table headers\n",
    "headers = [\"#\", \"Reference\", \"Prediction\"]\n",
    "\n",
    "# Display the table\n",
    "print(tabulate(table_data, headers=headers, tablefmt=\"fancy_grid\", showindex=False))\n"
   ]
  },
  {
   "cell_type": "code",
   "execution_count": null,
   "metadata": {},
   "outputs": [],
   "source": [
    "# TODO: calculate accuracy using metrics"
   ]
  }
 ],
 "metadata": {
  "kernelspec": {
   "display_name": ".venv",
   "language": "python",
   "name": "python3"
  },
  "language_info": {
   "codemirror_mode": {
    "name": "ipython",
    "version": 3
   },
   "file_extension": ".py",
   "mimetype": "text/x-python",
   "name": "python",
   "nbconvert_exporter": "python",
   "pygments_lexer": "ipython3",
   "version": "3.12.4"
  }
 },
 "nbformat": 4,
 "nbformat_minor": 2
}
