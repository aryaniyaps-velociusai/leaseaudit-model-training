{
 "cells": [
  {
   "cell_type": "markdown",
   "metadata": {},
   "source": [
    "## Finetuning Flan T5 XL for lease agreement data extraction"
   ]
  },
  {
   "cell_type": "markdown",
   "metadata": {},
   "source": [
    "### Install dependencies"
   ]
  },
  {
   "cell_type": "code",
   "execution_count": 1,
   "metadata": {},
   "outputs": [
    {
     "name": "stdout",
     "output_type": "stream",
     "text": [
      "Note: you may need to restart the kernel to use updated packages.\n"
     ]
    }
   ],
   "source": [
    "%pip install pandas numpy peft scikit-learn transformers datasets torch accelerate bitsandbytes huggingface-hub -q"
   ]
  },
  {
   "cell_type": "markdown",
   "metadata": {},
   "source": [
    "### Define the extraction JSON schema"
   ]
  },
  {
   "cell_type": "code",
   "execution_count": 6,
   "metadata": {},
   "outputs": [],
   "source": [
    "import json\n",
    "\n",
    "extraction_json_schema = {\n",
    "  \"title\": \"ExtractedLeaseData\",\n",
    "  \"type\": \"object\",\n",
    "  \"properties\": {\n",
    "    \"tenant_name\": {\n",
    "      \"type\": [\"string\", \"null\"],\n",
    "      \"description\": \"The name of the tenant, found in the OCR text.\"\n",
    "    },\n",
    "    \"unit_address\": {\n",
    "      \"type\": [\"string\", \"null\"],\n",
    "      \"description\": \"The unit address found in the OCR text.\"\n",
    "    },\n",
    "    \"unit_number\": {\n",
    "      \"type\": [\"string\", \"null\"],\n",
    "      \"description\": \"The unit number found in the OCR text.\"\n",
    "    },\n",
    "    \"unit_type\": {\n",
    "      \"type\": [\"string\", \"null\"],\n",
    "      \"description\": \"The unit type found in the OCR text.\"\n",
    "    },\n",
    "    \"agreement_date\": {\n",
    "      \"type\": [\"string\", \"null\"],\n",
    "      \"format\": \"date\"\n",
    "    },\n",
    "    \"lease_start\": {\n",
    "      \"type\": [\"string\", \"null\"],\n",
    "      \"format\": \"date\",\n",
    "      \"description\": \"The date when the lease starts, found in the OCR text.\"\n",
    "    },\n",
    "    \"lease_end\": {\n",
    "      \"type\": [\"string\", \"null\"],\n",
    "      \"format\": \"date\",\n",
    "      \"description\": \"The date when the lease ends, found in the OCR text.\"\n",
    "    },\n",
    "    \"lease_auto_renew\": {\n",
    "      \"type\": [\"string\", \"null\"],\n",
    "      \"description\": \"The type of lease auto renewal, found in the OCR text.\"\n",
    "    },\n",
    "    \"hourly_rate\": {\n",
    "      \"type\": [\"number\", \"null\"],\n",
    "      \"description\": \"The hourly rate found in the OCR text.\"\n",
    "    },\n",
    "    \"monthly_rent\": {\n",
    "      \"type\": [\"number\", \"null\"],\n",
    "      \"description\": \"The monthly rent found in the OCR text.\"\n",
    "    },\n",
    "    \"prorated_rent\": {\n",
    "      \"type\": [\"number\", \"null\"],\n",
    "      \"description\": \"The prorated rent found in the OCR text.\"\n",
    "    },\n",
    "    \"security_deposit\": {\n",
    "      \"type\": [\"number\", \"null\"],\n",
    "      \"description\": \"The security deposit found in the OCR text.\"\n",
    "    },\n",
    "    \"lease_rent\": {\n",
    "      \"type\": [\"number\", \"null\"],\n",
    "      \"description\": \"The security deposit found in the OCR text.\"\n",
    "    },\n",
    "    \"monthly_payment_breakdown\": {\n",
    "      \"type\": [\"object\", \"null\"],\n",
    "      \"description\": \"The monthly payment breakdown data found in the OCR text.\",\n",
    "      \"additionalProperties\": {}\n",
    "    },\n",
    "    \"utility_charges\": {\n",
    "      \"type\": [\"object\", \"null\"],\n",
    "      \"description\": \"The utility charges found in the OCR text. This is a dictionary with utility charges as the key, and their price as the value.\",\n",
    "      \"additionalProperties\": {\n",
    "        \"type\": [\"number\", \"null\"]\n",
    "      }\n",
    "    }\n",
    "  },\n",
    "  \"required\": [\"tenant_name\", \"unit_address\", \"unit_number\", \"unit_type\", \"agreement_date\", \"lease_start\", \"lease_end\", \"lease_auto_renew\", \"hourly_rate\", \"monthly_rent\", \"prorated_rent\", \"security_deposit\", \"lease_rent\", \"monthly_payment_breakdown\", \"utility_charges\"]\n",
    "}\n",
    "\n",
    "extraction_json_schema_str = json.dumps(extraction_json_schema, indent=2)"
   ]
  },
  {
   "cell_type": "markdown",
   "metadata": {},
   "source": [
    "### Build the Dataset\n",
    "Build the dataset from the collected data in the Sqlite3 database"
   ]
  },
  {
   "cell_type": "code",
   "execution_count": 1,
   "metadata": {},
   "outputs": [
    {
     "data": {
      "text/html": [
       "<div>\n",
       "<style scoped>\n",
       "    .dataframe tbody tr th:only-of-type {\n",
       "        vertical-align: middle;\n",
       "    }\n",
       "\n",
       "    .dataframe tbody tr th {\n",
       "        vertical-align: top;\n",
       "    }\n",
       "\n",
       "    .dataframe thead th {\n",
       "        text-align: right;\n",
       "    }\n",
       "</style>\n",
       "<table border=\"1\" class=\"dataframe\">\n",
       "  <thead>\n",
       "    <tr style=\"text-align: right;\">\n",
       "      <th></th>\n",
       "      <th>extracted_text</th>\n",
       "      <th>extracted_fields</th>\n",
       "    </tr>\n",
       "    <tr>\n",
       "      <th>id</th>\n",
       "      <th></th>\n",
       "      <th></th>\n",
       "    </tr>\n",
       "  </thead>\n",
       "  <tbody>\n",
       "    <tr>\n",
       "      <th>1</th>\n",
       "      <td>22.PARKING. We may regulate the time, manner, ...</td>\n",
       "      <td>{\"tenant_name\": null, \"unit_address\": null, \"u...</td>\n",
       "    </tr>\n",
       "    <tr>\n",
       "      <th>2</th>\n",
       "      <td>38.MISCELLANEOUS.\\nA. Exercising one remedy wo...</td>\n",
       "      <td>{\"tenant_name\": null, \"unit_address\": null, \"u...</td>\n",
       "    </tr>\n",
       "    <tr>\n",
       "      <th>3</th>\n",
       "      <td>You'll pay for all other utilities, related de...</td>\n",
       "      <td>{\"tenant_name\": null, \"unit_address\": null, \"u...</td>\n",
       "    </tr>\n",
       "    <tr>\n",
       "      <th>4</th>\n",
       "      <td>Disposition or Sale. Except for animals and pr...</td>\n",
       "      <td>{\"tenant_name\": null, \"unit_address\": null, \"u...</td>\n",
       "    </tr>\n",
       "    <tr>\n",
       "      <th>5</th>\n",
       "      <td>dupusit: or 2) return the remaining portion (i...</td>\n",
       "      <td>{\"tenant_name\": \"Comunque Bolas\", \"unit_addres...</td>\n",
       "    </tr>\n",
       "    <tr>\n",
       "      <th>...</th>\n",
       "      <td>...</td>\n",
       "      <td>...</td>\n",
       "    </tr>\n",
       "    <tr>\n",
       "      <th>362</th>\n",
       "      <td>36. OTHER CHARGES\\nResident agrees to pay Mana...</td>\n",
       "      <td>{\"tenant_name\": null, \"unit_address\": null, \"u...</td>\n",
       "    </tr>\n",
       "    <tr>\n",
       "      <th>363</th>\n",
       "      <td>Resident shall not deliberately or negligently...</td>\n",
       "      <td>{\"tenant_name\": \"Taylor Whittle\", \"unit_addres...</td>\n",
       "    </tr>\n",
       "    <tr>\n",
       "      <th>364</th>\n",
       "      <td>21. WAIVER OF VENUE\\nIn the event that Managem...</td>\n",
       "      <td>{\"tenant_name\": \"Taylor Whittle\", \"unit_addres...</td>\n",
       "    </tr>\n",
       "    <tr>\n",
       "      <th>365</th>\n",
       "      <td>41. DRUG FREE HOUSING / CRIMINAL ACTIVITY\\nRes...</td>\n",
       "      <td>{\"tenant_name\": null, \"unit_address\": null, \"u...</td>\n",
       "    </tr>\n",
       "    <tr>\n",
       "      <th>366</th>\n",
       "      <td>FO\\nEF\\n· Mana\\nf\\nDany agement Co\\nEQUAL HOUS...</td>\n",
       "      <td>{\"tenant_name\": \"Claudia Spooney\", \"unit_addre...</td>\n",
       "    </tr>\n",
       "  </tbody>\n",
       "</table>\n",
       "<p>366 rows × 2 columns</p>\n",
       "</div>"
      ],
      "text/plain": [
       "                                        extracted_text  \\\n",
       "id                                                       \n",
       "1    22.PARKING. We may regulate the time, manner, ...   \n",
       "2    38.MISCELLANEOUS.\\nA. Exercising one remedy wo...   \n",
       "3    You'll pay for all other utilities, related de...   \n",
       "4    Disposition or Sale. Except for animals and pr...   \n",
       "5    dupusit: or 2) return the remaining portion (i...   \n",
       "..                                                 ...   \n",
       "362  36. OTHER CHARGES\\nResident agrees to pay Mana...   \n",
       "363  Resident shall not deliberately or negligently...   \n",
       "364  21. WAIVER OF VENUE\\nIn the event that Managem...   \n",
       "365  41. DRUG FREE HOUSING / CRIMINAL ACTIVITY\\nRes...   \n",
       "366  FO\\nEF\\n· Mana\\nf\\nDany agement Co\\nEQUAL HOUS...   \n",
       "\n",
       "                                      extracted_fields  \n",
       "id                                                      \n",
       "1    {\"tenant_name\": null, \"unit_address\": null, \"u...  \n",
       "2    {\"tenant_name\": null, \"unit_address\": null, \"u...  \n",
       "3    {\"tenant_name\": null, \"unit_address\": null, \"u...  \n",
       "4    {\"tenant_name\": null, \"unit_address\": null, \"u...  \n",
       "5    {\"tenant_name\": \"Comunque Bolas\", \"unit_addres...  \n",
       "..                                                 ...  \n",
       "362  {\"tenant_name\": null, \"unit_address\": null, \"u...  \n",
       "363  {\"tenant_name\": \"Taylor Whittle\", \"unit_addres...  \n",
       "364  {\"tenant_name\": \"Taylor Whittle\", \"unit_addres...  \n",
       "365  {\"tenant_name\": null, \"unit_address\": null, \"u...  \n",
       "366  {\"tenant_name\": \"Claudia Spooney\", \"unit_addre...  \n",
       "\n",
       "[366 rows x 2 columns]"
      ]
     },
     "execution_count": 1,
     "metadata": {},
     "output_type": "execute_result"
    }
   ],
   "source": [
    "import pandas as pd\n",
    "import sqlite3\n",
    "\n",
    "# Path to the SQLite database\n",
    "db_path = \"../output/extracted_lease_agreements.db\"\n",
    "\n",
    "# Connect to the SQLite database\n",
    "conn = sqlite3.connect(db_path)\n",
    "\n",
    "# Query to select all data from the extracted_data table\n",
    "query = \"SELECT * FROM extracted_data\"\n",
    "\n",
    "# Read the data into a DataFrame\n",
    "df = pd.read_sql_query(query, conn, index_col=\"id\")\n",
    "\n",
    "# Close the database connection\n",
    "conn.close()\n",
    "\n",
    "df"
   ]
  },
  {
   "cell_type": "markdown",
   "metadata": {},
   "source": [
    "#### Preprocess the dataset\n",
    "We need to add in missing fields in the dataset"
   ]
  },
  {
   "cell_type": "code",
   "execution_count": null,
   "metadata": {},
   "outputs": [
    {
     "data": {
      "text/html": [
       "<div>\n",
       "<style scoped>\n",
       "    .dataframe tbody tr th:only-of-type {\n",
       "        vertical-align: middle;\n",
       "    }\n",
       "\n",
       "    .dataframe tbody tr th {\n",
       "        vertical-align: top;\n",
       "    }\n",
       "\n",
       "    .dataframe thead th {\n",
       "        text-align: right;\n",
       "    }\n",
       "</style>\n",
       "<table border=\"1\" class=\"dataframe\">\n",
       "  <thead>\n",
       "    <tr style=\"text-align: right;\">\n",
       "      <th></th>\n",
       "      <th>extracted_text</th>\n",
       "      <th>extracted_fields</th>\n",
       "    </tr>\n",
       "    <tr>\n",
       "      <th>id</th>\n",
       "      <th></th>\n",
       "      <th></th>\n",
       "    </tr>\n",
       "  </thead>\n",
       "  <tbody>\n",
       "    <tr>\n",
       "      <th>1</th>\n",
       "      <td>22.PARKING. We may regulate the time, manner, ...</td>\n",
       "      <td>{\"tenant_name\": null, \"unit_address\": null, \"u...</td>\n",
       "    </tr>\n",
       "    <tr>\n",
       "      <th>2</th>\n",
       "      <td>38.MISCELLANEOUS.\\nA. Exercising one remedy wo...</td>\n",
       "      <td>{\"tenant_name\": null, \"unit_address\": null, \"u...</td>\n",
       "    </tr>\n",
       "    <tr>\n",
       "      <th>3</th>\n",
       "      <td>You'll pay for all other utilities, related de...</td>\n",
       "      <td>{\"tenant_name\": null, \"unit_address\": null, \"u...</td>\n",
       "    </tr>\n",
       "    <tr>\n",
       "      <th>4</th>\n",
       "      <td>Disposition or Sale. Except for animals and pr...</td>\n",
       "      <td>{\"tenant_name\": null, \"unit_address\": null, \"u...</td>\n",
       "    </tr>\n",
       "    <tr>\n",
       "      <th>5</th>\n",
       "      <td>dupusit: or 2) return the remaining portion (i...</td>\n",
       "      <td>{\"tenant_name\": \"Comunque Bolas\", \"unit_addres...</td>\n",
       "    </tr>\n",
       "    <tr>\n",
       "      <th>...</th>\n",
       "      <td>...</td>\n",
       "      <td>...</td>\n",
       "    </tr>\n",
       "    <tr>\n",
       "      <th>362</th>\n",
       "      <td>36. OTHER CHARGES\\nResident agrees to pay Mana...</td>\n",
       "      <td>{\"tenant_name\": null, \"unit_address\": null, \"u...</td>\n",
       "    </tr>\n",
       "    <tr>\n",
       "      <th>363</th>\n",
       "      <td>Resident shall not deliberately or negligently...</td>\n",
       "      <td>{\"tenant_name\": \"Taylor Whittle\", \"unit_addres...</td>\n",
       "    </tr>\n",
       "    <tr>\n",
       "      <th>364</th>\n",
       "      <td>21. WAIVER OF VENUE\\nIn the event that Managem...</td>\n",
       "      <td>{\"tenant_name\": \"Taylor Whittle\", \"unit_addres...</td>\n",
       "    </tr>\n",
       "    <tr>\n",
       "      <th>365</th>\n",
       "      <td>41. DRUG FREE HOUSING / CRIMINAL ACTIVITY\\nRes...</td>\n",
       "      <td>{\"tenant_name\": null, \"unit_address\": null, \"u...</td>\n",
       "    </tr>\n",
       "    <tr>\n",
       "      <th>366</th>\n",
       "      <td>FO\\nEF\\n· Mana\\nf\\nDany agement Co\\nEQUAL HOUS...</td>\n",
       "      <td>{\"tenant_name\": \"Claudia Spooney\", \"unit_addre...</td>\n",
       "    </tr>\n",
       "  </tbody>\n",
       "</table>\n",
       "<p>366 rows × 2 columns</p>\n",
       "</div>"
      ],
      "text/plain": [
       "                                        extracted_text  \\\n",
       "id                                                       \n",
       "1    22.PARKING. We may regulate the time, manner, ...   \n",
       "2    38.MISCELLANEOUS.\\nA. Exercising one remedy wo...   \n",
       "3    You'll pay for all other utilities, related de...   \n",
       "4    Disposition or Sale. Except for animals and pr...   \n",
       "5    dupusit: or 2) return the remaining portion (i...   \n",
       "..                                                 ...   \n",
       "362  36. OTHER CHARGES\\nResident agrees to pay Mana...   \n",
       "363  Resident shall not deliberately or negligently...   \n",
       "364  21. WAIVER OF VENUE\\nIn the event that Managem...   \n",
       "365  41. DRUG FREE HOUSING / CRIMINAL ACTIVITY\\nRes...   \n",
       "366  FO\\nEF\\n· Mana\\nf\\nDany agement Co\\nEQUAL HOUS...   \n",
       "\n",
       "                                      extracted_fields  \n",
       "id                                                      \n",
       "1    {\"tenant_name\": null, \"unit_address\": null, \"u...  \n",
       "2    {\"tenant_name\": null, \"unit_address\": null, \"u...  \n",
       "3    {\"tenant_name\": null, \"unit_address\": null, \"u...  \n",
       "4    {\"tenant_name\": null, \"unit_address\": null, \"u...  \n",
       "5    {\"tenant_name\": \"Comunque Bolas\", \"unit_addres...  \n",
       "..                                                 ...  \n",
       "362  {\"tenant_name\": null, \"unit_address\": null, \"u...  \n",
       "363  {\"tenant_name\": \"Taylor Whittle\", \"unit_addres...  \n",
       "364  {\"tenant_name\": \"Taylor Whittle\", \"unit_addres...  \n",
       "365  {\"tenant_name\": null, \"unit_address\": null, \"u...  \n",
       "366  {\"tenant_name\": \"Claudia Spooney\", \"unit_addre...  \n",
       "\n",
       "[366 rows x 2 columns]"
      ]
     },
     "execution_count": 10,
     "metadata": {},
     "output_type": "execute_result"
    }
   ],
   "source": [
    "# Function to ensure all required fields are present in the extracted_fields column\n",
    "def ensure_all_fields(extracted_fields, required_fields):\n",
    "    # Convert the extracted_fields string to a dictionary\n",
    "    extracted_data = json.loads(extracted_fields)\n",
    "    \n",
    "    # Check and add any missing fields with a value of None\n",
    "    for field in required_fields:\n",
    "        if field not in extracted_data:\n",
    "            extracted_data[field] = None\n",
    "    \n",
    "    # Convert the dictionary back to a JSON string\n",
    "    return json.dumps(extracted_data)\n",
    "\n",
    "# List of required fields from the extraction_json_schema\n",
    "extraction_fields = list(extraction_json_schema['properties'].keys())\n",
    "\n",
    "# Apply the function to each row in the extracted_fields column\n",
    "df['extracted_fields'] = df['extracted_fields'].apply(ensure_all_fields, required_fields=extraction_fields)\n",
    "\n",
    "# Display the updated DataFrame\n",
    "df"
   ]
  },
  {
   "cell_type": "markdown",
   "metadata": {},
   "source": [
    "### Split the dataset"
   ]
  },
  {
   "cell_type": "code",
   "execution_count": 3,
   "metadata": {},
   "outputs": [
    {
     "name": "stdout",
     "output_type": "stream",
     "text": [
      "Training set size: 292\n",
      "Evaluation set size: 37\n",
      "Test set size: 37\n"
     ]
    }
   ],
   "source": [
    "from sklearn.model_selection import train_test_split\n",
    "\n",
    "# First split: 80% for training, 20% for temp (which will be split into eval and test)\n",
    "train_df, temp_df = train_test_split(df, test_size=0.2, random_state=42)\n",
    "\n",
    "# Second split: 50% of temp for eval and 50% for test (10% of the original data each)\n",
    "eval_df, test_df = train_test_split(temp_df, test_size=0.5, random_state=42)\n",
    "\n",
    "# Check the sizes of the splits\n",
    "print(f\"Training set size: {len(train_df)}\")\n",
    "print(f\"Evaluation set size: {len(eval_df)}\")\n",
    "print(f\"Test set size: {len(test_df)}\")\n"
   ]
  },
  {
   "cell_type": "markdown",
   "metadata": {},
   "source": [
    "### Load the base model"
   ]
  },
  {
   "cell_type": "code",
   "execution_count": 3,
   "metadata": {},
   "outputs": [],
   "source": [
    "from peft import LoraConfig, TaskType\n",
    "\n",
    "peft_config = LoraConfig(\n",
    "    lora_alpha=16, # Higher alpha to match larger model capacity\n",
    "    lora_dropout=0.1, # Consistent dropout rate to prevent overfitting\n",
    "    r=8, # Rank, kept the same for balance between performance and efficiency\n",
    "    task_type=TaskType.SEQ_2_SEQ_LM, # Change to SEQ_2_SEQ_LM for seq2seq models\n",
    "    bias=\"none\", # Keeping bias as none, similar to your original setup\n",
    "    target_modules=[\n",
    "        'q', 'v', 'k', 'o', # Attention layers (query, value, key, output projections)\n",
    "        'wi', 'wo', # Feedforward layers (input, output projections)\n",
    "        'wq', 'wv', 'wk', 'wo', # Additional T5-specific projection layers\n",
    "    ], # Target modules relevant to T5 architecture\n",
    ")\n"
   ]
  },
  {
   "cell_type": "code",
   "execution_count": 4,
   "metadata": {},
   "outputs": [
    {
     "data": {
      "application/vnd.jupyter.widget-view+json": {
       "model_id": "c096dd9461c146948f076c4d64e457b8",
       "version_major": 2,
       "version_minor": 0
      },
      "text/plain": [
       "VBox(children=(HTML(value='<center> <img\\nsrc=https://huggingface.co/front/assets/huggingface_logo-noborder.sv…"
      ]
     },
     "metadata": {},
     "output_type": "display_data"
    },
    {
     "name": "stderr",
     "output_type": "stream",
     "text": [
      "/home/aryaniyaps/velocius-ai/leaseaudit-model-training/.venv/lib/python3.12/site-packages/transformers/tokenization_utils_base.py:1601: FutureWarning: `clean_up_tokenization_spaces` was not set. It will be set to `True` by default. This behavior will be depracted in transformers v4.45, and will be then set to `False` by default. For more details check this issue: https://github.com/huggingface/transformers/issues/31884\n",
      "  warnings.warn(\n",
      "`low_cpu_mem_usage` was None, now set to True since model is quantized.\n"
     ]
    },
    {
     "data": {
      "application/vnd.jupyter.widget-view+json": {
       "model_id": "2e67e64346b2415b9141414d7d3668f1",
       "version_major": 2,
       "version_minor": 0
      },
      "text/plain": [
       "Loading checkpoint shards:   0%|          | 0/2 [00:00<?, ?it/s]"
      ]
     },
     "metadata": {},
     "output_type": "display_data"
    },
    {
     "name": "stdout",
     "output_type": "stream",
     "text": [
      "trainable params: 12,189,696 || all params: 2,861,946,880 || trainable%: 0.4259\n"
     ]
    }
   ],
   "source": [
    "\n",
    "from transformers import AutoTokenizer, AutoModelForSeq2SeqLM, BitsAndBytesConfig\n",
    "from huggingface_hub import notebook_login\n",
    "from peft import get_peft_model, prepare_model_for_kbit_training\n",
    "import torch\n",
    "\n",
    "# login to access gated model\n",
    "notebook_login()\n",
    "\n",
    "# Load the tokenizer and model\n",
    "model_id = \"google/flan-t5-xl\"\n",
    "\n",
    "bnb_config = BitsAndBytesConfig(\n",
    "    load_in_4bit=True,\n",
    "    bnb_4bit_quant_type=\"nf4\",\n",
    "    bnb_4bit_compute_dtype=torch.float16,\n",
    ")\n",
    "\n",
    "# empty GPU memory\n",
    "torch.cuda.empty_cache()\n",
    "\n",
    "tokenizer = AutoTokenizer.from_pretrained(model_id)\n",
    "tokenizer.pad_token = tokenizer.eos_token\n",
    "tokenizer.padding_side = 'right'\n",
    "\n",
    "model = AutoModelForSeq2SeqLM.from_pretrained(model_id, quantization_config=bnb_config)\n",
    "\n",
    "model = prepare_model_for_kbit_training(model)\n",
    "model = get_peft_model(model, peft_config)\n",
    "model.print_trainable_parameters()\n"
   ]
  },
  {
   "cell_type": "markdown",
   "metadata": {},
   "source": [
    "### Build the datasets"
   ]
  },
  {
   "cell_type": "code",
   "execution_count": 14,
   "metadata": {},
   "outputs": [],
   "source": [
    "prompt_template = \"\"\"\n",
    "### TASK:\n",
    "You are a specialized model for extracting specific information from lease agreement text. Your goal is to accurately extract data fields from the provided OCR text of a lease agreement. Additionally, correct any obvious OCR errors you encounter during extraction.\n",
    "\n",
    "### INPUT TEXT:\n",
    "Below is the OCR text extracted from a lease agreement. Carefully analyze this text, and extract the relevant data fields.\n",
    "\n",
    "OCR Text:\n",
    "```\n",
    "{extracted_text}\n",
    "```\n",
    "\n",
    "### RESPONSE FORMAT:\n",
    "Return the extracted data as a JSON object, adhering strictly to the following JSON schema:\n",
    "\n",
    "```json\n",
    "{extraction_json_schema_str}\n",
    "```\n",
    "\"\"\""
   ]
  },
  {
   "cell_type": "code",
   "execution_count": 6,
   "metadata": {},
   "outputs": [
    {
     "data": {
      "application/vnd.jupyter.widget-view+json": {
       "model_id": "394643bda1d04ce68fc5040bff920671",
       "version_major": 2,
       "version_minor": 0
      },
      "text/plain": [
       "Map:   0%|          | 0/205 [00:00<?, ? examples/s]"
      ]
     },
     "metadata": {},
     "output_type": "display_data"
    },
    {
     "data": {
      "application/vnd.jupyter.widget-view+json": {
       "model_id": "1f01600f9c4f45bd83fe620314a6846e",
       "version_major": 2,
       "version_minor": 0
      },
      "text/plain": [
       "Map:   0%|          | 0/26 [00:00<?, ? examples/s]"
      ]
     },
     "metadata": {},
     "output_type": "display_data"
    },
    {
     "data": {
      "application/vnd.jupyter.widget-view+json": {
       "model_id": "a99ab2699eaf4daa818710aeab913b65",
       "version_major": 2,
       "version_minor": 0
      },
      "text/plain": [
       "Map:   0%|          | 0/26 [00:00<?, ? examples/s]"
      ]
     },
     "metadata": {},
     "output_type": "display_data"
    },
    {
     "data": {
      "text/plain": [
       "Dataset({\n",
       "    features: ['extracted_text', 'extracted_fields', 'id'],\n",
       "    num_rows: 205\n",
       "})"
      ]
     },
     "execution_count": 6,
     "metadata": {},
     "output_type": "execute_result"
    }
   ],
   "source": [
    "from datasets import Dataset\n",
    "\n",
    "def preprocess_function(examples):\n",
    "    inputs = [prompt_template.format(extracted_text=extracted_text, extraction_json_schema_str=extraction_json_schema_str) for extracted_text in examples[\"extracted_text\"]]\n",
    "    model_inputs = tokenizer(inputs, max_length=512, truncation=True)\n",
    "\n",
    "    # The \"labels\" are the tokenized outputs:\n",
    "    labels = tokenizer(\n",
    "        text_target=examples[\"extracted_fields\"], \n",
    "        max_length=512,         \n",
    "        truncation=True\n",
    "    )\n",
    "\n",
    "    model_inputs[\"labels\"] = labels[\"input_ids\"]\n",
    "    return model_inputs\n",
    "\n",
    "# Create datasets with the extracted text and labels\n",
    "train_dataset = Dataset.from_pandas(train_df)\n",
    "tokenized_train_dataset = train_dataset.map(preprocess_function, batched=True)\n",
    "eval_dataset = Dataset.from_pandas(eval_df)\n",
    "tokenized_eval_dataset = eval_dataset.map(preprocess_function, batched=True)\n",
    "test_dataset = Dataset.from_pandas(test_df)\n",
    "tokenized_test_dataset = test_dataset.map(preprocess_function, batched=True)\n",
    "\n",
    "train_dataset\n"
   ]
  },
  {
   "cell_type": "markdown",
   "metadata": {},
   "source": [
    "### Train (fine tune) the base model"
   ]
  },
  {
   "cell_type": "code",
   "execution_count": 8,
   "metadata": {},
   "outputs": [
    {
     "name": "stderr",
     "output_type": "stream",
     "text": [
      "max_steps is given, it will override any value given in num_train_epochs\n",
      "/home/aryaniyaps/velocius-ai/leaseaudit-model-training/.venv/lib/python3.12/site-packages/torch/_dynamo/eval_frame.py:600: UserWarning: torch.utils.checkpoint: the use_reentrant parameter should be passed explicitly. In version 2.4 we will raise an exception if use_reentrant is not passed. use_reentrant=False is recommended, but if you need to preserve the current default behavior, you can pass use_reentrant=True. Refer to docs for more details on the differences between the two variants.\n",
      "  return fn(*args, **kwargs)\n",
      "/home/aryaniyaps/velocius-ai/leaseaudit-model-training/.venv/lib/python3.12/site-packages/torch/utils/checkpoint.py:295: FutureWarning: `torch.cpu.amp.autocast(args...)` is deprecated. Please use `torch.amp.autocast('cpu', args...)` instead.\n",
      "  with torch.enable_grad(), device_autocast_ctx, torch.cpu.amp.autocast(**ctx.cpu_autocast_kwargs):  # type: ignore[attr-defined]\n"
     ]
    },
    {
     "data": {
      "text/html": [
       "\n",
       "    <div>\n",
       "      \n",
       "      <progress value='10' max='10' style='width:300px; height:20px; vertical-align: middle;'></progress>\n",
       "      [10/10 5:01:36, Epoch 1/2]\n",
       "    </div>\n",
       "    <table border=\"1\" class=\"dataframe\">\n",
       "  <thead>\n",
       " <tr style=\"text-align: left;\">\n",
       "      <th>Step</th>\n",
       "      <th>Training Loss</th>\n",
       "      <th>Validation Loss</th>\n",
       "    </tr>\n",
       "  </thead>\n",
       "  <tbody>\n",
       "    <tr>\n",
       "      <td>1</td>\n",
       "      <td>No log</td>\n",
       "      <td>1.282624</td>\n",
       "    </tr>\n",
       "    <tr>\n",
       "      <td>2</td>\n",
       "      <td>1.433800</td>\n",
       "      <td>1.145782</td>\n",
       "    </tr>\n",
       "    <tr>\n",
       "      <td>3</td>\n",
       "      <td>1.433800</td>\n",
       "      <td>1.035312</td>\n",
       "    </tr>\n",
       "    <tr>\n",
       "      <td>4</td>\n",
       "      <td>1.246500</td>\n",
       "      <td>0.938740</td>\n",
       "    </tr>\n",
       "    <tr>\n",
       "      <td>5</td>\n",
       "      <td>1.246500</td>\n",
       "      <td>0.851025</td>\n",
       "    </tr>\n",
       "    <tr>\n",
       "      <td>6</td>\n",
       "      <td>1.069000</td>\n",
       "      <td>0.777541</td>\n",
       "    </tr>\n",
       "    <tr>\n",
       "      <td>7</td>\n",
       "      <td>1.069000</td>\n",
       "      <td>0.720084</td>\n",
       "    </tr>\n",
       "    <tr>\n",
       "      <td>8</td>\n",
       "      <td>0.934500</td>\n",
       "      <td>0.678166</td>\n",
       "    </tr>\n",
       "    <tr>\n",
       "      <td>9</td>\n",
       "      <td>0.934500</td>\n",
       "      <td>0.649756</td>\n",
       "    </tr>\n",
       "    <tr>\n",
       "      <td>10</td>\n",
       "      <td>0.787200</td>\n",
       "      <td>0.635124</td>\n",
       "    </tr>\n",
       "  </tbody>\n",
       "</table><p>"
      ],
      "text/plain": [
       "<IPython.core.display.HTML object>"
      ]
     },
     "metadata": {},
     "output_type": "display_data"
    },
    {
     "name": "stderr",
     "output_type": "stream",
     "text": [
      "/home/aryaniyaps/velocius-ai/leaseaudit-model-training/.venv/lib/python3.12/site-packages/torch/_dynamo/eval_frame.py:600: UserWarning: torch.utils.checkpoint: the use_reentrant parameter should be passed explicitly. In version 2.4 we will raise an exception if use_reentrant is not passed. use_reentrant=False is recommended, but if you need to preserve the current default behavior, you can pass use_reentrant=True. Refer to docs for more details on the differences between the two variants.\n",
      "  return fn(*args, **kwargs)\n",
      "/home/aryaniyaps/velocius-ai/leaseaudit-model-training/.venv/lib/python3.12/site-packages/torch/utils/checkpoint.py:295: FutureWarning: `torch.cpu.amp.autocast(args...)` is deprecated. Please use `torch.amp.autocast('cpu', args...)` instead.\n",
      "  with torch.enable_grad(), device_autocast_ctx, torch.cpu.amp.autocast(**ctx.cpu_autocast_kwargs):  # type: ignore[attr-defined]\n",
      "/home/aryaniyaps/velocius-ai/leaseaudit-model-training/.venv/lib/python3.12/site-packages/torch/_dynamo/eval_frame.py:600: UserWarning: torch.utils.checkpoint: the use_reentrant parameter should be passed explicitly. In version 2.4 we will raise an exception if use_reentrant is not passed. use_reentrant=False is recommended, but if you need to preserve the current default behavior, you can pass use_reentrant=True. Refer to docs for more details on the differences between the two variants.\n",
      "  return fn(*args, **kwargs)\n",
      "/home/aryaniyaps/velocius-ai/leaseaudit-model-training/.venv/lib/python3.12/site-packages/torch/utils/checkpoint.py:295: FutureWarning: `torch.cpu.amp.autocast(args...)` is deprecated. Please use `torch.amp.autocast('cpu', args...)` instead.\n",
      "  with torch.enable_grad(), device_autocast_ctx, torch.cpu.amp.autocast(**ctx.cpu_autocast_kwargs):  # type: ignore[attr-defined]\n",
      "/home/aryaniyaps/velocius-ai/leaseaudit-model-training/.venv/lib/python3.12/site-packages/torch/_dynamo/eval_frame.py:600: UserWarning: torch.utils.checkpoint: the use_reentrant parameter should be passed explicitly. In version 2.4 we will raise an exception if use_reentrant is not passed. use_reentrant=False is recommended, but if you need to preserve the current default behavior, you can pass use_reentrant=True. Refer to docs for more details on the differences between the two variants.\n",
      "  return fn(*args, **kwargs)\n",
      "/home/aryaniyaps/velocius-ai/leaseaudit-model-training/.venv/lib/python3.12/site-packages/torch/utils/checkpoint.py:295: FutureWarning: `torch.cpu.amp.autocast(args...)` is deprecated. Please use `torch.amp.autocast('cpu', args...)` instead.\n",
      "  with torch.enable_grad(), device_autocast_ctx, torch.cpu.amp.autocast(**ctx.cpu_autocast_kwargs):  # type: ignore[attr-defined]\n",
      "/home/aryaniyaps/velocius-ai/leaseaudit-model-training/.venv/lib/python3.12/site-packages/torch/_dynamo/eval_frame.py:600: UserWarning: torch.utils.checkpoint: the use_reentrant parameter should be passed explicitly. In version 2.4 we will raise an exception if use_reentrant is not passed. use_reentrant=False is recommended, but if you need to preserve the current default behavior, you can pass use_reentrant=True. Refer to docs for more details on the differences between the two variants.\n",
      "  return fn(*args, **kwargs)\n",
      "/home/aryaniyaps/velocius-ai/leaseaudit-model-training/.venv/lib/python3.12/site-packages/torch/utils/checkpoint.py:295: FutureWarning: `torch.cpu.amp.autocast(args...)` is deprecated. Please use `torch.amp.autocast('cpu', args...)` instead.\n",
      "  with torch.enable_grad(), device_autocast_ctx, torch.cpu.amp.autocast(**ctx.cpu_autocast_kwargs):  # type: ignore[attr-defined]\n",
      "/home/aryaniyaps/velocius-ai/leaseaudit-model-training/.venv/lib/python3.12/site-packages/torch/_dynamo/eval_frame.py:600: UserWarning: torch.utils.checkpoint: the use_reentrant parameter should be passed explicitly. In version 2.4 we will raise an exception if use_reentrant is not passed. use_reentrant=False is recommended, but if you need to preserve the current default behavior, you can pass use_reentrant=True. Refer to docs for more details on the differences between the two variants.\n",
      "  return fn(*args, **kwargs)\n",
      "/home/aryaniyaps/velocius-ai/leaseaudit-model-training/.venv/lib/python3.12/site-packages/torch/utils/checkpoint.py:295: FutureWarning: `torch.cpu.amp.autocast(args...)` is deprecated. Please use `torch.amp.autocast('cpu', args...)` instead.\n",
      "  with torch.enable_grad(), device_autocast_ctx, torch.cpu.amp.autocast(**ctx.cpu_autocast_kwargs):  # type: ignore[attr-defined]\n",
      "/home/aryaniyaps/velocius-ai/leaseaudit-model-training/.venv/lib/python3.12/site-packages/torch/_dynamo/eval_frame.py:600: UserWarning: torch.utils.checkpoint: the use_reentrant parameter should be passed explicitly. In version 2.4 we will raise an exception if use_reentrant is not passed. use_reentrant=False is recommended, but if you need to preserve the current default behavior, you can pass use_reentrant=True. Refer to docs for more details on the differences between the two variants.\n",
      "  return fn(*args, **kwargs)\n",
      "/home/aryaniyaps/velocius-ai/leaseaudit-model-training/.venv/lib/python3.12/site-packages/torch/utils/checkpoint.py:295: FutureWarning: `torch.cpu.amp.autocast(args...)` is deprecated. Please use `torch.amp.autocast('cpu', args...)` instead.\n",
      "  with torch.enable_grad(), device_autocast_ctx, torch.cpu.amp.autocast(**ctx.cpu_autocast_kwargs):  # type: ignore[attr-defined]\n",
      "/home/aryaniyaps/velocius-ai/leaseaudit-model-training/.venv/lib/python3.12/site-packages/torch/_dynamo/eval_frame.py:600: UserWarning: torch.utils.checkpoint: the use_reentrant parameter should be passed explicitly. In version 2.4 we will raise an exception if use_reentrant is not passed. use_reentrant=False is recommended, but if you need to preserve the current default behavior, you can pass use_reentrant=True. Refer to docs for more details on the differences between the two variants.\n",
      "  return fn(*args, **kwargs)\n",
      "/home/aryaniyaps/velocius-ai/leaseaudit-model-training/.venv/lib/python3.12/site-packages/torch/utils/checkpoint.py:295: FutureWarning: `torch.cpu.amp.autocast(args...)` is deprecated. Please use `torch.amp.autocast('cpu', args...)` instead.\n",
      "  with torch.enable_grad(), device_autocast_ctx, torch.cpu.amp.autocast(**ctx.cpu_autocast_kwargs):  # type: ignore[attr-defined]\n",
      "/home/aryaniyaps/velocius-ai/leaseaudit-model-training/.venv/lib/python3.12/site-packages/torch/_dynamo/eval_frame.py:600: UserWarning: torch.utils.checkpoint: the use_reentrant parameter should be passed explicitly. In version 2.4 we will raise an exception if use_reentrant is not passed. use_reentrant=False is recommended, but if you need to preserve the current default behavior, you can pass use_reentrant=True. Refer to docs for more details on the differences between the two variants.\n",
      "  return fn(*args, **kwargs)\n",
      "/home/aryaniyaps/velocius-ai/leaseaudit-model-training/.venv/lib/python3.12/site-packages/torch/utils/checkpoint.py:295: FutureWarning: `torch.cpu.amp.autocast(args...)` is deprecated. Please use `torch.amp.autocast('cpu', args...)` instead.\n",
      "  with torch.enable_grad(), device_autocast_ctx, torch.cpu.amp.autocast(**ctx.cpu_autocast_kwargs):  # type: ignore[attr-defined]\n",
      "/home/aryaniyaps/velocius-ai/leaseaudit-model-training/.venv/lib/python3.12/site-packages/torch/_dynamo/eval_frame.py:600: UserWarning: torch.utils.checkpoint: the use_reentrant parameter should be passed explicitly. In version 2.4 we will raise an exception if use_reentrant is not passed. use_reentrant=False is recommended, but if you need to preserve the current default behavior, you can pass use_reentrant=True. Refer to docs for more details on the differences between the two variants.\n",
      "  return fn(*args, **kwargs)\n",
      "/home/aryaniyaps/velocius-ai/leaseaudit-model-training/.venv/lib/python3.12/site-packages/torch/utils/checkpoint.py:295: FutureWarning: `torch.cpu.amp.autocast(args...)` is deprecated. Please use `torch.amp.autocast('cpu', args...)` instead.\n",
      "  with torch.enable_grad(), device_autocast_ctx, torch.cpu.amp.autocast(**ctx.cpu_autocast_kwargs):  # type: ignore[attr-defined]\n"
     ]
    },
    {
     "data": {
      "text/plain": [
       "TrainOutput(global_step=10, training_loss=1.0941948771476746, metrics={'train_runtime': 19618.0545, 'train_samples_per_second': 0.016, 'train_steps_per_second': 0.001, 'total_flos': 2722954752294912.0, 'train_loss': 1.0941948771476746, 'epoch': 1.5384615384615383})"
      ]
     },
     "execution_count": 8,
     "metadata": {},
     "output_type": "execute_result"
    }
   ],
   "source": [
    "from transformers import Seq2SeqTrainingArguments, DataCollatorForSeq2Seq, Seq2SeqTrainer\n",
    "\n",
    "training_args = Seq2SeqTrainingArguments(\n",
    "    output_dir=\"./results\",\n",
    "    eval_strategy=\"steps\",  # Changed to evaluate based on steps\n",
    "    eval_steps=10,  # Evaluate every 10 steps\n",
    "    learning_rate=1e-3,\n",
    "    lr_scheduler_type=\"linear\",\n",
    "    per_device_train_batch_size=4,\n",
    "    per_device_eval_batch_size=4,\n",
    "    gradient_accumulation_steps=8,\n",
    "    gradient_checkpointing=True,\n",
    "    logging_strategy=\"steps\",\n",
    "    logging_steps=10,\n",
    "    disable_tqdm=False,  # Ensure tqdm progress bar is enabled\n",
    "    max_steps = 200, # increase max steps\n",
    "    use_cpu=True,\n",
    "    save_strategy=\"steps\",\n",
    "    save_steps=10,  # Save a checkpoint every 10 steps\n",
    "    # predict_with_generate=True, # need this for ROUGE/ BLEU metrics\n",
    "    optim=\"paged_adamw_32bit\",\n",
    ")\n",
    "\n",
    "trainer = Seq2SeqTrainer(\n",
    "    model=model,\n",
    "    tokenizer=tokenizer,\n",
    "    train_dataset=tokenized_train_dataset,\n",
    "    eval_dataset=tokenized_eval_dataset,\n",
    "    args=training_args,\n",
    "    data_collator=DataCollatorForSeq2Seq(\n",
    "        tokenizer=tokenizer,\n",
    "        model=model,\n",
    "        return_tensors=\"pt\",  # Return PyTorch tensors\n",
    "    )\n",
    ")\n",
    "model.config.use_cache = False  # silence the warnings. Please re-enable for inference!\n",
    "trainer.train()"
   ]
  },
  {
   "cell_type": "markdown",
   "metadata": {},
   "source": [
    "### Save the model"
   ]
  },
  {
   "cell_type": "code",
   "execution_count": 9,
   "metadata": {},
   "outputs": [],
   "source": [
    "peft_model_repo_id = \"aryaniyaps/finetuned_flan_t5_xl_lease_data_extraction_200\""
   ]
  },
  {
   "cell_type": "code",
   "execution_count": 13,
   "metadata": {},
   "outputs": [],
   "source": [
    "# Push the PEFT model (LoRA adapters) to Hugging Face Hub\n",
    "trainer.model.save_pretrained(\"./saved_models/finetuned_flan_t5_xl_lease_data_extraction_200\")\n",
    "\n",
    "trainer.model.push_to_hub(peft_model_repo_id)"
   ]
  },
  {
   "cell_type": "markdown",
   "metadata": {},
   "source": [
    "### Evaluate the model"
   ]
  },
  {
   "cell_type": "code",
   "execution_count": 11,
   "metadata": {},
   "outputs": [
    {
     "name": "stdout",
     "output_type": "stream",
     "text": [
      "PEFT model loaded\n"
     ]
    }
   ],
   "source": [
    "from peft import PeftModel\n",
    " \n",
    "# Load the Lora model\n",
    "finetuned_model = PeftModel.from_pretrained(model, peft_model_repo_id, device_map={\"\":0})\n",
    "finetuned_model.eval()\n",
    " \n",
    "print(\"PEFT model loaded\")"
   ]
  },
  {
   "cell_type": "markdown",
   "metadata": {},
   "source": [
    "Let's try data extraction with a random sample"
   ]
  },
  {
   "cell_type": "code",
   "execution_count": 23,
   "metadata": {},
   "outputs": [],
   "source": [
    "from random import randrange\n",
    "from tabulate import tabulate\n",
    "\n",
    "sample = test_dataset[randrange(len(test_dataset))]\n",
    " \n",
    "input_ids = tokenizer(prompt_template.format(extracted_text=sample[\"extracted_text\"], extraction_json_schema_str=extraction_json_schema_str), return_tensors=\"pt\", truncation=True).input_ids.cuda()\n",
    "with torch.no_grad():\n",
    "    outputs = finetuned_model.generate(input_ids=input_ids, max_new_tokens=512)\n"
   ]
  },
  {
   "cell_type": "code",
   "execution_count": 27,
   "metadata": {},
   "outputs": [
    {
     "data": {
      "text/html": [
       "<table>\n",
       "<thead>\n",
       "<tr><th>OCR text  </th><th>Extracted data (Finetuned model)                                                                                                                                                                                                                                                                                                                                                                                      </th></tr>\n",
       "</thead>\n",
       "<tbody>\n",
       "<tr><td>OWNER/MANAGEMENT INFORMATION DISCLOSURE ADDENDUM:\n",
       "This Owner/Management Information Disclosure Addendum is made for the purpose of complying with Alabama law and is attached to the Lease Contract between Owner and Resident, incorporated with the terms of the Lease Contract herein by reference, and is considered to be a term of the Lease Contract itself.\n",
       "The person authorized to manage the premises contemplated by the Lease Contract is identified as follows and is considered to be Owner&#x27;s Agent for purposes of the Lease Contract:\n",
       "Name of property manager:\n",
       "Elizabeth Gendron\n",
       "Business Address:\n",
       "The owner of the premises or a person authorized to act for and on behalf of the owner for the purpose of service of process in receiving and receipting the notices and demands called for or contemplated by the Lease Contract, is identified as follows and is considered to be Owner&#x27;s Agent for purposes of this lease:\n",
       "Name of owner of premises:\n",
       "Madison BAL LLC\n",
       "Business Address:\n",
       "850 Shoal Run Trail\n",
       "Birmingham, AL\n",
       "Owner&#x27;s Disclosure (Initial)\n",
       "Eng\n",
       "Owner\n",
       "Resident&#x27;s Acknowledgement (Initial) CM Resident TM Resident\n",
       "Mac\n",
       "Resident\n",
       "Resident\n",
       "Resident\n",
       "Resident\n",
       "Alabama/National Apartment Association Official Form, July 2018 :selected: Blue Moon eSignature Services Document ID: 361479112 , National Apartment Association, Inc.           </td><td>&#x27;, &#x27;unit_address&#x27;: &#x27;null&#x27;, &#x27;tenant_name&#x27;: &#x27;null&#x27;, &#x27;unit_address&#x27;: &#x27;null&#x27;, &#x27;lease_term&#x27;:&#x27;monthly&#x27;, &#x27;lease_start&#x27;:&#x27;monthly&#x27;, &#x27;lease_end&#x27;:&#x27;monthly&#x27;, &#x27;lease_end&#x27;:&#x27;monthly&#x27;, &#x27;lease_start&#x27;:&#x27;monthly&#x27;, &#x27;lease_end&#x27;:&#x27;monthly&#x27;, &#x27;lease_end&#x27;:&#x27;monthly&#x27;, &#x27;lease_start&#x27;:&#x27;monthly&#x27;, &#x27;lease_end&#x27;:&#x27;monthly&#x27;, &#x27;lease_end&#x27;:&#x27;monthly&#x27;, &#x27;lease_start&#x27;:&#x27;monthly&#x27;, &#x27;lease_end&#x27;:&#x27;monthly&#x27;, &#x27;lease_start&#x27;:&#x27;monthly&#x27;, &#x27;lease_end&#x27;:&#x27;monthly&#x27;]</td></tr>\n",
       "</tbody>\n",
       "</table>"
      ],
      "text/plain": [
       "'<table>\\n<thead>\\n<tr><th>OCR text  </th><th>Extracted data (Finetuned model)                                                                                                                                                                                                                                                                                                                                                                                      </th></tr>\\n</thead>\\n<tbody>\\n<tr><td>OWNER/MANAGEMENT INFORMATION DISCLOSURE ADDENDUM:\\nThis Owner/Management Information Disclosure Addendum is made for the purpose of complying with Alabama law and is attached to the Lease Contract between Owner and Resident, incorporated with the terms of the Lease Contract herein by reference, and is considered to be a term of the Lease Contract itself.\\nThe person authorized to manage the premises contemplated by the Lease Contract is identified as follows and is considered to be Owner&#x27;s Agent for purposes of the Lease Contract:\\nName of property manager:\\nElizabeth Gendron\\nBusiness Address:\\nThe owner of the premises or a person authorized to act for and on behalf of the owner for the purpose of service of process in receiving and receipting the notices and demands called for or contemplated by the Lease Contract, is identified as follows and is considered to be Owner&#x27;s Agent for purposes of this lease:\\nName of owner of premises:\\nMadison BAL LLC\\nBusiness Address:\\n850 Shoal Run Trail\\nBirmingham, AL\\nOwner&#x27;s Disclosure (Initial)\\nEng\\nOwner\\nResident&#x27;s Acknowledgement (Initial) CM Resident TM Resident\\nMac\\nResident\\nResident\\nResident\\nResident\\nAlabama/National Apartment Association Official Form, July 2018 :selected: Blue Moon eSignature Services Document ID: 361479112 , National Apartment Association, Inc.           </td><td>&#x27;, &#x27;unit_address&#x27;: &#x27;null&#x27;, &#x27;tenant_name&#x27;: &#x27;null&#x27;, &#x27;unit_address&#x27;: &#x27;null&#x27;, &#x27;lease_term&#x27;:&#x27;monthly&#x27;, &#x27;lease_start&#x27;:&#x27;monthly&#x27;, &#x27;lease_end&#x27;:&#x27;monthly&#x27;, &#x27;lease_end&#x27;:&#x27;monthly&#x27;, &#x27;lease_start&#x27;:&#x27;monthly&#x27;, &#x27;lease_end&#x27;:&#x27;monthly&#x27;, &#x27;lease_end&#x27;:&#x27;monthly&#x27;, &#x27;lease_start&#x27;:&#x27;monthly&#x27;, &#x27;lease_end&#x27;:&#x27;monthly&#x27;, &#x27;lease_end&#x27;:&#x27;monthly&#x27;, &#x27;lease_start&#x27;:&#x27;monthly&#x27;, &#x27;lease_end&#x27;:&#x27;monthly&#x27;, &#x27;lease_start&#x27;:&#x27;monthly&#x27;, &#x27;lease_end&#x27;:&#x27;monthly&#x27;]</td></tr>\\n</tbody>\\n</table>'"
      ]
     },
     "execution_count": 27,
     "metadata": {},
     "output_type": "execute_result"
    }
   ],
   "source": [
    "prediction = tokenizer.decode(outputs[0].detach().cpu().numpy(), skip_special_tokens=True)\n",
    "\n",
    "table_data = [[sample['extracted_text'], prediction]]\n",
    "\n",
    "# Define table headers\n",
    "headers = [\"OCR text\", \"Extracted data (Finetuned model)\"]\n",
    "\n",
    "# Display the table\n",
    "tabulate(table_data, headers=headers, tablefmt=\"html\", showindex=False)"
   ]
  },
  {
   "cell_type": "markdown",
   "metadata": {},
   "source": [
    "### Evaluate the model\n",
    "(Using F1 score and exact matches)"
   ]
  },
  {
   "cell_type": "markdown",
   "metadata": {},
   "source": [
    "#### Install dependencies"
   ]
  },
  {
   "cell_type": "code",
   "execution_count": 33,
   "metadata": {},
   "outputs": [
    {
     "name": "stderr",
     "output_type": "stream",
     "text": [
      "huggingface/tokenizers: The current process just got forked, after parallelism has already been used. Disabling parallelism to avoid deadlocks...\n",
      "To disable this warning, you can either:\n",
      "\t- Avoid using `tokenizers` before the fork if possible\n",
      "\t- Explicitly set the environment variable TOKENIZERS_PARALLELISM=(true | false)\n"
     ]
    },
    {
     "name": "stdout",
     "output_type": "stream",
     "text": [
      "Note: you may need to restart the kernel to use updated packages.\n"
     ]
    }
   ],
   "source": [
    "%pip install evaluate tabulate -q"
   ]
  },
  {
   "cell_type": "code",
   "execution_count": 13,
   "metadata": {},
   "outputs": [
    {
     "name": "stderr",
     "output_type": "stream",
     "text": [
      "100%|██████████| 26/26 [28:22<00:00, 65.48s/it]\n"
     ]
    }
   ],
   "source": [
    "from tqdm import tqdm\n",
    "\n",
    "def evaluate_peft_model(sample, max_target_length=512):\n",
    "    # Generate extracted data\n",
    "    input_ids = torch.tensor(sample[\"input_ids\"]).unsqueeze(0).cuda()\n",
    "    with torch.no_grad():\n",
    "        outputs = model.generate(input_ids=input_ids, max_new_tokens=max_target_length)\n",
    "    prediction = tokenizer.decode(outputs[0].detach().cpu().numpy(), skip_special_tokens=True)\n",
    "    \n",
    "    # Decode eval sample\n",
    "    labels = tokenizer.decode(sample['labels'], skip_special_tokens=True)\n",
    " \n",
    "    return prediction, labels\n",
    "\n",
    "# Run predictions\n",
    "predictions, references = [], []\n",
    "for sample in tqdm(tokenized_test_dataset):\n",
    "    prediction, reference = evaluate_peft_model(sample)\n",
    "    predictions.append(prediction)\n",
    "    references.append(reference)"
   ]
  },
  {
   "cell_type": "code",
   "execution_count": 17,
   "metadata": {},
   "outputs": [
    {
     "data": {
      "text/html": [
       "<table>\n",
       "<thead>\n",
       "<tr><th style=\"text-align: right;\">  #</th><th>Reference data                                                                                                                                                                                                                                                                                                                                                                                                                                                                                                                               </th><th>Extracted data (Finetuned model)                                                                                                                                                                                                                                                                                                                                                                                                                                                                                                                                                                                                                                                                                                                                                                                                                                                                                                                                                                                                                                                                                   </th></tr>\n",
       "</thead>\n",
       "<tbody>\n",
       "<tr><td style=\"text-align: right;\">  1</td><td>&#x27;tenant_name&#x27;: None, &#x27;unit_address&#x27;: &#x27;333 H Street, Ste. 5000, Chula Vista, CA 91910&#x27;, &#x27;unit_number&#x27;: None, &#x27;unit_type&#x27;: None, &#x27;agreement_date&#x27;: None, &#x27;lease_start&#x27;: None, &#x27;lease_end&#x27;: &#x27;2024-03-31&#x27;, &#x27;lease_auto_renew&#x27;: None, &#x27;hourly_rate&#x27;: None,&#x27;monthly_rent&#x27;: 3350.0, &#x27;prorated_rent&#x27;: 2121.67,&#x27;security_deposit&#x27;: 2500.0, &#x27;lease_rent&#x27;: None,&#x27;monthly_payment_breakdown&#x27;: &#x27;Liability to Landlord Insurance&#x27;: 9.5, &#x27;Admin Fee - Liability to Landlord Insurance&#x27;: 3.0, &#x27;Rent Income&#x27;: 3350.0, &#x27;Total&#x27;: 3362.5, &#x27;utility_charges&#x27;: None</td><td>&#x27;LeaseTerm&#x27;:&#x27;monthly&#x27;, &#x27;LeaseRent&#x27;:&#x27;monthly&#x27;, &#x27;LeaseRent&#x27;:&#x27;monthly&#x27;, &#x27;LeaseRent&#x27;:&#x27;monthly&#x27;, &#x27;LeaseRent&#x27;:&#x27;monthly&#x27;, &#x27;LeaseRent&#x27;:&#x27;monthly&#x27;, &#x27;LeaseRent&#x27;:&#x27;monthly&#x27;, &#x27;LeaseRent&#x27;:&#x27;monthly&#x27;, &#x27;LeaseRent&#x27;:&#x27;monthly&#x27;, &#x27;LeaseRent&#x27;:&#x27;monthly&#x27;, &#x27;LeaseRent&#x27;:&#x27;monthly&#x27;, &#x27;LeaseRent&#x27;:&#x27;monthly&#x27;, &#x27;LeaseRent&#x27;:&#x27;monthly&#x27;, &#x27;LeaseRent&#x27;:&#x27;monthly&#x27;, &#x27;LeaseRent&#x27;:&#x27;monthly&#x27;, &#x27;LeaseRent&#x27;:&#x27;monthly&#x27;, &#x27;LeaseRent&#x27;:&#x27;monthly&#x27;, &#x27;LeaseRent&#x27;:&#x27;monthly&#x27;, &#x27;LeaseRent&#x27;:&#x27;monthly&#x27;, &#x27;LeaseRent&#x27;:&#x27;monthly&#x27;, &#x27;LeaseRent&#x27;:&#x27;monthly&#x27;, &#x27;LeaseRent&#x27;:&#x27;monthly&#x27;, &#x27;LeaseRent&#x27;:&#x27;monthly&#x27;, &#x27;LeaseRent&#x27;:&#x27;monthly&#x27;, &#x27;LeaseRent&#x27;:&#x27;monthly&#x27;, &#x27;LeaseRent&#x27;:&#x27;monthly&#x27;, &#x27;LeaseRent&#x27;:&#x27;monthly&#x27;, &#x27;LeaseRent&#x27;:&#x27;monthly&#x27;, &#x27;LeaseRent&#x27;:&#x27;monthly&#x27;, &#x27;LeaseRent&#x27;:&#x27;monthly&#x27;, &#x27;LeaseRent&#x27;:&#x27;monthly&#x27;, &#x27;LeaseRent&#x27;:&#x27;monthly&#x27;, &#x27;LeaseRent&#x27;:&#x27;monthly&#x27;, &#x27;LeaseRent&#x27;:&#x27;monthly&#x27;, &#x27;LeaseRent&#x27;:&#x27;monthly&#x27;, &#x27;LeaseRent&#x27;:&#x27;monthly&#x27;, &#x27;LeaseRent&#x27;:                                                                                                                                                                                                                                           </td></tr>\n",
       "<tr><td style=\"text-align: right;\">  2</td><td>&#x27;tenant_name&#x27;: &#x27;Saray Ramos Gutierrez&#x27;, &#x27;unit_address&#x27;: &#x27;Crystal Terrace&#x27;, &#x27;unit_number&#x27;: None, &#x27;unit_type&#x27;: None, &#x27;agreement_date&#x27;: &#x27;2021-11-01&#x27;, &#x27;lease_start&#x27;: None, &#x27;lease_end&#x27;: None, &#x27;lease_auto_renew&#x27;: None, &#x27;hourly_rate&#x27;: None,&#x27;monthly_rent&#x27;: None, &#x27;prorated_rent&#x27;: None,&#x27;security_deposit&#x27;: None, &#x27;lease_rent&#x27;: None,&#x27;monthly_payment_breakdown&#x27;: None, &#x27;utility_charges&#x27;: None                                                                                                                                                 </td><td>&#x27;Lessee&#x27;: Saray Ramos Gutierrez, &#x27;Lessor&#x27;: avant garde, &#x27;LeaseTerm&#x27;: &#x27;2011&#x27;, &#x27;LeaseUnit&#x27;: &#x27;Crystal Terrace A&#x27;, &#x27;LeaseAmount&#x27;: &#x27;$&#x27;, &#x27;LeaseTerm&#x27;: &#x27;2011&#x27;, &#x27;LeaseTerm&#x27;: &#x27;2011&#x27;, &#x27;LeaseTerm&#x27;: &#x27;2011&#x27;, &#x27;LeaseAmount&#x27;: &#x27;2011&#x27;, &#x27;LeaseTerm&#x27;: &#x27;2011&#x27;, &#x27;LeaseTerm&#x27;: &#x27;2011&#x27;, &#x27;LeaseTerm&#x27;: &#x27;2011&#x27;, &#x27;LeaseTerm&#x27;: &#x27;2011&#x27;, &#x27;LeaseTerm&#x27;: &#x27;2011&#x27;, &#x27;LeaseTerm&#x27;: &#x27;2011&#x27;, &#x27;LeaseTerm&#x27;: &#x27;2011&#x27;, &#x27;LeaseTerm&#x27;: &#x27;2011&#x27;, &#x27;LeaseTerm&#x27;: &#x27;2011&#x27;, &#x27;LeaseTerm&#x27;: &#x27;2011&#x27;, &#x27;LeaseTerm&#x27;: &#x27;2011&#x27;, &#x27;LeaseTerm&#x27;: &#x27;2011&#x27;, &#x27;LeaseTerm&#x27;: &#x27;2011&#x27;, &#x27;LeaseTerm&#x27;: &#x27;2011&#x27;, &#x27;LeaseTerm&#x27;: &#x27;2011&#x27;, &#x27;LeaseTerm&#x27;: &#x27;2011&#x27;, &#x27;LeaseTerm&#x27;: &#x27;2011&#x27;, &#x27;LeaseTerm&#x27;: &#x27;2011&#x27;, &#x27;LeaseTerm&#x27;: &#x27;2011&#x27;, &#x27;LeaseTerm&#x27;: &#x27;2011&#x27;, &#x27;LeaseTerm&#x27;: &#x27;2011&#x27;, &#x27;LeaseTerm&#x27;: &#x27;2011&#x27;, &#x27;LeaseTerm&#x27;: &#x27;2011&#x27;, &#x27;LeaseTerm&#x27;: &#x27;2011&#x27;, &#x27;LeaseTerm&#x27;: &#x27;2011&#x27;, &#x27;LeaseTerm&#x27;: &#x27;2011&#x27;, &#x27;LeaseTerm&#x27;: &#x27;2011&#x27;, &#x27;LeaseTerm&#x27;: &#x27;2011&#x27;, &#x27;LeaseTerm&#x27;: &#x27;2011&#x27;, &#x27;LeaseTerm&#x27;: &#x27;2011&#x27;, &#x27;LeaseTerm&#x27;: &#x27;2011&#x27;, &#x27;LeaseTerm&#x27;: &#x27;2011&#x27;, &#x27;LeaseTerm&#x27;: &#x27;2011&#x27;                                                                                                                                                                       </td></tr>\n",
       "<tr><td style=\"text-align: right;\">  3</td><td>&#x27;tenant_name&#x27;: &#x27;Claudia Spooney&#x27;, &#x27;unit_address&#x27;: &#x27;5604 Villas Cir Apt E, Montgomery, AL&#x27;, &#x27;unit_number&#x27;: &#x27;5604E&#x27;, &#x27;unit_type&#x27;: None, &#x27;agreement_date&#x27;: &#x27;2023-02-21&#x27;, &#x27;lease_start&#x27;: &#x27;2023-02-28&#x27;, &#x27;lease_end&#x27;: &#x27;2024-02-29&#x27;, &#x27;lease_auto_renew&#x27;: None, &#x27;hourly_rate&#x27;: None,&#x27;monthly_rent&#x27;: None, &#x27;prorated_rent&#x27;: None,&#x27;security_deposit&#x27;: 0.0, &#x27;lease_rent&#x27;: None,&#x27;monthly_payment_breakdown&#x27;: None, &#x27;utility_charges&#x27;: None                                                                                                               </td><td>&#x27;Apartment&#x27;: &#x27;5604E&#x27;, &#x27;LeaseTerm&#x27;: &#x27;02/28/2023&#x27;, &#x27;LeaseTerm&#x27;: &#x27;02/29/2024&#x27;, &#x27;ApartmentNumber&#x27;: &#x27;5604E&#x27;, &#x27;LeaseTerm&#x27;: &#x27;02/28/2023&#x27;, &#x27;LeaseTerm&#x27;: &#x27;02/29/2024&#x27;                                                                                                                                                                                                                                                                                                                                                                                                                                                                                                                                                                                                                                                                                                                                                                                                                                                                                                                                                       </td></tr>\n",
       "<tr><td style=\"text-align: right;\">  4</td><td>&#x27;tenant_name&#x27;: None, &#x27;unit_address&#x27;: None, &#x27;unit_number&#x27;: None, &#x27;unit_type&#x27;: None, &#x27;agreement_date&#x27;: None, &#x27;lease_start&#x27;: None, &#x27;lease_end&#x27;: None, &#x27;lease_auto_renew&#x27;: None, &#x27;hourly_rate&#x27;: None,&#x27;monthly_rent&#x27;: 1046.0, &#x27;prorated_rent&#x27;: None,&#x27;security_deposit&#x27;: None, &#x27;lease_rent&#x27;: None,&#x27;monthly_payment_breakdown&#x27;: None, &#x27;utility_charges&#x27;: &#x27;electric_service&#x27;: None, &#x27;water_and_sewer&#x27;: None, &#x27;gas&#x27;: None, &#x27;trash&#x27;: None, &#x27;common_area_electric&#x27;: None,&#x27;monthly_billing_fee&#x27;: 4.99                                                    </td><td>&#x27;LeaseTerm&#x27;:&#x27;monthly&#x27;, &#x27;LeaseTerm&#x27;: &#x27;year&#x27;, &#x27;LeaseTerm&#x27;:&#x27;month&#x27;, &#x27;LeaseTerm&#x27;: &#x27;year&#x27;, &#x27;LeaseTerm&#x27;:&#x27;month&#x27;, &#x27;LeaseTerm&#x27;: &#x27;year&#x27;, &#x27;LeaseTerm&#x27;:&#x27;month&#x27;, &#x27;LeaseTerm&#x27;: &#x27;year&#x27;, &#x27;LeaseTerm&#x27;:&#x27;month&#x27;, &#x27;LeaseTerm&#x27;: &#x27;year&#x27;, &#x27;LeaseTerm&#x27;:&#x27;month&#x27;, &#x27;LeaseTerm&#x27;: &#x27;year&#x27;, &#x27;LeaseTerm&#x27;:&#x27;month&#x27;, &#x27;LeaseTerm&#x27;:&#x27;month&#x27;, &#x27;LeaseTerm&#x27;: &#x27;year&#x27;, &#x27;LeaseTerm&#x27;:&#x27;month&#x27;, &#x27;LeaseTerm&#x27;:&#x27;month&#x27;, &#x27;LeaseTerm&#x27;: &#x27;year&#x27;, &#x27;LeaseTerm&#x27;:&#x27;month&#x27;, &#x27;LeaseTerm&#x27;:&#x27;month&#x27;, &#x27;LeaseTerm&#x27;: &#x27;year&#x27;, &#x27;LeaseTerm&#x27;:&#x27;month&#x27;, &#x27;LeaseTerm&#x27;:&#x27;month&#x27;, &#x27;LeaseTerm&#x27;:&#x27;month&#x27;, &#x27;LeaseTerm&#x27;:&#x27;month&#x27;, &#x27;LeaseTerm&#x27;:&#x27;month&#x27;, &#x27;LeaseTerm&#x27;:&#x27;month&#x27;, &#x27;LeaseTerm&#x27;:&#x27;month&#x27;, &#x27;LeaseTerm&#x27;:&#x27;month&#x27;, &#x27;LeaseTerm&#x27;:&#x27;month&#x27;, &#x27;LeaseTerm&#x27;:&#x27;month&#x27;, &#x27;LeaseTerm&#x27;:&#x27;month&#x27;, &#x27;LeaseTerm&#x27;:&#x27;month&#x27;, &#x27;LeaseTerm&#x27;:&#x27;month&#x27;, &#x27;LeaseTerm&#x27;:&#x27;month&#x27;, &#x27;LeaseTerm&#x27;:&#x27;month&#x27;, &#x27;LeaseTerm&#x27;:&#x27;month&#x27;, &#x27;LeaseTerm&#x27;:&#x27;month&#x27;, &#x27;LeaseTerm&#x27;:&#x27;month&#x27;, &#x27;LeaseTerm&#x27;:&#x27;month&#x27;, &#x27;LeaseTerm&#x27;:&#x27;month&#x27;, &#x27;LeaseTerm&#x27;:&#x27;month&#x27;, &#x27;LeaseTerm&#x27;                                                                                                                                                                                    </td></tr>\n",
       "<tr><td style=\"text-align: right;\">  5</td><td>&#x27;tenant_name&#x27;: None, &#x27;unit_address&#x27;: None, &#x27;unit_number&#x27;: None, &#x27;unit_type&#x27;: None, &#x27;agreement_date&#x27;: None, &#x27;lease_start&#x27;: None, &#x27;lease_end&#x27;: None, &#x27;lease_auto_renew&#x27;: None, &#x27;hourly_rate&#x27;: None,&#x27;monthly_rent&#x27;: None, &#x27;prorated_rent&#x27;: None,&#x27;security_deposit&#x27;: None, &#x27;lease_rent&#x27;: None,&#x27;monthly_payment_breakdown&#x27;: None, &#x27;utility_charges&#x27;: None                                                                                                                                                                                         </td><td>&#x27;Apartment&#x27;: None, &#x27;Landlord&#x27;: None, &#x27;Apartment_Number&#x27;: None, &#x27;Lease_Term&#x27;: None, &#x27;Agreement_Term&#x27;: None, &#x27;Lease_Term&#x27;: None, &#x27;Agreement_Number&#x27;: None, &#x27;Agreement_Number&#x27;: None, &#x27;Agreement_Term&#x27;: None, &#x27;Agreement_Number&#x27;: None, &#x27;Agreement_Number&#x27;: None, &#x27;Agreement_Number&#x27;: None, &#x27;Agreement_Number&#x27;: None, &#x27;Agreement_Term&#x27;: None, &#x27;Agreement_Number&#x27;: None, &#x27;Agreement_Number&#x27;: None, &#x27;Agreement_Number&#x27;: None, &#x27;Agreement_Number&#x27;: None, &#x27;Agreement_Number&#x27;: None, &#x27;Agreement_Number&#x27;: None, &#x27;Agreement_Number&#x27;: None, &#x27;Agreement_Number&#x27;: None, &#x27;Agreement_Number&#x27;: None, &#x27;Agreement_Number&#x27;: None, &#x27;Agreement_Number&#x27;: None, &#x27;Agreement_Number&#x27;: None, &#x27;Agreement_Number&#x27;: None, &#x27;Agreement_Number&#x27;: None, &#x27;Agreement_Number&#x27;: None, &#x27;Agreement_Number&#x27;: None, &#x27;Agreement_Number&#x27;: None, &#x27;Agreement_Number&#x27;: None, &#x27;Agreement_Number&#x27;: None, &#x27;Agreement_Number&#x27;: None, &#x27;Agreement_Number&#x27;: None, &#x27;Agreement_Number&#x27;: None, &#x27;Agreement_Number&#x27;: None, &#x27;Agreement_Number&#x27;: None, &#x27;Agreement_Number&#x27;: None, &#x27;Agreement_Number&#x27;: None, &#x27;Agreement_Number&#x27;                                                  </td></tr>\n",
       "<tr><td style=\"text-align: right;\">  6</td><td>&#x27;tenant_name&#x27;: None, &#x27;unit_address&#x27;: None, &#x27;unit_number&#x27;: None, &#x27;unit_type&#x27;: None, &#x27;agreement_date&#x27;: None, &#x27;lease_start&#x27;: None, &#x27;lease_end&#x27;: None, &#x27;lease_auto_renew&#x27;: None, &#x27;hourly_rate&#x27;: None,&#x27;monthly_rent&#x27;: None, &#x27;prorated_rent&#x27;: None,&#x27;security_deposit&#x27;: None, &#x27;lease_rent&#x27;: None,&#x27;monthly_payment_breakdown&#x27;: None, &#x27;utility_charges&#x27;: None                                                                                                                                                                                         </td><td>&#x27;apartment&#x27;: &#x27;a&#x27;, &#x27;unit&#x27;: &#x27;a&#x27;, &#x27;lease&#x27;: &#x27;a&#x27;, &#x27;lease&#x27;: &#x27;a&#x27;, &#x27;agreement&#x27;: &#x27;agreement&#x27;, &#x27;lease&#x27;: &#x27;agreement&#x27;, &#x27;lease&#x27;: &#x27;agreement&#x27;, &#x27;lease&#x27;: &#x27;agreement&#x27;, &#x27;lease&#x27;: &#x27;agreement&#x27;, &#x27;lease&#x27;: &#x27;agreement&#x27;, &#x27;lease&#x27;: &#x27;agreement&#x27;, &#x27;lease&#x27;: &#x27;agreement&#x27;, &#x27;lease&#x27;: &#x27;agreement&#x27;, &#x27;lease&#x27;: &#x27;agreement&#x27;, &#x27;lease&#x27;: &#x27;agreement&#x27;, &#x27;lease&#x27;: &#x27;agreement&#x27;, &#x27;lease&#x27;: &#x27;agreement&#x27;, &#x27;lease&#x27;: &#x27;agreement&#x27;, &#x27;lease&#x27;: &#x27;agreement&#x27;, &#x27;lease&#x27;: &#x27;agreement&#x27;, &#x27;lease&#x27;: &#x27;agreement&#x27;, &#x27;lease&#x27;: &#x27;agreement&#x27;, &#x27;lease&#x27;: &#x27;agreement&#x27;, &#x27;lease&#x27;: &#x27;agreement&#x27;, &#x27;lease&#x27;: &#x27;agreement&#x27;, &#x27;lease&#x27;: &#x27;agreement&#x27;, &#x27;lease&#x27;: &#x27;agreement&#x27;, &#x27;lease&#x27;: &#x27;agreement&#x27;, &#x27;lease&#x27;: &#x27;agreement&#x27;, &#x27;lease&#x27;: &#x27;agreement&#x27;, &#x27;lease&#x27;: &#x27;agreement&#x27;, &#x27;lease&#x27;: &#x27;agreement&#x27;, &#x27;lease&#x27;: &#x27;agreement&#x27;, &#x27;lease&#x27;: &#x27;agreement&#x27;, &#x27;lease&#x27;: &#x27;agreement&#x27;, &#x27;lease&#x27;: &#x27;agreement&#x27;, &#x27;lease&#x27;: &#x27;agreement&#x27;, &#x27;lease&#x27;: &#x27;agreement&#x27;, &#x27;lease&#x27;: &#x27;agreement&#x27;, &#x27;lease&#x27;: &#x27;agreement                                                                                                                                                                                                                               </td></tr>\n",
       "<tr><td style=\"text-align: right;\">  7</td><td>&#x27;tenant_name&#x27;: &#x27;Benjamin Breier&#x27;, &#x27;unit_address&#x27;: &#x27;1722 Greene Ave, Queens, New York 11385&#x27;, &#x27;unit_number&#x27;: &#x27;1-L&#x27;, &#x27;unit_type&#x27;: &#x27;Apartment&#x27;, &#x27;agreement_date&#x27;: &#x27;2022-08-08&#x27;, &#x27;lease_start&#x27;: &#x27;2022-10-01&#x27;, &#x27;lease_end&#x27;: &#x27;2023-09-30&#x27;, &#x27;lease_auto_renew&#x27;: None, &#x27;hourly_rate&#x27;: None,&#x27;monthly_rent&#x27;: 2581.25, &#x27;prorated_rent&#x27;: None,&#x27;security_deposit&#x27;: 2581.25, &#x27;lease_rent&#x27;: 30975,&#x27;monthly_payment_breakdown&#x27;: None, &#x27;utility_charges&#x27;: None                                                                                                </td><td>&#x27;Landlord&#x27;: 100A Broadway Avenue, &#x27;LeaseTerm&#x27;: &#x27;2020-2023&#x27;, &#x27;Apartment&#x27;: 1722 Greene Ave 1-L, &#x27;LeaseRent&#x27;: $30,975, &#x27;SecurityDeposit&#x27;: $2,581.25, &#x27;Utilities&#x27;: None, &#x27;Agreement&#x27;: None, &#x27;Lease&#x27;: None, &#x27;Agreement&#x27;: None, &#x27;Agreement&#x27;: None, &#x27;Agreement&#x27;: None, &#x27;Agreement&#x27;: None, &#x27;Agreement&#x27;: None, &#x27;Agreement&#x27;: None, &#x27;Agreement&#x27;: None, &#x27;Agreement&#x27;: None, &#x27;Agreement&#x27;: None, &#x27;Agreement&#x27;: None, &#x27;Agreement&#x27;: None, &#x27;Agreement&#x27;: None, &#x27;Agreement&#x27;: None, &#x27;Agreement&#x27;: None, &#x27;Agreement&#x27;: None, &#x27;Agreement&#x27;: None, &#x27;Agreement&#x27;: None, &#x27;Agreement&#x27;: None, &#x27;Agreement&#x27;: None, &#x27;Agreement&#x27;: None, &#x27;Agreement&#x27;: None, &#x27;Agreement&#x27;: None, &#x27;Agreement&#x27;: None, &#x27;Agreement&#x27;: None, &#x27;Agreement&#x27;: None, &#x27;Agreement&#x27;: None, &#x27;Agreement&#x27;: None, &#x27;Agreement&#x27;: None, &#x27;Agreement&#x27;: None, &#x27;Agreement&#x27;: None, &#x27;Agreement&#x27;: None, &#x27;Agreement&#x27;: None, &#x27;Agreement&#x27;: None, &#x27;Agreement&#x27;: None, &#x27;Agreement&#x27;: None, &#x27;Agreement&#x27;: None, &#x27;Agreement&#x27;: None, &#x27;Agreement&#x27;: None, &#x27;Agreement&#x27;: None, &#x27;Agreement&#x27;: None, &#x27;Agreement&#x27;: None, &#x27;Agreement&#x27;: None, &#x27;Agreement&#x27;: None, &#x27;Agreement&#x27;: None, &#x27;Agreement&#x27;: None, &#x27;Agreement&#x27;: None,   </td></tr>\n",
       "<tr><td style=\"text-align: right;\">  8</td><td>&#x27;tenant_name&#x27;: &#x27;Taylor Whittle&#x27;, &#x27;unit_address&#x27;: None, &#x27;unit_number&#x27;: None, &#x27;unit_type&#x27;: None, &#x27;agreement_date&#x27;: &#x27;2023-02-27&#x27;, &#x27;lease_start&#x27;: None, &#x27;lease_end&#x27;: None, &#x27;lease_auto_renew&#x27;: None, &#x27;hourly_rate&#x27;: None,&#x27;monthly_rent&#x27;: None, &#x27;prorated_rent&#x27;: None,&#x27;security_deposit&#x27;: None, &#x27;lease_rent&#x27;: None,&#x27;monthly_payment_breakdown&#x27;: None, &#x27;utility_charges&#x27;: None                                                                                                                                                                     </td><td>&#x27;LeaseTerm&#x27;:&#x27;monthly&#x27;, &#x27;LeaseAgreement&#x27;:&#x27;monthly&#x27;, &#x27;LeaseTerm&#x27;:&#x27;monthly&#x27;, &#x27;LeaseAgreement&#x27;:&#x27;monthly&#x27;, &#x27;LeaseAgreement&#x27;:&#x27;monthly&#x27;, &#x27;LeaseAgreement&#x27;:&#x27;monthly&#x27;, &#x27;LeaseAgreement&#x27;:&#x27;monthly&#x27;, &#x27;LeaseAgreement&#x27;:&#x27;monthly&#x27;, &#x27;LeaseAgreement&#x27;:&#x27;monthly&#x27;, &#x27;LeaseAgreement&#x27;:&#x27;monthly&#x27;, &#x27;LeaseAgreement&#x27;:&#x27;monthly&#x27;, &#x27;LeaseAgreement&#x27;:&#x27;monthly&#x27;, &#x27;LeaseAgreement&#x27;:&#x27;monthly&#x27;, &#x27;LeaseAgreement&#x27;:&#x27;monthly&#x27;, &#x27;LeaseAgreement&#x27;:&#x27;monthly&#x27;, &#x27;LeaseAgreement&#x27;:&#x27;monthly&#x27;, &#x27;LeaseAgreement&#x27;:&#x27;monthly&#x27;, &#x27;LeaseAgreement&#x27;:&#x27;monthly&#x27;, &#x27;LeaseAgreement&#x27;:&#x27;monthly&#x27;, &#x27;LeaseAgreement&#x27;:&#x27;monthly&#x27;, &#x27;LeaseAgreement&#x27;:&#x27;monthly&#x27;, &#x27;LeaseAgreement&#x27;:&#x27;monthly&#x27;, &#x27;LeaseAgreement&#x27;:&#x27;monthly&#x27;, &#x27;LeaseAgreement&#x27;:&#x27;monthly&#x27;, &#x27;LeaseAgreement&#x27;:&#x27;monthly&#x27;, &#x27;LeaseAgreement&#x27;:&#x27;monthly&#x27;, &#x27;LeaseAgreement&#x27;:&#x27;monthly&#x27;, &#x27;LeaseAgreement&#x27;:&#x27;monthly&#x27;, &#x27;LeaseAgreement&#x27;:&#x27;monthly&#x27;, &#x27;LeaseAgreement&#x27;:&#x27;monthly&#x27;, &#x27;LeaseAgreement&#x27;:&#x27;monthly&#x27;, &#x27;LeaseAgreement&#x27;:&#x27;monthly&#x27;, &#x27;LeaseAgreement&#x27;:&#x27;monthly&#x27;, &#x27;LeaseAgreement&#x27;:&#x27;monthly&#x27;, &#x27;LeaseA                                                                                                                              </td></tr>\n",
       "<tr><td style=\"text-align: right;\">  9</td><td>&#x27;tenant_name&#x27;: &#x27;Zoey Medina&#x27;, &#x27;unit_address&#x27;: &#x27;SPRINGHILL APARTMENTS&#x27;, &#x27;unit_number&#x27;: &#x27;01102&#x27;, &#x27;unit_type&#x27;: None, &#x27;agreement_date&#x27;: &#x27;2023-03-06&#x27;, &#x27;lease_start&#x27;: &#x27;2023-03-06&#x27;, &#x27;lease_end&#x27;: None, &#x27;lease_auto_renew&#x27;: None, &#x27;hourly_rate&#x27;: None,&#x27;monthly_rent&#x27;: None, &#x27;prorated_rent&#x27;: None,&#x27;security_deposit&#x27;: None, &#x27;lease_rent&#x27;: None,&#x27;monthly_payment_breakdown&#x27;: None, &#x27;utility_charges&#x27;: None                                                                                                                                          </td><td>&#x27;Address&#x27;: &#x27;01102&#x27;, &#x27;LeaseTerm&#x27;: &#x27;3 Months&#x27;, &#x27;LeaseAgreement&#x27;: &#x27;3 Months&#x27;, &#x27;LeaseTerm&#x27;: &#x27;3 Months&#x27;, &#x27;LeaseAgreement&#x27;: &#x27;3 Months&#x27;, &#x27;LeaseAgreement&#x27;: &#x27;3 Months&#x27;, &#x27;LeaseAgreement&#x27;: &#x27;3 Months&#x27;, &#x27;LeaseAgreement&#x27;: &#x27;3 Months&#x27;, &#x27;LeaseAgreement&#x27;: &#x27;3 Months&#x27;, &#x27;LeaseAgreement&#x27;: &#x27;3 Months&#x27;, &#x27;LeaseAgreement&#x27;: &#x27;3 Months&#x27;, &#x27;LeaseAgreement&#x27;: &#x27;3 Months&#x27;, &#x27;LeaseAgreement&#x27;: &#x27;3 Months&#x27;, &#x27;LeaseAgreement&#x27;: &#x27;3 Months&#x27;, &#x27;LeaseAgreement&#x27;: &#x27;3 Months&#x27;, &#x27;LeaseAgreement&#x27;: &#x27;3 Months&#x27;, &#x27;LeaseAgreement&#x27;: &#x27;3 Months&#x27;, &#x27;LeaseAgreement&#x27;: &#x27;3 Months&#x27;, &#x27;LeaseAgreement&#x27;: &#x27;3 Months&#x27;, &#x27;LeaseAgreement&#x27;: &#x27;3 Months&#x27;, &#x27;LeaseAgreement&#x27;: &#x27;3 Months&#x27;, &#x27;LeaseAgreement&#x27;: &#x27;3 Months&#x27;, &#x27;LeaseAgreement&#x27;: &#x27;3 Months&#x27;, &#x27;LeaseAgreement&#x27;: &#x27;3 Months&#x27;, &#x27;LeaseAgreement&#x27;: &#x27;3 Months&#x27;, &#x27;LeaseAgreement&#x27;: &#x27;3 Months&#x27;, &#x27;LeaseAgreement&#x27;: &#x27;3 Months&#x27;, &#x27;LeaseAgreement&#x27;: &#x27;3 Months&#x27;, &#x27;LeaseAgreement&#x27;: &#x27;3 Months&#x27;, &#x27;LeaseAgreement&#x27;: &#x27;3 Months&#x27;, &#x27;LeaseAgreement&#x27;: &#x27;3 Months&#x27;, &#x27;LeaseAgreement&#x27;: &#x27;3 Months&#x27;, &#x27;LeaseAgreement                                                                                                                        </td></tr>\n",
       "<tr><td style=\"text-align: right;\"> 10</td><td>&#x27;tenant_name&#x27;: None, &#x27;unit_address&#x27;: None, &#x27;unit_number&#x27;: None, &#x27;unit_type&#x27;: None, &#x27;agreement_date&#x27;: None, &#x27;lease_start&#x27;: None, &#x27;lease_end&#x27;: None, &#x27;lease_auto_renew&#x27;: None, &#x27;hourly_rate&#x27;: None,&#x27;monthly_rent&#x27;: None, &#x27;prorated_rent&#x27;: None,&#x27;security_deposit&#x27;: None, &#x27;lease_rent&#x27;: None,&#x27;monthly_payment_breakdown&#x27;: None, &#x27;utility_charges&#x27;: None                                                                                                                                                                                         </td><td>LESSEE_ID, LESSOR_ID, RENTAL_AMOUNT, RENTAL_QUANTITY, RENTAL_TERM, RENTAL_TERM_PAYMENT, RENTAL_QUANTITY_PAYMENT_DEPOSIT, RENTAL_QUANTITY_PAYMENT_DEPOSIT, RENTAL_QUANTITY_PAYMENT_DEPOSIT, RENTAL_QUANTITY_PAYMENT_DEPOSIT, RENTAL_QUANTITY_PAYMENT_DEPOSIT, RENTAL_QUANTITY_PAYMENT_DEPOSIT, RENTAL_QUANTITY_PAYMENT_DEPOSIT, RENTAL_QUANTITY_PAYMENT_DEPOSIT, RENTAL_QUANTITY_PAYMENT_DEPOSIT, RENTAL_QUANTITY_PAYMENT_DEPOSIT, RENTAL_QUANTITY_PAYMENT_DEPOSIT, RENTAL_QUANTITY_PAYMENT_DEPOSIT, RENTAL_QUANTITY_PAYMENT_DEPOSIT, RENTAL_QUANTITY_PAYMENT_DEPOSIT, RENTAL_QUANTITY_PAYMENT_DEPOSIT, RENTAL_QUANTITY_PAYMENT_DEPOSIT, RENTAL_QUANTITY_PAYMENT_DEPOSIT, RENTAL_QUANTITY_PAYMENT_DEPOSIT, RENTAL_QUANTITY_PAYMENT_DEPOSIT, RENTAL_QUANTITY_PAYMENT_DEPOSIT, RENTAL_QUANTITY_PAYMENT_DEPOSIT, RENTAL_QUANTITY_PAYMENT_DEPOSIT, RENTAL_QUANTITY_PAYMENT_DEPOSIT, RENTAL_QUANTITY_PAYMENT_DEPOSIT, RENTAL_QUANTITY_PAYMENT_DEPOSIT, RENTAL_QUANTITY_PAYMENT_DEPOSIT, RENTAL_QUANTITY_PAYMENT_DEPOSIT, RENTAL_QUANTITY_PAYMENT_DEPOSIT, RENTAL_QUANTITY_PAYMENT_DEPOSIT, REN                           </td></tr>\n",
       "<tr><td style=\"text-align: right;\"> 11</td><td>&#x27;tenant_name&#x27;: &#x27;Mac&#x27;, &#x27;unit_address&#x27;: &#x27;850 Shoal Run Trail, Birmingham, AL&#x27;, &#x27;unit_number&#x27;: None, &#x27;unit_type&#x27;: None, &#x27;agreement_date&#x27;: None, &#x27;lease_start&#x27;: None, &#x27;lease_end&#x27;: None, &#x27;lease_auto_renew&#x27;: None, &#x27;hourly_rate&#x27;: None,&#x27;monthly_rent&#x27;: None, &#x27;prorated_rent&#x27;: None,&#x27;security_deposit&#x27;: None, &#x27;lease_rent&#x27;: None,&#x27;monthly_payment_breakdown&#x27;: None, &#x27;utility_charges&#x27;: None                                                                                                                                                       </td><td>&#x27;, &#x27;unit_address&#x27;: &#x27;null&#x27;, &#x27;tenant_name&#x27;: &#x27;null&#x27;, &#x27;unit_address&#x27;: &#x27;null&#x27;, &#x27;lease_term&#x27;:&#x27;monthly&#x27;, &#x27;lease_start&#x27;:&#x27;monthly&#x27;, &#x27;lease_end&#x27;:&#x27;monthly&#x27;, &#x27;lease_end&#x27;:&#x27;monthly&#x27;, &#x27;lease_start&#x27;:&#x27;monthly&#x27;, &#x27;lease_end&#x27;:&#x27;monthly&#x27;, &#x27;lease_end&#x27;:&#x27;monthly&#x27;, &#x27;lease_start&#x27;:&#x27;monthly&#x27;, &#x27;lease_end&#x27;:&#x27;monthly&#x27;, &#x27;lease_end&#x27;:&#x27;monthly&#x27;, &#x27;lease_start&#x27;:&#x27;monthly&#x27;, &#x27;lease_end&#x27;:&#x27;monthly&#x27;, &#x27;lease_start&#x27;:&#x27;monthly&#x27;, &#x27;lease_end&#x27;:&#x27;monthly&#x27;]                                                                                                                                                                                                                                                                                                                                                                                                                                                                                                                                                                                                                                                                                             </td></tr>\n",
       "<tr><td style=\"text-align: right;\"> 12</td><td>&#x27;tenant_name&#x27;: None, &#x27;unit_address&#x27;: None, &#x27;unit_number&#x27;: None, &#x27;unit_type&#x27;: None, &#x27;agreement_date&#x27;: None, &#x27;lease_start&#x27;: None, &#x27;lease_end&#x27;: None, &#x27;lease_auto_renew&#x27;: None, &#x27;hourly_rate&#x27;: None,&#x27;monthly_rent&#x27;: None, &#x27;prorated_rent&#x27;: None,&#x27;security_deposit&#x27;: None, &#x27;lease_rent&#x27;: None,&#x27;monthly_payment_breakdown&#x27;: None, &#x27;utility_charges&#x27;: None                                                                                                                                                                                         </td><td>&#x27;lease_start&#x27;: None, &#x27;lease_end&#x27;: None, &#x27;lease_start&#x27;: None, &#x27;lease_end&#x27;: None, &#x27;lease_start&#x27;: None, &#x27;lease_end&#x27;: None, &#x27;lease_end&#x27;: None, &#x27;lease_end&#x27;: None, &#x27;lease_end&#x27;: None, &#x27;lease_end&#x27;: None, &#x27;lease_end&#x27;: None, &#x27;lease_end&#x27;: None, &#x27;lease_end&#x27;: None, &#x27;lease_end&#x27;: None, &#x27;lease_end&#x27;: None, &#x27;lease_end&#x27;: None, &#x27;lease_end&#x27;: None, &#x27;lease_end&#x27;: None, &#x27;lease_end&#x27;: None, &#x27;lease_end&#x27;: None, &#x27;lease_end&#x27;: None, &#x27;lease_end&#x27;: None, &#x27;lease_end&#x27;: None, &#x27;lease_end&#x27;: None, &#x27;lease_end&#x27;: None, &#x27;lease_end&#x27;: None, &#x27;lease_end&#x27;: None, &#x27;lease_end&#x27;: None, &#x27;lease_end&#x27;: None, &#x27;lease_end&#x27;: None, &#x27;lease_end&#x27;: None, &#x27;lease_end&#x27;: None, &#x27;lease_end&#x27;: None, &#x27;lease_end&#x27;: None, &#x27;lease_end&#x27;: None, &#x27;lease_end&#x27;: None, &#x27;lease_end&#x27;: None, &#x27;lease_end&#x27;: None, &#x27;lease_end&#x27;: None, &#x27;lease_end&#x27;: None, &#x27;lease_end&#x27;: None, &#x27;lease_end&#x27;: None, &#x27;lease_end&#x27;: None, &#x27;lease_end&#x27;: None, &#x27;lease_end&#x27;: None, &#x27;lease_end&#x27;: None, &#x27;lease_end&#x27;: None, &#x27;lease_end&#x27;: None, &#x27;lease_end&#x27;: None, &#x27;lease_end&#x27;: None, &#x27;lease_end&#x27;: None,                                                                                                     </td></tr>\n",
       "<tr><td style=\"text-align: right;\"> 13</td><td>&#x27;tenant_name&#x27;: None, &#x27;unit_address&#x27;: None, &#x27;unit_number&#x27;: None, &#x27;unit_type&#x27;: None, &#x27;agreement_date&#x27;: None, &#x27;lease_start&#x27;: None, &#x27;lease_end&#x27;: None, &#x27;lease_auto_renew&#x27;: None, &#x27;hourly_rate&#x27;: None,&#x27;monthly_rent&#x27;: None, &#x27;prorated_rent&#x27;: None,&#x27;security_deposit&#x27;: None, &#x27;lease_rent&#x27;: None,&#x27;monthly_payment_breakdown&#x27;: None, &#x27;utility_charges&#x27;: None                                                                                                                                                                                         </td><td>&#x27;Landlord&#x27;: None, &#x27;Lease&#x27;: None, &#x27;Lease&#x27;: None, &#x27;Lease&#x27;: None, &#x27;Lease&#x27;: None, &#x27;Lease&#x27;: None, &#x27;Lease&#x27;: None, &#x27;Lease&#x27;: None, &#x27;Lease&#x27;: None, &#x27;Lease&#x27;: None, &#x27;Lease&#x27;: None, &#x27;Lease&#x27;: None, &#x27;Lease&#x27;: None, &#x27;Lease&#x27;: None, &#x27;Lease&#x27;: None, &#x27;Lease&#x27;: None, &#x27;Lease&#x27;: None, &#x27;Lease&#x27;: None, &#x27;Lease&#x27;: None, &#x27;Lease&#x27;: None, &#x27;Lease&#x27;: None, &#x27;Lease&#x27;: None, &#x27;Lease&#x27;: None, &#x27;Lease&#x27;: None, &#x27;Lease&#x27;: None, &#x27;Lease&#x27;: None, &#x27;Lease&#x27;: None, &#x27;Lease&#x27;: None, &#x27;Lease&#x27;: None, &#x27;Lease&#x27;: None, &#x27;Lease&#x27;: None, &#x27;Lease&#x27;: None, &#x27;Lease&#x27;: None, &#x27;Lease&#x27;: None, &#x27;Lease&#x27;: None, &#x27;Lease&#x27;: None, &#x27;Lease&#x27;: None, &#x27;Lease&#x27;: None, &#x27;Lease&#x27;: None, &#x27;Lease&#x27;: None, &#x27;Lease&#x27;: None, &#x27;Lease&#x27;: None, &#x27;Lease&#x27;: None, &#x27;Lease&#x27;: None, &#x27;Lease&#x27;: None, &#x27;Lease&#x27;: None, &#x27;Lease&#x27;: None, &#x27;Lease&#x27;: None, &#x27;Lease&#x27;: None, &#x27;Lease&#x27;: None, &#x27;Lease&#x27;: None, &#x27;Lease&#x27;: None, &#x27;Lease&#x27;: None, &#x27;Lease&#x27;: None, &#x27;Lease&#x27;: None, &#x27;Lease&#x27;: None, &#x27;Lease&#x27;: None, &#x27;Lease&#x27;: None, &#x27;Lease&#x27;: None, &#x27;Lease&#x27;: None, &#x27;Lease&#x27;: None, &#x27;Lease&#x27;: None, &#x27;Lease&#x27;: None, &#x27;Lease&#x27;                                                                                                                        </td></tr>\n",
       "<tr><td style=\"text-align: right;\"> 14</td><td>&#x27;tenant_name&#x27;: None, &#x27;unit_address&#x27;: None, &#x27;unit_number&#x27;: None, &#x27;unit_type&#x27;: None, &#x27;agreement_date&#x27;: None, &#x27;lease_start&#x27;: None, &#x27;lease_end&#x27;: None, &#x27;lease_auto_renew&#x27;: None, &#x27;hourly_rate&#x27;: None,&#x27;monthly_rent&#x27;: None, &#x27;prorated_rent&#x27;: None,&#x27;security_deposit&#x27;: None, &#x27;lease_rent&#x27;: None,&#x27;monthly_payment_breakdown&#x27;: None, &#x27;utility_charges&#x27;: &#x27;gas&#x27;: None, &#x27;electricity&#x27;: None, &#x27;telephone&#x27;: None, &#x27;cable television&#x27;: None                                                                                                                </td><td>&#x27;Apartment&#x27;: None, &#x27;Lease&#x27;: None, &#x27;Agreement&#x27;: None, &#x27;Lease&#x27;: None, &#x27;Agreement&#x27;: None, &#x27;Agreement&#x27;: None, &#x27;Agreement&#x27;: None, &#x27;Agreement&#x27;: None, &#x27;Agreement&#x27;: None, &#x27;Agreement&#x27;: None, &#x27;Agreement&#x27;: None, &#x27;Agreement&#x27;: None, &#x27;Agreement&#x27;: None, &#x27;Agreement&#x27;: None, &#x27;Agreement&#x27;: None, &#x27;Agreement&#x27;: None, &#x27;Agreement&#x27;: None, &#x27;Agreement&#x27;: None, &#x27;Agreement&#x27;: None, &#x27;Agreement&#x27;: None, &#x27;Agreement&#x27;: None, &#x27;Agreement&#x27;: None, &#x27;Agreement&#x27;: None, &#x27;Agreement&#x27;: None, &#x27;Agreement&#x27;: None, &#x27;Agreement&#x27;: None, &#x27;Agreement&#x27;: None, &#x27;Agreement&#x27;: None, &#x27;Agreement&#x27;: None, &#x27;Agreement&#x27;: None, &#x27;Agreement&#x27;: None, &#x27;Agreement&#x27;: None, &#x27;Agreement&#x27;: None, &#x27;Agreement&#x27;: None, &#x27;Agreement&#x27;: None, &#x27;Agreement&#x27;: None, &#x27;Agreement&#x27;: None, &#x27;Agreement&#x27;: None, &#x27;Agreement&#x27;: None, &#x27;Agreement&#x27;: None, &#x27;Agreement&#x27;: None, &#x27;Agreement&#x27;: None, &#x27;Agreement&#x27;: None, &#x27;Agreement&#x27;: None, &#x27;Agreement&#x27;: None, &#x27;Agreement&#x27;: None, &#x27;Agreement&#x27;: None, &#x27;Agreement&#x27;: None, &#x27;Agreement&#x27;: None, &#x27;Agreement&#x27;: None, &#x27;Agreement&#x27;: None, &#x27;Agreement&#x27;: None, &#x27;Agreement&#x27;: None, &#x27;Agreement&#x27;: None, &#x27;Agreement&#x27;: None, &#x27;Agreement&#x27;: None, &#x27;Agreement&#x27;: None, </td></tr>\n",
       "<tr><td style=\"text-align: right;\"> 15</td><td>&#x27;tenant_name&#x27;: &#x27;Benjamin Breier&#x27;, &#x27;unit_address&#x27;: &#x27;1722 Greene Ave, Queens, New York 11385&#x27;, &#x27;unit_number&#x27;: &#x27;1-L&#x27;, &#x27;unit_type&#x27;: &#x27;Apartment&#x27;, &#x27;agreement_date&#x27;: &#x27;2022-08-08&#x27;, &#x27;lease_start&#x27;: &#x27;2022-10-01&#x27;, &#x27;lease_end&#x27;: &#x27;2023-09-30&#x27;, &#x27;lease_auto_renew&#x27;: None, &#x27;hourly_rate&#x27;: None,&#x27;monthly_rent&#x27;: 2581.25, &#x27;prorated_rent&#x27;: None,&#x27;security_deposit&#x27;: 2581.25, &#x27;lease_rent&#x27;: 30975,&#x27;monthly_payment_breakdown&#x27;: None, &#x27;utility_charges&#x27;: None                                                                                                </td><td>&#x27;Landlord&#x27;: 100A Broadway Avenue, &#x27;LeaseTerm&#x27;: &#x27;2020-2023&#x27;, &#x27;Apartment&#x27;: 1722 Greene Ave 1-L, &#x27;LeaseRent&#x27;: $30,975, &#x27;SecurityDeposit&#x27;: $2,581.25, &#x27;Utilities&#x27;: None, &#x27;Agreement&#x27;: None, &#x27;Lease&#x27;: None, &#x27;Agreement&#x27;: None, &#x27;Agreement&#x27;: None, &#x27;Agreement&#x27;: None, &#x27;Agreement&#x27;: None, &#x27;Agreement&#x27;: None, &#x27;Agreement&#x27;: None, &#x27;Agreement&#x27;: None, &#x27;Agreement&#x27;: None, &#x27;Agreement&#x27;: None, &#x27;Agreement&#x27;: None, &#x27;Agreement&#x27;: None, &#x27;Agreement&#x27;: None, &#x27;Agreement&#x27;: None, &#x27;Agreement&#x27;: None, &#x27;Agreement&#x27;: None, &#x27;Agreement&#x27;: None, &#x27;Agreement&#x27;: None, &#x27;Agreement&#x27;: None, &#x27;Agreement&#x27;: None, &#x27;Agreement&#x27;: None, &#x27;Agreement&#x27;: None, &#x27;Agreement&#x27;: None, &#x27;Agreement&#x27;: None, &#x27;Agreement&#x27;: None, &#x27;Agreement&#x27;: None, &#x27;Agreement&#x27;: None, &#x27;Agreement&#x27;: None, &#x27;Agreement&#x27;: None, &#x27;Agreement&#x27;: None, &#x27;Agreement&#x27;: None, &#x27;Agreement&#x27;: None, &#x27;Agreement&#x27;: None, &#x27;Agreement&#x27;: None, &#x27;Agreement&#x27;: None, &#x27;Agreement&#x27;: None, &#x27;Agreement&#x27;: None, &#x27;Agreement&#x27;: None, &#x27;Agreement&#x27;: None, &#x27;Agreement&#x27;: None, &#x27;Agreement&#x27;: None, &#x27;Agreement&#x27;: None, &#x27;Agreement&#x27;: None, &#x27;Agreement&#x27;: None, &#x27;Agreement&#x27;: None, &#x27;Agreement&#x27;: None, &#x27;Agreement&#x27;: None,   </td></tr>\n",
       "<tr><td style=\"text-align: right;\"> 16</td><td>&#x27;tenant_name&#x27;: None, &#x27;unit_address&#x27;: None, &#x27;unit_number&#x27;: None, &#x27;unit_type&#x27;: None, &#x27;agreement_date&#x27;: None, &#x27;lease_start&#x27;: None, &#x27;lease_end&#x27;: None, &#x27;lease_auto_renew&#x27;: None, &#x27;hourly_rate&#x27;: None,&#x27;monthly_rent&#x27;: None, &#x27;prorated_rent&#x27;: None,&#x27;security_deposit&#x27;: 550.0, &#x27;lease_rent&#x27;: None,&#x27;monthly_payment_breakdown&#x27;: None, &#x27;utility_charges&#x27;: None                                                                                                                                                                                        </td><td>&#x27;Location&#x27;: &#x27;United States&#x27;, &#x27;LeaseTerm&#x27;:&#x27;monthly&#x27;, &#x27;LeaseRent&#x27;:&#x27;monthly&#x27;, &#x27;LeaseAmount&#x27;:&#x27;monthly&#x27;, &#x27;LeaseTerm&#x27;:&#x27;monthly&#x27;, &#x27;LeaseTerm&#x27;:&#x27;monthly&#x27;, &#x27;LeaseTerm&#x27;:&#x27;monthly&#x27;, &#x27;LeaseTerm&#x27;:&#x27;monthly&#x27;, &#x27;LeaseTerm&#x27;:&#x27;monthly&#x27;, &#x27;LeaseTerm&#x27;:&#x27;monthly&#x27;, &#x27;LeaseTerm&#x27;:&#x27;monthly&#x27;, &#x27;LeaseTerm&#x27;:&#x27;monthly&#x27;, &#x27;LeaseTerm&#x27;:&#x27;monthly&#x27;, &#x27;LeaseTerm&#x27;:&#x27;monthly&#x27;, &#x27;LeaseTerm&#x27;:&#x27;monthly&#x27;, &#x27;LeaseTerm&#x27;:&#x27;monthly&#x27;, &#x27;LeaseTerm&#x27;:&#x27;monthly&#x27;, &#x27;LeaseTerm&#x27;:&#x27;monthly&#x27;, &#x27;LeaseTerm&#x27;:&#x27;monthly&#x27;, &#x27;LeaseTerm&#x27;:&#x27;monthly&#x27;, &#x27;LeaseTerm&#x27;:&#x27;monthly&#x27;, &#x27;LeaseTerm&#x27;:&#x27;monthly&#x27;, &#x27;LeaseTerm&#x27;:&#x27;monthly&#x27;, &#x27;LeaseTerm&#x27;:&#x27;monthly&#x27;, &#x27;LeaseTerm&#x27;:&#x27;monthly&#x27;, &#x27;LeaseTerm&#x27;:&#x27;monthly&#x27;, &#x27;LeaseTerm&#x27;:&#x27;monthly&#x27;, &#x27;LeaseTerm&#x27;:&#x27;monthly&#x27;, &#x27;LeaseTerm&#x27;:&#x27;monthly&#x27;, &#x27;LeaseTerm&#x27;:&#x27;monthly&#x27;, &#x27;LeaseTerm&#x27;:&#x27;monthly&#x27;, &#x27;LeaseTerm&#x27;:&#x27;monthly&#x27;, &#x27;LeaseTerm&#x27;:&#x27;monthly&#x27;, &#x27;LeaseTerm&#x27;:&#x27;monthly&#x27;, &#x27;LeaseTerm&#x27;:&#x27;monthly&#x27;, &#x27;LeaseTerm&#x27;:&#x27;monthly&#x27;, &#x27;LeaseTerm&#x27;:&#x27;monthly&#x27;, &#x27;LeaseTerm&#x27;:&#x27;monthly&#x27;, &#x27;LeaseTerm&#x27;:&#x27;monthly&#x27;                                                                                                                                                                            </td></tr>\n",
       "<tr><td style=\"text-align: right;\"> 17</td><td>&#x27;tenant_name&#x27;: None, &#x27;unit_address&#x27;: None, &#x27;unit_number&#x27;: None, &#x27;unit_type&#x27;: None, &#x27;agreement_date&#x27;: None, &#x27;lease_start&#x27;: None, &#x27;lease_end&#x27;: None, &#x27;lease_auto_renew&#x27;: None, &#x27;hourly_rate&#x27;: None,&#x27;monthly_rent&#x27;: None, &#x27;prorated_rent&#x27;: None,&#x27;security_deposit&#x27;: None, &#x27;lease_rent&#x27;: None,&#x27;monthly_payment_breakdown&#x27;: None, &#x27;utility_charges&#x27;: None                                                                                                                                                                                         </td><td>&#x27;Unit&#x27;: None, &#x27;Lease&#x27;: None, &#x27;Lease&#x27;: None, &#x27;Lease&#x27;: None, &#x27;Lease&#x27;: None, &#x27;Lease&#x27;: None, &#x27;Lease&#x27;: None, &#x27;Lease&#x27;: None, &#x27;Lease&#x27;: None, &#x27;Lease&#x27;: None, &#x27;Lease&#x27;: None, &#x27;Lease&#x27;: None, &#x27;Lease&#x27;: None, &#x27;Lease&#x27;: None, &#x27;Lease&#x27;: None, &#x27;Lease&#x27;: None, &#x27;Lease&#x27;: None, &#x27;Lease&#x27;: None, &#x27;Lease&#x27;: None, &#x27;Lease&#x27;: None, &#x27;Lease&#x27;: None, &#x27;Lease&#x27;: None, &#x27;Lease&#x27;: None, &#x27;Lease&#x27;: None, &#x27;Lease&#x27;: None, &#x27;Lease&#x27;: None, &#x27;Lease&#x27;: None, &#x27;Lease&#x27;: None, &#x27;Lease&#x27;: None, &#x27;Lease&#x27;: None, &#x27;Lease&#x27;: None, &#x27;Lease&#x27;: None, &#x27;Lease&#x27;: None, &#x27;Lease&#x27;: None, &#x27;Lease&#x27;: None, &#x27;Lease&#x27;: None, &#x27;Lease&#x27;: None, &#x27;Lease&#x27;: None, &#x27;Lease&#x27;: None, &#x27;Lease&#x27;: None, &#x27;Lease&#x27;: None, &#x27;Lease&#x27;: None, &#x27;Lease&#x27;: None, &#x27;Lease&#x27;: None, &#x27;Lease&#x27;: None, &#x27;Lease&#x27;: None, &#x27;Lease&#x27;: None, &#x27;Lease&#x27;: None, &#x27;Lease&#x27;: None, &#x27;Lease&#x27;: None, &#x27;Lease&#x27;: None, &#x27;Lease&#x27;: None, &#x27;Lease&#x27;: None, &#x27;Lease&#x27;: None, &#x27;Lease&#x27;: None, &#x27;Lease&#x27;: None, &#x27;Lease&#x27;: None, &#x27;Lease&#x27;: None, &#x27;Lease&#x27;: None, &#x27;Lease&#x27;: None, &#x27;Lease&#x27;: None, &#x27;Lease&#x27;: None, &#x27;Lease&#x27;: None, &#x27;Lease&#x27;: None                                                                                                                      </td></tr>\n",
       "<tr><td style=\"text-align: right;\"> 18</td><td>&#x27;tenant_name&#x27;: None, &#x27;unit_address&#x27;: None, &#x27;unit_number&#x27;: None, &#x27;unit_type&#x27;: None, &#x27;agreement_date&#x27;: None, &#x27;lease_start&#x27;: &#x27;2023-02-25&#x27;, &#x27;lease_end&#x27;: None, &#x27;lease_auto_renew&#x27;: None, &#x27;hourly_rate&#x27;: None,&#x27;monthly_rent&#x27;: None, &#x27;prorated_rent&#x27;: None,&#x27;security_deposit&#x27;: None, &#x27;lease_rent&#x27;: None,&#x27;monthly_payment_breakdown&#x27;: None, &#x27;utility_charges&#x27;: None                                                                                                                                                                                 </td><td>&#x27;Landlord&#x27;: None, &#x27;LeaseTerm&#x27;: None, &#x27;LeaseAmount&#x27;: None, &#x27;LeaseTerm&#x27;: None, &#x27;LeaseTerm&#x27;: None, &#x27;LeaseTerm&#x27;: None, &#x27;LeaseTerm&#x27;: None, &#x27;LeaseTerm&#x27;: None, &#x27;LeaseTerm&#x27;: None, &#x27;LeaseTerm&#x27;: None, &#x27;LeaseTerm&#x27;: None, &#x27;LeaseTerm&#x27;: None, &#x27;LeaseTerm&#x27;: None, &#x27;LeaseTerm&#x27;: None, &#x27;LeaseTerm&#x27;: None, &#x27;LeaseTerm&#x27;: None, &#x27;LeaseTerm&#x27;: None, &#x27;LeaseTerm&#x27;: None, &#x27;LeaseTerm&#x27;: None, &#x27;LeaseTerm&#x27;: None, &#x27;LeaseTerm&#x27;: None, &#x27;LeaseTerm&#x27;: None, &#x27;LeaseTerm&#x27;: None, &#x27;LeaseTerm&#x27;: None, &#x27;LeaseTerm&#x27;: None, &#x27;LeaseTerm&#x27;: None, &#x27;LeaseTerm&#x27;: None, &#x27;LeaseTerm&#x27;: None, &#x27;LeaseTerm&#x27;: None, &#x27;LeaseTerm&#x27;: None, &#x27;LeaseTerm&#x27;: None, &#x27;LeaseTerm&#x27;: None, &#x27;LeaseTerm&#x27;: None, &#x27;LeaseTerm&#x27;: None, &#x27;LeaseTerm&#x27;: None, &#x27;LeaseTerm&#x27;: None, &#x27;LeaseTerm&#x27;: None, &#x27;LeaseTerm&#x27;: None, &#x27;LeaseTerm&#x27;: None, &#x27;LeaseTerm&#x27;: None, &#x27;LeaseTerm&#x27;: None, &#x27;LeaseTerm&#x27;: None, &#x27;LeaseTerm&#x27;: None, &#x27;LeaseTerm&#x27;: None, &#x27;LeaseTerm&#x27;: None, &#x27;LeaseTerm&#x27;: None, &#x27;LeaseTerm&#x27;: None, &#x27;LeaseTerm&#x27;: None, &#x27;LeaseTerm&#x27;: None, &#x27;LeaseTerm&#x27;: None, &#x27;LeaseTerm&#x27;: None, &#x27;LeaseTerm&#x27;: None, &#x27;LeaseTerm&#x27;: None, &#x27;LeaseTerm&#x27;: None, &#x27;LeaseTerm&#x27;: None, &#x27;LeaseTerm&#x27;: None, &#x27;LeaseTerm</td></tr>\n",
       "<tr><td style=\"text-align: right;\"> 19</td><td>&#x27;tenant_name&#x27;: None, &#x27;unit_address&#x27;: None, &#x27;unit_number&#x27;: None, &#x27;unit_type&#x27;: None, &#x27;agreement_date&#x27;: None, &#x27;lease_start&#x27;: None, &#x27;lease_end&#x27;: None, &#x27;lease_auto_renew&#x27;: None, &#x27;hourly_rate&#x27;: None,&#x27;monthly_rent&#x27;: None, &#x27;prorated_rent&#x27;: None,&#x27;security_deposit&#x27;: None, &#x27;lease_rent&#x27;: None,&#x27;monthly_payment_breakdown&#x27;: None, &#x27;utility_charges&#x27;: None                                                                                                                                                                                         </td><td>&#x27;Unit&#x27;: None, &#x27;Unit_Number&#x27;: None, &#x27;Unit_Number&#x27;: None, &#x27;Unit_Number&#x27;: None, &#x27;Unit_Number&#x27;: None, &#x27;Unit_Number&#x27;: None, &#x27;Unit_Number&#x27;: None, &#x27;Unit_Number&#x27;: None, &#x27;Unit_Number&#x27;: None, &#x27;Unit_Number&#x27;: None, &#x27;Unit_Number&#x27;: None, &#x27;Unit_Number&#x27;: None, &#x27;Unit_Number&#x27;: None, &#x27;Unit_Number&#x27;: None, &#x27;Unit_Number&#x27;: None, &#x27;Unit_Number&#x27;: None, &#x27;Unit_Number&#x27;: None, &#x27;Unit_Number&#x27;: None, &#x27;Unit_Number&#x27;: None, &#x27;Unit_Number&#x27;: None, &#x27;Unit_Number&#x27;: None, &#x27;Unit_Number&#x27;: None, &#x27;Unit_Number&#x27;: None, &#x27;Unit_Number&#x27;: None, &#x27;Unit_Number&#x27;: None, &#x27;Unit_Number&#x27;: None, &#x27;Unit_Number&#x27;: None, &#x27;Unit_Number&#x27;: None, &#x27;Unit_Number&#x27;: None, &#x27;Unit_Number&#x27;: None, &#x27;Unit_Number&#x27;: None, &#x27;Unit_Number&#x27;: None, &#x27;Unit_Number&#x27;: None, &#x27;Unit_Number&#x27;: None, &#x27;Unit_Number&#x27;: None, &#x27;Unit_Number&#x27;: None, &#x27;Unit_Number&#x27;: None, &#x27;Unit_Number&#x27;: None, &#x27;Unit_Number&#x27;: None, &#x27;Unit_Number&#x27;: None, &#x27;Unit_Number&#x27;: None, &#x27;Unit_Number&#x27;: None, &#x27;Unit_Number&#x27;: None                                                                                                                                                                                     </td></tr>\n",
       "<tr><td style=\"text-align: right;\"> 20</td><td>&#x27;tenant_name&#x27;: None, &#x27;unit_address&#x27;: None, &#x27;unit_number&#x27;: None, &#x27;unit_type&#x27;: None, &#x27;agreement_date&#x27;: &#x27;2023-02-27&#x27;, &#x27;lease_start&#x27;: None, &#x27;lease_end&#x27;: None, &#x27;lease_auto_renew&#x27;: None, &#x27;hourly_rate&#x27;: None,&#x27;monthly_rent&#x27;: None, &#x27;prorated_rent&#x27;: None,&#x27;security_deposit&#x27;: None, &#x27;lease_rent&#x27;: None,&#x27;monthly_payment_breakdown&#x27;: None, &#x27;utility_charges&#x27;: None                                                                                                                                                                                 </td><td>&#x27;LeaseTerm&#x27;:&#x27;monthly&#x27;, &#x27;LeaseAmount&#x27;:&#x27;monthly&#x27;, &#x27;LeaseTerm&#x27;:&#x27;monthly&#x27;, &#x27;LeaseTerm&#x27;:&#x27;monthly&#x27;, &#x27;LeaseTerm&#x27;:&#x27;monthly&#x27;, &#x27;LeaseTerm&#x27;:&#x27;monthly&#x27;, &#x27;LeaseTerm&#x27;:&#x27;monthly&#x27;, &#x27;LeaseTerm&#x27;:&#x27;monthly&#x27;, &#x27;LeaseTerm&#x27;:&#x27;monthly&#x27;, &#x27;LeaseTerm&#x27;:&#x27;monthly&#x27;, &#x27;LeaseTerm&#x27;:&#x27;monthly&#x27;, &#x27;LeaseTerm&#x27;:&#x27;monthly&#x27;, &#x27;LeaseTerm&#x27;:&#x27;monthly&#x27;, &#x27;LeaseTerm&#x27;:&#x27;monthly&#x27;, &#x27;LeaseTerm&#x27;:&#x27;monthly&#x27;, &#x27;LeaseTerm&#x27;:&#x27;monthly&#x27;, &#x27;LeaseTerm&#x27;:&#x27;monthly&#x27;, &#x27;LeaseTerm&#x27;:&#x27;monthly&#x27;, &#x27;LeaseTerm&#x27;:&#x27;monthly&#x27;, &#x27;LeaseTerm&#x27;:&#x27;monthly&#x27;, &#x27;LeaseTerm&#x27;:&#x27;monthly&#x27;, &#x27;LeaseTerm&#x27;:&#x27;monthly&#x27;, &#x27;LeaseTerm&#x27;:&#x27;monthly&#x27;, &#x27;LeaseTerm&#x27;:&#x27;monthly&#x27;, &#x27;LeaseTerm&#x27;:&#x27;monthly&#x27;, &#x27;LeaseTerm&#x27;:&#x27;monthly&#x27;, &#x27;LeaseTerm&#x27;:&#x27;monthly&#x27;, &#x27;LeaseTerm&#x27;:&#x27;monthly&#x27;, &#x27;LeaseTerm&#x27;:&#x27;monthly&#x27;, &#x27;LeaseTerm&#x27;:&#x27;monthly&#x27;, &#x27;LeaseTerm&#x27;:&#x27;monthly&#x27;, &#x27;LeaseTerm&#x27;:&#x27;monthly&#x27;, &#x27;LeaseTerm&#x27;:&#x27;monthly&#x27;, &#x27;LeaseTerm&#x27;:&#x27;monthly&#x27;, &#x27;LeaseTerm&#x27;:&#x27;monthly&#x27;, &#x27;LeaseTerm&#x27;:&#x27;monthly&#x27;, &#x27;LeaseTerm&#x27;:&#x27;monthly&#x27;, &#x27;LeaseTerm&#x27;:&#x27;monthly&#x27;, &#x27;LeaseTerm&#x27;:&#x27;monthly&#x27;, &#x27;L                                                                                                                                                                              </td></tr>\n",
       "<tr><td style=\"text-align: right;\"> 21</td><td>&#x27;tenant_name&#x27;: &#x27;Moises Martinez&#x27;, &#x27;unit_address&#x27;: &#x27;8230 Monroe Dr Kansas City 66112-1803&#x27;, &#x27;unit_number&#x27;: &#x27;B&#x27;, &#x27;unit_type&#x27;: None, &#x27;agreement_date&#x27;: &#x27;2022-11-21&#x27;, &#x27;lease_start&#x27;: None, &#x27;lease_end&#x27;: None, &#x27;lease_auto_renew&#x27;: None, &#x27;hourly_rate&#x27;: None,&#x27;monthly_rent&#x27;: None, &#x27;prorated_rent&#x27;: None,&#x27;security_deposit&#x27;: None, &#x27;lease_rent&#x27;: None,&#x27;monthly_payment_breakdown&#x27;: None, &#x27;utility_charges&#x27;: None                                                                                                                                  </td><td>&#x27;Unit&#x27;: None, &#x27;Unit_Number&#x27;: None, &#x27;Unit_Number&#x27;: None, &#x27;Unit_Number&#x27;: None, &#x27;Unit_Number&#x27;: None, &#x27;Unit_Number&#x27;: None, &#x27;Unit_Number&#x27;: None, &#x27;Unit_Number&#x27;: None, &#x27;Unit_Number&#x27;: None, &#x27;Unit_Number&#x27;: None, &#x27;Unit_Number&#x27;: None, &#x27;Unit_Number&#x27;: None, &#x27;Unit_Number&#x27;: None, &#x27;Unit_Number&#x27;: None, &#x27;Unit_Number&#x27;: None, &#x27;Unit_Number&#x27;: None, &#x27;Unit_Number&#x27;: None, &#x27;Unit_Number&#x27;: None, &#x27;Unit_Number&#x27;: None, &#x27;Unit_Number&#x27;: None, &#x27;Unit_Number&#x27;: None, &#x27;Unit_Number&#x27;: None, &#x27;Unit_Number&#x27;: None, &#x27;Unit_Number&#x27;: None, &#x27;Unit_Number&#x27;: None, &#x27;Unit_Number&#x27;: None, &#x27;Unit_Number&#x27;: None, &#x27;Unit_Number&#x27;: None, &#x27;Unit_Number&#x27;: None, &#x27;Unit_Number&#x27;: None, &#x27;Unit_Number&#x27;: None, &#x27;Unit_Number&#x27;: None, &#x27;Unit_Number&#x27;: None, &#x27;Unit_Number&#x27;: None, &#x27;Unit_Number&#x27;: None, &#x27;Unit_Number&#x27;: None, &#x27;Unit_Number&#x27;: None, &#x27;Unit_Number&#x27;: None, &#x27;Unit_Number&#x27;: None, &#x27;Unit_Number&#x27;: None, &#x27;Unit_Number&#x27;: None, &#x27;Unit_Number&#x27;: None, &#x27;Unit_Number&#x27;: None                                                                                                                                                                                     </td></tr>\n",
       "<tr><td style=\"text-align: right;\"> 22</td><td>&#x27;tenant_name&#x27;: None, &#x27;unit_address&#x27;: None, &#x27;unit_number&#x27;: None, &#x27;unit_type&#x27;: None, &#x27;agreement_date&#x27;: None, &#x27;lease_start&#x27;: None, &#x27;lease_end&#x27;: None, &#x27;lease_auto_renew&#x27;: None, &#x27;hourly_rate&#x27;: None,&#x27;monthly_rent&#x27;: None, &#x27;prorated_rent&#x27;: None,&#x27;security_deposit&#x27;: None, &#x27;lease_rent&#x27;: None,&#x27;monthly_payment_breakdown&#x27;: None, &#x27;utility_charges&#x27;: None                                                                                                                                                                                         </td><td>&#x27;LeaseTerm&#x27;:&#x27;monthly&#x27;, &#x27;LeaseAmount&#x27;:&#x27;monthly&#x27;, &#x27;LeaseTerm&#x27;:&#x27;monthly&#x27;, &#x27;LeaseTerm&#x27;:&#x27;monthly&#x27;, &#x27;LeaseTerm&#x27;:&#x27;monthly&#x27;, &#x27;LeaseTerm&#x27;:&#x27;monthly&#x27;, &#x27;LeaseTerm&#x27;:&#x27;monthly&#x27;, &#x27;LeaseTerm&#x27;:&#x27;monthly&#x27;, &#x27;LeaseTerm&#x27;:&#x27;monthly&#x27;, &#x27;LeaseTerm&#x27;:&#x27;monthly&#x27;, &#x27;LeaseTerm&#x27;:&#x27;monthly&#x27;, &#x27;LeaseTerm&#x27;:&#x27;monthly&#x27;, &#x27;LeaseTerm&#x27;:&#x27;monthly&#x27;, &#x27;LeaseTerm&#x27;:&#x27;monthly&#x27;, &#x27;LeaseTerm&#x27;:&#x27;monthly&#x27;, &#x27;LeaseTerm&#x27;:&#x27;monthly&#x27;, &#x27;LeaseTerm&#x27;:&#x27;monthly&#x27;, &#x27;LeaseTerm&#x27;:&#x27;monthly&#x27;, &#x27;LeaseTerm&#x27;:&#x27;monthly&#x27;, &#x27;LeaseTerm&#x27;:&#x27;monthly&#x27;, &#x27;LeaseTerm&#x27;:&#x27;monthly&#x27;, &#x27;LeaseTerm&#x27;:&#x27;monthly&#x27;, &#x27;LeaseTerm&#x27;:&#x27;monthly&#x27;, &#x27;LeaseTerm&#x27;:&#x27;monthly&#x27;, &#x27;LeaseTerm&#x27;:&#x27;monthly&#x27;, &#x27;LeaseTerm&#x27;:&#x27;monthly&#x27;, &#x27;LeaseTerm&#x27;:&#x27;monthly&#x27;, &#x27;LeaseTerm&#x27;:&#x27;monthly&#x27;, &#x27;LeaseTerm&#x27;:&#x27;monthly&#x27;, &#x27;LeaseTerm&#x27;:&#x27;monthly&#x27;, &#x27;LeaseTerm&#x27;:&#x27;monthly&#x27;, &#x27;LeaseTerm&#x27;:&#x27;monthly&#x27;, &#x27;LeaseTerm&#x27;:&#x27;monthly&#x27;, &#x27;LeaseTerm&#x27;:&#x27;monthly&#x27;, &#x27;LeaseTerm&#x27;:&#x27;monthly&#x27;, &#x27;LeaseTerm&#x27;:&#x27;monthly&#x27;, &#x27;LeaseTerm&#x27;:&#x27;monthly&#x27;, &#x27;LeaseTerm&#x27;:&#x27;monthly&#x27;, &#x27;LeaseTerm&#x27;:&#x27;monthly&#x27;, &#x27;L                                                                                                                                                                              </td></tr>\n",
       "<tr><td style=\"text-align: right;\"> 23</td><td>&#x27;tenant_name&#x27;: None, &#x27;unit_address&#x27;: None, &#x27;unit_number&#x27;: None, &#x27;unit_type&#x27;: None, &#x27;agreement_date&#x27;: None, &#x27;lease_start&#x27;: None, &#x27;lease_end&#x27;: None, &#x27;lease_auto_renew&#x27;: None, &#x27;hourly_rate&#x27;: None,&#x27;monthly_rent&#x27;: None, &#x27;prorated_rent&#x27;: None,&#x27;security_deposit&#x27;: None, &#x27;lease_rent&#x27;: None,&#x27;monthly_payment_breakdown&#x27;: None, &#x27;utility_charges&#x27;: None                                                                                                                                                                                         </td><td>&#x27;LeaseTerm&#x27;:&#x27;monthly&#x27;, &#x27;LeaseTerm&#x27;:&#x27;monthly&#x27;, &#x27;LeaseTerm&#x27;:&#x27;monthly&#x27;, &#x27;LeaseTerm&#x27;:&#x27;monthly&#x27;, &#x27;LeaseTerm&#x27;:&#x27;monthly&#x27;, &#x27;LeaseTerm&#x27;:&#x27;monthly&#x27;, &#x27;LeaseTerm&#x27;:&#x27;monthly&#x27;, &#x27;LeaseTerm&#x27;:&#x27;monthly&#x27;, &#x27;LeaseTerm&#x27;:&#x27;monthly&#x27;, &#x27;LeaseTerm&#x27;:&#x27;monthly&#x27;, &#x27;LeaseTerm&#x27;:&#x27;monthly&#x27;, &#x27;LeaseTerm&#x27;:&#x27;monthly&#x27;, &#x27;LeaseTerm&#x27;:&#x27;monthly&#x27;, &#x27;LeaseTerm&#x27;:&#x27;monthly&#x27;, &#x27;LeaseTerm&#x27;:&#x27;monthly&#x27;, &#x27;LeaseTerm&#x27;:&#x27;monthly&#x27;, &#x27;LeaseTerm&#x27;:&#x27;monthly&#x27;, &#x27;LeaseTerm&#x27;:&#x27;monthly&#x27;, &#x27;LeaseTerm&#x27;:&#x27;monthly&#x27;, &#x27;LeaseTerm&#x27;:&#x27;monthly&#x27;, &#x27;LeaseTerm&#x27;:&#x27;monthly&#x27;, &#x27;LeaseTerm&#x27;:&#x27;monthly&#x27;, &#x27;LeaseTerm&#x27;:&#x27;monthly&#x27;, &#x27;LeaseTerm&#x27;:&#x27;monthly&#x27;, &#x27;LeaseTerm&#x27;:&#x27;monthly&#x27;, &#x27;LeaseTerm&#x27;:&#x27;monthly&#x27;, &#x27;LeaseTerm&#x27;:&#x27;monthly&#x27;, &#x27;LeaseTerm&#x27;:&#x27;monthly&#x27;, &#x27;LeaseTerm&#x27;:&#x27;monthly&#x27;, &#x27;LeaseTerm&#x27;:&#x27;monthly&#x27;, &#x27;LeaseTerm&#x27;:&#x27;monthly&#x27;, &#x27;LeaseTerm&#x27;:&#x27;monthly&#x27;, &#x27;LeaseTerm&#x27;:&#x27;monthly&#x27;, &#x27;LeaseTerm&#x27;:&#x27;monthly&#x27;, &#x27;LeaseTerm&#x27;:&#x27;monthly&#x27;, &#x27;LeaseTerm&#x27;:&#x27;monthly&#x27;, &#x27;LeaseTerm&#x27;:&#x27;monthly&#x27;, &#x27;LeaseTerm&#x27;:&#x27;monthly&#x27;, &#x27;LeaseTerm&#x27;:&#x27;monthly&#x27;, &#x27;Lease                                                                                                                                                                            </td></tr>\n",
       "<tr><td style=\"text-align: right;\"> 24</td><td>&#x27;tenant_name&#x27;: &#x27;Peter Mendez&#x27;, &#x27;unit_address&#x27;: &#x27;7603 Timberstone Dr, Tampa, Florida, 33615&#x27;, &#x27;unit_number&#x27;: &#x27;09C&#x27;, &#x27;unit_type&#x27;: None, &#x27;agreement_date&#x27;: &#x27;2022-07-06&#x27;, &#x27;lease_start&#x27;: &#x27;2022-10-01&#x27;, &#x27;lease_end&#x27;: &#x27;2023-09-30&#x27;, &#x27;lease_auto_renew&#x27;:&#x27;month-to-month&#x27;, &#x27;hourly_rate&#x27;: None,&#x27;monthly_rent&#x27;: 1758.0, &#x27;prorated_rent&#x27;: None,&#x27;security_deposit&#x27;: 200.0, &#x27;lease_rent&#x27;: 21096.0,&#x27;monthly_payment_breakdown&#x27;: None, &#x27;utility_charges&#x27;: None                                                                                             </td><td>&#x27;LeaseTerm&#x27;: &#x27;2022&#x27;, &#x27;LeaseAgreement&#x27;: &#x27;2022&#x27;, &#x27;LeaseBill&#x27;: &#x27;2022&#x27;, &#x27;LeaseCancel&#x27;: &#x27;2022&#x27;, &#x27;LeaseTerm&#x27;: &#x27;2022&#x27;, &#x27;LeaseAgreement&#x27;: &#x27;2022&#x27;, &#x27;LeaseBill&#x27;: &#x27;2022&#x27;, &#x27;LeaseAgreement&#x27;: &#x27;2022&#x27;, &#x27;LeaseBill&#x27;: &#x27;2022&#x27;, &#x27;LeaseAgreement&#x27;: &#x27;2022&#x27;, &#x27;LeaseBill&#x27;: &#x27;2022&#x27;, &#x27;LeaseCancel&#x27;: &#x27;2022&#x27;, &#x27;LeaseAgreement&#x27;: &#x27;2022&#x27;, &#x27;LeaseBill&#x27;: &#x27;2022&#x27;, &#x27;LeaseCancel&#x27;: &#x27;2022&#x27;, &#x27;LeaseAgreement&#x27;: &#x27;2022&#x27;, &#x27;LeaseBill&#x27;: &#x27;2022&#x27;, &#x27;LeaseCancel&#x27;: &#x27;2022&#x27;, &#x27;LeaseAgreement&#x27;: &#x27;2022&#x27;, &#x27;LeaseBill&#x27;: &#x27;2022&#x27;, &#x27;LeaseCancel&#x27;: &#x27;2022&#x27;, &#x27;LeaseAgreement&#x27;: &#x27;2022&#x27;, &#x27;LeaseBill&#x27;: &#x27;2022&#x27;, &#x27;LeaseCancel&#x27;: &#x27;2022&#x27;, &#x27;LeaseAgreement&#x27;: &#x27;2022&#x27;, &#x27;LeaseBill&#x27;: &#x27;2022&#x27;, &#x27;LeaseCancel&#x27;: &#x27;2022&#x27;, &#x27;LeaseAgreement&#x27;: &#x27;2022&#x27;, &#x27;LeaseBill&#x27;: &#x27;2022&#x27;, &#x27;LeaseAgreement&#x27;: &#x27;2022&#x27;, &#x27;LeaseBill&#x27;: &#x27;2022&#x27;, &#x27;LeaseCancel&#x27;: &#x27;2022&#x27;, &#x27;LeaseAgreement&#x27;: &#x27;2022&#x27;, &#x27;LeaseBill&#x27;: &#x27;2022&#x27;, &#x27;LeaseCancel&#x27;: &#x27;2022&#x27;, &#x27;                                                                                                                                                                                                                                                                     </td></tr>\n",
       "<tr><td style=\"text-align: right;\"> 25</td><td>&#x27;tenant_name&#x27;: &#x27;Leobouchereau&#x27;, &#x27;unit_address&#x27;: None, &#x27;unit_number&#x27;: None, &#x27;unit_type&#x27;: None, &#x27;agreement_date&#x27;: &#x27;2022-12-03&#x27;, &#x27;lease_start&#x27;: None, &#x27;lease_end&#x27;: None, &#x27;lease_auto_renew&#x27;: None, &#x27;hourly_rate&#x27;: None,&#x27;monthly_rent&#x27;: None, &#x27;prorated_rent&#x27;: None,&#x27;security_deposit&#x27;: None, &#x27;lease_rent&#x27;: None,&#x27;monthly_payment_breakdown&#x27;: None, &#x27;utility_charges&#x27;: None                                                                                                                                                                      </td><td>&#x27;Unit&#x27;: None, &#x27;Lease&#x27;: None, &#x27;Lease&#x27;: None, &#x27;Lease&#x27;: None, &#x27;Lease&#x27;: None, &#x27;Lease&#x27;: None, &#x27;Lease&#x27;: None, &#x27;Lease&#x27;: None, &#x27;Lease&#x27;: None, &#x27;Lease&#x27;: None, &#x27;Lease&#x27;: None, &#x27;Lease&#x27;: None, &#x27;Lease&#x27;: None, &#x27;Lease&#x27;: None, &#x27;Lease&#x27;: None, &#x27;Lease&#x27;: None, &#x27;Lease&#x27;: None, &#x27;Lease&#x27;: None, &#x27;Lease&#x27;: None, &#x27;Lease&#x27;: None, &#x27;Lease&#x27;: None, &#x27;Lease&#x27;: None, &#x27;Lease&#x27;: None, &#x27;Lease&#x27;: None, &#x27;Lease&#x27;: None, &#x27;Lease&#x27;: None, &#x27;Lease&#x27;: None, &#x27;Lease&#x27;: None, &#x27;Lease&#x27;: None, &#x27;Lease&#x27;: None, &#x27;Lease&#x27;: None, &#x27;Lease&#x27;: None, &#x27;Lease&#x27;: None, &#x27;Lease&#x27;: None, &#x27;Lease&#x27;: None, &#x27;Lease&#x27;: None, &#x27;Lease&#x27;: None, &#x27;Lease&#x27;: None, &#x27;Lease&#x27;: None, &#x27;Lease&#x27;: None, &#x27;Lease&#x27;: None, &#x27;Lease&#x27;: None, &#x27;Lease&#x27;: None, &#x27;Lease&#x27;: None, &#x27;Lease&#x27;: None, &#x27;Lease&#x27;: None, &#x27;Lease&#x27;: None, &#x27;Lease&#x27;: None, &#x27;Lease&#x27;: None, &#x27;Lease&#x27;: None, &#x27;Lease&#x27;: None, &#x27;Lease&#x27;: None, &#x27;Lease&#x27;: None, &#x27;Lease&#x27;: None, &#x27;Lease&#x27;: None, &#x27;Lease&#x27;: None, &#x27;Lease&#x27;: None, &#x27;Lease&#x27;: None, &#x27;Lease&#x27;: None, &#x27;Lease&#x27;: None, &#x27;Lease&#x27;: None, &#x27;Lease&#x27;: None, &#x27;Lease&#x27;: None, &#x27;Lease&#x27;: None                                                                                                                      </td></tr>\n",
       "<tr><td style=\"text-align: right;\"> 26</td><td>&#x27;tenant_name&#x27;: None, &#x27;unit_address&#x27;: None, &#x27;unit_number&#x27;: None, &#x27;unit_type&#x27;: None, &#x27;agreement_date&#x27;: None, &#x27;lease_start&#x27;: None, &#x27;lease_end&#x27;: None, &#x27;lease_auto_renew&#x27;: None, &#x27;hourly_rate&#x27;: None,&#x27;monthly_rent&#x27;: None, &#x27;prorated_rent&#x27;: None,&#x27;security_deposit&#x27;: None, &#x27;lease_rent&#x27;: None,&#x27;monthly_payment_breakdown&#x27;: None, &#x27;utility_charges&#x27;: None                                                                                                                                                                                         </td><td>&#x27;Landlord&#x27;: &#x27;Rosemont&#x27;, &#x27;LeaseTerm&#x27;:&#x27;monthly&#x27;, &#x27;LeaseTerm&#x27;:&#x27;monthly&#x27;, &#x27;LeaseTerm&#x27;:&#x27;monthly&#x27;, &#x27;LeaseTerm&#x27;:&#x27;monthly&#x27;, &#x27;LeaseTerm&#x27;:&#x27;monthly&#x27;, &#x27;LeaseTerm&#x27;:&#x27;monthly&#x27;, &#x27;LeaseTerm&#x27;:&#x27;monthly&#x27;, &#x27;LeaseTerm&#x27;:&#x27;monthly&#x27;, &#x27;LeaseTerm&#x27;:&#x27;monthly&#x27;, &#x27;LeaseTerm&#x27;:&#x27;monthly&#x27;, &#x27;LeaseTerm&#x27;:&#x27;monthly&#x27;, &#x27;LeaseTerm&#x27;:&#x27;monthly&#x27;, &#x27;LeaseTerm&#x27;:&#x27;monthly&#x27;, &#x27;LeaseTerm&#x27;:&#x27;monthly&#x27;, &#x27;LeaseTerm&#x27;:&#x27;monthly&#x27;, &#x27;LeaseTerm&#x27;:&#x27;monthly&#x27;, &#x27;LeaseTerm&#x27;:&#x27;monthly&#x27;, &#x27;LeaseTerm&#x27;:&#x27;monthly&#x27;, &#x27;LeaseTerm&#x27;:&#x27;monthly&#x27;, &#x27;LeaseTerm&#x27;:&#x27;monthly&#x27;, &#x27;LeaseTerm&#x27;:&#x27;monthly&#x27;, &#x27;LeaseTerm&#x27;:&#x27;monthly&#x27;, &#x27;LeaseTerm&#x27;:&#x27;monthly&#x27;, &#x27;LeaseTerm&#x27;:&#x27;monthly&#x27;, &#x27;LeaseTerm&#x27;:&#x27;monthly&#x27;, &#x27;LeaseTerm&#x27;:&#x27;monthly&#x27;, &#x27;LeaseTerm&#x27;:&#x27;monthly&#x27;, &#x27;LeaseTerm&#x27;:&#x27;monthly&#x27;, &#x27;LeaseTerm&#x27;:&#x27;monthly&#x27;, &#x27;LeaseTerm&#x27;:&#x27;monthly&#x27;, &#x27;LeaseTerm&#x27;:&#x27;monthly&#x27;, &#x27;LeaseTerm&#x27;:&#x27;monthly&#x27;, &#x27;LeaseTerm&#x27;:&#x27;monthly&#x27;, &#x27;LeaseTerm&#x27;:&#x27;monthly&#x27;, &#x27;LeaseTerm&#x27;:&#x27;monthly&#x27;, &#x27;LeaseTerm&#x27;:&#x27;monthly&#x27;, &#x27;LeaseTerm&#x27;:&#x27;monthly&#x27;, &#x27;LeaseTerm&#x27;:&#x27;monthly&#x27;,                                                                                                                                                                                  </td></tr>\n",
       "</tbody>\n",
       "</table>"
      ],
      "text/plain": [
       "'<table>\\n<thead>\\n<tr><th style=\"text-align: right;\">  #</th><th>Reference data                                                                                                                                                                                                                                                                                                                                                                                                                                                                                                                               </th><th>Extracted data (Finetuned model)                                                                                                                                                                                                                                                                                                                                                                                                                                                                                                                                                                                                                                                                                                                                                                                                                                                                                                                                                                                                                                                                                   </th></tr>\\n</thead>\\n<tbody>\\n<tr><td style=\"text-align: right;\">  1</td><td>&#x27;tenant_name&#x27;: None, &#x27;unit_address&#x27;: &#x27;333 H Street, Ste. 5000, Chula Vista, CA 91910&#x27;, &#x27;unit_number&#x27;: None, &#x27;unit_type&#x27;: None, &#x27;agreement_date&#x27;: None, &#x27;lease_start&#x27;: None, &#x27;lease_end&#x27;: &#x27;2024-03-31&#x27;, &#x27;lease_auto_renew&#x27;: None, &#x27;hourly_rate&#x27;: None,&#x27;monthly_rent&#x27;: 3350.0, &#x27;prorated_rent&#x27;: 2121.67,&#x27;security_deposit&#x27;: 2500.0, &#x27;lease_rent&#x27;: None,&#x27;monthly_payment_breakdown&#x27;: &#x27;Liability to Landlord Insurance&#x27;: 9.5, &#x27;Admin Fee - Liability to Landlord Insurance&#x27;: 3.0, &#x27;Rent Income&#x27;: 3350.0, &#x27;Total&#x27;: 3362.5, &#x27;utility_charges&#x27;: None</td><td>&#x27;LeaseTerm&#x27;:&#x27;monthly&#x27;, &#x27;LeaseRent&#x27;:&#x27;monthly&#x27;, &#x27;LeaseRent&#x27;:&#x27;monthly&#x27;, &#x27;LeaseRent&#x27;:&#x27;monthly&#x27;, &#x27;LeaseRent&#x27;:&#x27;monthly&#x27;, &#x27;LeaseRent&#x27;:&#x27;monthly&#x27;, &#x27;LeaseRent&#x27;:&#x27;monthly&#x27;, &#x27;LeaseRent&#x27;:&#x27;monthly&#x27;, &#x27;LeaseRent&#x27;:&#x27;monthly&#x27;, &#x27;LeaseRent&#x27;:&#x27;monthly&#x27;, &#x27;LeaseRent&#x27;:&#x27;monthly&#x27;, &#x27;LeaseRent&#x27;:&#x27;monthly&#x27;, &#x27;LeaseRent&#x27;:&#x27;monthly&#x27;, &#x27;LeaseRent&#x27;:&#x27;monthly&#x27;, &#x27;LeaseRent&#x27;:&#x27;monthly&#x27;, &#x27;LeaseRent&#x27;:&#x27;monthly&#x27;, &#x27;LeaseRent&#x27;:&#x27;monthly&#x27;, &#x27;LeaseRent&#x27;:&#x27;monthly&#x27;, &#x27;LeaseRent&#x27;:&#x27;monthly&#x27;, &#x27;LeaseRent&#x27;:&#x27;monthly&#x27;, &#x27;LeaseRent&#x27;:&#x27;monthly&#x27;, &#x27;LeaseRent&#x27;:&#x27;monthly&#x27;, &#x27;LeaseRent&#x27;:&#x27;monthly&#x27;, &#x27;LeaseRent&#x27;:&#x27;monthly&#x27;, &#x27;LeaseRent&#x27;:&#x27;monthly&#x27;, &#x27;LeaseRent&#x27;:&#x27;monthly&#x27;, &#x27;LeaseRent&#x27;:&#x27;monthly&#x27;, &#x27;LeaseRent&#x27;:&#x27;monthly&#x27;, &#x27;LeaseRent&#x27;:&#x27;monthly&#x27;, &#x27;LeaseRent&#x27;:&#x27;monthly&#x27;, &#x27;LeaseRent&#x27;:&#x27;monthly&#x27;, &#x27;LeaseRent&#x27;:&#x27;monthly&#x27;, &#x27;LeaseRent&#x27;:&#x27;monthly&#x27;, &#x27;LeaseRent&#x27;:&#x27;monthly&#x27;, &#x27;LeaseRent&#x27;:&#x27;monthly&#x27;, &#x27;LeaseRent&#x27;:&#x27;monthly&#x27;, &#x27;LeaseRent&#x27;:                                                                                                                                                                                                                                           </td></tr>\\n<tr><td style=\"text-align: right;\">  2</td><td>&#x27;tenant_name&#x27;: &#x27;Saray Ramos Gutierrez&#x27;, &#x27;unit_address&#x27;: &#x27;Crystal Terrace&#x27;, &#x27;unit_number&#x27;: None, &#x27;unit_type&#x27;: None, &#x27;agreement_date&#x27;: &#x27;2021-11-01&#x27;, &#x27;lease_start&#x27;: None, &#x27;lease_end&#x27;: None, &#x27;lease_auto_renew&#x27;: None, &#x27;hourly_rate&#x27;: None,&#x27;monthly_rent&#x27;: None, &#x27;prorated_rent&#x27;: None,&#x27;security_deposit&#x27;: None, &#x27;lease_rent&#x27;: None,&#x27;monthly_payment_breakdown&#x27;: None, &#x27;utility_charges&#x27;: None                                                                                                                                                 </td><td>&#x27;Lessee&#x27;: Saray Ramos Gutierrez, &#x27;Lessor&#x27;: avant garde, &#x27;LeaseTerm&#x27;: &#x27;2011&#x27;, &#x27;LeaseUnit&#x27;: &#x27;Crystal Terrace A&#x27;, &#x27;LeaseAmount&#x27;: &#x27;$&#x27;, &#x27;LeaseTerm&#x27;: &#x27;2011&#x27;, &#x27;LeaseTerm&#x27;: &#x27;2011&#x27;, &#x27;LeaseTerm&#x27;: &#x27;2011&#x27;, &#x27;LeaseAmount&#x27;: &#x27;2011&#x27;, &#x27;LeaseTerm&#x27;: &#x27;2011&#x27;, &#x27;LeaseTerm&#x27;: &#x27;2011&#x27;, &#x27;LeaseTerm&#x27;: &#x27;2011&#x27;, &#x27;LeaseTerm&#x27;: &#x27;2011&#x27;, &#x27;LeaseTerm&#x27;: &#x27;2011&#x27;, &#x27;LeaseTerm&#x27;: &#x27;2011&#x27;, &#x27;LeaseTerm&#x27;: &#x27;2011&#x27;, &#x27;LeaseTerm&#x27;: &#x27;2011&#x27;, &#x27;LeaseTerm&#x27;: &#x27;2011&#x27;, &#x27;LeaseTerm&#x27;: &#x27;2011&#x27;, &#x27;LeaseTerm&#x27;: &#x27;2011&#x27;, &#x27;LeaseTerm&#x27;: &#x27;2011&#x27;, &#x27;LeaseTerm&#x27;: &#x27;2011&#x27;, &#x27;LeaseTerm&#x27;: &#x27;2011&#x27;, &#x27;LeaseTerm&#x27;: &#x27;2011&#x27;, &#x27;LeaseTerm&#x27;: &#x27;2011&#x27;, &#x27;LeaseTerm&#x27;: &#x27;2011&#x27;, &#x27;LeaseTerm&#x27;: &#x27;2011&#x27;, &#x27;LeaseTerm&#x27;: &#x27;2011&#x27;, &#x27;LeaseTerm&#x27;: &#x27;2011&#x27;, &#x27;LeaseTerm&#x27;: &#x27;2011&#x27;, &#x27;LeaseTerm&#x27;: &#x27;2011&#x27;, &#x27;LeaseTerm&#x27;: &#x27;2011&#x27;, &#x27;LeaseTerm&#x27;: &#x27;2011&#x27;, &#x27;LeaseTerm&#x27;: &#x27;2011&#x27;, &#x27;LeaseTerm&#x27;: &#x27;2011&#x27;, &#x27;LeaseTerm&#x27;: &#x27;2011&#x27;, &#x27;LeaseTerm&#x27;: &#x27;2011&#x27;, &#x27;LeaseTerm&#x27;: &#x27;2011&#x27;, &#x27;LeaseTerm&#x27;: &#x27;2011&#x27;, &#x27;LeaseTerm&#x27;: &#x27;2011&#x27;, &#x27;LeaseTerm&#x27;: &#x27;2011&#x27;, &#x27;LeaseTerm&#x27;: &#x27;2011&#x27;                                                                                                                                                                       </td></tr>\\n<tr><td style=\"text-align: right;\">  3</td><td>&#x27;tenant_name&#x27;: &#x27;Claudia Spooney&#x27;, &#x27;unit_address&#x27;: &#x27;5604 Villas Cir Apt E, Montgomery, AL&#x27;, &#x27;unit_number&#x27;: &#x27;5604E&#x27;, &#x27;unit_type&#x27;: None, &#x27;agreement_date&#x27;: &#x27;2023-02-21&#x27;, &#x27;lease_start&#x27;: &#x27;2023-02-28&#x27;, &#x27;lease_end&#x27;: &#x27;2024-02-29&#x27;, &#x27;lease_auto_renew&#x27;: None, &#x27;hourly_rate&#x27;: None,&#x27;monthly_rent&#x27;: None, &#x27;prorated_rent&#x27;: None,&#x27;security_deposit&#x27;: 0.0, &#x27;lease_rent&#x27;: None,&#x27;monthly_payment_breakdown&#x27;: None, &#x27;utility_charges&#x27;: None                                                                                                               </td><td>&#x27;Apartment&#x27;: &#x27;5604E&#x27;, &#x27;LeaseTerm&#x27;: &#x27;02/28/2023&#x27;, &#x27;LeaseTerm&#x27;: &#x27;02/29/2024&#x27;, &#x27;ApartmentNumber&#x27;: &#x27;5604E&#x27;, &#x27;LeaseTerm&#x27;: &#x27;02/28/2023&#x27;, &#x27;LeaseTerm&#x27;: &#x27;02/29/2024&#x27;                                                                                                                                                                                                                                                                                                                                                                                                                                                                                                                                                                                                                                                                                                                                                                                                                                                                                                                                                       </td></tr>\\n<tr><td style=\"text-align: right;\">  4</td><td>&#x27;tenant_name&#x27;: None, &#x27;unit_address&#x27;: None, &#x27;unit_number&#x27;: None, &#x27;unit_type&#x27;: None, &#x27;agreement_date&#x27;: None, &#x27;lease_start&#x27;: None, &#x27;lease_end&#x27;: None, &#x27;lease_auto_renew&#x27;: None, &#x27;hourly_rate&#x27;: None,&#x27;monthly_rent&#x27;: 1046.0, &#x27;prorated_rent&#x27;: None,&#x27;security_deposit&#x27;: None, &#x27;lease_rent&#x27;: None,&#x27;monthly_payment_breakdown&#x27;: None, &#x27;utility_charges&#x27;: &#x27;electric_service&#x27;: None, &#x27;water_and_sewer&#x27;: None, &#x27;gas&#x27;: None, &#x27;trash&#x27;: None, &#x27;common_area_electric&#x27;: None,&#x27;monthly_billing_fee&#x27;: 4.99                                                    </td><td>&#x27;LeaseTerm&#x27;:&#x27;monthly&#x27;, &#x27;LeaseTerm&#x27;: &#x27;year&#x27;, &#x27;LeaseTerm&#x27;:&#x27;month&#x27;, &#x27;LeaseTerm&#x27;: &#x27;year&#x27;, &#x27;LeaseTerm&#x27;:&#x27;month&#x27;, &#x27;LeaseTerm&#x27;: &#x27;year&#x27;, &#x27;LeaseTerm&#x27;:&#x27;month&#x27;, &#x27;LeaseTerm&#x27;: &#x27;year&#x27;, &#x27;LeaseTerm&#x27;:&#x27;month&#x27;, &#x27;LeaseTerm&#x27;: &#x27;year&#x27;, &#x27;LeaseTerm&#x27;:&#x27;month&#x27;, &#x27;LeaseTerm&#x27;: &#x27;year&#x27;, &#x27;LeaseTerm&#x27;:&#x27;month&#x27;, &#x27;LeaseTerm&#x27;:&#x27;month&#x27;, &#x27;LeaseTerm&#x27;: &#x27;year&#x27;, &#x27;LeaseTerm&#x27;:&#x27;month&#x27;, &#x27;LeaseTerm&#x27;:&#x27;month&#x27;, &#x27;LeaseTerm&#x27;: &#x27;year&#x27;, &#x27;LeaseTerm&#x27;:&#x27;month&#x27;, &#x27;LeaseTerm&#x27;:&#x27;month&#x27;, &#x27;LeaseTerm&#x27;: &#x27;year&#x27;, &#x27;LeaseTerm&#x27;:&#x27;month&#x27;, &#x27;LeaseTerm&#x27;:&#x27;month&#x27;, &#x27;LeaseTerm&#x27;:&#x27;month&#x27;, &#x27;LeaseTerm&#x27;:&#x27;month&#x27;, &#x27;LeaseTerm&#x27;:&#x27;month&#x27;, &#x27;LeaseTerm&#x27;:&#x27;month&#x27;, &#x27;LeaseTerm&#x27;:&#x27;month&#x27;, &#x27;LeaseTerm&#x27;:&#x27;month&#x27;, &#x27;LeaseTerm&#x27;:&#x27;month&#x27;, &#x27;LeaseTerm&#x27;:&#x27;month&#x27;, &#x27;LeaseTerm&#x27;:&#x27;month&#x27;, &#x27;LeaseTerm&#x27;:&#x27;month&#x27;, &#x27;LeaseTerm&#x27;:&#x27;month&#x27;, &#x27;LeaseTerm&#x27;:&#x27;month&#x27;, &#x27;LeaseTerm&#x27;:&#x27;month&#x27;, &#x27;LeaseTerm&#x27;:&#x27;month&#x27;, &#x27;LeaseTerm&#x27;:&#x27;month&#x27;, &#x27;LeaseTerm&#x27;:&#x27;month&#x27;, &#x27;LeaseTerm&#x27;:&#x27;month&#x27;, &#x27;LeaseTerm&#x27;:&#x27;month&#x27;, &#x27;LeaseTerm&#x27;:&#x27;month&#x27;, &#x27;LeaseTerm&#x27;                                                                                                                                                                                    </td></tr>\\n<tr><td style=\"text-align: right;\">  5</td><td>&#x27;tenant_name&#x27;: None, &#x27;unit_address&#x27;: None, &#x27;unit_number&#x27;: None, &#x27;unit_type&#x27;: None, &#x27;agreement_date&#x27;: None, &#x27;lease_start&#x27;: None, &#x27;lease_end&#x27;: None, &#x27;lease_auto_renew&#x27;: None, &#x27;hourly_rate&#x27;: None,&#x27;monthly_rent&#x27;: None, &#x27;prorated_rent&#x27;: None,&#x27;security_deposit&#x27;: None, &#x27;lease_rent&#x27;: None,&#x27;monthly_payment_breakdown&#x27;: None, &#x27;utility_charges&#x27;: None                                                                                                                                                                                         </td><td>&#x27;Apartment&#x27;: None, &#x27;Landlord&#x27;: None, &#x27;Apartment_Number&#x27;: None, &#x27;Lease_Term&#x27;: None, &#x27;Agreement_Term&#x27;: None, &#x27;Lease_Term&#x27;: None, &#x27;Agreement_Number&#x27;: None, &#x27;Agreement_Number&#x27;: None, &#x27;Agreement_Term&#x27;: None, &#x27;Agreement_Number&#x27;: None, &#x27;Agreement_Number&#x27;: None, &#x27;Agreement_Number&#x27;: None, &#x27;Agreement_Number&#x27;: None, &#x27;Agreement_Term&#x27;: None, &#x27;Agreement_Number&#x27;: None, &#x27;Agreement_Number&#x27;: None, &#x27;Agreement_Number&#x27;: None, &#x27;Agreement_Number&#x27;: None, &#x27;Agreement_Number&#x27;: None, &#x27;Agreement_Number&#x27;: None, &#x27;Agreement_Number&#x27;: None, &#x27;Agreement_Number&#x27;: None, &#x27;Agreement_Number&#x27;: None, &#x27;Agreement_Number&#x27;: None, &#x27;Agreement_Number&#x27;: None, &#x27;Agreement_Number&#x27;: None, &#x27;Agreement_Number&#x27;: None, &#x27;Agreement_Number&#x27;: None, &#x27;Agreement_Number&#x27;: None, &#x27;Agreement_Number&#x27;: None, &#x27;Agreement_Number&#x27;: None, &#x27;Agreement_Number&#x27;: None, &#x27;Agreement_Number&#x27;: None, &#x27;Agreement_Number&#x27;: None, &#x27;Agreement_Number&#x27;: None, &#x27;Agreement_Number&#x27;: None, &#x27;Agreement_Number&#x27;: None, &#x27;Agreement_Number&#x27;: None, &#x27;Agreement_Number&#x27;: None, &#x27;Agreement_Number&#x27;: None, &#x27;Agreement_Number&#x27;                                                  </td></tr>\\n<tr><td style=\"text-align: right;\">  6</td><td>&#x27;tenant_name&#x27;: None, &#x27;unit_address&#x27;: None, &#x27;unit_number&#x27;: None, &#x27;unit_type&#x27;: None, &#x27;agreement_date&#x27;: None, &#x27;lease_start&#x27;: None, &#x27;lease_end&#x27;: None, &#x27;lease_auto_renew&#x27;: None, &#x27;hourly_rate&#x27;: None,&#x27;monthly_rent&#x27;: None, &#x27;prorated_rent&#x27;: None,&#x27;security_deposit&#x27;: None, &#x27;lease_rent&#x27;: None,&#x27;monthly_payment_breakdown&#x27;: None, &#x27;utility_charges&#x27;: None                                                                                                                                                                                         </td><td>&#x27;apartment&#x27;: &#x27;a&#x27;, &#x27;unit&#x27;: &#x27;a&#x27;, &#x27;lease&#x27;: &#x27;a&#x27;, &#x27;lease&#x27;: &#x27;a&#x27;, &#x27;agreement&#x27;: &#x27;agreement&#x27;, &#x27;lease&#x27;: &#x27;agreement&#x27;, &#x27;lease&#x27;: &#x27;agreement&#x27;, &#x27;lease&#x27;: &#x27;agreement&#x27;, &#x27;lease&#x27;: &#x27;agreement&#x27;, &#x27;lease&#x27;: &#x27;agreement&#x27;, &#x27;lease&#x27;: &#x27;agreement&#x27;, &#x27;lease&#x27;: &#x27;agreement&#x27;, &#x27;lease&#x27;: &#x27;agreement&#x27;, &#x27;lease&#x27;: &#x27;agreement&#x27;, &#x27;lease&#x27;: &#x27;agreement&#x27;, &#x27;lease&#x27;: &#x27;agreement&#x27;, &#x27;lease&#x27;: &#x27;agreement&#x27;, &#x27;lease&#x27;: &#x27;agreement&#x27;, &#x27;lease&#x27;: &#x27;agreement&#x27;, &#x27;lease&#x27;: &#x27;agreement&#x27;, &#x27;lease&#x27;: &#x27;agreement&#x27;, &#x27;lease&#x27;: &#x27;agreement&#x27;, &#x27;lease&#x27;: &#x27;agreement&#x27;, &#x27;lease&#x27;: &#x27;agreement&#x27;, &#x27;lease&#x27;: &#x27;agreement&#x27;, &#x27;lease&#x27;: &#x27;agreement&#x27;, &#x27;lease&#x27;: &#x27;agreement&#x27;, &#x27;lease&#x27;: &#x27;agreement&#x27;, &#x27;lease&#x27;: &#x27;agreement&#x27;, &#x27;lease&#x27;: &#x27;agreement&#x27;, &#x27;lease&#x27;: &#x27;agreement&#x27;, &#x27;lease&#x27;: &#x27;agreement&#x27;, &#x27;lease&#x27;: &#x27;agreement&#x27;, &#x27;lease&#x27;: &#x27;agreement&#x27;, &#x27;lease&#x27;: &#x27;agreement&#x27;, &#x27;lease&#x27;: &#x27;agreement&#x27;, &#x27;lease&#x27;: &#x27;agreement&#x27;, &#x27;lease&#x27;: &#x27;agreement&#x27;, &#x27;lease&#x27;: &#x27;agreement&#x27;, &#x27;lease&#x27;: &#x27;agreement                                                                                                                                                                                                                               </td></tr>\\n<tr><td style=\"text-align: right;\">  7</td><td>&#x27;tenant_name&#x27;: &#x27;Benjamin Breier&#x27;, &#x27;unit_address&#x27;: &#x27;1722 Greene Ave, Queens, New York 11385&#x27;, &#x27;unit_number&#x27;: &#x27;1-L&#x27;, &#x27;unit_type&#x27;: &#x27;Apartment&#x27;, &#x27;agreement_date&#x27;: &#x27;2022-08-08&#x27;, &#x27;lease_start&#x27;: &#x27;2022-10-01&#x27;, &#x27;lease_end&#x27;: &#x27;2023-09-30&#x27;, &#x27;lease_auto_renew&#x27;: None, &#x27;hourly_rate&#x27;: None,&#x27;monthly_rent&#x27;: 2581.25, &#x27;prorated_rent&#x27;: None,&#x27;security_deposit&#x27;: 2581.25, &#x27;lease_rent&#x27;: 30975,&#x27;monthly_payment_breakdown&#x27;: None, &#x27;utility_charges&#x27;: None                                                                                                </td><td>&#x27;Landlord&#x27;: 100A Broadway Avenue, &#x27;LeaseTerm&#x27;: &#x27;2020-2023&#x27;, &#x27;Apartment&#x27;: 1722 Greene Ave 1-L, &#x27;LeaseRent&#x27;: $30,975, &#x27;SecurityDeposit&#x27;: $2,581.25, &#x27;Utilities&#x27;: None, &#x27;Agreement&#x27;: None, &#x27;Lease&#x27;: None, &#x27;Agreement&#x27;: None, &#x27;Agreement&#x27;: None, &#x27;Agreement&#x27;: None, &#x27;Agreement&#x27;: None, &#x27;Agreement&#x27;: None, &#x27;Agreement&#x27;: None, &#x27;Agreement&#x27;: None, &#x27;Agreement&#x27;: None, &#x27;Agreement&#x27;: None, &#x27;Agreement&#x27;: None, &#x27;Agreement&#x27;: None, &#x27;Agreement&#x27;: None, &#x27;Agreement&#x27;: None, &#x27;Agreement&#x27;: None, &#x27;Agreement&#x27;: None, &#x27;Agreement&#x27;: None, &#x27;Agreement&#x27;: None, &#x27;Agreement&#x27;: None, &#x27;Agreement&#x27;: None, &#x27;Agreement&#x27;: None, &#x27;Agreement&#x27;: None, &#x27;Agreement&#x27;: None, &#x27;Agreement&#x27;: None, &#x27;Agreement&#x27;: None, &#x27;Agreement&#x27;: None, &#x27;Agreement&#x27;: None, &#x27;Agreement&#x27;: None, &#x27;Agreement&#x27;: None, &#x27;Agreement&#x27;: None, &#x27;Agreement&#x27;: None, &#x27;Agreement&#x27;: None, &#x27;Agreement&#x27;: None, &#x27;Agreement&#x27;: None, &#x27;Agreement&#x27;: None, &#x27;Agreement&#x27;: None, &#x27;Agreement&#x27;: None, &#x27;Agreement&#x27;: None, &#x27;Agreement&#x27;: None, &#x27;Agreement&#x27;: None, &#x27;Agreement&#x27;: None, &#x27;Agreement&#x27;: None, &#x27;Agreement&#x27;: None, &#x27;Agreement&#x27;: None, &#x27;Agreement&#x27;: None, &#x27;Agreement&#x27;: None, &#x27;Agreement&#x27;: None,   </td></tr>\\n<tr><td style=\"text-align: right;\">  8</td><td>&#x27;tenant_name&#x27;: &#x27;Taylor Whittle&#x27;, &#x27;unit_address&#x27;: None, &#x27;unit_number&#x27;: None, &#x27;unit_type&#x27;: None, &#x27;agreement_date&#x27;: &#x27;2023-02-27&#x27;, &#x27;lease_start&#x27;: None, &#x27;lease_end&#x27;: None, &#x27;lease_auto_renew&#x27;: None, &#x27;hourly_rate&#x27;: None,&#x27;monthly_rent&#x27;: None, &#x27;prorated_rent&#x27;: None,&#x27;security_deposit&#x27;: None, &#x27;lease_rent&#x27;: None,&#x27;monthly_payment_breakdown&#x27;: None, &#x27;utility_charges&#x27;: None                                                                                                                                                                     </td><td>&#x27;LeaseTerm&#x27;:&#x27;monthly&#x27;, &#x27;LeaseAgreement&#x27;:&#x27;monthly&#x27;, &#x27;LeaseTerm&#x27;:&#x27;monthly&#x27;, &#x27;LeaseAgreement&#x27;:&#x27;monthly&#x27;, &#x27;LeaseAgreement&#x27;:&#x27;monthly&#x27;, &#x27;LeaseAgreement&#x27;:&#x27;monthly&#x27;, &#x27;LeaseAgreement&#x27;:&#x27;monthly&#x27;, &#x27;LeaseAgreement&#x27;:&#x27;monthly&#x27;, &#x27;LeaseAgreement&#x27;:&#x27;monthly&#x27;, &#x27;LeaseAgreement&#x27;:&#x27;monthly&#x27;, &#x27;LeaseAgreement&#x27;:&#x27;monthly&#x27;, &#x27;LeaseAgreement&#x27;:&#x27;monthly&#x27;, &#x27;LeaseAgreement&#x27;:&#x27;monthly&#x27;, &#x27;LeaseAgreement&#x27;:&#x27;monthly&#x27;, &#x27;LeaseAgreement&#x27;:&#x27;monthly&#x27;, &#x27;LeaseAgreement&#x27;:&#x27;monthly&#x27;, &#x27;LeaseAgreement&#x27;:&#x27;monthly&#x27;, &#x27;LeaseAgreement&#x27;:&#x27;monthly&#x27;, &#x27;LeaseAgreement&#x27;:&#x27;monthly&#x27;, &#x27;LeaseAgreement&#x27;:&#x27;monthly&#x27;, &#x27;LeaseAgreement&#x27;:&#x27;monthly&#x27;, &#x27;LeaseAgreement&#x27;:&#x27;monthly&#x27;, &#x27;LeaseAgreement&#x27;:&#x27;monthly&#x27;, &#x27;LeaseAgreement&#x27;:&#x27;monthly&#x27;, &#x27;LeaseAgreement&#x27;:&#x27;monthly&#x27;, &#x27;LeaseAgreement&#x27;:&#x27;monthly&#x27;, &#x27;LeaseAgreement&#x27;:&#x27;monthly&#x27;, &#x27;LeaseAgreement&#x27;:&#x27;monthly&#x27;, &#x27;LeaseAgreement&#x27;:&#x27;monthly&#x27;, &#x27;LeaseAgreement&#x27;:&#x27;monthly&#x27;, &#x27;LeaseAgreement&#x27;:&#x27;monthly&#x27;, &#x27;LeaseAgreement&#x27;:&#x27;monthly&#x27;, &#x27;LeaseAgreement&#x27;:&#x27;monthly&#x27;, &#x27;LeaseAgreement&#x27;:&#x27;monthly&#x27;, &#x27;LeaseA                                                                                                                              </td></tr>\\n<tr><td style=\"text-align: right;\">  9</td><td>&#x27;tenant_name&#x27;: &#x27;Zoey Medina&#x27;, &#x27;unit_address&#x27;: &#x27;SPRINGHILL APARTMENTS&#x27;, &#x27;unit_number&#x27;: &#x27;01102&#x27;, &#x27;unit_type&#x27;: None, &#x27;agreement_date&#x27;: &#x27;2023-03-06&#x27;, &#x27;lease_start&#x27;: &#x27;2023-03-06&#x27;, &#x27;lease_end&#x27;: None, &#x27;lease_auto_renew&#x27;: None, &#x27;hourly_rate&#x27;: None,&#x27;monthly_rent&#x27;: None, &#x27;prorated_rent&#x27;: None,&#x27;security_deposit&#x27;: None, &#x27;lease_rent&#x27;: None,&#x27;monthly_payment_breakdown&#x27;: None, &#x27;utility_charges&#x27;: None                                                                                                                                          </td><td>&#x27;Address&#x27;: &#x27;01102&#x27;, &#x27;LeaseTerm&#x27;: &#x27;3 Months&#x27;, &#x27;LeaseAgreement&#x27;: &#x27;3 Months&#x27;, &#x27;LeaseTerm&#x27;: &#x27;3 Months&#x27;, &#x27;LeaseAgreement&#x27;: &#x27;3 Months&#x27;, &#x27;LeaseAgreement&#x27;: &#x27;3 Months&#x27;, &#x27;LeaseAgreement&#x27;: &#x27;3 Months&#x27;, &#x27;LeaseAgreement&#x27;: &#x27;3 Months&#x27;, &#x27;LeaseAgreement&#x27;: &#x27;3 Months&#x27;, &#x27;LeaseAgreement&#x27;: &#x27;3 Months&#x27;, &#x27;LeaseAgreement&#x27;: &#x27;3 Months&#x27;, &#x27;LeaseAgreement&#x27;: &#x27;3 Months&#x27;, &#x27;LeaseAgreement&#x27;: &#x27;3 Months&#x27;, &#x27;LeaseAgreement&#x27;: &#x27;3 Months&#x27;, &#x27;LeaseAgreement&#x27;: &#x27;3 Months&#x27;, &#x27;LeaseAgreement&#x27;: &#x27;3 Months&#x27;, &#x27;LeaseAgreement&#x27;: &#x27;3 Months&#x27;, &#x27;LeaseAgreement&#x27;: &#x27;3 Months&#x27;, &#x27;LeaseAgreement&#x27;: &#x27;3 Months&#x27;, &#x27;LeaseAgreement&#x27;: &#x27;3 Months&#x27;, &#x27;LeaseAgreement&#x27;: &#x27;3 Months&#x27;, &#x27;LeaseAgreement&#x27;: &#x27;3 Months&#x27;, &#x27;LeaseAgreement&#x27;: &#x27;3 Months&#x27;, &#x27;LeaseAgreement&#x27;: &#x27;3 Months&#x27;, &#x27;LeaseAgreement&#x27;: &#x27;3 Months&#x27;, &#x27;LeaseAgreement&#x27;: &#x27;3 Months&#x27;, &#x27;LeaseAgreement&#x27;: &#x27;3 Months&#x27;, &#x27;LeaseAgreement&#x27;: &#x27;3 Months&#x27;, &#x27;LeaseAgreement&#x27;: &#x27;3 Months&#x27;, &#x27;LeaseAgreement&#x27;: &#x27;3 Months&#x27;, &#x27;LeaseAgreement&#x27;: &#x27;3 Months&#x27;, &#x27;LeaseAgreement&#x27;: &#x27;3 Months&#x27;, &#x27;LeaseAgreement                                                                                                                        </td></tr>\\n<tr><td style=\"text-align: right;\"> 10</td><td>&#x27;tenant_name&#x27;: None, &#x27;unit_address&#x27;: None, &#x27;unit_number&#x27;: None, &#x27;unit_type&#x27;: None, &#x27;agreement_date&#x27;: None, &#x27;lease_start&#x27;: None, &#x27;lease_end&#x27;: None, &#x27;lease_auto_renew&#x27;: None, &#x27;hourly_rate&#x27;: None,&#x27;monthly_rent&#x27;: None, &#x27;prorated_rent&#x27;: None,&#x27;security_deposit&#x27;: None, &#x27;lease_rent&#x27;: None,&#x27;monthly_payment_breakdown&#x27;: None, &#x27;utility_charges&#x27;: None                                                                                                                                                                                         </td><td>LESSEE_ID, LESSOR_ID, RENTAL_AMOUNT, RENTAL_QUANTITY, RENTAL_TERM, RENTAL_TERM_PAYMENT, RENTAL_QUANTITY_PAYMENT_DEPOSIT, RENTAL_QUANTITY_PAYMENT_DEPOSIT, RENTAL_QUANTITY_PAYMENT_DEPOSIT, RENTAL_QUANTITY_PAYMENT_DEPOSIT, RENTAL_QUANTITY_PAYMENT_DEPOSIT, RENTAL_QUANTITY_PAYMENT_DEPOSIT, RENTAL_QUANTITY_PAYMENT_DEPOSIT, RENTAL_QUANTITY_PAYMENT_DEPOSIT, RENTAL_QUANTITY_PAYMENT_DEPOSIT, RENTAL_QUANTITY_PAYMENT_DEPOSIT, RENTAL_QUANTITY_PAYMENT_DEPOSIT, RENTAL_QUANTITY_PAYMENT_DEPOSIT, RENTAL_QUANTITY_PAYMENT_DEPOSIT, RENTAL_QUANTITY_PAYMENT_DEPOSIT, RENTAL_QUANTITY_PAYMENT_DEPOSIT, RENTAL_QUANTITY_PAYMENT_DEPOSIT, RENTAL_QUANTITY_PAYMENT_DEPOSIT, RENTAL_QUANTITY_PAYMENT_DEPOSIT, RENTAL_QUANTITY_PAYMENT_DEPOSIT, RENTAL_QUANTITY_PAYMENT_DEPOSIT, RENTAL_QUANTITY_PAYMENT_DEPOSIT, RENTAL_QUANTITY_PAYMENT_DEPOSIT, RENTAL_QUANTITY_PAYMENT_DEPOSIT, RENTAL_QUANTITY_PAYMENT_DEPOSIT, RENTAL_QUANTITY_PAYMENT_DEPOSIT, RENTAL_QUANTITY_PAYMENT_DEPOSIT, RENTAL_QUANTITY_PAYMENT_DEPOSIT, RENTAL_QUANTITY_PAYMENT_DEPOSIT, RENTAL_QUANTITY_PAYMENT_DEPOSIT, REN                           </td></tr>\\n<tr><td style=\"text-align: right;\"> 11</td><td>&#x27;tenant_name&#x27;: &#x27;Mac&#x27;, &#x27;unit_address&#x27;: &#x27;850 Shoal Run Trail, Birmingham, AL&#x27;, &#x27;unit_number&#x27;: None, &#x27;unit_type&#x27;: None, &#x27;agreement_date&#x27;: None, &#x27;lease_start&#x27;: None, &#x27;lease_end&#x27;: None, &#x27;lease_auto_renew&#x27;: None, &#x27;hourly_rate&#x27;: None,&#x27;monthly_rent&#x27;: None, &#x27;prorated_rent&#x27;: None,&#x27;security_deposit&#x27;: None, &#x27;lease_rent&#x27;: None,&#x27;monthly_payment_breakdown&#x27;: None, &#x27;utility_charges&#x27;: None                                                                                                                                                       </td><td>&#x27;, &#x27;unit_address&#x27;: &#x27;null&#x27;, &#x27;tenant_name&#x27;: &#x27;null&#x27;, &#x27;unit_address&#x27;: &#x27;null&#x27;, &#x27;lease_term&#x27;:&#x27;monthly&#x27;, &#x27;lease_start&#x27;:&#x27;monthly&#x27;, &#x27;lease_end&#x27;:&#x27;monthly&#x27;, &#x27;lease_end&#x27;:&#x27;monthly&#x27;, &#x27;lease_start&#x27;:&#x27;monthly&#x27;, &#x27;lease_end&#x27;:&#x27;monthly&#x27;, &#x27;lease_end&#x27;:&#x27;monthly&#x27;, &#x27;lease_start&#x27;:&#x27;monthly&#x27;, &#x27;lease_end&#x27;:&#x27;monthly&#x27;, &#x27;lease_end&#x27;:&#x27;monthly&#x27;, &#x27;lease_start&#x27;:&#x27;monthly&#x27;, &#x27;lease_end&#x27;:&#x27;monthly&#x27;, &#x27;lease_start&#x27;:&#x27;monthly&#x27;, &#x27;lease_end&#x27;:&#x27;monthly&#x27;]                                                                                                                                                                                                                                                                                                                                                                                                                                                                                                                                                                                                                                                                                             </td></tr>\\n<tr><td style=\"text-align: right;\"> 12</td><td>&#x27;tenant_name&#x27;: None, &#x27;unit_address&#x27;: None, &#x27;unit_number&#x27;: None, &#x27;unit_type&#x27;: None, &#x27;agreement_date&#x27;: None, &#x27;lease_start&#x27;: None, &#x27;lease_end&#x27;: None, &#x27;lease_auto_renew&#x27;: None, &#x27;hourly_rate&#x27;: None,&#x27;monthly_rent&#x27;: None, &#x27;prorated_rent&#x27;: None,&#x27;security_deposit&#x27;: None, &#x27;lease_rent&#x27;: None,&#x27;monthly_payment_breakdown&#x27;: None, &#x27;utility_charges&#x27;: None                                                                                                                                                                                         </td><td>&#x27;lease_start&#x27;: None, &#x27;lease_end&#x27;: None, &#x27;lease_start&#x27;: None, &#x27;lease_end&#x27;: None, &#x27;lease_start&#x27;: None, &#x27;lease_end&#x27;: None, &#x27;lease_end&#x27;: None, &#x27;lease_end&#x27;: None, &#x27;lease_end&#x27;: None, &#x27;lease_end&#x27;: None, &#x27;lease_end&#x27;: None, &#x27;lease_end&#x27;: None, &#x27;lease_end&#x27;: None, &#x27;lease_end&#x27;: None, &#x27;lease_end&#x27;: None, &#x27;lease_end&#x27;: None, &#x27;lease_end&#x27;: None, &#x27;lease_end&#x27;: None, &#x27;lease_end&#x27;: None, &#x27;lease_end&#x27;: None, &#x27;lease_end&#x27;: None, &#x27;lease_end&#x27;: None, &#x27;lease_end&#x27;: None, &#x27;lease_end&#x27;: None, &#x27;lease_end&#x27;: None, &#x27;lease_end&#x27;: None, &#x27;lease_end&#x27;: None, &#x27;lease_end&#x27;: None, &#x27;lease_end&#x27;: None, &#x27;lease_end&#x27;: None, &#x27;lease_end&#x27;: None, &#x27;lease_end&#x27;: None, &#x27;lease_end&#x27;: None, &#x27;lease_end&#x27;: None, &#x27;lease_end&#x27;: None, &#x27;lease_end&#x27;: None, &#x27;lease_end&#x27;: None, &#x27;lease_end&#x27;: None, &#x27;lease_end&#x27;: None, &#x27;lease_end&#x27;: None, &#x27;lease_end&#x27;: None, &#x27;lease_end&#x27;: None, &#x27;lease_end&#x27;: None, &#x27;lease_end&#x27;: None, &#x27;lease_end&#x27;: None, &#x27;lease_end&#x27;: None, &#x27;lease_end&#x27;: None, &#x27;lease_end&#x27;: None, &#x27;lease_end&#x27;: None, &#x27;lease_end&#x27;: None, &#x27;lease_end&#x27;: None,                                                                                                     </td></tr>\\n<tr><td style=\"text-align: right;\"> 13</td><td>&#x27;tenant_name&#x27;: None, &#x27;unit_address&#x27;: None, &#x27;unit_number&#x27;: None, &#x27;unit_type&#x27;: None, &#x27;agreement_date&#x27;: None, &#x27;lease_start&#x27;: None, &#x27;lease_end&#x27;: None, &#x27;lease_auto_renew&#x27;: None, &#x27;hourly_rate&#x27;: None,&#x27;monthly_rent&#x27;: None, &#x27;prorated_rent&#x27;: None,&#x27;security_deposit&#x27;: None, &#x27;lease_rent&#x27;: None,&#x27;monthly_payment_breakdown&#x27;: None, &#x27;utility_charges&#x27;: None                                                                                                                                                                                         </td><td>&#x27;Landlord&#x27;: None, &#x27;Lease&#x27;: None, &#x27;Lease&#x27;: None, &#x27;Lease&#x27;: None, &#x27;Lease&#x27;: None, &#x27;Lease&#x27;: None, &#x27;Lease&#x27;: None, &#x27;Lease&#x27;: None, &#x27;Lease&#x27;: None, &#x27;Lease&#x27;: None, &#x27;Lease&#x27;: None, &#x27;Lease&#x27;: None, &#x27;Lease&#x27;: None, &#x27;Lease&#x27;: None, &#x27;Lease&#x27;: None, &#x27;Lease&#x27;: None, &#x27;Lease&#x27;: None, &#x27;Lease&#x27;: None, &#x27;Lease&#x27;: None, &#x27;Lease&#x27;: None, &#x27;Lease&#x27;: None, &#x27;Lease&#x27;: None, &#x27;Lease&#x27;: None, &#x27;Lease&#x27;: None, &#x27;Lease&#x27;: None, &#x27;Lease&#x27;: None, &#x27;Lease&#x27;: None, &#x27;Lease&#x27;: None, &#x27;Lease&#x27;: None, &#x27;Lease&#x27;: None, &#x27;Lease&#x27;: None, &#x27;Lease&#x27;: None, &#x27;Lease&#x27;: None, &#x27;Lease&#x27;: None, &#x27;Lease&#x27;: None, &#x27;Lease&#x27;: None, &#x27;Lease&#x27;: None, &#x27;Lease&#x27;: None, &#x27;Lease&#x27;: None, &#x27;Lease&#x27;: None, &#x27;Lease&#x27;: None, &#x27;Lease&#x27;: None, &#x27;Lease&#x27;: None, &#x27;Lease&#x27;: None, &#x27;Lease&#x27;: None, &#x27;Lease&#x27;: None, &#x27;Lease&#x27;: None, &#x27;Lease&#x27;: None, &#x27;Lease&#x27;: None, &#x27;Lease&#x27;: None, &#x27;Lease&#x27;: None, &#x27;Lease&#x27;: None, &#x27;Lease&#x27;: None, &#x27;Lease&#x27;: None, &#x27;Lease&#x27;: None, &#x27;Lease&#x27;: None, &#x27;Lease&#x27;: None, &#x27;Lease&#x27;: None, &#x27;Lease&#x27;: None, &#x27;Lease&#x27;: None, &#x27;Lease&#x27;: None, &#x27;Lease&#x27;: None, &#x27;Lease&#x27;: None, &#x27;Lease&#x27;                                                                                                                        </td></tr>\\n<tr><td style=\"text-align: right;\"> 14</td><td>&#x27;tenant_name&#x27;: None, &#x27;unit_address&#x27;: None, &#x27;unit_number&#x27;: None, &#x27;unit_type&#x27;: None, &#x27;agreement_date&#x27;: None, &#x27;lease_start&#x27;: None, &#x27;lease_end&#x27;: None, &#x27;lease_auto_renew&#x27;: None, &#x27;hourly_rate&#x27;: None,&#x27;monthly_rent&#x27;: None, &#x27;prorated_rent&#x27;: None,&#x27;security_deposit&#x27;: None, &#x27;lease_rent&#x27;: None,&#x27;monthly_payment_breakdown&#x27;: None, &#x27;utility_charges&#x27;: &#x27;gas&#x27;: None, &#x27;electricity&#x27;: None, &#x27;telephone&#x27;: None, &#x27;cable television&#x27;: None                                                                                                                </td><td>&#x27;Apartment&#x27;: None, &#x27;Lease&#x27;: None, &#x27;Agreement&#x27;: None, &#x27;Lease&#x27;: None, &#x27;Agreement&#x27;: None, &#x27;Agreement&#x27;: None, &#x27;Agreement&#x27;: None, &#x27;Agreement&#x27;: None, &#x27;Agreement&#x27;: None, &#x27;Agreement&#x27;: None, &#x27;Agreement&#x27;: None, &#x27;Agreement&#x27;: None, &#x27;Agreement&#x27;: None, &#x27;Agreement&#x27;: None, &#x27;Agreement&#x27;: None, &#x27;Agreement&#x27;: None, &#x27;Agreement&#x27;: None, &#x27;Agreement&#x27;: None, &#x27;Agreement&#x27;: None, &#x27;Agreement&#x27;: None, &#x27;Agreement&#x27;: None, &#x27;Agreement&#x27;: None, &#x27;Agreement&#x27;: None, &#x27;Agreement&#x27;: None, &#x27;Agreement&#x27;: None, &#x27;Agreement&#x27;: None, &#x27;Agreement&#x27;: None, &#x27;Agreement&#x27;: None, &#x27;Agreement&#x27;: None, &#x27;Agreement&#x27;: None, &#x27;Agreement&#x27;: None, &#x27;Agreement&#x27;: None, &#x27;Agreement&#x27;: None, &#x27;Agreement&#x27;: None, &#x27;Agreement&#x27;: None, &#x27;Agreement&#x27;: None, &#x27;Agreement&#x27;: None, &#x27;Agreement&#x27;: None, &#x27;Agreement&#x27;: None, &#x27;Agreement&#x27;: None, &#x27;Agreement&#x27;: None, &#x27;Agreement&#x27;: None, &#x27;Agreement&#x27;: None, &#x27;Agreement&#x27;: None, &#x27;Agreement&#x27;: None, &#x27;Agreement&#x27;: None, &#x27;Agreement&#x27;: None, &#x27;Agreement&#x27;: None, &#x27;Agreement&#x27;: None, &#x27;Agreement&#x27;: None, &#x27;Agreement&#x27;: None, &#x27;Agreement&#x27;: None, &#x27;Agreement&#x27;: None, &#x27;Agreement&#x27;: None, &#x27;Agreement&#x27;: None, &#x27;Agreement&#x27;: None, &#x27;Agreement&#x27;: None, </td></tr>\\n<tr><td style=\"text-align: right;\"> 15</td><td>&#x27;tenant_name&#x27;: &#x27;Benjamin Breier&#x27;, &#x27;unit_address&#x27;: &#x27;1722 Greene Ave, Queens, New York 11385&#x27;, &#x27;unit_number&#x27;: &#x27;1-L&#x27;, &#x27;unit_type&#x27;: &#x27;Apartment&#x27;, &#x27;agreement_date&#x27;: &#x27;2022-08-08&#x27;, &#x27;lease_start&#x27;: &#x27;2022-10-01&#x27;, &#x27;lease_end&#x27;: &#x27;2023-09-30&#x27;, &#x27;lease_auto_renew&#x27;: None, &#x27;hourly_rate&#x27;: None,&#x27;monthly_rent&#x27;: 2581.25, &#x27;prorated_rent&#x27;: None,&#x27;security_deposit&#x27;: 2581.25, &#x27;lease_rent&#x27;: 30975,&#x27;monthly_payment_breakdown&#x27;: None, &#x27;utility_charges&#x27;: None                                                                                                </td><td>&#x27;Landlord&#x27;: 100A Broadway Avenue, &#x27;LeaseTerm&#x27;: &#x27;2020-2023&#x27;, &#x27;Apartment&#x27;: 1722 Greene Ave 1-L, &#x27;LeaseRent&#x27;: $30,975, &#x27;SecurityDeposit&#x27;: $2,581.25, &#x27;Utilities&#x27;: None, &#x27;Agreement&#x27;: None, &#x27;Lease&#x27;: None, &#x27;Agreement&#x27;: None, &#x27;Agreement&#x27;: None, &#x27;Agreement&#x27;: None, &#x27;Agreement&#x27;: None, &#x27;Agreement&#x27;: None, &#x27;Agreement&#x27;: None, &#x27;Agreement&#x27;: None, &#x27;Agreement&#x27;: None, &#x27;Agreement&#x27;: None, &#x27;Agreement&#x27;: None, &#x27;Agreement&#x27;: None, &#x27;Agreement&#x27;: None, &#x27;Agreement&#x27;: None, &#x27;Agreement&#x27;: None, &#x27;Agreement&#x27;: None, &#x27;Agreement&#x27;: None, &#x27;Agreement&#x27;: None, &#x27;Agreement&#x27;: None, &#x27;Agreement&#x27;: None, &#x27;Agreement&#x27;: None, &#x27;Agreement&#x27;: None, &#x27;Agreement&#x27;: None, &#x27;Agreement&#x27;: None, &#x27;Agreement&#x27;: None, &#x27;Agreement&#x27;: None, &#x27;Agreement&#x27;: None, &#x27;Agreement&#x27;: None, &#x27;Agreement&#x27;: None, &#x27;Agreement&#x27;: None, &#x27;Agreement&#x27;: None, &#x27;Agreement&#x27;: None, &#x27;Agreement&#x27;: None, &#x27;Agreement&#x27;: None, &#x27;Agreement&#x27;: None, &#x27;Agreement&#x27;: None, &#x27;Agreement&#x27;: None, &#x27;Agreement&#x27;: None, &#x27;Agreement&#x27;: None, &#x27;Agreement&#x27;: None, &#x27;Agreement&#x27;: None, &#x27;Agreement&#x27;: None, &#x27;Agreement&#x27;: None, &#x27;Agreement&#x27;: None, &#x27;Agreement&#x27;: None, &#x27;Agreement&#x27;: None, &#x27;Agreement&#x27;: None,   </td></tr>\\n<tr><td style=\"text-align: right;\"> 16</td><td>&#x27;tenant_name&#x27;: None, &#x27;unit_address&#x27;: None, &#x27;unit_number&#x27;: None, &#x27;unit_type&#x27;: None, &#x27;agreement_date&#x27;: None, &#x27;lease_start&#x27;: None, &#x27;lease_end&#x27;: None, &#x27;lease_auto_renew&#x27;: None, &#x27;hourly_rate&#x27;: None,&#x27;monthly_rent&#x27;: None, &#x27;prorated_rent&#x27;: None,&#x27;security_deposit&#x27;: 550.0, &#x27;lease_rent&#x27;: None,&#x27;monthly_payment_breakdown&#x27;: None, &#x27;utility_charges&#x27;: None                                                                                                                                                                                        </td><td>&#x27;Location&#x27;: &#x27;United States&#x27;, &#x27;LeaseTerm&#x27;:&#x27;monthly&#x27;, &#x27;LeaseRent&#x27;:&#x27;monthly&#x27;, &#x27;LeaseAmount&#x27;:&#x27;monthly&#x27;, &#x27;LeaseTerm&#x27;:&#x27;monthly&#x27;, &#x27;LeaseTerm&#x27;:&#x27;monthly&#x27;, &#x27;LeaseTerm&#x27;:&#x27;monthly&#x27;, &#x27;LeaseTerm&#x27;:&#x27;monthly&#x27;, &#x27;LeaseTerm&#x27;:&#x27;monthly&#x27;, &#x27;LeaseTerm&#x27;:&#x27;monthly&#x27;, &#x27;LeaseTerm&#x27;:&#x27;monthly&#x27;, &#x27;LeaseTerm&#x27;:&#x27;monthly&#x27;, &#x27;LeaseTerm&#x27;:&#x27;monthly&#x27;, &#x27;LeaseTerm&#x27;:&#x27;monthly&#x27;, &#x27;LeaseTerm&#x27;:&#x27;monthly&#x27;, &#x27;LeaseTerm&#x27;:&#x27;monthly&#x27;, &#x27;LeaseTerm&#x27;:&#x27;monthly&#x27;, &#x27;LeaseTerm&#x27;:&#x27;monthly&#x27;, &#x27;LeaseTerm&#x27;:&#x27;monthly&#x27;, &#x27;LeaseTerm&#x27;:&#x27;monthly&#x27;, &#x27;LeaseTerm&#x27;:&#x27;monthly&#x27;, &#x27;LeaseTerm&#x27;:&#x27;monthly&#x27;, &#x27;LeaseTerm&#x27;:&#x27;monthly&#x27;, &#x27;LeaseTerm&#x27;:&#x27;monthly&#x27;, &#x27;LeaseTerm&#x27;:&#x27;monthly&#x27;, &#x27;LeaseTerm&#x27;:&#x27;monthly&#x27;, &#x27;LeaseTerm&#x27;:&#x27;monthly&#x27;, &#x27;LeaseTerm&#x27;:&#x27;monthly&#x27;, &#x27;LeaseTerm&#x27;:&#x27;monthly&#x27;, &#x27;LeaseTerm&#x27;:&#x27;monthly&#x27;, &#x27;LeaseTerm&#x27;:&#x27;monthly&#x27;, &#x27;LeaseTerm&#x27;:&#x27;monthly&#x27;, &#x27;LeaseTerm&#x27;:&#x27;monthly&#x27;, &#x27;LeaseTerm&#x27;:&#x27;monthly&#x27;, &#x27;LeaseTerm&#x27;:&#x27;monthly&#x27;, &#x27;LeaseTerm&#x27;:&#x27;monthly&#x27;, &#x27;LeaseTerm&#x27;:&#x27;monthly&#x27;, &#x27;LeaseTerm&#x27;:&#x27;monthly&#x27;, &#x27;LeaseTerm&#x27;:&#x27;monthly&#x27;                                                                                                                                                                            </td></tr>\\n<tr><td style=\"text-align: right;\"> 17</td><td>&#x27;tenant_name&#x27;: None, &#x27;unit_address&#x27;: None, &#x27;unit_number&#x27;: None, &#x27;unit_type&#x27;: None, &#x27;agreement_date&#x27;: None, &#x27;lease_start&#x27;: None, &#x27;lease_end&#x27;: None, &#x27;lease_auto_renew&#x27;: None, &#x27;hourly_rate&#x27;: None,&#x27;monthly_rent&#x27;: None, &#x27;prorated_rent&#x27;: None,&#x27;security_deposit&#x27;: None, &#x27;lease_rent&#x27;: None,&#x27;monthly_payment_breakdown&#x27;: None, &#x27;utility_charges&#x27;: None                                                                                                                                                                                         </td><td>&#x27;Unit&#x27;: None, &#x27;Lease&#x27;: None, &#x27;Lease&#x27;: None, &#x27;Lease&#x27;: None, &#x27;Lease&#x27;: None, &#x27;Lease&#x27;: None, &#x27;Lease&#x27;: None, &#x27;Lease&#x27;: None, &#x27;Lease&#x27;: None, &#x27;Lease&#x27;: None, &#x27;Lease&#x27;: None, &#x27;Lease&#x27;: None, &#x27;Lease&#x27;: None, &#x27;Lease&#x27;: None, &#x27;Lease&#x27;: None, &#x27;Lease&#x27;: None, &#x27;Lease&#x27;: None, &#x27;Lease&#x27;: None, &#x27;Lease&#x27;: None, &#x27;Lease&#x27;: None, &#x27;Lease&#x27;: None, &#x27;Lease&#x27;: None, &#x27;Lease&#x27;: None, &#x27;Lease&#x27;: None, &#x27;Lease&#x27;: None, &#x27;Lease&#x27;: None, &#x27;Lease&#x27;: None, &#x27;Lease&#x27;: None, &#x27;Lease&#x27;: None, &#x27;Lease&#x27;: None, &#x27;Lease&#x27;: None, &#x27;Lease&#x27;: None, &#x27;Lease&#x27;: None, &#x27;Lease&#x27;: None, &#x27;Lease&#x27;: None, &#x27;Lease&#x27;: None, &#x27;Lease&#x27;: None, &#x27;Lease&#x27;: None, &#x27;Lease&#x27;: None, &#x27;Lease&#x27;: None, &#x27;Lease&#x27;: None, &#x27;Lease&#x27;: None, &#x27;Lease&#x27;: None, &#x27;Lease&#x27;: None, &#x27;Lease&#x27;: None, &#x27;Lease&#x27;: None, &#x27;Lease&#x27;: None, &#x27;Lease&#x27;: None, &#x27;Lease&#x27;: None, &#x27;Lease&#x27;: None, &#x27;Lease&#x27;: None, &#x27;Lease&#x27;: None, &#x27;Lease&#x27;: None, &#x27;Lease&#x27;: None, &#x27;Lease&#x27;: None, &#x27;Lease&#x27;: None, &#x27;Lease&#x27;: None, &#x27;Lease&#x27;: None, &#x27;Lease&#x27;: None, &#x27;Lease&#x27;: None, &#x27;Lease&#x27;: None, &#x27;Lease&#x27;: None, &#x27;Lease&#x27;: None, &#x27;Lease&#x27;: None                                                                                                                      </td></tr>\\n<tr><td style=\"text-align: right;\"> 18</td><td>&#x27;tenant_name&#x27;: None, &#x27;unit_address&#x27;: None, &#x27;unit_number&#x27;: None, &#x27;unit_type&#x27;: None, &#x27;agreement_date&#x27;: None, &#x27;lease_start&#x27;: &#x27;2023-02-25&#x27;, &#x27;lease_end&#x27;: None, &#x27;lease_auto_renew&#x27;: None, &#x27;hourly_rate&#x27;: None,&#x27;monthly_rent&#x27;: None, &#x27;prorated_rent&#x27;: None,&#x27;security_deposit&#x27;: None, &#x27;lease_rent&#x27;: None,&#x27;monthly_payment_breakdown&#x27;: None, &#x27;utility_charges&#x27;: None                                                                                                                                                                                 </td><td>&#x27;Landlord&#x27;: None, &#x27;LeaseTerm&#x27;: None, &#x27;LeaseAmount&#x27;: None, &#x27;LeaseTerm&#x27;: None, &#x27;LeaseTerm&#x27;: None, &#x27;LeaseTerm&#x27;: None, &#x27;LeaseTerm&#x27;: None, &#x27;LeaseTerm&#x27;: None, &#x27;LeaseTerm&#x27;: None, &#x27;LeaseTerm&#x27;: None, &#x27;LeaseTerm&#x27;: None, &#x27;LeaseTerm&#x27;: None, &#x27;LeaseTerm&#x27;: None, &#x27;LeaseTerm&#x27;: None, &#x27;LeaseTerm&#x27;: None, &#x27;LeaseTerm&#x27;: None, &#x27;LeaseTerm&#x27;: None, &#x27;LeaseTerm&#x27;: None, &#x27;LeaseTerm&#x27;: None, &#x27;LeaseTerm&#x27;: None, &#x27;LeaseTerm&#x27;: None, &#x27;LeaseTerm&#x27;: None, &#x27;LeaseTerm&#x27;: None, &#x27;LeaseTerm&#x27;: None, &#x27;LeaseTerm&#x27;: None, &#x27;LeaseTerm&#x27;: None, &#x27;LeaseTerm&#x27;: None, &#x27;LeaseTerm&#x27;: None, &#x27;LeaseTerm&#x27;: None, &#x27;LeaseTerm&#x27;: None, &#x27;LeaseTerm&#x27;: None, &#x27;LeaseTerm&#x27;: None, &#x27;LeaseTerm&#x27;: None, &#x27;LeaseTerm&#x27;: None, &#x27;LeaseTerm&#x27;: None, &#x27;LeaseTerm&#x27;: None, &#x27;LeaseTerm&#x27;: None, &#x27;LeaseTerm&#x27;: None, &#x27;LeaseTerm&#x27;: None, &#x27;LeaseTerm&#x27;: None, &#x27;LeaseTerm&#x27;: None, &#x27;LeaseTerm&#x27;: None, &#x27;LeaseTerm&#x27;: None, &#x27;LeaseTerm&#x27;: None, &#x27;LeaseTerm&#x27;: None, &#x27;LeaseTerm&#x27;: None, &#x27;LeaseTerm&#x27;: None, &#x27;LeaseTerm&#x27;: None, &#x27;LeaseTerm&#x27;: None, &#x27;LeaseTerm&#x27;: None, &#x27;LeaseTerm&#x27;: None, &#x27;LeaseTerm&#x27;: None, &#x27;LeaseTerm&#x27;: None, &#x27;LeaseTerm&#x27;: None, &#x27;LeaseTerm&#x27;: None, &#x27;LeaseTerm&#x27;: None, &#x27;LeaseTerm</td></tr>\\n<tr><td style=\"text-align: right;\"> 19</td><td>&#x27;tenant_name&#x27;: None, &#x27;unit_address&#x27;: None, &#x27;unit_number&#x27;: None, &#x27;unit_type&#x27;: None, &#x27;agreement_date&#x27;: None, &#x27;lease_start&#x27;: None, &#x27;lease_end&#x27;: None, &#x27;lease_auto_renew&#x27;: None, &#x27;hourly_rate&#x27;: None,&#x27;monthly_rent&#x27;: None, &#x27;prorated_rent&#x27;: None,&#x27;security_deposit&#x27;: None, &#x27;lease_rent&#x27;: None,&#x27;monthly_payment_breakdown&#x27;: None, &#x27;utility_charges&#x27;: None                                                                                                                                                                                         </td><td>&#x27;Unit&#x27;: None, &#x27;Unit_Number&#x27;: None, &#x27;Unit_Number&#x27;: None, &#x27;Unit_Number&#x27;: None, &#x27;Unit_Number&#x27;: None, &#x27;Unit_Number&#x27;: None, &#x27;Unit_Number&#x27;: None, &#x27;Unit_Number&#x27;: None, &#x27;Unit_Number&#x27;: None, &#x27;Unit_Number&#x27;: None, &#x27;Unit_Number&#x27;: None, &#x27;Unit_Number&#x27;: None, &#x27;Unit_Number&#x27;: None, &#x27;Unit_Number&#x27;: None, &#x27;Unit_Number&#x27;: None, &#x27;Unit_Number&#x27;: None, &#x27;Unit_Number&#x27;: None, &#x27;Unit_Number&#x27;: None, &#x27;Unit_Number&#x27;: None, &#x27;Unit_Number&#x27;: None, &#x27;Unit_Number&#x27;: None, &#x27;Unit_Number&#x27;: None, &#x27;Unit_Number&#x27;: None, &#x27;Unit_Number&#x27;: None, &#x27;Unit_Number&#x27;: None, &#x27;Unit_Number&#x27;: None, &#x27;Unit_Number&#x27;: None, &#x27;Unit_Number&#x27;: None, &#x27;Unit_Number&#x27;: None, &#x27;Unit_Number&#x27;: None, &#x27;Unit_Number&#x27;: None, &#x27;Unit_Number&#x27;: None, &#x27;Unit_Number&#x27;: None, &#x27;Unit_Number&#x27;: None, &#x27;Unit_Number&#x27;: None, &#x27;Unit_Number&#x27;: None, &#x27;Unit_Number&#x27;: None, &#x27;Unit_Number&#x27;: None, &#x27;Unit_Number&#x27;: None, &#x27;Unit_Number&#x27;: None, &#x27;Unit_Number&#x27;: None, &#x27;Unit_Number&#x27;: None, &#x27;Unit_Number&#x27;: None                                                                                                                                                                                     </td></tr>\\n<tr><td style=\"text-align: right;\"> 20</td><td>&#x27;tenant_name&#x27;: None, &#x27;unit_address&#x27;: None, &#x27;unit_number&#x27;: None, &#x27;unit_type&#x27;: None, &#x27;agreement_date&#x27;: &#x27;2023-02-27&#x27;, &#x27;lease_start&#x27;: None, &#x27;lease_end&#x27;: None, &#x27;lease_auto_renew&#x27;: None, &#x27;hourly_rate&#x27;: None,&#x27;monthly_rent&#x27;: None, &#x27;prorated_rent&#x27;: None,&#x27;security_deposit&#x27;: None, &#x27;lease_rent&#x27;: None,&#x27;monthly_payment_breakdown&#x27;: None, &#x27;utility_charges&#x27;: None                                                                                                                                                                                 </td><td>&#x27;LeaseTerm&#x27;:&#x27;monthly&#x27;, &#x27;LeaseAmount&#x27;:&#x27;monthly&#x27;, &#x27;LeaseTerm&#x27;:&#x27;monthly&#x27;, &#x27;LeaseTerm&#x27;:&#x27;monthly&#x27;, &#x27;LeaseTerm&#x27;:&#x27;monthly&#x27;, &#x27;LeaseTerm&#x27;:&#x27;monthly&#x27;, &#x27;LeaseTerm&#x27;:&#x27;monthly&#x27;, &#x27;LeaseTerm&#x27;:&#x27;monthly&#x27;, &#x27;LeaseTerm&#x27;:&#x27;monthly&#x27;, &#x27;LeaseTerm&#x27;:&#x27;monthly&#x27;, &#x27;LeaseTerm&#x27;:&#x27;monthly&#x27;, &#x27;LeaseTerm&#x27;:&#x27;monthly&#x27;, &#x27;LeaseTerm&#x27;:&#x27;monthly&#x27;, &#x27;LeaseTerm&#x27;:&#x27;monthly&#x27;, &#x27;LeaseTerm&#x27;:&#x27;monthly&#x27;, &#x27;LeaseTerm&#x27;:&#x27;monthly&#x27;, &#x27;LeaseTerm&#x27;:&#x27;monthly&#x27;, &#x27;LeaseTerm&#x27;:&#x27;monthly&#x27;, &#x27;LeaseTerm&#x27;:&#x27;monthly&#x27;, &#x27;LeaseTerm&#x27;:&#x27;monthly&#x27;, &#x27;LeaseTerm&#x27;:&#x27;monthly&#x27;, &#x27;LeaseTerm&#x27;:&#x27;monthly&#x27;, &#x27;LeaseTerm&#x27;:&#x27;monthly&#x27;, &#x27;LeaseTerm&#x27;:&#x27;monthly&#x27;, &#x27;LeaseTerm&#x27;:&#x27;monthly&#x27;, &#x27;LeaseTerm&#x27;:&#x27;monthly&#x27;, &#x27;LeaseTerm&#x27;:&#x27;monthly&#x27;, &#x27;LeaseTerm&#x27;:&#x27;monthly&#x27;, &#x27;LeaseTerm&#x27;:&#x27;monthly&#x27;, &#x27;LeaseTerm&#x27;:&#x27;monthly&#x27;, &#x27;LeaseTerm&#x27;:&#x27;monthly&#x27;, &#x27;LeaseTerm&#x27;:&#x27;monthly&#x27;, &#x27;LeaseTerm&#x27;:&#x27;monthly&#x27;, &#x27;LeaseTerm&#x27;:&#x27;monthly&#x27;, &#x27;LeaseTerm&#x27;:&#x27;monthly&#x27;, &#x27;LeaseTerm&#x27;:&#x27;monthly&#x27;, &#x27;LeaseTerm&#x27;:&#x27;monthly&#x27;, &#x27;LeaseTerm&#x27;:&#x27;monthly&#x27;, &#x27;LeaseTerm&#x27;:&#x27;monthly&#x27;, &#x27;L                                                                                                                                                                              </td></tr>\\n<tr><td style=\"text-align: right;\"> 21</td><td>&#x27;tenant_name&#x27;: &#x27;Moises Martinez&#x27;, &#x27;unit_address&#x27;: &#x27;8230 Monroe Dr Kansas City 66112-1803&#x27;, &#x27;unit_number&#x27;: &#x27;B&#x27;, &#x27;unit_type&#x27;: None, &#x27;agreement_date&#x27;: &#x27;2022-11-21&#x27;, &#x27;lease_start&#x27;: None, &#x27;lease_end&#x27;: None, &#x27;lease_auto_renew&#x27;: None, &#x27;hourly_rate&#x27;: None,&#x27;monthly_rent&#x27;: None, &#x27;prorated_rent&#x27;: None,&#x27;security_deposit&#x27;: None, &#x27;lease_rent&#x27;: None,&#x27;monthly_payment_breakdown&#x27;: None, &#x27;utility_charges&#x27;: None                                                                                                                                  </td><td>&#x27;Unit&#x27;: None, &#x27;Unit_Number&#x27;: None, &#x27;Unit_Number&#x27;: None, &#x27;Unit_Number&#x27;: None, &#x27;Unit_Number&#x27;: None, &#x27;Unit_Number&#x27;: None, &#x27;Unit_Number&#x27;: None, &#x27;Unit_Number&#x27;: None, &#x27;Unit_Number&#x27;: None, &#x27;Unit_Number&#x27;: None, &#x27;Unit_Number&#x27;: None, &#x27;Unit_Number&#x27;: None, &#x27;Unit_Number&#x27;: None, &#x27;Unit_Number&#x27;: None, &#x27;Unit_Number&#x27;: None, &#x27;Unit_Number&#x27;: None, &#x27;Unit_Number&#x27;: None, &#x27;Unit_Number&#x27;: None, &#x27;Unit_Number&#x27;: None, &#x27;Unit_Number&#x27;: None, &#x27;Unit_Number&#x27;: None, &#x27;Unit_Number&#x27;: None, &#x27;Unit_Number&#x27;: None, &#x27;Unit_Number&#x27;: None, &#x27;Unit_Number&#x27;: None, &#x27;Unit_Number&#x27;: None, &#x27;Unit_Number&#x27;: None, &#x27;Unit_Number&#x27;: None, &#x27;Unit_Number&#x27;: None, &#x27;Unit_Number&#x27;: None, &#x27;Unit_Number&#x27;: None, &#x27;Unit_Number&#x27;: None, &#x27;Unit_Number&#x27;: None, &#x27;Unit_Number&#x27;: None, &#x27;Unit_Number&#x27;: None, &#x27;Unit_Number&#x27;: None, &#x27;Unit_Number&#x27;: None, &#x27;Unit_Number&#x27;: None, &#x27;Unit_Number&#x27;: None, &#x27;Unit_Number&#x27;: None, &#x27;Unit_Number&#x27;: None, &#x27;Unit_Number&#x27;: None, &#x27;Unit_Number&#x27;: None                                                                                                                                                                                     </td></tr>\\n<tr><td style=\"text-align: right;\"> 22</td><td>&#x27;tenant_name&#x27;: None, &#x27;unit_address&#x27;: None, &#x27;unit_number&#x27;: None, &#x27;unit_type&#x27;: None, &#x27;agreement_date&#x27;: None, &#x27;lease_start&#x27;: None, &#x27;lease_end&#x27;: None, &#x27;lease_auto_renew&#x27;: None, &#x27;hourly_rate&#x27;: None,&#x27;monthly_rent&#x27;: None, &#x27;prorated_rent&#x27;: None,&#x27;security_deposit&#x27;: None, &#x27;lease_rent&#x27;: None,&#x27;monthly_payment_breakdown&#x27;: None, &#x27;utility_charges&#x27;: None                                                                                                                                                                                         </td><td>&#x27;LeaseTerm&#x27;:&#x27;monthly&#x27;, &#x27;LeaseAmount&#x27;:&#x27;monthly&#x27;, &#x27;LeaseTerm&#x27;:&#x27;monthly&#x27;, &#x27;LeaseTerm&#x27;:&#x27;monthly&#x27;, &#x27;LeaseTerm&#x27;:&#x27;monthly&#x27;, &#x27;LeaseTerm&#x27;:&#x27;monthly&#x27;, &#x27;LeaseTerm&#x27;:&#x27;monthly&#x27;, &#x27;LeaseTerm&#x27;:&#x27;monthly&#x27;, &#x27;LeaseTerm&#x27;:&#x27;monthly&#x27;, &#x27;LeaseTerm&#x27;:&#x27;monthly&#x27;, &#x27;LeaseTerm&#x27;:&#x27;monthly&#x27;, &#x27;LeaseTerm&#x27;:&#x27;monthly&#x27;, &#x27;LeaseTerm&#x27;:&#x27;monthly&#x27;, &#x27;LeaseTerm&#x27;:&#x27;monthly&#x27;, &#x27;LeaseTerm&#x27;:&#x27;monthly&#x27;, &#x27;LeaseTerm&#x27;:&#x27;monthly&#x27;, &#x27;LeaseTerm&#x27;:&#x27;monthly&#x27;, &#x27;LeaseTerm&#x27;:&#x27;monthly&#x27;, &#x27;LeaseTerm&#x27;:&#x27;monthly&#x27;, &#x27;LeaseTerm&#x27;:&#x27;monthly&#x27;, &#x27;LeaseTerm&#x27;:&#x27;monthly&#x27;, &#x27;LeaseTerm&#x27;:&#x27;monthly&#x27;, &#x27;LeaseTerm&#x27;:&#x27;monthly&#x27;, &#x27;LeaseTerm&#x27;:&#x27;monthly&#x27;, &#x27;LeaseTerm&#x27;:&#x27;monthly&#x27;, &#x27;LeaseTerm&#x27;:&#x27;monthly&#x27;, &#x27;LeaseTerm&#x27;:&#x27;monthly&#x27;, &#x27;LeaseTerm&#x27;:&#x27;monthly&#x27;, &#x27;LeaseTerm&#x27;:&#x27;monthly&#x27;, &#x27;LeaseTerm&#x27;:&#x27;monthly&#x27;, &#x27;LeaseTerm&#x27;:&#x27;monthly&#x27;, &#x27;LeaseTerm&#x27;:&#x27;monthly&#x27;, &#x27;LeaseTerm&#x27;:&#x27;monthly&#x27;, &#x27;LeaseTerm&#x27;:&#x27;monthly&#x27;, &#x27;LeaseTerm&#x27;:&#x27;monthly&#x27;, &#x27;LeaseTerm&#x27;:&#x27;monthly&#x27;, &#x27;LeaseTerm&#x27;:&#x27;monthly&#x27;, &#x27;LeaseTerm&#x27;:&#x27;monthly&#x27;, &#x27;LeaseTerm&#x27;:&#x27;monthly&#x27;, &#x27;L                                                                                                                                                                              </td></tr>\\n<tr><td style=\"text-align: right;\"> 23</td><td>&#x27;tenant_name&#x27;: None, &#x27;unit_address&#x27;: None, &#x27;unit_number&#x27;: None, &#x27;unit_type&#x27;: None, &#x27;agreement_date&#x27;: None, &#x27;lease_start&#x27;: None, &#x27;lease_end&#x27;: None, &#x27;lease_auto_renew&#x27;: None, &#x27;hourly_rate&#x27;: None,&#x27;monthly_rent&#x27;: None, &#x27;prorated_rent&#x27;: None,&#x27;security_deposit&#x27;: None, &#x27;lease_rent&#x27;: None,&#x27;monthly_payment_breakdown&#x27;: None, &#x27;utility_charges&#x27;: None                                                                                                                                                                                         </td><td>&#x27;LeaseTerm&#x27;:&#x27;monthly&#x27;, &#x27;LeaseTerm&#x27;:&#x27;monthly&#x27;, &#x27;LeaseTerm&#x27;:&#x27;monthly&#x27;, &#x27;LeaseTerm&#x27;:&#x27;monthly&#x27;, &#x27;LeaseTerm&#x27;:&#x27;monthly&#x27;, &#x27;LeaseTerm&#x27;:&#x27;monthly&#x27;, &#x27;LeaseTerm&#x27;:&#x27;monthly&#x27;, &#x27;LeaseTerm&#x27;:&#x27;monthly&#x27;, &#x27;LeaseTerm&#x27;:&#x27;monthly&#x27;, &#x27;LeaseTerm&#x27;:&#x27;monthly&#x27;, &#x27;LeaseTerm&#x27;:&#x27;monthly&#x27;, &#x27;LeaseTerm&#x27;:&#x27;monthly&#x27;, &#x27;LeaseTerm&#x27;:&#x27;monthly&#x27;, &#x27;LeaseTerm&#x27;:&#x27;monthly&#x27;, &#x27;LeaseTerm&#x27;:&#x27;monthly&#x27;, &#x27;LeaseTerm&#x27;:&#x27;monthly&#x27;, &#x27;LeaseTerm&#x27;:&#x27;monthly&#x27;, &#x27;LeaseTerm&#x27;:&#x27;monthly&#x27;, &#x27;LeaseTerm&#x27;:&#x27;monthly&#x27;, &#x27;LeaseTerm&#x27;:&#x27;monthly&#x27;, &#x27;LeaseTerm&#x27;:&#x27;monthly&#x27;, &#x27;LeaseTerm&#x27;:&#x27;monthly&#x27;, &#x27;LeaseTerm&#x27;:&#x27;monthly&#x27;, &#x27;LeaseTerm&#x27;:&#x27;monthly&#x27;, &#x27;LeaseTerm&#x27;:&#x27;monthly&#x27;, &#x27;LeaseTerm&#x27;:&#x27;monthly&#x27;, &#x27;LeaseTerm&#x27;:&#x27;monthly&#x27;, &#x27;LeaseTerm&#x27;:&#x27;monthly&#x27;, &#x27;LeaseTerm&#x27;:&#x27;monthly&#x27;, &#x27;LeaseTerm&#x27;:&#x27;monthly&#x27;, &#x27;LeaseTerm&#x27;:&#x27;monthly&#x27;, &#x27;LeaseTerm&#x27;:&#x27;monthly&#x27;, &#x27;LeaseTerm&#x27;:&#x27;monthly&#x27;, &#x27;LeaseTerm&#x27;:&#x27;monthly&#x27;, &#x27;LeaseTerm&#x27;:&#x27;monthly&#x27;, &#x27;LeaseTerm&#x27;:&#x27;monthly&#x27;, &#x27;LeaseTerm&#x27;:&#x27;monthly&#x27;, &#x27;LeaseTerm&#x27;:&#x27;monthly&#x27;, &#x27;LeaseTerm&#x27;:&#x27;monthly&#x27;, &#x27;Lease                                                                                                                                                                            </td></tr>\\n<tr><td style=\"text-align: right;\"> 24</td><td>&#x27;tenant_name&#x27;: &#x27;Peter Mendez&#x27;, &#x27;unit_address&#x27;: &#x27;7603 Timberstone Dr, Tampa, Florida, 33615&#x27;, &#x27;unit_number&#x27;: &#x27;09C&#x27;, &#x27;unit_type&#x27;: None, &#x27;agreement_date&#x27;: &#x27;2022-07-06&#x27;, &#x27;lease_start&#x27;: &#x27;2022-10-01&#x27;, &#x27;lease_end&#x27;: &#x27;2023-09-30&#x27;, &#x27;lease_auto_renew&#x27;:&#x27;month-to-month&#x27;, &#x27;hourly_rate&#x27;: None,&#x27;monthly_rent&#x27;: 1758.0, &#x27;prorated_rent&#x27;: None,&#x27;security_deposit&#x27;: 200.0, &#x27;lease_rent&#x27;: 21096.0,&#x27;monthly_payment_breakdown&#x27;: None, &#x27;utility_charges&#x27;: None                                                                                             </td><td>&#x27;LeaseTerm&#x27;: &#x27;2022&#x27;, &#x27;LeaseAgreement&#x27;: &#x27;2022&#x27;, &#x27;LeaseBill&#x27;: &#x27;2022&#x27;, &#x27;LeaseCancel&#x27;: &#x27;2022&#x27;, &#x27;LeaseTerm&#x27;: &#x27;2022&#x27;, &#x27;LeaseAgreement&#x27;: &#x27;2022&#x27;, &#x27;LeaseBill&#x27;: &#x27;2022&#x27;, &#x27;LeaseAgreement&#x27;: &#x27;2022&#x27;, &#x27;LeaseBill&#x27;: &#x27;2022&#x27;, &#x27;LeaseAgreement&#x27;: &#x27;2022&#x27;, &#x27;LeaseBill&#x27;: &#x27;2022&#x27;, &#x27;LeaseCancel&#x27;: &#x27;2022&#x27;, &#x27;LeaseAgreement&#x27;: &#x27;2022&#x27;, &#x27;LeaseBill&#x27;: &#x27;2022&#x27;, &#x27;LeaseCancel&#x27;: &#x27;2022&#x27;, &#x27;LeaseAgreement&#x27;: &#x27;2022&#x27;, &#x27;LeaseBill&#x27;: &#x27;2022&#x27;, &#x27;LeaseCancel&#x27;: &#x27;2022&#x27;, &#x27;LeaseAgreement&#x27;: &#x27;2022&#x27;, &#x27;LeaseBill&#x27;: &#x27;2022&#x27;, &#x27;LeaseCancel&#x27;: &#x27;2022&#x27;, &#x27;LeaseAgreement&#x27;: &#x27;2022&#x27;, &#x27;LeaseBill&#x27;: &#x27;2022&#x27;, &#x27;LeaseCancel&#x27;: &#x27;2022&#x27;, &#x27;LeaseAgreement&#x27;: &#x27;2022&#x27;, &#x27;LeaseBill&#x27;: &#x27;2022&#x27;, &#x27;LeaseCancel&#x27;: &#x27;2022&#x27;, &#x27;LeaseAgreement&#x27;: &#x27;2022&#x27;, &#x27;LeaseBill&#x27;: &#x27;2022&#x27;, &#x27;LeaseAgreement&#x27;: &#x27;2022&#x27;, &#x27;LeaseBill&#x27;: &#x27;2022&#x27;, &#x27;LeaseCancel&#x27;: &#x27;2022&#x27;, &#x27;LeaseAgreement&#x27;: &#x27;2022&#x27;, &#x27;LeaseBill&#x27;: &#x27;2022&#x27;, &#x27;LeaseCancel&#x27;: &#x27;2022&#x27;, &#x27;                                                                                                                                                                                                                                                                     </td></tr>\\n<tr><td style=\"text-align: right;\"> 25</td><td>&#x27;tenant_name&#x27;: &#x27;Leobouchereau&#x27;, &#x27;unit_address&#x27;: None, &#x27;unit_number&#x27;: None, &#x27;unit_type&#x27;: None, &#x27;agreement_date&#x27;: &#x27;2022-12-03&#x27;, &#x27;lease_start&#x27;: None, &#x27;lease_end&#x27;: None, &#x27;lease_auto_renew&#x27;: None, &#x27;hourly_rate&#x27;: None,&#x27;monthly_rent&#x27;: None, &#x27;prorated_rent&#x27;: None,&#x27;security_deposit&#x27;: None, &#x27;lease_rent&#x27;: None,&#x27;monthly_payment_breakdown&#x27;: None, &#x27;utility_charges&#x27;: None                                                                                                                                                                      </td><td>&#x27;Unit&#x27;: None, &#x27;Lease&#x27;: None, &#x27;Lease&#x27;: None, &#x27;Lease&#x27;: None, &#x27;Lease&#x27;: None, &#x27;Lease&#x27;: None, &#x27;Lease&#x27;: None, &#x27;Lease&#x27;: None, &#x27;Lease&#x27;: None, &#x27;Lease&#x27;: None, &#x27;Lease&#x27;: None, &#x27;Lease&#x27;: None, &#x27;Lease&#x27;: None, &#x27;Lease&#x27;: None, &#x27;Lease&#x27;: None, &#x27;Lease&#x27;: None, &#x27;Lease&#x27;: None, &#x27;Lease&#x27;: None, &#x27;Lease&#x27;: None, &#x27;Lease&#x27;: None, &#x27;Lease&#x27;: None, &#x27;Lease&#x27;: None, &#x27;Lease&#x27;: None, &#x27;Lease&#x27;: None, &#x27;Lease&#x27;: None, &#x27;Lease&#x27;: None, &#x27;Lease&#x27;: None, &#x27;Lease&#x27;: None, &#x27;Lease&#x27;: None, &#x27;Lease&#x27;: None, &#x27;Lease&#x27;: None, &#x27;Lease&#x27;: None, &#x27;Lease&#x27;: None, &#x27;Lease&#x27;: None, &#x27;Lease&#x27;: None, &#x27;Lease&#x27;: None, &#x27;Lease&#x27;: None, &#x27;Lease&#x27;: None, &#x27;Lease&#x27;: None, &#x27;Lease&#x27;: None, &#x27;Lease&#x27;: None, &#x27;Lease&#x27;: None, &#x27;Lease&#x27;: None, &#x27;Lease&#x27;: None, &#x27;Lease&#x27;: None, &#x27;Lease&#x27;: None, &#x27;Lease&#x27;: None, &#x27;Lease&#x27;: None, &#x27;Lease&#x27;: None, &#x27;Lease&#x27;: None, &#x27;Lease&#x27;: None, &#x27;Lease&#x27;: None, &#x27;Lease&#x27;: None, &#x27;Lease&#x27;: None, &#x27;Lease&#x27;: None, &#x27;Lease&#x27;: None, &#x27;Lease&#x27;: None, &#x27;Lease&#x27;: None, &#x27;Lease&#x27;: None, &#x27;Lease&#x27;: None, &#x27;Lease&#x27;: None, &#x27;Lease&#x27;: None, &#x27;Lease&#x27;: None, &#x27;Lease&#x27;: None                                                                                                                      </td></tr>\\n<tr><td style=\"text-align: right;\"> 26</td><td>&#x27;tenant_name&#x27;: None, &#x27;unit_address&#x27;: None, &#x27;unit_number&#x27;: None, &#x27;unit_type&#x27;: None, &#x27;agreement_date&#x27;: None, &#x27;lease_start&#x27;: None, &#x27;lease_end&#x27;: None, &#x27;lease_auto_renew&#x27;: None, &#x27;hourly_rate&#x27;: None,&#x27;monthly_rent&#x27;: None, &#x27;prorated_rent&#x27;: None,&#x27;security_deposit&#x27;: None, &#x27;lease_rent&#x27;: None,&#x27;monthly_payment_breakdown&#x27;: None, &#x27;utility_charges&#x27;: None                                                                                                                                                                                         </td><td>&#x27;Landlord&#x27;: &#x27;Rosemont&#x27;, &#x27;LeaseTerm&#x27;:&#x27;monthly&#x27;, &#x27;LeaseTerm&#x27;:&#x27;monthly&#x27;, &#x27;LeaseTerm&#x27;:&#x27;monthly&#x27;, &#x27;LeaseTerm&#x27;:&#x27;monthly&#x27;, &#x27;LeaseTerm&#x27;:&#x27;monthly&#x27;, &#x27;LeaseTerm&#x27;:&#x27;monthly&#x27;, &#x27;LeaseTerm&#x27;:&#x27;monthly&#x27;, &#x27;LeaseTerm&#x27;:&#x27;monthly&#x27;, &#x27;LeaseTerm&#x27;:&#x27;monthly&#x27;, &#x27;LeaseTerm&#x27;:&#x27;monthly&#x27;, &#x27;LeaseTerm&#x27;:&#x27;monthly&#x27;, &#x27;LeaseTerm&#x27;:&#x27;monthly&#x27;, &#x27;LeaseTerm&#x27;:&#x27;monthly&#x27;, &#x27;LeaseTerm&#x27;:&#x27;monthly&#x27;, &#x27;LeaseTerm&#x27;:&#x27;monthly&#x27;, &#x27;LeaseTerm&#x27;:&#x27;monthly&#x27;, &#x27;LeaseTerm&#x27;:&#x27;monthly&#x27;, &#x27;LeaseTerm&#x27;:&#x27;monthly&#x27;, &#x27;LeaseTerm&#x27;:&#x27;monthly&#x27;, &#x27;LeaseTerm&#x27;:&#x27;monthly&#x27;, &#x27;LeaseTerm&#x27;:&#x27;monthly&#x27;, &#x27;LeaseTerm&#x27;:&#x27;monthly&#x27;, &#x27;LeaseTerm&#x27;:&#x27;monthly&#x27;, &#x27;LeaseTerm&#x27;:&#x27;monthly&#x27;, &#x27;LeaseTerm&#x27;:&#x27;monthly&#x27;, &#x27;LeaseTerm&#x27;:&#x27;monthly&#x27;, &#x27;LeaseTerm&#x27;:&#x27;monthly&#x27;, &#x27;LeaseTerm&#x27;:&#x27;monthly&#x27;, &#x27;LeaseTerm&#x27;:&#x27;monthly&#x27;, &#x27;LeaseTerm&#x27;:&#x27;monthly&#x27;, &#x27;LeaseTerm&#x27;:&#x27;monthly&#x27;, &#x27;LeaseTerm&#x27;:&#x27;monthly&#x27;, &#x27;LeaseTerm&#x27;:&#x27;monthly&#x27;, &#x27;LeaseTerm&#x27;:&#x27;monthly&#x27;, &#x27;LeaseTerm&#x27;:&#x27;monthly&#x27;, &#x27;LeaseTerm&#x27;:&#x27;monthly&#x27;, &#x27;LeaseTerm&#x27;:&#x27;monthly&#x27;, &#x27;LeaseTerm&#x27;:&#x27;monthly&#x27;,                                                                                                                                                                                  </td></tr>\\n</tbody>\\n</table>'"
      ]
     },
     "execution_count": 17,
     "metadata": {},
     "output_type": "execute_result"
    }
   ],
   "source": [
    "from tabulate import tabulate\n",
    "\n",
    "# Prepare data for tabulation\n",
    "table_data = []\n",
    "for i, (pred, ref) in enumerate(zip(predictions, references), 1):\n",
    "    table_data.append([i, ref, pred])\n",
    "\n",
    "# Define table headers\n",
    "headers = [\"#\", \"Reference data\", \"Extracted data (Finetuned model)\"]\n",
    "\n",
    "# Display the table\n",
    "tabulate(table_data, headers=headers, tablefmt=\"html\", showindex=False)\n"
   ]
  },
  {
   "cell_type": "code",
   "execution_count": null,
   "metadata": {},
   "outputs": [],
   "source": [
    "# TODO: calculate accuracy using metrics"
   ]
  }
 ],
 "metadata": {
  "kernelspec": {
   "display_name": ".venv",
   "language": "python",
   "name": "python3"
  },
  "language_info": {
   "codemirror_mode": {
    "name": "ipython",
    "version": 3
   },
   "file_extension": ".py",
   "mimetype": "text/x-python",
   "name": "python",
   "nbconvert_exporter": "python",
   "pygments_lexer": "ipython3",
   "version": "3.12.4"
  }
 },
 "nbformat": 4,
 "nbformat_minor": 2
}
