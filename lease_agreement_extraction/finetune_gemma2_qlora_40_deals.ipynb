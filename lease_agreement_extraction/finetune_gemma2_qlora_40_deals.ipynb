{
 "cells": [
  {
   "cell_type": "markdown",
   "metadata": {},
   "source": [
    "## Finetuning Gemma 2B for lease agreement data extraction"
   ]
  },
  {
   "cell_type": "markdown",
   "metadata": {},
   "source": [
    "### Install dependencies"
   ]
  },
  {
   "cell_type": "code",
   "execution_count": 1,
   "metadata": {
    "execution": {
     "iopub.execute_input": "2024-08-29T16:25:41.274377Z",
     "iopub.status.busy": "2024-08-29T16:25:41.273999Z",
     "iopub.status.idle": "2024-08-29T16:25:45.185996Z",
     "shell.execute_reply": "2024-08-29T16:25:45.185540Z"
    }
   },
   "outputs": [
    {
     "name": "stdout",
     "output_type": "stream",
     "text": [
      "Note: you may need to restart the kernel to use updated packages.\n"
     ]
    }
   ],
   "source": [
    "%pip install pandas numpy peft scikit-learn transformers datasets torch accelerate bitsandbytes huggingface-hub trl -q"
   ]
  },
  {
   "cell_type": "markdown",
   "metadata": {},
   "source": [
    "### Define the extraction JSON schema"
   ]
  },
  {
   "cell_type": "code",
   "execution_count": 2,
   "metadata": {
    "execution": {
     "iopub.execute_input": "2024-08-29T16:25:45.223463Z",
     "iopub.status.busy": "2024-08-29T16:25:45.223067Z",
     "iopub.status.idle": "2024-08-29T16:25:45.230211Z",
     "shell.execute_reply": "2024-08-29T16:25:45.229852Z"
    }
   },
   "outputs": [],
   "source": [
    "import json\n",
    "\n",
    "extraction_json_schema = {\n",
    "  \"title\": \"ExtractedLeaseData\",\n",
    "  \"type\": \"object\",\n",
    "  \"properties\": {\n",
    "    \"tenant_name\": {\n",
    "      \"type\": [\"string\", \"null\"],\n",
    "      \"description\": \"The name of the tenant, found in the OCR text.\"\n",
    "    },\n",
    "    \"unit_address\": {\n",
    "      \"type\": [\"string\", \"null\"],\n",
    "      \"description\": \"The unit address found in the OCR text.\"\n",
    "    },\n",
    "    \"unit_number\": {\n",
    "      \"type\": [\"string\", \"null\"],\n",
    "      \"description\": \"The unit number found in the OCR text.\"\n",
    "    },\n",
    "    \"unit_type\": {\n",
    "      \"type\": [\"string\", \"null\"],\n",
    "      \"description\": \"The unit type found in the OCR text.\"\n",
    "    },\n",
    "    \"agreement_date\": {\n",
    "      \"type\": [\"string\", \"null\"],\n",
    "      \"format\": \"date\"\n",
    "    },\n",
    "    \"lease_start\": {\n",
    "      \"type\": [\"string\", \"null\"],\n",
    "      \"format\": \"date\",\n",
    "      \"description\": \"The date when the lease starts, found in the OCR text.\"\n",
    "    },\n",
    "    \"lease_end\": {\n",
    "      \"type\": [\"string\", \"null\"],\n",
    "      \"format\": \"date\",\n",
    "      \"description\": \"The date when the lease ends, found in the OCR text.\"\n",
    "    },\n",
    "    \"lease_auto_renew\": {\n",
    "      \"type\": [\"string\", \"null\"],\n",
    "      \"description\": \"The type of lease auto renewal, found in the OCR text.\"\n",
    "    },\n",
    "    \"hourly_rate\": {\n",
    "      \"type\": [\"number\", \"null\"],\n",
    "      \"description\": \"The hourly rate found in the OCR text.\"\n",
    "    },\n",
    "    \"monthly_rent\": {\n",
    "      \"type\": [\"number\", \"null\"],\n",
    "      \"description\": \"The monthly rent found in the OCR text.\"\n",
    "    },\n",
    "    \"prorated_rent\": {\n",
    "      \"type\": [\"number\", \"null\"],\n",
    "      \"description\": \"The prorated rent found in the OCR text.\"\n",
    "    },\n",
    "    \"security_deposit\": {\n",
    "      \"type\": [\"number\", \"null\"],\n",
    "      \"description\": \"The security deposit found in the OCR text.\"\n",
    "    },\n",
    "    \"lease_rent\": {\n",
    "      \"type\": [\"number\", \"null\"],\n",
    "      \"description\": \"The security deposit found in the OCR text.\"\n",
    "    },\n",
    "    \"monthly_payment_breakdown\": {\n",
    "      \"type\": [\"object\", \"null\"],\n",
    "      \"description\": \"The monthly payment breakdown data found in the OCR text.\",\n",
    "      \"additionalProperties\": {}\n",
    "    },\n",
    "    \"utility_charges\": {\n",
    "      \"type\": [\"object\", \"null\"],\n",
    "      \"description\": \"The utility charges found in the OCR text. This is a dictionary with utility charges as the key, and their price as the value.\",\n",
    "      \"additionalProperties\": {\n",
    "        \"type\": [\"number\", \"null\"]\n",
    "      }\n",
    "    }\n",
    "  },\n",
    "  \"required\": [\"tenant_name\", \"unit_address\", \"unit_number\", \"unit_type\", \"agreement_date\", \"lease_start\", \"lease_end\", \"lease_auto_renew\", \"hourly_rate\", \"monthly_rent\", \"prorated_rent\", \"security_deposit\", \"lease_rent\", \"monthly_payment_breakdown\", \"utility_charges\"]\n",
    "}\n",
    "\n",
    "extraction_json_schema_str = json.dumps(extraction_json_schema, indent=2)"
   ]
  },
  {
   "cell_type": "markdown",
   "metadata": {},
   "source": [
    "### Build the Dataset\n",
    "Build the dataset from the collected data in the Sqlite3 database"
   ]
  },
  {
   "cell_type": "code",
   "execution_count": 3,
   "metadata": {
    "execution": {
     "iopub.execute_input": "2024-08-29T16:25:45.232249Z",
     "iopub.status.busy": "2024-08-29T16:25:45.231867Z",
     "iopub.status.idle": "2024-08-29T16:25:48.298344Z",
     "shell.execute_reply": "2024-08-29T16:25:48.297923Z"
    }
   },
   "outputs": [
    {
     "data": {
      "text/html": [
       "<div>\n",
       "<style scoped>\n",
       "    .dataframe tbody tr th:only-of-type {\n",
       "        vertical-align: middle;\n",
       "    }\n",
       "\n",
       "    .dataframe tbody tr th {\n",
       "        vertical-align: top;\n",
       "    }\n",
       "\n",
       "    .dataframe thead th {\n",
       "        text-align: right;\n",
       "    }\n",
       "</style>\n",
       "<table border=\"1\" class=\"dataframe\">\n",
       "  <thead>\n",
       "    <tr style=\"text-align: right;\">\n",
       "      <th></th>\n",
       "      <th>extracted_text</th>\n",
       "      <th>extracted_fields</th>\n",
       "    </tr>\n",
       "    <tr>\n",
       "      <th>id</th>\n",
       "      <th></th>\n",
       "      <th></th>\n",
       "    </tr>\n",
       "  </thead>\n",
       "  <tbody>\n",
       "    <tr>\n",
       "      <th>1</th>\n",
       "      <td>22.PARKING. We may regulate the time, manner, ...</td>\n",
       "      <td>{\"tenant_name\": null, \"unit_address\": null, \"u...</td>\n",
       "    </tr>\n",
       "    <tr>\n",
       "      <th>2</th>\n",
       "      <td>38.MISCELLANEOUS.\\nA. Exercising one remedy wo...</td>\n",
       "      <td>{\"tenant_name\": null, \"unit_address\": null, \"u...</td>\n",
       "    </tr>\n",
       "    <tr>\n",
       "      <th>3</th>\n",
       "      <td>You'll pay for all other utilities, related de...</td>\n",
       "      <td>{\"tenant_name\": null, \"unit_address\": null, \"u...</td>\n",
       "    </tr>\n",
       "    <tr>\n",
       "      <th>4</th>\n",
       "      <td>Disposition or Sale. Except for animals and pr...</td>\n",
       "      <td>{\"tenant_name\": null, \"unit_address\": null, \"u...</td>\n",
       "    </tr>\n",
       "    <tr>\n",
       "      <th>5</th>\n",
       "      <td>dupusit: or 2) return the remaining portion (i...</td>\n",
       "      <td>{\"tenant_name\": \"Comunque Bolas\", \"unit_addres...</td>\n",
       "    </tr>\n",
       "    <tr>\n",
       "      <th>...</th>\n",
       "      <td>...</td>\n",
       "      <td>...</td>\n",
       "    </tr>\n",
       "    <tr>\n",
       "      <th>651</th>\n",
       "      <td>L HOUSING OPPORTUNITY\\nANIMAL ADDENDUM Becomes...</td>\n",
       "      <td>{\"tenant_name\": \"Novy Jezkova\", \"unit_address\"...</td>\n",
       "    </tr>\n",
       "    <tr>\n",
       "      <th>652</th>\n",
       "      <td>POURL HOUSIMO OPPORTUNITY\\nADDITIONAL SPECIAL ...</td>\n",
       "      <td>{\"tenant_name\": \"Novy Jezkova\", \"unit_address\"...</td>\n",
       "    </tr>\n",
       "    <tr>\n",
       "      <th>653</th>\n",
       "      <td>26.CONDITION OF THE PREMISES AND ALTERATIONS. ...</td>\n",
       "      <td>{\"tenant_name\": null, \"unit_address\": null, \"u...</td>\n",
       "    </tr>\n",
       "    <tr>\n",
       "      <th>654</th>\n",
       "      <td>Severability, Originals and Attachments, and S...</td>\n",
       "      <td>{\"tenant_name\": \"Novy Jezkova\", \"unit_address\"...</td>\n",
       "    </tr>\n",
       "    <tr>\n",
       "      <th>655</th>\n",
       "      <td>NAA NATIONAL APARTMENT ASSOCIATION We Lead the...</td>\n",
       "      <td>{\"tenant_name\": \"Novy Jezkova\", \"unit_address\"...</td>\n",
       "    </tr>\n",
       "  </tbody>\n",
       "</table>\n",
       "<p>655 rows × 2 columns</p>\n",
       "</div>"
      ],
      "text/plain": [
       "                                        extracted_text  \\\n",
       "id                                                       \n",
       "1    22.PARKING. We may regulate the time, manner, ...   \n",
       "2    38.MISCELLANEOUS.\\nA. Exercising one remedy wo...   \n",
       "3    You'll pay for all other utilities, related de...   \n",
       "4    Disposition or Sale. Except for animals and pr...   \n",
       "5    dupusit: or 2) return the remaining portion (i...   \n",
       "..                                                 ...   \n",
       "651  L HOUSING OPPORTUNITY\\nANIMAL ADDENDUM Becomes...   \n",
       "652  POURL HOUSIMO OPPORTUNITY\\nADDITIONAL SPECIAL ...   \n",
       "653  26.CONDITION OF THE PREMISES AND ALTERATIONS. ...   \n",
       "654  Severability, Originals and Attachments, and S...   \n",
       "655  NAA NATIONAL APARTMENT ASSOCIATION We Lead the...   \n",
       "\n",
       "                                      extracted_fields  \n",
       "id                                                      \n",
       "1    {\"tenant_name\": null, \"unit_address\": null, \"u...  \n",
       "2    {\"tenant_name\": null, \"unit_address\": null, \"u...  \n",
       "3    {\"tenant_name\": null, \"unit_address\": null, \"u...  \n",
       "4    {\"tenant_name\": null, \"unit_address\": null, \"u...  \n",
       "5    {\"tenant_name\": \"Comunque Bolas\", \"unit_addres...  \n",
       "..                                                 ...  \n",
       "651  {\"tenant_name\": \"Novy Jezkova\", \"unit_address\"...  \n",
       "652  {\"tenant_name\": \"Novy Jezkova\", \"unit_address\"...  \n",
       "653  {\"tenant_name\": null, \"unit_address\": null, \"u...  \n",
       "654  {\"tenant_name\": \"Novy Jezkova\", \"unit_address\"...  \n",
       "655  {\"tenant_name\": \"Novy Jezkova\", \"unit_address\"...  \n",
       "\n",
       "[655 rows x 2 columns]"
      ]
     },
     "execution_count": 3,
     "metadata": {},
     "output_type": "execute_result"
    }
   ],
   "source": [
    "import pandas as pd\n",
    "import sqlite3\n",
    "\n",
    "# Path to the SQLite database\n",
    "db_path = \"../output/extracted_lease_agreements.db\"\n",
    "\n",
    "# Connect to the SQLite database\n",
    "conn = sqlite3.connect(db_path)\n",
    "\n",
    "# Query to select all data from the extracted_data table\n",
    "query = \"SELECT * FROM extracted_data\"\n",
    "\n",
    "# Read the data into a DataFrame\n",
    "df = pd.read_sql_query(query, conn, index_col=\"id\")\n",
    "\n",
    "# Close the database connection\n",
    "conn.close()\n",
    "\n",
    "df"
   ]
  },
  {
   "cell_type": "markdown",
   "metadata": {},
   "source": [
    "#### Preprocess the dataset\n",
    "We need to add in missing fields in the dataset"
   ]
  },
  {
   "cell_type": "code",
   "execution_count": 4,
   "metadata": {
    "execution": {
     "iopub.execute_input": "2024-08-29T16:25:48.300461Z",
     "iopub.status.busy": "2024-08-29T16:25:48.300048Z",
     "iopub.status.idle": "2024-08-29T16:25:48.314552Z",
     "shell.execute_reply": "2024-08-29T16:25:48.314203Z"
    }
   },
   "outputs": [
    {
     "data": {
      "text/html": [
       "<div>\n",
       "<style scoped>\n",
       "    .dataframe tbody tr th:only-of-type {\n",
       "        vertical-align: middle;\n",
       "    }\n",
       "\n",
       "    .dataframe tbody tr th {\n",
       "        vertical-align: top;\n",
       "    }\n",
       "\n",
       "    .dataframe thead th {\n",
       "        text-align: right;\n",
       "    }\n",
       "</style>\n",
       "<table border=\"1\" class=\"dataframe\">\n",
       "  <thead>\n",
       "    <tr style=\"text-align: right;\">\n",
       "      <th></th>\n",
       "      <th>extracted_text</th>\n",
       "      <th>extracted_fields</th>\n",
       "    </tr>\n",
       "    <tr>\n",
       "      <th>id</th>\n",
       "      <th></th>\n",
       "      <th></th>\n",
       "    </tr>\n",
       "  </thead>\n",
       "  <tbody>\n",
       "    <tr>\n",
       "      <th>1</th>\n",
       "      <td>22.PARKING. We may regulate the time, manner, ...</td>\n",
       "      <td>{\"tenant_name\": null, \"unit_address\": null, \"u...</td>\n",
       "    </tr>\n",
       "    <tr>\n",
       "      <th>2</th>\n",
       "      <td>38.MISCELLANEOUS.\\nA. Exercising one remedy wo...</td>\n",
       "      <td>{\"tenant_name\": null, \"unit_address\": null, \"u...</td>\n",
       "    </tr>\n",
       "    <tr>\n",
       "      <th>3</th>\n",
       "      <td>You'll pay for all other utilities, related de...</td>\n",
       "      <td>{\"tenant_name\": null, \"unit_address\": null, \"u...</td>\n",
       "    </tr>\n",
       "    <tr>\n",
       "      <th>4</th>\n",
       "      <td>Disposition or Sale. Except for animals and pr...</td>\n",
       "      <td>{\"tenant_name\": null, \"unit_address\": null, \"u...</td>\n",
       "    </tr>\n",
       "    <tr>\n",
       "      <th>5</th>\n",
       "      <td>dupusit: or 2) return the remaining portion (i...</td>\n",
       "      <td>{\"tenant_name\": \"Comunque Bolas\", \"unit_addres...</td>\n",
       "    </tr>\n",
       "    <tr>\n",
       "      <th>...</th>\n",
       "      <td>...</td>\n",
       "      <td>...</td>\n",
       "    </tr>\n",
       "    <tr>\n",
       "      <th>651</th>\n",
       "      <td>L HOUSING OPPORTUNITY\\nANIMAL ADDENDUM Becomes...</td>\n",
       "      <td>{\"tenant_name\": \"Novy Jezkova\", \"unit_address\"...</td>\n",
       "    </tr>\n",
       "    <tr>\n",
       "      <th>652</th>\n",
       "      <td>POURL HOUSIMO OPPORTUNITY\\nADDITIONAL SPECIAL ...</td>\n",
       "      <td>{\"tenant_name\": \"Novy Jezkova\", \"unit_address\"...</td>\n",
       "    </tr>\n",
       "    <tr>\n",
       "      <th>653</th>\n",
       "      <td>26.CONDITION OF THE PREMISES AND ALTERATIONS. ...</td>\n",
       "      <td>{\"tenant_name\": null, \"unit_address\": null, \"u...</td>\n",
       "    </tr>\n",
       "    <tr>\n",
       "      <th>654</th>\n",
       "      <td>Severability, Originals and Attachments, and S...</td>\n",
       "      <td>{\"tenant_name\": \"Novy Jezkova\", \"unit_address\"...</td>\n",
       "    </tr>\n",
       "    <tr>\n",
       "      <th>655</th>\n",
       "      <td>NAA NATIONAL APARTMENT ASSOCIATION We Lead the...</td>\n",
       "      <td>{\"tenant_name\": \"Novy Jezkova\", \"unit_address\"...</td>\n",
       "    </tr>\n",
       "  </tbody>\n",
       "</table>\n",
       "<p>655 rows × 2 columns</p>\n",
       "</div>"
      ],
      "text/plain": [
       "                                        extracted_text  \\\n",
       "id                                                       \n",
       "1    22.PARKING. We may regulate the time, manner, ...   \n",
       "2    38.MISCELLANEOUS.\\nA. Exercising one remedy wo...   \n",
       "3    You'll pay for all other utilities, related de...   \n",
       "4    Disposition or Sale. Except for animals and pr...   \n",
       "5    dupusit: or 2) return the remaining portion (i...   \n",
       "..                                                 ...   \n",
       "651  L HOUSING OPPORTUNITY\\nANIMAL ADDENDUM Becomes...   \n",
       "652  POURL HOUSIMO OPPORTUNITY\\nADDITIONAL SPECIAL ...   \n",
       "653  26.CONDITION OF THE PREMISES AND ALTERATIONS. ...   \n",
       "654  Severability, Originals and Attachments, and S...   \n",
       "655  NAA NATIONAL APARTMENT ASSOCIATION We Lead the...   \n",
       "\n",
       "                                      extracted_fields  \n",
       "id                                                      \n",
       "1    {\"tenant_name\": null, \"unit_address\": null, \"u...  \n",
       "2    {\"tenant_name\": null, \"unit_address\": null, \"u...  \n",
       "3    {\"tenant_name\": null, \"unit_address\": null, \"u...  \n",
       "4    {\"tenant_name\": null, \"unit_address\": null, \"u...  \n",
       "5    {\"tenant_name\": \"Comunque Bolas\", \"unit_addres...  \n",
       "..                                                 ...  \n",
       "651  {\"tenant_name\": \"Novy Jezkova\", \"unit_address\"...  \n",
       "652  {\"tenant_name\": \"Novy Jezkova\", \"unit_address\"...  \n",
       "653  {\"tenant_name\": null, \"unit_address\": null, \"u...  \n",
       "654  {\"tenant_name\": \"Novy Jezkova\", \"unit_address\"...  \n",
       "655  {\"tenant_name\": \"Novy Jezkova\", \"unit_address\"...  \n",
       "\n",
       "[655 rows x 2 columns]"
      ]
     },
     "execution_count": 4,
     "metadata": {},
     "output_type": "execute_result"
    }
   ],
   "source": [
    "# Function to ensure all required fields are present in the extracted_fields column\n",
    "def ensure_all_fields(extracted_fields, required_fields):\n",
    "    # Convert the extracted_fields string to a dictionary\n",
    "    extracted_data = json.loads(extracted_fields)\n",
    "    \n",
    "    # Check and add any missing fields with a value of None\n",
    "    for field in required_fields:\n",
    "        if field not in extracted_data:\n",
    "            extracted_data[field] = None\n",
    "    \n",
    "    # Convert the dictionary back to a JSON string\n",
    "    return json.dumps(extracted_data)\n",
    "\n",
    "# List of required fields from the extraction_json_schema\n",
    "extraction_fields = list(extraction_json_schema['properties'].keys())\n",
    "\n",
    "# Apply the function to each row in the extracted_fields column\n",
    "df['extracted_fields'] = df['extracted_fields'].apply(ensure_all_fields, required_fields=extraction_fields)\n",
    "\n",
    "# Display the updated DataFrame\n",
    "df"
   ]
  },
  {
   "cell_type": "markdown",
   "metadata": {},
   "source": [
    "### Split the dataset"
   ]
  },
  {
   "cell_type": "code",
   "execution_count": 5,
   "metadata": {
    "execution": {
     "iopub.execute_input": "2024-08-29T16:25:48.316546Z",
     "iopub.status.busy": "2024-08-29T16:25:48.316108Z",
     "iopub.status.idle": "2024-08-29T16:25:51.141245Z",
     "shell.execute_reply": "2024-08-29T16:25:51.140819Z"
    }
   },
   "outputs": [
    {
     "name": "stdout",
     "output_type": "stream",
     "text": [
      "Training set size: 524\n",
      "Evaluation set size: 65\n",
      "Test set size: 66\n"
     ]
    }
   ],
   "source": [
    "from sklearn.model_selection import train_test_split\n",
    "\n",
    "# First split: 80% for training, 20% for temp (which will be split into eval and test)\n",
    "train_df, temp_df = train_test_split(df, test_size=0.2, random_state=42)\n",
    "\n",
    "# Second split: 50% of temp for eval and 50% for test (10% of the original data each)\n",
    "eval_df, test_df = train_test_split(temp_df, test_size=0.5, random_state=42)\n",
    "\n",
    "# Check the sizes of the splits\n",
    "print(f\"Training set size: {len(train_df)}\")\n",
    "print(f\"Evaluation set size: {len(eval_df)}\")\n",
    "print(f\"Test set size: {len(test_df)}\")\n"
   ]
  },
  {
   "cell_type": "markdown",
   "metadata": {},
   "source": [
    "### Load the base model"
   ]
  },
  {
   "cell_type": "code",
   "execution_count": 6,
   "metadata": {
    "execution": {
     "iopub.execute_input": "2024-08-29T16:25:51.143405Z",
     "iopub.status.busy": "2024-08-29T16:25:51.143002Z",
     "iopub.status.idle": "2024-08-29T16:26:03.639148Z",
     "shell.execute_reply": "2024-08-29T16:26:03.638704Z"
    }
   },
   "outputs": [],
   "source": [
    "from peft import LoraConfig, TaskType\n",
    "\n",
    "peft_config = LoraConfig(\n",
    "    lora_alpha = 16, # increased alpha\n",
    "    lora_dropout=0.1, # decreased dropout\n",
    "    r=8, # increased rank\n",
    "    task_type=TaskType.CAUSAL_LM,\n",
    "    bias=\"none\",\n",
    "    target_modules=['k_proj', 'q_proj', 'gate_proj', 'o_proj', 'v_proj', 'down_proj', 'up_proj'], # target as many layers as possible\n",
    ")"
   ]
  },
  {
   "cell_type": "code",
   "execution_count": 7,
   "metadata": {
    "execution": {
     "iopub.execute_input": "2024-08-29T16:26:03.641429Z",
     "iopub.status.busy": "2024-08-29T16:26:03.641029Z",
     "iopub.status.idle": "2024-08-29T16:28:54.633859Z",
     "shell.execute_reply": "2024-08-29T16:28:54.633440Z"
    }
   },
   "outputs": [
    {
     "data": {
      "application/vnd.jupyter.widget-view+json": {
       "model_id": "c9d71fae4a5744ddbdc9080e81187ad9",
       "version_major": 2,
       "version_minor": 0
      },
      "text/plain": [
       "VBox(children=(HTML(value='<center> <img\\nsrc=https://huggingface.co/front/assets/huggingface_logo-noborder.sv…"
      ]
     },
     "metadata": {},
     "output_type": "display_data"
    },
    {
     "name": "stderr",
     "output_type": "stream",
     "text": [
      "/home/azureuser/py_envs/lib/python3.12/site-packages/transformers/tokenization_utils_base.py:1601: FutureWarning: `clean_up_tokenization_spaces` was not set. It will be set to `True` by default. This behavior will be depracted in transformers v4.45, and will be then set to `False` by default. For more details check this issue: https://github.com/huggingface/transformers/issues/31884\n",
      "  warnings.warn(\n"
     ]
    },
    {
     "name": "stderr",
     "output_type": "stream",
     "text": [
      "`low_cpu_mem_usage` was None, now set to True since model is quantized.\n"
     ]
    },
    {
     "data": {
      "application/vnd.jupyter.widget-view+json": {
       "model_id": "c367dc99c62347679b62599ae2145008",
       "version_major": 2,
       "version_minor": 0
      },
      "text/plain": [
       "Loading checkpoint shards:   0%|          | 0/2 [00:00<?, ?it/s]"
      ]
     },
     "metadata": {},
     "output_type": "display_data"
    },
    {
     "name": "stdout",
     "output_type": "stream",
     "text": [
      "trainable params: 12,189,696 || all params: 2,861,946,880 || trainable%: 0.4259\n"
     ]
    }
   ],
   "source": [
    "\n",
    "from transformers import AutoTokenizer, AutoModelForCausalLM, BitsAndBytesConfig\n",
    "from huggingface_hub import notebook_login\n",
    "import torch\n",
    "\n",
    "# login to access gated model\n",
    "notebook_login()\n",
    "\n",
    "# Load the tokenizer and model\n",
    "model_id = \"google/gemma-2b-it\"\n",
    "\n",
    "bnb_config = BitsAndBytesConfig(\n",
    "    load_in_4bit=True,\n",
    "    bnb_4bit_quant_type=\"nf4\",\n",
    "    bnb_4bit_compute_dtype=torch.float16,\n",
    ")\n",
    "\n",
    "# empty GPU memory\n",
    "torch.cuda.empty_cache()\n",
    "\n",
    "tokenizer = AutoTokenizer.from_pretrained(model_id)\n",
    "tokenizer.pad_token = tokenizer.eos_token\n",
    "tokenizer.padding_side = 'right'\n",
    "\n",
    "model = AutoModelForCausalLM.from_pretrained(model_id, quantization_config=bnb_config)\n"
   ]
  },
  {
   "cell_type": "markdown",
   "metadata": {},
   "source": [
    "### Build the datasets"
   ]
  },
  {
   "cell_type": "code",
   "execution_count": null,
   "metadata": {},
   "outputs": [],
   "source": [
    "from datasets import Dataset\n",
    "\n",
    "# Create datasets with the extracted text and labels\n",
    "train_dataset = Dataset.from_pandas(train_df)\n",
    "eval_dataset = Dataset.from_pandas(eval_df)\n",
    "test_dataset = Dataset.from_pandas(test_df)\n",
    "\n",
    "train_dataset"
   ]
  },
  {
   "cell_type": "markdown",
   "metadata": {},
   "source": [
    "### Define the prompt template"
   ]
  },
  {
   "cell_type": "code",
   "execution_count": 8,
   "metadata": {
    "execution": {
     "iopub.execute_input": "2024-08-29T16:28:54.635946Z",
     "iopub.status.busy": "2024-08-29T16:28:54.635611Z",
     "iopub.status.idle": "2024-08-29T16:28:54.638047Z",
     "shell.execute_reply": "2024-08-29T16:28:54.637688Z"
    }
   },
   "outputs": [],
   "source": [
    "prompt_template = \"\"\"\n",
    "## USER:\n",
    "You are a specialized model for extracting specific information from lease agreement text. Your goal is to accurately extract data fields from the provided OCR text of a lease agreement. Additionally, correct any obvious OCR errors you encounter during extraction.\n",
    "\n",
    "### INPUT TEXT:\n",
    "Below is the OCR text extracted from a lease agreement. Carefully analyze this text, and extract the relevant data fields.\n",
    "\n",
    "OCR Text:\n",
    "```\n",
    "{extracted_text}\n",
    "```\n",
    "\n",
    "### RESPONSE FORMAT:\n",
    "Return the extracted data as a JSON object, adhering strictly to the following JSON schema:\n",
    "\n",
    "```json\n",
    "{extraction_json_schema_str}\n",
    "```\n",
    "\n",
    "## ASSISTANT:\n",
    "```json\n",
    "{extracted_fields}\n",
    "```\n",
    "\"\"\""
   ]
  },
  {
   "cell_type": "markdown",
   "metadata": {},
   "source": [
    "### Train (fine tune) the base model"
   ]
  },
  {
   "cell_type": "code",
   "execution_count": null,
   "metadata": {},
   "outputs": [],
   "source": [
    "from transformers import TrainingArguments, DataCollatorForLanguageModeling\n",
    "from trl import SFTTrainer\n",
    "\n",
    "def formatting_func(example):\n",
    "    output_texts = []\n",
    "    for i in range(len(example['extracted_text'])):\n",
    "        text = prompt_template.format(extracted_text=example['extracted_text'][i], extraction_json_schema_str=extraction_json_schema_str, extracted_fields=example['extracted_fields'][i])\n",
    "        output_texts.append(text)\n",
    "    return output_texts\n",
    "\n",
    "training_args = TrainingArguments(\n",
    "    output_dir=\"./results\",\n",
    "    eval_strategy=\"steps\",  # Changed to evaluate based on steps\n",
    "    eval_steps=10,  # Evaluate every 10 steps\n",
    "    learning_rate=1e-3,\n",
    "    lr_scheduler_type=\"linear\",\n",
    "    per_device_train_batch_size=4,\n",
    "    per_device_eval_batch_size=4,\n",
    "    gradient_accumulation_steps=8,\n",
    "    gradient_checkpointing=True,\n",
    "    logging_steps=2,\n",
    "    warmup_steps = 2,\n",
    "    max_steps = 200,\n",
    "    save_strategy=\"steps\",\n",
    "    save_steps=10,  # Save a checkpoint every 10 steps\n",
    "    optim=\"paged_adamw_32bit\",\n",
    ")\n",
    "\n",
    "trainer = SFTTrainer(\n",
    "    model,\n",
    "    tokenizer=tokenizer,\n",
    "    train_dataset=train_dataset,\n",
    "    eval_dataset=eval_dataset,\n",
    "    peft_config=peft_config,\n",
    "    neftune_noise_alpha=5,\n",
    "    max_seq_length=512,\n",
    "    args=training_args,\n",
    "    formatting_func=formatting_func,\n",
    "    data_collator=DataCollatorForLanguageModeling(\n",
    "        tokenizer=tokenizer,\n",
    "        mlm=False,  # No masked language modeling, suitable for CausalLM\n",
    "        return_tensors=\"pt\"  # Return PyTorch tensors\n",
    "    )\n",
    ")\n",
    "model.config.use_cache = False  # silence the warnings. Please re-enable for inference!\n",
    "trainer.train()"
   ]
  },
  {
   "cell_type": "markdown",
   "metadata": {},
   "source": [
    "### Save the model"
   ]
  },
  {
   "cell_type": "code",
   "execution_count": 11,
   "metadata": {
    "execution": {
     "iopub.execute_input": "2024-08-29T20:53:32.176948Z",
     "iopub.status.busy": "2024-08-29T20:53:32.176662Z",
     "iopub.status.idle": "2024-08-29T20:53:32.178894Z",
     "shell.execute_reply": "2024-08-29T20:53:32.178536Z"
    }
   },
   "outputs": [],
   "source": [
    "peft_model_repo_id = \"aryaniyaps/finetuned_gemma_2b_lease_data_extraction_40_deals\"\n",
    "local_model_id = \"./saved_models/finetuned_gemma_2b_lease_data_extraction_40_deals\""
   ]
  },
  {
   "cell_type": "code",
   "execution_count": 12,
   "metadata": {
    "execution": {
     "iopub.execute_input": "2024-08-29T20:53:32.180608Z",
     "iopub.status.busy": "2024-08-29T20:53:32.180341Z",
     "iopub.status.idle": "2024-08-29T20:53:35.458133Z",
     "shell.execute_reply": "2024-08-29T20:53:35.457748Z"
    }
   },
   "outputs": [
    {
     "data": {
      "application/vnd.jupyter.widget-view+json": {
       "model_id": "d24f94f1ae264056b3287c4204f84028",
       "version_major": 2,
       "version_minor": 0
      },
      "text/plain": [
       "adapter_model.safetensors:   0%|          | 0.00/48.9M [00:00<?, ?B/s]"
      ]
     },
     "metadata": {},
     "output_type": "display_data"
    },
    {
     "data": {
      "text/plain": [
       "CommitInfo(commit_url='https://huggingface.co/aryaniyaps/finetuned_flan_t5_xl_lease_data_extraction_40_deals/commit/eb308e54306e20a5b90edc7ebeccc662b18878f8', commit_message='Upload model', commit_description='', oid='eb308e54306e20a5b90edc7ebeccc662b18878f8', pr_url=None, pr_revision=None, pr_num=None)"
      ]
     },
     "execution_count": 12,
     "metadata": {},
     "output_type": "execute_result"
    }
   ],
   "source": [
    "# Push the PEFT model (LoRA adapters) to Hugging Face Hub\n",
    "trainer.model.save_pretrained(local_model_id)\n",
    "\n",
    "trainer.model.push_to_hub(peft_model_repo_id)"
   ]
  },
  {
   "cell_type": "markdown",
   "metadata": {},
   "source": [
    "### Evaluate the model"
   ]
  },
  {
   "cell_type": "code",
   "execution_count": 13,
   "metadata": {
    "execution": {
     "iopub.execute_input": "2024-08-29T20:53:35.460221Z",
     "iopub.status.busy": "2024-08-29T20:53:35.459779Z",
     "iopub.status.idle": "2024-08-29T20:53:36.560271Z",
     "shell.execute_reply": "2024-08-29T20:53:36.559852Z"
    }
   },
   "outputs": [
    {
     "data": {
      "application/vnd.jupyter.widget-view+json": {
       "model_id": "0b7098f0ca934c6c8d44afada915ea23",
       "version_major": 2,
       "version_minor": 0
      },
      "text/plain": [
       "adapter_config.json:   0%|          | 0.00/702 [00:00<?, ?B/s]"
      ]
     },
     "metadata": {},
     "output_type": "display_data"
    },
    {
     "data": {
      "application/vnd.jupyter.widget-view+json": {
       "model_id": "98cddb5582a84aeaaf3799ef2065504f",
       "version_major": 2,
       "version_minor": 0
      },
      "text/plain": [
       "adapter_model.safetensors:   0%|          | 0.00/48.9M [00:00<?, ?B/s]"
      ]
     },
     "metadata": {},
     "output_type": "display_data"
    },
    {
     "name": "stdout",
     "output_type": "stream",
     "text": [
      "PEFT model loaded\n"
     ]
    }
   ],
   "source": [
    "from peft import PeftModel\n",
    " \n",
    "# Load the Lora model\n",
    "finetuned_model = PeftModel.from_pretrained(model, peft_model_repo_id, device_map={\"\":0})\n",
    "finetuned_model.eval()\n",
    " \n",
    "print(\"PEFT model loaded\")"
   ]
  },
  {
   "cell_type": "markdown",
   "metadata": {},
   "source": [
    "### Evaluate the model\n",
    "(Using F1 score and exact matches)"
   ]
  },
  {
   "cell_type": "code",
   "execution_count": null,
   "metadata": {},
   "outputs": [],
   "source": [
    "evaluation_prompt_template = \"\"\"\n",
    "## USER:\n",
    "You are a specialized model for extracting specific information from lease agreement text. Your goal is to accurately extract data fields from the provided OCR text of a lease agreement. Additionally, correct any obvious OCR errors you encounter during extraction.\n",
    "\n",
    "### INPUT TEXT:\n",
    "Below is the OCR text extracted from a lease agreement. Carefully analyze this text, and extract the relevant data fields.\n",
    "\n",
    "OCR Text:\n",
    "```\n",
    "{extracted_text}\n",
    "```\n",
    "\n",
    "### RESPONSE FORMAT:\n",
    "Return the extracted data as a JSON object, adhering strictly to the following JSON schema:\n",
    "\n",
    "```json\n",
    "{extraction_json_schema_str}\n",
    "```\n",
    "\n",
    "## ASSISTANT:\n",
    "\"\"\""
   ]
  },
  {
   "cell_type": "code",
   "execution_count": 16,
   "metadata": {
    "execution": {
     "iopub.execute_input": "2024-08-29T20:54:10.023356Z",
     "iopub.status.busy": "2024-08-29T20:54:10.023061Z",
     "iopub.status.idle": "2024-08-29T21:15:23.936319Z",
     "shell.execute_reply": "2024-08-29T21:15:23.935898Z"
    }
   },
   "outputs": [
    {
     "name": "stderr",
     "output_type": "stream",
     "text": [
      "\r\n",
      "  0%|                                                                                            | 0/66 [00:00<?, ?it/s]"
     ]
    },
    {
     "name": "stderr",
     "output_type": "stream",
     "text": [
      "\r\n",
      "  2%|█▎                                                                                  | 1/66 [00:33<35:50, 33.09s/it]"
     ]
    },
    {
     "name": "stderr",
     "output_type": "stream",
     "text": [
      "\r\n",
      "  3%|██▌                                                                                 | 2/66 [00:34<15:38, 14.66s/it]"
     ]
    },
    {
     "name": "stderr",
     "output_type": "stream",
     "text": [
      "\r\n",
      "  5%|███▊                                                                                | 3/66 [00:44<13:12, 12.58s/it]"
     ]
    },
    {
     "name": "stderr",
     "output_type": "stream",
     "text": [
      "\r\n",
      "  6%|█████                                                                               | 4/66 [01:18<21:21, 20.67s/it]"
     ]
    },
    {
     "name": "stderr",
     "output_type": "stream",
     "text": [
      "\r\n",
      "  8%|██████▎                                                                             | 5/66 [01:51<25:35, 25.17s/it]"
     ]
    },
    {
     "name": "stderr",
     "output_type": "stream",
     "text": [
      "\r\n",
      "  9%|███████▋                                                                            | 6/66 [02:24<27:51, 27.86s/it]"
     ]
    },
    {
     "name": "stderr",
     "output_type": "stream",
     "text": [
      "\r\n",
      " 11%|████████▉                                                                           | 7/66 [02:57<29:04, 29.58s/it]"
     ]
    },
    {
     "name": "stderr",
     "output_type": "stream",
     "text": [
      "\r\n",
      " 12%|██████████▏                                                                         | 8/66 [02:59<20:15, 20.96s/it]"
     ]
    },
    {
     "name": "stderr",
     "output_type": "stream",
     "text": [
      "\r\n",
      " 14%|███████████▍                                                                        | 9/66 [03:23<20:42, 21.80s/it]"
     ]
    },
    {
     "name": "stderr",
     "output_type": "stream",
     "text": [
      "\r\n",
      " 15%|████████████▌                                                                      | 10/66 [03:56<23:35, 25.28s/it]"
     ]
    },
    {
     "name": "stderr",
     "output_type": "stream",
     "text": [
      "\r\n",
      " 17%|█████████████▊                                                                     | 11/66 [04:29<25:22, 27.68s/it]"
     ]
    },
    {
     "name": "stderr",
     "output_type": "stream",
     "text": [
      "\r\n",
      " 18%|███████████████                                                                    | 12/66 [05:02<26:23, 29.33s/it]"
     ]
    },
    {
     "name": "stderr",
     "output_type": "stream",
     "text": [
      "\r\n",
      " 20%|████████████████▎                                                                  | 13/66 [05:13<20:57, 23.74s/it]"
     ]
    },
    {
     "name": "stderr",
     "output_type": "stream",
     "text": [
      "\r\n",
      " 21%|█████████████████▌                                                                 | 14/66 [05:46<23:01, 26.56s/it]"
     ]
    },
    {
     "name": "stderr",
     "output_type": "stream",
     "text": [
      "\r\n",
      " 23%|██████████████████▊                                                                | 15/66 [06:19<24:14, 28.52s/it]"
     ]
    },
    {
     "name": "stderr",
     "output_type": "stream",
     "text": [
      "\r\n",
      " 24%|████████████████████                                                               | 16/66 [06:52<24:54, 29.89s/it]"
     ]
    },
    {
     "name": "stderr",
     "output_type": "stream",
     "text": [
      "\r\n",
      " 26%|█████████████████████▍                                                             | 17/66 [07:26<25:12, 30.87s/it]"
     ]
    },
    {
     "name": "stderr",
     "output_type": "stream",
     "text": [
      "\r\n",
      " 27%|██████████████████████▋                                                            | 18/66 [07:51<23:20, 29.18s/it]"
     ]
    },
    {
     "name": "stderr",
     "output_type": "stream",
     "text": [
      "\r\n",
      " 29%|███████████████████████▉                                                           | 19/66 [08:00<18:13, 23.26s/it]"
     ]
    },
    {
     "name": "stderr",
     "output_type": "stream",
     "text": [
      "\r\n",
      " 30%|█████████████████████████▏                                                         | 20/66 [08:17<16:13, 21.15s/it]"
     ]
    },
    {
     "name": "stderr",
     "output_type": "stream",
     "text": [
      "\r\n",
      " 32%|██████████████████████████▍                                                        | 21/66 [08:20<11:53, 15.85s/it]"
     ]
    },
    {
     "name": "stderr",
     "output_type": "stream",
     "text": [
      "\r\n",
      " 33%|███████████████████████████▋                                                       | 22/66 [08:47<14:04, 19.20s/it]"
     ]
    },
    {
     "name": "stderr",
     "output_type": "stream",
     "text": [
      "\r\n",
      " 35%|████████████████████████████▉                                                      | 23/66 [09:14<15:26, 21.55s/it]"
     ]
    },
    {
     "name": "stderr",
     "output_type": "stream",
     "text": [
      "\r\n",
      " 36%|██████████████████████████████▏                                                    | 24/66 [09:21<12:04, 17.26s/it]"
     ]
    },
    {
     "name": "stderr",
     "output_type": "stream",
     "text": [
      "\r\n",
      " 38%|███████████████████████████████▍                                                   | 25/66 [09:33<10:43, 15.69s/it]"
     ]
    },
    {
     "name": "stderr",
     "output_type": "stream",
     "text": [
      "\r\n",
      " 39%|████████████████████████████████▋                                                  | 26/66 [09:34<07:28, 11.22s/it]"
     ]
    },
    {
     "name": "stderr",
     "output_type": "stream",
     "text": [
      "\r\n",
      " 41%|█████████████████████████████████▉                                                 | 27/66 [09:37<05:38,  8.69s/it]"
     ]
    },
    {
     "name": "stderr",
     "output_type": "stream",
     "text": [
      "\r\n",
      " 42%|███████████████████████████████████▏                                               | 28/66 [10:04<08:57, 14.15s/it]"
     ]
    },
    {
     "name": "stderr",
     "output_type": "stream",
     "text": [
      "\r\n",
      " 44%|████████████████████████████████████▍                                              | 29/66 [10:30<10:54, 17.70s/it]"
     ]
    },
    {
     "name": "stderr",
     "output_type": "stream",
     "text": [
      "\r\n",
      " 45%|█████████████████████████████████████▋                                             | 30/66 [10:31<07:37, 12.72s/it]"
     ]
    },
    {
     "name": "stderr",
     "output_type": "stream",
     "text": [
      "\r\n",
      " 47%|██████████████████████████████████████▉                                            | 31/66 [10:52<08:51, 15.18s/it]"
     ]
    },
    {
     "name": "stderr",
     "output_type": "stream",
     "text": [
      "\r\n",
      " 48%|████████████████████████████████████████▏                                          | 32/66 [11:25<11:38, 20.55s/it]"
     ]
    },
    {
     "name": "stderr",
     "output_type": "stream",
     "text": [
      "\r\n",
      " 50%|█████████████████████████████████████████▌                                         | 33/66 [11:26<08:06, 14.76s/it]"
     ]
    },
    {
     "name": "stderr",
     "output_type": "stream",
     "text": [
      "\r\n",
      " 52%|██████████████████████████████████████████▊                                        | 34/66 [11:59<10:48, 20.25s/it]"
     ]
    },
    {
     "name": "stderr",
     "output_type": "stream",
     "text": [
      "\r\n",
      " 53%|████████████████████████████████████████████                                       | 35/66 [12:32<12:27, 24.13s/it]"
     ]
    },
    {
     "name": "stderr",
     "output_type": "stream",
     "text": [
      "\r\n",
      " 55%|█████████████████████████████████████████████▎                                     | 36/66 [12:37<09:04, 18.14s/it]"
     ]
    },
    {
     "name": "stderr",
     "output_type": "stream",
     "text": [
      "\r\n",
      " 56%|██████████████████████████████████████████████▌                                    | 37/66 [12:38<06:19, 13.09s/it]"
     ]
    },
    {
     "name": "stderr",
     "output_type": "stream",
     "text": [
      "\r\n",
      " 58%|███████████████████████████████████████████████▊                                   | 38/66 [12:49<05:49, 12.46s/it]"
     ]
    },
    {
     "name": "stderr",
     "output_type": "stream",
     "text": [
      "\r\n",
      " 59%|█████████████████████████████████████████████████                                  | 39/66 [13:22<08:23, 18.65s/it]"
     ]
    },
    {
     "name": "stderr",
     "output_type": "stream",
     "text": [
      "\r\n",
      " 61%|██████████████████████████████████████████████████▎                                | 40/66 [13:48<08:59, 20.77s/it]"
     ]
    },
    {
     "name": "stderr",
     "output_type": "stream",
     "text": [
      "\r\n",
      " 62%|███████████████████████████████████████████████████▌                               | 41/66 [14:21<10:11, 24.48s/it]"
     ]
    },
    {
     "name": "stderr",
     "output_type": "stream",
     "text": [
      "\r\n",
      " 64%|████████████████████████████████████████████████████▊                              | 42/66 [14:31<08:03, 20.16s/it]"
     ]
    },
    {
     "name": "stderr",
     "output_type": "stream",
     "text": [
      "\r\n",
      " 65%|██████████████████████████████████████████████████████                             | 43/66 [15:04<09:12, 24.02s/it]"
     ]
    },
    {
     "name": "stderr",
     "output_type": "stream",
     "text": [
      "\r\n",
      " 67%|███████████████████████████████████████████████████████▎                           | 44/66 [15:29<08:56, 24.40s/it]"
     ]
    },
    {
     "name": "stderr",
     "output_type": "stream",
     "text": [
      "\r\n",
      " 68%|████████████████████████████████████████████████████████▌                          | 45/66 [15:30<06:06, 17.47s/it]"
     ]
    },
    {
     "name": "stderr",
     "output_type": "stream",
     "text": [
      "\r\n",
      " 70%|█████████████████████████████████████████████████████████▊                         | 46/66 [15:31<04:10, 12.51s/it]"
     ]
    },
    {
     "name": "stderr",
     "output_type": "stream",
     "text": [
      "\r\n",
      " 71%|███████████████████████████████████████████████████████████                        | 47/66 [15:34<03:03,  9.64s/it]"
     ]
    },
    {
     "name": "stderr",
     "output_type": "stream",
     "text": [
      "\r\n",
      " 73%|████████████████████████████████████████████████████████████▎                      | 48/66 [15:57<04:02, 13.49s/it]"
     ]
    },
    {
     "name": "stderr",
     "output_type": "stream",
     "text": [
      "\r\n",
      " 74%|█████████████████████████████████████████████████████████████▌                     | 49/66 [16:19<04:31, 15.97s/it]"
     ]
    },
    {
     "name": "stderr",
     "output_type": "stream",
     "text": [
      "\r\n",
      " 76%|██████████████████████████████████████████████████████████████▉                    | 50/66 [16:19<03:03, 11.44s/it]"
     ]
    },
    {
     "name": "stderr",
     "output_type": "stream",
     "text": [
      "\r\n",
      " 77%|████████████████████████████████████████████████████████████████▏                  | 51/66 [16:20<02:03,  8.21s/it]"
     ]
    },
    {
     "name": "stderr",
     "output_type": "stream",
     "text": [
      "\r\n",
      " 79%|█████████████████████████████████████████████████████████████████▍                 | 52/66 [16:21<01:24,  6.06s/it]"
     ]
    },
    {
     "name": "stderr",
     "output_type": "stream",
     "text": [
      "\r\n",
      " 80%|██████████████████████████████████████████████████████████████████▋                | 53/66 [16:54<03:04, 14.16s/it]"
     ]
    },
    {
     "name": "stderr",
     "output_type": "stream",
     "text": [
      "\r\n",
      " 82%|███████████████████████████████████████████████████████████████████▉               | 54/66 [17:07<02:45, 13.76s/it]"
     ]
    },
    {
     "name": "stderr",
     "output_type": "stream",
     "text": [
      "\r\n",
      " 83%|█████████████████████████████████████████████████████████████████████▏             | 55/66 [17:40<03:34, 19.54s/it]"
     ]
    },
    {
     "name": "stderr",
     "output_type": "stream",
     "text": [
      "\r\n",
      " 85%|██████████████████████████████████████████████████████████████████████▍            | 56/66 [18:13<03:55, 23.58s/it]"
     ]
    },
    {
     "name": "stderr",
     "output_type": "stream",
     "text": [
      "\r\n",
      " 86%|███████████████████████████████████████████████████████████████████████▋           | 57/66 [18:20<02:45, 18.44s/it]"
     ]
    },
    {
     "name": "stderr",
     "output_type": "stream",
     "text": [
      "\r\n",
      " 88%|████████████████████████████████████████████████████████████████████████▉          | 58/66 [18:29<02:05, 15.74s/it]"
     ]
    },
    {
     "name": "stderr",
     "output_type": "stream",
     "text": [
      "\r\n",
      " 89%|██████████████████████████████████████████████████████████████████████████▏        | 59/66 [18:30<01:18, 11.22s/it]"
     ]
    },
    {
     "name": "stderr",
     "output_type": "stream",
     "text": [
      "\r\n",
      " 91%|███████████████████████████████████████████████████████████████████████████▍       | 60/66 [18:55<01:33, 15.61s/it]"
     ]
    },
    {
     "name": "stderr",
     "output_type": "stream",
     "text": [
      "\r\n",
      " 92%|████████████████████████████████████████████████████████████████████████████▋      | 61/66 [19:29<01:44, 20.83s/it]"
     ]
    },
    {
     "name": "stderr",
     "output_type": "stream",
     "text": [
      "\r\n",
      " 94%|█████████████████████████████████████████████████████████████████████████████▉     | 62/66 [19:36<01:07, 16.82s/it]"
     ]
    },
    {
     "name": "stderr",
     "output_type": "stream",
     "text": [
      "\r\n",
      " 95%|███████████████████████████████████████████████████████████████████████████████▏   | 63/66 [20:09<01:05, 21.67s/it]"
     ]
    },
    {
     "name": "stderr",
     "output_type": "stream",
     "text": [
      "\r\n",
      " 97%|████████████████████████████████████████████████████████████████████████████████▍  | 64/66 [20:34<00:45, 22.69s/it]"
     ]
    },
    {
     "name": "stderr",
     "output_type": "stream",
     "text": [
      "\r\n",
      " 98%|█████████████████████████████████████████████████████████████████████████████████▋ | 65/66 [21:07<00:25, 25.80s/it]"
     ]
    },
    {
     "name": "stderr",
     "output_type": "stream",
     "text": [
      "\r\n",
      "100%|███████████████████████████████████████████████████████████████████████████████████| 66/66 [21:13<00:00, 19.96s/it]"
     ]
    },
    {
     "name": "stderr",
     "output_type": "stream",
     "text": [
      "\r\n",
      "100%|███████████████████████████████████████████████████████████████████████████████████| 66/66 [21:13<00:00, 19.30s/it]"
     ]
    },
    {
     "name": "stderr",
     "output_type": "stream",
     "text": [
      "\n"
     ]
    }
   ],
   "source": [
    "from peft import PeftModelForCausalLM\n",
    "\n",
    "finetuned_model = PeftModelForCausalLM.from_pretrained(model=model, model_id=local_model_id)\n",
    "\n",
    "# Set the model to evaluation mode\n",
    "finetuned_model.eval()\n",
    "\n",
    "# Prepare lists to store outputs and true labels\n",
    "predictions = []\n",
    "references = []\n",
    "\n",
    "def format_prompt(message):\n",
    "    return evaluation_prompt_template.format(extracted_text=message['extracted_text'], extraction_json_schema_str=extraction_json_schema_str)\n",
    "\n",
    "# Disable gradient calculation for evaluation\n",
    "with torch.inference_mode():\n",
    "    for message in test_dataset:\n",
    "        # Prepare input using apply_chat_template\n",
    "        input_ids = tokenizer(format_prompt(message), return_tensors=\"pt\").to(\"cuda\")\n",
    "        # Get the true output\n",
    "        true_output = message['extracted_fields']\n",
    "        references.append(true_output)\n",
    "\n",
    "        # Generate output from the fine-tuned model\n",
    "        outputs_finetuned = finetuned_model.generate(**input_ids, max_new_tokens=1024, do_sample=False)\n",
    "        finetuned_output = tokenizer.decode(outputs_finetuned[0])\n",
    "        predictions.append(finetuned_output)\n"
   ]
  },
  {
   "cell_type": "code",
   "execution_count": 17,
   "metadata": {
    "execution": {
     "iopub.execute_input": "2024-08-29T21:15:23.938256Z",
     "iopub.status.busy": "2024-08-29T21:15:23.937950Z",
     "iopub.status.idle": "2024-08-29T21:15:24.015665Z",
     "shell.execute_reply": "2024-08-29T21:15:24.015273Z"
    }
   },
   "outputs": [
    {
     "data": {
      "text/html": [
       "<table>\n",
       "<thead>\n",
       "<tr><th style=\"text-align: right;\">  #</th><th>Reference data                                                                                                                                                                                                                                                                                                                                                                                                                                                                                                                                                                                                                                                                                                                                                                                                                                                               </th><th>Extracted data (Finetuned model)                                                                                                                                                                                                                                                                                                                                                                                                                                                                                                                                                                                                                                                                                                                                                                                                                                                                                                                                                                                                                                                                                                                                                                                                                                                                                                                                                                                                                                                                                                                                                                                                                                                                                                                                                                                                                                                                                                                                                                                                                                                                                                                                                                                                                                                                                                                                                                               </th></tr>\n",
       "</thead>\n",
       "<tbody>\n",
       "<tr><td style=\"text-align: right;\">  1</td><td>&quot;tenant_name&quot;: &quot;Ricquan M Moore&quot;, &quot;unit_address&quot;: null, &quot;unit_number&quot;: null, &quot;unit_type&quot;: null, &quot;agreement_date&quot;: null, &quot;lease_start&quot;: null, &quot;lease_end&quot;: null, &quot;lease_auto_renew&quot;: null, &quot;hourly_rate&quot;: null, &quot;monthly_rent&quot;: null, &quot;prorated_rent&quot;: null, &quot;security_deposit&quot;: null, &quot;lease_rent&quot;: null, &quot;monthly_payment_breakdown&quot;: null, &quot;utility_charges&quot;: null                                                                                                                                                                                                                                                                                                                                                                                                                                                                                                         </td><td>ANIMALS, ADDITIONAL_FEES, ADDITIONAL_RENT, ADDITIONAL_FEES_OR_CHARGES, ADDITIONAL_FEES_OR_CHARGES_TO_PAID, ADDITIONAL_FEES_OR_CHARGES_TO_PAID, ADDITIONAL_FEES_OR_CHARGES_TO_PAID, ADDITIONAL_FEES_OR_CHARGES_TO_PAID, ADDITIONAL_FEES_OR_CHARGES_TO_PAID, ADDITIONAL_FEES_OR_CHARGES_TO_PAID, ADDITIONAL_FEES_OR_CHARGES_TO_PAID, ADDITIONAL_FEES_OR_CHARGES_TO_PAID, ADDITIONAL_FEES_OR_CHARGES_TO_PAID, ADDITIONAL_FEES_OR_CHARGES_TO_PAID, ADDITIONAL_FEES_OR_CHARGES_TO_PAID, ADDITIONAL_FEES_OR_CHARGES_TO_PAID, ADDITIONAL_FEES_OR_CHARGES_TO_PAID, ADDITIONAL_FEES_OR_CHARGES_TO_PAID, ADDITIONAL_FEES_OR_CHARGES_TO_PAID, ADDITIONAL_FEES_OR_CHARGES_TO_PAID, ADDITIONAL_FEES_OR_CHARGES_TO_PAID, ADDITIONAL_FEES_OR_CHARGES_TO_PAID, ADDITIONAL_FEES_OR_CHARGES_TO_PAID, ADDITIONAL_FEES_OR_CHARGES_TO_PAID, ADDITIONAL_FEES_OR_CHARGES_TO_PAID, ADDITIONAL_FEES_OR_CHARGES_TO_PAID, ADDITIONAL_FEES_OR_CHARGES_TO_PAID, ADDITIONAL_FEES_OR_CHARGES_TO_PAID, ADDITIONAL_FEES_OR_CHARGES_TO_PAID, ADDITIONAL_FEES_OR_CHARGES_TO_PAID, ADDITIONAL_FEES_OR_                                                                                                                                                                                                                                                                                                                                                                                                                                                                                                                                                                                                                                                                                                                                                                                                                                                                                                                                                                                                                                                                                                                                                                                                                                                                                                                                             </td></tr>\n",
       "<tr><td style=\"text-align: right;\">  2</td><td>&quot;tenant_name&quot;: null, &quot;unit_address&quot;: null, &quot;unit_number&quot;: null, &quot;unit_type&quot;: null, &quot;agreement_date&quot;: null, &quot;lease_start&quot;: null, &quot;lease_end&quot;: null, &quot;lease_auto_renew&quot;: null, &quot;hourly_rate&quot;: null, &quot;monthly_rent&quot;: null, &quot;prorated_rent&quot;: null, &quot;security_deposit&quot;: null, &quot;lease_rent&quot;: null, &quot;monthly_payment_breakdown&quot;: null, &quot;utility_charges&quot;: null                                                                                                                                                                                                                                                                                                                                                                                                                                                                                                                      </td><td>26.CONDITION OF THE PREMISES AND ALTERATIONS,                                                                                                                                                                                                                                                                                                                                                                                                                                                                                                                                                                                                                                                                                                                                                                                                                                                                                                                                                                                                                                                                                                                                                                                                                                                                                                                                                                                                                                                                                                                                                                                                                                                                                                                                                                                                                                                                                                                                                                                                                                                                                                                                                                                                                                                                                                                                                                  </td></tr>\n",
       "<tr><td style=\"text-align: right;\">  3</td><td>&quot;tenant_name&quot;: &quot;Samantha Putlak&quot;, &quot;unit_address&quot;: &quot;304 Stanhope St.&quot;, &quot;unit_number&quot;: &quot;#2L&quot;, &quot;unit_type&quot;: null, &quot;agreement_date&quot;: null, &quot;lease_start&quot;: &quot;2023-08-01&quot;, &quot;lease_end&quot;: &quot;2024-07-31&quot;, &quot;lease_auto_renew&quot;: null, &quot;hourly_rate&quot;: null, &quot;monthly_rent&quot;: 2800, &quot;prorated_rent&quot;: null, &quot;security_deposit&quot;: 2800, &quot;lease_rent&quot;: 33600, &quot;monthly_payment_breakdown&quot;: null, &quot;utility_charges&quot;: null                                                                                                                                                                                                                                                                                                                                                                                                                                                                         </td><td>TERM: 12 Months MONTHLY_RENT: $2,800 BEGINNING: 8/1/2023 MONTHLY_RENT: $2,800 SECURITY_DEPOSIT: $2,800 TERM: 12 Months MONTHLY_RENT: $2,800 BEGINNING: 8/1/2023 MONTHLY_RENT: $2,800 SECURITY_DEPOSIT: $2,800 TERM: 12 Months MONTHLY_RENT: $2,800 BEGINNING: 8/1/2023 MONTHLY_RENT: $2,800 SECURITY_DEPOSIT: $2,800                                                                                                                                                                                                                                                                                                                                                                                                                                                                                                                                                                                                                                                                                                                                                                                                                                                                                                                                                                                                                                                                                                                                                                                                                                                                                                                                                                                                                                                                                                                                                                                                                                                                                                                                                                                                                                                                                                                                                                                                                                                                                           </td></tr>\n",
       "<tr><td style=\"text-align: right;\">  4</td><td>&quot;tenant_name&quot;: null, &quot;unit_address&quot;: null, &quot;unit_number&quot;: null, &quot;unit_type&quot;: null, &quot;agreement_date&quot;: null, &quot;lease_start&quot;: null, &quot;lease_end&quot;: null, &quot;lease_auto_renew&quot;: null, &quot;hourly_rate&quot;: null, &quot;monthly_rent&quot;: null, &quot;prorated_rent&quot;: null, &quot;security_deposit&quot;: null, &quot;lease_rent&quot;: null, &quot;monthly_payment_breakdown&quot;: null, &quot;utility_charges&quot;: null                                                                                                                                                                                                                                                                                                                                                                                                                                                                                                                      </td><td>,,,,,,,,,,,,,,,,,,,,,,,,,,,,,,,,,,,,,,,,,,,,,,,,,,,,,,,,,,,,,,,,,,,,,,,,,,,,,,,,,,,,,,,,,,,,,,,,,,,,,,,,,,,,,,,,,,,,,,,,,,,,,,,,,,,,,,,,,,,,,,,,,,,,,,,,,,,,,,,,,,,,,,,,,,                                                                                                                                                                                                                                                                                                                                                                                                                                                                                                                                                                                                                                                                                                                                                                                                                                                                                                                                                                                                                                                                                                                                                                                                                                                                                                                                                                                                                                                                                                                                                                                                                                                                                                                                                                                                                                                                                                                                                                                                                                                                                                                                                                                                                                     </td></tr>\n",
       "<tr><td style=\"text-align: right;\">  5</td><td>&quot;tenant_name&quot;: null, &quot;unit_address&quot;: null, &quot;unit_number&quot;: null, &quot;unit_type&quot;: null, &quot;agreement_date&quot;: null, &quot;lease_start&quot;: null, &quot;lease_end&quot;: null, &quot;lease_auto_renew&quot;: null, &quot;hourly_rate&quot;: null, &quot;monthly_rent&quot;: null, &quot;prorated_rent&quot;: null, &quot;security_deposit&quot;: null, &quot;lease_rent&quot;: null, &quot;monthly_payment_breakdown&quot;: null, &quot;utility_charges&quot;: null                                                                                                                                                                                                                                                                                                                                                                                                                                                                                                                      </td><td>Damage, Landlord, Damage, Tenant, Damage, Landlord, Damage, Tenant, Damage, Damage, Damage, Damage, Damage, Damage, Damage, Damage, Damage, Damage, Damage, Damage, Damage, Damage, Damage, Damage, Damage, Damage, Damage, Damage, Damage, Damage, Damage, Damage, Damage, Damage, Damage, Damage, Damage, Damage, Damage, Damage, Damage, Damage, Damage, Damage, Damage, Damage, Damage, Damage, Damage, Damage, Damage, Damage, Damage, Damage, Damage, Damage, Damage, Damage, Damage, Damage, Damage, Damage, Damage, Damage, Damage, Damage, Damage, Damage, Damage, Damage, Damage, Damage, Damage, Damage, Damage, Damage, Damage, Damage, Damage, Damage, Damage, Damage, Damage, Damage, Damage, Damage, Damage, Damage, Damage, Damage, Damage, Damage, Damage, Damage, Damage, Damage, Damage, Damage, Damage, Damage, Damage, Damage, Damage, Damage, Damage, Damage, Damage, Damage, Damage, Damage, Damage, Damage, Damage, Damage, Damage, Damage, Damage, Damage, Damage, Damage, Damage, Damage, Damage, Damage, Damage, Damage, Damage, Damage, Damage, Damage, Damage, Damage, Damage, Damage, Damage, Damage, Damage, Damage, Damage, Damage, Damage, Damage, Damage, Damage, Damage, Damage, Damage, Damage, Damage, Damage, Damage, Damage, Damage, Damage, Damage, Damage, Damage, Damage, Damage, Damage, Damage, Damage, Damage, Damage, Damage, Damage, Damage, Damage, Damage, Damage, Damage, Damage, Damage, Damage, Damage, Damage, Damage, Damage, Damage, Damage, Damage, Damage, Damage, Damage, Damage, Damage, Damage, Damage, Damage, Damage, Damage, Damage, Damage, Damage, Damage, Damage, Damage, Damage, Damage, Damage, Damage, Damage, Damage, Damage, Damage, Damage, Damage, Damage, Damage, Damage, Damage, Damage, Damage, Damage, Damage, Damage, Damage, Damage, Damage, Damage, Damage, Damage, Damage, Damage, Damage, Damage, Damage, Damage, Damage, Damage, Damage, Damage, Damage, Damage, Damage, Damage, Damage, Damage, Damage, Damage, Damage, Damage, Damage, Damage, Damage, Damage, Damage, Damage, Damage, Damage, Damage, Damage, Damage,                                                                                                                                                                                                                                                                                                    </td></tr>\n",
       "<tr><td style=\"text-align: right;\">  6</td><td>&quot;tenant_name&quot;: null, &quot;unit_address&quot;: null, &quot;unit_number&quot;: null, &quot;unit_type&quot;: null, &quot;agreement_date&quot;: null, &quot;lease_start&quot;: null, &quot;lease_end&quot;: null, &quot;lease_auto_renew&quot;: null, &quot;hourly_rate&quot;: null, &quot;monthly_rent&quot;: null, &quot;prorated_rent&quot;: null, &quot;security_deposit&quot;: null, &quot;lease_rent&quot;: null, &quot;monthly_payment_breakdown&quot;: null, &quot;utility_charges&quot;: null                                                                                                                                                                                                                                                                                                                                                                                                                                                                                                                      </td><td>PART_A, PART_B, PART_C, PART_D, PART_A, PART_B, PART_C, PART_D, PART_A, PART_C, PART_D, PART_A, PART_C, PART_D, PART_A, PART_C, PART_D, PART_A, PART_C, PART_D, PART_A, PART_C, PART_D, PART_A, PART_C, PART_D, PART_A, PART_C, PART_D, PART_A, PART_C, PART_D, PART_A, PART_C, PART_D, PART_A, PART_C, PART_D, PART_A, PART_C, PART_D, PART_A, PART_C, PART_D, PART_A, PART_C, PART_D, PART_A, PART_C, PART_D, PART_A, PART_C, PART_D, PART_A, PART_C, PART_D, PART_A, PART_C, PART_D, PART_A, PART_C, PART_D, PART_A, PART_C, PART_D, PART_A, PART_C, PART_D, PART_A, PART_C, PART_D, PART_A, PART_C, PART_D, PART_C, PART_D, PART_A, PART_C, PART_D, PART_A, PART_C, PART_D, PART_C, PART_D, PART_A, PART_C, PART_D, PART_C, PART_D, PART_A, PART_C, PART_D, PART_C, PART_D, PART_A, PART_C, PART_D, PART_C, PART_D, PART_C, PART_D, PART_C, PART                                                                                                                                                                                                                                                                                                                                                                                                                                                                                                                                                                                                                                                                                                                                                                                                                                                                                                                                                                                                                                                                                                                                                                                                                                                                                                                                                                                                                                                                                                                                                           </td></tr>\n",
       "<tr><td style=\"text-align: right;\">  7</td><td>&quot;tenant_name&quot;: null, &quot;unit_address&quot;: null, &quot;unit_number&quot;: null, &quot;unit_type&quot;: null, &quot;agreement_date&quot;: null, &quot;lease_start&quot;: null, &quot;lease_end&quot;: null, &quot;lease_auto_renew&quot;: null, &quot;hourly_rate&quot;: null, &quot;monthly_rent&quot;: null, &quot;prorated_rent&quot;: null, &quot;security_deposit&quot;: null, &quot;lease_rent&quot;: null, &quot;monthly_payment_breakdown&quot;: null, &quot;utility_charges&quot;: null                                                                                                                                                                                                                                                                                                                                                                                                                                                                                                                      </td><td>,,,,,,,,,,,,,,,,,,,,,,,,,,,,,,,,,,,,,,,,,,,,,,,,,,,,,,,,,,,,,,,,,,,,,,,,,,,,,,,,,,,,,,,,,,,,,,,,,,,,,,,,,,,,,,,,,,,,,,,,,,,,,,,,,,,,,,,,,,,,,,,,,,,,,,,,,,,,,,,,,,,,,,,,,,                                                                                                                                                                                                                                                                                                                                                                                                                                                                                                                                                                                                                                                                                                                                                                                                                                                                                                                                                                                                                                                                                                                                                                                                                                                                                                                                                                                                                                                                                                                                                                                                                                                                                                                                                                                                                                                                                                                                                                                                                                                                                                                                                                                                                                     </td></tr>\n",
       "<tr><td style=\"text-align: right;\">  8</td><td>&quot;tenant_name&quot;: null, &quot;unit_address&quot;: null, &quot;unit_number&quot;: null, &quot;unit_type&quot;: null, &quot;agreement_date&quot;: null, &quot;lease_start&quot;: null, &quot;lease_end&quot;: null, &quot;lease_auto_renew&quot;: &quot;month-to-month&quot;, &quot;hourly_rate&quot;: null, &quot;monthly_rent&quot;: null, &quot;prorated_rent&quot;: null, &quot;security_deposit&quot;: null, &quot;lease_rent&quot;: null, &quot;monthly_payment_breakdown&quot;: null, &quot;utility_charges&quot;: null                                                                                                                                                                                                                                                                                                                                                                                                                                                                                                          </td><td>Lessee shall be responsible for the payment of all taxes, license fees, registration fees, insurance, and other assessments associated with the use of the Property.                                                                                                                                                                                                                                                                                                                                                                                                                                                                                                                                                                                                                                                                                                                                                                                                                                                                                                                                                                                                                                                                                                                                                                                                                                                                                                                                                                                                                                                                                                                                                                                                                                                                                                                                                                                                                                                                                                                                                                                                                                                                                                                                                                                                                                           </td></tr>\n",
       "<tr><td style=\"text-align: right;\">  9</td><td>&quot;tenant_name&quot;: null, &quot;unit_address&quot;: null, &quot;unit_number&quot;: null, &quot;unit_type&quot;: null, &quot;agreement_date&quot;: null, &quot;lease_start&quot;: null, &quot;lease_end&quot;: null, &quot;lease_auto_renew&quot;: null, &quot;hourly_rate&quot;: null, &quot;monthly_rent&quot;: null, &quot;prorated_rent&quot;: null, &quot;security_deposit&quot;: null, &quot;lease_rent&quot;: null, &quot;monthly_payment_breakdown&quot;: null, &quot;utility_charges&quot;: null                                                                                                                                                                                                                                                                                                                                                                                                                                                                                                                      </td><td>Replacements 31.REPLACEMENTS AND SUBLETTING. Replacing a resident, subletting. assignment, or granting a right or license to occupy is allowed only when we expressly consent in writing. If departing or remaining residents find a replacement resident acceptable to us before moving out and we expressly consent, in writing, to the replacement, subletting, assignment, or granting a right or any license to occupy, then (1) a reletting charge will not be due; (2) a reasonable administrative (paperwork) and/or transfer fee will be due, and a rekeying fee is due if rekeying is requested or required; and (3) the departing and remaining residents will remain liable for all lease obligations for the rest of the original lease term. Procedures for Replacement. If we approve a replacement resident, then, at our option: (1) the replacement resident must sign this Lease Contract with or without an increase in the total security deposit; or (2) the remaining and replacement residents must sign an entirely new I.case Contract. Unless we agree otherwise in writing-even if a new L.case Contract is signed. Responsibilities of Owner and Resident 32.RESPONSIBILITIES OF OWNER. We&#x27;ll act with customary diligence to: (1) keep common areas reasonably clean, subject to paragraph 26 (Condition of the Premises and Alterations); (2) maintain fixtures, furniture, hot water, heating and A/C. equipment. (3) comply with applicable federal, state, and local laws regarding safety, sanitation, and fair housing; and (4) make all repairs and replacements as may be necessary.                                                                                                                                                                                                                                                                                                                                                                                                                                                                                                                                                                                                                                                                                                                                                                                     </td></tr>\n",
       "<tr><td style=\"text-align: right;\"> 10</td><td>&quot;tenant_name&quot;: null, &quot;unit_address&quot;: null, &quot;unit_number&quot;: null, &quot;unit_type&quot;: null, &quot;agreement_date&quot;: null, &quot;lease_start&quot;: null, &quot;lease_end&quot;: null, &quot;lease_auto_renew&quot;: null, &quot;hourly_rate&quot;: null, &quot;monthly_rent&quot;: null, &quot;prorated_rent&quot;: null, &quot;security_deposit&quot;: null, &quot;lease_rent&quot;: null, &quot;monthly_payment_breakdown&quot;: null, &quot;utility_charges&quot;: null                                                                                                                                                                                                                                                                                                                                                                                                                                                                                                                      </td><td>RESPONSIBILITIES OF OWNER, RESPONSIBILITIES OF OWNER, RESPONSIBILITIES OF OWNER, RESPONSIBILITIES OF OWNER, RESPONSIBILITIES OF OWNER, RESPONSIBILITIES OF OWNER, RESPONSIBILITIES OF OWNER, RESPONSIBILITIES OF OWNER, RESPONSIBILITIES OF OWNER, RESPONSIBILITIES OF OWNER, RESPONSIBILITIES OF OWNER, RESPONSIBILITIES OF OWNER, RESPONSIBILITIES OF OWNER, RESPONSIBILITIES OF OWNER, RESPONSIBILITIES OF OWNER, RESPONSIBILITIES OF OWNER, RESPONSIBILITIES OF OWNER, RESPONSIBILITIES OF OWNER, RESPONSIBILITIES OF OWNER, RESPONSIBILITIES OF OWNER, RESPONSIBILITIES OF OWNER, RESPONSIBILITIES OF OWNER, RESPONSIBILITIES OF OWNER, RESPONSIBILITIES OF OWNER, RESPONSIBILITIES OF OWNER, RESPONSIBILITIES OF OWNER, RESPONSIBILITIES OF OWNER, RESPONSIBILITIES OF OWNER, RESPONSIBILITIES OF OWNER, RESPONSIBILITIES OF OWNER, RESPONSIBILITIES OF OWNER, RESPONSIBILITIES OF OWNER, RESPONSIBILITIES OF OWNER, RESPONSIBILITIES OF OWNER, RESPONSIBILITIES OF OWNER, RESPONSIBILITIES OF OWNER, RESPONSIBILIT                                                                                                                                                                                                                                                                                                                                                                                                                                                                                                                                                                                                                                                                                                                                                                                                                                                                                                                                                                                                                                                                                                                                                                                                                                                                                                                                                                                      </td></tr>\n",
       "<tr><td style=\"text-align: right;\"> 11</td><td>&quot;tenant_name&quot;: null, &quot;unit_address&quot;: null, &quot;unit_number&quot;: null, &quot;unit_type&quot;: null, &quot;agreement_date&quot;: null, &quot;lease_start&quot;: null, &quot;lease_end&quot;: null, &quot;lease_auto_renew&quot;: null, &quot;hourly_rate&quot;: null, &quot;monthly_rent&quot;: null, &quot;prorated_rent&quot;: null, &quot;security_deposit&quot;: 500, &quot;lease_rent&quot;: null, &quot;monthly_payment_breakdown&quot;: null, &quot;utility_charges&quot;: null                                                                                                                                                                                                                                                                                                                                                                                                                                                                                                                       </td><td>Tenant, Default, Default, Default, Default, Default, Default, Default, Default, Default, Default, Default, Default, Default, Default, Default, Default, Default, Default, Default, Default, Default, Default, Default, Default, Default, Default, Default, Default, Default, Default, Default, Default, Default, Default, Default, Default, Default, Default, Default, Default, Default, Default, Default, Default, Default, Default, Default, Default, Default, Default, Default, Default, Default, Default, Default, Default, Default, Default, Default, Default, Default, Default, Default, Default, Default, Default, Default, Default, Default, Default, Default, Default, Default, Default, Default, Default, Default, Default, Default, Default, Default, Default, Default, Default, Default, Default, Default, Default, Default, Default, Default, Default, Default, Default, Default, Default, Default, Default, Default, Default, Default, Default, Default, Default, Default, Default, Default, Default, Default, Default, Default, Default, Default, Default, Default, Default, Default, Default, Default, Default, Default, Default, Default, Default, Default, Default, Default, Default, Default, Default, Default, Default, Default, Default, Default, Default, Default, Default, Default, Default, Default, Default, Default, Default, Default, Default, Default, Default, Default, Default, Default, Default, Default, Default, Default, Default, Default, Default, Default, Default, Default, Default, Default, Default, Default, Default, Default, Default, Default, Default                                                                                                                                                                                                                                                                                                                                                                                                                                                                                                                                                                                                                                                                                                                                                                                                               </td></tr>\n",
       "<tr><td style=\"text-align: right;\"> 12</td><td>&quot;tenant_name&quot;: null, &quot;unit_address&quot;: null, &quot;unit_number&quot;: null, &quot;unit_type&quot;: null, &quot;agreement_date&quot;: null, &quot;lease_start&quot;: null, &quot;lease_end&quot;: null, &quot;lease_auto_renew&quot;: null, &quot;hourly_rate&quot;: null, &quot;monthly_rent&quot;: null, &quot;prorated_rent&quot;: null, &quot;security_deposit&quot;: null, &quot;lease_rent&quot;: null, &quot;monthly_payment_breakdown&quot;: null, &quot;utility_charges&quot;: null                                                                                                                                                                                                                                                                                                                                                                                                                                                                                                                      </td><td>Casualty Loss, During freezing weather, You, You, You, You, You, You, You, You, You, You, You, You, You, You, You, You, You, You, You, You, You, You, You, You, You, You, You, You, You, You, You, You, You, You, You, You, You, You, You, You, You, You, You, You, You, You, You, You, You, You, You, You, You, You, You, You, You, You, You, You, You, You, You, You, You, You, You, You, You, You, You, You, You, You, You, You, You, You, You, You, You, You, You, You, You, You, You, You, You, You, You, You, You, You, You, You, You, You, You, You, You, You, You, You, You, You, You, You, You, You, You, You, You, You, You, You, You, You, You, You, You, You, You, You, You, You, You, You, You, You, You, You, You, You, You, You, You, You, You, You, You, You, You, You, You, You, You, You, You, You, You, You, You, You, You, You, You, You, You, You, You, You, You, You, You, You, You, You, You, You, You, You, You, You, You, You, You, You, You, You, You, You, You, You, You, You, You, You, You, You, You, You, You, You, You, You, You, You, You, You, You, You, You, You, You, You, You, You, You, You, You, You, You, You, You, You, You, You, You, You, You, You, You, You, You, You, You, You, You, You, You, You, You, You, You, You, You, You, You, You, You, You, You, You, You, You, You, You, You, You, You                                                                                                                                                                                                                                                                                                                                                                                                                                                                                                                                                                                                                                                                                                                                                                                                                                                                                                                                                                                                                                                                  </td></tr>\n",
       "<tr><td style=\"text-align: right;\"> 13</td><td>&quot;tenant_name&quot;: &quot;Gary Smith&quot;, &quot;unit_address&quot;: &quot;2557 Mountain Lodge Circle, Vestavia Hills, Alabama, 35216&quot;, &quot;unit_number&quot;: &quot;2557E&quot;, &quot;unit_type&quot;: null, &quot;agreement_date&quot;: &quot;2023-04-27&quot;, &quot;lease_start&quot;: null, &quot;lease_end&quot;: null, &quot;lease_auto_renew&quot;: null, &quot;hourly_rate&quot;: null, &quot;monthly_rent&quot;: null, &quot;prorated_rent&quot;: null, &quot;security_deposit&quot;: null, &quot;lease_rent&quot;: null, &quot;monthly_payment_breakdown&quot;: null, &quot;utility_charges&quot;: null                                                                                                                                                                                                                                                                                                                                                                                                                                           </td><td>1. DWELLING_UNIT_DESCRIPTION. Unit No. 2557E 2557 Mountain Lodge Circle (street address) in Vestavia Hills (city), Alabama, 35216.(zip code). 2. LEASE_CONTRACT_DESCRIPTION. Lease Contract Date: April 27, 2023 Owner&#x27;s name: Mountain BAL LLC Residents (list all residents): Gary Smith The term of this Addendum is as follows: Begins on and ends on This Addendum constitutes an Addendum to the above described Lease Contract for the above described premises, and is hereby incorporated into and made a part of such Lease Contract. 3. A. :unselected: NO APPROVED ANIMALS.                                                                                                                                                                                                                                                                                                                                                                                                                                                                                                                                                                                                                                                                                                                                                                                                                                                                                                                                                                                                                                                                                                                                                                                                                                                                                                                                                                                                                                                                                                                                                                                                                                                                                                                                                                                                                        </td></tr>\n",
       "<tr><td style=\"text-align: right;\"> 14</td><td>&quot;tenant_name&quot;: &quot;Taylor Whittle&quot;, &quot;unit_address&quot;: null, &quot;unit_number&quot;: null, &quot;unit_type&quot;: null, &quot;agreement_date&quot;: &quot;2023-02-27&quot;, &quot;lease_start&quot;: &quot;2023-02-27&quot;, &quot;lease_end&quot;: null, &quot;lease_auto_renew&quot;: null, &quot;hourly_rate&quot;: null, &quot;monthly_rent&quot;: 847.0, &quot;prorated_rent&quot;: 30.25, &quot;security_deposit&quot;: null, &quot;lease_rent&quot;: 10164.0, &quot;monthly_payment_breakdown&quot;: null, &quot;utility_charges&quot;: &quot;water&quot;: 25.0, &quot;garbage&quot;: 0.0, &quot;pest_control&quot;: 2.0                                                                                                                                                                                                                                                                                                                                                                                                                                       </td><td>Month, Rent, LateFee, LateFee, TotalRent, Month, Months, Rent, TotalRent, Months, Months, Months, Months, Months, Months, Months, Months, Months, Months, Months, Months, Months, Months, Months, Months, Months, Months, Months, Months, Months, Months, Months, Months, Months, Months, Months, Months, Months, Months, Months, Months, Months, Months, Months, Months, Months, Months, Months, Months, Months, Months, Months, Months, Months, Months, Months, Months, Months, Months, Months, Months, Months, Months, Months, Months, Months, Months, Months, Months, Months, Months, Months, Months, Months, Months, Months, Months, Months, Months, Months, Months, Months, Months, Months, Months, Months, Months, Months, Months, Months, Months, Months, Months, Months, Months, Months, Months, Months, Months, Months, Months, Months, Months, Months, Months, Months, Months, Months, Months, Months, Months, Months, Months, Months, Months, Months, Months, Months, Months, Months, Months, Months, Months, Months, Months, Months, Months, Months, Months, Months, Months, Months, Months, Months, Months, Months, Months, Months, Months, Months, Months, Months, Months, Months, Months, Months, Months, Months, Months, Months, Months, Months, Months, Months, Months, Months, Months, Months, Months, Months, Months, Months, Months, Months, Months, Months, Months, Months, Months, Months,                                                                                                                                                                                                                                                                                                                                                                                                                                                                                                                                                                                                                                                                                                                                                                                                                                                                                                                                                                                              </td></tr>\n",
       "<tr><td style=\"text-align: right;\"> 15</td><td>&quot;tenant_name&quot;: null, &quot;unit_address&quot;: null, &quot;unit_number&quot;: null, &quot;unit_type&quot;: null, &quot;agreement_date&quot;: null, &quot;lease_start&quot;: null, &quot;lease_end&quot;: null, &quot;lease_auto_renew&quot;: null, &quot;hourly_rate&quot;: null, &quot;monthly_rent&quot;: null, &quot;prorated_rent&quot;: null, &quot;security_deposit&quot;: null, &quot;lease_rent&quot;: null, &quot;monthly_payment_breakdown&quot;: null, &quot;utility_charges&quot;: null                                                                                                                                                                                                                                                                                                                                                                                                                                                                                                                      </td><td>Security Deposit, Compensate, Remedy, Repair, Damage, Damages, Damages, Damages, Damages, Damages, Damages, Damages, Damages, Damages, Damages, Damages, Damages, Damages, Damages, Damages, Damages, Damages, Damages, Damages, Damages, Damages, Damages, Damages, Damages, Damages, Damages, Damages, Damages, Damages, Damages, Damages, Damages, Damages, Damages, Damages, Damages, Damages, Damages, Damages, Damages, Damages, Damages, Damages, Damages, Damages, Damages, Damages, Damages, Damages, Damages, Damages, Damages, Damages, Damages, Damages, Damages, Damages, Damages, Damages, Damages, Damages, Damages, Damages, Damages, Damages, Damages, Damages, Damages, Damages, Damages, Damages, Damages, Damages, Damages, Damages, Damages, Damages, Damages, Damages, Damages, Damages, Damages, Damages, Damages, Damages, Damages, Damages, Damages, Damages, Damages, Damages, Damages, Damages, Damages, Damages, Damages, Damages, Damages, Damages, Damages, Damages, Damages, Damages, Damages, Damages, Damages, Damages, Damages, Damages, Damages, Damages, Damages, Damages, Damages, Damages, Damages, Damages, Damages, Damages, Damages, Damages, Damages, Damages, Damages, Damages, Damages, Damages, Damages, Damages, Damages, Damages, Damages, Damages, Damages, Damages, Damages, Damages, Damages, Damages, Damages, Damages, Damages, Damages, Damages, Damages, Damages, Damages, Damages, Damages, Damages, Damages, Damages, Damages, Damages, Damages, Damages, Damages, Damages, Damages, Damages, Damages, Damages, Damages, Damages, Damages, Damage                                                                                                                                                                                                                                                                                                                                                                                                                                                                                                                                                                                                                                                                                                                                                                                                      </td></tr>\n",
       "<tr><td style=\"text-align: right;\"> 16</td><td>&quot;tenant_name&quot;: &quot;Ricquan M Moore&quot;, &quot;unit_address&quot;: null, &quot;unit_number&quot;: null, &quot;unit_type&quot;: null, &quot;agreement_date&quot;: null, &quot;lease_start&quot;: null, &quot;lease_end&quot;: null, &quot;lease_auto_renew&quot;: null, &quot;hourly_rate&quot;: null, &quot;monthly_rent&quot;: null, &quot;prorated_rent&quot;: null, &quot;security_deposit&quot;: null, &quot;lease_rent&quot;: null, &quot;monthly_payment_breakdown&quot;: null, &quot;utility_charges&quot;: null                                                                                                                                                                                                                                                                                                                                                                                                                                                                                                         </td><td>                                                                                                                                                                                                                                                                                                                                                                                                                                                                                                                                                                                                                                                                                                                                                                                                                                                                                                                                                                                                                                                                                                                                                                                                                                                                                                                                                                                                                                                                                                                                                                                                                                                                                                                                                                                                                                                                                                                                                                                                                                                                                                                                                                                                                                                                                                                                                                                                               </td></tr>\n",
       "<tr><td style=\"text-align: right;\"> 17</td><td>&quot;tenant_name&quot;: null, &quot;unit_address&quot;: null, &quot;unit_number&quot;: null, &quot;unit_type&quot;: null, &quot;agreement_date&quot;: null, &quot;lease_start&quot;: null, &quot;lease_end&quot;: null, &quot;lease_auto_renew&quot;: null, &quot;hourly_rate&quot;: null, &quot;monthly_rent&quot;: null, &quot;prorated_rent&quot;: null, &quot;security_deposit&quot;: null, &quot;lease_rent&quot;: null, &quot;monthly_payment_breakdown&quot;: null, &quot;utility_charges&quot;: null                                                                                                                                                                                                                                                                                                                                                                                                                                                                                                                      </td><td>Casualty Loss, During freezing weather, You, You, You, You, You, You, You, You, You, You, You, You, You, You, You, You, You, You, You, You, You, You, You, You, You, You, You, You, You, You, You, You, You, You, You, You, You, You, You, You, You, You, You, You, You, You, You, You, You, You, You, You, You, You, You, You, You, You, You, You, You, You, You, You, You, You, You, You, You, You, You, You, You, You, You, You, You, You, You, You, You, You, You, You, You, You, You, You, You, You, You, You, You, You, You, You, You, You, You, You, You, You, You, You, You, You, You, You, You, You, You, You, You, You, You, You, You, You, You, You, You, You, You, You, You, You, You, You, You, You, You, You, You, You, You, You, You, You, You, You, You, You, You, You, You, You, You, You, You, You, You, You, You, You, You, You, You, You, You, You, You, You, You, You, You, You, You, You, You, You, You, You, You, You, You, You, You, You, You, You, You, You, You, You, You, You, You, You, You, You, You, You, You, You, You, You, You, You, You, You, You, You, You, You, You, You, You, You, You, You, You, You, You, You, You, You, You, You, You, You, You, You, You, You, You, You, You, You, You, You, You, You, You, You, You, You, You, You, You, You, You, You, You, You, You, You, You, You, You, You, You                                                                                                                                                                                                                                                                                                                                                                                                                                                                                                                                                                                                                                                                                                                                                                                                                                                                                                                                                                                                                                                                  </td></tr>\n",
       "<tr><td style=\"text-align: right;\"> 18</td><td>&quot;tenant_name&quot;: null, &quot;unit_address&quot;: null, &quot;unit_number&quot;: null, &quot;unit_type&quot;: null, &quot;agreement_date&quot;: null, &quot;lease_start&quot;: null, &quot;lease_end&quot;: null, &quot;lease_auto_renew&quot;: null, &quot;hourly_rate&quot;: null, &quot;monthly_rent&quot;: null, &quot;prorated_rent&quot;: null, &quot;security_deposit&quot;: null, &quot;lease_rent&quot;: null, &quot;monthly_payment_breakdown&quot;: null, &quot;utility_charges&quot;: null                                                                                                                                                                                                                                                                                                                                                                                                                                                                                                                      </td><td>LESSEES_RESPONSIBILITY_AND_COSTS_TO_COVER_THE_INCOME_OF_THE_ANIMALS, if we allow an animal of any kind, you must sign a separate animal addendum, post a non-refundable animal deposit and pay pet rent in the amount to be determined by the LESSOR. We will authorize a service or companion animal for a disabled person but may require a written statement from a qualified professional verifying the need for the service animal. If you or any guest or occupant violates animal restrictions, you will be subject to charges, damages, and/or eviction, and such other remedies provided in this lease. If an animal has been in the residence at any time during your term of occupancy (with or without our consent), we&#x27;ll charge you for all necessary cleaning including but not limited to de-fleaing, deodorizing, and carpet shampooing. Initial and daily animal violation charges and animal-removal charges are liquidated damages for our inconvenience and overhead (except for attorney&#x27;s fees and litigation costs) in enforcing animal restrictions and rules. SM INITIALS LESSEE also agrees to carry insurance deemed appropriate by OWNER tBcover possible liability and damages that may be caused by such animals, if we allow an animal. SM INITIALS If the animal is creating a nuisance or damaging property, and LESSEE is unavailable or refuses to correct the problem, the LESSOR may keep of kennel the animal or turn the animal over to local animal control authorities at LESSEES expense. SM INITIALS LESSEEs are responsible for the pets of guests who visit their unit.                                                                                                                                                                                                                                                                                                                                                                                                                                                                                                                                                                                                                                                                                                                                                                                          </td></tr>\n",
       "<tr><td style=\"text-align: right;\"> 19</td><td>&quot;tenant_name&quot;: null, &quot;unit_address&quot;: null, &quot;unit_number&quot;: null, &quot;unit_type&quot;: null, &quot;agreement_date&quot;: null, &quot;lease_start&quot;: null, &quot;lease_end&quot;: null, &quot;lease_auto_renew&quot;: null, &quot;hourly_rate&quot;: null, &quot;monthly_rent&quot;: null, &quot;prorated_rent&quot;: null, &quot;security_deposit&quot;: null, &quot;lease_rent&quot;: null, &quot;monthly_payment_breakdown&quot;: null, &quot;utility_charges&quot;: null                                                                                                                                                                                                                                                                                                                                                                                                                                                                                                                      </td><td>&quot;, &quot;type&quot;: [ &quot;string&quot;, &quot;null&quot; ], &quot;description&quot;: &quot;The date when the lease ends, found in the OCR text.&quot;, &quot;lease_start&quot;:  &quot;type&quot;: [ &quot;string&quot;, &quot;null&quot; ], &quot;format&quot;: &quot;date&quot; ], &quot;description&quot;: &quot;The date when the lease starts, found in the OCR text.&quot;, &quot;lease_end&quot;:  &quot;type&quot;: [ &quot;string&quot;, &quot;null&quot; ], &quot;description&quot;: &quot;The date when the lease ends, found in the OCR text.&quot;                                                                                                                                                                                                                                                                                                                                                                                                                                                                                                                                                                                                                                                                                                                                                                                                                                                                                                                                                                                                                                                                                                                                                                                                                                                                                                                                                                                                                                                                                                                                                                                                                                                                                                                                                                                                                                                                                                                                                                                                                                           </td></tr>\n",
       "<tr><td style=\"text-align: right;\"> 20</td><td>&quot;tenant_name&quot;: null, &quot;unit_address&quot;: null, &quot;unit_number&quot;: null, &quot;unit_type&quot;: null, &quot;agreement_date&quot;: null, &quot;lease_start&quot;: null, &quot;lease_end&quot;: null, &quot;lease_auto_renew&quot;: null, &quot;hourly_rate&quot;: null, &quot;monthly_rent&quot;: null, &quot;prorated_rent&quot;: null, &quot;security_deposit&quot;: null, &quot;lease_rent&quot;: null, &quot;monthly_payment_breakdown&quot;: null, &quot;utility_charges&quot;: &quot;gas&quot;: null, &quot;water&quot;: null, &quot;sewer&quot;: null, &quot;electricity&quot;: null, &quot;waste removal&quot;: null                                                                                                                                                                                                                                                                                                                                                                                                                                     </td><td>Lessor, CRIMINAL_ACTIVITY, if, during, or its, subsequent, renewals, Lessee or any regular occupant of leased premises is charged with an offense which may result in a felony conviction or which constitutes a crime against a person, or which involves use, manufacture or distribution of illegal drugs, Lessor may at his option terminate this lease, and seek such other remedies as may be available by law. By signing this lease, tenant agrees to this policy. 32. PARKING. Tenant is permitted to park one (1) vehicle only in the parking space provided next to the apartment. This includes vehicles owned by Occupants Other Than Tenant and any visiting guests. Any vehicles found parked in front (by the door) or behind (on the grass or dirt) or in excess of one (1) in number will be towed at the vehicle owner&#x27;s expense without warning. Any damages from the result of parking in undesignated parking areas (landscaping, underground utilities including, water, sewer, electric, etc.) will be repaired at tenant expense. By signing this lease, tenant agrees to this policy.                                                                                                                                                                                                                                                                                                                                                                                                                                                                                                                                                                                                                                                                                                                                                                                                                                                                                                                                                                                                                                                                                                                                                                                                                                                                                                </td></tr>\n",
       "<tr><td style=\"text-align: right;\"> 21</td><td>&quot;tenant_name&quot;: null, &quot;unit_address&quot;: null, &quot;unit_number&quot;: null, &quot;unit_type&quot;: null, &quot;agreement_date&quot;: null, &quot;lease_start&quot;: null, &quot;lease_end&quot;: null, &quot;lease_auto_renew&quot;: null, &quot;hourly_rate&quot;: null, &quot;monthly_rent&quot;: null, &quot;prorated_rent&quot;: null, &quot;security_deposit&quot;: null, &quot;lease_rent&quot;: null, &quot;monthly_payment_breakdown&quot;: null, &quot;utility_charges&quot;: null                                                                                                                                                                                                                                                                                                                                                                                                                                                                                                                      </td><td>DAAF OLD!, EPA, United States Environmental Protection Agency, United States Consumer Product Safety Commission, DEPA, AND UR * USING L + MENT D, United States Department of Housing and Urban Development                                                                                                                                                                                                                                                                                                                                                                                                                                                                                                                                                                                                                                                                                                                                                                                                                                                                                                                                                                                                                                                                                                                                                                                                                                                                                                                                                                                                                                                                                                                                                                                                                                                                                                                                                                                                                                                                                                                                                                                                                                                                                                                                                                                                    </td></tr>\n",
       "<tr><td style=\"text-align: right;\"> 22</td><td>&quot;tenant_name&quot;: null, &quot;unit_address&quot;: null, &quot;unit_number&quot;: null, &quot;unit_type&quot;: null, &quot;agreement_date&quot;: null, &quot;lease_start&quot;: null, &quot;lease_end&quot;: null, &quot;lease_auto_renew&quot;: null, &quot;hourly_rate&quot;: null, &quot;monthly_rent&quot;: null, &quot;prorated_rent&quot;: null, &quot;security_deposit&quot;: null, &quot;lease_rent&quot;: null, &quot;monthly_payment_breakdown&quot;: null, &quot;utility_charges&quot;: null                                                                                                                                                                                                                                                                                                                                                                                                                                                                                                                      </td><td>22. NOTICE TO TENANT. THIS LEASE CONTAINS WAIVERS OF CONSUMER RIGHTS. TENANT WAIVES CERTAIN RIGHTS BY SIGNING THIS LEASE. 23. NO JURY TRIAL. Landlord and Tenant waive and give up any right to any jury trial for any claim or matter concerning this Lease or the Leased Unit. 24. BANKRUPTCY. If Tenant files a petition in bankruptcy, rent and charges will be prorated for the month in which the bankruptcy petition is filed. The rent for the remainder of that month (prorated) is due and payable within two (2) days after the filing of the petition in bankruptcy. This paragraph does not change any other rights or obligations of Tenant. 25. INCORRECT INFORMATION IN APPLICATION. If Tenant provided incorrect information in the Application, it is a breach of this Lease. Landlord may end this Lease and/or sue Tenant for possession and/or any losses or money damages if the Application contained incorrect information. 26. JOINT AND SEVERAL. Each person who signs this Lease is fully responsible to do what is stated in the Lease. Each signer is responsible to pay the rent in full. 27. NOTICE TO CO-SIGNERS/GUARANTORS. Landlord has the right but not the obligation to contact any co-signer/guarantor and/or to provide notice to any co-signer/guarantor of any breach of this Lease by Tenant. 28. ADDITIONAL RENT. All payments due under this Lease are either rent (paragraph 3) or additional rent. 29. ADDITIONAL TERMS AND CONTITIONS. The Rules and Regulations that are attached are part of this Lease. Violation of any of the &quot;Rules and Regulations&quot; is a breach of this Lease.                                                                                                                                                                                                                                                                                                                                                                                                                                                                                                                                                                                                                                                                                                                                                                          </td></tr>\n",
       "<tr><td style=\"text-align: right;\"> 23</td><td>&quot;tenant_name&quot;: null, &quot;unit_address&quot;: null, &quot;unit_number&quot;: null, &quot;unit_type&quot;: null, &quot;agreement_date&quot;: null, &quot;lease_start&quot;: &quot;2023-07-01&quot;, &quot;lease_end&quot;: &quot;2024-09-30&quot;, &quot;lease_auto_renew&quot;: &quot;12-month lease&quot;, &quot;hourly_rate&quot;: null, &quot;monthly_rent&quot;: 1400.0, &quot;prorated_rent&quot;: 46.0, &quot;security_deposit&quot;: null, &quot;lease_rent&quot;: null, &quot;monthly_payment_breakdown&quot;: null, &quot;utility_charges&quot;: &quot;utility_charge&quot;: null                                                                                                                                                                                                                                                                                                                                                                                                                                                                      </td><td>DOCUSIGNEVEL_ID: 7C1DBD69-95D2-41C3-ACDE-B64B897C3FEC Rev 10 22 persons who wish to reside on the premises must be named in this paragraph, be submitted to our screening and application process and, if over age 18, sign this lease. If any adults occupy the premises other than those listed herein, the LESSOR shall have the option of pursuing any remedies allowed by law, including terminating the lease, or increasing the rent in the amount of $ 1.400.00per additional adult. The provisions of this paragraph do not apply to the LESSEES minor children except that the total number of persons occupying the premises shall not exceed two per bedroom. (Sec. 441.060, R.S. Mo.) Upon request by the LESSOR, the LESSEE shall provide satisfactory proof of his familial relationship to other occupants of the premises or the name and address of any person visiting or temporarily residing on the premises. The LESSOR is not obliged to allow any other person access to the premises without the LESSEEs written instructions. 3. PREMISES, INITIAL TERM, AND RENEWAL. LESSOR does hereby lease to the LESSEE in its present condition the previously described premises for the initial term beginning 7/01/2023 and ending at 9/30/2024 midnight UNLESS terminated by either party in writing at least 60 days PRIOR to the expiration of the initial or successive terms. LESSEE shall deliver peaceful possession of unit to LESSOR upon termination hereof for any reason. If the LESSEE remains on the premises after the term of the lease it automatically renews into a 12-month lease and all terms of lease shall remain in effect. LESSEE must provide written notice of vacating 60 days in advance. 4. RENT, LATE CHAR                                                                                                                                                                                                                                                                                                                                                                                                                                                                                                                                                                                                                                                  </td></tr>\n",
       "<tr><td style=\"text-align: right;\"> 24</td><td>&quot;tenant_name&quot;: null, &quot;unit_address&quot;: &quot;333 H Street, Ste. 5000, Chula Vista, CA 91910&quot;, &quot;unit_number&quot;: null, &quot;unit_type&quot;: null, &quot;agreement_date&quot;: null, &quot;lease_start&quot;: null, &quot;lease_end&quot;: &quot;2024-03-31&quot;, &quot;lease_auto_renew&quot;: null, &quot;hourly_rate&quot;: null, &quot;monthly_rent&quot;: 3350.0, &quot;prorated_rent&quot;: 2121.67, &quot;security_deposit&quot;: 2500.0, &quot;lease_rent&quot;: null, &quot;monthly_payment_breakdown&quot;: &quot;Liability to Landlord Insurance&quot;: 9.5, &quot;Admin Fee - Liability to Landlord Insurance&quot;: 3.0, &quot;Rent Income&quot;: 3350.0, &quot;Total&quot;: 3362.5, &quot;utility_charges&quot;: null                                                                                                                                                                                                                                                                                                                             </td><td>MONTHLY_CHARGES, AdminFee, LiabilityToLandlord, RentIncome, Total, PRORATED_RENT, ADDITIONAL_CHARGES, LATE_CHARGE, SECURITY_DEPOSIT, PAYMENT_INSTRUCTIONS, 333H_STREET, STE. 5000, Chula Vista, CA 91910, (888)557-HEET (4338),                                                                                                                                                                                                                                                                                                                                                                                                                                                                                                                                                                                                                                                                                                                                                                                                                                                                                                                                                                                                                                                                                                                                                                                                                                                                                                                                                                                                                                                                                                                                                                                                                                                                                                                                                                                                                                                                                                                                                                                                                                                                                                                                                                                </td></tr>\n",
       "<tr><td style=\"text-align: right;\"> 25</td><td>&quot;tenant_name&quot;: &quot;Saray Ramos Gutierrez&quot;, &quot;unit_address&quot;: &quot;5010 N. 22nd Ave Phoenix 85015 Arizona&quot;, &quot;unit_number&quot;: &quot;100&quot;, &quot;unit_type&quot;: &quot;furnished unfurnished apartment&quot;, &quot;agreement_date&quot;: &quot;2021-11-01&quot;, &quot;lease_start&quot;: &quot;2021-11-01&quot;, &quot;lease_end&quot;: &quot;2022-10-31&quot;, &quot;lease_auto_renew&quot;: &quot;month-to-month&quot;, &quot;hourly_rate&quot;: null, &quot;monthly_rent&quot;: 1813.0, &quot;prorated_rent&quot;: null, &quot;security_deposit&quot;: 1300.0, &quot;lease_rent&quot;: 21756.0, &quot;monthly_payment_breakdown&quot;: &quot;Rent&quot;: 1813.0, &quot;City Sales Tax&quot;: 41.69, &quot;Utility Income (RUBS)&quot;: 100.0, &quot;TOTAL MONTHLY RENT&quot;: 1954.69, &quot;utility_charges&quot;: &quot;Natural Gas&quot;: null, &quot;Electricity&quot;: null, &quot;Water, sewer, trash&quot;: null                                                                                                                                                                                                                   </td><td>MONTHLY RENTAL OTHER CHARGES AND DEPOSIT(S) Security Deposit $ 1300 CHARGES Rent $1813.00 Pet Deposit $ n/a (Does not apply to assistance animals) Pet Rent $ or (Does not apply to assistive animals) City Sales Tax $41.69 (Applicable rate subject to change during lease term) Subtotal $ 1,854.69 Utility Income (RUBS) $ 100 or Adm. Fees $ n/a UTILITIES: Natural Gas Paid by: Resident Electricity Paid by: Resident Other WATER_, sewer, trashPaid by: Resident V (RUBS program in place, subject to change) TOTAL MONTHLY RENT $ 1.954.69 OTHER TERMS AND CONDIT                                                                                                                                                                                                                                                                                                                                                                                                                                                                                                                                                                                                                                                                                                                                                                                                                                                                                                                                                                                                                                                                                                                                                                                                                                                                                                                                                                                                                                                                                                                                                                                                                                                                                                                                                                                                                                     </td></tr>\n",
       "<tr><td style=\"text-align: right;\"> 26</td><td>&quot;tenant_name&quot;: null, &quot;unit_address&quot;: null, &quot;unit_number&quot;: null, &quot;unit_type&quot;: null, &quot;agreement_date&quot;: null, &quot;lease_start&quot;: null, &quot;lease_end&quot;: null, &quot;lease_auto_renew&quot;: null, &quot;hourly_rate&quot;: null, &quot;monthly_rent&quot;: 875.0, &quot;prorated_rent&quot;: null, &quot;security_deposit&quot;: null, &quot;lease_rent&quot;: null, &quot;monthly_payment_breakdown&quot;: &quot;Rent&quot;: 850.0, &quot;Pet Rent&quot;: 0.0, &quot;RUBS&quot;: 25.0, &quot;Parking&quot;: 0.0, &quot;utility_charges&quot;: null                                                                                                                                                                                                                                                                                                                                                                                                                                                             </td><td>OCR text&quot;                                                                                                                                                                                                                                                                                                                                                                                                                                                                                                                                                                                                                                                                                                                                                                                                                                                                                                                                                                                                                                                                                                                                                                                                                                                                                                                                                                                                                                                                                                                                                                                                                                                                                                                                                                                                                                                                                                                                                                                                                                                                                                                                                                                                                                                                                                                                                                                                      </td></tr>\n",
       "<tr><td style=\"text-align: right;\"> 27</td><td>&quot;tenant_name&quot;: null, &quot;unit_address&quot;: null, &quot;unit_number&quot;: null, &quot;unit_type&quot;: null, &quot;agreement_date&quot;: null, &quot;lease_start&quot;: null, &quot;lease_end&quot;: null, &quot;lease_auto_renew&quot;: null, &quot;hourly_rate&quot;: null, &quot;monthly_rent&quot;: 2074.0, &quot;prorated_rent&quot;: 1404.97, &quot;security_deposit&quot;: null, &quot;lease_rent&quot;: null, &quot;monthly_payment_breakdown&quot;: null, &quot;utility_charges&quot;: null                                                                                                                                                                                                                                                                                                                                                                                                                                                                                                                 </td><td>Any security deposit or advance rent you paid is being held in one of the following three ways as indicated below [Landlord check one option]: X                                                                                                                                                                                                                                                                                                                                                                                                                                                                                                                                                                                                                                                                                                                                                                                                                                                                                                                                                                                                                                                                                                                                                                                                                                                                                                                                                                                                                                                                                                                                                                                                                                                                                                                                                                                                                                                                                                                                                                                                                                                                                                                                                                                                                                                               </td></tr>\n",
       "<tr><td style=\"text-align: right;\"> 28</td><td>&quot;tenant_name&quot;: null, &quot;unit_address&quot;: null, &quot;unit_number&quot;: null, &quot;unit_type&quot;: null, &quot;agreement_date&quot;: null, &quot;lease_start&quot;: &quot;2023-07-25&quot;, &quot;lease_end&quot;: &quot;2024-08-31&quot;, &quot;lease_auto_renew&quot;: &quot;12-month lease&quot;, &quot;hourly_rate&quot;: null, &quot;monthly_rent&quot;: 1200.0, &quot;prorated_rent&quot;: 288.0, &quot;security_deposit&quot;: null, &quot;lease_rent&quot;: 15750.0, &quot;monthly_payment_breakdown&quot;: &quot;rent&quot;: 1200.0, &quot;community charge&quot;: 75.0, &quot;utility_charges&quot;: null                                                                                                                                                                                                                                                                                                                                                                                                                                                </td><td>DOCUSIGNEVEL_ID: 060DFDED-7A8C-48F3-88ED-4B88F3943AD4 Rev 10 22 persons who wish to reside on the premises must be named in this paragraph, be submitted to our screening and application process and, if over age 18, sign this lease. If any adults occupy the premises other than those listed herein, the LESSOR shall have the option of pursuing any remedies allowed by law, including terminating the lease, or increasing the rent in the amount of $ 1200.00 per additional adult. The provisions of this paragraph do not apply to the LESSEES minor children except that the total number of persons occupying the premises shall not exceed two per bedroom. (Sec. 441.060, R.S. Mo.) Upon request by the LESSOR, the LESSEE shall provide satisfactory proof of his familial relationship to other occupants of the premises or the name and address of any person visiting or temporarily residing on the premises. The LESSOR is not obliged to allow any other person access to the premises without the LESSEEs written instructions. 3. PREMISES, INITIAL TERM, AND RENEWAL. LESSOR does hereby lease to the LESSEE in its present condition the previously described premises for the initial term beginning 7/25/2023 and ending at 8/31/2024 midnight UNLESS terminated by either party in writing at least 60 days PRIOR to the expiration of the initial or successive terms. LESSEE shall deliver peaceful possession of unit to LESSOR upon termination hereof for any reason. If the LESSEE remains on the premises after the term of the lease it automatically renews into a 12-month lease and all terms of lease shall remain in effect. LESSEE must provide written notice of vacating 60 days in advance. 4. RENT, LATE CHARGES AND                                                                                                                                                                                                                                                                                                                                                                                                                                                                                                                                                                                                                                           </td></tr>\n",
       "<tr><td style=\"text-align: right;\"> 29</td><td>&quot;tenant_name&quot;: &quot;Alisher Rakhmonov&quot;, &quot;unit_address&quot;: null, &quot;unit_number&quot;: null, &quot;unit_type&quot;: null, &quot;agreement_date&quot;: null, &quot;lease_start&quot;: &quot;2022-03-27&quot;, &quot;lease_end&quot;: &quot;2037-03-27&quot;, &quot;lease_auto_renew&quot;: null, &quot;hourly_rate&quot;: null, &quot;monthly_rent&quot;: null, &quot;prorated_rent&quot;: null, &quot;security_deposit&quot;: null, &quot;lease_rent&quot;: null, &quot;monthly_payment_breakdown&quot;: null, &quot;utility_charges&quot;: null                                                                                                                                                                                                                                                                                                                                                                                                                                                                                       </td><td>Ocean Drive  421-A PROVIDES THAT THE APARTMENT WILL BE SUBJECT TO THE RSL FOR FIFTEEN (15) YEARS, AND, UNLESS THE PRESENT LAWS ARE CHANGED, THE APARTMENT WILL ALSO BE SUBJECT TO STANDARD RENT INCREASES ON LEASE RENEWALS DURING SAID FIFTEEN (15) YEAR PERIOD, AS APPROVED BY THE RENT GUIDELINES BOARD. ANY INCREASES GRANTED BY THE RENT GUIDELINES BOARD SHALL BE MADE TO THE RENT SHOWN IN THE ORIGINAL LEASE OR THE MOST RECENT LEASE RENEWAL NOTICE AS APPLICABLE. OWNER IN GOOD FAITH BELIEVES THAT THE  421-A TAX BENEFITS WILL EXPIRE ON OR ABOUT JUNE 30, 2035. AFTER SUCH DATE, THE APARTMENT WILL NOT BE REGULATED AS TO THE AMOUNT OF RENT THAT MAY BE CHARGED FOR THE APARTMENT NOR WILL THE OWNER BE LEGALLY OBLIGATED TO RENEW THE LEASE. IF THE OWNER SHOULD ELECT TO RENEW THE LEASE AT THAT TIME, THE OWNER WILL NOT BE LEGALLY BOUND BY ANY GOVERNMENTAL RENT GUIDELINES AND MAY CHARGE AN UNREGULATED RENT. TENANT ACKNOWLEDGES THAT HE OR SHE HAS BEEN INFORMED OF OWNER&#x27;S RIGHT TO INCLUDE THIS PROVISION IN THE LEASE. II. YOUR CONFIRMATION                                                                                                                                                                                                                                                                                                                                                                                                                                                                                                                                                                                                                                                                                                                                                                                                                                                                                                                                                                                                                                                                                                                                                                                                                                                                                                                                        </td></tr>\n",
       "<tr><td style=\"text-align: right;\"> 30</td><td>&quot;tenant_name&quot;: null, &quot;unit_address&quot;: &quot;8230 Monroe Dr.&quot;, &quot;unit_number&quot;: &quot;B&quot;, &quot;unit_type&quot;: null, &quot;agreement_date&quot;: null, &quot;lease_start&quot;: null, &quot;lease_end&quot;: null, &quot;lease_auto_renew&quot;: null, &quot;hourly_rate&quot;: null, &quot;monthly_rent&quot;: null, &quot;prorated_rent&quot;: null, &quot;security_deposit&quot;: 525.0, &quot;lease_rent&quot;: null, &quot;monthly_payment_breakdown&quot;: null, &quot;utility_charges&quot;: null                                                                                                                                                                                                                                                                                                                                                                                                                                                                                                         </td><td>INTIALS BM DS 6.                                                                                                                                                                                                                                                                                                                                                                                                                                                                                                                                                                                                                                                                                                                                                                                                                                                                                                                                                                                                                                                                                                                                                                                                                                                                                                                                                                                                                                                                                                                                                                                                                                                                                                                                                                                                                                                                                                                                                                                                                                                                                                                                                                                                                                                                                                                                                                                               </td></tr>\n",
       "<tr><td style=\"text-align: right;\"> 31</td><td>&quot;tenant_name&quot;: &quot;Ricquan Moore&quot;, &quot;unit_address&quot;: &quot;7608 Pinery Way, Tampa, FL 33615&quot;, &quot;unit_number&quot;: &quot;02H&quot;, &quot;unit_type&quot;: null, &quot;agreement_date&quot;: &quot;2023-04-18&quot;, &quot;lease_start&quot;: &quot;2023-04-28&quot;, &quot;lease_end&quot;: &quot;2024-04-27&quot;, &quot;lease_auto_renew&quot;: &quot;month-to-month&quot;, &quot;hourly_rate&quot;: null, &quot;monthly_rent&quot;: null, &quot;prorated_rent&quot;: null, &quot;security_deposit&quot;: null, &quot;lease_rent&quot;: null, &quot;monthly_payment_breakdown&quot;: null, &quot;utility_charges&quot;: null                                                                                                                                                                                                                                                                                                                                                                                                                                        </td><td>1. PARTIES. Ricquan Moore and us, the owner: Meridian Luxury Condominiums (name of apartment community or title holder). You&#x27;ve agreed to rent Apartment No. 02H at 7608 PINERY WAY (street address) in Tampa (city), Florida,.... 33615.(zip code) (the &quot;dwelling unit&quot; or the &quot;premises&quot;) for use as a private residence only. The terms &quot;you&quot; and &quot;your&quot; refer to all residents listed above. The terms &quot;we,&quot; &quot;us,&quot; and &quot;our&quot; refer to the owner listed above (or any of owner&#x27;s successors&#x27; in interest or assigns). Written or electronic notice to or from our managers constitutes notice to or from us. If anyone else has guaranteed performance of this Lease Contract, a separate Lease Contract Guaranty for each guarantor is attached. The :unselected: Owner or X Manager of these apartments is LPC :selected: Southeast I, Inc. whose address is 7605 Pinery Way, Tampa, FL 33615 Such person or company is authorized to receive notices and demands in the landlord&#x27;s behalf. A lease termination notice must be given in writing. Notice to the landlord must be delivered to the management office at the apartment community or any other address designated by management as follows: 7605 Pinery Way, Tampa, FL 33615 Notice to the tenant must be delivered to the Resident&#x27;s address                                                                                                                                                                                                                                                                                                                                                                                                                                                                                                                                                                                                                                                                                                                                                                                                                                                                                                                                                                                                                                                                                                 </td></tr>\n",
       "<tr><td style=\"text-align: right;\"> 32</td><td>&quot;tenant_name&quot;: null, &quot;unit_address&quot;: null, &quot;unit_number&quot;: null, &quot;unit_type&quot;: null, &quot;agreement_date&quot;: null, &quot;lease_start&quot;: null, &quot;lease_end&quot;: null, &quot;lease_auto_renew&quot;: null, &quot;hourly_rate&quot;: null, &quot;monthly_rent&quot;: null, &quot;prorated_rent&quot;: null, &quot;security_deposit&quot;: null, &quot;lease_rent&quot;: null, &quot;monthly_payment_breakdown&quot;: null, &quot;utility_charges&quot;: null                                                                                                                                                                                                                                                                                                                                                                                                                                                                                                                      </td><td>Tenant, Smoking, Smoking of tobacco and/or other legal substances, Smoking of illegal substance, Smoking of tobacco and/or other legal substances, Smoking of tobacco and/or other legal substances, Smoking of tobacco and/or other legal substances, Smoking of tobacco and/or other legal substances, Smoking of tobacco and/or other legal substances, Smoking of tobacco and/or other legal substances, Smoking of tobacco and/or other legal substances, Smoking of tobacco and/or other legal substances, Smoking of tobacco and/or other legal substances, Smoking of tobacco and/or other legal substances, Smoking of tobacco and/or other legal substances, Smoking of tobacco and/or other legal substances, Smoking of tobacco and/or other legal substances, Smoking of tobacco and/or other legal substances, Smoking of tobacco and/or other legal substances, Smoking of tobacco and/or other legal substances, Smoking of tobacco and/or other legal substances, Smoking of tobacco and/or other legal substances, Smoking of tobacco and/or other legal substances, Smoking of tobacco and/or other legal substances, Smoking of tobacco and/or other legal substances, Smoking of tobacco and/or other legal substances, Smoking of tobacco and/or other legal substances, Smoking of tobacco and/or other legal substances, Smoking of tobacco and/or other legal substances, Smoking of tobacco and/or other legal substances, Smoking of tobacco and/or other legal substances, Smoking of tobacco and/or other legal substances, Smoking of tobacco and/or other legal substances, Smoking of tobacco and/or other legal substances, Smoking of tobacco and/or other legal substances, Smoking of tobacco and/or other legal substances, Smoking of tobacco and/or other legal substances, Smoking of tobacco and/or other legal substances, Smoking of tobacco and/or other legal substances, Smoking of tobacco and/or other legal substances, Smoking of tobacco and/or other legal substances, Smoking of tobacco and/or other legal substances, Smoking of tobacco and/or other legal substances, Smoking of tobacco and/or other legal substances, Smoking of tobacco and/or other legal substances, Smoking of tobacco and/or other legal substances, Smoking of tobacco and/or other legal substances, Smoking of tobacco and/or other legal substances, Smoking of tobacco and</td></tr>\n",
       "<tr><td style=\"text-align: right;\"> 33</td><td>&quot;tenant_name&quot;: null, &quot;unit_address&quot;: null, &quot;unit_number&quot;: null, &quot;unit_type&quot;: null, &quot;agreement_date&quot;: null, &quot;lease_start&quot;: null, &quot;lease_end&quot;: null, &quot;lease_auto_renew&quot;: null, &quot;hourly_rate&quot;: null, &quot;monthly_rent&quot;: null, &quot;prorated_rent&quot;: null, &quot;security_deposit&quot;: null, &quot;lease_rent&quot;: null, &quot;monthly_payment_breakdown&quot;: null, &quot;utility_charges&quot;: null                                                                                                                                                                                                                                                                                                                                                                                                                                                                                                                      </td><td>LESSEES_ARE_RESPONSIBLE                                                                                                                                                                                                                                                                                                                                                                                                                                                                                                                                                                                                                                                                                                                                                                                                                                                                                                                                                                                                                                                                                                                                                                                                                                                                                                                                                                                                                                                                                                                                                                                                                                                                                                                                                                                                                                                                                                                                                                                                                                                                                                                                                                                                                                                                                                                                                                                        </td></tr>\n",
       "<tr><td style=\"text-align: right;\"> 34</td><td>&quot;tenant_name&quot;: &quot;Peter Mendes&quot;, &quot;unit_address&quot;: null, &quot;unit_number&quot;: null, &quot;unit_type&quot;: null, &quot;agreement_date&quot;: null, &quot;lease_start&quot;: null, &quot;lease_end&quot;: null, &quot;lease_auto_renew&quot;: null, &quot;hourly_rate&quot;: null, &quot;monthly_rent&quot;: null, &quot;prorated_rent&quot;: null, &quot;security_deposit&quot;: null, &quot;lease_rent&quot;: null, &quot;monthly_payment_breakdown&quot;: null, &quot;utility_charges&quot;: null                                                                                                                                                                                                                                                                                                                                                                                                                                                                                                            </td><td>Casualty Loss, RESIDENT, GUEST, OR OCCUPIENT, PERSONAL_INJURY, PERSONAL_PROPERTY, PERSONAL_INJURY, PERSONAL_PROPERTY, PERSONAL_INJURY, PERSONAL_PROPERTY, PERSONAL_PROPERTY, PERSONAL_PROPERTY, PERSONAL_PROPERTY, PERSONAL_PROPERTY, PERSONAL_PROPERTY, PERSONAL_PROPERTY, PERSONAL_PROPERTY, PERSONAL_PROPERTY, PERSONAL_PROPERTY, PERSONAL_PROPERTY, PERSONAL_PROPERTY, PERSONAL_PROPERTY, PERSONAL_PROPERTY, PERSONAL_PROPERTY, PERSONAL_PROPERTY, PERSONAL_PROPERTY, PERSONAL_PROPERTY, PERSONAL_PROPERTY, PERSONAL_PROPERTY, PERSONAL_PROPERTY, PERSONAL_PROPERTY, PERSONAL_PROPERTY, PERSONAL_PROPERTY, PERSONAL_PROPERTY, PERSONAL_PROPERTY, PERSONAL_PROPERTY, PERSONAL_PROPERTY, PERSONAL_PROPERTY, PERSONAL_PROPERTY, PERSONAL_PROPERTY, PERSONAL_PROPERTY, PERSONAL_PROPERTY, PERSONAL_PROPERTY, PERSONAL_PROPERTY, PERSONAL_PROPERTY, PERSONAL_PROPERTY, PERSONAL_PROPERTY, PERSONAL_PROPERTY, PERSONAL_PROPERTY, PERSONAL_PROPERTY, PERSONAL_PROPERTY, PERSONAL_PROPERTY, PERSONAL_PROPERTY, PERSONAL_PROPERTY, PERSONAL_PROPERTY, PERSONAL_PROPERTY, PERSONAL_PROPERTY, PERSONAL_PROPERTY,                                                                                                                                                                                                                                                                                                                                                                                                                                                                                                                                                                                                                                                                                                                                                                                                                                                                                                                                                                                                                                                                                                                                                                                                                                                                                                      </td></tr>\n",
       "<tr><td style=\"text-align: right;\"> 35</td><td>&quot;tenant_name&quot;: null, &quot;unit_address&quot;: null, &quot;unit_number&quot;: null, &quot;unit_type&quot;: null, &quot;agreement_date&quot;: null, &quot;lease_start&quot;: null, &quot;lease_end&quot;: null, &quot;lease_auto_renew&quot;: null, &quot;hourly_rate&quot;: null, &quot;monthly_rent&quot;: null, &quot;prorated_rent&quot;: null, &quot;security_deposit&quot;: null, &quot;lease_rent&quot;: null, &quot;monthly_payment_breakdown&quot;: null, &quot;utility_charges&quot;: null                                                                                                                                                                                                                                                                                                                                                                                                                                                                                                                      </td><td>Procedures for Replacement,  Responsibillitetf Owner and Resident,  Responsibillitetf Owner and Resident,  Responsibillitetf Owner and Resident,  Responsibillitetf Owner and Resident,  Responsibillitetf Owner and Resident,  Responsibillitetf Owner and Resident,  Responsibillitetf Owner and Resident,  Responsibillitetf Owner and Resident,  Responsibillitetf Owner and Resident,  Responsibillitetf Owner and Resident,  Responsibillitetf Owner and Resident,  Responsibillitetf Owner and Resident,  Responsibillitetf Owner and Resident,  Responsibillitetf Owner and Resident,  Responsibillitetf Owner and Resident,  Responsibillitetf Owner and Resident,  Responsibillitetf Owner and Resident,  Responsibillitetf Owner and Resident,  Responsibillitetf Owner and Resident,  Responsibillitetf Owner and Resident,  Responsibillitetf Owner and Resident,  Responsibillitetf Owner and Resident,  Responsibillitetf Owner and Resident,  Responsibillitetf Owner and Resident,  Responsibillitetf Owner and Resident,  Responsibillitetf Owner and Resident,  Responsibillitetf Owner and Resident,  Responsibillitetf Owner and Resident,  Responsibillitetf Owner and Resident,  Responsibillitetf Owner and Resident,  Responsibillitetf Owner and Resident,  Responsibillitetf Owner and Resident,  Responsibillitetf Owner and Resident,  Responsibillitetf Owner and Resident,  Responsibillitetf Owner and Resident,  Responsibillitetf Owner and Resident,                                                                                                                                                                                                                                                                                                                                                                                                                                                                                                                                                                                                                                                                                                                                                                                                                                                                                                                        </td></tr>\n",
       "<tr><td style=\"text-align: right;\"> 36</td><td>&quot;tenant_name&quot;: &quot;Cameron Maxwell&quot;, &quot;unit_address&quot;: &quot;107 Shoal Run Trail, Birmingham, Alabama, 35242&quot;, &quot;unit_number&quot;: &quot;0107&quot;, &quot;unit_type&quot;: null, &quot;agreement_date&quot;: &quot;2023-03-03&quot;, &quot;lease_start&quot;: &quot;2023-03-07&quot;, &quot;lease_end&quot;: &quot;2024-05-06&quot;, &quot;lease_auto_renew&quot;: &quot;month-to-month&quot;, &quot;hourly_rate&quot;: null, &quot;monthly_rent&quot;: 1076.0, &quot;prorated_rent&quot;: 867.74, &quot;security_deposit&quot;: 1111.0, &quot;lease_rent&quot;: 13988.0, &quot;monthly_payment_breakdown&quot;: null, &quot;utility_charges&quot;: null                                                                                                                                                                                                                                                                                                                                                                                                             </td><td>by, Cameron Maxwell, Trisha Maxwell, Madalyn Carbonie, Madison BAL LLC, ApartmentNo., 0107, 1stMonth, 2ndMonth, 107 Shoal Run Trail, Birmingham, Alabama, 35242                                                                                                                                                                                                                                                                                                                                                                                                                                                                                                                                                                                                                                                                                                                                                                                                                                                                                                                                                                                                                                                                                                                                                                                                                                                                                                                                                                                                                                                                                                                                                                                                                                                                                                                                                                                                                                                                                                                                                                                                                                                                                                                                                                                                                                                </td></tr>\n",
       "<tr><td style=\"text-align: right;\"> 37</td><td>&quot;tenant_name&quot;: null, &quot;unit_address&quot;: null, &quot;unit_number&quot;: null, &quot;unit_type&quot;: null, &quot;agreement_date&quot;: null, &quot;lease_start&quot;: null, &quot;lease_end&quot;: null, &quot;lease_auto_renew&quot;: null, &quot;hourly_rate&quot;: null, &quot;monthly_rent&quot;: null, &quot;prorated_rent&quot;: null, &quot;security_deposit&quot;: null, &quot;lease_rent&quot;: null, &quot;monthly_payment_breakdown&quot;: null, &quot;utility_charges&quot;: null                                                                                                                                                                                                                                                                                                                                                                                                                                                                                                                      </td><td>INSTRUCTIONS TO OWN TOR                                                                                                                                                                                                                                                                                                                                                                                                                                                                                                                                                                                                                                                                                                                                                                                                                                                                                                                                                                                                                                                                                                                                                                                                                                                                                                                                                                                                                                                                                                                                                                                                                                                                                                                                                                                                                                                                                                                                                                                                                                                                                                                                                                                                                                                                                                                                                                                        </td></tr>\n",
       "<tr><td style=\"text-align: right;\"> 38</td><td>&quot;tenant_name&quot;: &quot;Novy Jezkova&quot;, &quot;unit_address&quot;: &quot;2501 Mountain Lodge Circle, Vestavia Hills, Alabama, 35216&quot;, &quot;unit_number&quot;: &quot;2501E&quot;, &quot;unit_type&quot;: null, &quot;agreement_date&quot;: &quot;2023-05-25&quot;, &quot;lease_start&quot;: null, &quot;lease_end&quot;: null, &quot;lease_auto_renew&quot;: null, &quot;hourly_rate&quot;: null, &quot;monthly_rent&quot;: null, &quot;prorated_rent&quot;: null, &quot;security_deposit&quot;: null, &quot;lease_rent&quot;: null, &quot;monthly_payment_breakdown&quot;: null, &quot;utility_charges&quot;: null                                                                                                                                                                                                                                                                                                                                                                                                                                         </td><td>1. DWELLING_UNIT_DESCRIPTION. Unit No. 2501E 2501 Mountain Lodge Circle (street address) in Vestavia Hills (city), Alabama, 35216 (zip code). 2. LEASE_CONTRACT_DESCRIPTION. Lease Contract Date: May 25, 2023 Owner&#x27;s name: Mountain BAL LLC Residents (list all residents): Novy Jezkova The term of this Addendum is as follows: Begins on and ends on This Addendum constitutes an Addendum to the above described Lease Contract for the above described premises, and is hereby incorporated into and made a part of such Lease Contract. 3. A. :unselected: NO APPROVED ANIMALS.                                                                                                                                                                                                                                                                                                                                                                                                                                                                                                                                                                                                                                                                                                                                                                                                                                                                                                                                                                                                                                                                                                                                                                                                                                                                                                                                                                                                                                                                                                                                                                                                                                                                                                                                                                                                                        </td></tr>\n",
       "<tr><td style=\"text-align: right;\"> 39</td><td>&quot;tenant_name&quot;: null, &quot;unit_address&quot;: null, &quot;unit_number&quot;: null, &quot;unit_type&quot;: null, &quot;agreement_date&quot;: &quot;2021-11-01&quot;, &quot;lease_start&quot;: null, &quot;lease_end&quot;: null, &quot;lease_auto_renew&quot;: null, &quot;hourly_rate&quot;: null, &quot;monthly_rent&quot;: null, &quot;prorated_rent&quot;: null, &quot;security_deposit&quot;: null, &quot;lease_rent&quot;: null, &quot;monthly_payment_breakdown&quot;: null, &quot;utility_charges&quot;: null                                                                                                                                                                                                                                                                                                                                                                                                                                                                                                              </td><td>COMMUNITY RULES AND REGULATIONS, GARBAGE, PARKING/ VEHICLES, GARBAGE, GARBAGE, PARKING/ VEHICLES, GARBAGE, GARBAGE, PARKING/ VEHICLES, GARBAGE, GARBAGE, PARKING/ VEHICLES, GARBAGE, GARBAGE, PARKING/ VEHICLES, GARBAGE, GARBAGE, PARKING/ VEHICLES, GARBAGE, GARBAGE, PARKING/ VEHICLES, GARBAGE, GARBAGE, PARKING/ VEHICLES, GARBAGE, GARBAGE, PARKING/ VEHICLES, GARBAGE, GARBAGE, PARKING/ VEHICLES, GARBAGE, GARBAGE, PARKING/ VEHICLES, GARBAGE, GARBAGE, PARKING/ VEHICLES, GARBAGE, GARBAGE, PARKING/ VEHICLES, GARBAGE, GARBAGE, PARKING/ VEHICLES, GARBAGE, GARBAGE, PARKING/ VEHICLES, GARBAGE, GARBAGE, PARKING/ VEHICLES, GARBAGE, GARBAGE, PARKING/ VEHICLES, GARBAGE, GARBAGE, PARKING/ VEHICLES, GARBAGE, GARBAGE, PARKING/ VEHICLES, GARBAGE, GARBAGE, PARKING/ VEHICLES, GARBAGE, GARBAGE, PARKING/ VEHICLES, GARBAGE, GARBAGE, PARKING/ VEHICLES, GARBAGE, GARBAGE, PARKING/ VEHICLES, GARBAGE, GARBAGE, PARKING/ VEHICLES, GARBAGE, GARBAGE, PARKING/ VEHICLES, GARBAGE, GARBAGE, PARKING/ VEHICLES, GARBAGE,                                                                                                                                                                                                                                                                                                                                                                                                                                                                                                                                                                                                                                                                                                                                                                                                                                                                                                                                                                                                                                                                                                                                                                                                                                                                                                                                                                             </td></tr>\n",
       "<tr><td style=\"text-align: right;\"> 40</td><td>&quot;tenant_name&quot;: null, &quot;unit_address&quot;: null, &quot;unit_number&quot;: null, &quot;unit_type&quot;: null, &quot;agreement_date&quot;: null, &quot;lease_start&quot;: null, &quot;lease_end&quot;: null, &quot;lease_auto_renew&quot;: null, &quot;hourly_rate&quot;: null, &quot;monthly_rent&quot;: null, &quot;prorated_rent&quot;: null, &quot;security_deposit&quot;: null, &quot;lease_rent&quot;: null, &quot;monthly_payment_breakdown&quot;: null, &quot;utility_charges&quot;: &quot;Gas&quot;: null, &quot;Electricity&quot;: null, &quot;Water&quot;: 0, &quot;Sewer&quot;: 0, &quot;Trash&quot;: 0, &quot;Cable&quot;: 0                                                                                                                                                                                                                                                                                                                                                                                                                                          </td><td>UTILITY/ SERVICE UTILITY&#x27;S CUSTOMER OF RECORD CHARGED TO RESIDENT? UTILITY/ SERVICE UTILITY&#x27;S CUSTOMER OF RECORD CHARGED TO RESIDENT? CALCULATION METHOD FOR CHARGES TO RESIDENT COMMON AREAS Gas :unselected: Landlord X :selected: Resident :selected: Yes :selected: No :selected: Direct billing from utility :selected: Sub-metering :selected: None - Landlord expense Are separately metered and are not charged to Resident Electricity :unselected: Landlord :selected: Resident :selected: Yes :selected: No :selected: Direct billing from utility :selected: Sub-metering :selected: None - Landlord expense Are separately metered and are not charged to Resident Water :unselected: Landlord :selected: Resident :selected: Yes :selected: No :selected: Direct billing from utility :selected: Formula (All water related charges assessed to the Landlord may be used to calculate the amount charged to each Resident. These may include, but not limited to, water related charges contained on tax bills, and all charges contained on utility bills received from the local water providers.) :unselected: Authorized occupant method :unselected: Sub-metering :unselected: Flat fee of $0.00 per month :selected: None - Landlord expense :selected: Are separately metered and are not charged to Resident :selected: Are not separately metered ]                                                                                                                                                                                                                                                                                                                                                                                                                                                                                                                                                                                                                                                                                                                                                                                                                                                                                                                                                                                                                                     </td></tr>\n",
       "<tr><td style=\"text-align: right;\"> 41</td><td>&quot;tenant_name&quot;: &quot;Cameron Maxwell&quot;, &quot;unit_address&quot;: &quot;107 Shoal Run Trail, Birmingham, Alabama, 35242&quot;, &quot;unit_number&quot;: &quot;0107&quot;, &quot;unit_type&quot;: null, &quot;agreement_date&quot;: &quot;2023-03-03&quot;, &quot;lease_start&quot;: null, &quot;lease_end&quot;: null, &quot;lease_auto_renew&quot;: null, &quot;hourly_rate&quot;: null, &quot;monthly_rent&quot;: null, &quot;prorated_rent&quot;: null, &quot;security_deposit&quot;: null, &quot;lease_rent&quot;: null, &quot;monthly_payment_breakdown&quot;: null, &quot;utility_charges&quot;: null                                                                                                                                                                                                                                                                                                                                                                                                                                                  </td><td>DWELLING_UNIT_DESCRIPTION, LEASE_CONTRACT_DATE, RESIDENT&#x27;S_NAME, RESIDENT&#x27;S_PHONE, RESIDENT&#x27;S_WORK_PHONE, RESIDENT&#x27;S_HOME_PHONE, RESIDENT&#x27;S_WORK_PHONE, RESIDENT&#x27;S_HOME_PHONE, RESIDENT&#x27;S_WORK_PHONE, RESIDENT&#x27;S_HOME_PHONE, RESIDENT&#x27;S_WORK_PHONE, RESIDENT&#x27;S_HOME_PHONE, RESIDENT&#x27;S_WORK_PHONE, RESIDENT&#x27;S_HOME_PHONE, RESIDENT&#x27;S_WORK_PHONE, RESIDENT&#x27;S_WORK_PHONE, RESIDENT&#x27;S_WORK_PHONE, RESIDENT&#x27;S_WORK_PHONE, RESIDENT&#x27;S_WORK_PHONE, RESIDENT&#x27;S_WORK_PHONE, RESIDENT&#x27;S_WORK_PHONE, RESIDENT&#x27;S_WORK_PHONE, RESIDENT&#x27;S_WORK_PHONE, RESIDENT&#x27;S_WORK_PHONE, RESIDENT&#x27;S_WORK_PHONE, RESIDENT&#x27;S_WORK_PHONE, RESIDENT&#x27;S_WORK_PHONE, RESIDENT&#x27;S_WORK_PHONE, RESIDENT&#x27;S_WORK_PHONE, RESIDENT&#x27;S_WORK_PHONE, RESIDENT&#x27;S_WORK_PHONE, RESIDENT&#x27;S_WORK_PHONE, RESIDENT&#x27;S_WORK_PHONE, RESIDENT&#x27;S_WORK_PHONE, RESIDENT&#x27;S_WORK_PHONE, RESIDENT&#x27;S_WORK_PHONE, RESIDENT&#x27;S_WORK_PHONE, RESIDENT&#x27;S_WORK_PHONE, RESIDENT&#x27;S_WORK_PHONE, RESIDENT&#x27;S_WORK_PHONE, RESIDENT&#x27;S_WORK_PHONE, RESIDENT&#x27;S_WORK_PHONE, RESIDENT&#x27;S_WORK                                                                                                                                                                                                                                                                                                                                                                                                                                                                                                                                                                                                                                                                                                                                                                                                                                                                                                                                                                                                                                                                                                                                                                                                                                                                                                                                                                                                   </td></tr>\n",
       "<tr><td style=\"text-align: right;\"> 42</td><td>&quot;tenant_name&quot;: &quot;Samantha Putlak&quot;, &quot;unit_address&quot;: &quot;304 Stanhope St.&quot;, &quot;unit_number&quot;: &quot;#2L&quot;, &quot;unit_type&quot;: null, &quot;agreement_date&quot;: null, &quot;lease_start&quot;: &quot;2023-08-01&quot;, &quot;lease_end&quot;: &quot;2024-07-31&quot;, &quot;lease_auto_renew&quot;: null, &quot;hourly_rate&quot;: null, &quot;monthly_rent&quot;: 2800, &quot;prorated_rent&quot;: null, &quot;security_deposit&quot;: 2800, &quot;lease_rent&quot;: 33600, &quot;monthly_payment_breakdown&quot;: null, &quot;utility_charges&quot;: null                                                                                                                                                                                                                                                                                                                                                                                                                                                                         </td><td>TERM: 12 Months MONTHLY_RENT: $2,800 BEGINNING: 8/1/2023 MONTHLY_RENT: $2,800 SECURITY_DEPOSIT: $2,800 TERM: 12 Months MONTHLY_RENT: $2,800 BEGINNING: 8/1/2023 MONTHLY_RENT: $2,800 SECURITY_DEPOSIT: $2,800 TERM: 12 Months MONTHLY_RENT: $2,800 BEGINNING: 8/1/2023 MONTHLY_RENT: $2,800 SECURITY_DEPOSIT: $2,800                                                                                                                                                                                                                                                                                                                                                                                                                                                                                                                                                                                                                                                                                                                                                                                                                                                                                                                                                                                                                                                                                                                                                                                                                                                                                                                                                                                                                                                                                                                                                                                                                                                                                                                                                                                                                                                                                                                                                                                                                                                                                           </td></tr>\n",
       "<tr><td style=\"text-align: right;\"> 43</td><td>&quot;tenant_name&quot;: null, &quot;unit_address&quot;: null, &quot;unit_number&quot;: null, &quot;unit_type&quot;: null, &quot;agreement_date&quot;: null, &quot;lease_start&quot;: null, &quot;lease_end&quot;: null, &quot;lease_auto_renew&quot;: null, &quot;hourly_rate&quot;: null, &quot;monthly_rent&quot;: null, &quot;prorated_rent&quot;: null, &quot;security_deposit&quot;: null, &quot;lease_rent&quot;: null, &quot;monthly_payment_breakdown&quot;: null, &quot;utility_charges&quot;: null                                                                                                                                                                                                                                                                                                                                                                                                                                                                                                                      </td><td>Apartment, Term, Term_Start, Term_End, Term_Start, Term_End, Term_Start, Term_End, Term_Start, Term_End, Term_Start, Term_Start, Term_End, Term_Start, Term_Start, Term_End, Term_Start, Term_Start, Term_End, Term_Start, Term_End, Term_Start, Term_End, Term_Start, Term_End, Term_Start, Term_End, Term_Start, Term_End, Term_Start, Term_End, Term_Start, Term_End, Term_Start, Term_End, Term_Start, Term_End, Term_Start, Term_End, Term_Start, Term_End, Term_Start, Term_End, Term_Start, Term_Start, Term_End, Term_Start, Term_End, Term_Start, Term_End, Term_Start, Term_Start, Term_End, Term_Start, Term_End, Term_Start, Term_End, Term_Start, Term_Start, Term_End, Term_Start, Term_End, Term_Start, Term_End, Term_Start, Term_Start, Term_End, Term_Start, Term_End, Term_Start, Term_Start, Term_End, Term_Start, Term_End, Term_Start, Term_Start, Term_End, Term_Start, Term_End, Term_Start, Term_Start, Term_End, Term_Start, Term_Start, Term_End, Term_Start, Term_                                                                                                                                                                                                                                                                                                                                                                                                                                                                                                                                                                                                                                                                                                                                                                                                                                                                                                                                                                                                                                                                                                                                                                                                                                                                                                                                                                                                                 </td></tr>\n",
       "<tr><td style=\"text-align: right;\"> 44</td><td>&quot;tenant_name&quot;: &quot;Ricquan M Moore Clona Berry&quot;, &quot;unit_address&quot;: null, &quot;unit_number&quot;: null, &quot;unit_type&quot;: null, &quot;agreement_date&quot;: null, &quot;lease_start&quot;: null, &quot;lease_end&quot;: null, &quot;lease_auto_renew&quot;: null, &quot;hourly_rate&quot;: null, &quot;monthly_rent&quot;: null, &quot;prorated_rent&quot;: null, &quot;security_deposit&quot;: null, &quot;lease_rent&quot;: null, &quot;monthly_payment_breakdown&quot;: null, &quot;utility_charges&quot;: null                                                                                                                                                                                                                                                                                                                                                                                                                                                                                             </td><td>us, you will be liable to us and others for any loss, actual damages, fines imposed by any state or local agencies or municipalities, attorney fees and costs. Casualty Loss. We&#x27;re not liable to any resident, guest, or occupant for personal injury or damage or loss of personal property from any cause, including but not limited to: fire, smoke, rain, flood, water and pipe leaks, hail, ice, snow, lightning, wind, explosions, earthquake, interruption of utilities, theft, or vandalism unless otherwise required by law. We have no duty to remove any ice, water, sleet, or snow but may remove any amount with or without notice. During freezing weather, you must ensure that the temperature in the apartment is sufficient to make sure that the pipes do not freeze (the appropriate temperature will depend upon weather conditions and the size and layout of your unit). If the pipes freeze or any other damage is caused by your failure to properly maintain the heat in your apartment, you&#x27;ll be liable for damage to our and other&#x27;s property. If you ask our representatives to perform services not contemplated in this Lease Contract, you will indemnify us and hold us harmless from all liability for those services. Crime or Emergency. Dial 911 or immediately call local medical emergency, fire, or police personnel in case of accident, fire, smoke, or suspected criminal activity or other emergency involving imminent harm. You should then contact our representative. Unless otherwise provided by law, we&#x27;re not liable to you or any guests or occupants for injury, damage, or loss to person or property caused by criminal conduct of other persons, including theft, burglary, assault, vandalism, or other crimes. If we provide any access control devices or security measures upon the property,                                                                                                                                                                                                                                                                                                                                                                                                                                                                                                                                                   </td></tr>\n",
       "<tr><td style=\"text-align: right;\"> 45</td><td>&quot;tenant_name&quot;: null, &quot;unit_address&quot;: null, &quot;unit_number&quot;: null, &quot;unit_type&quot;: null, &quot;agreement_date&quot;: null, &quot;lease_start&quot;: null, &quot;lease_end&quot;: null, &quot;lease_auto_renew&quot;: null, &quot;hourly_rate&quot;: null, &quot;monthly_rent&quot;: null, &quot;prorated_rent&quot;: null, &quot;security_deposit&quot;: null, &quot;lease_rent&quot;: null, &quot;monthly_payment_breakdown&quot;: null, &quot;utility_charges&quot;: null                                                                                                                                                                                                                                                                                                                                                                                                                                                                                                                      </td><td>COMMUNITY POLICIES OR RULES                                                                                                                                                                                                                                                                                                                                                                                                                                                                                                                                                                                                                                                                                                                                                                                                                                                                                                                                                                                                                                                                                                                                                                                                                                                                                                                                                                                                                                                                                                                                                                                                                                                                                                                                                                                                                                                                                                                                                                                                                                                                                                                                                                                                                                                                                                                                                                                    </td></tr>\n",
       "<tr><td style=\"text-align: right;\"> 46</td><td>&quot;tenant_name&quot;: null, &quot;unit_address&quot;: null, &quot;unit_number&quot;: null, &quot;unit_type&quot;: null, &quot;agreement_date&quot;: null, &quot;lease_start&quot;: null, &quot;lease_end&quot;: null, &quot;lease_auto_renew&quot;: null, &quot;hourly_rate&quot;: null, &quot;monthly_rent&quot;: null, &quot;prorated_rent&quot;: null, &quot;security_deposit&quot;: null, &quot;lease_rent&quot;: null, &quot;monthly_payment_breakdown&quot;: null, &quot;utility_charges&quot;: null                                                                                                                                                                                                                                                                                                                                                                                                                                                                                                                      </td><td>General Clauses                                                                                                                                                                                                                                                                                                                                                                                                                                                                                                                                                                                                                                                                                                                                                                                                                                                                                                                                                                                                                                                                                                                                                                                                                                                                                                                                                                                                                                                                                                                                                                                                                                                                                                                                                                                                                                                                                                                                                                                                                                                                                                                                                                                                                                                                                                                                                                                                </td></tr>\n",
       "<tr><td style=\"text-align: right;\"> 47</td><td>&quot;tenant_name&quot;: null, &quot;unit_address&quot;: null, &quot;unit_number&quot;: null, &quot;unit_type&quot;: null, &quot;agreement_date&quot;: &quot;2023-02-25&quot;, &quot;lease_start&quot;: null, &quot;lease_end&quot;: null, &quot;lease_auto_renew&quot;: &quot;month-to-month&quot;, &quot;hourly_rate&quot;: null, &quot;monthly_rent&quot;: null, &quot;prorated_rent&quot;: null, &quot;security_deposit&quot;: null, &quot;lease_rent&quot;: null, &quot;monthly_payment_breakdown&quot;: null, &quot;utility_charges&quot;: null                                                                                                                                                                                                                                                                                                                                                                                                                                                                                                  </td><td>15. REPRESENTATIONS IN RENTAL APPLICATION., FINANCIAL RESPONSIBILITY, NOTICES, MILITARY.                                                                                                                                                                                                                                                                                                                                                                                                                                                                                                                                                                                                                                                                                                                                                                                                                                                                                                                                                                                                                                                                                                                                                                                                                                                                                                                                                                                                                                                                                                                                                                                                                                                                                                                                                                                                                                                                                                                                                                                                                                                                                                                                                                                                                                                                                                                       </td></tr>\n",
       "<tr><td style=\"text-align: right;\"> 48</td><td>&quot;tenant_name&quot;: null, &quot;unit_address&quot;: null, &quot;unit_number&quot;: null, &quot;unit_type&quot;: null, &quot;agreement_date&quot;: null, &quot;lease_start&quot;: &quot;2023-02-25&quot;, &quot;lease_end&quot;: null, &quot;lease_auto_renew&quot;: null, &quot;hourly_rate&quot;: null, &quot;monthly_rent&quot;: null, &quot;prorated_rent&quot;: null, &quot;security_deposit&quot;: null, &quot;lease_rent&quot;: null, &quot;monthly_payment_breakdown&quot;: null, &quot;utility_charges&quot;: null                                                                                                                                                                                                                                                                                                                                                                                                                                                                                                              </td><td>C. Returned Checks. Landlord reserves the right to require that all monthly installments be made by money order, or certified funds, and to impose a service charge of $35.00 on Tenant(s) for returned private party checks. D. Tenant Web Access. TWA provides the ability to pay your rent online and access/update your account information. To create an account, go to: https://hthproperties.com/portals 1. Click TENANTWebACCESS 2. On the Tenant Login screen, click Sign Up. 3. Enter your account number: 6227 4. Enter your email address.5. Create a username and password and click continue. While logged into TWA, click the tabs at the top of the page to: make a payment, display your transaction history, view open charge, or change your password/update personal info. Please contact the office at (540) 777-3711 to update your email if unsure or it does not verify during registration. To set up Auto Pay (Auto Pay Rent Online)-Login to TWA, Click the GEAR or drop-down menu (top right corner), Select Saved Payment Information, Click EDIT button at bottom of page, Enter ACCOUNT TYPE then other detailed information and SAVE. select Enable Automatic Payments and choose desired day, type, and amount. check the &quot;please be advised... &quot; button and select SAVE AUTO PAYMENT SETTINGS. NOTE: a convenience fee will be charged. ($2.95) fee) when using your bank account information or ($2.95+                                                                                                                                                                                                                                                                                                                                                                                                                                                                                                                                                                                                                                                                                                                                                                                                                                                                                                                                                                     </td></tr>\n",
       "<tr><td style=\"text-align: right;\"> 49</td><td>&quot;tenant_name&quot;: null, &quot;unit_address&quot;: null, &quot;unit_number&quot;: null, &quot;unit_type&quot;: null, &quot;agreement_date&quot;: null, &quot;lease_start&quot;: null, &quot;lease_end&quot;: null, &quot;lease_auto_renew&quot;: null, &quot;hourly_rate&quot;: null, &quot;monthly_rent&quot;: null, &quot;prorated_rent&quot;: null, &quot;security_deposit&quot;: null, &quot;lease_rent&quot;: null, &quot;monthly_payment_breakdown&quot;: null, &quot;utility_charges&quot;: null                                                                                                                                                                                                                                                                                                                                                                                                                                                                                                                      </td><td>22. WAIVING_OF_BREACH_NOT_GENERAL_WAIVER. If Landlord waives a noncompliance or breach by Tenant(s) with the Lease Agreement, or with the law, such waiver shall not be interpreted as a waiver of any subsequent breach of noncompliance or breach, and this Lease Agreement shall continue in full force and effect. 23. SUBORDINATION. Tenant(s) agree that this Lease Agreement is subordinate to the lien of any existing or future deeds of trust or mortgages placed on the premises, and Tenant(s) agree to execute whatever additional agreements may be required to so subordinate this Lease Agreement. Landlord reserves the right to assign any of Landlord&#x27;s rights under this Lease Agreement at any time. 24. SEVERABILITY. If any provisions of this Lease Agreement are violation of the law or equity, it is agreed that the remaining provisions are in full force and effect. 25. DISCRIMINATION. Landlord does not discriminate against Tenant(s) in the provision of services, or in any other manner, on the basis of race, color, religion, sex, national origin, familial status, elderliness, or handicap. 26. REASONABLE ATTORNEY&#x27;S FEES/COSTS OF COLLECTION. For purposes of this Lease Agreement, if Tenant(s)&#x27; noncompliance with the Lease Agreement, of the law, causes Landlord to employ                                                                                                                                                                                                                                                                                                                                                                                                                                                                                                                                                                                                                                                                                                                                                                                                                                                                                                                                                                                                                                                                                    </td></tr>\n",
       "<tr><td style=\"text-align: right;\"> 50</td><td>&quot;tenant_name&quot;: &quot;Alejandro Gu00f3mez Munoz&quot;, &quot;unit_address&quot;: &quot;6009 Antoine Dr #6009-A, Houston, TX 77088&quot;, &quot;unit_number&quot;: &quot;6009-A&quot;, &quot;unit_type&quot;: null, &quot;agreement_date&quot;: &quot;2022-10-24&quot;, &quot;lease_start&quot;: null, &quot;lease_end&quot;: null, &quot;lease_auto_renew&quot;: null, &quot;hourly_rate&quot;: null, &quot;monthly_rent&quot;: null, &quot;prorated_rent&quot;: null, &quot;security_deposit&quot;: null, &quot;lease_rent&quot;: null, &quot;monthly_payment_breakdown&quot;: null, &quot;utility_charges&quot;: null                                                                                                                                                                                                                                                                                                                                                                                                                                           </td><td>For More Information                                                                                                                                                                                                                                                                                                                                                                                                                                                                                                                                                                                                                                                                                                                                                                                                                                                                                                                                                                                                                                                                                                                                                                                                                                                                                                                                                                                                                                                                                                                                                                                                                                                                                                                                                                                                                                                                                                                                                                                                                                                                                                                                                                                                                                                                                                                                                                                           </td></tr>\n",
       "<tr><td style=\"text-align: right;\"> 51</td><td>&quot;tenant_name&quot;: &quot;Peter Mendes&quot;, &quot;unit_address&quot;: null, &quot;unit_number&quot;: null, &quot;unit_type&quot;: null, &quot;agreement_date&quot;: null, &quot;lease_start&quot;: &quot;2022-10-01&quot;, &quot;lease_end&quot;: null, &quot;lease_auto_renew&quot;: null, &quot;hourly_rate&quot;: null, &quot;monthly_rent&quot;: 1758.0, &quot;prorated_rent&quot;: 0.0, &quot;security_deposit&quot;: null, &quot;lease_rent&quot;: null, &quot;monthly_payment_breakdown&quot;: null, &quot;utility_charges&quot;: null                                                                                                                                                                                                                                                                                                                                                                                                                                                                                                   </td><td>X                                                                                                                                                                                                                                                                                                                                                                                                                                                                                                                                                                                                                                                                                                                                                                                                                                                                                                                                                                                                                                                                                                                                                                                                                                                                                                                                                                                                                                                                                                                                                                                                                                                                                                                                                                                                                                                                                                                                                                                                                                                                                                                                                                                                                                                                                                                                                                                                              </td></tr>\n",
       "<tr><td style=\"text-align: right;\"> 52</td><td>&quot;tenant_name&quot;: null, &quot;unit_address&quot;: null, &quot;unit_number&quot;: null, &quot;unit_type&quot;: null, &quot;agreement_date&quot;: null, &quot;lease_start&quot;: null, &quot;lease_end&quot;: null, &quot;lease_auto_renew&quot;: null, &quot;hourly_rate&quot;: null, &quot;monthly_rent&quot;: null, &quot;prorated_rent&quot;: null, &quot;security_deposit&quot;: null, &quot;lease_rent&quot;: null, &quot;monthly_payment_breakdown&quot;: null, &quot;utility_charges&quot;: null                                                                                                                                                                                                                                                                                                                                                                                                                                                                                                                      </td><td>ACCESS BY LESSOR                                                                                                                                                                                                                                                                                                                                                                                                                                                                                                                                                                                                                                                                                                                                                                                                                                                                                                                                                                                                                                                                                                                                                                                                                                                                                                                                                                                                                                                                                                                                                                                                                                                                                                                                                                                                                                                                                                                                                                                                                                                                                                                                                                                                                                                                                                                                                                                               </td></tr>\n",
       "<tr><td style=\"text-align: right;\"> 53</td><td>&quot;tenant_name&quot;: null, &quot;unit_address&quot;: null, &quot;unit_number&quot;: null, &quot;unit_type&quot;: null, &quot;agreement_date&quot;: null, &quot;lease_start&quot;: null, &quot;lease_end&quot;: null, &quot;lease_auto_renew&quot;: null, &quot;hourly_rate&quot;: null, &quot;monthly_rent&quot;: null, &quot;prorated_rent&quot;: null, &quot;security_deposit&quot;: null, &quot;lease_rent&quot;: null, &quot;monthly_payment_breakdown&quot;: null, &quot;utility_charges&quot;: null                                                                                                                                                                                                                                                                                                                                                                                                                                                                                                                      </td><td>Procedures for Replacement,  Responsibillitetf Owner and Resident,  Responsibillitetf Owner and Resident,  Responsibillitetf Owner and Resident,  Responsibillitetf Owner and Resident,  Responsibillitetf Owner and Resident,  Responsibillitetf Owner and Resident,  Responsibillitetf Owner and Resident,  Responsibillitetf Owner and Resident,  Responsibillitetf Owner and Resident,  Responsibillitetf Owner and Resident,  Responsibillitetf Owner and Resident,  Responsibillitetf Owner and Resident,  Responsibillitetf Owner and Resident,  Responsibillitetf Owner and Resident,  Responsibillitetf Owner and Resident,  Responsibillitetf Owner and Resident,  Responsibillitetf Owner and Resident,  Responsibillitetf Owner and Resident,  Responsibillitetf Owner and Resident,  Responsibillitetf Owner and Resident,  Responsibillitetf Owner and Resident,  Responsibillitetf Owner and Resident,  Responsibillitetf Owner and Resident,  Responsibillitetf Owner and Resident,  Responsibillitetf Owner and Resident,  Responsibillitetf Owner and Resident,  Responsibillitetf Owner and Resident,  Responsibillitetf Owner and Resident,  Responsibillitetf Owner and Resident,  Responsibillitetf Owner and Resident,  Responsibillitetf Owner and Resident,  Responsibillitetf Owner and Resident,  Responsibillitetf Owner and Resident,  Responsibillitetf Owner and Resident,  Responsibillitetf Owner and Resident,  Responsibillitetf Owner and Resident,                                                                                                                                                                                                                                                                                                                                                                                                                                                                                                                                                                                                                                                                                                                                                                                                                                                                                                                        </td></tr>\n",
       "<tr><td style=\"text-align: right;\"> 54</td><td>&quot;tenant_name&quot;: &quot;HOGAR INC.&quot;, &quot;unit_address&quot;: &quot;12 EAST 196&quot;, &quot;unit_number&quot;: &quot;1A&quot;, &quot;unit_type&quot;: null, &quot;agreement_date&quot;: &quot;2022-11-17&quot;, &quot;lease_start&quot;: &quot;2023-02-01&quot;, &quot;lease_end&quot;: &quot;2024-01-31&quot;, &quot;lease_auto_renew&quot;: null, &quot;hourly_rate&quot;: null, &quot;monthly_rent&quot;: 1695.71, &quot;prorated_rent&quot;: null, &quot;security_deposit&quot;: 1626.1, &quot;lease_rent&quot;: 20348.52, &quot;monthly_payment_breakdown&quot;: &quot;1 year renewal&quot;: 1695.71, &quot;2 year renewal&quot;: 1724.45, &quot;utility_charges&quot;: &quot;Air conditioner&quot;: 0.0, &quot;Appliances&quot;: 0.0, &quot;421a (2.2%)&quot;: 0.0, &quot;Other&quot;: 0.0                                                                                                                                                                                                                                                                                                                                             </td><td>1. The owner hereby notifies you that your lease will expire on: 01/31/23 2. You may renew this lease, for one or two years, at your option, as follows: Column A Renewal Term Column B Legal Rent on Sept.30th Preceding Commencement Date of this Renewal Lease Column C Guideline % or Minimum $ Amount (If unknown, check box and see below)* :unselected: Column D Applicable Guideline Supplement, if any Column E Lawful Rent Increase, if any, Effective after Sept. 30th Column F New Legal Rent (If a lower rent is to be charged, check box and sce item 5 below) :selected: 1 Year $ 1,72.01 ( 3.25 %) $ 57.59 $ 0.00 S 0.00 $ 1.829.60 2 Years Same as 1 Year                                                                                                                                                                                                                                                                                                                                                                                                                                                                                                                                                                                                                                                                                                                                                                                                                                                                                                                                                                                                                                                                                                                                                                                                                                                                                                                                                                                                                                                                                                                                                                                                                                                                                                                                     </td></tr>\n",
       "<tr><td style=\"text-align: right;\"> 55</td><td>&quot;tenant_name&quot;: null, &quot;unit_address&quot;: null, &quot;unit_number&quot;: null, &quot;unit_type&quot;: null, &quot;agreement_date&quot;: null, &quot;lease_start&quot;: null, &quot;lease_end&quot;: null, &quot;lease_auto_renew&quot;: null, &quot;hourly_rate&quot;: null, &quot;monthly_rent&quot;: null, &quot;prorated_rent&quot;: null, &quot;security_deposit&quot;: null, &quot;lease_rent&quot;: null, &quot;monthly_payment_breakdown&quot;: null, &quot;utility_charges&quot;: null                                                                                                                                                                                                                                                                                                                                                                                                                                                                                                                      </td><td>RESPONSIBILITIES OF OWNER, RESPONSIBILITIES OF OWNER, RESPONSIBILITIES OF OWNER, RESPONSIBILITIES OF OWNER, RESPONSIBILITIES OF OWNER, RESPONSIBILITIES OF OWNER, RESPONSIBILITIES OF OWNER, RESPONSIBILITIES OF OWNER, RESPONSIBILITIES OF OWNER, RESPONSIBILITIES OF OWNER, RESPONSIBILITIES OF OWNER, RESPONSIBILITIES OF OWNER, RESPONSIBILITIES OF OWNER, RESPONSIBILITIES OF OWNER, RESPONSIBILITIES OF OWNER, RESPONSIBILITIES OF OWNER, RESPONSIBILITIES OF OWNER, RESPONSIBILITIES OF OWNER, RESPONSIBILITIES OF OWNER, RESPONSIBILITIES OF OWNER, RESPONSIBILITIES OF OWNER, RESPONSIBILITIES OF OWNER, RESPONSIBILITIES OF OWNER, RESPONSIBILITIES OF OWNER, RESPONSIBILITIES OF OWNER, RESPONSIBILITIES OF OWNER, RESPONSIBILITIES OF OWNER, RESPONSIBILITIES OF OWNER, RESPONSIBILITIES OF OWNER, RESPONSIBILITIES OF OWNER, RESPONSIBILITIES OF OWNER, RESPONSIBILITIES OF OWNER, RESPONSIBILITIES OF OWNER, RESPONSIBILITIES OF OWNER, RESPONSIBILITIES OF OWNER, RESPONSIBILITIES OF OWNER, RESPONSIBILIT                                                                                                                                                                                                                                                                                                                                                                                                                                                                                                                                                                                                                                                                                                                                                                                                                                                                                                                                                                                                                                                                                                                                                                                                                                                                                                                                                                                      </td></tr>\n",
       "<tr><td style=\"text-align: right;\"> 56</td><td>&quot;tenant_name&quot;: &quot;Novy Jezkova&quot;, &quot;unit_address&quot;: &quot;2501 Mountain Lodge Circle, Vestavia Hills, Alabama, 35216&quot;, &quot;unit_number&quot;: &quot;2501E&quot;, &quot;unit_type&quot;: null, &quot;agreement_date&quot;: &quot;2023-05-25&quot;, &quot;lease_start&quot;: &quot;2023-05-25&quot;, &quot;lease_end&quot;: null, &quot;lease_auto_renew&quot;: &quot;month to month&quot;, &quot;hourly_rate&quot;: null, &quot;monthly_rent&quot;: null, &quot;prorated_rent&quot;: null, &quot;security_deposit&quot;: null, &quot;lease_rent&quot;: null, &quot;monthly_payment_breakdown&quot;: null, &quot;utility_charges&quot;: null                                                                                                                                                                                                                                                                                                                                                                                                                     </td><td>DWELLING_UNIT_DESCRIPTION, GUEST, LEASE_END_DATE, GUEST, LEASE_ABANDONMENT, GUEST, LEASE_ABANDONMENT, GUEST, GUEST, GUEST, GUEST, GUEST, GUEST, GUEST, GUEST, GUEST, GUEST, GUEST, GUEST, GUEST, GUEST, GUEST, GUEST, GUEST, GUEST, GUEST, GUEST, GUEST, GUEST, GUEST, GUEST, GUEST, GUEST, GUEST, GUEST, GUEST, GUEST, GUEST, GUEST, GUEST, GUEST, GUEST, GUEST, GUEST, GUEST, GUEST, GUEST, GUEST, GUEST, GUEST, GUEST, GUEST, GUEST, GUEST, GUEST, GUEST, GUEST, GUEST, GUEST, GUEST, GUEST, GUEST, GUEST, GUEST, GUEST, GUEST, GUEST, GUEST, GUEST, GUEST, GUEST, GUEST, GUEST, GUEST, GUEST, GUEST, GUEST, GUEST, GUEST, GUEST, GUEST, GUEST, GUEST, GUEST, GUEST, GUEST, GUEST, GUEST, GUEST, GUEST, GUEST, GUEST, GUEST, GUEST, GUEST, GUEST, GUEST, GUEST, GUEST, GUEST, GUEST, GUEST, GUEST, GUEST, GUEST, GUEST, GUEST, GUEST, GUEST, GUEST, GUEST, GUEST, GUEST, GUEST, GUEST, GUEST, GUEST, GUEST, GUEST, GUEST, GUEST, GUEST, GUEST                                                                                                                                                                                                                                                                                                                                                                                                                                                                                                                                                                                                                                                                                                                                                                                                                                                                                                                                                                                                                                                                                                                                                                                                                                                                                                                                                                                                                                                               </td></tr>\n",
       "<tr><td style=\"text-align: right;\"> 57</td><td>&quot;tenant_name&quot;: &quot;Zoev Medina&quot;, &quot;unit_address&quot;: &quot;8030 E Lakeside Parkway, Tucson, AZ 85730&quot;, &quot;unit_number&quot;: &quot;01102&quot;, &quot;unit_type&quot;: &quot;unfurnished apartment&quot;, &quot;agreement_date&quot;: &quot;2023-03-06&quot;, &quot;lease_start&quot;: &quot;2023-03-06&quot;, &quot;lease_end&quot;: &quot;2023-09-05&quot;, &quot;lease_auto_renew&quot;: &quot;month-to-month&quot;, &quot;hourly_rate&quot;: null, &quot;monthly_rent&quot;: 993.7, &quot;prorated_rent&quot;: null, &quot;security_deposit&quot;: 500.0, &quot;lease_rent&quot;: 5962.2, &quot;monthly_payment_breakdown&quot;: &quot;Rent&quot;: 1046.0, &quot;Pet Rent&quot;: 0.0, &quot;Parking Rent, Garage, Storage&quot;: 0.0, &quot;Water, Sewer, and Trash Charge&quot;: 0.0, &quot;Furniture &amp; Utility Package&quot;: 0.0, &quot;Other Charges&quot;: 0.0, &quot;Other Discounts&quot;: -52.3, &quot;Subtotal&quot;: 993.7, &quot;City Sales Tax&quot;: &quot;N/A&quot;, &quot;TOTAL MONTHLY RENT&quot;: 993.7, &quot;utility_charges&quot;: &quot;Electricity&quot;: &quot;Paid By: Lessee&quot;, &quot;Water, sewer &amp; trash charges&quot;: &quot;Paid By: Lessee&quot;, &quot;Other: Telephone, Cable, etc.&quot;: &quot;Paid By: Lessee&quot;</td><td>1. LEASE TERM: The initial term of the Lease Contract beginning March 06, 2023 and ending at midnight on September 05, 2023 (Initial Term) for an unfurnished apartment and Lessee(s) shall pay rent, tax, charges and deposits as set forth below. This Lease will automatically renew month-to-month unless either party gives at least sixty (60) days written notice of termination or intent                                                                                                                                                                                                                                                                                                                                                                                                                                                                                                                                                                                                                                                                                                                                                                                                                                                                                                                                                                                                                                                                                                                                                                                                                                                                                                                                                                                                                                                                                                                                                                                                                                                                                                                                                                                                                                                                                                                                                                                                              </td></tr>\n",
       "<tr><td style=\"text-align: right;\"> 58</td><td>&quot;tenant_name&quot;: null, &quot;unit_address&quot;: null, &quot;unit_number&quot;: null, &quot;unit_type&quot;: null, &quot;agreement_date&quot;: null, &quot;lease_start&quot;: null, &quot;lease_end&quot;: null, &quot;lease_auto_renew&quot;: null, &quot;hourly_rate&quot;: null, &quot;monthly_rent&quot;: null, &quot;prorated_rent&quot;: null, &quot;security_deposit&quot;: null, &quot;lease_rent&quot;: null, &quot;monthly_payment_breakdown&quot;: null, &quot;utility_charges&quot;: null                                                                                                                                                                                                                                                                                                                                                                                                                                                                                                                      </td><td>&quot;, &quot;type&quot;: [ &quot;string&quot;, &quot;null&quot; ], &quot;description&quot;: &quot;The date when the lease ends, found in the OCR text.&quot;, &quot;lease_start&quot;:  &quot;type&quot;: [ &quot;string&quot;, &quot;null&quot; ], &quot;format&quot;: &quot;date&quot; ], &quot;description&quot;: &quot;The date when the lease starts, found in the OCR text.&quot;, &quot;lease_end&quot;:  &quot;type&quot;: [ &quot;string&quot;, &quot;null&quot; ], &quot;description&quot;: &quot;The date when the lease ends, found in the OCR text.&quot;                                                                                                                                                                                                                                                                                                                                                                                                                                                                                                                                                                                                                                                                                                                                                                                                                                                                                                                                                                                                                                                                                                                                                                                                                                                                                                                                                                                                                                                                                                                                                                                                                                                                                                                                                                                                                                                                                                                                                                                                                                           </td></tr>\n",
       "<tr><td style=\"text-align: right;\"> 59</td><td>&quot;tenant_name&quot;: &quot;Trevor J. Breed&quot;, &quot;unit_address&quot;: &quot;2640 Woodridge Ct, Placerville, CA 95667&quot;, &quot;unit_number&quot;: &quot;24&quot;, &quot;unit_type&quot;: null, &quot;agreement_date&quot;: &quot;2023-08-07&quot;, &quot;lease_start&quot;: null, &quot;lease_end&quot;: null, &quot;lease_auto_renew&quot;: null, &quot;hourly_rate&quot;: null, &quot;monthly_rent&quot;: null, &quot;prorated_rent&quot;: null, &quot;security_deposit&quot;: null, &quot;lease_rent&quot;: null, &quot;monthly_payment_breakdown&quot;: null, &quot;utility_charges&quot;: null                                                                                                                                                                                                                                                                                                                                                                                                                                                           </td><td>Tenant                                                                                                                                                                                                                                                                                                                                                                                                                                                                                                                                                                                                                                                                                                                                                                                                                                                                                                                                                                                                                                                                                                                                                                                                                                                                                                                                                                                                                                                                                                                                                                                                                                                                                                                                                                                                                                                                                                                                                                                                                                                                                                                                                                                                                                                                                                                                                                                                         </td></tr>\n",
       "<tr><td style=\"text-align: right;\"> 60</td><td>&quot;tenant_name&quot;: &quot;Leobouchereau&quot;, &quot;unit_address&quot;: null, &quot;unit_number&quot;: null, &quot;unit_type&quot;: null, &quot;agreement_date&quot;: &quot;2022-12-03&quot;, &quot;lease_start&quot;: null, &quot;lease_end&quot;: null, &quot;lease_auto_renew&quot;: null, &quot;hourly_rate&quot;: null, &quot;monthly_rent&quot;: null, &quot;prorated_rent&quot;: null, &quot;security_deposit&quot;: null, &quot;lease_rent&quot;: null, &quot;monthly_payment_breakdown&quot;: null, &quot;utility_charges&quot;: null                                                                                                                                                                                                                                                                                                                                                                                                                                                                                                   </td><td>13.7, Off-Limit Areas, Swimming-pool Areas, Laundry Rooms, Offices, Clubrooms, Other Recreational Facilities, or other dwelling units besides your own, except that search and rescue dogs shall be allowed to use areas of the property ac- cessible to the general public, such as the leasing office, Cer- tain service animals in training shall also be allowed to use those areas when accompanied by an approved trainer. 13.8 Food &amp; Water. Your animal must be fed and given water in- side the dwelling unit. You may not leave animal food or water outside the dwelling unit at any time, except in fenced yards (if any) for your exclusive use. 13.9 Leash. You must keep the animal on a leash and under your su- pervision when outside the dwelling or in any private fenced area. We or our representative may pick up unleashed animals, report them to the proper authorities, or do both. We&#x27;ll charge you a rea- sonable fee for picking up and keeping unleashed animals. 13.10Animal Waste. Unless we have designated a particular area in your dwelling unit or on the grounds for animal defecation and urination, you are prohibited from letting an animal defecate or urinate anywhere on our property and you must take the animal off our property for that purpose. If we allow animal defeca- tion inside the unit, you must ensure that it&#x27;s done in a litter box with a kitty-litter-type mix. If the animal defecates anywhere on our property (including in a fenced yard for your exclusive use), you must immediately remove the waste and repair any damage. In addition to the terms of this addendum, you must comply with all local                                                                                                                                                                                                                                                                                                                                                                                                                                                                                                                                                                                                                                                                                                                                 </td></tr>\n",
       "<tr><td style=\"text-align: right;\"> 61</td><td>&quot;tenant_name&quot;: &quot;Peter Mendes Tony Diag&quot;, &quot;unit_address&quot;: null, &quot;unit_number&quot;: null, &quot;unit_type&quot;: null, &quot;agreement_date&quot;: null, &quot;lease_start&quot;: null, &quot;lease_end&quot;: null, &quot;lease_auto_renew&quot;: null, &quot;hourly_rate&quot;: null, &quot;monthly_rent&quot;: null, &quot;prorated_rent&quot;: null, &quot;security_deposit&quot;: null, &quot;lease_rent&quot;: null, &quot;monthly_payment_breakdown&quot;: null, &quot;utility_charges&quot;: null                                                                                                                                                                                                                                                                                                                                                                                                                                                                                                  </td><td>,,,,,,,,,,,,,,,,,,,,,,,,,,,,,,,,,,,,,,,,,,,,,,,,,,,,,,,,,,,,,,,,,,,,,,,,,,,,,,,,,,,,,,,,,,,,,,,,,,,,,,,,,,,,,,,,,,,,,,,,,,,,,,,,,,,,,,,,,,,,,,,,,,,,,,,,,,,,,,,,,,,,,,,,,,                                                                                                                                                                                                                                                                                                                                                                                                                                                                                                                                                                                                                                                                                                                                                                                                                                                                                                                                                                                                                                                                                                                                                                                                                                                                                                                                                                                                                                                                                                                                                                                                                                                                                                                                                                                                                                                                                                                                                                                                                                                                                                                                                                                                                                     </td></tr>\n",
       "<tr><td style=\"text-align: right;\"> 62</td><td>&quot;tenant_name&quot;: &quot;Mariam M. Shamoun&quot;, &quot;unit_address&quot;: &quot;939 East Washington Ave&quot;, &quot;unit_number&quot;: null, &quot;unit_type&quot;: &quot;2 Bed / 1 Bath, 800 sq. ft.&quot;, &quot;agreement_date&quot;: &quot;2016-02-02&quot;, &quot;lease_start&quot;: &quot;2016-02-04&quot;, &quot;lease_end&quot;: null, &quot;lease_auto_renew&quot;: &quot;month-to-month&quot;, &quot;hourly_rate&quot;: null, &quot;monthly_rent&quot;: 1350.0, &quot;prorated_rent&quot;: null, &quot;security_deposit&quot;: 500.0, &quot;lease_rent&quot;: null, &quot;monthly_payment_breakdown&quot;: null, &quot;utility_charges&quot;: null                                                                                                                                                                                                                                                                                                                                                                                                                          </td><td>Initial, Last): Mariam M. Shamoun NAME (First, Middle Initial, Last): Youland S. Yalda NAME (First, Middle Initial, Last): LIST OF ALL OCCUPANTS (Do not list any Residents from above): NAME (First, Middle Initial, Last): DATE OF BIRTH: NAME (First, Middle Initial, Last): DATE OF BIRTH: NAME (First, Middle Initial, Last):                                                                                                                                                                                                                                                                                                                                                                                                                                                                                                                                                                                                                                                                                                                                                                                                                                                                                                                                                                                                                                                                                                                                                                                                                                                                                                                                                                                                                                                                                                                                                                                                                                                                                                                                                                                                                                                                                                                                                                                                                                                                             </td></tr>\n",
       "<tr><td style=\"text-align: right;\"> 63</td><td>&quot;tenant_name&quot;: &quot;Leobouchereau&quot;, &quot;unit_address&quot;: null, &quot;unit_number&quot;: null, &quot;unit_type&quot;: null, &quot;agreement_date&quot;: &quot;2022-12-03&quot;, &quot;lease_start&quot;: null, &quot;lease_end&quot;: null, &quot;lease_auto_renew&quot;: &quot;Expired leases will automatically renew on a month-to-month basis at market rate plus a $250.00 month-to-month fee unless a lease renewal is fully executed.&quot;, &quot;hourly_rate&quot;: null, &quot;monthly_rent&quot;: 1250.0, &quot;prorated_rent&quot;: null, &quot;security_deposit&quot;: null, &quot;lease_rent&quot;: null, &quot;monthly_payment_breakdown&quot;: &quot;Total Monthly Payment&quot;: 1250.0, &quot;pet rent&quot;: null, &quot;reserved parking&quot;: null, &quot;utility_charges&quot;: null                                                                                                                                                                                                                                                                </td><td>26.2., Move-Out Inspection, Our, but, but are not obligated to, provide a joint move-out inspection, Our, but, but are not obligated to, provide a joint move-out inspection, Our, but, but are not obligated to, provide a joint move-out inspection, Our, but, but are not obligated to, provide a joint move-out inspection, Our, but, but are not obligated to, provide a joint move-out inspection, Our, but, but are not obligated to, provide a joint move-out inspection, Our, but, but are not obligated to, provide a joint move-out inspection, Our, but, but are not obligated to, provide a joint move-out inspection, Our, but, but are not obligated to, provide a joint move-out inspection, Our, but, but are not obligated to, provide a joint move-out inspection, Our, but, but are not obligated to, provide a joint move-out inspection, Our, but, but are not obligated to, provide a joint move-out inspection, Our, but, but are not obligated to, provide a joint move-out inspection, Our, but, but are not obligated to, provide a joint move-out inspection, Our, but, but are not obligated to, provide a joint move-out inspection, Our, but, but are not obligated to, provide a joint move-out inspection, Our, but, but are not obligated to, provide a joint move-out inspection, Our, but, but are not obligated to, provide a joint move-out inspection, Our, but, but are not obligated to, provide a joint move-out inspection, Our, but, but are not obligated to, provide a joint move-out inspection, Our, but, but are not obligated to, provide a joint move-out inspection, Our, but, but are not obligated to, provide a joint move-out inspection, Our, but, but are not obligated to, provide a joint move-out inspection, Our, but, but are not obligated to, provide a joint move-out inspection                                                                                                                                                                                                                                                                                                                                                                                                                                                                                                                                                             </td></tr>\n",
       "<tr><td style=\"text-align: right;\"> 64</td><td>&quot;tenant_name&quot;: null, &quot;unit_address&quot;: null, &quot;unit_number&quot;: null, &quot;unit_type&quot;: null, &quot;agreement_date&quot;: null, &quot;lease_start&quot;: null, &quot;lease_end&quot;: null, &quot;lease_auto_renew&quot;: null, &quot;hourly_rate&quot;: null, &quot;monthly_rent&quot;: null, &quot;prorated_rent&quot;: null, &quot;security_deposit&quot;: null, &quot;lease_rent&quot;: null, &quot;monthly_payment_breakdown&quot;: null, &quot;utility_charges&quot;: null                                                                                                                                                                                                                                                                                                                                                                                                                                                                                                                      </td><td>LESSEES_RESPONSIBILITY_AND_COSTS_TO_COVER_THE_INCOME_OF_THE_ANIMALS, if we allow an animal of any kind, you must sign a separate animal addendum, post a non-refundable animal deposit and pay pet rent in the amount to be determined by the LESSOR. We will authorize a service or companion animal for a disabled person but may require a written statement from a qualified professional verifying the need for the service animal. If you or any guest or occupant violates animal restrictions, you will be subject to charges, damages, and/or eviction, and such other remedies provided in this lease. If an animal has been in the residence at any time during your term of occupancy (with or without our consent), we&#x27;ll charge you for all necessary cleaning including but not limited to de-fleaing, deodorizing, and carpet shampooing. Initial and daily animal violation charges and animal-removal charges are liquidated damages for our inconvenience and overhead (except for attorney&#x27;s fees and litigation costs) in enforcing animal restrictions and rules. SM INITIALS LESSEE also agrees to carry insurance deemed appropriate by OWNER tBcover possible liability and damages that may be caused by such animals, if we allow an animal. SM INITIALS If the animal is creating a nuisance or damaging property, and LESSEE is unavailable or refuses to correct the problem, the LESSOR may keep of kennel the animal or turn the animal over to local animal control authorities at LESSEES expense. SM INITIALS LESSEEs are responsible for the pets of guests who visit their unit.                                                                                                                                                                                                                                                                                                                                                                                                                                                                                                                                                                                                                                                                                                                                                                                          </td></tr>\n",
       "<tr><td style=\"text-align: right;\"> 65</td><td>&quot;tenant_name&quot;: null, &quot;unit_address&quot;: null, &quot;unit_number&quot;: null, &quot;unit_type&quot;: null, &quot;agreement_date&quot;: null, &quot;lease_start&quot;: null, &quot;lease_end&quot;: null, &quot;lease_auto_renew&quot;: null, &quot;hourly_rate&quot;: null, &quot;monthly_rent&quot;: null, &quot;prorated_rent&quot;: null, &quot;security_deposit&quot;: null, &quot;lease_rent&quot;: null, &quot;monthly_payment_breakdown&quot;: null, &quot;utility_charges&quot;: null                                                                                                                                                                                                                                                                                                                                                                                                                                                                                                                      </td><td>LESSOR, DS INITIALS. BM, TERM, MONTHLY, MONTHLY, MONTHLY, MONTHLY, MONTHLY, MONTHLY, MONTHLY, MONTHLY, MONTHLY, MONTHLY, MONTHLY, MONTHLY, MONTHLY, MONTHLY, MONTHLY, MONTHLY, MONTHLY, MONTHLY, MONTHLY, MONTHLY, MONTHLY, MONTHLY, MONTHLY, MONTHLY, MONTHLY, MONTHLY, MONTHLY, MONTHLY, MONTHLY, MONTHLY, MONTHLY, MONTHLY, MONTHLY, MONTHLY, MONTHLY, MONTHLY, MONTHLY, MONTHLY, MONTHLY, MONTHLY, MONTHLY, MONTHLY, MONTHLY, MONTHLY, MONTHLY, MONTHLY, MONTHLY, MONTHLY, MONTHLY, MONTHLY, MONTHLY, MONTHLY, MONTHLY, MONTHLY, MONTHLY, MONTHLY, MONTHLY, MONTHLY, MONTHLY, MONTHLY, MONTHLY, MONTHLY, MONTHLY, MONTHLY, MONTHLY, MONTHLY, MONTHLY, MONTHLY, MONTHLY, MONTHLY, MONTHLY, MONTHLY, MONTHLY, MONTHLY, MONTHLY, MONTHLY, MONTHLY, MONTHLY, MONTHLY, MONTHLY, MONTHLY, MONTHLY, MONTHLY, MONTHLY, MONTHLY, MONTHLY, MONTHLY, MONTHLY, MONTHLY, MONTHLY, MONTHLY, MONTHLY, MONTHLY, MONTHLY, MONTHLY, MONTHLY, MONTHLY, MONTHLY, MONTHLY                                                                                                                                                                                                                                                                                                                                                                                                                                                                                                                                                                                                                                                                                                                                                                                                                                                                                                                                                                                                                                                                                                                                                                                                                                                                                                                                                                                                                                                       </td></tr>\n",
       "<tr><td style=\"text-align: right;\"> 66</td><td>&quot;tenant_name&quot;: null, &quot;unit_address&quot;: null, &quot;unit_number&quot;: null, &quot;unit_type&quot;: null, &quot;agreement_date&quot;: null, &quot;lease_start&quot;: null, &quot;lease_end&quot;: null, &quot;lease_auto_renew&quot;: null, &quot;hourly_rate&quot;: null, &quot;monthly_rent&quot;: null, &quot;prorated_rent&quot;: null, &quot;security_deposit&quot;: null, &quot;lease_rent&quot;: null, &quot;monthly_payment_breakdown&quot;: null, &quot;utility_charges&quot;: null                                                                                                                                                                                                                                                                                                                                                                                                                                                                                                                      </td><td>Default, F.S. 83.52, or material provisions of the lease, the rules and regulations, or any addenda (other than failure to pay rent due), and the non- compliance is of a nature that YOU SHOULD NOT BE GIVEN AN OPPORTUNITY TO CURE or if your non-compliance CONSTITUTES A SECOND OR CONTINUING Default                                                                                                                                                                                                                                                                                                                                                                                                                                                                                                                                                                                                                                                                                                                                                                                                                                                                                                                                                                                                                                                                                                                                                                                                                                                                                                                                                                                                                                                                                                                                                                                                                                                                                                                                                                                                                                                                                                                                                                                                                                                                                                      </td></tr>\n",
       "</tbody>\n",
       "</table>"
      ],
      "text/plain": [
       "'<table>\\n<thead>\\n<tr><th style=\"text-align: right;\">  #</th><th>Reference data                                                                                                                                                                                                                                                                                                                                                                                                                                                                                                                                                                                                                                                                                                                                                                                                                                                               </th><th>Extracted data (Finetuned model)                                                                                                                                                                                                                                                                                                                                                                                                                                                                                                                                                                                                                                                                                                                                                                                                                                                                                                                                                                                                                                                                                                                                                                                                                                                                                                                                                                                                                                                                                                                                                                                                                                                                                                                                                                                                                                                                                                                                                                                                                                                                                                                                                                                                                                                                                                                                                                               </th></tr>\\n</thead>\\n<tbody>\\n<tr><td style=\"text-align: right;\">  1</td><td>&quot;tenant_name&quot;: &quot;Ricquan M Moore&quot;, &quot;unit_address&quot;: null, &quot;unit_number&quot;: null, &quot;unit_type&quot;: null, &quot;agreement_date&quot;: null, &quot;lease_start&quot;: null, &quot;lease_end&quot;: null, &quot;lease_auto_renew&quot;: null, &quot;hourly_rate&quot;: null, &quot;monthly_rent&quot;: null, &quot;prorated_rent&quot;: null, &quot;security_deposit&quot;: null, &quot;lease_rent&quot;: null, &quot;monthly_payment_breakdown&quot;: null, &quot;utility_charges&quot;: null                                                                                                                                                                                                                                                                                                                                                                                                                                                                                                         </td><td>ANIMALS, ADDITIONAL_FEES, ADDITIONAL_RENT, ADDITIONAL_FEES_OR_CHARGES, ADDITIONAL_FEES_OR_CHARGES_TO_PAID, ADDITIONAL_FEES_OR_CHARGES_TO_PAID, ADDITIONAL_FEES_OR_CHARGES_TO_PAID, ADDITIONAL_FEES_OR_CHARGES_TO_PAID, ADDITIONAL_FEES_OR_CHARGES_TO_PAID, ADDITIONAL_FEES_OR_CHARGES_TO_PAID, ADDITIONAL_FEES_OR_CHARGES_TO_PAID, ADDITIONAL_FEES_OR_CHARGES_TO_PAID, ADDITIONAL_FEES_OR_CHARGES_TO_PAID, ADDITIONAL_FEES_OR_CHARGES_TO_PAID, ADDITIONAL_FEES_OR_CHARGES_TO_PAID, ADDITIONAL_FEES_OR_CHARGES_TO_PAID, ADDITIONAL_FEES_OR_CHARGES_TO_PAID, ADDITIONAL_FEES_OR_CHARGES_TO_PAID, ADDITIONAL_FEES_OR_CHARGES_TO_PAID, ADDITIONAL_FEES_OR_CHARGES_TO_PAID, ADDITIONAL_FEES_OR_CHARGES_TO_PAID, ADDITIONAL_FEES_OR_CHARGES_TO_PAID, ADDITIONAL_FEES_OR_CHARGES_TO_PAID, ADDITIONAL_FEES_OR_CHARGES_TO_PAID, ADDITIONAL_FEES_OR_CHARGES_TO_PAID, ADDITIONAL_FEES_OR_CHARGES_TO_PAID, ADDITIONAL_FEES_OR_CHARGES_TO_PAID, ADDITIONAL_FEES_OR_CHARGES_TO_PAID, ADDITIONAL_FEES_OR_CHARGES_TO_PAID, ADDITIONAL_FEES_OR_CHARGES_TO_PAID, ADDITIONAL_FEES_OR_                                                                                                                                                                                                                                                                                                                                                                                                                                                                                                                                                                                                                                                                                                                                                                                                                                                                                                                                                                                                                                                                                                                                                                                                                                                                                                                                             </td></tr>\\n<tr><td style=\"text-align: right;\">  2</td><td>&quot;tenant_name&quot;: null, &quot;unit_address&quot;: null, &quot;unit_number&quot;: null, &quot;unit_type&quot;: null, &quot;agreement_date&quot;: null, &quot;lease_start&quot;: null, &quot;lease_end&quot;: null, &quot;lease_auto_renew&quot;: null, &quot;hourly_rate&quot;: null, &quot;monthly_rent&quot;: null, &quot;prorated_rent&quot;: null, &quot;security_deposit&quot;: null, &quot;lease_rent&quot;: null, &quot;monthly_payment_breakdown&quot;: null, &quot;utility_charges&quot;: null                                                                                                                                                                                                                                                                                                                                                                                                                                                                                                                      </td><td>26.CONDITION OF THE PREMISES AND ALTERATIONS,                                                                                                                                                                                                                                                                                                                                                                                                                                                                                                                                                                                                                                                                                                                                                                                                                                                                                                                                                                                                                                                                                                                                                                                                                                                                                                                                                                                                                                                                                                                                                                                                                                                                                                                                                                                                                                                                                                                                                                                                                                                                                                                                                                                                                                                                                                                                                                  </td></tr>\\n<tr><td style=\"text-align: right;\">  3</td><td>&quot;tenant_name&quot;: &quot;Samantha Putlak&quot;, &quot;unit_address&quot;: &quot;304 Stanhope St.&quot;, &quot;unit_number&quot;: &quot;#2L&quot;, &quot;unit_type&quot;: null, &quot;agreement_date&quot;: null, &quot;lease_start&quot;: &quot;2023-08-01&quot;, &quot;lease_end&quot;: &quot;2024-07-31&quot;, &quot;lease_auto_renew&quot;: null, &quot;hourly_rate&quot;: null, &quot;monthly_rent&quot;: 2800, &quot;prorated_rent&quot;: null, &quot;security_deposit&quot;: 2800, &quot;lease_rent&quot;: 33600, &quot;monthly_payment_breakdown&quot;: null, &quot;utility_charges&quot;: null                                                                                                                                                                                                                                                                                                                                                                                                                                                                         </td><td>TERM: 12 Months MONTHLY_RENT: $2,800 BEGINNING: 8/1/2023 MONTHLY_RENT: $2,800 SECURITY_DEPOSIT: $2,800 TERM: 12 Months MONTHLY_RENT: $2,800 BEGINNING: 8/1/2023 MONTHLY_RENT: $2,800 SECURITY_DEPOSIT: $2,800 TERM: 12 Months MONTHLY_RENT: $2,800 BEGINNING: 8/1/2023 MONTHLY_RENT: $2,800 SECURITY_DEPOSIT: $2,800                                                                                                                                                                                                                                                                                                                                                                                                                                                                                                                                                                                                                                                                                                                                                                                                                                                                                                                                                                                                                                                                                                                                                                                                                                                                                                                                                                                                                                                                                                                                                                                                                                                                                                                                                                                                                                                                                                                                                                                                                                                                                           </td></tr>\\n<tr><td style=\"text-align: right;\">  4</td><td>&quot;tenant_name&quot;: null, &quot;unit_address&quot;: null, &quot;unit_number&quot;: null, &quot;unit_type&quot;: null, &quot;agreement_date&quot;: null, &quot;lease_start&quot;: null, &quot;lease_end&quot;: null, &quot;lease_auto_renew&quot;: null, &quot;hourly_rate&quot;: null, &quot;monthly_rent&quot;: null, &quot;prorated_rent&quot;: null, &quot;security_deposit&quot;: null, &quot;lease_rent&quot;: null, &quot;monthly_payment_breakdown&quot;: null, &quot;utility_charges&quot;: null                                                                                                                                                                                                                                                                                                                                                                                                                                                                                                                      </td><td>,,,,,,,,,,,,,,,,,,,,,,,,,,,,,,,,,,,,,,,,,,,,,,,,,,,,,,,,,,,,,,,,,,,,,,,,,,,,,,,,,,,,,,,,,,,,,,,,,,,,,,,,,,,,,,,,,,,,,,,,,,,,,,,,,,,,,,,,,,,,,,,,,,,,,,,,,,,,,,,,,,,,,,,,,,                                                                                                                                                                                                                                                                                                                                                                                                                                                                                                                                                                                                                                                                                                                                                                                                                                                                                                                                                                                                                                                                                                                                                                                                                                                                                                                                                                                                                                                                                                                                                                                                                                                                                                                                                                                                                                                                                                                                                                                                                                                                                                                                                                                                                                     </td></tr>\\n<tr><td style=\"text-align: right;\">  5</td><td>&quot;tenant_name&quot;: null, &quot;unit_address&quot;: null, &quot;unit_number&quot;: null, &quot;unit_type&quot;: null, &quot;agreement_date&quot;: null, &quot;lease_start&quot;: null, &quot;lease_end&quot;: null, &quot;lease_auto_renew&quot;: null, &quot;hourly_rate&quot;: null, &quot;monthly_rent&quot;: null, &quot;prorated_rent&quot;: null, &quot;security_deposit&quot;: null, &quot;lease_rent&quot;: null, &quot;monthly_payment_breakdown&quot;: null, &quot;utility_charges&quot;: null                                                                                                                                                                                                                                                                                                                                                                                                                                                                                                                      </td><td>Damage, Landlord, Damage, Tenant, Damage, Landlord, Damage, Tenant, Damage, Damage, Damage, Damage, Damage, Damage, Damage, Damage, Damage, Damage, Damage, Damage, Damage, Damage, Damage, Damage, Damage, Damage, Damage, Damage, Damage, Damage, Damage, Damage, Damage, Damage, Damage, Damage, Damage, Damage, Damage, Damage, Damage, Damage, Damage, Damage, Damage, Damage, Damage, Damage, Damage, Damage, Damage, Damage, Damage, Damage, Damage, Damage, Damage, Damage, Damage, Damage, Damage, Damage, Damage, Damage, Damage, Damage, Damage, Damage, Damage, Damage, Damage, Damage, Damage, Damage, Damage, Damage, Damage, Damage, Damage, Damage, Damage, Damage, Damage, Damage, Damage, Damage, Damage, Damage, Damage, Damage, Damage, Damage, Damage, Damage, Damage, Damage, Damage, Damage, Damage, Damage, Damage, Damage, Damage, Damage, Damage, Damage, Damage, Damage, Damage, Damage, Damage, Damage, Damage, Damage, Damage, Damage, Damage, Damage, Damage, Damage, Damage, Damage, Damage, Damage, Damage, Damage, Damage, Damage, Damage, Damage, Damage, Damage, Damage, Damage, Damage, Damage, Damage, Damage, Damage, Damage, Damage, Damage, Damage, Damage, Damage, Damage, Damage, Damage, Damage, Damage, Damage, Damage, Damage, Damage, Damage, Damage, Damage, Damage, Damage, Damage, Damage, Damage, Damage, Damage, Damage, Damage, Damage, Damage, Damage, Damage, Damage, Damage, Damage, Damage, Damage, Damage, Damage, Damage, Damage, Damage, Damage, Damage, Damage, Damage, Damage, Damage, Damage, Damage, Damage, Damage, Damage, Damage, Damage, Damage, Damage, Damage, Damage, Damage, Damage, Damage, Damage, Damage, Damage, Damage, Damage, Damage, Damage, Damage, Damage, Damage, Damage, Damage, Damage, Damage, Damage, Damage, Damage, Damage, Damage, Damage, Damage, Damage, Damage, Damage, Damage, Damage, Damage, Damage, Damage, Damage, Damage, Damage, Damage, Damage, Damage, Damage, Damage, Damage, Damage, Damage, Damage, Damage, Damage, Damage, Damage, Damage, Damage, Damage, Damage, Damage, Damage, Damage, Damage,                                                                                                                                                                                                                                                                                                    </td></tr>\\n<tr><td style=\"text-align: right;\">  6</td><td>&quot;tenant_name&quot;: null, &quot;unit_address&quot;: null, &quot;unit_number&quot;: null, &quot;unit_type&quot;: null, &quot;agreement_date&quot;: null, &quot;lease_start&quot;: null, &quot;lease_end&quot;: null, &quot;lease_auto_renew&quot;: null, &quot;hourly_rate&quot;: null, &quot;monthly_rent&quot;: null, &quot;prorated_rent&quot;: null, &quot;security_deposit&quot;: null, &quot;lease_rent&quot;: null, &quot;monthly_payment_breakdown&quot;: null, &quot;utility_charges&quot;: null                                                                                                                                                                                                                                                                                                                                                                                                                                                                                                                      </td><td>PART_A, PART_B, PART_C, PART_D, PART_A, PART_B, PART_C, PART_D, PART_A, PART_C, PART_D, PART_A, PART_C, PART_D, PART_A, PART_C, PART_D, PART_A, PART_C, PART_D, PART_A, PART_C, PART_D, PART_A, PART_C, PART_D, PART_A, PART_C, PART_D, PART_A, PART_C, PART_D, PART_A, PART_C, PART_D, PART_A, PART_C, PART_D, PART_A, PART_C, PART_D, PART_A, PART_C, PART_D, PART_A, PART_C, PART_D, PART_A, PART_C, PART_D, PART_A, PART_C, PART_D, PART_A, PART_C, PART_D, PART_A, PART_C, PART_D, PART_A, PART_C, PART_D, PART_A, PART_C, PART_D, PART_A, PART_C, PART_D, PART_A, PART_C, PART_D, PART_A, PART_C, PART_D, PART_C, PART_D, PART_A, PART_C, PART_D, PART_A, PART_C, PART_D, PART_C, PART_D, PART_A, PART_C, PART_D, PART_C, PART_D, PART_A, PART_C, PART_D, PART_C, PART_D, PART_A, PART_C, PART_D, PART_C, PART_D, PART_C, PART_D, PART_C, PART                                                                                                                                                                                                                                                                                                                                                                                                                                                                                                                                                                                                                                                                                                                                                                                                                                                                                                                                                                                                                                                                                                                                                                                                                                                                                                                                                                                                                                                                                                                                                           </td></tr>\\n<tr><td style=\"text-align: right;\">  7</td><td>&quot;tenant_name&quot;: null, &quot;unit_address&quot;: null, &quot;unit_number&quot;: null, &quot;unit_type&quot;: null, &quot;agreement_date&quot;: null, &quot;lease_start&quot;: null, &quot;lease_end&quot;: null, &quot;lease_auto_renew&quot;: null, &quot;hourly_rate&quot;: null, &quot;monthly_rent&quot;: null, &quot;prorated_rent&quot;: null, &quot;security_deposit&quot;: null, &quot;lease_rent&quot;: null, &quot;monthly_payment_breakdown&quot;: null, &quot;utility_charges&quot;: null                                                                                                                                                                                                                                                                                                                                                                                                                                                                                                                      </td><td>,,,,,,,,,,,,,,,,,,,,,,,,,,,,,,,,,,,,,,,,,,,,,,,,,,,,,,,,,,,,,,,,,,,,,,,,,,,,,,,,,,,,,,,,,,,,,,,,,,,,,,,,,,,,,,,,,,,,,,,,,,,,,,,,,,,,,,,,,,,,,,,,,,,,,,,,,,,,,,,,,,,,,,,,,,                                                                                                                                                                                                                                                                                                                                                                                                                                                                                                                                                                                                                                                                                                                                                                                                                                                                                                                                                                                                                                                                                                                                                                                                                                                                                                                                                                                                                                                                                                                                                                                                                                                                                                                                                                                                                                                                                                                                                                                                                                                                                                                                                                                                                                     </td></tr>\\n<tr><td style=\"text-align: right;\">  8</td><td>&quot;tenant_name&quot;: null, &quot;unit_address&quot;: null, &quot;unit_number&quot;: null, &quot;unit_type&quot;: null, &quot;agreement_date&quot;: null, &quot;lease_start&quot;: null, &quot;lease_end&quot;: null, &quot;lease_auto_renew&quot;: &quot;month-to-month&quot;, &quot;hourly_rate&quot;: null, &quot;monthly_rent&quot;: null, &quot;prorated_rent&quot;: null, &quot;security_deposit&quot;: null, &quot;lease_rent&quot;: null, &quot;monthly_payment_breakdown&quot;: null, &quot;utility_charges&quot;: null                                                                                                                                                                                                                                                                                                                                                                                                                                                                                                          </td><td>Lessee shall be responsible for the payment of all taxes, license fees, registration fees, insurance, and other assessments associated with the use of the Property.                                                                                                                                                                                                                                                                                                                                                                                                                                                                                                                                                                                                                                                                                                                                                                                                                                                                                                                                                                                                                                                                                                                                                                                                                                                                                                                                                                                                                                                                                                                                                                                                                                                                                                                                                                                                                                                                                                                                                                                                                                                                                                                                                                                                                                           </td></tr>\\n<tr><td style=\"text-align: right;\">  9</td><td>&quot;tenant_name&quot;: null, &quot;unit_address&quot;: null, &quot;unit_number&quot;: null, &quot;unit_type&quot;: null, &quot;agreement_date&quot;: null, &quot;lease_start&quot;: null, &quot;lease_end&quot;: null, &quot;lease_auto_renew&quot;: null, &quot;hourly_rate&quot;: null, &quot;monthly_rent&quot;: null, &quot;prorated_rent&quot;: null, &quot;security_deposit&quot;: null, &quot;lease_rent&quot;: null, &quot;monthly_payment_breakdown&quot;: null, &quot;utility_charges&quot;: null                                                                                                                                                                                                                                                                                                                                                                                                                                                                                                                      </td><td>Replacements 31.REPLACEMENTS AND SUBLETTING. Replacing a resident, subletting. assignment, or granting a right or license to occupy is allowed only when we expressly consent in writing. If departing or remaining residents find a replacement resident acceptable to us before moving out and we expressly consent, in writing, to the replacement, subletting, assignment, or granting a right or any license to occupy, then (1) a reletting charge will not be due; (2) a reasonable administrative (paperwork) and/or transfer fee will be due, and a rekeying fee is due if rekeying is requested or required; and (3) the departing and remaining residents will remain liable for all lease obligations for the rest of the original lease term. Procedures for Replacement. If we approve a replacement resident, then, at our option: (1) the replacement resident must sign this Lease Contract with or without an increase in the total security deposit; or (2) the remaining and replacement residents must sign an entirely new I.case Contract. Unless we agree otherwise in writing-even if a new L.case Contract is signed. Responsibilities of Owner and Resident 32.RESPONSIBILITIES OF OWNER. We&#x27;ll act with customary diligence to: (1) keep common areas reasonably clean, subject to paragraph 26 (Condition of the Premises and Alterations); (2) maintain fixtures, furniture, hot water, heating and A/C. equipment. (3) comply with applicable federal, state, and local laws regarding safety, sanitation, and fair housing; and (4) make all repairs and replacements as may be necessary.                                                                                                                                                                                                                                                                                                                                                                                                                                                                                                                                                                                                                                                                                                                                                                                     </td></tr>\\n<tr><td style=\"text-align: right;\"> 10</td><td>&quot;tenant_name&quot;: null, &quot;unit_address&quot;: null, &quot;unit_number&quot;: null, &quot;unit_type&quot;: null, &quot;agreement_date&quot;: null, &quot;lease_start&quot;: null, &quot;lease_end&quot;: null, &quot;lease_auto_renew&quot;: null, &quot;hourly_rate&quot;: null, &quot;monthly_rent&quot;: null, &quot;prorated_rent&quot;: null, &quot;security_deposit&quot;: null, &quot;lease_rent&quot;: null, &quot;monthly_payment_breakdown&quot;: null, &quot;utility_charges&quot;: null                                                                                                                                                                                                                                                                                                                                                                                                                                                                                                                      </td><td>RESPONSIBILITIES OF OWNER, RESPONSIBILITIES OF OWNER, RESPONSIBILITIES OF OWNER, RESPONSIBILITIES OF OWNER, RESPONSIBILITIES OF OWNER, RESPONSIBILITIES OF OWNER, RESPONSIBILITIES OF OWNER, RESPONSIBILITIES OF OWNER, RESPONSIBILITIES OF OWNER, RESPONSIBILITIES OF OWNER, RESPONSIBILITIES OF OWNER, RESPONSIBILITIES OF OWNER, RESPONSIBILITIES OF OWNER, RESPONSIBILITIES OF OWNER, RESPONSIBILITIES OF OWNER, RESPONSIBILITIES OF OWNER, RESPONSIBILITIES OF OWNER, RESPONSIBILITIES OF OWNER, RESPONSIBILITIES OF OWNER, RESPONSIBILITIES OF OWNER, RESPONSIBILITIES OF OWNER, RESPONSIBILITIES OF OWNER, RESPONSIBILITIES OF OWNER, RESPONSIBILITIES OF OWNER, RESPONSIBILITIES OF OWNER, RESPONSIBILITIES OF OWNER, RESPONSIBILITIES OF OWNER, RESPONSIBILITIES OF OWNER, RESPONSIBILITIES OF OWNER, RESPONSIBILITIES OF OWNER, RESPONSIBILITIES OF OWNER, RESPONSIBILITIES OF OWNER, RESPONSIBILITIES OF OWNER, RESPONSIBILITIES OF OWNER, RESPONSIBILITIES OF OWNER, RESPONSIBILITIES OF OWNER, RESPONSIBILIT                                                                                                                                                                                                                                                                                                                                                                                                                                                                                                                                                                                                                                                                                                                                                                                                                                                                                                                                                                                                                                                                                                                                                                                                                                                                                                                                                                                      </td></tr>\\n<tr><td style=\"text-align: right;\"> 11</td><td>&quot;tenant_name&quot;: null, &quot;unit_address&quot;: null, &quot;unit_number&quot;: null, &quot;unit_type&quot;: null, &quot;agreement_date&quot;: null, &quot;lease_start&quot;: null, &quot;lease_end&quot;: null, &quot;lease_auto_renew&quot;: null, &quot;hourly_rate&quot;: null, &quot;monthly_rent&quot;: null, &quot;prorated_rent&quot;: null, &quot;security_deposit&quot;: 500, &quot;lease_rent&quot;: null, &quot;monthly_payment_breakdown&quot;: null, &quot;utility_charges&quot;: null                                                                                                                                                                                                                                                                                                                                                                                                                                                                                                                       </td><td>Tenant, Default, Default, Default, Default, Default, Default, Default, Default, Default, Default, Default, Default, Default, Default, Default, Default, Default, Default, Default, Default, Default, Default, Default, Default, Default, Default, Default, Default, Default, Default, Default, Default, Default, Default, Default, Default, Default, Default, Default, Default, Default, Default, Default, Default, Default, Default, Default, Default, Default, Default, Default, Default, Default, Default, Default, Default, Default, Default, Default, Default, Default, Default, Default, Default, Default, Default, Default, Default, Default, Default, Default, Default, Default, Default, Default, Default, Default, Default, Default, Default, Default, Default, Default, Default, Default, Default, Default, Default, Default, Default, Default, Default, Default, Default, Default, Default, Default, Default, Default, Default, Default, Default, Default, Default, Default, Default, Default, Default, Default, Default, Default, Default, Default, Default, Default, Default, Default, Default, Default, Default, Default, Default, Default, Default, Default, Default, Default, Default, Default, Default, Default, Default, Default, Default, Default, Default, Default, Default, Default, Default, Default, Default, Default, Default, Default, Default, Default, Default, Default, Default, Default, Default, Default, Default, Default, Default, Default, Default, Default, Default, Default, Default, Default, Default, Default, Default, Default, Default, Default, Default                                                                                                                                                                                                                                                                                                                                                                                                                                                                                                                                                                                                                                                                                                                                                                                                               </td></tr>\\n<tr><td style=\"text-align: right;\"> 12</td><td>&quot;tenant_name&quot;: null, &quot;unit_address&quot;: null, &quot;unit_number&quot;: null, &quot;unit_type&quot;: null, &quot;agreement_date&quot;: null, &quot;lease_start&quot;: null, &quot;lease_end&quot;: null, &quot;lease_auto_renew&quot;: null, &quot;hourly_rate&quot;: null, &quot;monthly_rent&quot;: null, &quot;prorated_rent&quot;: null, &quot;security_deposit&quot;: null, &quot;lease_rent&quot;: null, &quot;monthly_payment_breakdown&quot;: null, &quot;utility_charges&quot;: null                                                                                                                                                                                                                                                                                                                                                                                                                                                                                                                      </td><td>Casualty Loss, During freezing weather, You, You, You, You, You, You, You, You, You, You, You, You, You, You, You, You, You, You, You, You, You, You, You, You, You, You, You, You, You, You, You, You, You, You, You, You, You, You, You, You, You, You, You, You, You, You, You, You, You, You, You, You, You, You, You, You, You, You, You, You, You, You, You, You, You, You, You, You, You, You, You, You, You, You, You, You, You, You, You, You, You, You, You, You, You, You, You, You, You, You, You, You, You, You, You, You, You, You, You, You, You, You, You, You, You, You, You, You, You, You, You, You, You, You, You, You, You, You, You, You, You, You, You, You, You, You, You, You, You, You, You, You, You, You, You, You, You, You, You, You, You, You, You, You, You, You, You, You, You, You, You, You, You, You, You, You, You, You, You, You, You, You, You, You, You, You, You, You, You, You, You, You, You, You, You, You, You, You, You, You, You, You, You, You, You, You, You, You, You, You, You, You, You, You, You, You, You, You, You, You, You, You, You, You, You, You, You, You, You, You, You, You, You, You, You, You, You, You, You, You, You, You, You, You, You, You, You, You, You, You, You, You, You, You, You, You, You, You, You, You, You, You, You, You, You, You, You, You, You, You, You                                                                                                                                                                                                                                                                                                                                                                                                                                                                                                                                                                                                                                                                                                                                                                                                                                                                                                                                                                                                                                                                  </td></tr>\\n<tr><td style=\"text-align: right;\"> 13</td><td>&quot;tenant_name&quot;: &quot;Gary Smith&quot;, &quot;unit_address&quot;: &quot;2557 Mountain Lodge Circle, Vestavia Hills, Alabama, 35216&quot;, &quot;unit_number&quot;: &quot;2557E&quot;, &quot;unit_type&quot;: null, &quot;agreement_date&quot;: &quot;2023-04-27&quot;, &quot;lease_start&quot;: null, &quot;lease_end&quot;: null, &quot;lease_auto_renew&quot;: null, &quot;hourly_rate&quot;: null, &quot;monthly_rent&quot;: null, &quot;prorated_rent&quot;: null, &quot;security_deposit&quot;: null, &quot;lease_rent&quot;: null, &quot;monthly_payment_breakdown&quot;: null, &quot;utility_charges&quot;: null                                                                                                                                                                                                                                                                                                                                                                                                                                           </td><td>1. DWELLING_UNIT_DESCRIPTION. Unit No. 2557E 2557 Mountain Lodge Circle (street address) in Vestavia Hills (city), Alabama, 35216.(zip code). 2. LEASE_CONTRACT_DESCRIPTION. Lease Contract Date: April 27, 2023 Owner&#x27;s name: Mountain BAL LLC Residents (list all residents): Gary Smith The term of this Addendum is as follows: Begins on and ends on This Addendum constitutes an Addendum to the above described Lease Contract for the above described premises, and is hereby incorporated into and made a part of such Lease Contract. 3. A. :unselected: NO APPROVED ANIMALS.                                                                                                                                                                                                                                                                                                                                                                                                                                                                                                                                                                                                                                                                                                                                                                                                                                                                                                                                                                                                                                                                                                                                                                                                                                                                                                                                                                                                                                                                                                                                                                                                                                                                                                                                                                                                                        </td></tr>\\n<tr><td style=\"text-align: right;\"> 14</td><td>&quot;tenant_name&quot;: &quot;Taylor Whittle&quot;, &quot;unit_address&quot;: null, &quot;unit_number&quot;: null, &quot;unit_type&quot;: null, &quot;agreement_date&quot;: &quot;2023-02-27&quot;, &quot;lease_start&quot;: &quot;2023-02-27&quot;, &quot;lease_end&quot;: null, &quot;lease_auto_renew&quot;: null, &quot;hourly_rate&quot;: null, &quot;monthly_rent&quot;: 847.0, &quot;prorated_rent&quot;: 30.25, &quot;security_deposit&quot;: null, &quot;lease_rent&quot;: 10164.0, &quot;monthly_payment_breakdown&quot;: null, &quot;utility_charges&quot;: &quot;water&quot;: 25.0, &quot;garbage&quot;: 0.0, &quot;pest_control&quot;: 2.0                                                                                                                                                                                                                                                                                                                                                                                                                                       </td><td>Month, Rent, LateFee, LateFee, TotalRent, Month, Months, Rent, TotalRent, Months, Months, Months, Months, Months, Months, Months, Months, Months, Months, Months, Months, Months, Months, Months, Months, Months, Months, Months, Months, Months, Months, Months, Months, Months, Months, Months, Months, Months, Months, Months, Months, Months, Months, Months, Months, Months, Months, Months, Months, Months, Months, Months, Months, Months, Months, Months, Months, Months, Months, Months, Months, Months, Months, Months, Months, Months, Months, Months, Months, Months, Months, Months, Months, Months, Months, Months, Months, Months, Months, Months, Months, Months, Months, Months, Months, Months, Months, Months, Months, Months, Months, Months, Months, Months, Months, Months, Months, Months, Months, Months, Months, Months, Months, Months, Months, Months, Months, Months, Months, Months, Months, Months, Months, Months, Months, Months, Months, Months, Months, Months, Months, Months, Months, Months, Months, Months, Months, Months, Months, Months, Months, Months, Months, Months, Months, Months, Months, Months, Months, Months, Months, Months, Months, Months, Months, Months, Months, Months, Months, Months, Months, Months, Months, Months, Months, Months, Months, Months, Months, Months, Months, Months, Months, Months, Months, Months, Months, Months, Months, Months,                                                                                                                                                                                                                                                                                                                                                                                                                                                                                                                                                                                                                                                                                                                                                                                                                                                                                                                                                                                              </td></tr>\\n<tr><td style=\"text-align: right;\"> 15</td><td>&quot;tenant_name&quot;: null, &quot;unit_address&quot;: null, &quot;unit_number&quot;: null, &quot;unit_type&quot;: null, &quot;agreement_date&quot;: null, &quot;lease_start&quot;: null, &quot;lease_end&quot;: null, &quot;lease_auto_renew&quot;: null, &quot;hourly_rate&quot;: null, &quot;monthly_rent&quot;: null, &quot;prorated_rent&quot;: null, &quot;security_deposit&quot;: null, &quot;lease_rent&quot;: null, &quot;monthly_payment_breakdown&quot;: null, &quot;utility_charges&quot;: null                                                                                                                                                                                                                                                                                                                                                                                                                                                                                                                      </td><td>Security Deposit, Compensate, Remedy, Repair, Damage, Damages, Damages, Damages, Damages, Damages, Damages, Damages, Damages, Damages, Damages, Damages, Damages, Damages, Damages, Damages, Damages, Damages, Damages, Damages, Damages, Damages, Damages, Damages, Damages, Damages, Damages, Damages, Damages, Damages, Damages, Damages, Damages, Damages, Damages, Damages, Damages, Damages, Damages, Damages, Damages, Damages, Damages, Damages, Damages, Damages, Damages, Damages, Damages, Damages, Damages, Damages, Damages, Damages, Damages, Damages, Damages, Damages, Damages, Damages, Damages, Damages, Damages, Damages, Damages, Damages, Damages, Damages, Damages, Damages, Damages, Damages, Damages, Damages, Damages, Damages, Damages, Damages, Damages, Damages, Damages, Damages, Damages, Damages, Damages, Damages, Damages, Damages, Damages, Damages, Damages, Damages, Damages, Damages, Damages, Damages, Damages, Damages, Damages, Damages, Damages, Damages, Damages, Damages, Damages, Damages, Damages, Damages, Damages, Damages, Damages, Damages, Damages, Damages, Damages, Damages, Damages, Damages, Damages, Damages, Damages, Damages, Damages, Damages, Damages, Damages, Damages, Damages, Damages, Damages, Damages, Damages, Damages, Damages, Damages, Damages, Damages, Damages, Damages, Damages, Damages, Damages, Damages, Damages, Damages, Damages, Damages, Damages, Damages, Damages, Damages, Damages, Damages, Damages, Damages, Damages, Damages, Damages, Damages, Damages, Damages, Damages, Damages, Damages, Damages, Damages, Damage                                                                                                                                                                                                                                                                                                                                                                                                                                                                                                                                                                                                                                                                                                                                                                                                      </td></tr>\\n<tr><td style=\"text-align: right;\"> 16</td><td>&quot;tenant_name&quot;: &quot;Ricquan M Moore&quot;, &quot;unit_address&quot;: null, &quot;unit_number&quot;: null, &quot;unit_type&quot;: null, &quot;agreement_date&quot;: null, &quot;lease_start&quot;: null, &quot;lease_end&quot;: null, &quot;lease_auto_renew&quot;: null, &quot;hourly_rate&quot;: null, &quot;monthly_rent&quot;: null, &quot;prorated_rent&quot;: null, &quot;security_deposit&quot;: null, &quot;lease_rent&quot;: null, &quot;monthly_payment_breakdown&quot;: null, &quot;utility_charges&quot;: null                                                                                                                                                                                                                                                                                                                                                                                                                                                                                                         </td><td>                                                                                                                                                                                                                                                                                                                                                                                                                                                                                                                                                                                                                                                                                                                                                                                                                                                                                                                                                                                                                                                                                                                                                                                                                                                                                                                                                                                                                                                                                                                                                                                                                                                                                                                                                                                                                                                                                                                                                                                                                                                                                                                                                                                                                                                                                                                                                                                                               </td></tr>\\n<tr><td style=\"text-align: right;\"> 17</td><td>&quot;tenant_name&quot;: null, &quot;unit_address&quot;: null, &quot;unit_number&quot;: null, &quot;unit_type&quot;: null, &quot;agreement_date&quot;: null, &quot;lease_start&quot;: null, &quot;lease_end&quot;: null, &quot;lease_auto_renew&quot;: null, &quot;hourly_rate&quot;: null, &quot;monthly_rent&quot;: null, &quot;prorated_rent&quot;: null, &quot;security_deposit&quot;: null, &quot;lease_rent&quot;: null, &quot;monthly_payment_breakdown&quot;: null, &quot;utility_charges&quot;: null                                                                                                                                                                                                                                                                                                                                                                                                                                                                                                                      </td><td>Casualty Loss, During freezing weather, You, You, You, You, You, You, You, You, You, You, You, You, You, You, You, You, You, You, You, You, You, You, You, You, You, You, You, You, You, You, You, You, You, You, You, You, You, You, You, You, You, You, You, You, You, You, You, You, You, You, You, You, You, You, You, You, You, You, You, You, You, You, You, You, You, You, You, You, You, You, You, You, You, You, You, You, You, You, You, You, You, You, You, You, You, You, You, You, You, You, You, You, You, You, You, You, You, You, You, You, You, You, You, You, You, You, You, You, You, You, You, You, You, You, You, You, You, You, You, You, You, You, You, You, You, You, You, You, You, You, You, You, You, You, You, You, You, You, You, You, You, You, You, You, You, You, You, You, You, You, You, You, You, You, You, You, You, You, You, You, You, You, You, You, You, You, You, You, You, You, You, You, You, You, You, You, You, You, You, You, You, You, You, You, You, You, You, You, You, You, You, You, You, You, You, You, You, You, You, You, You, You, You, You, You, You, You, You, You, You, You, You, You, You, You, You, You, You, You, You, You, You, You, You, You, You, You, You, You, You, You, You, You, You, You, You, You, You, You, You, You, You, You, You, You, You, You, You, You, You, You                                                                                                                                                                                                                                                                                                                                                                                                                                                                                                                                                                                                                                                                                                                                                                                                                                                                                                                                                                                                                                                                  </td></tr>\\n<tr><td style=\"text-align: right;\"> 18</td><td>&quot;tenant_name&quot;: null, &quot;unit_address&quot;: null, &quot;unit_number&quot;: null, &quot;unit_type&quot;: null, &quot;agreement_date&quot;: null, &quot;lease_start&quot;: null, &quot;lease_end&quot;: null, &quot;lease_auto_renew&quot;: null, &quot;hourly_rate&quot;: null, &quot;monthly_rent&quot;: null, &quot;prorated_rent&quot;: null, &quot;security_deposit&quot;: null, &quot;lease_rent&quot;: null, &quot;monthly_payment_breakdown&quot;: null, &quot;utility_charges&quot;: null                                                                                                                                                                                                                                                                                                                                                                                                                                                                                                                      </td><td>LESSEES_RESPONSIBILITY_AND_COSTS_TO_COVER_THE_INCOME_OF_THE_ANIMALS, if we allow an animal of any kind, you must sign a separate animal addendum, post a non-refundable animal deposit and pay pet rent in the amount to be determined by the LESSOR. We will authorize a service or companion animal for a disabled person but may require a written statement from a qualified professional verifying the need for the service animal. If you or any guest or occupant violates animal restrictions, you will be subject to charges, damages, and/or eviction, and such other remedies provided in this lease. If an animal has been in the residence at any time during your term of occupancy (with or without our consent), we&#x27;ll charge you for all necessary cleaning including but not limited to de-fleaing, deodorizing, and carpet shampooing. Initial and daily animal violation charges and animal-removal charges are liquidated damages for our inconvenience and overhead (except for attorney&#x27;s fees and litigation costs) in enforcing animal restrictions and rules. SM INITIALS LESSEE also agrees to carry insurance deemed appropriate by OWNER tBcover possible liability and damages that may be caused by such animals, if we allow an animal. SM INITIALS If the animal is creating a nuisance or damaging property, and LESSEE is unavailable or refuses to correct the problem, the LESSOR may keep of kennel the animal or turn the animal over to local animal control authorities at LESSEES expense. SM INITIALS LESSEEs are responsible for the pets of guests who visit their unit.                                                                                                                                                                                                                                                                                                                                                                                                                                                                                                                                                                                                                                                                                                                                                                                          </td></tr>\\n<tr><td style=\"text-align: right;\"> 19</td><td>&quot;tenant_name&quot;: null, &quot;unit_address&quot;: null, &quot;unit_number&quot;: null, &quot;unit_type&quot;: null, &quot;agreement_date&quot;: null, &quot;lease_start&quot;: null, &quot;lease_end&quot;: null, &quot;lease_auto_renew&quot;: null, &quot;hourly_rate&quot;: null, &quot;monthly_rent&quot;: null, &quot;prorated_rent&quot;: null, &quot;security_deposit&quot;: null, &quot;lease_rent&quot;: null, &quot;monthly_payment_breakdown&quot;: null, &quot;utility_charges&quot;: null                                                                                                                                                                                                                                                                                                                                                                                                                                                                                                                      </td><td>&quot;, &quot;type&quot;: [ &quot;string&quot;, &quot;null&quot; ], &quot;description&quot;: &quot;The date when the lease ends, found in the OCR text.&quot;, &quot;lease_start&quot;:  &quot;type&quot;: [ &quot;string&quot;, &quot;null&quot; ], &quot;format&quot;: &quot;date&quot; ], &quot;description&quot;: &quot;The date when the lease starts, found in the OCR text.&quot;, &quot;lease_end&quot;:  &quot;type&quot;: [ &quot;string&quot;, &quot;null&quot; ], &quot;description&quot;: &quot;The date when the lease ends, found in the OCR text.&quot;                                                                                                                                                                                                                                                                                                                                                                                                                                                                                                                                                                                                                                                                                                                                                                                                                                                                                                                                                                                                                                                                                                                                                                                                                                                                                                                                                                                                                                                                                                                                                                                                                                                                                                                                                                                                                                                                                                                                                                                                                                           </td></tr>\\n<tr><td style=\"text-align: right;\"> 20</td><td>&quot;tenant_name&quot;: null, &quot;unit_address&quot;: null, &quot;unit_number&quot;: null, &quot;unit_type&quot;: null, &quot;agreement_date&quot;: null, &quot;lease_start&quot;: null, &quot;lease_end&quot;: null, &quot;lease_auto_renew&quot;: null, &quot;hourly_rate&quot;: null, &quot;monthly_rent&quot;: null, &quot;prorated_rent&quot;: null, &quot;security_deposit&quot;: null, &quot;lease_rent&quot;: null, &quot;monthly_payment_breakdown&quot;: null, &quot;utility_charges&quot;: &quot;gas&quot;: null, &quot;water&quot;: null, &quot;sewer&quot;: null, &quot;electricity&quot;: null, &quot;waste removal&quot;: null                                                                                                                                                                                                                                                                                                                                                                                                                                     </td><td>Lessor, CRIMINAL_ACTIVITY, if, during, or its, subsequent, renewals, Lessee or any regular occupant of leased premises is charged with an offense which may result in a felony conviction or which constitutes a crime against a person, or which involves use, manufacture or distribution of illegal drugs, Lessor may at his option terminate this lease, and seek such other remedies as may be available by law. By signing this lease, tenant agrees to this policy. 32. PARKING. Tenant is permitted to park one (1) vehicle only in the parking space provided next to the apartment. This includes vehicles owned by Occupants Other Than Tenant and any visiting guests. Any vehicles found parked in front (by the door) or behind (on the grass or dirt) or in excess of one (1) in number will be towed at the vehicle owner&#x27;s expense without warning. Any damages from the result of parking in undesignated parking areas (landscaping, underground utilities including, water, sewer, electric, etc.) will be repaired at tenant expense. By signing this lease, tenant agrees to this policy.                                                                                                                                                                                                                                                                                                                                                                                                                                                                                                                                                                                                                                                                                                                                                                                                                                                                                                                                                                                                                                                                                                                                                                                                                                                                                                </td></tr>\\n<tr><td style=\"text-align: right;\"> 21</td><td>&quot;tenant_name&quot;: null, &quot;unit_address&quot;: null, &quot;unit_number&quot;: null, &quot;unit_type&quot;: null, &quot;agreement_date&quot;: null, &quot;lease_start&quot;: null, &quot;lease_end&quot;: null, &quot;lease_auto_renew&quot;: null, &quot;hourly_rate&quot;: null, &quot;monthly_rent&quot;: null, &quot;prorated_rent&quot;: null, &quot;security_deposit&quot;: null, &quot;lease_rent&quot;: null, &quot;monthly_payment_breakdown&quot;: null, &quot;utility_charges&quot;: null                                                                                                                                                                                                                                                                                                                                                                                                                                                                                                                      </td><td>DAAF OLD!, EPA, United States Environmental Protection Agency, United States Consumer Product Safety Commission, DEPA, AND UR * USING L + MENT D, United States Department of Housing and Urban Development                                                                                                                                                                                                                                                                                                                                                                                                                                                                                                                                                                                                                                                                                                                                                                                                                                                                                                                                                                                                                                                                                                                                                                                                                                                                                                                                                                                                                                                                                                                                                                                                                                                                                                                                                                                                                                                                                                                                                                                                                                                                                                                                                                                                    </td></tr>\\n<tr><td style=\"text-align: right;\"> 22</td><td>&quot;tenant_name&quot;: null, &quot;unit_address&quot;: null, &quot;unit_number&quot;: null, &quot;unit_type&quot;: null, &quot;agreement_date&quot;: null, &quot;lease_start&quot;: null, &quot;lease_end&quot;: null, &quot;lease_auto_renew&quot;: null, &quot;hourly_rate&quot;: null, &quot;monthly_rent&quot;: null, &quot;prorated_rent&quot;: null, &quot;security_deposit&quot;: null, &quot;lease_rent&quot;: null, &quot;monthly_payment_breakdown&quot;: null, &quot;utility_charges&quot;: null                                                                                                                                                                                                                                                                                                                                                                                                                                                                                                                      </td><td>22. NOTICE TO TENANT. THIS LEASE CONTAINS WAIVERS OF CONSUMER RIGHTS. TENANT WAIVES CERTAIN RIGHTS BY SIGNING THIS LEASE. 23. NO JURY TRIAL. Landlord and Tenant waive and give up any right to any jury trial for any claim or matter concerning this Lease or the Leased Unit. 24. BANKRUPTCY. If Tenant files a petition in bankruptcy, rent and charges will be prorated for the month in which the bankruptcy petition is filed. The rent for the remainder of that month (prorated) is due and payable within two (2) days after the filing of the petition in bankruptcy. This paragraph does not change any other rights or obligations of Tenant. 25. INCORRECT INFORMATION IN APPLICATION. If Tenant provided incorrect information in the Application, it is a breach of this Lease. Landlord may end this Lease and/or sue Tenant for possession and/or any losses or money damages if the Application contained incorrect information. 26. JOINT AND SEVERAL. Each person who signs this Lease is fully responsible to do what is stated in the Lease. Each signer is responsible to pay the rent in full. 27. NOTICE TO CO-SIGNERS/GUARANTORS. Landlord has the right but not the obligation to contact any co-signer/guarantor and/or to provide notice to any co-signer/guarantor of any breach of this Lease by Tenant. 28. ADDITIONAL RENT. All payments due under this Lease are either rent (paragraph 3) or additional rent. 29. ADDITIONAL TERMS AND CONTITIONS. The Rules and Regulations that are attached are part of this Lease. Violation of any of the &quot;Rules and Regulations&quot; is a breach of this Lease.                                                                                                                                                                                                                                                                                                                                                                                                                                                                                                                                                                                                                                                                                                                                                                          </td></tr>\\n<tr><td style=\"text-align: right;\"> 23</td><td>&quot;tenant_name&quot;: null, &quot;unit_address&quot;: null, &quot;unit_number&quot;: null, &quot;unit_type&quot;: null, &quot;agreement_date&quot;: null, &quot;lease_start&quot;: &quot;2023-07-01&quot;, &quot;lease_end&quot;: &quot;2024-09-30&quot;, &quot;lease_auto_renew&quot;: &quot;12-month lease&quot;, &quot;hourly_rate&quot;: null, &quot;monthly_rent&quot;: 1400.0, &quot;prorated_rent&quot;: 46.0, &quot;security_deposit&quot;: null, &quot;lease_rent&quot;: null, &quot;monthly_payment_breakdown&quot;: null, &quot;utility_charges&quot;: &quot;utility_charge&quot;: null                                                                                                                                                                                                                                                                                                                                                                                                                                                                      </td><td>DOCUSIGNEVEL_ID: 7C1DBD69-95D2-41C3-ACDE-B64B897C3FEC Rev 10 22 persons who wish to reside on the premises must be named in this paragraph, be submitted to our screening and application process and, if over age 18, sign this lease. If any adults occupy the premises other than those listed herein, the LESSOR shall have the option of pursuing any remedies allowed by law, including terminating the lease, or increasing the rent in the amount of $ 1.400.00per additional adult. The provisions of this paragraph do not apply to the LESSEES minor children except that the total number of persons occupying the premises shall not exceed two per bedroom. (Sec. 441.060, R.S. Mo.) Upon request by the LESSOR, the LESSEE shall provide satisfactory proof of his familial relationship to other occupants of the premises or the name and address of any person visiting or temporarily residing on the premises. The LESSOR is not obliged to allow any other person access to the premises without the LESSEEs written instructions. 3. PREMISES, INITIAL TERM, AND RENEWAL. LESSOR does hereby lease to the LESSEE in its present condition the previously described premises for the initial term beginning 7/01/2023 and ending at 9/30/2024 midnight UNLESS terminated by either party in writing at least 60 days PRIOR to the expiration of the initial or successive terms. LESSEE shall deliver peaceful possession of unit to LESSOR upon termination hereof for any reason. If the LESSEE remains on the premises after the term of the lease it automatically renews into a 12-month lease and all terms of lease shall remain in effect. LESSEE must provide written notice of vacating 60 days in advance. 4. RENT, LATE CHAR                                                                                                                                                                                                                                                                                                                                                                                                                                                                                                                                                                                                                                                  </td></tr>\\n<tr><td style=\"text-align: right;\"> 24</td><td>&quot;tenant_name&quot;: null, &quot;unit_address&quot;: &quot;333 H Street, Ste. 5000, Chula Vista, CA 91910&quot;, &quot;unit_number&quot;: null, &quot;unit_type&quot;: null, &quot;agreement_date&quot;: null, &quot;lease_start&quot;: null, &quot;lease_end&quot;: &quot;2024-03-31&quot;, &quot;lease_auto_renew&quot;: null, &quot;hourly_rate&quot;: null, &quot;monthly_rent&quot;: 3350.0, &quot;prorated_rent&quot;: 2121.67, &quot;security_deposit&quot;: 2500.0, &quot;lease_rent&quot;: null, &quot;monthly_payment_breakdown&quot;: &quot;Liability to Landlord Insurance&quot;: 9.5, &quot;Admin Fee - Liability to Landlord Insurance&quot;: 3.0, &quot;Rent Income&quot;: 3350.0, &quot;Total&quot;: 3362.5, &quot;utility_charges&quot;: null                                                                                                                                                                                                                                                                                                                             </td><td>MONTHLY_CHARGES, AdminFee, LiabilityToLandlord, RentIncome, Total, PRORATED_RENT, ADDITIONAL_CHARGES, LATE_CHARGE, SECURITY_DEPOSIT, PAYMENT_INSTRUCTIONS, 333H_STREET, STE. 5000, Chula Vista, CA 91910, (888)557-HEET (4338),                                                                                                                                                                                                                                                                                                                                                                                                                                                                                                                                                                                                                                                                                                                                                                                                                                                                                                                                                                                                                                                                                                                                                                                                                                                                                                                                                                                                                                                                                                                                                                                                                                                                                                                                                                                                                                                                                                                                                                                                                                                                                                                                                                                </td></tr>\\n<tr><td style=\"text-align: right;\"> 25</td><td>&quot;tenant_name&quot;: &quot;Saray Ramos Gutierrez&quot;, &quot;unit_address&quot;: &quot;5010 N. 22nd Ave Phoenix 85015 Arizona&quot;, &quot;unit_number&quot;: &quot;100&quot;, &quot;unit_type&quot;: &quot;furnished unfurnished apartment&quot;, &quot;agreement_date&quot;: &quot;2021-11-01&quot;, &quot;lease_start&quot;: &quot;2021-11-01&quot;, &quot;lease_end&quot;: &quot;2022-10-31&quot;, &quot;lease_auto_renew&quot;: &quot;month-to-month&quot;, &quot;hourly_rate&quot;: null, &quot;monthly_rent&quot;: 1813.0, &quot;prorated_rent&quot;: null, &quot;security_deposit&quot;: 1300.0, &quot;lease_rent&quot;: 21756.0, &quot;monthly_payment_breakdown&quot;: &quot;Rent&quot;: 1813.0, &quot;City Sales Tax&quot;: 41.69, &quot;Utility Income (RUBS)&quot;: 100.0, &quot;TOTAL MONTHLY RENT&quot;: 1954.69, &quot;utility_charges&quot;: &quot;Natural Gas&quot;: null, &quot;Electricity&quot;: null, &quot;Water, sewer, trash&quot;: null                                                                                                                                                                                                                   </td><td>MONTHLY RENTAL OTHER CHARGES AND DEPOSIT(S) Security Deposit $ 1300 CHARGES Rent $1813.00 Pet Deposit $ n/a (Does not apply to assistance animals) Pet Rent $ or (Does not apply to assistive animals) City Sales Tax $41.69 (Applicable rate subject to change during lease term) Subtotal $ 1,854.69 Utility Income (RUBS) $ 100 or Adm. Fees $ n/a UTILITIES: Natural Gas Paid by: Resident Electricity Paid by: Resident Other WATER_, sewer, trashPaid by: Resident V (RUBS program in place, subject to change) TOTAL MONTHLY RENT $ 1.954.69 OTHER TERMS AND CONDIT                                                                                                                                                                                                                                                                                                                                                                                                                                                                                                                                                                                                                                                                                                                                                                                                                                                                                                                                                                                                                                                                                                                                                                                                                                                                                                                                                                                                                                                                                                                                                                                                                                                                                                                                                                                                                                     </td></tr>\\n<tr><td style=\"text-align: right;\"> 26</td><td>&quot;tenant_name&quot;: null, &quot;unit_address&quot;: null, &quot;unit_number&quot;: null, &quot;unit_type&quot;: null, &quot;agreement_date&quot;: null, &quot;lease_start&quot;: null, &quot;lease_end&quot;: null, &quot;lease_auto_renew&quot;: null, &quot;hourly_rate&quot;: null, &quot;monthly_rent&quot;: 875.0, &quot;prorated_rent&quot;: null, &quot;security_deposit&quot;: null, &quot;lease_rent&quot;: null, &quot;monthly_payment_breakdown&quot;: &quot;Rent&quot;: 850.0, &quot;Pet Rent&quot;: 0.0, &quot;RUBS&quot;: 25.0, &quot;Parking&quot;: 0.0, &quot;utility_charges&quot;: null                                                                                                                                                                                                                                                                                                                                                                                                                                                             </td><td>OCR text&quot;                                                                                                                                                                                                                                                                                                                                                                                                                                                                                                                                                                                                                                                                                                                                                                                                                                                                                                                                                                                                                                                                                                                                                                                                                                                                                                                                                                                                                                                                                                                                                                                                                                                                                                                                                                                                                                                                                                                                                                                                                                                                                                                                                                                                                                                                                                                                                                                                      </td></tr>\\n<tr><td style=\"text-align: right;\"> 27</td><td>&quot;tenant_name&quot;: null, &quot;unit_address&quot;: null, &quot;unit_number&quot;: null, &quot;unit_type&quot;: null, &quot;agreement_date&quot;: null, &quot;lease_start&quot;: null, &quot;lease_end&quot;: null, &quot;lease_auto_renew&quot;: null, &quot;hourly_rate&quot;: null, &quot;monthly_rent&quot;: 2074.0, &quot;prorated_rent&quot;: 1404.97, &quot;security_deposit&quot;: null, &quot;lease_rent&quot;: null, &quot;monthly_payment_breakdown&quot;: null, &quot;utility_charges&quot;: null                                                                                                                                                                                                                                                                                                                                                                                                                                                                                                                 </td><td>Any security deposit or advance rent you paid is being held in one of the following three ways as indicated below [Landlord check one option]: X                                                                                                                                                                                                                                                                                                                                                                                                                                                                                                                                                                                                                                                                                                                                                                                                                                                                                                                                                                                                                                                                                                                                                                                                                                                                                                                                                                                                                                                                                                                                                                                                                                                                                                                                                                                                                                                                                                                                                                                                                                                                                                                                                                                                                                                               </td></tr>\\n<tr><td style=\"text-align: right;\"> 28</td><td>&quot;tenant_name&quot;: null, &quot;unit_address&quot;: null, &quot;unit_number&quot;: null, &quot;unit_type&quot;: null, &quot;agreement_date&quot;: null, &quot;lease_start&quot;: &quot;2023-07-25&quot;, &quot;lease_end&quot;: &quot;2024-08-31&quot;, &quot;lease_auto_renew&quot;: &quot;12-month lease&quot;, &quot;hourly_rate&quot;: null, &quot;monthly_rent&quot;: 1200.0, &quot;prorated_rent&quot;: 288.0, &quot;security_deposit&quot;: null, &quot;lease_rent&quot;: 15750.0, &quot;monthly_payment_breakdown&quot;: &quot;rent&quot;: 1200.0, &quot;community charge&quot;: 75.0, &quot;utility_charges&quot;: null                                                                                                                                                                                                                                                                                                                                                                                                                                                </td><td>DOCUSIGNEVEL_ID: 060DFDED-7A8C-48F3-88ED-4B88F3943AD4 Rev 10 22 persons who wish to reside on the premises must be named in this paragraph, be submitted to our screening and application process and, if over age 18, sign this lease. If any adults occupy the premises other than those listed herein, the LESSOR shall have the option of pursuing any remedies allowed by law, including terminating the lease, or increasing the rent in the amount of $ 1200.00 per additional adult. The provisions of this paragraph do not apply to the LESSEES minor children except that the total number of persons occupying the premises shall not exceed two per bedroom. (Sec. 441.060, R.S. Mo.) Upon request by the LESSOR, the LESSEE shall provide satisfactory proof of his familial relationship to other occupants of the premises or the name and address of any person visiting or temporarily residing on the premises. The LESSOR is not obliged to allow any other person access to the premises without the LESSEEs written instructions. 3. PREMISES, INITIAL TERM, AND RENEWAL. LESSOR does hereby lease to the LESSEE in its present condition the previously described premises for the initial term beginning 7/25/2023 and ending at 8/31/2024 midnight UNLESS terminated by either party in writing at least 60 days PRIOR to the expiration of the initial or successive terms. LESSEE shall deliver peaceful possession of unit to LESSOR upon termination hereof for any reason. If the LESSEE remains on the premises after the term of the lease it automatically renews into a 12-month lease and all terms of lease shall remain in effect. LESSEE must provide written notice of vacating 60 days in advance. 4. RENT, LATE CHARGES AND                                                                                                                                                                                                                                                                                                                                                                                                                                                                                                                                                                                                                                           </td></tr>\\n<tr><td style=\"text-align: right;\"> 29</td><td>&quot;tenant_name&quot;: &quot;Alisher Rakhmonov&quot;, &quot;unit_address&quot;: null, &quot;unit_number&quot;: null, &quot;unit_type&quot;: null, &quot;agreement_date&quot;: null, &quot;lease_start&quot;: &quot;2022-03-27&quot;, &quot;lease_end&quot;: &quot;2037-03-27&quot;, &quot;lease_auto_renew&quot;: null, &quot;hourly_rate&quot;: null, &quot;monthly_rent&quot;: null, &quot;prorated_rent&quot;: null, &quot;security_deposit&quot;: null, &quot;lease_rent&quot;: null, &quot;monthly_payment_breakdown&quot;: null, &quot;utility_charges&quot;: null                                                                                                                                                                                                                                                                                                                                                                                                                                                                                       </td><td>Ocean Drive  421-A PROVIDES THAT THE APARTMENT WILL BE SUBJECT TO THE RSL FOR FIFTEEN (15) YEARS, AND, UNLESS THE PRESENT LAWS ARE CHANGED, THE APARTMENT WILL ALSO BE SUBJECT TO STANDARD RENT INCREASES ON LEASE RENEWALS DURING SAID FIFTEEN (15) YEAR PERIOD, AS APPROVED BY THE RENT GUIDELINES BOARD. ANY INCREASES GRANTED BY THE RENT GUIDELINES BOARD SHALL BE MADE TO THE RENT SHOWN IN THE ORIGINAL LEASE OR THE MOST RECENT LEASE RENEWAL NOTICE AS APPLICABLE. OWNER IN GOOD FAITH BELIEVES THAT THE  421-A TAX BENEFITS WILL EXPIRE ON OR ABOUT JUNE 30, 2035. AFTER SUCH DATE, THE APARTMENT WILL NOT BE REGULATED AS TO THE AMOUNT OF RENT THAT MAY BE CHARGED FOR THE APARTMENT NOR WILL THE OWNER BE LEGALLY OBLIGATED TO RENEW THE LEASE. IF THE OWNER SHOULD ELECT TO RENEW THE LEASE AT THAT TIME, THE OWNER WILL NOT BE LEGALLY BOUND BY ANY GOVERNMENTAL RENT GUIDELINES AND MAY CHARGE AN UNREGULATED RENT. TENANT ACKNOWLEDGES THAT HE OR SHE HAS BEEN INFORMED OF OWNER&#x27;S RIGHT TO INCLUDE THIS PROVISION IN THE LEASE. II. YOUR CONFIRMATION                                                                                                                                                                                                                                                                                                                                                                                                                                                                                                                                                                                                                                                                                                                                                                                                                                                                                                                                                                                                                                                                                                                                                                                                                                                                                                                                        </td></tr>\\n<tr><td style=\"text-align: right;\"> 30</td><td>&quot;tenant_name&quot;: null, &quot;unit_address&quot;: &quot;8230 Monroe Dr.&quot;, &quot;unit_number&quot;: &quot;B&quot;, &quot;unit_type&quot;: null, &quot;agreement_date&quot;: null, &quot;lease_start&quot;: null, &quot;lease_end&quot;: null, &quot;lease_auto_renew&quot;: null, &quot;hourly_rate&quot;: null, &quot;monthly_rent&quot;: null, &quot;prorated_rent&quot;: null, &quot;security_deposit&quot;: 525.0, &quot;lease_rent&quot;: null, &quot;monthly_payment_breakdown&quot;: null, &quot;utility_charges&quot;: null                                                                                                                                                                                                                                                                                                                                                                                                                                                                                                         </td><td>INTIALS BM DS 6.                                                                                                                                                                                                                                                                                                                                                                                                                                                                                                                                                                                                                                                                                                                                                                                                                                                                                                                                                                                                                                                                                                                                                                                                                                                                                                                                                                                                                                                                                                                                                                                                                                                                                                                                                                                                                                                                                                                                                                                                                                                                                                                                                                                                                                                                                                                                                                                               </td></tr>\\n<tr><td style=\"text-align: right;\"> 31</td><td>&quot;tenant_name&quot;: &quot;Ricquan Moore&quot;, &quot;unit_address&quot;: &quot;7608 Pinery Way, Tampa, FL 33615&quot;, &quot;unit_number&quot;: &quot;02H&quot;, &quot;unit_type&quot;: null, &quot;agreement_date&quot;: &quot;2023-04-18&quot;, &quot;lease_start&quot;: &quot;2023-04-28&quot;, &quot;lease_end&quot;: &quot;2024-04-27&quot;, &quot;lease_auto_renew&quot;: &quot;month-to-month&quot;, &quot;hourly_rate&quot;: null, &quot;monthly_rent&quot;: null, &quot;prorated_rent&quot;: null, &quot;security_deposit&quot;: null, &quot;lease_rent&quot;: null, &quot;monthly_payment_breakdown&quot;: null, &quot;utility_charges&quot;: null                                                                                                                                                                                                                                                                                                                                                                                                                                        </td><td>1. PARTIES. Ricquan Moore and us, the owner: Meridian Luxury Condominiums (name of apartment community or title holder). You&#x27;ve agreed to rent Apartment No. 02H at 7608 PINERY WAY (street address) in Tampa (city), Florida,.... 33615.(zip code) (the &quot;dwelling unit&quot; or the &quot;premises&quot;) for use as a private residence only. The terms &quot;you&quot; and &quot;your&quot; refer to all residents listed above. The terms &quot;we,&quot; &quot;us,&quot; and &quot;our&quot; refer to the owner listed above (or any of owner&#x27;s successors&#x27; in interest or assigns). Written or electronic notice to or from our managers constitutes notice to or from us. If anyone else has guaranteed performance of this Lease Contract, a separate Lease Contract Guaranty for each guarantor is attached. The :unselected: Owner or X Manager of these apartments is LPC :selected: Southeast I, Inc. whose address is 7605 Pinery Way, Tampa, FL 33615 Such person or company is authorized to receive notices and demands in the landlord&#x27;s behalf. A lease termination notice must be given in writing. Notice to the landlord must be delivered to the management office at the apartment community or any other address designated by management as follows: 7605 Pinery Way, Tampa, FL 33615 Notice to the tenant must be delivered to the Resident&#x27;s address                                                                                                                                                                                                                                                                                                                                                                                                                                                                                                                                                                                                                                                                                                                                                                                                                                                                                                                                                                                                                                                                                                 </td></tr>\\n<tr><td style=\"text-align: right;\"> 32</td><td>&quot;tenant_name&quot;: null, &quot;unit_address&quot;: null, &quot;unit_number&quot;: null, &quot;unit_type&quot;: null, &quot;agreement_date&quot;: null, &quot;lease_start&quot;: null, &quot;lease_end&quot;: null, &quot;lease_auto_renew&quot;: null, &quot;hourly_rate&quot;: null, &quot;monthly_rent&quot;: null, &quot;prorated_rent&quot;: null, &quot;security_deposit&quot;: null, &quot;lease_rent&quot;: null, &quot;monthly_payment_breakdown&quot;: null, &quot;utility_charges&quot;: null                                                                                                                                                                                                                                                                                                                                                                                                                                                                                                                      </td><td>Tenant, Smoking, Smoking of tobacco and/or other legal substances, Smoking of illegal substance, Smoking of tobacco and/or other legal substances, Smoking of tobacco and/or other legal substances, Smoking of tobacco and/or other legal substances, Smoking of tobacco and/or other legal substances, Smoking of tobacco and/or other legal substances, Smoking of tobacco and/or other legal substances, Smoking of tobacco and/or other legal substances, Smoking of tobacco and/or other legal substances, Smoking of tobacco and/or other legal substances, Smoking of tobacco and/or other legal substances, Smoking of tobacco and/or other legal substances, Smoking of tobacco and/or other legal substances, Smoking of tobacco and/or other legal substances, Smoking of tobacco and/or other legal substances, Smoking of tobacco and/or other legal substances, Smoking of tobacco and/or other legal substances, Smoking of tobacco and/or other legal substances, Smoking of tobacco and/or other legal substances, Smoking of tobacco and/or other legal substances, Smoking of tobacco and/or other legal substances, Smoking of tobacco and/or other legal substances, Smoking of tobacco and/or other legal substances, Smoking of tobacco and/or other legal substances, Smoking of tobacco and/or other legal substances, Smoking of tobacco and/or other legal substances, Smoking of tobacco and/or other legal substances, Smoking of tobacco and/or other legal substances, Smoking of tobacco and/or other legal substances, Smoking of tobacco and/or other legal substances, Smoking of tobacco and/or other legal substances, Smoking of tobacco and/or other legal substances, Smoking of tobacco and/or other legal substances, Smoking of tobacco and/or other legal substances, Smoking of tobacco and/or other legal substances, Smoking of tobacco and/or other legal substances, Smoking of tobacco and/or other legal substances, Smoking of tobacco and/or other legal substances, Smoking of tobacco and/or other legal substances, Smoking of tobacco and/or other legal substances, Smoking of tobacco and/or other legal substances, Smoking of tobacco and/or other legal substances, Smoking of tobacco and/or other legal substances, Smoking of tobacco and/or other legal substances, Smoking of tobacco and/or other legal substances, Smoking of tobacco and</td></tr>\\n<tr><td style=\"text-align: right;\"> 33</td><td>&quot;tenant_name&quot;: null, &quot;unit_address&quot;: null, &quot;unit_number&quot;: null, &quot;unit_type&quot;: null, &quot;agreement_date&quot;: null, &quot;lease_start&quot;: null, &quot;lease_end&quot;: null, &quot;lease_auto_renew&quot;: null, &quot;hourly_rate&quot;: null, &quot;monthly_rent&quot;: null, &quot;prorated_rent&quot;: null, &quot;security_deposit&quot;: null, &quot;lease_rent&quot;: null, &quot;monthly_payment_breakdown&quot;: null, &quot;utility_charges&quot;: null                                                                                                                                                                                                                                                                                                                                                                                                                                                                                                                      </td><td>LESSEES_ARE_RESPONSIBLE                                                                                                                                                                                                                                                                                                                                                                                                                                                                                                                                                                                                                                                                                                                                                                                                                                                                                                                                                                                                                                                                                                                                                                                                                                                                                                                                                                                                                                                                                                                                                                                                                                                                                                                                                                                                                                                                                                                                                                                                                                                                                                                                                                                                                                                                                                                                                                                        </td></tr>\\n<tr><td style=\"text-align: right;\"> 34</td><td>&quot;tenant_name&quot;: &quot;Peter Mendes&quot;, &quot;unit_address&quot;: null, &quot;unit_number&quot;: null, &quot;unit_type&quot;: null, &quot;agreement_date&quot;: null, &quot;lease_start&quot;: null, &quot;lease_end&quot;: null, &quot;lease_auto_renew&quot;: null, &quot;hourly_rate&quot;: null, &quot;monthly_rent&quot;: null, &quot;prorated_rent&quot;: null, &quot;security_deposit&quot;: null, &quot;lease_rent&quot;: null, &quot;monthly_payment_breakdown&quot;: null, &quot;utility_charges&quot;: null                                                                                                                                                                                                                                                                                                                                                                                                                                                                                                            </td><td>Casualty Loss, RESIDENT, GUEST, OR OCCUPIENT, PERSONAL_INJURY, PERSONAL_PROPERTY, PERSONAL_INJURY, PERSONAL_PROPERTY, PERSONAL_INJURY, PERSONAL_PROPERTY, PERSONAL_PROPERTY, PERSONAL_PROPERTY, PERSONAL_PROPERTY, PERSONAL_PROPERTY, PERSONAL_PROPERTY, PERSONAL_PROPERTY, PERSONAL_PROPERTY, PERSONAL_PROPERTY, PERSONAL_PROPERTY, PERSONAL_PROPERTY, PERSONAL_PROPERTY, PERSONAL_PROPERTY, PERSONAL_PROPERTY, PERSONAL_PROPERTY, PERSONAL_PROPERTY, PERSONAL_PROPERTY, PERSONAL_PROPERTY, PERSONAL_PROPERTY, PERSONAL_PROPERTY, PERSONAL_PROPERTY, PERSONAL_PROPERTY, PERSONAL_PROPERTY, PERSONAL_PROPERTY, PERSONAL_PROPERTY, PERSONAL_PROPERTY, PERSONAL_PROPERTY, PERSONAL_PROPERTY, PERSONAL_PROPERTY, PERSONAL_PROPERTY, PERSONAL_PROPERTY, PERSONAL_PROPERTY, PERSONAL_PROPERTY, PERSONAL_PROPERTY, PERSONAL_PROPERTY, PERSONAL_PROPERTY, PERSONAL_PROPERTY, PERSONAL_PROPERTY, PERSONAL_PROPERTY, PERSONAL_PROPERTY, PERSONAL_PROPERTY, PERSONAL_PROPERTY, PERSONAL_PROPERTY, PERSONAL_PROPERTY, PERSONAL_PROPERTY, PERSONAL_PROPERTY, PERSONAL_PROPERTY, PERSONAL_PROPERTY, PERSONAL_PROPERTY,                                                                                                                                                                                                                                                                                                                                                                                                                                                                                                                                                                                                                                                                                                                                                                                                                                                                                                                                                                                                                                                                                                                                                                                                                                                                                                      </td></tr>\\n<tr><td style=\"text-align: right;\"> 35</td><td>&quot;tenant_name&quot;: null, &quot;unit_address&quot;: null, &quot;unit_number&quot;: null, &quot;unit_type&quot;: null, &quot;agreement_date&quot;: null, &quot;lease_start&quot;: null, &quot;lease_end&quot;: null, &quot;lease_auto_renew&quot;: null, &quot;hourly_rate&quot;: null, &quot;monthly_rent&quot;: null, &quot;prorated_rent&quot;: null, &quot;security_deposit&quot;: null, &quot;lease_rent&quot;: null, &quot;monthly_payment_breakdown&quot;: null, &quot;utility_charges&quot;: null                                                                                                                                                                                                                                                                                                                                                                                                                                                                                                                      </td><td>Procedures for Replacement,  Responsibillitetf Owner and Resident,  Responsibillitetf Owner and Resident,  Responsibillitetf Owner and Resident,  Responsibillitetf Owner and Resident,  Responsibillitetf Owner and Resident,  Responsibillitetf Owner and Resident,  Responsibillitetf Owner and Resident,  Responsibillitetf Owner and Resident,  Responsibillitetf Owner and Resident,  Responsibillitetf Owner and Resident,  Responsibillitetf Owner and Resident,  Responsibillitetf Owner and Resident,  Responsibillitetf Owner and Resident,  Responsibillitetf Owner and Resident,  Responsibillitetf Owner and Resident,  Responsibillitetf Owner and Resident,  Responsibillitetf Owner and Resident,  Responsibillitetf Owner and Resident,  Responsibillitetf Owner and Resident,  Responsibillitetf Owner and Resident,  Responsibillitetf Owner and Resident,  Responsibillitetf Owner and Resident,  Responsibillitetf Owner and Resident,  Responsibillitetf Owner and Resident,  Responsibillitetf Owner and Resident,  Responsibillitetf Owner and Resident,  Responsibillitetf Owner and Resident,  Responsibillitetf Owner and Resident,  Responsibillitetf Owner and Resident,  Responsibillitetf Owner and Resident,  Responsibillitetf Owner and Resident,  Responsibillitetf Owner and Resident,  Responsibillitetf Owner and Resident,  Responsibillitetf Owner and Resident,  Responsibillitetf Owner and Resident,  Responsibillitetf Owner and Resident,                                                                                                                                                                                                                                                                                                                                                                                                                                                                                                                                                                                                                                                                                                                                                                                                                                                                                                                        </td></tr>\\n<tr><td style=\"text-align: right;\"> 36</td><td>&quot;tenant_name&quot;: &quot;Cameron Maxwell&quot;, &quot;unit_address&quot;: &quot;107 Shoal Run Trail, Birmingham, Alabama, 35242&quot;, &quot;unit_number&quot;: &quot;0107&quot;, &quot;unit_type&quot;: null, &quot;agreement_date&quot;: &quot;2023-03-03&quot;, &quot;lease_start&quot;: &quot;2023-03-07&quot;, &quot;lease_end&quot;: &quot;2024-05-06&quot;, &quot;lease_auto_renew&quot;: &quot;month-to-month&quot;, &quot;hourly_rate&quot;: null, &quot;monthly_rent&quot;: 1076.0, &quot;prorated_rent&quot;: 867.74, &quot;security_deposit&quot;: 1111.0, &quot;lease_rent&quot;: 13988.0, &quot;monthly_payment_breakdown&quot;: null, &quot;utility_charges&quot;: null                                                                                                                                                                                                                                                                                                                                                                                                             </td><td>by, Cameron Maxwell, Trisha Maxwell, Madalyn Carbonie, Madison BAL LLC, ApartmentNo., 0107, 1stMonth, 2ndMonth, 107 Shoal Run Trail, Birmingham, Alabama, 35242                                                                                                                                                                                                                                                                                                                                                                                                                                                                                                                                                                                                                                                                                                                                                                                                                                                                                                                                                                                                                                                                                                                                                                                                                                                                                                                                                                                                                                                                                                                                                                                                                                                                                                                                                                                                                                                                                                                                                                                                                                                                                                                                                                                                                                                </td></tr>\\n<tr><td style=\"text-align: right;\"> 37</td><td>&quot;tenant_name&quot;: null, &quot;unit_address&quot;: null, &quot;unit_number&quot;: null, &quot;unit_type&quot;: null, &quot;agreement_date&quot;: null, &quot;lease_start&quot;: null, &quot;lease_end&quot;: null, &quot;lease_auto_renew&quot;: null, &quot;hourly_rate&quot;: null, &quot;monthly_rent&quot;: null, &quot;prorated_rent&quot;: null, &quot;security_deposit&quot;: null, &quot;lease_rent&quot;: null, &quot;monthly_payment_breakdown&quot;: null, &quot;utility_charges&quot;: null                                                                                                                                                                                                                                                                                                                                                                                                                                                                                                                      </td><td>INSTRUCTIONS TO OWN TOR                                                                                                                                                                                                                                                                                                                                                                                                                                                                                                                                                                                                                                                                                                                                                                                                                                                                                                                                                                                                                                                                                                                                                                                                                                                                                                                                                                                                                                                                                                                                                                                                                                                                                                                                                                                                                                                                                                                                                                                                                                                                                                                                                                                                                                                                                                                                                                                        </td></tr>\\n<tr><td style=\"text-align: right;\"> 38</td><td>&quot;tenant_name&quot;: &quot;Novy Jezkova&quot;, &quot;unit_address&quot;: &quot;2501 Mountain Lodge Circle, Vestavia Hills, Alabama, 35216&quot;, &quot;unit_number&quot;: &quot;2501E&quot;, &quot;unit_type&quot;: null, &quot;agreement_date&quot;: &quot;2023-05-25&quot;, &quot;lease_start&quot;: null, &quot;lease_end&quot;: null, &quot;lease_auto_renew&quot;: null, &quot;hourly_rate&quot;: null, &quot;monthly_rent&quot;: null, &quot;prorated_rent&quot;: null, &quot;security_deposit&quot;: null, &quot;lease_rent&quot;: null, &quot;monthly_payment_breakdown&quot;: null, &quot;utility_charges&quot;: null                                                                                                                                                                                                                                                                                                                                                                                                                                         </td><td>1. DWELLING_UNIT_DESCRIPTION. Unit No. 2501E 2501 Mountain Lodge Circle (street address) in Vestavia Hills (city), Alabama, 35216 (zip code). 2. LEASE_CONTRACT_DESCRIPTION. Lease Contract Date: May 25, 2023 Owner&#x27;s name: Mountain BAL LLC Residents (list all residents): Novy Jezkova The term of this Addendum is as follows: Begins on and ends on This Addendum constitutes an Addendum to the above described Lease Contract for the above described premises, and is hereby incorporated into and made a part of such Lease Contract. 3. A. :unselected: NO APPROVED ANIMALS.                                                                                                                                                                                                                                                                                                                                                                                                                                                                                                                                                                                                                                                                                                                                                                                                                                                                                                                                                                                                                                                                                                                                                                                                                                                                                                                                                                                                                                                                                                                                                                                                                                                                                                                                                                                                                        </td></tr>\\n<tr><td style=\"text-align: right;\"> 39</td><td>&quot;tenant_name&quot;: null, &quot;unit_address&quot;: null, &quot;unit_number&quot;: null, &quot;unit_type&quot;: null, &quot;agreement_date&quot;: &quot;2021-11-01&quot;, &quot;lease_start&quot;: null, &quot;lease_end&quot;: null, &quot;lease_auto_renew&quot;: null, &quot;hourly_rate&quot;: null, &quot;monthly_rent&quot;: null, &quot;prorated_rent&quot;: null, &quot;security_deposit&quot;: null, &quot;lease_rent&quot;: null, &quot;monthly_payment_breakdown&quot;: null, &quot;utility_charges&quot;: null                                                                                                                                                                                                                                                                                                                                                                                                                                                                                                              </td><td>COMMUNITY RULES AND REGULATIONS, GARBAGE, PARKING/ VEHICLES, GARBAGE, GARBAGE, PARKING/ VEHICLES, GARBAGE, GARBAGE, PARKING/ VEHICLES, GARBAGE, GARBAGE, PARKING/ VEHICLES, GARBAGE, GARBAGE, PARKING/ VEHICLES, GARBAGE, GARBAGE, PARKING/ VEHICLES, GARBAGE, GARBAGE, PARKING/ VEHICLES, GARBAGE, GARBAGE, PARKING/ VEHICLES, GARBAGE, GARBAGE, PARKING/ VEHICLES, GARBAGE, GARBAGE, PARKING/ VEHICLES, GARBAGE, GARBAGE, PARKING/ VEHICLES, GARBAGE, GARBAGE, PARKING/ VEHICLES, GARBAGE, GARBAGE, PARKING/ VEHICLES, GARBAGE, GARBAGE, PARKING/ VEHICLES, GARBAGE, GARBAGE, PARKING/ VEHICLES, GARBAGE, GARBAGE, PARKING/ VEHICLES, GARBAGE, GARBAGE, PARKING/ VEHICLES, GARBAGE, GARBAGE, PARKING/ VEHICLES, GARBAGE, GARBAGE, PARKING/ VEHICLES, GARBAGE, GARBAGE, PARKING/ VEHICLES, GARBAGE, GARBAGE, PARKING/ VEHICLES, GARBAGE, GARBAGE, PARKING/ VEHICLES, GARBAGE, GARBAGE, PARKING/ VEHICLES, GARBAGE, GARBAGE, PARKING/ VEHICLES, GARBAGE, GARBAGE, PARKING/ VEHICLES, GARBAGE, GARBAGE, PARKING/ VEHICLES, GARBAGE,                                                                                                                                                                                                                                                                                                                                                                                                                                                                                                                                                                                                                                                                                                                                                                                                                                                                                                                                                                                                                                                                                                                                                                                                                                                                                                                                                                             </td></tr>\\n<tr><td style=\"text-align: right;\"> 40</td><td>&quot;tenant_name&quot;: null, &quot;unit_address&quot;: null, &quot;unit_number&quot;: null, &quot;unit_type&quot;: null, &quot;agreement_date&quot;: null, &quot;lease_start&quot;: null, &quot;lease_end&quot;: null, &quot;lease_auto_renew&quot;: null, &quot;hourly_rate&quot;: null, &quot;monthly_rent&quot;: null, &quot;prorated_rent&quot;: null, &quot;security_deposit&quot;: null, &quot;lease_rent&quot;: null, &quot;monthly_payment_breakdown&quot;: null, &quot;utility_charges&quot;: &quot;Gas&quot;: null, &quot;Electricity&quot;: null, &quot;Water&quot;: 0, &quot;Sewer&quot;: 0, &quot;Trash&quot;: 0, &quot;Cable&quot;: 0                                                                                                                                                                                                                                                                                                                                                                                                                                          </td><td>UTILITY/ SERVICE UTILITY&#x27;S CUSTOMER OF RECORD CHARGED TO RESIDENT? UTILITY/ SERVICE UTILITY&#x27;S CUSTOMER OF RECORD CHARGED TO RESIDENT? CALCULATION METHOD FOR CHARGES TO RESIDENT COMMON AREAS Gas :unselected: Landlord X :selected: Resident :selected: Yes :selected: No :selected: Direct billing from utility :selected: Sub-metering :selected: None - Landlord expense Are separately metered and are not charged to Resident Electricity :unselected: Landlord :selected: Resident :selected: Yes :selected: No :selected: Direct billing from utility :selected: Sub-metering :selected: None - Landlord expense Are separately metered and are not charged to Resident Water :unselected: Landlord :selected: Resident :selected: Yes :selected: No :selected: Direct billing from utility :selected: Formula (All water related charges assessed to the Landlord may be used to calculate the amount charged to each Resident. These may include, but not limited to, water related charges contained on tax bills, and all charges contained on utility bills received from the local water providers.) :unselected: Authorized occupant method :unselected: Sub-metering :unselected: Flat fee of $0.00 per month :selected: None - Landlord expense :selected: Are separately metered and are not charged to Resident :selected: Are not separately metered ]                                                                                                                                                                                                                                                                                                                                                                                                                                                                                                                                                                                                                                                                                                                                                                                                                                                                                                                                                                                                                                     </td></tr>\\n<tr><td style=\"text-align: right;\"> 41</td><td>&quot;tenant_name&quot;: &quot;Cameron Maxwell&quot;, &quot;unit_address&quot;: &quot;107 Shoal Run Trail, Birmingham, Alabama, 35242&quot;, &quot;unit_number&quot;: &quot;0107&quot;, &quot;unit_type&quot;: null, &quot;agreement_date&quot;: &quot;2023-03-03&quot;, &quot;lease_start&quot;: null, &quot;lease_end&quot;: null, &quot;lease_auto_renew&quot;: null, &quot;hourly_rate&quot;: null, &quot;monthly_rent&quot;: null, &quot;prorated_rent&quot;: null, &quot;security_deposit&quot;: null, &quot;lease_rent&quot;: null, &quot;monthly_payment_breakdown&quot;: null, &quot;utility_charges&quot;: null                                                                                                                                                                                                                                                                                                                                                                                                                                                  </td><td>DWELLING_UNIT_DESCRIPTION, LEASE_CONTRACT_DATE, RESIDENT&#x27;S_NAME, RESIDENT&#x27;S_PHONE, RESIDENT&#x27;S_WORK_PHONE, RESIDENT&#x27;S_HOME_PHONE, RESIDENT&#x27;S_WORK_PHONE, RESIDENT&#x27;S_HOME_PHONE, RESIDENT&#x27;S_WORK_PHONE, RESIDENT&#x27;S_HOME_PHONE, RESIDENT&#x27;S_WORK_PHONE, RESIDENT&#x27;S_HOME_PHONE, RESIDENT&#x27;S_WORK_PHONE, RESIDENT&#x27;S_HOME_PHONE, RESIDENT&#x27;S_WORK_PHONE, RESIDENT&#x27;S_WORK_PHONE, RESIDENT&#x27;S_WORK_PHONE, RESIDENT&#x27;S_WORK_PHONE, RESIDENT&#x27;S_WORK_PHONE, RESIDENT&#x27;S_WORK_PHONE, RESIDENT&#x27;S_WORK_PHONE, RESIDENT&#x27;S_WORK_PHONE, RESIDENT&#x27;S_WORK_PHONE, RESIDENT&#x27;S_WORK_PHONE, RESIDENT&#x27;S_WORK_PHONE, RESIDENT&#x27;S_WORK_PHONE, RESIDENT&#x27;S_WORK_PHONE, RESIDENT&#x27;S_WORK_PHONE, RESIDENT&#x27;S_WORK_PHONE, RESIDENT&#x27;S_WORK_PHONE, RESIDENT&#x27;S_WORK_PHONE, RESIDENT&#x27;S_WORK_PHONE, RESIDENT&#x27;S_WORK_PHONE, RESIDENT&#x27;S_WORK_PHONE, RESIDENT&#x27;S_WORK_PHONE, RESIDENT&#x27;S_WORK_PHONE, RESIDENT&#x27;S_WORK_PHONE, RESIDENT&#x27;S_WORK_PHONE, RESIDENT&#x27;S_WORK_PHONE, RESIDENT&#x27;S_WORK_PHONE, RESIDENT&#x27;S_WORK_PHONE, RESIDENT&#x27;S_WORK_PHONE, RESIDENT&#x27;S_WORK                                                                                                                                                                                                                                                                                                                                                                                                                                                                                                                                                                                                                                                                                                                                                                                                                                                                                                                                                                                                                                                                                                                                                                                                                                                                                                                                                                                                   </td></tr>\\n<tr><td style=\"text-align: right;\"> 42</td><td>&quot;tenant_name&quot;: &quot;Samantha Putlak&quot;, &quot;unit_address&quot;: &quot;304 Stanhope St.&quot;, &quot;unit_number&quot;: &quot;#2L&quot;, &quot;unit_type&quot;: null, &quot;agreement_date&quot;: null, &quot;lease_start&quot;: &quot;2023-08-01&quot;, &quot;lease_end&quot;: &quot;2024-07-31&quot;, &quot;lease_auto_renew&quot;: null, &quot;hourly_rate&quot;: null, &quot;monthly_rent&quot;: 2800, &quot;prorated_rent&quot;: null, &quot;security_deposit&quot;: 2800, &quot;lease_rent&quot;: 33600, &quot;monthly_payment_breakdown&quot;: null, &quot;utility_charges&quot;: null                                                                                                                                                                                                                                                                                                                                                                                                                                                                         </td><td>TERM: 12 Months MONTHLY_RENT: $2,800 BEGINNING: 8/1/2023 MONTHLY_RENT: $2,800 SECURITY_DEPOSIT: $2,800 TERM: 12 Months MONTHLY_RENT: $2,800 BEGINNING: 8/1/2023 MONTHLY_RENT: $2,800 SECURITY_DEPOSIT: $2,800 TERM: 12 Months MONTHLY_RENT: $2,800 BEGINNING: 8/1/2023 MONTHLY_RENT: $2,800 SECURITY_DEPOSIT: $2,800                                                                                                                                                                                                                                                                                                                                                                                                                                                                                                                                                                                                                                                                                                                                                                                                                                                                                                                                                                                                                                                                                                                                                                                                                                                                                                                                                                                                                                                                                                                                                                                                                                                                                                                                                                                                                                                                                                                                                                                                                                                                                           </td></tr>\\n<tr><td style=\"text-align: right;\"> 43</td><td>&quot;tenant_name&quot;: null, &quot;unit_address&quot;: null, &quot;unit_number&quot;: null, &quot;unit_type&quot;: null, &quot;agreement_date&quot;: null, &quot;lease_start&quot;: null, &quot;lease_end&quot;: null, &quot;lease_auto_renew&quot;: null, &quot;hourly_rate&quot;: null, &quot;monthly_rent&quot;: null, &quot;prorated_rent&quot;: null, &quot;security_deposit&quot;: null, &quot;lease_rent&quot;: null, &quot;monthly_payment_breakdown&quot;: null, &quot;utility_charges&quot;: null                                                                                                                                                                                                                                                                                                                                                                                                                                                                                                                      </td><td>Apartment, Term, Term_Start, Term_End, Term_Start, Term_End, Term_Start, Term_End, Term_Start, Term_End, Term_Start, Term_Start, Term_End, Term_Start, Term_Start, Term_End, Term_Start, Term_Start, Term_End, Term_Start, Term_End, Term_Start, Term_End, Term_Start, Term_End, Term_Start, Term_End, Term_Start, Term_End, Term_Start, Term_End, Term_Start, Term_End, Term_Start, Term_End, Term_Start, Term_End, Term_Start, Term_End, Term_Start, Term_End, Term_Start, Term_End, Term_Start, Term_Start, Term_End, Term_Start, Term_End, Term_Start, Term_End, Term_Start, Term_Start, Term_End, Term_Start, Term_End, Term_Start, Term_End, Term_Start, Term_Start, Term_End, Term_Start, Term_End, Term_Start, Term_End, Term_Start, Term_Start, Term_End, Term_Start, Term_End, Term_Start, Term_Start, Term_End, Term_Start, Term_End, Term_Start, Term_Start, Term_End, Term_Start, Term_End, Term_Start, Term_Start, Term_End, Term_Start, Term_Start, Term_End, Term_Start, Term_                                                                                                                                                                                                                                                                                                                                                                                                                                                                                                                                                                                                                                                                                                                                                                                                                                                                                                                                                                                                                                                                                                                                                                                                                                                                                                                                                                                                                 </td></tr>\\n<tr><td style=\"text-align: right;\"> 44</td><td>&quot;tenant_name&quot;: &quot;Ricquan M Moore Clona Berry&quot;, &quot;unit_address&quot;: null, &quot;unit_number&quot;: null, &quot;unit_type&quot;: null, &quot;agreement_date&quot;: null, &quot;lease_start&quot;: null, &quot;lease_end&quot;: null, &quot;lease_auto_renew&quot;: null, &quot;hourly_rate&quot;: null, &quot;monthly_rent&quot;: null, &quot;prorated_rent&quot;: null, &quot;security_deposit&quot;: null, &quot;lease_rent&quot;: null, &quot;monthly_payment_breakdown&quot;: null, &quot;utility_charges&quot;: null                                                                                                                                                                                                                                                                                                                                                                                                                                                                                             </td><td>us, you will be liable to us and others for any loss, actual damages, fines imposed by any state or local agencies or municipalities, attorney fees and costs. Casualty Loss. We&#x27;re not liable to any resident, guest, or occupant for personal injury or damage or loss of personal property from any cause, including but not limited to: fire, smoke, rain, flood, water and pipe leaks, hail, ice, snow, lightning, wind, explosions, earthquake, interruption of utilities, theft, or vandalism unless otherwise required by law. We have no duty to remove any ice, water, sleet, or snow but may remove any amount with or without notice. During freezing weather, you must ensure that the temperature in the apartment is sufficient to make sure that the pipes do not freeze (the appropriate temperature will depend upon weather conditions and the size and layout of your unit). If the pipes freeze or any other damage is caused by your failure to properly maintain the heat in your apartment, you&#x27;ll be liable for damage to our and other&#x27;s property. If you ask our representatives to perform services not contemplated in this Lease Contract, you will indemnify us and hold us harmless from all liability for those services. Crime or Emergency. Dial 911 or immediately call local medical emergency, fire, or police personnel in case of accident, fire, smoke, or suspected criminal activity or other emergency involving imminent harm. You should then contact our representative. Unless otherwise provided by law, we&#x27;re not liable to you or any guests or occupants for injury, damage, or loss to person or property caused by criminal conduct of other persons, including theft, burglary, assault, vandalism, or other crimes. If we provide any access control devices or security measures upon the property,                                                                                                                                                                                                                                                                                                                                                                                                                                                                                                                                                   </td></tr>\\n<tr><td style=\"text-align: right;\"> 45</td><td>&quot;tenant_name&quot;: null, &quot;unit_address&quot;: null, &quot;unit_number&quot;: null, &quot;unit_type&quot;: null, &quot;agreement_date&quot;: null, &quot;lease_start&quot;: null, &quot;lease_end&quot;: null, &quot;lease_auto_renew&quot;: null, &quot;hourly_rate&quot;: null, &quot;monthly_rent&quot;: null, &quot;prorated_rent&quot;: null, &quot;security_deposit&quot;: null, &quot;lease_rent&quot;: null, &quot;monthly_payment_breakdown&quot;: null, &quot;utility_charges&quot;: null                                                                                                                                                                                                                                                                                                                                                                                                                                                                                                                      </td><td>COMMUNITY POLICIES OR RULES                                                                                                                                                                                                                                                                                                                                                                                                                                                                                                                                                                                                                                                                                                                                                                                                                                                                                                                                                                                                                                                                                                                                                                                                                                                                                                                                                                                                                                                                                                                                                                                                                                                                                                                                                                                                                                                                                                                                                                                                                                                                                                                                                                                                                                                                                                                                                                                    </td></tr>\\n<tr><td style=\"text-align: right;\"> 46</td><td>&quot;tenant_name&quot;: null, &quot;unit_address&quot;: null, &quot;unit_number&quot;: null, &quot;unit_type&quot;: null, &quot;agreement_date&quot;: null, &quot;lease_start&quot;: null, &quot;lease_end&quot;: null, &quot;lease_auto_renew&quot;: null, &quot;hourly_rate&quot;: null, &quot;monthly_rent&quot;: null, &quot;prorated_rent&quot;: null, &quot;security_deposit&quot;: null, &quot;lease_rent&quot;: null, &quot;monthly_payment_breakdown&quot;: null, &quot;utility_charges&quot;: null                                                                                                                                                                                                                                                                                                                                                                                                                                                                                                                      </td><td>General Clauses                                                                                                                                                                                                                                                                                                                                                                                                                                                                                                                                                                                                                                                                                                                                                                                                                                                                                                                                                                                                                                                                                                                                                                                                                                                                                                                                                                                                                                                                                                                                                                                                                                                                                                                                                                                                                                                                                                                                                                                                                                                                                                                                                                                                                                                                                                                                                                                                </td></tr>\\n<tr><td style=\"text-align: right;\"> 47</td><td>&quot;tenant_name&quot;: null, &quot;unit_address&quot;: null, &quot;unit_number&quot;: null, &quot;unit_type&quot;: null, &quot;agreement_date&quot;: &quot;2023-02-25&quot;, &quot;lease_start&quot;: null, &quot;lease_end&quot;: null, &quot;lease_auto_renew&quot;: &quot;month-to-month&quot;, &quot;hourly_rate&quot;: null, &quot;monthly_rent&quot;: null, &quot;prorated_rent&quot;: null, &quot;security_deposit&quot;: null, &quot;lease_rent&quot;: null, &quot;monthly_payment_breakdown&quot;: null, &quot;utility_charges&quot;: null                                                                                                                                                                                                                                                                                                                                                                                                                                                                                                  </td><td>15. REPRESENTATIONS IN RENTAL APPLICATION., FINANCIAL RESPONSIBILITY, NOTICES, MILITARY.                                                                                                                                                                                                                                                                                                                                                                                                                                                                                                                                                                                                                                                                                                                                                                                                                                                                                                                                                                                                                                                                                                                                                                                                                                                                                                                                                                                                                                                                                                                                                                                                                                                                                                                                                                                                                                                                                                                                                                                                                                                                                                                                                                                                                                                                                                                       </td></tr>\\n<tr><td style=\"text-align: right;\"> 48</td><td>&quot;tenant_name&quot;: null, &quot;unit_address&quot;: null, &quot;unit_number&quot;: null, &quot;unit_type&quot;: null, &quot;agreement_date&quot;: null, &quot;lease_start&quot;: &quot;2023-02-25&quot;, &quot;lease_end&quot;: null, &quot;lease_auto_renew&quot;: null, &quot;hourly_rate&quot;: null, &quot;monthly_rent&quot;: null, &quot;prorated_rent&quot;: null, &quot;security_deposit&quot;: null, &quot;lease_rent&quot;: null, &quot;monthly_payment_breakdown&quot;: null, &quot;utility_charges&quot;: null                                                                                                                                                                                                                                                                                                                                                                                                                                                                                                              </td><td>C. Returned Checks. Landlord reserves the right to require that all monthly installments be made by money order, or certified funds, and to impose a service charge of $35.00 on Tenant(s) for returned private party checks. D. Tenant Web Access. TWA provides the ability to pay your rent online and access/update your account information. To create an account, go to: https://hthproperties.com/portals 1. Click TENANTWebACCESS 2. On the Tenant Login screen, click Sign Up. 3. Enter your account number: 6227 4. Enter your email address.5. Create a username and password and click continue. While logged into TWA, click the tabs at the top of the page to: make a payment, display your transaction history, view open charge, or change your password/update personal info. Please contact the office at (540) 777-3711 to update your email if unsure or it does not verify during registration. To set up Auto Pay (Auto Pay Rent Online)-Login to TWA, Click the GEAR or drop-down menu (top right corner), Select Saved Payment Information, Click EDIT button at bottom of page, Enter ACCOUNT TYPE then other detailed information and SAVE. select Enable Automatic Payments and choose desired day, type, and amount. check the &quot;please be advised... &quot; button and select SAVE AUTO PAYMENT SETTINGS. NOTE: a convenience fee will be charged. ($2.95) fee) when using your bank account information or ($2.95+                                                                                                                                                                                                                                                                                                                                                                                                                                                                                                                                                                                                                                                                                                                                                                                                                                                                                                                                                                     </td></tr>\\n<tr><td style=\"text-align: right;\"> 49</td><td>&quot;tenant_name&quot;: null, &quot;unit_address&quot;: null, &quot;unit_number&quot;: null, &quot;unit_type&quot;: null, &quot;agreement_date&quot;: null, &quot;lease_start&quot;: null, &quot;lease_end&quot;: null, &quot;lease_auto_renew&quot;: null, &quot;hourly_rate&quot;: null, &quot;monthly_rent&quot;: null, &quot;prorated_rent&quot;: null, &quot;security_deposit&quot;: null, &quot;lease_rent&quot;: null, &quot;monthly_payment_breakdown&quot;: null, &quot;utility_charges&quot;: null                                                                                                                                                                                                                                                                                                                                                                                                                                                                                                                      </td><td>22. WAIVING_OF_BREACH_NOT_GENERAL_WAIVER. If Landlord waives a noncompliance or breach by Tenant(s) with the Lease Agreement, or with the law, such waiver shall not be interpreted as a waiver of any subsequent breach of noncompliance or breach, and this Lease Agreement shall continue in full force and effect. 23. SUBORDINATION. Tenant(s) agree that this Lease Agreement is subordinate to the lien of any existing or future deeds of trust or mortgages placed on the premises, and Tenant(s) agree to execute whatever additional agreements may be required to so subordinate this Lease Agreement. Landlord reserves the right to assign any of Landlord&#x27;s rights under this Lease Agreement at any time. 24. SEVERABILITY. If any provisions of this Lease Agreement are violation of the law or equity, it is agreed that the remaining provisions are in full force and effect. 25. DISCRIMINATION. Landlord does not discriminate against Tenant(s) in the provision of services, or in any other manner, on the basis of race, color, religion, sex, national origin, familial status, elderliness, or handicap. 26. REASONABLE ATTORNEY&#x27;S FEES/COSTS OF COLLECTION. For purposes of this Lease Agreement, if Tenant(s)&#x27; noncompliance with the Lease Agreement, of the law, causes Landlord to employ                                                                                                                                                                                                                                                                                                                                                                                                                                                                                                                                                                                                                                                                                                                                                                                                                                                                                                                                                                                                                                                                                    </td></tr>\\n<tr><td style=\"text-align: right;\"> 50</td><td>&quot;tenant_name&quot;: &quot;Alejandro Gu00f3mez Munoz&quot;, &quot;unit_address&quot;: &quot;6009 Antoine Dr #6009-A, Houston, TX 77088&quot;, &quot;unit_number&quot;: &quot;6009-A&quot;, &quot;unit_type&quot;: null, &quot;agreement_date&quot;: &quot;2022-10-24&quot;, &quot;lease_start&quot;: null, &quot;lease_end&quot;: null, &quot;lease_auto_renew&quot;: null, &quot;hourly_rate&quot;: null, &quot;monthly_rent&quot;: null, &quot;prorated_rent&quot;: null, &quot;security_deposit&quot;: null, &quot;lease_rent&quot;: null, &quot;monthly_payment_breakdown&quot;: null, &quot;utility_charges&quot;: null                                                                                                                                                                                                                                                                                                                                                                                                                                           </td><td>For More Information                                                                                                                                                                                                                                                                                                                                                                                                                                                                                                                                                                                                                                                                                                                                                                                                                                                                                                                                                                                                                                                                                                                                                                                                                                                                                                                                                                                                                                                                                                                                                                                                                                                                                                                                                                                                                                                                                                                                                                                                                                                                                                                                                                                                                                                                                                                                                                                           </td></tr>\\n<tr><td style=\"text-align: right;\"> 51</td><td>&quot;tenant_name&quot;: &quot;Peter Mendes&quot;, &quot;unit_address&quot;: null, &quot;unit_number&quot;: null, &quot;unit_type&quot;: null, &quot;agreement_date&quot;: null, &quot;lease_start&quot;: &quot;2022-10-01&quot;, &quot;lease_end&quot;: null, &quot;lease_auto_renew&quot;: null, &quot;hourly_rate&quot;: null, &quot;monthly_rent&quot;: 1758.0, &quot;prorated_rent&quot;: 0.0, &quot;security_deposit&quot;: null, &quot;lease_rent&quot;: null, &quot;monthly_payment_breakdown&quot;: null, &quot;utility_charges&quot;: null                                                                                                                                                                                                                                                                                                                                                                                                                                                                                                   </td><td>X                                                                                                                                                                                                                                                                                                                                                                                                                                                                                                                                                                                                                                                                                                                                                                                                                                                                                                                                                                                                                                                                                                                                                                                                                                                                                                                                                                                                                                                                                                                                                                                                                                                                                                                                                                                                                                                                                                                                                                                                                                                                                                                                                                                                                                                                                                                                                                                                              </td></tr>\\n<tr><td style=\"text-align: right;\"> 52</td><td>&quot;tenant_name&quot;: null, &quot;unit_address&quot;: null, &quot;unit_number&quot;: null, &quot;unit_type&quot;: null, &quot;agreement_date&quot;: null, &quot;lease_start&quot;: null, &quot;lease_end&quot;: null, &quot;lease_auto_renew&quot;: null, &quot;hourly_rate&quot;: null, &quot;monthly_rent&quot;: null, &quot;prorated_rent&quot;: null, &quot;security_deposit&quot;: null, &quot;lease_rent&quot;: null, &quot;monthly_payment_breakdown&quot;: null, &quot;utility_charges&quot;: null                                                                                                                                                                                                                                                                                                                                                                                                                                                                                                                      </td><td>ACCESS BY LESSOR                                                                                                                                                                                                                                                                                                                                                                                                                                                                                                                                                                                                                                                                                                                                                                                                                                                                                                                                                                                                                                                                                                                                                                                                                                                                                                                                                                                                                                                                                                                                                                                                                                                                                                                                                                                                                                                                                                                                                                                                                                                                                                                                                                                                                                                                                                                                                                                               </td></tr>\\n<tr><td style=\"text-align: right;\"> 53</td><td>&quot;tenant_name&quot;: null, &quot;unit_address&quot;: null, &quot;unit_number&quot;: null, &quot;unit_type&quot;: null, &quot;agreement_date&quot;: null, &quot;lease_start&quot;: null, &quot;lease_end&quot;: null, &quot;lease_auto_renew&quot;: null, &quot;hourly_rate&quot;: null, &quot;monthly_rent&quot;: null, &quot;prorated_rent&quot;: null, &quot;security_deposit&quot;: null, &quot;lease_rent&quot;: null, &quot;monthly_payment_breakdown&quot;: null, &quot;utility_charges&quot;: null                                                                                                                                                                                                                                                                                                                                                                                                                                                                                                                      </td><td>Procedures for Replacement,  Responsibillitetf Owner and Resident,  Responsibillitetf Owner and Resident,  Responsibillitetf Owner and Resident,  Responsibillitetf Owner and Resident,  Responsibillitetf Owner and Resident,  Responsibillitetf Owner and Resident,  Responsibillitetf Owner and Resident,  Responsibillitetf Owner and Resident,  Responsibillitetf Owner and Resident,  Responsibillitetf Owner and Resident,  Responsibillitetf Owner and Resident,  Responsibillitetf Owner and Resident,  Responsibillitetf Owner and Resident,  Responsibillitetf Owner and Resident,  Responsibillitetf Owner and Resident,  Responsibillitetf Owner and Resident,  Responsibillitetf Owner and Resident,  Responsibillitetf Owner and Resident,  Responsibillitetf Owner and Resident,  Responsibillitetf Owner and Resident,  Responsibillitetf Owner and Resident,  Responsibillitetf Owner and Resident,  Responsibillitetf Owner and Resident,  Responsibillitetf Owner and Resident,  Responsibillitetf Owner and Resident,  Responsibillitetf Owner and Resident,  Responsibillitetf Owner and Resident,  Responsibillitetf Owner and Resident,  Responsibillitetf Owner and Resident,  Responsibillitetf Owner and Resident,  Responsibillitetf Owner and Resident,  Responsibillitetf Owner and Resident,  Responsibillitetf Owner and Resident,  Responsibillitetf Owner and Resident,  Responsibillitetf Owner and Resident,  Responsibillitetf Owner and Resident,                                                                                                                                                                                                                                                                                                                                                                                                                                                                                                                                                                                                                                                                                                                                                                                                                                                                                                                        </td></tr>\\n<tr><td style=\"text-align: right;\"> 54</td><td>&quot;tenant_name&quot;: &quot;HOGAR INC.&quot;, &quot;unit_address&quot;: &quot;12 EAST 196&quot;, &quot;unit_number&quot;: &quot;1A&quot;, &quot;unit_type&quot;: null, &quot;agreement_date&quot;: &quot;2022-11-17&quot;, &quot;lease_start&quot;: &quot;2023-02-01&quot;, &quot;lease_end&quot;: &quot;2024-01-31&quot;, &quot;lease_auto_renew&quot;: null, &quot;hourly_rate&quot;: null, &quot;monthly_rent&quot;: 1695.71, &quot;prorated_rent&quot;: null, &quot;security_deposit&quot;: 1626.1, &quot;lease_rent&quot;: 20348.52, &quot;monthly_payment_breakdown&quot;: &quot;1 year renewal&quot;: 1695.71, &quot;2 year renewal&quot;: 1724.45, &quot;utility_charges&quot;: &quot;Air conditioner&quot;: 0.0, &quot;Appliances&quot;: 0.0, &quot;421a (2.2%)&quot;: 0.0, &quot;Other&quot;: 0.0                                                                                                                                                                                                                                                                                                                                             </td><td>1. The owner hereby notifies you that your lease will expire on: 01/31/23 2. You may renew this lease, for one or two years, at your option, as follows: Column A Renewal Term Column B Legal Rent on Sept.30th Preceding Commencement Date of this Renewal Lease Column C Guideline % or Minimum $ Amount (If unknown, check box and see below)* :unselected: Column D Applicable Guideline Supplement, if any Column E Lawful Rent Increase, if any, Effective after Sept. 30th Column F New Legal Rent (If a lower rent is to be charged, check box and sce item 5 below) :selected: 1 Year $ 1,72.01 ( 3.25 %) $ 57.59 $ 0.00 S 0.00 $ 1.829.60 2 Years Same as 1 Year                                                                                                                                                                                                                                                                                                                                                                                                                                                                                                                                                                                                                                                                                                                                                                                                                                                                                                                                                                                                                                                                                                                                                                                                                                                                                                                                                                                                                                                                                                                                                                                                                                                                                                                                     </td></tr>\\n<tr><td style=\"text-align: right;\"> 55</td><td>&quot;tenant_name&quot;: null, &quot;unit_address&quot;: null, &quot;unit_number&quot;: null, &quot;unit_type&quot;: null, &quot;agreement_date&quot;: null, &quot;lease_start&quot;: null, &quot;lease_end&quot;: null, &quot;lease_auto_renew&quot;: null, &quot;hourly_rate&quot;: null, &quot;monthly_rent&quot;: null, &quot;prorated_rent&quot;: null, &quot;security_deposit&quot;: null, &quot;lease_rent&quot;: null, &quot;monthly_payment_breakdown&quot;: null, &quot;utility_charges&quot;: null                                                                                                                                                                                                                                                                                                                                                                                                                                                                                                                      </td><td>RESPONSIBILITIES OF OWNER, RESPONSIBILITIES OF OWNER, RESPONSIBILITIES OF OWNER, RESPONSIBILITIES OF OWNER, RESPONSIBILITIES OF OWNER, RESPONSIBILITIES OF OWNER, RESPONSIBILITIES OF OWNER, RESPONSIBILITIES OF OWNER, RESPONSIBILITIES OF OWNER, RESPONSIBILITIES OF OWNER, RESPONSIBILITIES OF OWNER, RESPONSIBILITIES OF OWNER, RESPONSIBILITIES OF OWNER, RESPONSIBILITIES OF OWNER, RESPONSIBILITIES OF OWNER, RESPONSIBILITIES OF OWNER, RESPONSIBILITIES OF OWNER, RESPONSIBILITIES OF OWNER, RESPONSIBILITIES OF OWNER, RESPONSIBILITIES OF OWNER, RESPONSIBILITIES OF OWNER, RESPONSIBILITIES OF OWNER, RESPONSIBILITIES OF OWNER, RESPONSIBILITIES OF OWNER, RESPONSIBILITIES OF OWNER, RESPONSIBILITIES OF OWNER, RESPONSIBILITIES OF OWNER, RESPONSIBILITIES OF OWNER, RESPONSIBILITIES OF OWNER, RESPONSIBILITIES OF OWNER, RESPONSIBILITIES OF OWNER, RESPONSIBILITIES OF OWNER, RESPONSIBILITIES OF OWNER, RESPONSIBILITIES OF OWNER, RESPONSIBILITIES OF OWNER, RESPONSIBILITIES OF OWNER, RESPONSIBILIT                                                                                                                                                                                                                                                                                                                                                                                                                                                                                                                                                                                                                                                                                                                                                                                                                                                                                                                                                                                                                                                                                                                                                                                                                                                                                                                                                                                      </td></tr>\\n<tr><td style=\"text-align: right;\"> 56</td><td>&quot;tenant_name&quot;: &quot;Novy Jezkova&quot;, &quot;unit_address&quot;: &quot;2501 Mountain Lodge Circle, Vestavia Hills, Alabama, 35216&quot;, &quot;unit_number&quot;: &quot;2501E&quot;, &quot;unit_type&quot;: null, &quot;agreement_date&quot;: &quot;2023-05-25&quot;, &quot;lease_start&quot;: &quot;2023-05-25&quot;, &quot;lease_end&quot;: null, &quot;lease_auto_renew&quot;: &quot;month to month&quot;, &quot;hourly_rate&quot;: null, &quot;monthly_rent&quot;: null, &quot;prorated_rent&quot;: null, &quot;security_deposit&quot;: null, &quot;lease_rent&quot;: null, &quot;monthly_payment_breakdown&quot;: null, &quot;utility_charges&quot;: null                                                                                                                                                                                                                                                                                                                                                                                                                     </td><td>DWELLING_UNIT_DESCRIPTION, GUEST, LEASE_END_DATE, GUEST, LEASE_ABANDONMENT, GUEST, LEASE_ABANDONMENT, GUEST, GUEST, GUEST, GUEST, GUEST, GUEST, GUEST, GUEST, GUEST, GUEST, GUEST, GUEST, GUEST, GUEST, GUEST, GUEST, GUEST, GUEST, GUEST, GUEST, GUEST, GUEST, GUEST, GUEST, GUEST, GUEST, GUEST, GUEST, GUEST, GUEST, GUEST, GUEST, GUEST, GUEST, GUEST, GUEST, GUEST, GUEST, GUEST, GUEST, GUEST, GUEST, GUEST, GUEST, GUEST, GUEST, GUEST, GUEST, GUEST, GUEST, GUEST, GUEST, GUEST, GUEST, GUEST, GUEST, GUEST, GUEST, GUEST, GUEST, GUEST, GUEST, GUEST, GUEST, GUEST, GUEST, GUEST, GUEST, GUEST, GUEST, GUEST, GUEST, GUEST, GUEST, GUEST, GUEST, GUEST, GUEST, GUEST, GUEST, GUEST, GUEST, GUEST, GUEST, GUEST, GUEST, GUEST, GUEST, GUEST, GUEST, GUEST, GUEST, GUEST, GUEST, GUEST, GUEST, GUEST, GUEST, GUEST, GUEST, GUEST, GUEST, GUEST, GUEST, GUEST, GUEST, GUEST, GUEST, GUEST, GUEST, GUEST, GUEST, GUEST, GUEST, GUEST, GUEST                                                                                                                                                                                                                                                                                                                                                                                                                                                                                                                                                                                                                                                                                                                                                                                                                                                                                                                                                                                                                                                                                                                                                                                                                                                                                                                                                                                                                                                               </td></tr>\\n<tr><td style=\"text-align: right;\"> 57</td><td>&quot;tenant_name&quot;: &quot;Zoev Medina&quot;, &quot;unit_address&quot;: &quot;8030 E Lakeside Parkway, Tucson, AZ 85730&quot;, &quot;unit_number&quot;: &quot;01102&quot;, &quot;unit_type&quot;: &quot;unfurnished apartment&quot;, &quot;agreement_date&quot;: &quot;2023-03-06&quot;, &quot;lease_start&quot;: &quot;2023-03-06&quot;, &quot;lease_end&quot;: &quot;2023-09-05&quot;, &quot;lease_auto_renew&quot;: &quot;month-to-month&quot;, &quot;hourly_rate&quot;: null, &quot;monthly_rent&quot;: 993.7, &quot;prorated_rent&quot;: null, &quot;security_deposit&quot;: 500.0, &quot;lease_rent&quot;: 5962.2, &quot;monthly_payment_breakdown&quot;: &quot;Rent&quot;: 1046.0, &quot;Pet Rent&quot;: 0.0, &quot;Parking Rent, Garage, Storage&quot;: 0.0, &quot;Water, Sewer, and Trash Charge&quot;: 0.0, &quot;Furniture &amp; Utility Package&quot;: 0.0, &quot;Other Charges&quot;: 0.0, &quot;Other Discounts&quot;: -52.3, &quot;Subtotal&quot;: 993.7, &quot;City Sales Tax&quot;: &quot;N/A&quot;, &quot;TOTAL MONTHLY RENT&quot;: 993.7, &quot;utility_charges&quot;: &quot;Electricity&quot;: &quot;Paid By: Lessee&quot;, &quot;Water, sewer &amp; trash charges&quot;: &quot;Paid By: Lessee&quot;, &quot;Other: Telephone, Cable, etc.&quot;: &quot;Paid By: Lessee&quot;</td><td>1. LEASE TERM: The initial term of the Lease Contract beginning March 06, 2023 and ending at midnight on September 05, 2023 (Initial Term) for an unfurnished apartment and Lessee(s) shall pay rent, tax, charges and deposits as set forth below. This Lease will automatically renew month-to-month unless either party gives at least sixty (60) days written notice of termination or intent                                                                                                                                                                                                                                                                                                                                                                                                                                                                                                                                                                                                                                                                                                                                                                                                                                                                                                                                                                                                                                                                                                                                                                                                                                                                                                                                                                                                                                                                                                                                                                                                                                                                                                                                                                                                                                                                                                                                                                                                              </td></tr>\\n<tr><td style=\"text-align: right;\"> 58</td><td>&quot;tenant_name&quot;: null, &quot;unit_address&quot;: null, &quot;unit_number&quot;: null, &quot;unit_type&quot;: null, &quot;agreement_date&quot;: null, &quot;lease_start&quot;: null, &quot;lease_end&quot;: null, &quot;lease_auto_renew&quot;: null, &quot;hourly_rate&quot;: null, &quot;monthly_rent&quot;: null, &quot;prorated_rent&quot;: null, &quot;security_deposit&quot;: null, &quot;lease_rent&quot;: null, &quot;monthly_payment_breakdown&quot;: null, &quot;utility_charges&quot;: null                                                                                                                                                                                                                                                                                                                                                                                                                                                                                                                      </td><td>&quot;, &quot;type&quot;: [ &quot;string&quot;, &quot;null&quot; ], &quot;description&quot;: &quot;The date when the lease ends, found in the OCR text.&quot;, &quot;lease_start&quot;:  &quot;type&quot;: [ &quot;string&quot;, &quot;null&quot; ], &quot;format&quot;: &quot;date&quot; ], &quot;description&quot;: &quot;The date when the lease starts, found in the OCR text.&quot;, &quot;lease_end&quot;:  &quot;type&quot;: [ &quot;string&quot;, &quot;null&quot; ], &quot;description&quot;: &quot;The date when the lease ends, found in the OCR text.&quot;                                                                                                                                                                                                                                                                                                                                                                                                                                                                                                                                                                                                                                                                                                                                                                                                                                                                                                                                                                                                                                                                                                                                                                                                                                                                                                                                                                                                                                                                                                                                                                                                                                                                                                                                                                                                                                                                                                                                                                                                                                           </td></tr>\\n<tr><td style=\"text-align: right;\"> 59</td><td>&quot;tenant_name&quot;: &quot;Trevor J. Breed&quot;, &quot;unit_address&quot;: &quot;2640 Woodridge Ct, Placerville, CA 95667&quot;, &quot;unit_number&quot;: &quot;24&quot;, &quot;unit_type&quot;: null, &quot;agreement_date&quot;: &quot;2023-08-07&quot;, &quot;lease_start&quot;: null, &quot;lease_end&quot;: null, &quot;lease_auto_renew&quot;: null, &quot;hourly_rate&quot;: null, &quot;monthly_rent&quot;: null, &quot;prorated_rent&quot;: null, &quot;security_deposit&quot;: null, &quot;lease_rent&quot;: null, &quot;monthly_payment_breakdown&quot;: null, &quot;utility_charges&quot;: null                                                                                                                                                                                                                                                                                                                                                                                                                                                           </td><td>Tenant                                                                                                                                                                                                                                                                                                                                                                                                                                                                                                                                                                                                                                                                                                                                                                                                                                                                                                                                                                                                                                                                                                                                                                                                                                                                                                                                                                                                                                                                                                                                                                                                                                                                                                                                                                                                                                                                                                                                                                                                                                                                                                                                                                                                                                                                                                                                                                                                         </td></tr>\\n<tr><td style=\"text-align: right;\"> 60</td><td>&quot;tenant_name&quot;: &quot;Leobouchereau&quot;, &quot;unit_address&quot;: null, &quot;unit_number&quot;: null, &quot;unit_type&quot;: null, &quot;agreement_date&quot;: &quot;2022-12-03&quot;, &quot;lease_start&quot;: null, &quot;lease_end&quot;: null, &quot;lease_auto_renew&quot;: null, &quot;hourly_rate&quot;: null, &quot;monthly_rent&quot;: null, &quot;prorated_rent&quot;: null, &quot;security_deposit&quot;: null, &quot;lease_rent&quot;: null, &quot;monthly_payment_breakdown&quot;: null, &quot;utility_charges&quot;: null                                                                                                                                                                                                                                                                                                                                                                                                                                                                                                   </td><td>13.7, Off-Limit Areas, Swimming-pool Areas, Laundry Rooms, Offices, Clubrooms, Other Recreational Facilities, or other dwelling units besides your own, except that search and rescue dogs shall be allowed to use areas of the property ac- cessible to the general public, such as the leasing office, Cer- tain service animals in training shall also be allowed to use those areas when accompanied by an approved trainer. 13.8 Food &amp; Water. Your animal must be fed and given water in- side the dwelling unit. You may not leave animal food or water outside the dwelling unit at any time, except in fenced yards (if any) for your exclusive use. 13.9 Leash. You must keep the animal on a leash and under your su- pervision when outside the dwelling or in any private fenced area. We or our representative may pick up unleashed animals, report them to the proper authorities, or do both. We&#x27;ll charge you a rea- sonable fee for picking up and keeping unleashed animals. 13.10Animal Waste. Unless we have designated a particular area in your dwelling unit or on the grounds for animal defecation and urination, you are prohibited from letting an animal defecate or urinate anywhere on our property and you must take the animal off our property for that purpose. If we allow animal defeca- tion inside the unit, you must ensure that it&#x27;s done in a litter box with a kitty-litter-type mix. If the animal defecates anywhere on our property (including in a fenced yard for your exclusive use), you must immediately remove the waste and repair any damage. In addition to the terms of this addendum, you must comply with all local                                                                                                                                                                                                                                                                                                                                                                                                                                                                                                                                                                                                                                                                                                                                 </td></tr>\\n<tr><td style=\"text-align: right;\"> 61</td><td>&quot;tenant_name&quot;: &quot;Peter Mendes Tony Diag&quot;, &quot;unit_address&quot;: null, &quot;unit_number&quot;: null, &quot;unit_type&quot;: null, &quot;agreement_date&quot;: null, &quot;lease_start&quot;: null, &quot;lease_end&quot;: null, &quot;lease_auto_renew&quot;: null, &quot;hourly_rate&quot;: null, &quot;monthly_rent&quot;: null, &quot;prorated_rent&quot;: null, &quot;security_deposit&quot;: null, &quot;lease_rent&quot;: null, &quot;monthly_payment_breakdown&quot;: null, &quot;utility_charges&quot;: null                                                                                                                                                                                                                                                                                                                                                                                                                                                                                                  </td><td>,,,,,,,,,,,,,,,,,,,,,,,,,,,,,,,,,,,,,,,,,,,,,,,,,,,,,,,,,,,,,,,,,,,,,,,,,,,,,,,,,,,,,,,,,,,,,,,,,,,,,,,,,,,,,,,,,,,,,,,,,,,,,,,,,,,,,,,,,,,,,,,,,,,,,,,,,,,,,,,,,,,,,,,,,,                                                                                                                                                                                                                                                                                                                                                                                                                                                                                                                                                                                                                                                                                                                                                                                                                                                                                                                                                                                                                                                                                                                                                                                                                                                                                                                                                                                                                                                                                                                                                                                                                                                                                                                                                                                                                                                                                                                                                                                                                                                                                                                                                                                                                                     </td></tr>\\n<tr><td style=\"text-align: right;\"> 62</td><td>&quot;tenant_name&quot;: &quot;Mariam M. Shamoun&quot;, &quot;unit_address&quot;: &quot;939 East Washington Ave&quot;, &quot;unit_number&quot;: null, &quot;unit_type&quot;: &quot;2 Bed / 1 Bath, 800 sq. ft.&quot;, &quot;agreement_date&quot;: &quot;2016-02-02&quot;, &quot;lease_start&quot;: &quot;2016-02-04&quot;, &quot;lease_end&quot;: null, &quot;lease_auto_renew&quot;: &quot;month-to-month&quot;, &quot;hourly_rate&quot;: null, &quot;monthly_rent&quot;: 1350.0, &quot;prorated_rent&quot;: null, &quot;security_deposit&quot;: 500.0, &quot;lease_rent&quot;: null, &quot;monthly_payment_breakdown&quot;: null, &quot;utility_charges&quot;: null                                                                                                                                                                                                                                                                                                                                                                                                                          </td><td>Initial, Last): Mariam M. Shamoun NAME (First, Middle Initial, Last): Youland S. Yalda NAME (First, Middle Initial, Last): LIST OF ALL OCCUPANTS (Do not list any Residents from above): NAME (First, Middle Initial, Last): DATE OF BIRTH: NAME (First, Middle Initial, Last): DATE OF BIRTH: NAME (First, Middle Initial, Last):                                                                                                                                                                                                                                                                                                                                                                                                                                                                                                                                                                                                                                                                                                                                                                                                                                                                                                                                                                                                                                                                                                                                                                                                                                                                                                                                                                                                                                                                                                                                                                                                                                                                                                                                                                                                                                                                                                                                                                                                                                                                             </td></tr>\\n<tr><td style=\"text-align: right;\"> 63</td><td>&quot;tenant_name&quot;: &quot;Leobouchereau&quot;, &quot;unit_address&quot;: null, &quot;unit_number&quot;: null, &quot;unit_type&quot;: null, &quot;agreement_date&quot;: &quot;2022-12-03&quot;, &quot;lease_start&quot;: null, &quot;lease_end&quot;: null, &quot;lease_auto_renew&quot;: &quot;Expired leases will automatically renew on a month-to-month basis at market rate plus a $250.00 month-to-month fee unless a lease renewal is fully executed.&quot;, &quot;hourly_rate&quot;: null, &quot;monthly_rent&quot;: 1250.0, &quot;prorated_rent&quot;: null, &quot;security_deposit&quot;: null, &quot;lease_rent&quot;: null, &quot;monthly_payment_breakdown&quot;: &quot;Total Monthly Payment&quot;: 1250.0, &quot;pet rent&quot;: null, &quot;reserved parking&quot;: null, &quot;utility_charges&quot;: null                                                                                                                                                                                                                                                                </td><td>26.2., Move-Out Inspection, Our, but, but are not obligated to, provide a joint move-out inspection, Our, but, but are not obligated to, provide a joint move-out inspection, Our, but, but are not obligated to, provide a joint move-out inspection, Our, but, but are not obligated to, provide a joint move-out inspection, Our, but, but are not obligated to, provide a joint move-out inspection, Our, but, but are not obligated to, provide a joint move-out inspection, Our, but, but are not obligated to, provide a joint move-out inspection, Our, but, but are not obligated to, provide a joint move-out inspection, Our, but, but are not obligated to, provide a joint move-out inspection, Our, but, but are not obligated to, provide a joint move-out inspection, Our, but, but are not obligated to, provide a joint move-out inspection, Our, but, but are not obligated to, provide a joint move-out inspection, Our, but, but are not obligated to, provide a joint move-out inspection, Our, but, but are not obligated to, provide a joint move-out inspection, Our, but, but are not obligated to, provide a joint move-out inspection, Our, but, but are not obligated to, provide a joint move-out inspection, Our, but, but are not obligated to, provide a joint move-out inspection, Our, but, but are not obligated to, provide a joint move-out inspection, Our, but, but are not obligated to, provide a joint move-out inspection, Our, but, but are not obligated to, provide a joint move-out inspection, Our, but, but are not obligated to, provide a joint move-out inspection, Our, but, but are not obligated to, provide a joint move-out inspection, Our, but, but are not obligated to, provide a joint move-out inspection, Our, but, but are not obligated to, provide a joint move-out inspection                                                                                                                                                                                                                                                                                                                                                                                                                                                                                                                                                             </td></tr>\\n<tr><td style=\"text-align: right;\"> 64</td><td>&quot;tenant_name&quot;: null, &quot;unit_address&quot;: null, &quot;unit_number&quot;: null, &quot;unit_type&quot;: null, &quot;agreement_date&quot;: null, &quot;lease_start&quot;: null, &quot;lease_end&quot;: null, &quot;lease_auto_renew&quot;: null, &quot;hourly_rate&quot;: null, &quot;monthly_rent&quot;: null, &quot;prorated_rent&quot;: null, &quot;security_deposit&quot;: null, &quot;lease_rent&quot;: null, &quot;monthly_payment_breakdown&quot;: null, &quot;utility_charges&quot;: null                                                                                                                                                                                                                                                                                                                                                                                                                                                                                                                      </td><td>LESSEES_RESPONSIBILITY_AND_COSTS_TO_COVER_THE_INCOME_OF_THE_ANIMALS, if we allow an animal of any kind, you must sign a separate animal addendum, post a non-refundable animal deposit and pay pet rent in the amount to be determined by the LESSOR. We will authorize a service or companion animal for a disabled person but may require a written statement from a qualified professional verifying the need for the service animal. If you or any guest or occupant violates animal restrictions, you will be subject to charges, damages, and/or eviction, and such other remedies provided in this lease. If an animal has been in the residence at any time during your term of occupancy (with or without our consent), we&#x27;ll charge you for all necessary cleaning including but not limited to de-fleaing, deodorizing, and carpet shampooing. Initial and daily animal violation charges and animal-removal charges are liquidated damages for our inconvenience and overhead (except for attorney&#x27;s fees and litigation costs) in enforcing animal restrictions and rules. SM INITIALS LESSEE also agrees to carry insurance deemed appropriate by OWNER tBcover possible liability and damages that may be caused by such animals, if we allow an animal. SM INITIALS If the animal is creating a nuisance or damaging property, and LESSEE is unavailable or refuses to correct the problem, the LESSOR may keep of kennel the animal or turn the animal over to local animal control authorities at LESSEES expense. SM INITIALS LESSEEs are responsible for the pets of guests who visit their unit.                                                                                                                                                                                                                                                                                                                                                                                                                                                                                                                                                                                                                                                                                                                                                                                          </td></tr>\\n<tr><td style=\"text-align: right;\"> 65</td><td>&quot;tenant_name&quot;: null, &quot;unit_address&quot;: null, &quot;unit_number&quot;: null, &quot;unit_type&quot;: null, &quot;agreement_date&quot;: null, &quot;lease_start&quot;: null, &quot;lease_end&quot;: null, &quot;lease_auto_renew&quot;: null, &quot;hourly_rate&quot;: null, &quot;monthly_rent&quot;: null, &quot;prorated_rent&quot;: null, &quot;security_deposit&quot;: null, &quot;lease_rent&quot;: null, &quot;monthly_payment_breakdown&quot;: null, &quot;utility_charges&quot;: null                                                                                                                                                                                                                                                                                                                                                                                                                                                                                                                      </td><td>LESSOR, DS INITIALS. BM, TERM, MONTHLY, MONTHLY, MONTHLY, MONTHLY, MONTHLY, MONTHLY, MONTHLY, MONTHLY, MONTHLY, MONTHLY, MONTHLY, MONTHLY, MONTHLY, MONTHLY, MONTHLY, MONTHLY, MONTHLY, MONTHLY, MONTHLY, MONTHLY, MONTHLY, MONTHLY, MONTHLY, MONTHLY, MONTHLY, MONTHLY, MONTHLY, MONTHLY, MONTHLY, MONTHLY, MONTHLY, MONTHLY, MONTHLY, MONTHLY, MONTHLY, MONTHLY, MONTHLY, MONTHLY, MONTHLY, MONTHLY, MONTHLY, MONTHLY, MONTHLY, MONTHLY, MONTHLY, MONTHLY, MONTHLY, MONTHLY, MONTHLY, MONTHLY, MONTHLY, MONTHLY, MONTHLY, MONTHLY, MONTHLY, MONTHLY, MONTHLY, MONTHLY, MONTHLY, MONTHLY, MONTHLY, MONTHLY, MONTHLY, MONTHLY, MONTHLY, MONTHLY, MONTHLY, MONTHLY, MONTHLY, MONTHLY, MONTHLY, MONTHLY, MONTHLY, MONTHLY, MONTHLY, MONTHLY, MONTHLY, MONTHLY, MONTHLY, MONTHLY, MONTHLY, MONTHLY, MONTHLY, MONTHLY, MONTHLY, MONTHLY, MONTHLY, MONTHLY, MONTHLY, MONTHLY, MONTHLY, MONTHLY, MONTHLY, MONTHLY, MONTHLY, MONTHLY, MONTHLY, MONTHLY, MONTHLY                                                                                                                                                                                                                                                                                                                                                                                                                                                                                                                                                                                                                                                                                                                                                                                                                                                                                                                                                                                                                                                                                                                                                                                                                                                                                                                                                                                                                                                       </td></tr>\\n<tr><td style=\"text-align: right;\"> 66</td><td>&quot;tenant_name&quot;: null, &quot;unit_address&quot;: null, &quot;unit_number&quot;: null, &quot;unit_type&quot;: null, &quot;agreement_date&quot;: null, &quot;lease_start&quot;: null, &quot;lease_end&quot;: null, &quot;lease_auto_renew&quot;: null, &quot;hourly_rate&quot;: null, &quot;monthly_rent&quot;: null, &quot;prorated_rent&quot;: null, &quot;security_deposit&quot;: null, &quot;lease_rent&quot;: null, &quot;monthly_payment_breakdown&quot;: null, &quot;utility_charges&quot;: null                                                                                                                                                                                                                                                                                                                                                                                                                                                                                                                      </td><td>Default, F.S. 83.52, or material provisions of the lease, the rules and regulations, or any addenda (other than failure to pay rent due), and the non- compliance is of a nature that YOU SHOULD NOT BE GIVEN AN OPPORTUNITY TO CURE or if your non-compliance CONSTITUTES A SECOND OR CONTINUING Default                                                                                                                                                                                                                                                                                                                                                                                                                                                                                                                                                                                                                                                                                                                                                                                                                                                                                                                                                                                                                                                                                                                                                                                                                                                                                                                                                                                                                                                                                                                                                                                                                                                                                                                                                                                                                                                                                                                                                                                                                                                                                                      </td></tr>\\n</tbody>\\n</table>'"
      ]
     },
     "execution_count": 17,
     "metadata": {},
     "output_type": "execute_result"
    }
   ],
   "source": [
    "from tabulate import tabulate\n",
    "\n",
    "# Prepare data for tabulation\n",
    "table_data = []\n",
    "for i, (pred, ref) in enumerate(zip(predictions, references), 1):\n",
    "    table_data.append([i, ref, pred])\n",
    "\n",
    "# Define table headers\n",
    "headers = [\"#\", \"Reference data\", \"Extracted data (Finetuned model)\"]\n",
    "\n",
    "# Display the table\n",
    "tabulate(table_data, headers=headers, tablefmt=\"html\", showindex=False)\n"
   ]
  },
  {
   "cell_type": "code",
   "execution_count": 18,
   "metadata": {
    "execution": {
     "iopub.execute_input": "2024-08-29T21:15:24.019908Z",
     "iopub.status.busy": "2024-08-29T21:15:24.019588Z",
     "iopub.status.idle": "2024-08-29T21:15:24.021685Z",
     "shell.execute_reply": "2024-08-29T21:15:24.021326Z"
    }
   },
   "outputs": [],
   "source": [
    "# TODO: calculate accuracy using metrics"
   ]
  }
 ],
 "metadata": {
  "kernelspec": {
   "display_name": ".venv",
   "language": "python",
   "name": "python3"
  },
  "language_info": {
   "codemirror_mode": {
    "name": "ipython",
    "version": 3
   },
   "file_extension": ".py",
   "mimetype": "text/x-python",
   "name": "python",
   "nbconvert_exporter": "python",
   "pygments_lexer": "ipython3",
   "version": "3.12.3"
  },
  "widgets": {
   "application/vnd.jupyter.widget-state+json": {
    "state": {
     "0b7098f0ca934c6c8d44afada915ea23": {
      "model_module": "@jupyter-widgets/controls",
      "model_module_version": "2.0.0",
      "model_name": "HBoxModel",
      "state": {
       "_dom_classes": [],
       "_model_module": "@jupyter-widgets/controls",
       "_model_module_version": "2.0.0",
       "_model_name": "HBoxModel",
       "_view_count": null,
       "_view_module": "@jupyter-widgets/controls",
       "_view_module_version": "2.0.0",
       "_view_name": "HBoxView",
       "box_style": "",
       "children": [
        "IPY_MODEL_495c308c0feb4e1cb49a6512219c5530",
        "IPY_MODEL_bb56363f27fd41cc94687a859f638f58",
        "IPY_MODEL_463824fdfb1b445a8a8bf6c6fa696f21"
       ],
       "layout": "IPY_MODEL_cb1a101c703d42ecb8285a57413611d0",
       "tabbable": null,
       "tooltip": null
      }
     },
     "0b72f2faf347433988fa544305d1d803": {
      "model_module": "@jupyter-widgets/controls",
      "model_module_version": "2.0.0",
      "model_name": "HTMLStyleModel",
      "state": {
       "_model_module": "@jupyter-widgets/controls",
       "_model_module_version": "2.0.0",
       "_model_name": "HTMLStyleModel",
       "_view_count": null,
       "_view_module": "@jupyter-widgets/base",
       "_view_module_version": "2.0.0",
       "_view_name": "StyleView",
       "background": null,
       "description_width": "",
       "font_size": null,
       "text_color": null
      }
     },
     "0d214dded0af4c8b85146e7155c16564": {
      "model_module": "@jupyter-widgets/base",
      "model_module_version": "2.0.0",
      "model_name": "LayoutModel",
      "state": {
       "_model_module": "@jupyter-widgets/base",
       "_model_module_version": "2.0.0",
       "_model_name": "LayoutModel",
       "_view_count": null,
       "_view_module": "@jupyter-widgets/base",
       "_view_module_version": "2.0.0",
       "_view_name": "LayoutView",
       "align_content": null,
       "align_items": null,
       "align_self": null,
       "border_bottom": null,
       "border_left": null,
       "border_right": null,
       "border_top": null,
       "bottom": null,
       "display": null,
       "flex": null,
       "flex_flow": null,
       "grid_area": null,
       "grid_auto_columns": null,
       "grid_auto_flow": null,
       "grid_auto_rows": null,
       "grid_column": null,
       "grid_gap": null,
       "grid_row": null,
       "grid_template_areas": null,
       "grid_template_columns": null,
       "grid_template_rows": null,
       "height": null,
       "justify_content": null,
       "justify_items": null,
       "left": null,
       "margin": null,
       "max_height": null,
       "max_width": null,
       "min_height": null,
       "min_width": null,
       "object_fit": null,
       "object_position": null,
       "order": null,
       "overflow": null,
       "padding": null,
       "right": null,
       "top": null,
       "visibility": null,
       "width": null
      }
     },
     "0ea00639d1f54360973a9301404bf0f7": {
      "model_module": "@jupyter-widgets/controls",
      "model_module_version": "2.0.0",
      "model_name": "HTMLStyleModel",
      "state": {
       "_model_module": "@jupyter-widgets/controls",
       "_model_module_version": "2.0.0",
       "_model_name": "HTMLStyleModel",
       "_view_count": null,
       "_view_module": "@jupyter-widgets/base",
       "_view_module_version": "2.0.0",
       "_view_name": "StyleView",
       "background": null,
       "description_width": "",
       "font_size": null,
       "text_color": null
      }
     },
     "101a1f072a7a4226a4ea89d929cf9bd2": {
      "model_module": "@jupyter-widgets/base",
      "model_module_version": "2.0.0",
      "model_name": "LayoutModel",
      "state": {
       "_model_module": "@jupyter-widgets/base",
       "_model_module_version": "2.0.0",
       "_model_name": "LayoutModel",
       "_view_count": null,
       "_view_module": "@jupyter-widgets/base",
       "_view_module_version": "2.0.0",
       "_view_name": "LayoutView",
       "align_content": null,
       "align_items": null,
       "align_self": null,
       "border_bottom": null,
       "border_left": null,
       "border_right": null,
       "border_top": null,
       "bottom": null,
       "display": null,
       "flex": null,
       "flex_flow": null,
       "grid_area": null,
       "grid_auto_columns": null,
       "grid_auto_flow": null,
       "grid_auto_rows": null,
       "grid_column": null,
       "grid_gap": null,
       "grid_row": null,
       "grid_template_areas": null,
       "grid_template_columns": null,
       "grid_template_rows": null,
       "height": null,
       "justify_content": null,
       "justify_items": null,
       "left": null,
       "margin": null,
       "max_height": null,
       "max_width": null,
       "min_height": null,
       "min_width": null,
       "object_fit": null,
       "object_position": null,
       "order": null,
       "overflow": null,
       "padding": null,
       "right": null,
       "top": null,
       "visibility": null,
       "width": null
      }
     },
     "1d90d56ba7764f2a9a1e4cef0595b7b8": {
      "model_module": "@jupyter-widgets/controls",
      "model_module_version": "2.0.0",
      "model_name": "HTMLStyleModel",
      "state": {
       "_model_module": "@jupyter-widgets/controls",
       "_model_module_version": "2.0.0",
       "_model_name": "HTMLStyleModel",
       "_view_count": null,
       "_view_module": "@jupyter-widgets/base",
       "_view_module_version": "2.0.0",
       "_view_name": "StyleView",
       "background": null,
       "description_width": "",
       "font_size": null,
       "text_color": null
      }
     },
     "1dcc738c592c4b8cb7a007951e9c8235": {
      "model_module": "@jupyter-widgets/controls",
      "model_module_version": "2.0.0",
      "model_name": "HBoxModel",
      "state": {
       "_dom_classes": [],
       "_model_module": "@jupyter-widgets/controls",
       "_model_module_version": "2.0.0",
       "_model_name": "HBoxModel",
       "_view_count": null,
       "_view_module": "@jupyter-widgets/controls",
       "_view_module_version": "2.0.0",
       "_view_name": "HBoxView",
       "box_style": "",
       "children": [
        "IPY_MODEL_f7576817be7f463a9f37938f7d0e362a",
        "IPY_MODEL_fcdd4de90d6d49248b3ce6815cc09e4c",
        "IPY_MODEL_bc58eb44dbd04bf5b056f5a4b32c8474"
       ],
       "layout": "IPY_MODEL_dc9853b0119e479097d69b483fa7acb0",
       "tabbable": null,
       "tooltip": null
      }
     },
     "1eb159a400a6449c9192caa3f76af2e1": {
      "model_module": "@jupyter-widgets/controls",
      "model_module_version": "2.0.0",
      "model_name": "ButtonStyleModel",
      "state": {
       "_model_module": "@jupyter-widgets/controls",
       "_model_module_version": "2.0.0",
       "_model_name": "ButtonStyleModel",
       "_view_count": null,
       "_view_module": "@jupyter-widgets/base",
       "_view_module_version": "2.0.0",
       "_view_name": "StyleView",
       "button_color": null,
       "font_family": null,
       "font_size": null,
       "font_style": null,
       "font_variant": null,
       "font_weight": null,
       "text_color": null,
       "text_decoration": null
      }
     },
     "26283ca87aef4c3c9b914b6a2a550409": {
      "model_module": "@jupyter-widgets/controls",
      "model_module_version": "2.0.0",
      "model_name": "PasswordModel",
      "state": {
       "_dom_classes": [],
       "_model_module": "@jupyter-widgets/controls",
       "_model_module_version": "2.0.0",
       "_model_name": "PasswordModel",
       "_view_count": null,
       "_view_module": "@jupyter-widgets/controls",
       "_view_module_version": "2.0.0",
       "_view_name": "PasswordView",
       "continuous_update": true,
       "description": "Token:",
       "description_allow_html": false,
       "disabled": false,
       "layout": "IPY_MODEL_c66349c784674a9385cdaa921fe38445",
       "placeholder": "​",
       "style": "IPY_MODEL_42af337d229c4093bfdd53e924c21244",
       "tabbable": null,
       "tooltip": null,
       "value": ""
      }
     },
     "27e2786544504a48bb5ff0943f1f5a6c": {
      "model_module": "@jupyter-widgets/controls",
      "model_module_version": "2.0.0",
      "model_name": "HTMLStyleModel",
      "state": {
       "_model_module": "@jupyter-widgets/controls",
       "_model_module_version": "2.0.0",
       "_model_name": "HTMLStyleModel",
       "_view_count": null,
       "_view_module": "@jupyter-widgets/base",
       "_view_module_version": "2.0.0",
       "_view_name": "StyleView",
       "background": null,
       "description_width": "",
       "font_size": null,
       "text_color": null
      }
     },
     "2a3e479ea8d14221afff7b0b1ace5dfc": {
      "model_module": "@jupyter-widgets/controls",
      "model_module_version": "2.0.0",
      "model_name": "FloatProgressModel",
      "state": {
       "_dom_classes": [],
       "_model_module": "@jupyter-widgets/controls",
       "_model_module_version": "2.0.0",
       "_model_name": "FloatProgressModel",
       "_view_count": null,
       "_view_module": "@jupyter-widgets/controls",
       "_view_module_version": "2.0.0",
       "_view_name": "ProgressView",
       "bar_style": "success",
       "description": "",
       "description_allow_html": false,
       "layout": "IPY_MODEL_a77c8b9a0e1942838ee67a83046fb3f1",
       "max": 66,
       "min": 0,
       "orientation": "horizontal",
       "style": "IPY_MODEL_f24c028f0e6f47c3882a0048a6e17450",
       "tabbable": null,
       "tooltip": null,
       "value": 66
      }
     },
     "2b2d8ce65f8344dcadb80319ae9c16fb": {
      "model_module": "@jupyter-widgets/controls",
      "model_module_version": "2.0.0",
      "model_name": "HBoxModel",
      "state": {
       "_dom_classes": [],
       "_model_module": "@jupyter-widgets/controls",
       "_model_module_version": "2.0.0",
       "_model_name": "HBoxModel",
       "_view_count": null,
       "_view_module": "@jupyter-widgets/controls",
       "_view_module_version": "2.0.0",
       "_view_name": "HBoxView",
       "box_style": "",
       "children": [
        "IPY_MODEL_f4c145efb46a432895efd293771c6576",
        "IPY_MODEL_2a3e479ea8d14221afff7b0b1ace5dfc",
        "IPY_MODEL_f7bc4eef14ff4a9d8b3f27057ac68891"
       ],
       "layout": "IPY_MODEL_3607572122484f06b1987d9738879d01",
       "tabbable": null,
       "tooltip": null
      }
     },
     "3607572122484f06b1987d9738879d01": {
      "model_module": "@jupyter-widgets/base",
      "model_module_version": "2.0.0",
      "model_name": "LayoutModel",
      "state": {
       "_model_module": "@jupyter-widgets/base",
       "_model_module_version": "2.0.0",
       "_model_name": "LayoutModel",
       "_view_count": null,
       "_view_module": "@jupyter-widgets/base",
       "_view_module_version": "2.0.0",
       "_view_name": "LayoutView",
       "align_content": null,
       "align_items": null,
       "align_self": null,
       "border_bottom": null,
       "border_left": null,
       "border_right": null,
       "border_top": null,
       "bottom": null,
       "display": null,
       "flex": null,
       "flex_flow": null,
       "grid_area": null,
       "grid_auto_columns": null,
       "grid_auto_flow": null,
       "grid_auto_rows": null,
       "grid_column": null,
       "grid_gap": null,
       "grid_row": null,
       "grid_template_areas": null,
       "grid_template_columns": null,
       "grid_template_rows": null,
       "height": null,
       "justify_content": null,
       "justify_items": null,
       "left": null,
       "margin": null,
       "max_height": null,
       "max_width": null,
       "min_height": null,
       "min_width": null,
       "object_fit": null,
       "object_position": null,
       "order": null,
       "overflow": null,
       "padding": null,
       "right": null,
       "top": null,
       "visibility": null,
       "width": null
      }
     },
     "39d86f56586d4743ae1e6f1ada967bd7": {
      "model_module": "@jupyter-widgets/controls",
      "model_module_version": "2.0.0",
      "model_name": "HTMLStyleModel",
      "state": {
       "_model_module": "@jupyter-widgets/controls",
       "_model_module_version": "2.0.0",
       "_model_name": "HTMLStyleModel",
       "_view_count": null,
       "_view_module": "@jupyter-widgets/base",
       "_view_module_version": "2.0.0",
       "_view_name": "StyleView",
       "background": null,
       "description_width": "",
       "font_size": null,
       "text_color": null
      }
     },
     "3a52e2e6133c43dfb1abf53051b669d0": {
      "model_module": "@jupyter-widgets/base",
      "model_module_version": "2.0.0",
      "model_name": "LayoutModel",
      "state": {
       "_model_module": "@jupyter-widgets/base",
       "_model_module_version": "2.0.0",
       "_model_name": "LayoutModel",
       "_view_count": null,
       "_view_module": "@jupyter-widgets/base",
       "_view_module_version": "2.0.0",
       "_view_name": "LayoutView",
       "align_content": null,
       "align_items": null,
       "align_self": null,
       "border_bottom": null,
       "border_left": null,
       "border_right": null,
       "border_top": null,
       "bottom": null,
       "display": null,
       "flex": null,
       "flex_flow": null,
       "grid_area": null,
       "grid_auto_columns": null,
       "grid_auto_flow": null,
       "grid_auto_rows": null,
       "grid_column": null,
       "grid_gap": null,
       "grid_row": null,
       "grid_template_areas": null,
       "grid_template_columns": null,
       "grid_template_rows": null,
       "height": null,
       "justify_content": null,
       "justify_items": null,
       "left": null,
       "margin": null,
       "max_height": null,
       "max_width": null,
       "min_height": null,
       "min_width": null,
       "object_fit": null,
       "object_position": null,
       "order": null,
       "overflow": null,
       "padding": null,
       "right": null,
       "top": null,
       "visibility": null,
       "width": null
      }
     },
     "3d659ac8a445424f8ee02a4bb95b495a": {
      "model_module": "@jupyter-widgets/base",
      "model_module_version": "2.0.0",
      "model_name": "LayoutModel",
      "state": {
       "_model_module": "@jupyter-widgets/base",
       "_model_module_version": "2.0.0",
       "_model_name": "LayoutModel",
       "_view_count": null,
       "_view_module": "@jupyter-widgets/base",
       "_view_module_version": "2.0.0",
       "_view_name": "LayoutView",
       "align_content": null,
       "align_items": null,
       "align_self": null,
       "border_bottom": null,
       "border_left": null,
       "border_right": null,
       "border_top": null,
       "bottom": null,
       "display": null,
       "flex": null,
       "flex_flow": null,
       "grid_area": null,
       "grid_auto_columns": null,
       "grid_auto_flow": null,
       "grid_auto_rows": null,
       "grid_column": null,
       "grid_gap": null,
       "grid_row": null,
       "grid_template_areas": null,
       "grid_template_columns": null,
       "grid_template_rows": null,
       "height": null,
       "justify_content": null,
       "justify_items": null,
       "left": null,
       "margin": null,
       "max_height": null,
       "max_width": null,
       "min_height": null,
       "min_width": null,
       "object_fit": null,
       "object_position": null,
       "order": null,
       "overflow": null,
       "padding": null,
       "right": null,
       "top": null,
       "visibility": null,
       "width": null
      }
     },
     "3e3bff5d4dca422b80255b2550ceff63": {
      "model_module": "@jupyter-widgets/controls",
      "model_module_version": "2.0.0",
      "model_name": "HTMLStyleModel",
      "state": {
       "_model_module": "@jupyter-widgets/controls",
       "_model_module_version": "2.0.0",
       "_model_name": "HTMLStyleModel",
       "_view_count": null,
       "_view_module": "@jupyter-widgets/base",
       "_view_module_version": "2.0.0",
       "_view_name": "StyleView",
       "background": null,
       "description_width": "",
       "font_size": null,
       "text_color": null
      }
     },
     "4005a78190c04ded856cae4fc68585b0": {
      "model_module": "@jupyter-widgets/base",
      "model_module_version": "2.0.0",
      "model_name": "LayoutModel",
      "state": {
       "_model_module": "@jupyter-widgets/base",
       "_model_module_version": "2.0.0",
       "_model_name": "LayoutModel",
       "_view_count": null,
       "_view_module": "@jupyter-widgets/base",
       "_view_module_version": "2.0.0",
       "_view_name": "LayoutView",
       "align_content": null,
       "align_items": null,
       "align_self": null,
       "border_bottom": null,
       "border_left": null,
       "border_right": null,
       "border_top": null,
       "bottom": null,
       "display": null,
       "flex": null,
       "flex_flow": null,
       "grid_area": null,
       "grid_auto_columns": null,
       "grid_auto_flow": null,
       "grid_auto_rows": null,
       "grid_column": null,
       "grid_gap": null,
       "grid_row": null,
       "grid_template_areas": null,
       "grid_template_columns": null,
       "grid_template_rows": null,
       "height": null,
       "justify_content": null,
       "justify_items": null,
       "left": null,
       "margin": null,
       "max_height": null,
       "max_width": null,
       "min_height": null,
       "min_width": null,
       "object_fit": null,
       "object_position": null,
       "order": null,
       "overflow": null,
       "padding": null,
       "right": null,
       "top": null,
       "visibility": null,
       "width": null
      }
     },
     "4034cee9b58d46319305d358d35144d1": {
      "model_module": "@jupyter-widgets/controls",
      "model_module_version": "2.0.0",
      "model_name": "HBoxModel",
      "state": {
       "_dom_classes": [],
       "_model_module": "@jupyter-widgets/controls",
       "_model_module_version": "2.0.0",
       "_model_name": "HBoxModel",
       "_view_count": null,
       "_view_module": "@jupyter-widgets/controls",
       "_view_module_version": "2.0.0",
       "_view_name": "HBoxView",
       "box_style": "",
       "children": [
        "IPY_MODEL_822a231655974a65ad3689ddce64ebe7",
        "IPY_MODEL_9fe0da65346c414d8163c815844973ed",
        "IPY_MODEL_5f73719a4cf14d52aa5bbe101200b41e"
       ],
       "layout": "IPY_MODEL_0d214dded0af4c8b85146e7155c16564",
       "tabbable": null,
       "tooltip": null
      }
     },
     "415e492dfbec4178a16dc2300cf88262": {
      "model_module": "@jupyter-widgets/controls",
      "model_module_version": "2.0.0",
      "model_name": "FloatProgressModel",
      "state": {
       "_dom_classes": [],
       "_model_module": "@jupyter-widgets/controls",
       "_model_module_version": "2.0.0",
       "_model_name": "FloatProgressModel",
       "_view_count": null,
       "_view_module": "@jupyter-widgets/controls",
       "_view_module_version": "2.0.0",
       "_view_name": "ProgressView",
       "bar_style": "success",
       "description": "",
       "description_allow_html": false,
       "layout": "IPY_MODEL_b00f40b02924447bab1f2c680ac21909",
       "max": 48854224,
       "min": 0,
       "orientation": "horizontal",
       "style": "IPY_MODEL_bcc0330058ad4989b3dde2723e29b7dc",
       "tabbable": null,
       "tooltip": null,
       "value": 48854224
      }
     },
     "4208c25879e14d2d9a619e549a2b16c4": {
      "model_module": "@jupyter-widgets/base",
      "model_module_version": "2.0.0",
      "model_name": "LayoutModel",
      "state": {
       "_model_module": "@jupyter-widgets/base",
       "_model_module_version": "2.0.0",
       "_model_name": "LayoutModel",
       "_view_count": null,
       "_view_module": "@jupyter-widgets/base",
       "_view_module_version": "2.0.0",
       "_view_name": "LayoutView",
       "align_content": null,
       "align_items": null,
       "align_self": null,
       "border_bottom": null,
       "border_left": null,
       "border_right": null,
       "border_top": null,
       "bottom": null,
       "display": null,
       "flex": null,
       "flex_flow": null,
       "grid_area": null,
       "grid_auto_columns": null,
       "grid_auto_flow": null,
       "grid_auto_rows": null,
       "grid_column": null,
       "grid_gap": null,
       "grid_row": null,
       "grid_template_areas": null,
       "grid_template_columns": null,
       "grid_template_rows": null,
       "height": null,
       "justify_content": null,
       "justify_items": null,
       "left": null,
       "margin": null,
       "max_height": null,
       "max_width": null,
       "min_height": null,
       "min_width": null,
       "object_fit": null,
       "object_position": null,
       "order": null,
       "overflow": null,
       "padding": null,
       "right": null,
       "top": null,
       "visibility": null,
       "width": null
      }
     },
     "42af337d229c4093bfdd53e924c21244": {
      "model_module": "@jupyter-widgets/controls",
      "model_module_version": "2.0.0",
      "model_name": "TextStyleModel",
      "state": {
       "_model_module": "@jupyter-widgets/controls",
       "_model_module_version": "2.0.0",
       "_model_name": "TextStyleModel",
       "_view_count": null,
       "_view_module": "@jupyter-widgets/base",
       "_view_module_version": "2.0.0",
       "_view_name": "StyleView",
       "background": null,
       "description_width": "",
       "font_size": null,
       "text_color": null
      }
     },
     "463824fdfb1b445a8a8bf6c6fa696f21": {
      "model_module": "@jupyter-widgets/controls",
      "model_module_version": "2.0.0",
      "model_name": "HTMLModel",
      "state": {
       "_dom_classes": [],
       "_model_module": "@jupyter-widgets/controls",
       "_model_module_version": "2.0.0",
       "_model_name": "HTMLModel",
       "_view_count": null,
       "_view_module": "@jupyter-widgets/controls",
       "_view_module_version": "2.0.0",
       "_view_name": "HTMLView",
       "description": "",
       "description_allow_html": false,
       "layout": "IPY_MODEL_60261b3de51f4a50b6310f3d2f6ea314",
       "placeholder": "​",
       "style": "IPY_MODEL_0ea00639d1f54360973a9301404bf0f7",
       "tabbable": null,
       "tooltip": null,
       "value": " 702/702 [00:00&lt;00:00, 145kB/s]"
      }
     },
     "4749a0c8a54343e4b6a22a7364ed4e6d": {
      "model_module": "@jupyter-widgets/base",
      "model_module_version": "2.0.0",
      "model_name": "LayoutModel",
      "state": {
       "_model_module": "@jupyter-widgets/base",
       "_model_module_version": "2.0.0",
       "_model_name": "LayoutModel",
       "_view_count": null,
       "_view_module": "@jupyter-widgets/base",
       "_view_module_version": "2.0.0",
       "_view_name": "LayoutView",
       "align_content": null,
       "align_items": null,
       "align_self": null,
       "border_bottom": null,
       "border_left": null,
       "border_right": null,
       "border_top": null,
       "bottom": null,
       "display": null,
       "flex": null,
       "flex_flow": null,
       "grid_area": null,
       "grid_auto_columns": null,
       "grid_auto_flow": null,
       "grid_auto_rows": null,
       "grid_column": null,
       "grid_gap": null,
       "grid_row": null,
       "grid_template_areas": null,
       "grid_template_columns": null,
       "grid_template_rows": null,
       "height": null,
       "justify_content": null,
       "justify_items": null,
       "left": null,
       "margin": null,
       "max_height": null,
       "max_width": null,
       "min_height": null,
       "min_width": null,
       "object_fit": null,
       "object_position": null,
       "order": null,
       "overflow": null,
       "padding": null,
       "right": null,
       "top": null,
       "visibility": null,
       "width": null
      }
     },
     "48a3bbc26add4f8a9b9c8bcc03a2eabd": {
      "model_module": "@jupyter-widgets/controls",
      "model_module_version": "2.0.0",
      "model_name": "HTMLStyleModel",
      "state": {
       "_model_module": "@jupyter-widgets/controls",
       "_model_module_version": "2.0.0",
       "_model_name": "HTMLStyleModel",
       "_view_count": null,
       "_view_module": "@jupyter-widgets/base",
       "_view_module_version": "2.0.0",
       "_view_name": "StyleView",
       "background": null,
       "description_width": "",
       "font_size": null,
       "text_color": null
      }
     },
     "48d145595b5e474f9c3861241be8fd24": {
      "model_module": "@jupyter-widgets/controls",
      "model_module_version": "2.0.0",
      "model_name": "HTMLModel",
      "state": {
       "_dom_classes": [],
       "_model_module": "@jupyter-widgets/controls",
       "_model_module_version": "2.0.0",
       "_model_name": "HTMLModel",
       "_view_count": null,
       "_view_module": "@jupyter-widgets/controls",
       "_view_module_version": "2.0.0",
       "_view_name": "HTMLView",
       "description": "",
       "description_allow_html": false,
       "layout": "IPY_MODEL_9a01c946fafa4bdf828658794b6713fe",
       "placeholder": "​",
       "style": "IPY_MODEL_39d86f56586d4743ae1e6f1ada967bd7",
       "tabbable": null,
       "tooltip": null,
       "value": "adapter_model.safetensors: 100%"
      }
     },
     "495c308c0feb4e1cb49a6512219c5530": {
      "model_module": "@jupyter-widgets/controls",
      "model_module_version": "2.0.0",
      "model_name": "HTMLModel",
      "state": {
       "_dom_classes": [],
       "_model_module": "@jupyter-widgets/controls",
       "_model_module_version": "2.0.0",
       "_model_name": "HTMLModel",
       "_view_count": null,
       "_view_module": "@jupyter-widgets/controls",
       "_view_module_version": "2.0.0",
       "_view_name": "HTMLView",
       "description": "",
       "description_allow_html": false,
       "layout": "IPY_MODEL_8f6c8a58c8a74f1da19f4ba5429f80fd",
       "placeholder": "​",
       "style": "IPY_MODEL_8ab2a60a0c5f4d9399f4e1187255f6f4",
       "tabbable": null,
       "tooltip": null,
       "value": "adapter_config.json: 100%"
      }
     },
     "4970ec7306784e11a6d10787260f68ab": {
      "model_module": "@jupyter-widgets/base",
      "model_module_version": "2.0.0",
      "model_name": "LayoutModel",
      "state": {
       "_model_module": "@jupyter-widgets/base",
       "_model_module_version": "2.0.0",
       "_model_name": "LayoutModel",
       "_view_count": null,
       "_view_module": "@jupyter-widgets/base",
       "_view_module_version": "2.0.0",
       "_view_name": "LayoutView",
       "align_content": null,
       "align_items": null,
       "align_self": null,
       "border_bottom": null,
       "border_left": null,
       "border_right": null,
       "border_top": null,
       "bottom": null,
       "display": null,
       "flex": null,
       "flex_flow": null,
       "grid_area": null,
       "grid_auto_columns": null,
       "grid_auto_flow": null,
       "grid_auto_rows": null,
       "grid_column": null,
       "grid_gap": null,
       "grid_row": null,
       "grid_template_areas": null,
       "grid_template_columns": null,
       "grid_template_rows": null,
       "height": null,
       "justify_content": null,
       "justify_items": null,
       "left": null,
       "margin": null,
       "max_height": null,
       "max_width": null,
       "min_height": null,
       "min_width": null,
       "object_fit": null,
       "object_position": null,
       "order": null,
       "overflow": null,
       "padding": null,
       "right": null,
       "top": null,
       "visibility": null,
       "width": null
      }
     },
     "4a392aeaf18643eb85bfa6bc70f90d22": {
      "model_module": "@jupyter-widgets/controls",
      "model_module_version": "2.0.0",
      "model_name": "HTMLModel",
      "state": {
       "_dom_classes": [],
       "_model_module": "@jupyter-widgets/controls",
       "_model_module_version": "2.0.0",
       "_model_name": "HTMLModel",
       "_view_count": null,
       "_view_module": "@jupyter-widgets/controls",
       "_view_module_version": "2.0.0",
       "_view_name": "HTMLView",
       "description": "",
       "description_allow_html": false,
       "layout": "IPY_MODEL_c42ab50a51bb47adb0fb564eb0fd57db",
       "placeholder": "​",
       "style": "IPY_MODEL_b89c9b7cdd3e4a9aafc95d4cfadd4a4b",
       "tabbable": null,
       "tooltip": null,
       "value": " 48.9M/48.9M [00:00&lt;00:00, 109MB/s]"
      }
     },
     "4c117d88c35244d6ae9593ea7f7c3701": {
      "model_module": "@jupyter-widgets/base",
      "model_module_version": "2.0.0",
      "model_name": "LayoutModel",
      "state": {
       "_model_module": "@jupyter-widgets/base",
       "_model_module_version": "2.0.0",
       "_model_name": "LayoutModel",
       "_view_count": null,
       "_view_module": "@jupyter-widgets/base",
       "_view_module_version": "2.0.0",
       "_view_name": "LayoutView",
       "align_content": null,
       "align_items": null,
       "align_self": null,
       "border_bottom": null,
       "border_left": null,
       "border_right": null,
       "border_top": null,
       "bottom": null,
       "display": null,
       "flex": null,
       "flex_flow": null,
       "grid_area": null,
       "grid_auto_columns": null,
       "grid_auto_flow": null,
       "grid_auto_rows": null,
       "grid_column": null,
       "grid_gap": null,
       "grid_row": null,
       "grid_template_areas": null,
       "grid_template_columns": null,
       "grid_template_rows": null,
       "height": null,
       "justify_content": null,
       "justify_items": null,
       "left": null,
       "margin": null,
       "max_height": null,
       "max_width": null,
       "min_height": null,
       "min_width": null,
       "object_fit": null,
       "object_position": null,
       "order": null,
       "overflow": null,
       "padding": null,
       "right": null,
       "top": null,
       "visibility": null,
       "width": null
      }
     },
     "501f7c489b7a4290be45ec70709d2ee3": {
      "model_module": "@jupyter-widgets/controls",
      "model_module_version": "2.0.0",
      "model_name": "ProgressStyleModel",
      "state": {
       "_model_module": "@jupyter-widgets/controls",
       "_model_module_version": "2.0.0",
       "_model_name": "ProgressStyleModel",
       "_view_count": null,
       "_view_module": "@jupyter-widgets/base",
       "_view_module_version": "2.0.0",
       "_view_name": "StyleView",
       "bar_color": null,
       "description_width": ""
      }
     },
     "52ba1452c75c4375ad9991a0118be1dc": {
      "model_module": "@jupyter-widgets/controls",
      "model_module_version": "2.0.0",
      "model_name": "ButtonModel",
      "state": {
       "_dom_classes": [],
       "_model_module": "@jupyter-widgets/controls",
       "_model_module_version": "2.0.0",
       "_model_name": "ButtonModel",
       "_view_count": null,
       "_view_module": "@jupyter-widgets/controls",
       "_view_module_version": "2.0.0",
       "_view_name": "ButtonView",
       "button_style": "",
       "description": "Login",
       "disabled": false,
       "icon": "",
       "layout": "IPY_MODEL_a4f1a6798ff3471abd145a27ea10ac53",
       "style": "IPY_MODEL_1eb159a400a6449c9192caa3f76af2e1",
       "tabbable": null,
       "tooltip": null
      }
     },
     "5eee9f481d414e33be14b7b6f740f7d8": {
      "model_module": "@jupyter-widgets/controls",
      "model_module_version": "2.0.0",
      "model_name": "HTMLStyleModel",
      "state": {
       "_model_module": "@jupyter-widgets/controls",
       "_model_module_version": "2.0.0",
       "_model_name": "HTMLStyleModel",
       "_view_count": null,
       "_view_module": "@jupyter-widgets/base",
       "_view_module_version": "2.0.0",
       "_view_name": "StyleView",
       "background": null,
       "description_width": "",
       "font_size": null,
       "text_color": null
      }
     },
     "5f1f6f95726c4bb8b9c05c55a1dfb56d": {
      "model_module": "@jupyter-widgets/controls",
      "model_module_version": "2.0.0",
      "model_name": "ProgressStyleModel",
      "state": {
       "_model_module": "@jupyter-widgets/controls",
       "_model_module_version": "2.0.0",
       "_model_name": "ProgressStyleModel",
       "_view_count": null,
       "_view_module": "@jupyter-widgets/base",
       "_view_module_version": "2.0.0",
       "_view_name": "StyleView",
       "bar_color": null,
       "description_width": ""
      }
     },
     "5f73719a4cf14d52aa5bbe101200b41e": {
      "model_module": "@jupyter-widgets/controls",
      "model_module_version": "2.0.0",
      "model_name": "HTMLModel",
      "state": {
       "_dom_classes": [],
       "_model_module": "@jupyter-widgets/controls",
       "_model_module_version": "2.0.0",
       "_model_name": "HTMLModel",
       "_view_count": null,
       "_view_module": "@jupyter-widgets/controls",
       "_view_module_version": "2.0.0",
       "_view_name": "HTMLView",
       "description": "",
       "description_allow_html": false,
       "layout": "IPY_MODEL_4749a0c8a54343e4b6a22a7364ed4e6d",
       "placeholder": "​",
       "style": "IPY_MODEL_fcba9e5077f34d6592751a9122842020",
       "tabbable": null,
       "tooltip": null,
       "value": " 65/65 [00:00&lt;00:00, 726.29 examples/s]"
      }
     },
     "60261b3de51f4a50b6310f3d2f6ea314": {
      "model_module": "@jupyter-widgets/base",
      "model_module_version": "2.0.0",
      "model_name": "LayoutModel",
      "state": {
       "_model_module": "@jupyter-widgets/base",
       "_model_module_version": "2.0.0",
       "_model_name": "LayoutModel",
       "_view_count": null,
       "_view_module": "@jupyter-widgets/base",
       "_view_module_version": "2.0.0",
       "_view_name": "LayoutView",
       "align_content": null,
       "align_items": null,
       "align_self": null,
       "border_bottom": null,
       "border_left": null,
       "border_right": null,
       "border_top": null,
       "bottom": null,
       "display": null,
       "flex": null,
       "flex_flow": null,
       "grid_area": null,
       "grid_auto_columns": null,
       "grid_auto_flow": null,
       "grid_auto_rows": null,
       "grid_column": null,
       "grid_gap": null,
       "grid_row": null,
       "grid_template_areas": null,
       "grid_template_columns": null,
       "grid_template_rows": null,
       "height": null,
       "justify_content": null,
       "justify_items": null,
       "left": null,
       "margin": null,
       "max_height": null,
       "max_width": null,
       "min_height": null,
       "min_width": null,
       "object_fit": null,
       "object_position": null,
       "order": null,
       "overflow": null,
       "padding": null,
       "right": null,
       "top": null,
       "visibility": null,
       "width": null
      }
     },
     "623dfb52c8d14f40bd994294261b5f4e": {
      "model_module": "@jupyter-widgets/controls",
      "model_module_version": "2.0.0",
      "model_name": "FloatProgressModel",
      "state": {
       "_dom_classes": [],
       "_model_module": "@jupyter-widgets/controls",
       "_model_module_version": "2.0.0",
       "_model_name": "FloatProgressModel",
       "_view_count": null,
       "_view_module": "@jupyter-widgets/controls",
       "_view_module_version": "2.0.0",
       "_view_name": "ProgressView",
       "bar_style": "success",
       "description": "",
       "description_allow_html": false,
       "layout": "IPY_MODEL_a049ae4a710446fba566bb8261382de0",
       "max": 2,
       "min": 0,
       "orientation": "horizontal",
       "style": "IPY_MODEL_5f1f6f95726c4bb8b9c05c55a1dfb56d",
       "tabbable": null,
       "tooltip": null,
       "value": 2
      }
     },
     "67c5ee472f3a4d56a0c9af87c5b22796": {
      "model_module": "@jupyter-widgets/controls",
      "model_module_version": "2.0.0",
      "model_name": "HTMLModel",
      "state": {
       "_dom_classes": [],
       "_model_module": "@jupyter-widgets/controls",
       "_model_module_version": "2.0.0",
       "_model_name": "HTMLModel",
       "_view_count": null,
       "_view_module": "@jupyter-widgets/controls",
       "_view_module_version": "2.0.0",
       "_view_name": "HTMLView",
       "description": "",
       "description_allow_html": false,
       "layout": "IPY_MODEL_e73ae3d0d52d4633ba94dbc74457a083",
       "placeholder": "​",
       "style": "IPY_MODEL_0b72f2faf347433988fa544305d1d803",
       "tabbable": null,
       "tooltip": null,
       "value": " 48.9M/48.9M [00:01&lt;00:00, 52.8MB/s]"
      }
     },
     "71aadbfd993943d8a13ab8297a11709f": {
      "model_module": "@jupyter-widgets/base",
      "model_module_version": "2.0.0",
      "model_name": "LayoutModel",
      "state": {
       "_model_module": "@jupyter-widgets/base",
       "_model_module_version": "2.0.0",
       "_model_name": "LayoutModel",
       "_view_count": null,
       "_view_module": "@jupyter-widgets/base",
       "_view_module_version": "2.0.0",
       "_view_name": "LayoutView",
       "align_content": null,
       "align_items": null,
       "align_self": null,
       "border_bottom": null,
       "border_left": null,
       "border_right": null,
       "border_top": null,
       "bottom": null,
       "display": null,
       "flex": null,
       "flex_flow": null,
       "grid_area": null,
       "grid_auto_columns": null,
       "grid_auto_flow": null,
       "grid_auto_rows": null,
       "grid_column": null,
       "grid_gap": null,
       "grid_row": null,
       "grid_template_areas": null,
       "grid_template_columns": null,
       "grid_template_rows": null,
       "height": null,
       "justify_content": null,
       "justify_items": null,
       "left": null,
       "margin": null,
       "max_height": null,
       "max_width": null,
       "min_height": null,
       "min_width": null,
       "object_fit": null,
       "object_position": null,
       "order": null,
       "overflow": null,
       "padding": null,
       "right": null,
       "top": null,
       "visibility": null,
       "width": null
      }
     },
     "7af23aa67a0a4ac1826f57fe6fb43d46": {
      "model_module": "@jupyter-widgets/base",
      "model_module_version": "2.0.0",
      "model_name": "LayoutModel",
      "state": {
       "_model_module": "@jupyter-widgets/base",
       "_model_module_version": "2.0.0",
       "_model_name": "LayoutModel",
       "_view_count": null,
       "_view_module": "@jupyter-widgets/base",
       "_view_module_version": "2.0.0",
       "_view_name": "LayoutView",
       "align_content": null,
       "align_items": null,
       "align_self": null,
       "border_bottom": null,
       "border_left": null,
       "border_right": null,
       "border_top": null,
       "bottom": null,
       "display": null,
       "flex": null,
       "flex_flow": null,
       "grid_area": null,
       "grid_auto_columns": null,
       "grid_auto_flow": null,
       "grid_auto_rows": null,
       "grid_column": null,
       "grid_gap": null,
       "grid_row": null,
       "grid_template_areas": null,
       "grid_template_columns": null,
       "grid_template_rows": null,
       "height": null,
       "justify_content": null,
       "justify_items": null,
       "left": null,
       "margin": null,
       "max_height": null,
       "max_width": null,
       "min_height": null,
       "min_width": null,
       "object_fit": null,
       "object_position": null,
       "order": null,
       "overflow": null,
       "padding": null,
       "right": null,
       "top": null,
       "visibility": null,
       "width": null
      }
     },
     "7d98af8026b14b77af7aba8690f3a158": {
      "model_module": "@jupyter-widgets/controls",
      "model_module_version": "2.0.0",
      "model_name": "FloatProgressModel",
      "state": {
       "_dom_classes": [],
       "_model_module": "@jupyter-widgets/controls",
       "_model_module_version": "2.0.0",
       "_model_name": "FloatProgressModel",
       "_view_count": null,
       "_view_module": "@jupyter-widgets/controls",
       "_view_module_version": "2.0.0",
       "_view_name": "ProgressView",
       "bar_style": "success",
       "description": "",
       "description_allow_html": false,
       "layout": "IPY_MODEL_3d659ac8a445424f8ee02a4bb95b495a",
       "max": 48854224,
       "min": 0,
       "orientation": "horizontal",
       "style": "IPY_MODEL_501f7c489b7a4290be45ec70709d2ee3",
       "tabbable": null,
       "tooltip": null,
       "value": 48854224
      }
     },
     "822a231655974a65ad3689ddce64ebe7": {
      "model_module": "@jupyter-widgets/controls",
      "model_module_version": "2.0.0",
      "model_name": "HTMLModel",
      "state": {
       "_dom_classes": [],
       "_model_module": "@jupyter-widgets/controls",
       "_model_module_version": "2.0.0",
       "_model_name": "HTMLModel",
       "_view_count": null,
       "_view_module": "@jupyter-widgets/controls",
       "_view_module_version": "2.0.0",
       "_view_name": "HTMLView",
       "description": "",
       "description_allow_html": false,
       "layout": "IPY_MODEL_e17778ee533747cd9a03d33ccd64a86a",
       "placeholder": "​",
       "style": "IPY_MODEL_d625d08e99354c55bedfc45841adbd0d",
       "tabbable": null,
       "tooltip": null,
       "value": "Map: 100%"
      }
     },
     "842546c3e2c04ed1a30470b796564b67": {
      "model_module": "@jupyter-widgets/controls",
      "model_module_version": "2.0.0",
      "model_name": "ProgressStyleModel",
      "state": {
       "_model_module": "@jupyter-widgets/controls",
       "_model_module_version": "2.0.0",
       "_model_name": "ProgressStyleModel",
       "_view_count": null,
       "_view_module": "@jupyter-widgets/base",
       "_view_module_version": "2.0.0",
       "_view_name": "StyleView",
       "bar_color": null,
       "description_width": ""
      }
     },
     "875bb5ad2f214bcfa06f9859ce5108d0": {
      "model_module": "@jupyter-widgets/controls",
      "model_module_version": "2.0.0",
      "model_name": "HTMLModel",
      "state": {
       "_dom_classes": [],
       "_model_module": "@jupyter-widgets/controls",
       "_model_module_version": "2.0.0",
       "_model_name": "HTMLModel",
       "_view_count": null,
       "_view_module": "@jupyter-widgets/controls",
       "_view_module_version": "2.0.0",
       "_view_name": "HTMLView",
       "description": "",
       "description_allow_html": false,
       "layout": "IPY_MODEL_c6f9e59b421c4f48a6e218e797ca3600",
       "placeholder": "​",
       "style": "IPY_MODEL_5eee9f481d414e33be14b7b6f740f7d8",
       "tabbable": null,
       "tooltip": null,
       "value": "adapter_model.safetensors: 100%"
      }
     },
     "8ab2a60a0c5f4d9399f4e1187255f6f4": {
      "model_module": "@jupyter-widgets/controls",
      "model_module_version": "2.0.0",
      "model_name": "HTMLStyleModel",
      "state": {
       "_model_module": "@jupyter-widgets/controls",
       "_model_module_version": "2.0.0",
       "_model_name": "HTMLStyleModel",
       "_view_count": null,
       "_view_module": "@jupyter-widgets/base",
       "_view_module_version": "2.0.0",
       "_view_name": "StyleView",
       "background": null,
       "description_width": "",
       "font_size": null,
       "text_color": null
      }
     },
     "8c95cddc276a4a2797f8ea3cc5389d33": {
      "model_module": "@jupyter-widgets/base",
      "model_module_version": "2.0.0",
      "model_name": "LayoutModel",
      "state": {
       "_model_module": "@jupyter-widgets/base",
       "_model_module_version": "2.0.0",
       "_model_name": "LayoutModel",
       "_view_count": null,
       "_view_module": "@jupyter-widgets/base",
       "_view_module_version": "2.0.0",
       "_view_name": "LayoutView",
       "align_content": null,
       "align_items": null,
       "align_self": null,
       "border_bottom": null,
       "border_left": null,
       "border_right": null,
       "border_top": null,
       "bottom": null,
       "display": null,
       "flex": null,
       "flex_flow": null,
       "grid_area": null,
       "grid_auto_columns": null,
       "grid_auto_flow": null,
       "grid_auto_rows": null,
       "grid_column": null,
       "grid_gap": null,
       "grid_row": null,
       "grid_template_areas": null,
       "grid_template_columns": null,
       "grid_template_rows": null,
       "height": null,
       "justify_content": null,
       "justify_items": null,
       "left": null,
       "margin": null,
       "max_height": null,
       "max_width": null,
       "min_height": null,
       "min_width": null,
       "object_fit": null,
       "object_position": null,
       "order": null,
       "overflow": null,
       "padding": null,
       "right": null,
       "top": null,
       "visibility": null,
       "width": null
      }
     },
     "8f6c8a58c8a74f1da19f4ba5429f80fd": {
      "model_module": "@jupyter-widgets/base",
      "model_module_version": "2.0.0",
      "model_name": "LayoutModel",
      "state": {
       "_model_module": "@jupyter-widgets/base",
       "_model_module_version": "2.0.0",
       "_model_name": "LayoutModel",
       "_view_count": null,
       "_view_module": "@jupyter-widgets/base",
       "_view_module_version": "2.0.0",
       "_view_name": "LayoutView",
       "align_content": null,
       "align_items": null,
       "align_self": null,
       "border_bottom": null,
       "border_left": null,
       "border_right": null,
       "border_top": null,
       "bottom": null,
       "display": null,
       "flex": null,
       "flex_flow": null,
       "grid_area": null,
       "grid_auto_columns": null,
       "grid_auto_flow": null,
       "grid_auto_rows": null,
       "grid_column": null,
       "grid_gap": null,
       "grid_row": null,
       "grid_template_areas": null,
       "grid_template_columns": null,
       "grid_template_rows": null,
       "height": null,
       "justify_content": null,
       "justify_items": null,
       "left": null,
       "margin": null,
       "max_height": null,
       "max_width": null,
       "min_height": null,
       "min_width": null,
       "object_fit": null,
       "object_position": null,
       "order": null,
       "overflow": null,
       "padding": null,
       "right": null,
       "top": null,
       "visibility": null,
       "width": null
      }
     },
     "98cddb5582a84aeaaf3799ef2065504f": {
      "model_module": "@jupyter-widgets/controls",
      "model_module_version": "2.0.0",
      "model_name": "HBoxModel",
      "state": {
       "_dom_classes": [],
       "_model_module": "@jupyter-widgets/controls",
       "_model_module_version": "2.0.0",
       "_model_name": "HBoxModel",
       "_view_count": null,
       "_view_module": "@jupyter-widgets/controls",
       "_view_module_version": "2.0.0",
       "_view_name": "HBoxView",
       "box_style": "",
       "children": [
        "IPY_MODEL_48d145595b5e474f9c3861241be8fd24",
        "IPY_MODEL_7d98af8026b14b77af7aba8690f3a158",
        "IPY_MODEL_4a392aeaf18643eb85bfa6bc70f90d22"
       ],
       "layout": "IPY_MODEL_4970ec7306784e11a6d10787260f68ab",
       "tabbable": null,
       "tooltip": null
      }
     },
     "9a01c946fafa4bdf828658794b6713fe": {
      "model_module": "@jupyter-widgets/base",
      "model_module_version": "2.0.0",
      "model_name": "LayoutModel",
      "state": {
       "_model_module": "@jupyter-widgets/base",
       "_model_module_version": "2.0.0",
       "_model_name": "LayoutModel",
       "_view_count": null,
       "_view_module": "@jupyter-widgets/base",
       "_view_module_version": "2.0.0",
       "_view_name": "LayoutView",
       "align_content": null,
       "align_items": null,
       "align_self": null,
       "border_bottom": null,
       "border_left": null,
       "border_right": null,
       "border_top": null,
       "bottom": null,
       "display": null,
       "flex": null,
       "flex_flow": null,
       "grid_area": null,
       "grid_auto_columns": null,
       "grid_auto_flow": null,
       "grid_auto_rows": null,
       "grid_column": null,
       "grid_gap": null,
       "grid_row": null,
       "grid_template_areas": null,
       "grid_template_columns": null,
       "grid_template_rows": null,
       "height": null,
       "justify_content": null,
       "justify_items": null,
       "left": null,
       "margin": null,
       "max_height": null,
       "max_width": null,
       "min_height": null,
       "min_width": null,
       "object_fit": null,
       "object_position": null,
       "order": null,
       "overflow": null,
       "padding": null,
       "right": null,
       "top": null,
       "visibility": null,
       "width": null
      }
     },
     "9fe0da65346c414d8163c815844973ed": {
      "model_module": "@jupyter-widgets/controls",
      "model_module_version": "2.0.0",
      "model_name": "FloatProgressModel",
      "state": {
       "_dom_classes": [],
       "_model_module": "@jupyter-widgets/controls",
       "_model_module_version": "2.0.0",
       "_model_name": "FloatProgressModel",
       "_view_count": null,
       "_view_module": "@jupyter-widgets/controls",
       "_view_module_version": "2.0.0",
       "_view_name": "ProgressView",
       "bar_style": "success",
       "description": "",
       "description_allow_html": false,
       "layout": "IPY_MODEL_e4624eb8cc3f4a23b451aa43729de2db",
       "max": 65,
       "min": 0,
       "orientation": "horizontal",
       "style": "IPY_MODEL_bca7c708469141898100a82603776079",
       "tabbable": null,
       "tooltip": null,
       "value": 65
      }
     },
     "a049ae4a710446fba566bb8261382de0": {
      "model_module": "@jupyter-widgets/base",
      "model_module_version": "2.0.0",
      "model_name": "LayoutModel",
      "state": {
       "_model_module": "@jupyter-widgets/base",
       "_model_module_version": "2.0.0",
       "_model_name": "LayoutModel",
       "_view_count": null,
       "_view_module": "@jupyter-widgets/base",
       "_view_module_version": "2.0.0",
       "_view_name": "LayoutView",
       "align_content": null,
       "align_items": null,
       "align_self": null,
       "border_bottom": null,
       "border_left": null,
       "border_right": null,
       "border_top": null,
       "bottom": null,
       "display": null,
       "flex": null,
       "flex_flow": null,
       "grid_area": null,
       "grid_auto_columns": null,
       "grid_auto_flow": null,
       "grid_auto_rows": null,
       "grid_column": null,
       "grid_gap": null,
       "grid_row": null,
       "grid_template_areas": null,
       "grid_template_columns": null,
       "grid_template_rows": null,
       "height": null,
       "justify_content": null,
       "justify_items": null,
       "left": null,
       "margin": null,
       "max_height": null,
       "max_width": null,
       "min_height": null,
       "min_width": null,
       "object_fit": null,
       "object_position": null,
       "order": null,
       "overflow": null,
       "padding": null,
       "right": null,
       "top": null,
       "visibility": null,
       "width": null
      }
     },
     "a3264d45dcf94a8e862c56d83630148c": {
      "model_module": "@jupyter-widgets/base",
      "model_module_version": "2.0.0",
      "model_name": "LayoutModel",
      "state": {
       "_model_module": "@jupyter-widgets/base",
       "_model_module_version": "2.0.0",
       "_model_name": "LayoutModel",
       "_view_count": null,
       "_view_module": "@jupyter-widgets/base",
       "_view_module_version": "2.0.0",
       "_view_name": "LayoutView",
       "align_content": null,
       "align_items": "center",
       "align_self": null,
       "border_bottom": null,
       "border_left": null,
       "border_right": null,
       "border_top": null,
       "bottom": null,
       "display": "flex",
       "flex": null,
       "flex_flow": "column",
       "grid_area": null,
       "grid_auto_columns": null,
       "grid_auto_flow": null,
       "grid_auto_rows": null,
       "grid_column": null,
       "grid_gap": null,
       "grid_row": null,
       "grid_template_areas": null,
       "grid_template_columns": null,
       "grid_template_rows": null,
       "height": null,
       "justify_content": null,
       "justify_items": null,
       "left": null,
       "margin": null,
       "max_height": null,
       "max_width": null,
       "min_height": null,
       "min_width": null,
       "object_fit": null,
       "object_position": null,
       "order": null,
       "overflow": null,
       "padding": null,
       "right": null,
       "top": null,
       "visibility": null,
       "width": "50%"
      }
     },
     "a4f1a6798ff3471abd145a27ea10ac53": {
      "model_module": "@jupyter-widgets/base",
      "model_module_version": "2.0.0",
      "model_name": "LayoutModel",
      "state": {
       "_model_module": "@jupyter-widgets/base",
       "_model_module_version": "2.0.0",
       "_model_name": "LayoutModel",
       "_view_count": null,
       "_view_module": "@jupyter-widgets/base",
       "_view_module_version": "2.0.0",
       "_view_name": "LayoutView",
       "align_content": null,
       "align_items": null,
       "align_self": null,
       "border_bottom": null,
       "border_left": null,
       "border_right": null,
       "border_top": null,
       "bottom": null,
       "display": null,
       "flex": null,
       "flex_flow": null,
       "grid_area": null,
       "grid_auto_columns": null,
       "grid_auto_flow": null,
       "grid_auto_rows": null,
       "grid_column": null,
       "grid_gap": null,
       "grid_row": null,
       "grid_template_areas": null,
       "grid_template_columns": null,
       "grid_template_rows": null,
       "height": null,
       "justify_content": null,
       "justify_items": null,
       "left": null,
       "margin": null,
       "max_height": null,
       "max_width": null,
       "min_height": null,
       "min_width": null,
       "object_fit": null,
       "object_position": null,
       "order": null,
       "overflow": null,
       "padding": null,
       "right": null,
       "top": null,
       "visibility": null,
       "width": null
      }
     },
     "a67167962fab405ebebbac978f6e9305": {
      "model_module": "@jupyter-widgets/base",
      "model_module_version": "2.0.0",
      "model_name": "LayoutModel",
      "state": {
       "_model_module": "@jupyter-widgets/base",
       "_model_module_version": "2.0.0",
       "_model_name": "LayoutModel",
       "_view_count": null,
       "_view_module": "@jupyter-widgets/base",
       "_view_module_version": "2.0.0",
       "_view_name": "LayoutView",
       "align_content": null,
       "align_items": null,
       "align_self": null,
       "border_bottom": null,
       "border_left": null,
       "border_right": null,
       "border_top": null,
       "bottom": null,
       "display": null,
       "flex": null,
       "flex_flow": null,
       "grid_area": null,
       "grid_auto_columns": null,
       "grid_auto_flow": null,
       "grid_auto_rows": null,
       "grid_column": null,
       "grid_gap": null,
       "grid_row": null,
       "grid_template_areas": null,
       "grid_template_columns": null,
       "grid_template_rows": null,
       "height": null,
       "justify_content": null,
       "justify_items": null,
       "left": null,
       "margin": null,
       "max_height": null,
       "max_width": null,
       "min_height": null,
       "min_width": null,
       "object_fit": null,
       "object_position": null,
       "order": null,
       "overflow": null,
       "padding": null,
       "right": null,
       "top": null,
       "visibility": null,
       "width": null
      }
     },
     "a77c8b9a0e1942838ee67a83046fb3f1": {
      "model_module": "@jupyter-widgets/base",
      "model_module_version": "2.0.0",
      "model_name": "LayoutModel",
      "state": {
       "_model_module": "@jupyter-widgets/base",
       "_model_module_version": "2.0.0",
       "_model_name": "LayoutModel",
       "_view_count": null,
       "_view_module": "@jupyter-widgets/base",
       "_view_module_version": "2.0.0",
       "_view_name": "LayoutView",
       "align_content": null,
       "align_items": null,
       "align_self": null,
       "border_bottom": null,
       "border_left": null,
       "border_right": null,
       "border_top": null,
       "bottom": null,
       "display": null,
       "flex": null,
       "flex_flow": null,
       "grid_area": null,
       "grid_auto_columns": null,
       "grid_auto_flow": null,
       "grid_auto_rows": null,
       "grid_column": null,
       "grid_gap": null,
       "grid_row": null,
       "grid_template_areas": null,
       "grid_template_columns": null,
       "grid_template_rows": null,
       "height": null,
       "justify_content": null,
       "justify_items": null,
       "left": null,
       "margin": null,
       "max_height": null,
       "max_width": null,
       "min_height": null,
       "min_width": null,
       "object_fit": null,
       "object_position": null,
       "order": null,
       "overflow": null,
       "padding": null,
       "right": null,
       "top": null,
       "visibility": null,
       "width": null
      }
     },
     "b00f40b02924447bab1f2c680ac21909": {
      "model_module": "@jupyter-widgets/base",
      "model_module_version": "2.0.0",
      "model_name": "LayoutModel",
      "state": {
       "_model_module": "@jupyter-widgets/base",
       "_model_module_version": "2.0.0",
       "_model_name": "LayoutModel",
       "_view_count": null,
       "_view_module": "@jupyter-widgets/base",
       "_view_module_version": "2.0.0",
       "_view_name": "LayoutView",
       "align_content": null,
       "align_items": null,
       "align_self": null,
       "border_bottom": null,
       "border_left": null,
       "border_right": null,
       "border_top": null,
       "bottom": null,
       "display": null,
       "flex": null,
       "flex_flow": null,
       "grid_area": null,
       "grid_auto_columns": null,
       "grid_auto_flow": null,
       "grid_auto_rows": null,
       "grid_column": null,
       "grid_gap": null,
       "grid_row": null,
       "grid_template_areas": null,
       "grid_template_columns": null,
       "grid_template_rows": null,
       "height": null,
       "justify_content": null,
       "justify_items": null,
       "left": null,
       "margin": null,
       "max_height": null,
       "max_width": null,
       "min_height": null,
       "min_width": null,
       "object_fit": null,
       "object_position": null,
       "order": null,
       "overflow": null,
       "padding": null,
       "right": null,
       "top": null,
       "visibility": null,
       "width": null
      }
     },
     "b22850a7525c4b129245b60591d2e3ae": {
      "model_module": "@jupyter-widgets/controls",
      "model_module_version": "2.0.0",
      "model_name": "HTMLModel",
      "state": {
       "_dom_classes": [],
       "_model_module": "@jupyter-widgets/controls",
       "_model_module_version": "2.0.0",
       "_model_name": "HTMLModel",
       "_view_count": null,
       "_view_module": "@jupyter-widgets/controls",
       "_view_module_version": "2.0.0",
       "_view_name": "HTMLView",
       "description": "",
       "description_allow_html": false,
       "layout": "IPY_MODEL_101a1f072a7a4226a4ea89d929cf9bd2",
       "placeholder": "​",
       "style": "IPY_MODEL_1d90d56ba7764f2a9a1e4cef0595b7b8",
       "tabbable": null,
       "tooltip": null,
       "value": "\n<b>Pro Tip:</b> If you don't already have one, you can create a dedicated\n'notebooks' token with 'write' access, that you can then easily reuse for all\nnotebooks. </center>"
      }
     },
     "b30a7fe5c7fb48689723f9eaecec5f89": {
      "model_module": "@jupyter-widgets/controls",
      "model_module_version": "2.0.0",
      "model_name": "HTMLStyleModel",
      "state": {
       "_model_module": "@jupyter-widgets/controls",
       "_model_module_version": "2.0.0",
       "_model_name": "HTMLStyleModel",
       "_view_count": null,
       "_view_module": "@jupyter-widgets/base",
       "_view_module_version": "2.0.0",
       "_view_name": "StyleView",
       "background": null,
       "description_width": "",
       "font_size": null,
       "text_color": null
      }
     },
     "b89c9b7cdd3e4a9aafc95d4cfadd4a4b": {
      "model_module": "@jupyter-widgets/controls",
      "model_module_version": "2.0.0",
      "model_name": "HTMLStyleModel",
      "state": {
       "_model_module": "@jupyter-widgets/controls",
       "_model_module_version": "2.0.0",
       "_model_name": "HTMLStyleModel",
       "_view_count": null,
       "_view_module": "@jupyter-widgets/base",
       "_view_module_version": "2.0.0",
       "_view_name": "StyleView",
       "background": null,
       "description_width": "",
       "font_size": null,
       "text_color": null
      }
     },
     "bb56363f27fd41cc94687a859f638f58": {
      "model_module": "@jupyter-widgets/controls",
      "model_module_version": "2.0.0",
      "model_name": "FloatProgressModel",
      "state": {
       "_dom_classes": [],
       "_model_module": "@jupyter-widgets/controls",
       "_model_module_version": "2.0.0",
       "_model_name": "FloatProgressModel",
       "_view_count": null,
       "_view_module": "@jupyter-widgets/controls",
       "_view_module_version": "2.0.0",
       "_view_name": "ProgressView",
       "bar_style": "success",
       "description": "",
       "description_allow_html": false,
       "layout": "IPY_MODEL_3a52e2e6133c43dfb1abf53051b669d0",
       "max": 702,
       "min": 0,
       "orientation": "horizontal",
       "style": "IPY_MODEL_842546c3e2c04ed1a30470b796564b67",
       "tabbable": null,
       "tooltip": null,
       "value": 702
      }
     },
     "bc58eb44dbd04bf5b056f5a4b32c8474": {
      "model_module": "@jupyter-widgets/controls",
      "model_module_version": "2.0.0",
      "model_name": "HTMLModel",
      "state": {
       "_dom_classes": [],
       "_model_module": "@jupyter-widgets/controls",
       "_model_module_version": "2.0.0",
       "_model_name": "HTMLModel",
       "_view_count": null,
       "_view_module": "@jupyter-widgets/controls",
       "_view_module_version": "2.0.0",
       "_view_name": "HTMLView",
       "description": "",
       "description_allow_html": false,
       "layout": "IPY_MODEL_f632191a3bce4325977f79cce6ff7017",
       "placeholder": "​",
       "style": "IPY_MODEL_3e3bff5d4dca422b80255b2550ceff63",
       "tabbable": null,
       "tooltip": null,
       "value": " 524/524 [00:00&lt;00:00, 733.93 examples/s]"
      }
     },
     "bca7c708469141898100a82603776079": {
      "model_module": "@jupyter-widgets/controls",
      "model_module_version": "2.0.0",
      "model_name": "ProgressStyleModel",
      "state": {
       "_model_module": "@jupyter-widgets/controls",
       "_model_module_version": "2.0.0",
       "_model_name": "ProgressStyleModel",
       "_view_count": null,
       "_view_module": "@jupyter-widgets/base",
       "_view_module_version": "2.0.0",
       "_view_name": "StyleView",
       "bar_color": null,
       "description_width": ""
      }
     },
     "bcc0330058ad4989b3dde2723e29b7dc": {
      "model_module": "@jupyter-widgets/controls",
      "model_module_version": "2.0.0",
      "model_name": "ProgressStyleModel",
      "state": {
       "_model_module": "@jupyter-widgets/controls",
       "_model_module_version": "2.0.0",
       "_model_name": "ProgressStyleModel",
       "_view_count": null,
       "_view_module": "@jupyter-widgets/base",
       "_view_module_version": "2.0.0",
       "_view_name": "StyleView",
       "bar_color": null,
       "description_width": ""
      }
     },
     "c367dc99c62347679b62599ae2145008": {
      "model_module": "@jupyter-widgets/controls",
      "model_module_version": "2.0.0",
      "model_name": "HBoxModel",
      "state": {
       "_dom_classes": [],
       "_model_module": "@jupyter-widgets/controls",
       "_model_module_version": "2.0.0",
       "_model_name": "HBoxModel",
       "_view_count": null,
       "_view_module": "@jupyter-widgets/controls",
       "_view_module_version": "2.0.0",
       "_view_name": "HBoxView",
       "box_style": "",
       "children": [
        "IPY_MODEL_c4d8e487c2174733b440dcec1ec2544d",
        "IPY_MODEL_623dfb52c8d14f40bd994294261b5f4e",
        "IPY_MODEL_d697f688fa924fe09193860e0a675160"
       ],
       "layout": "IPY_MODEL_e96d1ae2c614499b996e2bc4df7bd44b",
       "tabbable": null,
       "tooltip": null
      }
     },
     "c42ab50a51bb47adb0fb564eb0fd57db": {
      "model_module": "@jupyter-widgets/base",
      "model_module_version": "2.0.0",
      "model_name": "LayoutModel",
      "state": {
       "_model_module": "@jupyter-widgets/base",
       "_model_module_version": "2.0.0",
       "_model_name": "LayoutModel",
       "_view_count": null,
       "_view_module": "@jupyter-widgets/base",
       "_view_module_version": "2.0.0",
       "_view_name": "LayoutView",
       "align_content": null,
       "align_items": null,
       "align_self": null,
       "border_bottom": null,
       "border_left": null,
       "border_right": null,
       "border_top": null,
       "bottom": null,
       "display": null,
       "flex": null,
       "flex_flow": null,
       "grid_area": null,
       "grid_auto_columns": null,
       "grid_auto_flow": null,
       "grid_auto_rows": null,
       "grid_column": null,
       "grid_gap": null,
       "grid_row": null,
       "grid_template_areas": null,
       "grid_template_columns": null,
       "grid_template_rows": null,
       "height": null,
       "justify_content": null,
       "justify_items": null,
       "left": null,
       "margin": null,
       "max_height": null,
       "max_width": null,
       "min_height": null,
       "min_width": null,
       "object_fit": null,
       "object_position": null,
       "order": null,
       "overflow": null,
       "padding": null,
       "right": null,
       "top": null,
       "visibility": null,
       "width": null
      }
     },
     "c4d8e487c2174733b440dcec1ec2544d": {
      "model_module": "@jupyter-widgets/controls",
      "model_module_version": "2.0.0",
      "model_name": "HTMLModel",
      "state": {
       "_dom_classes": [],
       "_model_module": "@jupyter-widgets/controls",
       "_model_module_version": "2.0.0",
       "_model_name": "HTMLModel",
       "_view_count": null,
       "_view_module": "@jupyter-widgets/controls",
       "_view_module_version": "2.0.0",
       "_view_name": "HTMLView",
       "description": "",
       "description_allow_html": false,
       "layout": "IPY_MODEL_4005a78190c04ded856cae4fc68585b0",
       "placeholder": "​",
       "style": "IPY_MODEL_cd57d0791bc9456d815cb135224d58ae",
       "tabbable": null,
       "tooltip": null,
       "value": "Loading checkpoint shards: 100%"
      }
     },
     "c66349c784674a9385cdaa921fe38445": {
      "model_module": "@jupyter-widgets/base",
      "model_module_version": "2.0.0",
      "model_name": "LayoutModel",
      "state": {
       "_model_module": "@jupyter-widgets/base",
       "_model_module_version": "2.0.0",
       "_model_name": "LayoutModel",
       "_view_count": null,
       "_view_module": "@jupyter-widgets/base",
       "_view_module_version": "2.0.0",
       "_view_name": "LayoutView",
       "align_content": null,
       "align_items": null,
       "align_self": null,
       "border_bottom": null,
       "border_left": null,
       "border_right": null,
       "border_top": null,
       "bottom": null,
       "display": null,
       "flex": null,
       "flex_flow": null,
       "grid_area": null,
       "grid_auto_columns": null,
       "grid_auto_flow": null,
       "grid_auto_rows": null,
       "grid_column": null,
       "grid_gap": null,
       "grid_row": null,
       "grid_template_areas": null,
       "grid_template_columns": null,
       "grid_template_rows": null,
       "height": null,
       "justify_content": null,
       "justify_items": null,
       "left": null,
       "margin": null,
       "max_height": null,
       "max_width": null,
       "min_height": null,
       "min_width": null,
       "object_fit": null,
       "object_position": null,
       "order": null,
       "overflow": null,
       "padding": null,
       "right": null,
       "top": null,
       "visibility": null,
       "width": null
      }
     },
     "c6f9e59b421c4f48a6e218e797ca3600": {
      "model_module": "@jupyter-widgets/base",
      "model_module_version": "2.0.0",
      "model_name": "LayoutModel",
      "state": {
       "_model_module": "@jupyter-widgets/base",
       "_model_module_version": "2.0.0",
       "_model_name": "LayoutModel",
       "_view_count": null,
       "_view_module": "@jupyter-widgets/base",
       "_view_module_version": "2.0.0",
       "_view_name": "LayoutView",
       "align_content": null,
       "align_items": null,
       "align_self": null,
       "border_bottom": null,
       "border_left": null,
       "border_right": null,
       "border_top": null,
       "bottom": null,
       "display": null,
       "flex": null,
       "flex_flow": null,
       "grid_area": null,
       "grid_auto_columns": null,
       "grid_auto_flow": null,
       "grid_auto_rows": null,
       "grid_column": null,
       "grid_gap": null,
       "grid_row": null,
       "grid_template_areas": null,
       "grid_template_columns": null,
       "grid_template_rows": null,
       "height": null,
       "justify_content": null,
       "justify_items": null,
       "left": null,
       "margin": null,
       "max_height": null,
       "max_width": null,
       "min_height": null,
       "min_width": null,
       "object_fit": null,
       "object_position": null,
       "order": null,
       "overflow": null,
       "padding": null,
       "right": null,
       "top": null,
       "visibility": null,
       "width": null
      }
     },
     "c9d71fae4a5744ddbdc9080e81187ad9": {
      "model_module": "@jupyter-widgets/controls",
      "model_module_version": "2.0.0",
      "model_name": "VBoxModel",
      "state": {
       "_dom_classes": [],
       "_model_module": "@jupyter-widgets/controls",
       "_model_module_version": "2.0.0",
       "_model_name": "VBoxModel",
       "_view_count": null,
       "_view_module": "@jupyter-widgets/controls",
       "_view_module_version": "2.0.0",
       "_view_name": "VBoxView",
       "box_style": "",
       "children": [
        "IPY_MODEL_d26b9d1b877341f1825278a746062369",
        "IPY_MODEL_26283ca87aef4c3c9b914b6a2a550409",
        "IPY_MODEL_dc87a526b1c94dd49f1736a2152f08de",
        "IPY_MODEL_52ba1452c75c4375ad9991a0118be1dc",
        "IPY_MODEL_b22850a7525c4b129245b60591d2e3ae"
       ],
       "layout": "IPY_MODEL_a3264d45dcf94a8e862c56d83630148c",
       "tabbable": null,
       "tooltip": null
      }
     },
     "cb1a101c703d42ecb8285a57413611d0": {
      "model_module": "@jupyter-widgets/base",
      "model_module_version": "2.0.0",
      "model_name": "LayoutModel",
      "state": {
       "_model_module": "@jupyter-widgets/base",
       "_model_module_version": "2.0.0",
       "_model_name": "LayoutModel",
       "_view_count": null,
       "_view_module": "@jupyter-widgets/base",
       "_view_module_version": "2.0.0",
       "_view_name": "LayoutView",
       "align_content": null,
       "align_items": null,
       "align_self": null,
       "border_bottom": null,
       "border_left": null,
       "border_right": null,
       "border_top": null,
       "bottom": null,
       "display": null,
       "flex": null,
       "flex_flow": null,
       "grid_area": null,
       "grid_auto_columns": null,
       "grid_auto_flow": null,
       "grid_auto_rows": null,
       "grid_column": null,
       "grid_gap": null,
       "grid_row": null,
       "grid_template_areas": null,
       "grid_template_columns": null,
       "grid_template_rows": null,
       "height": null,
       "justify_content": null,
       "justify_items": null,
       "left": null,
       "margin": null,
       "max_height": null,
       "max_width": null,
       "min_height": null,
       "min_width": null,
       "object_fit": null,
       "object_position": null,
       "order": null,
       "overflow": null,
       "padding": null,
       "right": null,
       "top": null,
       "visibility": null,
       "width": null
      }
     },
     "cd57d0791bc9456d815cb135224d58ae": {
      "model_module": "@jupyter-widgets/controls",
      "model_module_version": "2.0.0",
      "model_name": "HTMLStyleModel",
      "state": {
       "_model_module": "@jupyter-widgets/controls",
       "_model_module_version": "2.0.0",
       "_model_name": "HTMLStyleModel",
       "_view_count": null,
       "_view_module": "@jupyter-widgets/base",
       "_view_module_version": "2.0.0",
       "_view_name": "StyleView",
       "background": null,
       "description_width": "",
       "font_size": null,
       "text_color": null
      }
     },
     "cdca4b018f81499cb9ebffc8b038c6a2": {
      "model_module": "@jupyter-widgets/base",
      "model_module_version": "2.0.0",
      "model_name": "LayoutModel",
      "state": {
       "_model_module": "@jupyter-widgets/base",
       "_model_module_version": "2.0.0",
       "_model_name": "LayoutModel",
       "_view_count": null,
       "_view_module": "@jupyter-widgets/base",
       "_view_module_version": "2.0.0",
       "_view_name": "LayoutView",
       "align_content": null,
       "align_items": null,
       "align_self": null,
       "border_bottom": null,
       "border_left": null,
       "border_right": null,
       "border_top": null,
       "bottom": null,
       "display": null,
       "flex": null,
       "flex_flow": null,
       "grid_area": null,
       "grid_auto_columns": null,
       "grid_auto_flow": null,
       "grid_auto_rows": null,
       "grid_column": null,
       "grid_gap": null,
       "grid_row": null,
       "grid_template_areas": null,
       "grid_template_columns": null,
       "grid_template_rows": null,
       "height": null,
       "justify_content": null,
       "justify_items": null,
       "left": null,
       "margin": null,
       "max_height": null,
       "max_width": null,
       "min_height": null,
       "min_width": null,
       "object_fit": null,
       "object_position": null,
       "order": null,
       "overflow": null,
       "padding": null,
       "right": null,
       "top": null,
       "visibility": null,
       "width": null
      }
     },
     "d24f94f1ae264056b3287c4204f84028": {
      "model_module": "@jupyter-widgets/controls",
      "model_module_version": "2.0.0",
      "model_name": "HBoxModel",
      "state": {
       "_dom_classes": [],
       "_model_module": "@jupyter-widgets/controls",
       "_model_module_version": "2.0.0",
       "_model_name": "HBoxModel",
       "_view_count": null,
       "_view_module": "@jupyter-widgets/controls",
       "_view_module_version": "2.0.0",
       "_view_name": "HBoxView",
       "box_style": "",
       "children": [
        "IPY_MODEL_875bb5ad2f214bcfa06f9859ce5108d0",
        "IPY_MODEL_415e492dfbec4178a16dc2300cf88262",
        "IPY_MODEL_67c5ee472f3a4d56a0c9af87c5b22796"
       ],
       "layout": "IPY_MODEL_cdca4b018f81499cb9ebffc8b038c6a2",
       "tabbable": null,
       "tooltip": null
      }
     },
     "d26b9d1b877341f1825278a746062369": {
      "model_module": "@jupyter-widgets/controls",
      "model_module_version": "2.0.0",
      "model_name": "HTMLModel",
      "state": {
       "_dom_classes": [],
       "_model_module": "@jupyter-widgets/controls",
       "_model_module_version": "2.0.0",
       "_model_name": "HTMLModel",
       "_view_count": null,
       "_view_module": "@jupyter-widgets/controls",
       "_view_module_version": "2.0.0",
       "_view_name": "HTMLView",
       "description": "",
       "description_allow_html": false,
       "layout": "IPY_MODEL_4c117d88c35244d6ae9593ea7f7c3701",
       "placeholder": "​",
       "style": "IPY_MODEL_fd646cc9453f49b49b02142fec5abe33",
       "tabbable": null,
       "tooltip": null,
       "value": "<center> <img\nsrc=https://huggingface.co/front/assets/huggingface_logo-noborder.svg\nalt='Hugging Face'> <br> Copy a token from <a\nhref=\"https://huggingface.co/settings/tokens\" target=\"_blank\">your Hugging Face\ntokens page</a> and paste it below. <br> Immediately click login after copying\nyour token or it might be stored in plain text in this notebook file. </center>"
      }
     },
     "d5ab98fd60634d909e3b8bb1eba2dae2": {
      "model_module": "@jupyter-widgets/controls",
      "model_module_version": "2.0.0",
      "model_name": "ProgressStyleModel",
      "state": {
       "_model_module": "@jupyter-widgets/controls",
       "_model_module_version": "2.0.0",
       "_model_name": "ProgressStyleModel",
       "_view_count": null,
       "_view_module": "@jupyter-widgets/base",
       "_view_module_version": "2.0.0",
       "_view_name": "StyleView",
       "bar_color": null,
       "description_width": ""
      }
     },
     "d625d08e99354c55bedfc45841adbd0d": {
      "model_module": "@jupyter-widgets/controls",
      "model_module_version": "2.0.0",
      "model_name": "HTMLStyleModel",
      "state": {
       "_model_module": "@jupyter-widgets/controls",
       "_model_module_version": "2.0.0",
       "_model_name": "HTMLStyleModel",
       "_view_count": null,
       "_view_module": "@jupyter-widgets/base",
       "_view_module_version": "2.0.0",
       "_view_name": "StyleView",
       "background": null,
       "description_width": "",
       "font_size": null,
       "text_color": null
      }
     },
     "d697f688fa924fe09193860e0a675160": {
      "model_module": "@jupyter-widgets/controls",
      "model_module_version": "2.0.0",
      "model_name": "HTMLModel",
      "state": {
       "_dom_classes": [],
       "_model_module": "@jupyter-widgets/controls",
       "_model_module_version": "2.0.0",
       "_model_name": "HTMLModel",
       "_view_count": null,
       "_view_module": "@jupyter-widgets/controls",
       "_view_module_version": "2.0.0",
       "_view_name": "HTMLView",
       "description": "",
       "description_allow_html": false,
       "layout": "IPY_MODEL_8c95cddc276a4a2797f8ea3cc5389d33",
       "placeholder": "​",
       "style": "IPY_MODEL_b30a7fe5c7fb48689723f9eaecec5f89",
       "tabbable": null,
       "tooltip": null,
       "value": " 2/2 [02:47&lt;00:00, 73.92s/it]"
      }
     },
     "dc87a526b1c94dd49f1736a2152f08de": {
      "model_module": "@jupyter-widgets/controls",
      "model_module_version": "2.0.0",
      "model_name": "CheckboxModel",
      "state": {
       "_dom_classes": [],
       "_model_module": "@jupyter-widgets/controls",
       "_model_module_version": "2.0.0",
       "_model_name": "CheckboxModel",
       "_view_count": null,
       "_view_module": "@jupyter-widgets/controls",
       "_view_module_version": "2.0.0",
       "_view_name": "CheckboxView",
       "description": "Add token as git credential?",
       "description_allow_html": false,
       "disabled": false,
       "indent": true,
       "layout": "IPY_MODEL_71aadbfd993943d8a13ab8297a11709f",
       "style": "IPY_MODEL_ed7e134c0c77464ea1275eae850ceff2",
       "tabbable": null,
       "tooltip": null,
       "value": true
      }
     },
     "dc9853b0119e479097d69b483fa7acb0": {
      "model_module": "@jupyter-widgets/base",
      "model_module_version": "2.0.0",
      "model_name": "LayoutModel",
      "state": {
       "_model_module": "@jupyter-widgets/base",
       "_model_module_version": "2.0.0",
       "_model_name": "LayoutModel",
       "_view_count": null,
       "_view_module": "@jupyter-widgets/base",
       "_view_module_version": "2.0.0",
       "_view_name": "LayoutView",
       "align_content": null,
       "align_items": null,
       "align_self": null,
       "border_bottom": null,
       "border_left": null,
       "border_right": null,
       "border_top": null,
       "bottom": null,
       "display": null,
       "flex": null,
       "flex_flow": null,
       "grid_area": null,
       "grid_auto_columns": null,
       "grid_auto_flow": null,
       "grid_auto_rows": null,
       "grid_column": null,
       "grid_gap": null,
       "grid_row": null,
       "grid_template_areas": null,
       "grid_template_columns": null,
       "grid_template_rows": null,
       "height": null,
       "justify_content": null,
       "justify_items": null,
       "left": null,
       "margin": null,
       "max_height": null,
       "max_width": null,
       "min_height": null,
       "min_width": null,
       "object_fit": null,
       "object_position": null,
       "order": null,
       "overflow": null,
       "padding": null,
       "right": null,
       "top": null,
       "visibility": null,
       "width": null
      }
     },
     "e17778ee533747cd9a03d33ccd64a86a": {
      "model_module": "@jupyter-widgets/base",
      "model_module_version": "2.0.0",
      "model_name": "LayoutModel",
      "state": {
       "_model_module": "@jupyter-widgets/base",
       "_model_module_version": "2.0.0",
       "_model_name": "LayoutModel",
       "_view_count": null,
       "_view_module": "@jupyter-widgets/base",
       "_view_module_version": "2.0.0",
       "_view_name": "LayoutView",
       "align_content": null,
       "align_items": null,
       "align_self": null,
       "border_bottom": null,
       "border_left": null,
       "border_right": null,
       "border_top": null,
       "bottom": null,
       "display": null,
       "flex": null,
       "flex_flow": null,
       "grid_area": null,
       "grid_auto_columns": null,
       "grid_auto_flow": null,
       "grid_auto_rows": null,
       "grid_column": null,
       "grid_gap": null,
       "grid_row": null,
       "grid_template_areas": null,
       "grid_template_columns": null,
       "grid_template_rows": null,
       "height": null,
       "justify_content": null,
       "justify_items": null,
       "left": null,
       "margin": null,
       "max_height": null,
       "max_width": null,
       "min_height": null,
       "min_width": null,
       "object_fit": null,
       "object_position": null,
       "order": null,
       "overflow": null,
       "padding": null,
       "right": null,
       "top": null,
       "visibility": null,
       "width": null
      }
     },
     "e4624eb8cc3f4a23b451aa43729de2db": {
      "model_module": "@jupyter-widgets/base",
      "model_module_version": "2.0.0",
      "model_name": "LayoutModel",
      "state": {
       "_model_module": "@jupyter-widgets/base",
       "_model_module_version": "2.0.0",
       "_model_name": "LayoutModel",
       "_view_count": null,
       "_view_module": "@jupyter-widgets/base",
       "_view_module_version": "2.0.0",
       "_view_name": "LayoutView",
       "align_content": null,
       "align_items": null,
       "align_self": null,
       "border_bottom": null,
       "border_left": null,
       "border_right": null,
       "border_top": null,
       "bottom": null,
       "display": null,
       "flex": null,
       "flex_flow": null,
       "grid_area": null,
       "grid_auto_columns": null,
       "grid_auto_flow": null,
       "grid_auto_rows": null,
       "grid_column": null,
       "grid_gap": null,
       "grid_row": null,
       "grid_template_areas": null,
       "grid_template_columns": null,
       "grid_template_rows": null,
       "height": null,
       "justify_content": null,
       "justify_items": null,
       "left": null,
       "margin": null,
       "max_height": null,
       "max_width": null,
       "min_height": null,
       "min_width": null,
       "object_fit": null,
       "object_position": null,
       "order": null,
       "overflow": null,
       "padding": null,
       "right": null,
       "top": null,
       "visibility": null,
       "width": null
      }
     },
     "e73ae3d0d52d4633ba94dbc74457a083": {
      "model_module": "@jupyter-widgets/base",
      "model_module_version": "2.0.0",
      "model_name": "LayoutModel",
      "state": {
       "_model_module": "@jupyter-widgets/base",
       "_model_module_version": "2.0.0",
       "_model_name": "LayoutModel",
       "_view_count": null,
       "_view_module": "@jupyter-widgets/base",
       "_view_module_version": "2.0.0",
       "_view_name": "LayoutView",
       "align_content": null,
       "align_items": null,
       "align_self": null,
       "border_bottom": null,
       "border_left": null,
       "border_right": null,
       "border_top": null,
       "bottom": null,
       "display": null,
       "flex": null,
       "flex_flow": null,
       "grid_area": null,
       "grid_auto_columns": null,
       "grid_auto_flow": null,
       "grid_auto_rows": null,
       "grid_column": null,
       "grid_gap": null,
       "grid_row": null,
       "grid_template_areas": null,
       "grid_template_columns": null,
       "grid_template_rows": null,
       "height": null,
       "justify_content": null,
       "justify_items": null,
       "left": null,
       "margin": null,
       "max_height": null,
       "max_width": null,
       "min_height": null,
       "min_width": null,
       "object_fit": null,
       "object_position": null,
       "order": null,
       "overflow": null,
       "padding": null,
       "right": null,
       "top": null,
       "visibility": null,
       "width": null
      }
     },
     "e96d1ae2c614499b996e2bc4df7bd44b": {
      "model_module": "@jupyter-widgets/base",
      "model_module_version": "2.0.0",
      "model_name": "LayoutModel",
      "state": {
       "_model_module": "@jupyter-widgets/base",
       "_model_module_version": "2.0.0",
       "_model_name": "LayoutModel",
       "_view_count": null,
       "_view_module": "@jupyter-widgets/base",
       "_view_module_version": "2.0.0",
       "_view_name": "LayoutView",
       "align_content": null,
       "align_items": null,
       "align_self": null,
       "border_bottom": null,
       "border_left": null,
       "border_right": null,
       "border_top": null,
       "bottom": null,
       "display": null,
       "flex": null,
       "flex_flow": null,
       "grid_area": null,
       "grid_auto_columns": null,
       "grid_auto_flow": null,
       "grid_auto_rows": null,
       "grid_column": null,
       "grid_gap": null,
       "grid_row": null,
       "grid_template_areas": null,
       "grid_template_columns": null,
       "grid_template_rows": null,
       "height": null,
       "justify_content": null,
       "justify_items": null,
       "left": null,
       "margin": null,
       "max_height": null,
       "max_width": null,
       "min_height": null,
       "min_width": null,
       "object_fit": null,
       "object_position": null,
       "order": null,
       "overflow": null,
       "padding": null,
       "right": null,
       "top": null,
       "visibility": null,
       "width": null
      }
     },
     "ed7e134c0c77464ea1275eae850ceff2": {
      "model_module": "@jupyter-widgets/controls",
      "model_module_version": "2.0.0",
      "model_name": "CheckboxStyleModel",
      "state": {
       "_model_module": "@jupyter-widgets/controls",
       "_model_module_version": "2.0.0",
       "_model_name": "CheckboxStyleModel",
       "_view_count": null,
       "_view_module": "@jupyter-widgets/base",
       "_view_module_version": "2.0.0",
       "_view_name": "StyleView",
       "background": null,
       "description_width": ""
      }
     },
     "effe400a4d27484bbc10367d88d99ea5": {
      "model_module": "@jupyter-widgets/controls",
      "model_module_version": "2.0.0",
      "model_name": "HTMLStyleModel",
      "state": {
       "_model_module": "@jupyter-widgets/controls",
       "_model_module_version": "2.0.0",
       "_model_name": "HTMLStyleModel",
       "_view_count": null,
       "_view_module": "@jupyter-widgets/base",
       "_view_module_version": "2.0.0",
       "_view_name": "StyleView",
       "background": null,
       "description_width": "",
       "font_size": null,
       "text_color": null
      }
     },
     "f1af4e7100c8477f8ab332d78344fcce": {
      "model_module": "@jupyter-widgets/base",
      "model_module_version": "2.0.0",
      "model_name": "LayoutModel",
      "state": {
       "_model_module": "@jupyter-widgets/base",
       "_model_module_version": "2.0.0",
       "_model_name": "LayoutModel",
       "_view_count": null,
       "_view_module": "@jupyter-widgets/base",
       "_view_module_version": "2.0.0",
       "_view_name": "LayoutView",
       "align_content": null,
       "align_items": null,
       "align_self": null,
       "border_bottom": null,
       "border_left": null,
       "border_right": null,
       "border_top": null,
       "bottom": null,
       "display": null,
       "flex": null,
       "flex_flow": null,
       "grid_area": null,
       "grid_auto_columns": null,
       "grid_auto_flow": null,
       "grid_auto_rows": null,
       "grid_column": null,
       "grid_gap": null,
       "grid_row": null,
       "grid_template_areas": null,
       "grid_template_columns": null,
       "grid_template_rows": null,
       "height": null,
       "justify_content": null,
       "justify_items": null,
       "left": null,
       "margin": null,
       "max_height": null,
       "max_width": null,
       "min_height": null,
       "min_width": null,
       "object_fit": null,
       "object_position": null,
       "order": null,
       "overflow": null,
       "padding": null,
       "right": null,
       "top": null,
       "visibility": null,
       "width": null
      }
     },
     "f24c028f0e6f47c3882a0048a6e17450": {
      "model_module": "@jupyter-widgets/controls",
      "model_module_version": "2.0.0",
      "model_name": "ProgressStyleModel",
      "state": {
       "_model_module": "@jupyter-widgets/controls",
       "_model_module_version": "2.0.0",
       "_model_name": "ProgressStyleModel",
       "_view_count": null,
       "_view_module": "@jupyter-widgets/base",
       "_view_module_version": "2.0.0",
       "_view_name": "StyleView",
       "bar_color": null,
       "description_width": ""
      }
     },
     "f4c145efb46a432895efd293771c6576": {
      "model_module": "@jupyter-widgets/controls",
      "model_module_version": "2.0.0",
      "model_name": "HTMLModel",
      "state": {
       "_dom_classes": [],
       "_model_module": "@jupyter-widgets/controls",
       "_model_module_version": "2.0.0",
       "_model_name": "HTMLModel",
       "_view_count": null,
       "_view_module": "@jupyter-widgets/controls",
       "_view_module_version": "2.0.0",
       "_view_name": "HTMLView",
       "description": "",
       "description_allow_html": false,
       "layout": "IPY_MODEL_7af23aa67a0a4ac1826f57fe6fb43d46",
       "placeholder": "​",
       "style": "IPY_MODEL_48a3bbc26add4f8a9b9c8bcc03a2eabd",
       "tabbable": null,
       "tooltip": null,
       "value": "Map: 100%"
      }
     },
     "f632191a3bce4325977f79cce6ff7017": {
      "model_module": "@jupyter-widgets/base",
      "model_module_version": "2.0.0",
      "model_name": "LayoutModel",
      "state": {
       "_model_module": "@jupyter-widgets/base",
       "_model_module_version": "2.0.0",
       "_model_name": "LayoutModel",
       "_view_count": null,
       "_view_module": "@jupyter-widgets/base",
       "_view_module_version": "2.0.0",
       "_view_name": "LayoutView",
       "align_content": null,
       "align_items": null,
       "align_self": null,
       "border_bottom": null,
       "border_left": null,
       "border_right": null,
       "border_top": null,
       "bottom": null,
       "display": null,
       "flex": null,
       "flex_flow": null,
       "grid_area": null,
       "grid_auto_columns": null,
       "grid_auto_flow": null,
       "grid_auto_rows": null,
       "grid_column": null,
       "grid_gap": null,
       "grid_row": null,
       "grid_template_areas": null,
       "grid_template_columns": null,
       "grid_template_rows": null,
       "height": null,
       "justify_content": null,
       "justify_items": null,
       "left": null,
       "margin": null,
       "max_height": null,
       "max_width": null,
       "min_height": null,
       "min_width": null,
       "object_fit": null,
       "object_position": null,
       "order": null,
       "overflow": null,
       "padding": null,
       "right": null,
       "top": null,
       "visibility": null,
       "width": null
      }
     },
     "f7576817be7f463a9f37938f7d0e362a": {
      "model_module": "@jupyter-widgets/controls",
      "model_module_version": "2.0.0",
      "model_name": "HTMLModel",
      "state": {
       "_dom_classes": [],
       "_model_module": "@jupyter-widgets/controls",
       "_model_module_version": "2.0.0",
       "_model_name": "HTMLModel",
       "_view_count": null,
       "_view_module": "@jupyter-widgets/controls",
       "_view_module_version": "2.0.0",
       "_view_name": "HTMLView",
       "description": "",
       "description_allow_html": false,
       "layout": "IPY_MODEL_4208c25879e14d2d9a619e549a2b16c4",
       "placeholder": "​",
       "style": "IPY_MODEL_27e2786544504a48bb5ff0943f1f5a6c",
       "tabbable": null,
       "tooltip": null,
       "value": "Map: 100%"
      }
     },
     "f7bc4eef14ff4a9d8b3f27057ac68891": {
      "model_module": "@jupyter-widgets/controls",
      "model_module_version": "2.0.0",
      "model_name": "HTMLModel",
      "state": {
       "_dom_classes": [],
       "_model_module": "@jupyter-widgets/controls",
       "_model_module_version": "2.0.0",
       "_model_name": "HTMLModel",
       "_view_count": null,
       "_view_module": "@jupyter-widgets/controls",
       "_view_module_version": "2.0.0",
       "_view_name": "HTMLView",
       "description": "",
       "description_allow_html": false,
       "layout": "IPY_MODEL_f1af4e7100c8477f8ab332d78344fcce",
       "placeholder": "​",
       "style": "IPY_MODEL_effe400a4d27484bbc10367d88d99ea5",
       "tabbable": null,
       "tooltip": null,
       "value": " 66/66 [00:00&lt;00:00, 698.89 examples/s]"
      }
     },
     "fcba9e5077f34d6592751a9122842020": {
      "model_module": "@jupyter-widgets/controls",
      "model_module_version": "2.0.0",
      "model_name": "HTMLStyleModel",
      "state": {
       "_model_module": "@jupyter-widgets/controls",
       "_model_module_version": "2.0.0",
       "_model_name": "HTMLStyleModel",
       "_view_count": null,
       "_view_module": "@jupyter-widgets/base",
       "_view_module_version": "2.0.0",
       "_view_name": "StyleView",
       "background": null,
       "description_width": "",
       "font_size": null,
       "text_color": null
      }
     },
     "fcdd4de90d6d49248b3ce6815cc09e4c": {
      "model_module": "@jupyter-widgets/controls",
      "model_module_version": "2.0.0",
      "model_name": "FloatProgressModel",
      "state": {
       "_dom_classes": [],
       "_model_module": "@jupyter-widgets/controls",
       "_model_module_version": "2.0.0",
       "_model_name": "FloatProgressModel",
       "_view_count": null,
       "_view_module": "@jupyter-widgets/controls",
       "_view_module_version": "2.0.0",
       "_view_name": "ProgressView",
       "bar_style": "success",
       "description": "",
       "description_allow_html": false,
       "layout": "IPY_MODEL_a67167962fab405ebebbac978f6e9305",
       "max": 524,
       "min": 0,
       "orientation": "horizontal",
       "style": "IPY_MODEL_d5ab98fd60634d909e3b8bb1eba2dae2",
       "tabbable": null,
       "tooltip": null,
       "value": 524
      }
     },
     "fd646cc9453f49b49b02142fec5abe33": {
      "model_module": "@jupyter-widgets/controls",
      "model_module_version": "2.0.0",
      "model_name": "HTMLStyleModel",
      "state": {
       "_model_module": "@jupyter-widgets/controls",
       "_model_module_version": "2.0.0",
       "_model_name": "HTMLStyleModel",
       "_view_count": null,
       "_view_module": "@jupyter-widgets/base",
       "_view_module_version": "2.0.0",
       "_view_name": "StyleView",
       "background": null,
       "description_width": "",
       "font_size": null,
       "text_color": null
      }
     }
    },
    "version_major": 2,
    "version_minor": 0
   }
  }
 },
 "nbformat": 4,
 "nbformat_minor": 2
}
