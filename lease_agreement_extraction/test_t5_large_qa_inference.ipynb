{
 "cells": [
  {
   "cell_type": "markdown",
   "metadata": {},
   "source": [
    "# Testing Inference time for QA with Flan T5 Large"
   ]
  },
  {
   "cell_type": "code",
   "execution_count": 1,
   "metadata": {},
   "outputs": [
    {
     "name": "stdout",
     "output_type": "stream",
     "text": [
      "Note: you may need to restart the kernel to use updated packages.\n"
     ]
    }
   ],
   "source": [
    "%pip install torch transformers sentencepiece -q"
   ]
  },
  {
   "cell_type": "code",
   "execution_count": 2,
   "metadata": {},
   "outputs": [],
   "source": [
    "OCR_TEXT = \"\"\"\n",
    "RENEWAL LEASE FORM Owners and Tenants should read INSTRUCTIONS TO OWNER and INSTRUCTIONS TO TENANT on reverse side before filling out or signing this form THIS IS A NOTICE FOR RENEWAL OF LEASE AND RENEWAL LEASE FORM ISSUED UNDER SECTION 2523.5(a) OF THE RENT STABILIZATION CODE. ALL COPIES OF THIS FORM MUST BE SIGNED BELOW AND RETURNED TO YOUR LANDLORD WITHIN 60 DAYS.\n",
    "Dated: MARCH 9, 20 22\n",
    "Tenant's Name(s) and Address: Jorge PizARRO DIANA PRADO, JEORGE PIZARRO\n",
    "& MICHAEL MOLINA\n",
    "Owner's /Agent's Name and Address:\n",
    "MICHAEL FALCO\n",
    "8 OAK LANE DOUGLASTON, N.Y. 11363\n",
    "/1\n",
    "104-50 102nd STREET APT: 2-B OZONE PARK, NEW YORK 11417\n",
    "1. The owner hereby notifies you that your lease\n",
    "will expire on: MAY /31, /2022\n",
    "EXCELSIOR\n",
    "2. You may renew this lease, for one or two years, at your option, as follows:\n",
    "Column A Renewal Term\n",
    "Column B Legal Rent on Sept.30th Preceding Commencement Date of this Renewal Lease\n",
    "Column C Guideline % or Minimum $ Amount (If unknown, check box and see below)* :unselected:\n",
    "Column D Applicable Guideline Supplement, if any\n",
    "Column E Lawful Rent Increase, if any, Effective after Sept. 30th\n",
    "Column F New Legal Rent (If a lower rent is to be charged, check box and see item 5 below) :unselected:\n",
    "1 Year\n",
    "$ 1,461.04\n",
    "( 1 %) $ 21.91\n",
    "$\n",
    "$\n",
    "$ 1,482.95\n",
    "2 Years\n",
    "Same as above\n",
    "( 22 %) $ 36.52\n",
    "$\n",
    "$\n",
    "$ 1,497.56\n",
    "* If applicable guideline rate is unknown at time offer is made, check box in Column C and enter current guideline which will be subject to adjustment when rates are ordered.\n",
    "Additional Deposit Required - 1 year lease: $ 18. 16 Additional Deposit Required - 2 year lease: $ 30 28\n",
    "3. Security Deposit:\n",
    "Current Deposit: $ 1, 211.24\n",
    "4. Specify separate charges, if applicable:\n",
    "a. Air conditioner : $\n",
    "b. Appliances : $\n",
    "c. 421a (2.2%): $ $\n",
    "d. Other:\n",
    "Total separate charges: $ :selected:\n",
    "5. Lower Rent to be charged, if any. 1 year lease $1, 229. 40 2 year lease $1, 241. 52Agreement attached: Yes\n",
    "6. Tenant shall pay a monthly rent (enter amount from 2F or 5) of $ for a 1 year renewal or $\n",
    "2 year renewal, plus total separate charges (enter amount from 4) $ for a total monthly payment of $ \" for a 1 year renewal or $ for a 2 year renewal. :unselected: No\n",
    "for a\n",
    "7. This renewal lease shall commence on JUNE 1, 2022 , which shall not be less than 90 days nor more than 150 days from the date of mailing or personal-delivery of this Renewal Lease Form. This Renewal Lease shall terminate on MAY 31 ,2023 (1 year lease) or MAY 31, 2024 (2 year) lease).\n",
    "8. This renewal lease is based on the same terms and conditions as your expiring lease. (See instructions about additional provisions.)\n",
    "9. SCRIE and DRIE. Owner and Tenant acknowledge that, as of the date of this renewal, Tenant is entitled to pay a reduced monthly rent in the amount of $ under the New York City SCRIE program or the New York City DRIE program. The reduced rent may be adjusted by orders of such program. :unselected: 10. Leased premises does\n",
    ", does not :selected: have an operative sprinkler system. If operative, it was last maintained and inspected\n",
    "This form becomes a binding lease renewal when signed by the owner below and returned to the tenant. A rider setting forth the rights and obligations of tenants and owners under the Rent Stabilization Law must be attached to this lease when signed by the owner and returned to the tenant. The rent, separate charges and total payment provided for in this renewal lease may be increased or decreased by order or annual updates of the Division of Housing and Community Renewal (DHCR) or the Rent Guidelines Board (RGB).\n",
    "Tenant: Check and complete where indicated one of three responses below after reading instructions on reverse side. Then date and sign your response below. You must return this Renewal Lease Form to the owner in person or by regular mail, within 60 days of the date this Notice was served upon you by the owner. Your failure to do so may be grounds for the commencement of an action by the owner to evict you from your apartment. :unselected: I (we), the undersigned Tenant(s), accept the offer of a one (1) year renewal lease at a monthly rent of $ :selected: I (we), the undersigned Tenants(s), accept the offer of a two (2) year renewal lease at a monthly rent of $\n",
    "plus separate charges of $\n",
    "for a total monthly payment of $\n",
    "plus separate charges of $\n",
    "for a total monthly payment of $\n",
    "1241.52 :unselected: I (we) will not renew my (our) lease and I (we) intend to vacate the apartment on the expiration date of the current lease.\n",
    "Dated:\n",
    "3/19\n",
    "Dated:\n",
    "3/9\n",
    "20.22\n",
    "2022\n",
    "RTP-8 (9/19)\n",
    "Tenant's Signature(s):\n",
    "Stadio\n",
    "Owner's Signature(s):\n",
    "Utekaeltolsa :selected: :selected:\n",
    "\"\"\""
   ]
  },
  {
   "cell_type": "code",
   "execution_count": 3,
   "metadata": {},
   "outputs": [
    {
     "name": "stderr",
     "output_type": "stream",
     "text": [
      "You are using the default legacy behaviour of the <class 'transformers.models.t5.tokenization_t5.T5Tokenizer'>. This is expected, and simply means that the `legacy` (previous) behavior will be used so nothing changes for you. If you want to use the new behaviour, set `legacy=False`. This should only be set if you understand what it means, and thoroughly read the reason why this was added as explained in https://github.com/huggingface/transformers/pull/24565\n",
      "/home/aryaniyaps/velocius-ai/leaseaudit-model-training/.venv/lib/python3.12/site-packages/transformers/tokenization_utils_base.py:1601: FutureWarning: `clean_up_tokenization_spaces` was not set. It will be set to `True` by default. This behavior will be depracted in transformers v4.45, and will be then set to `False` by default. For more details check this issue: https://github.com/huggingface/transformers/issues/31884\n",
      "  warnings.warn(\n"
     ]
    }
   ],
   "source": [
    "# Install necessary libraries if not already installed\n",
    "# !pip install torch transformers\n",
    "\n",
    "from transformers import T5Tokenizer, T5ForConditionalGeneration, pipeline\n",
    "import torch\n",
    "import time\n",
    "\n",
    "# Load the model and tokenizer\n",
    "model_name = \"google/flan-t5-large\"\n",
    "tokenizer = T5Tokenizer.from_pretrained(model_name)\n",
    "model = T5ForConditionalGeneration.from_pretrained(model_name)\n",
    "\n",
    "# Move the model to GPU if available\n",
    "device = torch.device(\"cuda\" if torch.cuda.is_available() else \"cpu\")\n",
    "model = model.to(device)\n",
    "\n",
    "# Use the pipeline for text generation\n",
    "generator = pipeline(\"text2text-generation\", model=model, tokenizer=tokenizer, device=device)\n"
   ]
  },
  {
   "cell_type": "code",
   "execution_count": 4,
   "metadata": {},
   "outputs": [
    {
     "name": "stdout",
     "output_type": "stream",
     "text": [
      "Prompt 1: Q: Given the following context, extract the tenant names:\n",
      "Output 1: Jorge PizARRO DIANA PRADO, JEORGE PIZARRO & MICHAEL MOLINA\n",
      "\n",
      "Prompt 2: Q: Given the following context, extract the complete address of the unit where the tenant resides:\n",
      "Output 2: 8 OAK LANE DOUGLASTON, N.Y. 11363 /1 104-50 102nd STREET APT: 2-B OZONE PARK, NEW YORK 11417\n",
      "\n",
      "Prompt 3: Q: Given the following context, extract the unit number:\n",
      "Output 3: 11363\n",
      "\n",
      "Prompt 4: Q: Given the following context, determine the unit type (e.g., apartment, suite, etc.):\n",
      "Output 4: Lease\n",
      "\n",
      "Prompt 5: Q: Given the following context, extract the agreement date:\n",
      "Output 5: MARCH 9, 20 22\n",
      "\n",
      "Prompt 6: Q: Given the following context, extract the lease start date:\n",
      "Output 6: MARCH 9, 20 22\n",
      "\n",
      "Prompt 7: Q: Given the following context, extract the lease end date:\n",
      "Output 7: MAY /31, /2022\n",
      "\n",
      "Prompt 8: Q: Given the following context, identify if the lease has an auto-renewal clause:\n",
      "Output 8: Yes\n",
      "\n",
      "Prompt 9: Q: Given the following context, extract the hourly rate, if applicable:\n",
      "Output 9: $ 36.52\n",
      "\n",
      "Prompt 10: Q: Given the following context, extract the monthly rent amount:\n",
      "Output 10: $ 1,461.04\n",
      "\n",
      "Prompt 11: Q: Given the following context, identify and extract any prorated rent amounts:\n",
      "Output 11: Column A Renewal Term Column B Legal Rent on Sept.30th Preceding Commencement Date of this Renewal Lease Column C Guideline % or Minimum $ Amount (If unknown, check box and see below)* :unselected: Column D Applicable Guideline Supplement, if any Column E Lawful Rent Increase, if any, Effective after Sept. 30th Column F New Legal Rent (If a lower rent is\n",
      "\n",
      "Prompt 12: Q: Given the following context, extract the security deposit amount:\n",
      "Output 12: $ 18.16\n",
      "\n",
      "Prompt 13: Q: Given the following context, extract the lawful lease rent amount:\n",
      "Output 13: 1 Year $ 1,461.04 ( 1 %) $ 21.91 $ $ $ 1,482.95 2 Years Same as above ( 22 %) $ 36.52 $ $ $ 1,497.56\n",
      "\n",
      "Prompt 14: Q: Given the following context, extract the breakdown of the monthly payment including rent and separate charges:\n",
      "Output 14: Column A Monthly Payment - Column B Monthly Payment - Column C Monthly Payment - Column D Monthly Payment - Column E Monthly Payment - Column F Monthly Payment - Column G Monthly Payment - Column H Monthly Payment - Column I Monthly Payment - Column J Monthly Payment - Column K Monthly Payment - Column L Monthly Payment - Column M Monthly Payment - Column N Monthly Payment - Column O Monthly Payment - Column P Monthly Payment - Column Q Monthly\n",
      "\n",
      "Prompt 15: Q: Given the following context, extract any utility charges, if applicable:\n",
      "Output 15: Utility charges, if applicable\n",
      "\n",
      "Total Inference Time for 15 Prompts: 21.9950 seconds\n"
     ]
    }
   ],
   "source": [
    "# Define a batch of 15 prompts\n",
    "prompts = [\n",
    "    f\"Q: Given the following context, extract the tenant names:\\nContext: {OCR_TEXT}\\n A:\",\n",
    "    f\"Q: Given the following context, extract the complete address of the unit where the tenant resides:\\nContext: {OCR_TEXT}\\n A:\",\n",
    "    f\"Q: Given the following context, extract the unit number:\\nContext: {OCR_TEXT}\\n A:\",\n",
    "    f\"Q: Given the following context, determine the unit type (e.g., apartment, suite, etc.):\\nContext: {OCR_TEXT}\\n A:\",\n",
    "    f\"Q: Given the following context, extract the agreement date:\\nContext: {OCR_TEXT}\\n A:\",\n",
    "    f\"Q: Given the following context, extract the lease start date:\\nContext: {OCR_TEXT}\\n A:\",\n",
    "    f\"Q: Given the following context, extract the lease end date:\\nContext: {OCR_TEXT}\\n A:\",\n",
    "    f\"Q: Given the following context, identify if the lease has an auto-renewal clause:\\nContext: {OCR_TEXT}\\n A:\",\n",
    "    f\"Q: Given the following context, extract the hourly rate, if applicable:\\nContext: {OCR_TEXT}\\n A:\",\n",
    "    f\"Q: Given the following context, extract the monthly rent amount:\\nContext: {OCR_TEXT}\\n A:\",\n",
    "    f\"Q: Given the following context, identify and extract any prorated rent amounts:\\nContext: {OCR_TEXT}\\n A:\",\n",
    "    f\"Q: Given the following context, extract the security deposit amount:\\nContext: {OCR_TEXT}\\n A:\",\n",
    "    f\"Q: Given the following context, extract the lawful lease rent amount:\\nContext: {OCR_TEXT}\\n A:\",\n",
    "    f\"Q: Given the following context, extract the breakdown of the monthly payment including rent and separate charges:\\nContext: {OCR_TEXT}\\n A:\",\n",
    "    f\"Q: Given the following context, extract any utility charges, if applicable:\\nContext: {OCR_TEXT}\\n A:\"\n",
    "]\n",
    "\n",
    "# Start timing the batch inference\n",
    "start_time = time.time()\n",
    "\n",
    "# Generate outputs for the batch of prompts using the pipeline\n",
    "with torch.inference_mode():\n",
    "    outputs = generator(prompts, max_length=100, truncation=True)\n",
    "\n",
    "# End timing the inference\n",
    "end_time = time.time()\n",
    "\n",
    "# Display the outputs and the time taken for inference\n",
    "for i, output in enumerate(outputs):\n",
    "    print(f\"Prompt {i+1}: {prompts[i].split('\\n')[0]}\")\n",
    "    print(f\"Output {i+1}: {output['generated_text']}\")\n",
    "    print()\n",
    "\n",
    "print(f\"Total Inference Time for 15 Prompts: {end_time - start_time:.4f} seconds\")\n"
   ]
  }
 ],
 "metadata": {
  "kernelspec": {
   "display_name": ".venv",
   "language": "python",
   "name": "python3"
  },
  "language_info": {
   "codemirror_mode": {
    "name": "ipython",
    "version": 3
   },
   "file_extension": ".py",
   "mimetype": "text/x-python",
   "name": "python",
   "nbconvert_exporter": "python",
   "pygments_lexer": "ipython3",
   "version": "3.12.4"
  }
 },
 "nbformat": 4,
 "nbformat_minor": 2
}
